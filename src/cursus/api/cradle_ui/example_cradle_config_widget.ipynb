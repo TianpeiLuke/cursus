{
 "cells": [
  {
   "cell_type": "markdown",
   "metadata": {},
   "source": [
    "# Cradle Data Load Configuration - Interactive UI Widget Example\n",
    "\n",
    "This notebook demonstrates how to use the Cradle Config Widget to replace manual configuration blocks with an interactive UI.\n",
    "\n",
    "## 🎯 What This Notebook Does\n",
    "\n",
    "1. **Automatically starts the Cradle UI server** (self-contained)\n",
    "2. Sets up a basic pipeline configuration\n",
    "3. Creates an interactive UI widget for Cradle data loading configuration\n",
    "4. Generates a `CradleDataLoadConfig` object that can be used in your pipeline\n",
    "5. Shows how to add the config to your `config_list`\n",
    "6. Demonstrates creating multiple configurations **one at a time**\n",
    "\n",
    "## 📋 Prerequisites\n",
    "\n",
    "- Required packages: `ipywidgets`, `requests`, `uvicorn`\n",
    "- **No manual server setup required** - this notebook handles it automatically!"
   ]
  },
  {
   "cell_type": "markdown",
   "metadata": {},
   "source": [
    "## Step 1: Setup and Imports"
   ]
  },
  {
   "cell_type": "code",
   "execution_count": 1,
   "metadata": {},
   "outputs": [
    {
     "name": "stdout",
     "output_type": "stream",
     "text": [
      "✅ Imports and path setup complete\n"
     ]
    }
   ],
   "source": [
    "# Standard imports\n",
    "import sys\n",
    "from pathlib import Path\n",
    "import json\n",
    "from datetime import datetime\n",
    "import subprocess\n",
    "import time\n",
    "import requests\n",
    "import threading\n",
    "import atexit\n",
    "\n",
    "# Add project root to path\n",
    "project_root = str(Path().absolute().parent.parent.parent)\n",
    "if project_root not in sys.path:\n",
    "    sys.path.insert(0, project_root)\n",
    "    print(f\"Added project root to path: {project_root}\")\n",
    "\n",
    "print(\"✅ Imports and path setup complete\")"
   ]
  },
  {
   "cell_type": "markdown",
   "metadata": {},
   "source": [
    "## Step 2: Start Cradle UI Server (Self-Contained)\n",
    "\n",
    "This notebook automatically starts the server for you - no manual setup required!"
   ]
  },
  {
   "cell_type": "code",
   "execution_count": 2,
   "metadata": {},
   "outputs": [
    {
     "name": "stdout",
     "output_type": "stream",
     "text": [
      "✅ Server already running on port 8001\n",
      "\n",
      "🎉 Cradle UI server is ready!\n",
      "📱 You can also access the UI directly at: http://localhost:8001\n"
     ]
    }
   ],
   "source": [
    "# Global server process variable\n",
    "server_process = None\n",
    "\n",
    "def start_cradle_server(port=8001):\n",
    "    \"\"\"Start the Cradle UI server automatically.\"\"\"\n",
    "    global server_process\n",
    "    \n",
    "    # Check if server is already running\n",
    "    try:\n",
    "        response = requests.get(f\"http://localhost:{port}/health\", timeout=2)\n",
    "        if response.status_code == 200:\n",
    "            print(f\"✅ Server already running on port {port}\")\n",
    "            return True\n",
    "    except requests.exceptions.RequestException:\n",
    "        pass\n",
    "    \n",
    "    # Start the server\n",
    "    try:\n",
    "        print(f\"🚀 Starting Cradle UI server on port {port}...\")\n",
    "        \n",
    "        # Start uvicorn server as subprocess\n",
    "        cmd = [\n",
    "            sys.executable, \"-m\", \"uvicorn\",\n",
    "            \"cursus.api.cradle_ui.app:app\",\n",
    "            \"--host\", \"0.0.0.0\",\n",
    "            \"--port\", str(port),\n",
    "            \"--reload\"\n",
    "        ]\n",
    "        \n",
    "        server_process = subprocess.Popen(\n",
    "            cmd,\n",
    "            stdout=subprocess.PIPE,\n",
    "            stderr=subprocess.PIPE,\n",
    "            cwd=project_root\n",
    "        )\n",
    "        \n",
    "        # Wait for server to start\n",
    "        print(\"⏳ Waiting for server to start...\")\n",
    "        for i in range(10):  # Wait up to 10 seconds\n",
    "            time.sleep(1)\n",
    "            try:\n",
    "                response = requests.get(f\"http://localhost:{port}/health\", timeout=2)\n",
    "                if response.status_code == 200:\n",
    "                    print(f\"✅ Server started successfully on http://localhost:{port}\")\n",
    "                    return True\n",
    "            except requests.exceptions.RequestException:\n",
    "                continue\n",
    "        \n",
    "        print(\"❌ Server failed to start within 10 seconds\")\n",
    "        return False\n",
    "        \n",
    "    except Exception as e:\n",
    "        print(f\"❌ Error starting server: {str(e)}\")\n",
    "        return False\n",
    "\n",
    "def stop_cradle_server():\n",
    "    \"\"\"Stop the Cradle UI server.\"\"\"\n",
    "    global server_process\n",
    "    if server_process:\n",
    "        print(\"🛑 Stopping Cradle UI server...\")\n",
    "        server_process.terminate()\n",
    "        server_process.wait()\n",
    "        server_process = None\n",
    "        print(\"✅ Server stopped\")\n",
    "\n",
    "# Register cleanup function\n",
    "atexit.register(stop_cradle_server)\n",
    "\n",
    "# Start the server\n",
    "server_started = start_cradle_server()\n",
    "\n",
    "if server_started:\n",
    "    print(\"\\n🎉 Cradle UI server is ready!\")\n",
    "    print(\"📱 You can also access the UI directly at: http://localhost:8001\")\n",
    "else:\n",
    "    print(\"\\n⚠️ Server failed to start. Please check the error messages above.\")"
   ]
  },
  {
   "cell_type": "markdown",
   "metadata": {},
   "source": [
    "## Step 3: Create Base Configuration\n",
    "\n",
    "First, let's create a basic pipeline configuration that the widget will use as a foundation."
   ]
  },
  {
   "cell_type": "code",
   "execution_count": 3,
   "metadata": {},
   "outputs": [
    {
     "name": "stdout",
     "output_type": "stream",
     "text": [
      "sagemaker.config INFO - Not applying SDK defaults from location: /Library/Application Support/sagemaker/config.yaml\n",
      "sagemaker.config INFO - Not applying SDK defaults from location: /Users/tianpeixie/Library/Application Support/sagemaker/config.yaml\n"
     ]
    },
    {
     "name": "stderr",
     "output_type": "stream",
     "text": [
      "WARNING:cursus.core.compiler.dag_compiler:Could not import constants from mods_workflow_core, using local definitions\n"
     ]
    },
    {
     "name": "stdout",
     "output_type": "stream",
     "text": [
      "✅ Base configuration created:\n",
      "   Author: lukexie\n",
      "   Region: NA\n",
      "   Service: AtoZ\n",
      "   Bucket: sandboxdependency-abuse-secureaisandboxteamshare-1l77v9am252um\n",
      "   Project Root: cursus\n"
     ]
    }
   ],
   "source": [
    "# Import base configuration\n",
    "from cursus.core.base.config_base import BasePipelineConfig\n",
    "\n",
    "# Create a sample base configuration\n",
    "base_config = BasePipelineConfig(\n",
    "    bucket=\"sandboxdependency-abuse-secureaisandboxteamshare-1l77v9am252um\",\n",
    "    current_date=\"2025-10-06\",\n",
    "    region=\"NA\",\n",
    "    aws_region=\"us-east-1\",\n",
    "    author=\"lukexie\",\n",
    "    role=\"arn:aws:iam::601857636239:role/SandboxRole-lukexie-us-east-1\",\n",
    "    service_name=\"AtoZ\",\n",
    "    pipeline_version=\"1.3.1\",\n",
    "    project_root_folder=\"cursus\",\n",
    "    framework_version=\"1.7-1\",\n",
    "    py_version=\"py3\",\n",
    "    source_dir=\"dockers/project_xgboost_atoz\",\n",
    ")\n",
    "\n",
    "print(\"✅ Base configuration created:\")\n",
    "print(f\"   Author: {base_config.author}\")\n",
    "print(f\"   Region: {base_config.region}\")\n",
    "print(f\"   Service: {base_config.service_name}\")\n",
    "print(f\"   Bucket: {base_config.bucket}\")\n",
    "print(f\"   Project Root: {base_config.project_root_folder}\")"
   ]
  },
  {
   "cell_type": "markdown",
   "metadata": {},
   "source": [
    "## Step 4: Initialize Config List\n",
    "\n",
    "Create the config list that will store all our pipeline configurations."
   ]
  },
  {
   "cell_type": "code",
   "execution_count": 4,
   "metadata": {},
   "outputs": [
    {
     "name": "stdout",
     "output_type": "stream",
     "text": [
      "✅ Config list initialized with 1 item(s)\n"
     ]
    }
   ],
   "source": [
    "# Initialize config list (same as in demo_config.ipynb)\n",
    "config_list = []\n",
    "\n",
    "# Add base config to the list\n",
    "config_list.append(base_config)\n",
    "\n",
    "print(f\"✅ Config list initialized with {len(config_list)} item(s)\")"
   ]
  },
  {
   "cell_type": "markdown",
   "metadata": {},
   "source": [
    "## Step 5: Create Training Configuration Widget\n",
    "\n",
    "Now let's create the interactive widget for training data configuration. This replaces the complex manual configuration block.\n",
    "\n",
    "**⚠️ Important**: Create and complete **one configuration at a time** to avoid conflicts."
   ]
  },
  {
   "cell_type": "code",
   "execution_count": 5,
   "metadata": {},
   "outputs": [
    {
     "name": "stdout",
     "output_type": "stream",
     "text": [
      "🎯 Creating Training Data Configuration Widget\n",
      "==================================================\n"
     ]
    },
    {
     "name": "stderr",
     "output_type": "stream",
     "text": [
      "/Users/tianpeixie/github_workspace/cursus/.venv/lib/python3.12/site-packages/pydantic/_internal/_fields.py:198: UserWarning: Field name \"schema\" in \"FieldSchemaResponse\" shadows an attribute in parent \"BaseModel\"\n",
      "  warnings.warn(\n"
     ]
    },
    {
     "data": {
      "application/vnd.jupyter.widget-view+json": {
       "model_id": "fa803826fc5b450fb08cd52f9b13683e",
       "version_major": 2,
       "version_minor": 0
      },
      "text/plain": [
       "VBox(children=(HTML(value='<h3>Cradle Data Load Configuration (ID: f4fe19db)</h3>'), HTML(value='\\n           …"
      ]
     },
     "metadata": {},
     "output_type": "display_data"
    },
    {
     "data": {
      "text/html": [
       "\n",
       "        <div style=\"background-color: #f8f9fa; border: 1px solid #dee2e6; padding: 20px; border-radius: 8px; margin: 15px 0; color: #212529;\">\n",
       "            <h4 style=\"color: #495057; margin-bottom: 15px; font-weight: 600;\">📝 How to Use:</h4>\n",
       "            <ol style=\"color: #495057; line-height: 1.6; margin: 0; padding-left: 20px;\">\n",
       "                <li style=\"margin-bottom: 8px;\">Complete the 4-step configuration in the UI above</li>\n",
       "                <li style=\"margin-bottom: 8px;\">In Step 4, specify the save location for your configuration file</li>\n",
       "                <li style=\"margin-bottom: 8px;\">Click <strong>\"Finish\"</strong> in the UI - the configuration will be automatically saved</li>\n",
       "                <li style=\"margin-bottom: 8px;\">Load the saved configuration: <code style=\"background-color: #e9ecef; color: #495057; padding: 2px 4px; border-radius: 3px; font-size: 0.9em;\">load_cradle_config_from_json('your_file.json')</code></li>\n",
       "                <li style=\"margin-bottom: 0;\">Add to your config list: <code style=\"background-color: #e9ecef; color: #495057; padding: 2px 4px; border-radius: 3px; font-size: 0.9em;\">config_list.append(config)</code></li>\n",
       "            </ol>\n",
       "            <div style=\"background-color: #d1ecf1; border: 1px solid #bee5eb; padding: 10px; border-radius: 4px; margin-top: 15px;\">\n",
       "                <strong>✨ Simplified:</strong> No buttons needed! Just complete the UI and click \"Finish\" - the configuration will be automatically saved to your specified location.\n",
       "            </div>\n",
       "        </div>\n",
       "        "
      ],
      "text/plain": [
       "<IPython.core.display.HTML object>"
      ]
     },
     "metadata": {},
     "output_type": "display_data"
    },
    {
     "name": "stdout",
     "output_type": "stream",
     "text": [
      "\n",
      "📝 Instructions:\n",
      "1. Complete the 4-step configuration in the UI above\n",
      "2. Click 'Finish' in the UI to generate the configuration\n",
      "3. Click 'Get Configuration' button to save to JSON file\n",
      "4. Run the next cell to load the configuration\n"
     ]
    }
   ],
   "source": [
    "# Import the widget\n",
    "from cursus.api.cradle_ui.jupyter_widget import create_cradle_config_widget\n",
    "\n",
    "# Create the training configuration widget\n",
    "print(\"🎯 Creating Training Data Configuration Widget\")\n",
    "print(\"=\" * 50)\n",
    "\n",
    "training_widget = create_cradle_config_widget(\n",
    "    base_config=base_config,\n",
    "    job_type=\"training\",\n",
    "    height=\"700px\"\n",
    ")\n",
    "\n",
    "# Display the widget\n",
    "training_widget.display()\n",
    "\n",
    "print(\"\\n📝 Instructions:\")\n",
    "print(\"1. Complete the 4-step configuration in the UI above\")\n",
    "print(\"2. Click 'Finish' in the UI to generate the configuration\")\n",
    "print(\"3. Click 'Get Configuration' button to save to JSON file\")\n",
    "print(\"4. Run the next cell to load the configuration\")"
   ]
  },
  {
   "cell_type": "markdown",
   "metadata": {},
   "source": [
    "## Step 6: Load Training Configuration\n",
    "\n",
    "After completing the UI configuration above and saving the JSON file, run this cell to load the configuration."
   ]
  },
  {
   "cell_type": "code",
   "execution_count": 6,
   "metadata": {},
   "outputs": [
    {
     "name": "stdout",
     "output_type": "stream",
     "text": [
      "✅ Training configuration loaded successfully!\n",
      "==================================================\n",
      "Job Type: training\n",
      "Author: test-user\n",
      "Region: NA\n",
      "Data Sources: 1\n",
      "Start Date: 2025-01-01T00:00:00\n",
      "End Date: 2025-04-17T00:00:00\n",
      "Output Format: PARQUET\n",
      "Cluster Type: STANDARD\n",
      "\n",
      "✅ Added to config_list. Total configs: 2\n"
     ]
    }
   ],
   "source": [
    "# Load the training configuration from the saved JSON file\n",
    "from cursus.api.cradle_ui.utils.config_loader import load_cradle_config_from_json\n",
    "\n",
    "try:\n",
    "    # Update this path to match where you saved your configuration\n",
    "    config_file_path = './cradle_data_load_config_training.json'  # Update this path!\n",
    "    \n",
    "    # Load the configuration (properly handles all nested objects)\n",
    "    training_cradle_data_load_config = load_cradle_config_from_json(config_file_path)\n",
    "    \n",
    "    print(\"✅ Training configuration loaded successfully!\")\n",
    "    print(\"=\" * 50)\n",
    "    print(f\"Job Type: {training_cradle_data_load_config.job_type}\")\n",
    "    print(f\"Author: {training_cradle_data_load_config.author}\")\n",
    "    print(f\"Region: {training_cradle_data_load_config.region}\")\n",
    "    print(f\"Data Sources: {len(training_cradle_data_load_config.data_sources_spec.data_sources)}\")\n",
    "    print(f\"Start Date: {training_cradle_data_load_config.data_sources_spec.start_date}\")\n",
    "    print(f\"End Date: {training_cradle_data_load_config.data_sources_spec.end_date}\")\n",
    "    print(f\"Output Format: {training_cradle_data_load_config.output_spec.output_format}\")\n",
    "    print(f\"Cluster Type: {training_cradle_data_load_config.cradle_job_spec.cluster_type}\")\n",
    "    \n",
    "    # Add to config list (same as manual configuration)\n",
    "    config_list.append(training_cradle_data_load_config)\n",
    "    print(f\"\\n✅ Added to config_list. Total configs: {len(config_list)}\")\n",
    "    \n",
    "except FileNotFoundError:\n",
    "    print(\"⚠️ Configuration file not found.\")\n",
    "    print(\"Please:\")\n",
    "    print(\"1. Complete the configuration in the UI above\")\n",
    "    print(\"2. Click 'Finish' in the UI\")\n",
    "    print(\"3. Click 'Get Configuration' button to save the JSON file\")\n",
    "    print(\"4. Update the config_file_path variable above with the correct path\")\n",
    "    \n",
    "except Exception as e:\n",
    "    print(f\"❌ Error loading configuration: {str(e)}\")\n",
    "    print(\"Please ensure the JSON file was saved correctly from the UI.\")"
   ]
  },
  {
   "cell_type": "code",
   "execution_count": 7,
   "metadata": {},
   "outputs": [
    {
     "name": "stderr",
     "output_type": "stream",
     "text": [
      "INFO:cursus.step_catalog.builder_discovery:🔧 BuilderAutoDiscovery.__init__ starting - package_root: /Users/tianpeixie/github_workspace/cursus/src/cursus\n",
      "INFO:cursus.step_catalog.builder_discovery:🔧 BuilderAutoDiscovery.__init__ - workspace_dirs: [PosixPath('/Users/tianpeixie/github_workspace/cursus')]\n",
      "INFO:cursus.step_catalog.builder_discovery:✅ BuilderAutoDiscovery basic initialization complete\n",
      "INFO:cursus.step_catalog.builder_discovery:✅ Registry info loaded: 23 steps\n",
      "INFO:cursus.step_catalog.builder_discovery:🎉 BuilderAutoDiscovery initialization completed successfully\n",
      "WARNING:cursus.step_catalog.contract_discovery:No contract found for step: CradleDataLoading_training\n",
      "WARNING:cursus.step_catalog.step_catalog:No contract found for step: CradleDataLoading_training\n"
     ]
    },
    {
     "name": "stdout",
     "output_type": "stream",
     "text": [
      "=== CradleDataLoadConfig ===\n",
      "\n",
      "- Essential User Inputs -\n",
      "author: test-user\n",
      "bucket: test-bucket\n",
      "cradle_job_spec: cradle_account='Buyer-Abuse-RnD-Dev' cluster_type='STANDARD' extra_spark_job_arguments='' job_retry_count=1\n",
      "data_sources_spec: start_date='2025-01-01T00:00:00' end_date='2025-04-17T00:00:00' data_sources=[DataSourceConfig(data_source_name='RAW_MDS_NA', data_source_type='MDS', mds_data_source_properties=MdsDataSourceConfig(service_name='AtoZ', region='NA', output_schema=[{'field_name': 'objectId', 'field_type': 'STRING'}, {'field_name': 'transactionDate', 'field_type': 'STRING'}], org_id=0, use_hourly_edx_data_set=False), edx_data_source_properties=None, andes_data_source_properties=None)]\n",
      "job_type: training\n",
      "output_spec: output_schema=['objectId', 'transactionDate'] pipeline_s3_loc='s3://test-bucket/MODS/test-user-test-service-xgboost-NA_1.0.0' output_format='PARQUET' output_save_mode='ERRORIFEXISTS' output_file_count=0 keep_dot_in_output_schema=False include_header_in_s3_output=True\n",
      "pipeline_version: 1.0.0\n",
      "project_root_folder: test-project\n",
      "region: NA\n",
      "role: arn:aws:iam::123456789012:role/test-role\n",
      "service_name: test-service\n",
      "transform_spec: transform_sql='SELECT\\n  mds.objectId,\\n  mds.transactionDate,\\n  edx.is_abuse\\nFROM mds_source mds\\nJOIN edx_source edx ON mds.objectId = edx.order_id' job_split_options=JobSplitOptionsConfig(merge_sql='SELECT * FROM INPUT', split_job=False, days_per_split=7)\n",
      "\n",
      "- System Inputs -\n",
      "current_date: 2025-10-06\n",
      "framework_version: 2.1.0\n",
      "model_class: xgboost\n",
      "py_version: py310\n",
      "\n",
      "- Derived Fields -\n",
      "aws_region: us-east-1\n",
      "effective_source_dir: None\n",
      "model_extra: {'aws_region': 'us-east-1', 'pipeline_name': 'test-user-test-service-xgboost-NA', 'pipeline_description': 'test-service xgboost Model NA', 'pipeline_s3_loc': 's3://test-bucket/MODS/test-user-test-service-xgboost-NA_1.0.0'}\n",
      "model_fields_set: {'project_root_folder', 'transform_spec', 'job_type', 'pipeline_description', 'aws_region', 'py_version', 'cradle_job_spec', 'pipeline_name', 'source_dir', 'role', 'region', 'data_sources_spec', 'bucket', 'author', 'current_date', 'model_class', 's3_input_override', 'pipeline_version', 'service_name', 'framework_version', 'output_spec', 'pipeline_s3_loc'}\n",
      "pipeline_description: test-service xgboost Model NA\n",
      "pipeline_name: test-user-test-service-xgboost-NA\n",
      "pipeline_s3_loc: s3://test-bucket/MODS/test-user-test-service-xgboost-NA_1.0.0\n",
      "resolved_source_dir: None\n",
      "script_contract: None\n",
      "step_catalog: <cursus.step_catalog.step_catalog.StepCatalog object at 0x3118a8500>\n",
      "\n"
     ]
    }
   ],
   "source": [
    "print(config_list[1])"
   ]
  },
  {
   "cell_type": "markdown",
   "metadata": {},
   "source": [
    "## Step 7: Clear Training Widget (Important!)\n",
    "\n",
    "**Clear the training widget before creating the next one** to avoid conflicts and duplicate error messages."
   ]
  },
  {
   "cell_type": "code",
   "execution_count": 8,
   "metadata": {},
   "outputs": [
    {
     "name": "stdout",
     "output_type": "stream",
     "text": [
      "✅ Training widget cleared successfully\n",
      "\n",
      "🎯 Ready to create the next configuration widget!\n"
     ]
    }
   ],
   "source": [
    "# Clear the training widget to avoid conflicts\n",
    "if 'training_widget' in locals():\n",
    "    # Clear the widget display\n",
    "    training_widget.widget.close()\n",
    "    del training_widget\n",
    "    print(\"✅ Training widget cleared successfully\")\n",
    "else:\n",
    "    print(\"⚠️ No training widget to clear\")\n",
    "\n",
    "print(\"\\n🎯 Ready to create the next configuration widget!\")"
   ]
  },
  {
   "cell_type": "markdown",
   "metadata": {},
   "source": [
    "## Step 8: Create Calibration Configuration Widget\n",
    "\n",
    "Now create a **new widget** for calibration configuration. This ensures only one widget is active at a time."
   ]
  },
  {
   "cell_type": "code",
   "execution_count": 9,
   "metadata": {},
   "outputs": [
    {
     "name": "stdout",
     "output_type": "stream",
     "text": [
      "🎯 Creating Calibration Data Configuration Widget\n",
      "==================================================\n"
     ]
    },
    {
     "data": {
      "application/vnd.jupyter.widget-view+json": {
       "model_id": "b9f29f50659747818de6a62173fa5981",
       "version_major": 2,
       "version_minor": 0
      },
      "text/plain": [
       "VBox(children=(HTML(value='<h3>Cradle Data Load Configuration (ID: 2810926e)</h3>'), HTML(value='\\n           …"
      ]
     },
     "metadata": {},
     "output_type": "display_data"
    },
    {
     "data": {
      "text/html": [
       "\n",
       "        <div style=\"background-color: #f8f9fa; border: 1px solid #dee2e6; padding: 20px; border-radius: 8px; margin: 15px 0; color: #212529;\">\n",
       "            <h4 style=\"color: #495057; margin-bottom: 15px; font-weight: 600;\">📝 How to Use:</h4>\n",
       "            <ol style=\"color: #495057; line-height: 1.6; margin: 0; padding-left: 20px;\">\n",
       "                <li style=\"margin-bottom: 8px;\">Complete the 4-step configuration in the UI above</li>\n",
       "                <li style=\"margin-bottom: 8px;\">In Step 4, specify the save location for your configuration file</li>\n",
       "                <li style=\"margin-bottom: 8px;\">Click <strong>\"Finish\"</strong> in the UI - the configuration will be automatically saved</li>\n",
       "                <li style=\"margin-bottom: 8px;\">Load the saved configuration: <code style=\"background-color: #e9ecef; color: #495057; padding: 2px 4px; border-radius: 3px; font-size: 0.9em;\">load_cradle_config_from_json('your_file.json')</code></li>\n",
       "                <li style=\"margin-bottom: 0;\">Add to your config list: <code style=\"background-color: #e9ecef; color: #495057; padding: 2px 4px; border-radius: 3px; font-size: 0.9em;\">config_list.append(config)</code></li>\n",
       "            </ol>\n",
       "            <div style=\"background-color: #d1ecf1; border: 1px solid #bee5eb; padding: 10px; border-radius: 4px; margin-top: 15px;\">\n",
       "                <strong>✨ Simplified:</strong> No buttons needed! Just complete the UI and click \"Finish\" - the configuration will be automatically saved to your specified location.\n",
       "            </div>\n",
       "        </div>\n",
       "        "
      ],
      "text/plain": [
       "<IPython.core.display.HTML object>"
      ]
     },
     "metadata": {},
     "output_type": "display_data"
    },
    {
     "name": "stdout",
     "output_type": "stream",
     "text": [
      "\n",
      "📝 Instructions:\n",
      "1. Complete the 4-step configuration in the UI above\n",
      "2. Click 'Finish' in the UI to generate the configuration\n",
      "3. Click 'Get Configuration' button to save to JSON file\n",
      "4. Run the next cell to load the configuration\n"
     ]
    }
   ],
   "source": [
    "# Create calibration configuration widget (after clearing the previous one)\n",
    "print(\"🎯 Creating Calibration Data Configuration Widget\")\n",
    "print(\"=\" * 50)\n",
    "\n",
    "calibration_widget = create_cradle_config_widget(\n",
    "    base_config=base_config,\n",
    "    job_type=\"calibration\",\n",
    "    height=\"700px\"\n",
    ")\n",
    "\n",
    "# Display the widget\n",
    "calibration_widget.display()\n",
    "\n",
    "print(\"\\n📝 Instructions:\")\n",
    "print(\"1. Complete the 4-step configuration in the UI above\")\n",
    "print(\"2. Click 'Finish' in the UI to generate the configuration\")\n",
    "print(\"3. Click 'Get Configuration' button to save to JSON file\")\n",
    "print(\"4. Run the next cell to load the configuration\")"
   ]
  },
  {
   "cell_type": "markdown",
   "metadata": {},
   "source": [
    "## Step 9: Load Calibration Configuration"
   ]
  },
  {
   "cell_type": "code",
   "execution_count": 10,
   "metadata": {},
   "outputs": [
    {
     "name": "stdout",
     "output_type": "stream",
     "text": [
      "✅ Calibration configuration loaded successfully!\n",
      "==================================================\n",
      "Job Type: calibration\n",
      "Author: test-user\n",
      "Region: NA\n",
      "Data Sources: 1\n",
      "Start Date: 2025-01-01T00:00:00\n",
      "End Date: 2025-04-17T00:00:00\n",
      "Output Format: PARQUET\n",
      "Cluster Type: STANDARD\n",
      "\n",
      "✅ Added to config_list. Total configs: 3\n"
     ]
    }
   ],
   "source": [
    "# Load the calibration configuration from the saved JSON file\n",
    "try:\n",
    "    # Update this path to match where you saved your calibration configuration\n",
    "    calibration_config_file_path = './cradle_data_load_config_calibration.json'  # Update this path!\n",
    "    \n",
    "    calibration_cradle_data_load_config = load_cradle_config_from_json(calibration_config_file_path)\n",
    "    \n",
    "    print(\"✅ Calibration configuration loaded successfully!\")\n",
    "    print(\"=\" * 50)\n",
    "    print(f\"Job Type: {calibration_cradle_data_load_config.job_type}\")\n",
    "    print(f\"Author: {calibration_cradle_data_load_config.author}\")\n",
    "    print(f\"Region: {calibration_cradle_data_load_config.region}\")\n",
    "    print(f\"Data Sources: {len(calibration_cradle_data_load_config.data_sources_spec.data_sources)}\")\n",
    "    print(f\"Start Date: {calibration_cradle_data_load_config.data_sources_spec.start_date}\")\n",
    "    print(f\"End Date: {calibration_cradle_data_load_config.data_sources_spec.end_date}\")\n",
    "    print(f\"Output Format: {calibration_cradle_data_load_config.output_spec.output_format}\")\n",
    "    print(f\"Cluster Type: {calibration_cradle_data_load_config.cradle_job_spec.cluster_type}\")\n",
    "    \n",
    "    # Add to config list\n",
    "    config_list.append(calibration_cradle_data_load_config)\n",
    "    print(f\"\\n✅ Added to config_list. Total configs: {len(config_list)}\")\n",
    "    \n",
    "except FileNotFoundError:\n",
    "    print(\"⚠️ Calibration configuration file not found.\")\n",
    "    print(\"Please complete the UI configuration and save the JSON file first.\")\n",
    "except Exception as e:\n",
    "    print(f\"❌ Error loading calibration configuration: {str(e)}\")"
   ]
  },
  {
   "cell_type": "markdown",
   "metadata": {},
   "source": [
    "## Step 10: Clean Up and Display Final Results\n",
    "\n",
    "Clean up the final widget and show the complete configuration list."
   ]
  },
  {
   "cell_type": "code",
   "execution_count": 11,
   "metadata": {},
   "outputs": [
    {
     "name": "stdout",
     "output_type": "stream",
     "text": [
      "✅ Calibration widget cleared\n",
      "\n",
      "🎉 Configuration Generation Complete!\n",
      "==================================================\n",
      "Total configurations in config_list: 3\n",
      "\n",
      "1. BasePipelineConfig\n",
      "   Author: lukexie\n",
      "   Region: NA\n",
      "\n",
      "2. CradleDataLoadConfig\n",
      "   Job Type: training\n",
      "   Author: test-user\n",
      "   Region: NA\n",
      "\n",
      "3. CradleDataLoadConfig\n",
      "   Job Type: calibration\n",
      "   Author: test-user\n",
      "   Region: NA\n",
      "\n",
      "✅ All configurations are ready for use in your pipeline!\n"
     ]
    }
   ],
   "source": [
    "# Clean up the calibration widget\n",
    "if 'calibration_widget' in locals():\n",
    "    calibration_widget.widget.close()\n",
    "    del calibration_widget\n",
    "    print(\"✅ Calibration widget cleared\")\n",
    "\n",
    "# Display final results\n",
    "print(\"\\n🎉 Configuration Generation Complete!\")\n",
    "print(\"=\" * 50)\n",
    "print(f\"Total configurations in config_list: {len(config_list)}\")\n",
    "print()\n",
    "\n",
    "for i, config in enumerate(config_list):\n",
    "    config_type = type(config).__name__\n",
    "    print(f\"{i+1}. {config_type}\")\n",
    "    \n",
    "    if hasattr(config, 'job_type'):\n",
    "        print(f\"   Job Type: {config.job_type}\")\n",
    "    if hasattr(config, 'author'):\n",
    "        print(f\"   Author: {config.author}\")\n",
    "    if hasattr(config, 'region'):\n",
    "        print(f\"   Region: {config.region}\")\n",
    "    print()\n",
    "\n",
    "print(\"✅ All configurations are ready for use in your pipeline!\")"
   ]
  },
  {
   "cell_type": "markdown",
   "metadata": {},
   "source": [
    "## Step 11: Server Management (Optional)\n",
    "\n",
    "The server will automatically stop when the notebook kernel is shut down, but you can also stop it manually if needed."
   ]
  },
  {
   "cell_type": "code",
   "execution_count": 13,
   "metadata": {},
   "outputs": [
    {
     "name": "stdout",
     "output_type": "stream",
     "text": [
      "ℹ️ Server management:\n",
      "- Server will automatically stop when kernel shuts down\n",
      "- To stop manually, uncomment and run: stop_cradle_server()\n",
      "- Server URL: http://localhost:8001\n"
     ]
    }
   ],
   "source": [
    "# Optional: Stop the server manually\n",
    "# Uncomment the line below if you want to stop the server\n",
    "# stop_cradle_server()\n",
    "\n",
    "print(\"ℹ️ Server management:\")\n",
    "print(\"- Server will automatically stop when kernel shuts down\")\n",
    "print(\"- To stop manually, uncomment and run: stop_cradle_server()\")\n",
    "print(\"- Server URL: http://localhost:8001\")"
   ]
  },
  {
   "cell_type": "markdown",
   "metadata": {},
   "source": [
    "## 🎯 Summary\n",
    "\n",
    "This **self-contained notebook** demonstrated the complete workflow:\n",
    "\n",
    "1. ✅ **Automatic server startup** - no manual setup required\n",
    "2. ✅ **Create one widget at a time** to avoid conflicts\n",
    "3. ✅ **Complete the configuration** through the UI\n",
    "4. ✅ **Save to JSON file** using the \"Get Configuration\" button\n",
    "5. ✅ **Load the configuration** using `load_cradle_config_from_json()`\n",
    "6. ✅ **Clear the widget** before creating the next one\n",
    "7. ✅ **Automatic cleanup** when notebook closes\n",
    "\n",
    "## 🔑 Key Benefits of This Self-Contained Approach\n",
    "\n",
    "- **🚀 Zero Setup**: Server starts automatically\n",
    "- **🚫 No Manual Steps**: Everything handled programmatically\n",
    "- **🚫 No Conflicts**: Only one widget active at a time\n",
    "- **🚫 No Duplicate Errors**: Event handler cleanup prevents issues\n",
    "- **✅ Clean Workflow**: Clear separation between configurations\n",
    "- **✅ Resource Efficient**: Proper cleanup of background threads\n",
    "- **✅ Same Results**: Identical CradleDataLoadConfig objects as manual approach\n",
    "- **✅ Production Ready**: Robust error handling and server management\n",
    "\n",
    "## 🔄 Self-Contained Workflow Pattern\n",
    "\n",
    "```python\n",
    "# Complete self-contained pattern:\n",
    "start_cradle_server()  # Automatic server startup\n",
    "widget = create_cradle_config_widget(base_config, job_type=\"training\")\n",
    "widget.display()\n",
    "# Complete UI, save JSON file\n",
    "config = load_cradle_config_from_json('file.json')\n",
    "config_list.append(config)\n",
    "widget._stop_config_checker()\n",
    "widget.widget.close()\n",
    "del widget\n",
    "# Server automatically stops on kernel shutdown\n",
    "```\n",
    "\n",
    "**This self-contained approach ensures a completely automated, conflict-free experience when creating Cradle configurations!**"
   ]
  }
 ],
 "metadata": {
  "kernelspec": {
   "display_name": ".venv",
   "language": "python",
   "name": "python3"
  },
  "language_info": {
   "codemirror_mode": {
    "name": "ipython",
    "version": 3
   },
   "file_extension": ".py",
   "mimetype": "text/x-python",
   "name": "python",
   "nbconvert_exporter": "python",
   "pygments_lexer": "ipython3",
   "version": "3.12.7"
  }
 },
 "nbformat": 4,
 "nbformat_minor": 4
}
