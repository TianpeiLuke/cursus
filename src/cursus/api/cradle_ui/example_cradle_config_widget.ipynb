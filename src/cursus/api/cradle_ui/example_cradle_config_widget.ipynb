{
 "cells": [
  {
   "cell_type": "markdown",
   "metadata": {},
   "source": [
    "# Cradle Data Load Configuration - Interactive UI Widget Example\n",
    "\n",
    "This notebook demonstrates how to use the Cradle Config Widget to replace manual configuration blocks with an interactive UI.\n",
    "\n",
    "## 🎯 What This Notebook Does\n",
    "\n",
    "1. Sets up a basic pipeline configuration\n",
    "2. Creates an interactive UI widget for Cradle data loading configuration\n",
    "3. Generates a `CradleDataLoadConfig` object that can be used in your pipeline\n",
    "4. Shows how to add the config to your `config_list`\n",
    "\n",
    "## 📋 Prerequisites\n",
    "\n",
    "- The Cradle UI server should be running on port 8001\n",
    "- Required packages: `ipywidgets`, `requests`"
   ]
  },
  {
   "cell_type": "markdown",
   "metadata": {},
   "source": [
    "## Step 1: Setup and Imports"
   ]
  },
  {
   "cell_type": "code",
   "execution_count": null,
   "metadata": {},
   "outputs": [],
   "source": [
    "# Standard imports\n",
    "import sys\n",
    "from pathlib import Path\n",
    "import json\n",
    "from datetime import datetime\n",
    "\n",
    "# Add project root to path\n",
    "project_root = str(Path().absolute().parent.parent.parent)\n",
    "if project_root not in sys.path:\n",
    "    sys.path.insert(0, project_root)\n",
    "    print(f\"Added project root to path: {project_root}\")\n",
    "\n",
    "print(\"✅ Imports and path setup complete\")"
   ]
  },
  {
   "cell_type": "markdown",
   "metadata": {},
   "source": [
    "## Step 2: Create Base Configuration\n",
    "\n",
    "First, let's create a basic pipeline configuration that the widget will use as a foundation."
   ]
  },
  {
   "cell_type": "code",
   "execution_count": null,
   "metadata": {},
   "outputs": [],
   "source": [
    "# Import base configuration\n",
    "from cursus.core.base.config_base import BasePipelineConfig\n",
    "\n",
    "# Create a sample base configuration\n",
    "base_config = BasePipelineConfig(\n",
    "    bucket=\"my-pipeline-bucket\",\n",
    "    current_date=\"2025-10-06\",\n",
    "    region=\"NA\",\n",
    "    aws_region=\"us-east-1\",\n",
    "    author=\"demo-user\",\n",
    "    role=\"arn:aws:iam::123456789012:role/demo-role\",\n",
    "    service_name=\"DemoService\",\n",
    "    pipeline_version=\"1.0.0\",\n",
    "    project_root_folder=\"demo-project\",  # Added missing required field\n",
    "    framework_version=\"2.1.0\",\n",
    "    py_version=\"py310\",\n",
    "    source_dir=\"/path/to/source\"\n",
    ")\n",
    "\n",
    "print(\"✅ Base configuration created:\")\n",
    "print(f\"   Author: {base_config.author}\")\n",
    "print(f\"   Region: {base_config.region}\")\n",
    "print(f\"   Service: {base_config.service_name}\")\n",
    "print(f\"   Bucket: {base_config.bucket}\")\n",
    "print(f\"   Project Root: {base_config.project_root_folder}\")"
   ]
  },
  {
   "cell_type": "markdown",
   "metadata": {},
   "source": [
    "## Step 3: Initialize Config List\n",
    "\n",
    "Create the config list that will store all our pipeline configurations."
   ]
  },
  {
   "cell_type": "code",
   "execution_count": null,
   "metadata": {},
   "outputs": [],
   "source": [
    "# Initialize config list (same as in demo_config.ipynb)\n",
    "config_list = []\n",
    "\n",
    "# Add base config to the list\n",
    "config_list.append(base_config)\n",
    "\n",
    "print(f\"✅ Config list initialized with {len(config_list)} item(s)\")"
   ]
  },
  {
   "cell_type": "markdown",
   "metadata": {},
   "source": [
    "## Step 4: Check Server Status\n",
    "\n",
    "Let's verify that the Cradle UI server is running."
   ]
  },
  {
   "cell_type": "code",
   "execution_count": null,
   "metadata": {},
   "outputs": [],
   "source": [
    "import requests\n",
    "\n",
    "def check_server_status(port=8001):\n",
    "    \"\"\"Check if the Cradle UI server is running.\"\"\"\n",
    "    try:\n",
    "        response = requests.get(f\"http://localhost:{port}/health\", timeout=5)\n",
    "        if response.status_code == 200:\n",
    "            print(f\"✅ Server is running on port {port}\")\n",
    "            return True\n",
    "        else:\n",
    "            print(f\"❌ Server responded with status {response.status_code}\")\n",
    "            return False\n",
    "    except requests.exceptions.RequestException as e:\n",
    "        print(f\"❌ Server is not running on port {port}\")\n",
    "        print(f\"   Error: {str(e)}\")\n",
    "        print(f\"   Please start the server with:\")\n",
    "        print(f\"   cd src/cursus/api/cradle_ui && uvicorn app:app --host 0.0.0.0 --port {port} --reload\")\n",
    "        return False\n",
    "\n",
    "server_running = check_server_status()\n",
    "\n",
    "if not server_running:\n",
    "    print(\"\\n⚠️ Please start the server before proceeding to the next step.\")"
   ]
  },
  {
   "cell_type": "markdown",
   "metadata": {},
   "source": [
    "## Step 5: Create Training Configuration Widget\n",
    "\n",
    "Now let's create the interactive widget for training data configuration. This replaces the complex manual configuration block."
   ]
  },
  {
   "cell_type": "code",
   "execution_count": null,
   "metadata": {},
   "outputs": [],
   "source": [
    "# Import the widget\n",
    "from cursus.api.cradle_ui.jupyter_widget import create_cradle_config_widget\n",
    "\n",
    "# Create the training configuration widget\n",
    "print(\"🎯 Creating Training Data Configuration Widget\")\n",
    "print(\"=\" * 50)\n",
    "\n",
    "training_widget = create_cradle_config_widget(\n",
    "    base_config=base_config,\n",
    "    job_type=\"training\",\n",
    "    height=\"700px\"  # Adjust height as needed\n",
    ")\n",
    "\n",
    "# Display the widget\n",
    "training_widget.display()\n",
    "\n",
    "print(\"\\n📝 Instructions:\")\n",
    "print(\"1. Complete the 4-step configuration in the UI above\")\n",
    "print(\"2. Click 'Finish' in the UI to generate the configuration\")\n",
    "print(\"3. Run the next cell to retrieve the configuration object\")"
   ]
  },
  {
   "cell_type": "markdown",
   "metadata": {},
   "source": [
    "## Step 6: Get Training Configuration\n",
    "\n",
    "After completing the UI configuration above, run this cell to get the generated config object."
   ]
  },
  {
   "cell_type": "code",
   "execution_count": null,
   "metadata": {},
   "outputs": [],
   "source": [
    "# Get the training configuration using the new JSON file workflow\n",
    "# After completing the UI above:\n",
    "# 1. Click 'Finish' in the UI to generate the configuration\n",
    "# 2. Click 'Get Configuration' button below to save to JSON file\n",
    "# 3. Load the saved configuration using the code below\n",
    "\n",
    "from cursus.api.cradle_ui.utils.config_loader import load_cradle_config_from_json\n",
    "\n",
    "# First, click the 'Get Configuration' button above to save the config to a JSON file\n",
    "# Then update the file path below to match where you saved it\n",
    "\n",
    "# Example: Load configuration from JSON file\n",
    "try:\n",
    "    # Update this path to match where you saved your configuration\n",
    "    config_file_path = 'cradle_config_training.json'  # Update this path!\n",
    "    \n",
    "    # Load the configuration (this properly handles all nested objects)\n",
    "    training_cradle_data_load_config = load_cradle_config_from_json(config_file_path)\n",
    "    \n",
    "    print(\"✅ Training configuration loaded successfully!\")\n",
    "    print(\"=\" * 50)\n",
    "    print(f\"Job Type: {training_cradle_data_load_config.job_type}\")\n",
    "    print(f\"Author: {training_cradle_data_load_config.author}\")\n",
    "    print(f\"Region: {training_cradle_data_load_config.region}\")\n",
    "    print(f\"Data Sources: {len(training_cradle_data_load_config.data_sources_spec.data_sources)}\")\n",
    "    print(f\"Start Date: {training_cradle_data_load_config.data_sources_spec.start_date}\")\n",
    "    print(f\"End Date: {training_cradle_data_load_config.data_sources_spec.end_date}\")\n",
    "    print(f\"Output Format: {training_cradle_data_load_config.output_spec.output_format}\")\n",
    "    print(f\"Cluster Type: {training_cradle_data_load_config.cradle_job_spec.cluster_type}\")\n",
    "    \n",
    "    # Add to config list (same as manual configuration)\n",
    "    config_list.append(training_cradle_data_load_config)\n",
    "    print(f\"\\n✅ Added to config_list. Total configs: {len(config_list)}\")\n",
    "    \n",
    "except FileNotFoundError:\n",
    "    print(\"⚠️ Configuration file not found.\")\n",
    "    print(\"Please:\")\n",
    "    print(\"1. Complete the configuration in the UI above\")\n",
    "    print(\"2. Click 'Finish' in the UI\")\n",
    "    print(\"3. Click 'Get Configuration' button to save the JSON file\")\n",
    "    print(\"4. Update the config_file_path variable above with the correct path\")\n",
    "    \n",
    "except Exception as e:\n",
    "    print(f\"❌ Error loading configuration: {str(e)}\")\n",
    "    print(\"Please ensure the JSON file was saved correctly from the UI.\")"
   ]
  },
  {
   "cell_type": "markdown",
   "metadata": {},
   "source": [
    "## Step 7: Create Calibration Configuration Widget (Optional)\n",
    "\n",
    "Let's also create a calibration configuration to show how you can create multiple configs."
   ]
  },
  {
   "cell_type": "code",
   "execution_count": null,
   "metadata": {},
   "outputs": [],
   "source": [
    "# Create calibration configuration widget\n",
    "print(\"🎯 Creating Calibration Data Configuration Widget\")\n",
    "print(\"=\" * 50)\n",
    "\n",
    "calibration_widget = create_cradle_config_widget(\n",
    "    base_config=base_config,\n",
    "    job_type=\"calibration\",\n",
    "    height=\"700px\"\n",
    ")\n",
    "\n",
    "# Display the widget\n",
    "calibration_widget.display()\n",
    "\n",
    "print(\"\\n📝 Instructions:\")\n",
    "print(\"1. Complete the 4-step configuration in the UI above\")\n",
    "print(\"2. Click 'Finish' in the UI to generate the configuration\")\n",
    "print(\"3. Run the next cell to retrieve the configuration object\")"
   ]
  },
  {
   "cell_type": "markdown",
   "metadata": {},
   "source": [
    "## Step 8: Get Calibration Configuration"
   ]
  },
  {
   "cell_type": "code",
   "execution_count": null,
   "metadata": {},
   "outputs": [],
   "source": [
    "# Get the calibration configuration\n",
    "calibration_cradle_data_load_config = calibration_widget.get_config()\n",
    "\n",
    "if calibration_cradle_data_load_config:\n",
    "    print(\"✅ Calibration configuration generated successfully!\")\n",
    "    print(\"=\" * 50)\n",
    "    print(f\"Job Type: {calibration_cradle_data_load_config.job_type}\")\n",
    "    print(f\"Author: {calibration_cradle_data_load_config.author}\")\n",
    "    print(f\"Region: {calibration_cradle_data_load_config.region}\")\n",
    "    print(f\"Data Sources: {len(calibration_cradle_data_load_config.data_sources_spec.data_sources)}\")\n",
    "    print(f\"Start Date: {calibration_cradle_data_load_config.data_sources_spec.start_date}\")\n",
    "    print(f\"End Date: {calibration_cradle_data_load_config.data_sources_spec.end_date}\")\n",
    "    print(f\"Output Format: {calibration_cradle_data_load_config.output_spec.output_format}\")\n",
    "    print(f\"Cluster Type: {calibration_cradle_data_load_config.cradle_job_spec.cluster_type}\")\n",
    "    \n",
    "    # Add to config list\n",
    "    config_list.append(calibration_cradle_data_load_config)\n",
    "    print(f\"\\n✅ Added to config_list. Total configs: {len(config_list)}\")\n",
    "    \n",
    "else:\n",
    "    print(\"⚠️ No configuration available.\")\n",
    "    print(\"Please complete the configuration in the UI above and click 'Finish'.\")"
   ]
  },
  {
   "cell_type": "markdown",
   "metadata": {},
   "source": [
    "## Step 9: Verify and Display Final Results\n",
    "\n",
    "Let's verify that our configurations were created correctly and show the final config list."
   ]
  },
  {
   "cell_type": "code",
   "execution_count": null,
   "metadata": {},
   "outputs": [],
   "source": [
    "# Display final results\n",
    "print(\"🎉 Configuration Generation Complete!\")\n",
    "print(\"=\" * 50)\n",
    "print(f\"Total configurations in config_list: {len(config_list)}\")\n",
    "print()\n",
    "\n",
    "for i, config in enumerate(config_list):\n",
    "    config_type = type(config).__name__\n",
    "    print(f\"{i+1}. {config_type}\")\n",
    "    \n",
    "    if hasattr(config, 'job_type'):\n",
    "        print(f\"   Job Type: {config.job_type}\")\n",
    "    if hasattr(config, 'author'):\n",
    "        print(f\"   Author: {config.author}\")\n",
    "    if hasattr(config, 'region'):\n",
    "        print(f\"   Region: {config.region}\")\n",
    "    print()\n",
    "\n",
    "print(\"✅ All configurations are ready for use in your pipeline!\")"
   ]
  },
  {
   "cell_type": "markdown",
   "metadata": {},
   "source": [
    "## Step 10: Export Configuration (Optional)\n",
    "\n",
    "You can also export the configurations to JSON for later use."
   ]
  },
  {
   "cell_type": "code",
   "execution_count": null,
   "metadata": {},
   "outputs": [],
   "source": [
    "# Export configurations to JSON\n",
    "def export_configs_to_json(config_list, filename=\"cradle_configs.json\"):\n",
    "    \"\"\"Export configurations to JSON file.\"\"\"\n",
    "    try:\n",
    "        # Convert configs to dictionaries\n",
    "        config_dicts = []\n",
    "        for config in config_list:\n",
    "            if hasattr(config, 'model_dump'):\n",
    "                config_dicts.append({\n",
    "                    'type': type(config).__name__,\n",
    "                    'data': config.model_dump()\n",
    "                })\n",
    "            else:\n",
    "                config_dicts.append({\n",
    "                    'type': type(config).__name__,\n",
    "                    'data': str(config)\n",
    "                })\n",
    "        \n",
    "        # Save to file\n",
    "        with open(filename, 'w') as f:\n",
    "            json.dump(config_dicts, f, indent=2, default=str)\n",
    "        \n",
    "        print(f\"✅ Configurations exported to {filename}\")\n",
    "        return True\n",
    "        \n",
    "    except Exception as e:\n",
    "        print(f\"❌ Error exporting configurations: {str(e)}\")\n",
    "        return False\n",
    "\n",
    "# Export the configurations\n",
    "export_configs_to_json(config_list, \"example_cradle_configs.json\")"
   ]
  },
  {
   "cell_type": "markdown",
   "metadata": {},
   "source": [
    "## 🎯 Summary\n",
    "\n",
    "This notebook demonstrated how to:\n",
    "\n",
    "1. ✅ **Set up the environment** and base configuration\n",
    "2. ✅ **Create interactive UI widgets** for Cradle data loading configuration\n",
    "3. ✅ **Generate valid CradleDataLoadConfig objects** through the UI\n",
    "4. ✅ **Add configurations to config_list** (same as manual approach)\n",
    "5. ✅ **Export configurations** for later use\n",
    "\n",
    "## 🔄 Comparison with Manual Configuration\n",
    "\n",
    "**Manual Approach (Complex):**\n",
    "```python\n",
    "training_cradle_data_load_config = create_cradle_data_load_config(\n",
    "    base_config=base_config,\n",
    "    job_type='training',\n",
    "    mds_field_list=mds_field_list,\n",
    "    start_date=training_start_datetime,\n",
    "    end_date=training_end_datetime,\n",
    "    # ... 15+ more parameters\n",
    ")\n",
    "```\n",
    "\n",
    "**Widget Approach (Simple):**\n",
    "```python\n",
    "widget = create_cradle_config_widget(base_config=base_config, job_type=\"training\")\n",
    "widget.display()\n",
    "training_cradle_data_load_config = widget.get_config()\n",
    "```\n",
    "\n",
    "## 🎉 Benefits\n",
    "\n",
    "- **🎨 User-Friendly**: Visual interface instead of complex parameter lists\n",
    "- **🛡️ Error Prevention**: Built-in validation and error checking\n",
    "- **⚡ Faster**: Complete configuration in minutes, not hours\n",
    "- **🔄 Same Output**: Identical CradleDataLoadConfig objects\n",
    "- **📋 Easy Integration**: Works with existing notebook workflows\n",
    "\n",
    "The widget provides the exact same functionality as manual configuration but with a dramatically improved user experience!"
   ]
  }
 ],
 "metadata": {
  "kernelspec": {
   "display_name": "Python 3",
   "language": "python",
   "name": "python3"
  },
  "language_info": {
   "codemirror_mode": {
    "name": "ipython",
    "version": 3
   },
   "file_extension": ".py",
   "mimetype": "text/x-python",
   "name": "python",
   "nbconvert_exporter": "python",
   "pygments_lexer": "ipython3",
   "version": "3.8.5"
  }
 },
 "nbformat": 4,
 "nbformat_minor": 4
}
