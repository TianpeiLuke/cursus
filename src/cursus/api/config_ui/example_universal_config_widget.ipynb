{
 "cells": [
  {
   "cell_type": "markdown",
   "metadata": {},
   "source": [
    "# Universal Configuration Widget Example\n",
    "\n",
    "This notebook demonstrates how to use the Universal Configuration Widget in Jupyter notebooks to replace manual configuration blocks with interactive UI forms.\n",
    "\n",
    "## Features\n",
    "\n",
    "- **Universal Support**: Works with any configuration class inheriting from `BasePipelineConfig`\n",
    "- **Interactive UI**: Embedded web interface with real-time validation\n",
    "- **Enhanced Error Handling**: Field-specific Pydantic validation errors with visual highlighting\n",
    "- **Auto-Population**: Pre-populates forms using base configuration data\n",
    "- **Seamless Integration**: Drop-in replacement for manual configuration blocks"
   ]
  },
  {
   "cell_type": "markdown",
   "metadata": {},
   "source": [
    "## Setup\n",
    "\n",
    "First, let's set up the base configuration and import the necessary modules:"
   ]
  },
  {
   "cell_type": "code",
   "execution_count": null,
   "metadata": {},
   "outputs": [],
   "source": [
    "# Import required modules\n",
    "from cursus.core.base.config_base import BasePipelineConfig\n",
    "from cursus.steps.configs.config_processing_step_base import ProcessingStepConfigBase\n",
    "from cursus.api.config_ui import (\n",
    "    create_jupyter_config_widget,\n",
    "    create_jupyter_pipeline_config_widget,\n",
    "    UniversalConfigWidgetWithServer\n",
    ")\n",
    "\n",
    "# Create base configuration\n",
    "base_config = BasePipelineConfig(\n",
    "    author=\"lukexie\",\n",
    "    bucket=\"example-bucket\", \n",
    "    role=\"arn:aws:iam::123456789012:role/SageMakerRole\",\n",
    "    region=\"NA\",\n",
    "    service_name=\"AtoZ\",\n",
    "    pipeline_version=\"1.0.0\",\n",
    "    project_root_folder=\"example-project\"\n",
    ")\n",
    "\n",
    "print(\"✅ Base configuration created successfully!\")\n",
    "print(f\"Author: {base_config.author}\")\n",
    "print(f\"Bucket: {base_config.bucket}\")\n",
    "print(f\"Region: {base_config.region}\")"
   ]
  },
  {
   "cell_type": "markdown",
   "metadata": {},
   "source": [
    "## Example 1: Single Configuration Widget\n",
    "\n",
    "Replace manual configuration blocks with interactive widgets:"
   ]
  },
  {
   "cell_type": "code",
   "execution_count": null,
   "metadata": {},
   "outputs": [],
   "source": [
    "# Instead of manually creating ProcessingStepConfigBase:\n",
    "# processing_step_config = ProcessingStepConfigBase.from_base_config(\n",
    "#     base_config,\n",
    "#     processing_step_name=\"data_processing\",\n",
    "#     # ... many more fields to configure manually\n",
    "# )\n",
    "\n",
    "# Use the interactive widget instead:\n",
    "processing_widget = create_jupyter_config_widget(\n",
    "    config_class_name=\"ProcessingStepConfigBase\",\n",
    "    base_config=base_config,\n",
    "    height=\"700px\"\n",
    ")\n",
    "\n",
    "processing_widget.display()"
   ]
  },
  {
   "cell_type": "markdown",
   "metadata": {},
   "source": [
    "### Retrieve the Configuration\n",
    "\n",
    "After completing the form above and clicking \"Save Configuration\", then \"Get Configuration\":"
   ]
  },
  {
   "cell_type": "code",
   "execution_count": null,
   "metadata": {},
   "outputs": [],
   "source": [
    "# Get the configuration data from the widget\n",
    "config_data = processing_widget.get_config()\n",
    "\n",
    "if config_data:\n",
    "    # Create the actual configuration instance\n",
    "    processing_step_config = ProcessingStepConfigBase(**config_data)\n",
    "    \n",
    "    print(\"✅ ProcessingStepConfigBase created successfully!\")\n",
    "    print(f\"Processing step name: {processing_step_config.processing_step_name}\")\n",
    "    print(f\"Number of fields configured: {len(config_data)}\")\n",
    "    \n",
    "    # Add to your config list\n",
    "    config_list = [base_config, processing_step_config]\n",
    "    print(f\"\\n📋 Config list now has {len(config_list)} configurations\")\n",
    "else:\n",
    "    print(\"❌ No configuration data available. Please complete the form above first.\")"
   ]
  },
  {
   "cell_type": "markdown",
   "metadata": {},
   "source": [
    "## Example 2: Multiple Configuration Types\n",
    "\n",
    "Create widgets for different configuration types:"
   ]
  },
  {
   "cell_type": "code",
   "execution_count": null,
   "metadata": {},
   "outputs": [],
   "source": [
    "# Create widget for Cradle Data Load Configuration\n",
    "cradle_widget = create_jupyter_config_widget(\n",
    "    config_class_name=\"CradleDataLoadConfig\",\n",
    "    base_config=base_config,\n",
    "    height=\"800px\"\n",
    ")\n",
    "\n",
    "cradle_widget.display()"
   ]
  },
  {
   "cell_type": "code",
   "execution_count": null,
   "metadata": {},
   "outputs": [],
   "source": [
    "# Retrieve Cradle configuration\n",
    "cradle_config_data = cradle_widget.get_config()\n",
    "\n",
    "if cradle_config_data:\n",
    "    from cursus.steps.configs.config_cradle_data_loading_step import CradleDataLoadConfig\n",
    "    cradle_config = CradleDataLoadConfig(**cradle_config_data)\n",
    "    \n",
    "    print(\"✅ CradleDataLoadConfig created successfully!\")\n",
    "    print(f\"Job type: {cradle_config.job_specification.job_type}\")\n",
    "    print(f\"Data sources: {len(cradle_config.data_sources_specification.data_sources)}\")\n",
    "    \n",
    "    # Add to config list\n",
    "    config_list.append(cradle_config)\n",
    "    print(f\"\\n📋 Config list now has {len(config_list)} configurations\")\n",
    "else:\n",
    "    print(\"❌ No Cradle configuration data available. Please complete the form above first.\")"
   ]
  },
  {
   "cell_type": "markdown",
   "metadata": {},
   "source": [
    "## Example 3: Widget with Server Management\n",
    "\n",
    "For cases where you need the widget to manage its own server:"
   ]
  },
  {
   "cell_type": "code",
   "execution_count": null,
   "metadata": {},
   "outputs": [],
   "source": [
    "# Create widget that can start/stop its own server\n",
    "server_widget = UniversalConfigWidgetWithServer(\n",
    "    config_class_name=\"ModelHyperparameters\",\n",
    "    base_config=base_config,\n",
    "    height=\"600px\",\n",
    "    server_port=8004\n",
    ")\n",
    "\n",
    "# This will automatically start the server if needed\n",
    "server_widget.display()"
   ]
  },
  {
   "cell_type": "markdown",
   "metadata": {},
   "source": [
    "## Key Features Demonstrated\n",
    "\n",
    "### 1. Enhanced Error Handling\n",
    "- Field-specific Pydantic validation errors\n",
    "- Visual highlighting of invalid fields\n",
    "- Auto-scroll to first error field\n",
    "- User-friendly error messages\n",
    "\n",
    "### 2. Real-time Validation\n",
    "- 300ms debounced validation\n",
    "- Type-specific validation rules\n",
    "- JSON validation for complex fields\n",
    "\n",
    "### 3. Enhanced User Experience\n",
    "- Request deduplication and caching\n",
    "- Loading state indicators\n",
    "- Unsaved changes protection\n",
    "- Form state management\n",
    "\n",
    "### 4. Package Portability\n",
    "- Proper relative imports\n",
    "- Flexible deployment options\n",
    "- Production-ready implementation"
   ]
  }
 ],
 "metadata": {
  "kernelspec": {
   "display_name": ".venv",
   "language": "python",
   "name": "python3"
  },
  "language_info": {
   "codemirror_mode": {
    "name": "ipython",
    "version": 3
   },
   "file_extension": ".py",
   "mimetype": "text/x-python",
   "name": "python",
   "nbconvert_exporter": "python",
   "pygments_lexer": "ipython3",
   "version": "3.12.7"
  }
 },
 "nbformat": 4,
 "nbformat_minor": 4
}
