{
 "cells": [
  {
   "cell_type": "markdown",
   "metadata": {},
   "source": [
    "# Interactive Pipeline Configuration with DAGConfigFactory\n",
    "\n",
    "This notebook demonstrates the new interactive approach to pipeline configuration using the DAGConfigFactory.\n",
    "Instead of manually creating 500+ lines of static configuration, we use a guided step-by-step process.\n",
    "\n",
    "## Workflow Overview\n",
    "\n",
    "1. **Define Pipeline DAG** - Create the pipeline structure\n",
    "2. **Initialize DAGConfigFactory** - Set up the interactive factory\n",
    "3. **Configure Base Settings** - Set shared pipeline configuration\n",
    "4. **Configure Processing Settings** - Set shared processing configuration\n",
    "5. **Configure Individual Steps** - Set step-specific configurations\n",
    "6. **Generate Final Configurations** - Create config instances\n",
    "7. **Save to JSON** - Export unified configuration file\n",
    "\n",
    "![mods_pipeline_train_eval_calib](./tutorials/mods_end_to_end_xgboost.png)"
   ]
  },
  {
   "cell_type": "markdown",
   "metadata": {},
   "source": [
    "## Environment Setup"
   ]
  },
  {
   "cell_type": "code",
   "execution_count": 1,
   "metadata": {},
   "outputs": [
    {
     "name": "stdout",
     "output_type": "stream",
     "text": [
      "project root /home/ec2-user/SageMaker/BuyerAbuseModsTemplate/src\n",
      "add project root /home/ec2-user/SageMaker/BuyerAbuseModsTemplate/src into system\n"
     ]
    }
   ],
   "source": [
    "import os\n",
    "import json\n",
    "import sys\n",
    "from pathlib import Path\n",
    "from datetime import datetime, date\n",
    "import logging\n",
    "from typing import List, Optional, Dict, Any\n",
    "\n",
    "\n",
    "# Set up logging\n",
    "logging.basicConfig(\n",
    "    level=logging.INFO,\n",
    "    format='%(asctime)s - %(levelname)s - %(message)s'\n",
    ")\n",
    "logger = logging.getLogger(__name__)\n",
    "\n",
    "# Get parent directory of current notebook\n",
    "project_root = str(Path().absolute().parent.parent )\n",
    "print(f\"project root {project_root}\")\n",
    "if project_root not in sys.path:\n",
    "    sys.path.insert(0, project_root)  \n",
    "    print(f\"add project root {project_root} into system\")"
   ]
  },
  {
   "cell_type": "code",
   "execution_count": 2,
   "metadata": {},
   "outputs": [
    {
     "name": "stderr",
     "output_type": "stream",
     "text": [
      "2025-10-16 03:49:34,880 - INFO - Found credentials from IAM Role: BaseNotebookInstanceEc2InstanceRole\n"
     ]
    },
    {
     "name": "stdout",
     "output_type": "stream",
     "text": [
      "sagemaker.config INFO - Not applying SDK defaults from location: /etc/xdg/sagemaker/config.yaml\n",
      "sagemaker.config INFO - Not applying SDK defaults from location: /home/ec2-user/.config/sagemaker/config.yaml\n"
     ]
    },
    {
     "name": "stderr",
     "output_type": "stream",
     "text": [
      "2025-10-16 03:49:35,173 - INFO - CA certs are provided via the AmazonCACerts installation at /home/ec2-user/.local/lib/python3.10/site-packages/amazoncerts\n",
      "2025-10-16 03:49:35,613 - INFO - Found credentials from IAM Role: BaseNotebookInstanceEc2InstanceRole\n",
      "2025-10-16 03:49:36,446 - INFO - successfully patched module botocore\n",
      "2025-10-16 03:49:36,463 - INFO - Found credentials from IAM Role: BaseNotebookInstanceEc2InstanceRole\n",
      "2025-10-16 03:49:36,645 - INFO - There is no MODS workflow execution id provided, this is probably because you are running your pipeline outside of MODS.\n",
      "2025-10-16 03:49:36,661 - INFO - Found credentials from IAM Role: BaseNotebookInstanceEc2InstanceRole\n",
      "2025-10-16 03:49:37,174 - INFO - Found credentials from IAM Role: BaseNotebookInstanceEc2InstanceRole\n"
     ]
    },
    {
     "name": "stdout",
     "output_type": "stream",
     "text": [
      "Bucket: sandboxdependency-abuse-secureaisandboxteamshare-1l77v9am252um\n",
      "Role: arn:aws:iam::601857636239:role/SandboxRole-lukexie-us-east-1\n"
     ]
    }
   ],
   "source": [
    "# SageMaker and SAIS imports\n",
    "from sagemaker import Session\n",
    "from sagemaker.workflow.pipeline_context import PipelineSession\n",
    "from secure_ai_sandbox_python_lib.session import Session as SaisSession\n",
    "from mods_workflow_helper.utils.secure_session import create_secure_session_config\n",
    "from mods_workflow_helper.sagemaker_pipeline_helper import SecurityConfig\n",
    "\n",
    "# Initialize SAIS session\n",
    "sais_session = SaisSession(\".\")\n",
    "\n",
    "# Create security config\n",
    "security_config = SecurityConfig(\n",
    "    kms_key=sais_session.get_team_owned_bucket_kms_key(),\n",
    "    security_group=sais_session.sandbox_vpc_security_group(),\n",
    "    vpc_subnets=sais_session.sandbox_vpc_subnets()\n",
    ")\n",
    "\n",
    "# Create SageMaker config\n",
    "sagemaker_config = create_secure_session_config(\n",
    "    role_arn=PipelineSession().get_caller_identity_arn(),\n",
    "    bucket_name=sais_session.team_owned_s3_bucket_name(),\n",
    "    kms_key=sais_session.get_team_owned_bucket_kms_key(),\n",
    "    vpc_subnet_ids=sais_session.sandbox_vpc_subnets(),\n",
    "    vpc_security_groups=[sais_session.sandbox_vpc_security_group()]\n",
    ")\n",
    "\n",
    "# Create pipeline session\n",
    "pipeline_session = PipelineSession(\n",
    "    default_bucket=sais_session.team_owned_s3_bucket_name(), \n",
    "    sagemaker_config=sagemaker_config\n",
    ")\n",
    "pipeline_session.config = sagemaker_config\n",
    "\n",
    "print(f\"Bucket: {sais_session.team_owned_s3_bucket_name()}\")\n",
    "print(f\"Role: {PipelineSession().get_caller_identity_arn()}\")"
   ]
  },
  {
   "cell_type": "markdown",
   "metadata": {},
   "source": [
    "## Step 1: Define Pipeline DAG\n",
    "\n",
    "First, we define the pipeline structure using a DAG (Directed Acyclic Graph).\n",
    "This replaces the hardcoded pipeline structure from the legacy approach."
   ]
  },
  {
   "cell_type": "code",
   "execution_count": 3,
   "metadata": {
    "scrolled": true
   },
   "outputs": [
    {
     "name": "stderr",
     "output_type": "stream",
     "text": [
      "2025-10-16 03:49:37,571 - INFO - Added node: CradleDataLoading_training\n",
      "2025-10-16 03:49:37,571 - INFO - Added node: CradleDataLoading_calibration\n",
      "2025-10-16 03:49:37,572 - INFO - Added node: TabularPreprocessing_training\n",
      "2025-10-16 03:49:37,572 - INFO - Added node: TabularPreprocessing_calibration\n",
      "2025-10-16 03:49:37,573 - INFO - Added node: XGBoostTraining\n",
      "2025-10-16 03:49:37,573 - INFO - Added node: XGBoostModelEval_calibration\n",
      "2025-10-16 03:49:37,574 - INFO - Added node: ModelCalibration_calibration\n",
      "2025-10-16 03:49:37,574 - INFO - Added node: Package\n",
      "2025-10-16 03:49:37,574 - INFO - Added node: Registration\n",
      "2025-10-16 03:49:37,575 - INFO - Added node: Payload\n",
      "2025-10-16 03:49:37,575 - INFO - Added edge: CradleDataLoading_training -> TabularPreprocessing_training\n",
      "2025-10-16 03:49:37,575 - INFO - Added edge: TabularPreprocessing_training -> XGBoostTraining\n",
      "2025-10-16 03:49:37,576 - INFO - Added edge: CradleDataLoading_calibration -> TabularPreprocessing_calibration\n",
      "2025-10-16 03:49:37,576 - INFO - Added edge: XGBoostTraining -> XGBoostModelEval_calibration\n",
      "2025-10-16 03:49:37,576 - INFO - Added edge: TabularPreprocessing_calibration -> XGBoostModelEval_calibration\n",
      "2025-10-16 03:49:37,577 - INFO - Added edge: XGBoostModelEval_calibration -> ModelCalibration_calibration\n",
      "2025-10-16 03:49:37,577 - INFO - Added edge: ModelCalibration_calibration -> Package\n",
      "2025-10-16 03:49:37,577 - INFO - Added edge: XGBoostTraining -> Package\n",
      "2025-10-16 03:49:37,578 - INFO - Added edge: XGBoostTraining -> Payload\n",
      "2025-10-16 03:49:37,578 - INFO - Added edge: Package -> Registration\n",
      "2025-10-16 03:49:37,578 - INFO - Added edge: Payload -> Registration\n",
      "2025-10-16 03:49:37,579 - INFO - Created XGBoost E2E DAG with 10 nodes and 11 edges\n"
     ]
    },
    {
     "name": "stdout",
     "output_type": "stream",
     "text": [
      "Pipeline DAG created with 10 steps:\n",
      "  - CradleDataLoading_training\n",
      "  - CradleDataLoading_calibration\n",
      "  - TabularPreprocessing_training\n",
      "  - TabularPreprocessing_calibration\n",
      "  - XGBoostTraining\n",
      "  - XGBoostModelEval_calibration\n",
      "  - ModelCalibration_calibration\n",
      "  - Package\n",
      "  - Registration\n",
      "  - Payload\n"
     ]
    }
   ],
   "source": [
    "from buyer_abuse_mods_template.cursus.api.dag.base_dag import PipelineDAG\n",
    "\n",
    "def create_xgboost_complete_e2e_dag() -> PipelineDAG:\n",
    "    \"\"\"\n",
    "    Create a complete end-to-end XGBoost pipeline DAG.\n",
    "    \n",
    "    This DAG represents the same workflow as the legacy demo_config.ipynb\n",
    "    but in a structured, reusable format.\n",
    "    \n",
    "    Returns:\n",
    "        PipelineDAG: The directed acyclic graph for the pipeline\n",
    "    \"\"\"\n",
    "    dag = PipelineDAG()\n",
    "    \n",
    "    # Add all nodes - matching the structure from demo_config.ipynb\n",
    "    dag.add_node(\"CradleDataLoading_training\")      # Training data loading\n",
    "    dag.add_node(\"CradleDataLoading_calibration\")   # Calibration data loading\n",
    "    dag.add_node(\"TabularPreprocessing_training\")   # Training data preprocessing\n",
    "    dag.add_node(\"TabularPreprocessing_calibration\") # Calibration data preprocessing\n",
    "    dag.add_node(\"XGBoostTraining\")                 # XGBoost model training\n",
    "    dag.add_node(\"XGBoostModelEval_calibration\")    # Model evaluation\n",
    "    dag.add_node(\"ModelCalibration_calibration\")    # Model calibration\n",
    "    dag.add_node(\"Package\")                         # Model packaging\n",
    "    dag.add_node(\"Registration\")                    # MIMS model registration\n",
    "    dag.add_node(\"Payload\")                         # Payload generation\n",
    "    \n",
    "    # Define dependencies - training flow\n",
    "    dag.add_edge(\"CradleDataLoading_training\", \"TabularPreprocessing_training\")\n",
    "    dag.add_edge(\"TabularPreprocessing_training\", \"XGBoostTraining\")\n",
    "    \n",
    "    # Calibration flow\n",
    "    dag.add_edge(\"CradleDataLoading_calibration\", \"TabularPreprocessing_calibration\")\n",
    "    \n",
    "    # Evaluation flow\n",
    "    dag.add_edge(\"XGBoostTraining\", \"XGBoostModelEval_calibration\")\n",
    "    dag.add_edge(\"TabularPreprocessing_calibration\", \"XGBoostModelEval_calibration\")\n",
    "    \n",
    "    # Model calibration flow\n",
    "    dag.add_edge(\"XGBoostModelEval_calibration\", \"ModelCalibration_calibration\")\n",
    "    \n",
    "    # Output flow\n",
    "    dag.add_edge(\"ModelCalibration_calibration\", \"Package\")\n",
    "    dag.add_edge(\"XGBoostTraining\", \"Package\")\n",
    "    dag.add_edge(\"XGBoostTraining\", \"Payload\")\n",
    "    dag.add_edge(\"Package\", \"Registration\")\n",
    "    dag.add_edge(\"Payload\", \"Registration\")\n",
    "    \n",
    "    logger.info(f\"Created XGBoost E2E DAG with {len(dag.nodes)} nodes and {len(dag.edges)} edges\")\n",
    "    return dag\n",
    "\n",
    "# Create the pipeline DAG\n",
    "dag = create_xgboost_complete_e2e_dag()\n",
    "\n",
    "print(f\"Pipeline DAG created with {len(dag.nodes)} steps:\")\n",
    "for node in dag.nodes:\n",
    "    print(f\"  - {node}\")"
   ]
  },
  {
   "cell_type": "markdown",
   "metadata": {},
   "source": [
    "## Step 2: Initialize DAGConfigFactory\n",
    "\n",
    "Now we initialize the DAGConfigFactory with our DAG. This will automatically:\n",
    "- Map DAG nodes to configuration classes\n",
    "- Set up the interactive workflow\n",
    "- Prepare for step-by-step configuration"
   ]
  },
  {
   "cell_type": "code",
   "execution_count": 4,
   "metadata": {},
   "outputs": [
    {
     "name": "stderr",
     "output_type": "stream",
     "text": [
      "2025-10-16 03:49:37,586 - INFO - 🔧 BuilderAutoDiscovery.__init__ starting - package_root: /home/ec2-user/SageMaker/BuyerAbuseModsTemplate/src/buyer_abuse_mods_template/cursus\n",
      "2025-10-16 03:49:37,586 - INFO - 🔧 BuilderAutoDiscovery.__init__ - workspace_dirs: []\n",
      "2025-10-16 03:49:37,587 - INFO - ✅ BuilderAutoDiscovery basic initialization complete\n",
      "2025-10-16 03:49:37,587 - INFO - ✅ Registry info loaded: 25 steps\n",
      "2025-10-16 03:49:37,588 - INFO - 🎉 BuilderAutoDiscovery initialization completed successfully\n",
      "2025-10-16 03:49:37,781 - INFO - Discovered 33 core config classes\n",
      "2025-10-16 03:49:37,791 - INFO - Discovered 3 core hyperparameter classes\n",
      "2025-10-16 03:49:37,817 - INFO - Discovered 7 base hyperparameter classes from core/base\n",
      "2025-10-16 03:49:37,818 - INFO - Built complete config classes: 43 total (33 config + 10 hyperparameter auto-discovered)\n",
      "2025-10-16 03:49:37,818 - INFO - Discovered 43 config classes via step catalog\n",
      "2025-10-16 03:49:37,818 - INFO - Registry system initialized successfully with 43 config classes\n",
      "2025-10-16 03:49:37,819 - INFO - Initialized DAGConfigFactory for DAG with 10 steps\n"
     ]
    },
    {
     "name": "stdout",
     "output_type": "stream",
     "text": [
      "DAG Node to Config Class Mapping:\n",
      "==================================================\n",
      "  CradleDataLoading_training          -> CradleDataLoadingConfig\n",
      "  CradleDataLoading_calibration       -> CradleDataLoadingConfig\n",
      "  TabularPreprocessing_training       -> TabularPreprocessingConfig\n",
      "  TabularPreprocessing_calibration    -> TabularPreprocessingConfig\n",
      "  XGBoostTraining                     -> XGBoostTrainingConfig\n",
      "  XGBoostModelEval_calibration        -> XGBoostModelEvalConfig\n",
      "  ModelCalibration_calibration        -> ModelCalibrationConfig\n",
      "  Package                             -> PackageConfig\n",
      "  Registration                        -> RegistrationConfig\n",
      "  Payload                             -> PayloadConfig\n",
      "\n",
      "Successfully mapped 10 steps to configuration classes.\n"
     ]
    }
   ],
   "source": [
    "from buyer_abuse_mods_template.cursus.api.factory.dag_config_factory import DAGConfigFactory\n",
    "\n",
    "# Initialize the factory with our DAG\n",
    "factory = DAGConfigFactory(dag)\n",
    "\n",
    "# Get the config class mapping\n",
    "config_map = factory.get_config_class_map()\n",
    "\n",
    "print(\"DAG Node to Config Class Mapping:\")\n",
    "print(\"=\" * 50)\n",
    "for node_name, config_class in config_map.items():\n",
    "    print(f\"  {node_name:<35} -> {config_class.__name__}\")\n",
    "\n",
    "print(f\"\\nSuccessfully mapped {len(config_map)} steps to configuration classes.\")"
   ]
  },
  {
   "cell_type": "markdown",
   "metadata": {},
   "source": [
    "## Step 3: Configure Base Pipeline Settings\n",
    "\n",
    "These settings are shared across ALL pipeline steps. Instead of repeating them\n",
    "in every step configuration, we set them once here."
   ]
  },
  {
   "cell_type": "code",
   "execution_count": 5,
   "metadata": {},
   "outputs": [
    {
     "name": "stdout",
     "output_type": "stream",
     "text": [
      "Base Pipeline Configuration Requirements:\n",
      "==================================================\n",
      "* author                    (str)\n",
      "    Author or owner of the pipeline.\n",
      "\n",
      "* bucket                    (str)\n",
      "    S3 bucket name for pipeline artifacts and data.\n",
      "\n",
      "* role                      (str)\n",
      "    IAM role for pipeline execution.\n",
      "\n",
      "* region                    (str)\n",
      "    Custom region code (NA, EU, FE) for internal logic.\n",
      "\n",
      "* service_name              (str)\n",
      "    Service name for the pipeline.\n",
      "\n",
      "* pipeline_version          (str)\n",
      "    Version string for the SageMaker Pipeline.\n",
      "\n",
      "  model_class               (str) (default: xgboost)\n",
      "    Model class (e.g., XGBoost, PyTorch).\n",
      "\n",
      "  current_date              (str) (default: PydanticUndefined)\n",
      "    Current date, typically used for versioning or pathing.\n",
      "\n",
      "  framework_version         (str) (default: 2.1.0)\n",
      "    Default framework version (e.g., PyTorch).\n",
      "\n",
      "  py_version                (str) (default: py310)\n",
      "    Default Python version.\n",
      "\n",
      "  source_dir                (Optional) (default: None)\n",
      "    Common source directory for scripts if applicable. Can be overridden by step configs.\n",
      "\n",
      "* project_root_folder       (str)\n",
      "    Root folder name for the user's project (required for hybrid resolution)\n",
      "\n"
     ]
    }
   ],
   "source": [
    "# Get base configuration requirements\n",
    "base_requirements = factory.get_base_config_requirements()\n",
    "\n",
    "print(\"Base Pipeline Configuration Requirements:\")\n",
    "print(\"=\" * 50)\n",
    "for req in base_requirements:\n",
    "    marker = \"*\" if req['required'] else \" \"\n",
    "    default_info = f\" (default: {req.get('default')})\" if not req['required'] and 'default' in req else \"\"\n",
    "    print(f\"{marker} {req['name']:<25} ({req['type']}){default_info}\")\n",
    "    print(f\"    {req['description']}\")\n",
    "    print()"
   ]
  },
  {
   "cell_type": "code",
   "execution_count": 6,
   "metadata": {},
   "outputs": [
    {
     "name": "stderr",
     "output_type": "stream",
     "text": [
      "2025-10-16 03:49:37,847 - INFO - Found credentials from IAM Role: BaseNotebookInstanceEc2InstanceRole\n",
      "2025-10-16 03:49:38,014 - INFO - Base configuration set successfully\n"
     ]
    },
    {
     "name": "stdout",
     "output_type": "stream",
     "text": [
      "✅ Base pipeline configuration set successfully!\n",
      "   Region: NA (us-east-1)\n",
      "   Service: AtoZ\n",
      "   Author: lukexie\n",
      "   Pipeline Version: 1.3.1\n"
     ]
    }
   ],
   "source": [
    "# Set up basic configuration values\n",
    "region_list = ['NA', 'EU', 'FE']\n",
    "region_selection = 0\n",
    "region = region_list[region_selection]\n",
    "\n",
    "# Map region to AWS region\n",
    "region_mapping = {\n",
    "    'NA': 'us-east-1',\n",
    "    'EU': 'eu-west-1', \n",
    "    'FE': 'us-west-2'\n",
    "}\n",
    "aws_region = region_mapping[region]\n",
    "\n",
    "# Get current directory and set up paths\n",
    "current_dir = Path.cwd()\n",
    "package_root = Path(current_dir).resolve()\n",
    "source_dir = Path('dockers')\n",
    "project_root_folder = \"bap_example_pipeline\"\n",
    "\n",
    "# Set base configuration\n",
    "factory.set_base_config(\n",
    "    # Infrastructure settings\n",
    "    bucket=sais_session.team_owned_s3_bucket_name(),\n",
    "    role=PipelineSession().get_caller_identity_arn(),\n",
    "    region=region,\n",
    "    aws_region=aws_region,\n",
    "    \n",
    "    # Project identification\n",
    "    author=sais_session.owner_alias(),\n",
    "    service_name='AtoZ',\n",
    "    pipeline_version='1.3.1',\n",
    "    \n",
    "    # Framework settings\n",
    "    framework_version='1.7-1',\n",
    "    py_version='py3',\n",
    "    source_dir=str(source_dir),\n",
    "    project_root_folder=project_root_folder,\n",
    "    \n",
    "    # Date settings\n",
    "    current_date=date.today().strftime(\"%Y-%m-%d\")\n",
    ")\n",
    "\n",
    "print(\"✅ Base pipeline configuration set successfully!\")\n",
    "print(f\"   Region: {region} ({aws_region})\")\n",
    "print(f\"   Service: AtoZ\")\n",
    "print(f\"   Author: {sais_session.owner_alias()}\")\n",
    "print(f\"   Pipeline Version: 1.3.1\")"
   ]
  },
  {
   "cell_type": "markdown",
   "metadata": {},
   "source": [
    "## Step 4: Configure Base Processing Settings\n",
    "\n",
    "These settings are shared across all PROCESSING steps (data loading, preprocessing, etc.)\n",
    "but not training steps."
   ]
  },
  {
   "cell_type": "code",
   "execution_count": 7,
   "metadata": {},
   "outputs": [
    {
     "name": "stdout",
     "output_type": "stream",
     "text": [
      "Base Processing Configuration Requirements:\n",
      "==================================================\n",
      "  processing_instance_count      (int) (default: 1)\n",
      "    Instance count for processing jobs\n",
      "\n",
      "  processing_volume_size         (int) (default: 500)\n",
      "    Volume size for processing jobs in GB\n",
      "\n",
      "  processing_instance_type_large (str) (default: ml.m5.4xlarge)\n",
      "    Large instance type for processing step.\n",
      "\n",
      "  processing_instance_type_small (str) (default: ml.m5.2xlarge)\n",
      "    Small instance type for processing step.\n",
      "\n",
      "  use_large_processing_instance  (bool) (default: False)\n",
      "    Set to True to use large instance type, False for small instance type.\n",
      "\n",
      "  processing_source_dir          (Optional) (default: None)\n",
      "    Source directory for processing scripts. Falls back to base source_dir if not provided.\n",
      "\n",
      "  processing_entry_point         (Optional) (default: None)\n",
      "    Entry point script for processing, must be relative to source directory. Can be overridden by derived classes.\n",
      "\n",
      "  processing_script_arguments    (Optional) (default: None)\n",
      "    Optional arguments for the processing script.\n",
      "\n",
      "  processing_framework_version   (str) (default: 1.2-1)\n",
      "    Version of the scikit-learn framework to use in SageMaker Processing. Format: '<sklearn-version>-<build-number>'\n",
      "\n"
     ]
    }
   ],
   "source": [
    "# Get base processing configuration requirements\n",
    "processing_requirements = factory.get_base_processing_config_requirements()\n",
    "\n",
    "if processing_requirements:\n",
    "    print(\"Base Processing Configuration Requirements:\")\n",
    "    print(\"=\" * 50)\n",
    "    for req in processing_requirements:\n",
    "        marker = \"*\" if req['required'] else \" \"\n",
    "        default_info = f\" (default: {req.get('default')})\" if not req['required'] and 'default' in req else \"\"\n",
    "        print(f\"{marker} {req['name']:<30} ({req['type']}){default_info}\")\n",
    "        print(f\"    {req['description']}\")\n",
    "        print()\n",
    "else:\n",
    "    print(\"No base processing configuration required for this pipeline.\")"
   ]
  },
  {
   "cell_type": "code",
   "execution_count": 8,
   "metadata": {},
   "outputs": [
    {
     "name": "stderr",
     "output_type": "stream",
     "text": [
      "2025-10-16 03:49:38,025 - INFO - Package location discovery succeeded (bundled): /home/ec2-user/SageMaker/BuyerAbuseModsTemplate/src/buyer_abuse_mods_template/bap_example_pipeline/dockers\n",
      "2025-10-16 03:49:38,026 - INFO - Hybrid resolution completed successfully via Package Location Discovery: /home/ec2-user/SageMaker/BuyerAbuseModsTemplate/src/buyer_abuse_mods_template/bap_example_pipeline/dockers\n",
      "2025-10-16 03:49:38,026 - INFO - Base processing configuration set successfully\n"
     ]
    },
    {
     "name": "stdout",
     "output_type": "stream",
     "text": [
      "✅ Base processing configuration set successfully!\n",
      "   Processing source: dockers/scripts\n"
     ]
    }
   ],
   "source": [
    "# Set base processing configuration if needed\n",
    "if processing_requirements:\n",
    "    processing_source_dir = source_dir / 'scripts'\n",
    "    \n",
    "    factory.set_base_processing_config(\n",
    "        # Processing infrastructure\n",
    "        processing_source_dir=str(processing_source_dir),\n",
    "        processing_instance_type_large='ml.m5.12xlarge',\n",
    "        processing_instance_type_small='ml.m5.4xlarge',\n",
    "    )\n",
    "    \n",
    "    print(\"✅ Base processing configuration set successfully!\")\n",
    "    print(f\"   Processing source: {processing_source_dir}\")\n",
    "else:\n",
    "    print(\"✅ No base processing configuration needed.\")"
   ]
  },
  {
   "cell_type": "markdown",
   "metadata": {},
   "source": [
    "## Step 5: Check Configuration Status\n",
    "\n",
    "Let's see which steps still need configuration."
   ]
  },
  {
   "cell_type": "code",
   "execution_count": 9,
   "metadata": {},
   "outputs": [
    {
     "name": "stdout",
     "output_type": "stream",
     "text": [
      "Configuration Status:\n",
      "==============================\n",
      "Base config set: ✅\n",
      "Processing config set: ✅\n",
      "Total steps: 10\n",
      "Pending steps: 8\n",
      "\n",
      "Steps needing configuration:\n",
      "  - CradleDataLoading_training\n",
      "  - CradleDataLoading_calibration\n",
      "  - TabularPreprocessing_training\n",
      "  - TabularPreprocessing_calibration\n",
      "  - XGBoostTraining\n",
      "  - XGBoostModelEval_calibration\n",
      "  - ModelCalibration_calibration\n",
      "  - Registration\n"
     ]
    }
   ],
   "source": [
    "# Check current status\n",
    "status = factory.get_configuration_status()\n",
    "pending_steps = factory.get_pending_steps()\n",
    "\n",
    "print(\"Configuration Status:\")\n",
    "print(\"=\" * 30)\n",
    "print(f\"Base config set: {'✅' if status['base_config'] else '❌'}\")\n",
    "print(f\"Processing config set: {'✅' if status['base_processing_config'] else '❌'}\")\n",
    "print(f\"Total steps: {len(config_map)}\")\n",
    "print(f\"Pending steps: {len(pending_steps)}\")\n",
    "print()\n",
    "\n",
    "if pending_steps:\n",
    "    print(\"Steps needing configuration:\")\n",
    "    for step in pending_steps:\n",
    "        print(f\"  - {step}\")\n",
    "else:\n",
    "    print(\"✅ All steps configured!\")"
   ]
  },
  {
   "cell_type": "markdown",
   "metadata": {},
   "source": [
    "## Step 6: Configure Individual Steps\n",
    "\n",
    "Now we configure each step with its specific requirements. The factory will show us\n",
    "only the fields that are unique to each step (not inherited from base configs)."
   ]
  },
  {
   "cell_type": "markdown",
   "metadata": {},
   "source": [
    "### Step 6.1: Configure Training Step\n",
    "\n",
    "This config is for **TrainingStep**. \n",
    "* It ask user to provide all necessary information to construct a **Container** and start a **Training Job**\n",
    "* Ths most important information has provided in the **HyperParameter** section.\n"
   ]
  },
  {
   "cell_type": "code",
   "execution_count": 10,
   "metadata": {},
   "outputs": [],
   "source": [
    "tab_field_list = [\n",
    "f'Abuse.abuse_fap_action_by_customer_inline_transform_{region.lower()}.n_claims_solicit_count_last_365_days',\n",
    "f'Abuse.abuse_fap_action_by_customer_inline_transform_{region.lower()}.n_claims_warn_count_last_365_days',\n",
    "f'Abuse.abuse_fap_action_by_customer_inline_transform_{region.lower()}.n_concession_solicit_count_last_365_days',\n",
    "f'Abuse.abuse_fap_action_by_customer_inline_transform_{region.lower()}.n_concession_warn_count_last_365_days',\n",
    "f'Abuse.bsm_stats_for_evaluated_mfn_concessions_by_customer_{region.lower()}.n_max_buyer_order_message_time_gap',\n",
    "f'Abuse.bsm_stats_for_evaluated_mfn_concessions_by_customer_{region.lower()}.n_max_order_message_time_gap',\n",
    "f'Abuse.bsm_stats_for_evaluated_mfn_concessions_by_customer_{region.lower()}.n_max_seller_order_message_time_gap',\n",
    "f'Abuse.bsm_stats_for_evaluated_mfn_concessions_by_customer_{region.lower()}.n_message_count_with_diff_topic_si',\n",
    "f'Abuse.bsm_stats_for_evaluated_mfn_concessions_by_customer_{region.lower()}.n_message_count_with_notr_topic_si',\n",
    "f'Abuse.bsm_stats_for_evaluated_mfn_concessions_by_customer_{region.lower()}.n_message_count_with_return_keywords_si',\n",
    "f'Abuse.bsm_stats_for_evaluated_mfn_concessions_by_customer_{region.lower()}.n_min_buyer_message_count',\n",
    "f'Abuse.bsm_stats_for_evaluated_mfn_concessions_by_customer_{region.lower()}.n_min_buyer_order_message_time_gap',\n",
    "f'Abuse.bsm_stats_for_evaluated_mfn_concessions_by_customer_{region.lower()}.n_min_message_count',\n",
    "f'Abuse.bsm_stats_for_evaluated_mfn_concessions_by_customer_{region.lower()}.n_min_order_message_time_gap',\n",
    "f'Abuse.bsm_stats_for_evaluated_mfn_concessions_by_customer_{region.lower()}.n_min_seller_message_count',\n",
    "f'Abuse.bsm_stats_for_evaluated_mfn_concessions_by_customer_{region.lower()}.n_min_seller_order_message_time_gap',\n",
    "f'Abuse.bsm_stats_for_evaluated_mfn_concessions_by_customer_{region.lower()}.n_total_buyer_message_count',\n",
    "f'Abuse.bsm_stats_for_evaluated_mfn_concessions_by_customer_{region.lower()}.n_total_message_count',\n",
    "f'Abuse.bsm_stats_for_evaluated_mfn_concessions_by_customer_{region.lower()}.n_total_seller_message_count',\n",
    "f'Abuse.bsm_stats_for_evaluated_mfn_concessions_by_customer_{region.lower()}.n_total_topic_count',\n",
    "'Abuse.completed_afn_orders_by_customer_marketplace.n_afn_order_count_last_365_days',\n",
    "'Abuse.completed_afn_orders_by_customer_marketplace.n_afn_unit_amount_last_365_days',\n",
    "'Abuse.completed_afn_orders_by_customer_marketplace.n_afn_unit_count_last_365_days',\n",
    "'Abuse.completed_mfn_orders_by_customer_marketplace.n_mfn_order_count_last_365_days',\n",
    "'Abuse.completed_mfn_orders_by_customer_marketplace.n_mfn_unit_amount_last_365_days',\n",
    "'Abuse.completed_mfn_orders_by_customer_marketplace.n_mfn_unit_count_last_365_days',\n",
    "'Abuse.dnr_by_customer_marketplace.n_dnr_amount_si_last_365_days',\n",
    "'Abuse.dnr_by_customer_marketplace.n_dnr_order_count_last_365_days',\n",
    "'Abuse.dnr_by_customer_marketplace.n_dnr_unit_amount_last_365_days',\n",
    "'Abuse.dnr_by_customer_marketplace.n_dnr_unit_count_last_365_days',\n",
    "'Abuse.mfn_a2z_claims_by_customer_na.n_mfn_claims_amount_last_365_days',\n",
    "'Abuse.mfn_a2z_claims_by_customer_na.n_mfn_claims_count_last_365_days',\n",
    "'Abuse.mfn_a2z_claims_by_customer_na.n_mfn_diff_claims_amount_last_365_days',\n",
    "'Abuse.mfn_a2z_claims_by_customer_na.n_mfn_diff_claims_count_last_365_days',\n",
    "'Abuse.mfn_a2z_claims_by_customer_na.n_mfn_notr_claims_amount_last_365_days',\n",
    "'Abuse.mfn_a2z_claims_by_customer_na.n_mfn_notr_claims_count_last_365_days',\n",
    "'Abuse.mfn_categorized_refunds_by_customer_marketplace.n_mfn_diff_refunds_order_count_last_365_days',\n",
    "'Abuse.mfn_categorized_refunds_by_customer_marketplace.n_mfn_diff_refunds_unit_amount_last_365_days',\n",
    "'Abuse.mfn_categorized_refunds_by_customer_marketplace.n_mfn_diff_refunds_unit_count_last_365_days',\n",
    "'Abuse.mfn_categorized_refunds_by_customer_marketplace.n_mfn_notr_refunds_order_count_last_365_days',\n",
    "'Abuse.mfn_categorized_refunds_by_customer_marketplace.n_mfn_notr_refunds_unit_amount_last_365_days',\n",
    "'Abuse.mfn_categorized_refunds_by_customer_marketplace.n_mfn_notr_refunds_unit_count_last_365_days',\n",
    "'Abuse.mfn_categorized_refunds_si_by_customer_marketplace.n_mfn_diff_refunds_si_365_days',\n",
    "'Abuse.mfn_categorized_refunds_si_by_customer_marketplace.n_mfn_notr_refunds_si_365_days',\n",
    "'Abuse.mfn_refunds_by_customer_marketplace.n_mfn_refund_order_count_last_365_days',\n",
    "'Abuse.mfn_refunds_by_customer_marketplace.n_mfn_refund_unit_amount_last_365_days',\n",
    "'Abuse.mfn_refunds_by_customer_marketplace.n_mfn_refund_unit_count_last_365_days',\n",
    "'Abuse.mfn_refunds_si_by_customer_marketplace.n_mfn_refund_amount_si_last_365_days',\n",
    "'Abuse.order_to_execution_time_from_eventvariables.n_order_to_execution',\n",
    "'Abuse.shiptrack_flag_by_order.n_any_delivered',\n",
    "'Abuse.shiptrack_flag_by_order.n_any_available_for_pickup',\n",
    "'Abuse.shiptrack_flag_by_order.n_any_partial_delivered',\n",
    "'Abuse.shiptrack_flag_by_order.n_any_undeliverable',\n",
    "'Abuse.shiptrack_flag_by_order.n_any_returning',\n",
    "'Abuse.shiptrack_flag_by_order.n_any_returned',\n",
    "'COMP_DAYOB',\n",
    "'claimAmount_value',\n",
    "'claimantInfo_allClaimCount365day',\n",
    "'claimantInfo_lifetimeClaimCount',\n",
    "'claimantInfo_pendingClaimCount',\n",
    "]"
   ]
  },
  {
   "cell_type": "code",
   "execution_count": 11,
   "metadata": {},
   "outputs": [],
   "source": [
    "cat_field_list = [\n",
    "    'PAYMETH',\n",
    "    'claim_reason',\n",
    "    'claimantInfo_status',\n",
    "    'shipments_status'\n",
    "]"
   ]
  },
  {
   "cell_type": "code",
   "execution_count": 12,
   "metadata": {},
   "outputs": [],
   "source": [
    "label_name = 'is_abuse'         \n",
    "id_name = 'order_id'\n",
    "\n",
    "in_house_field_list = [\n",
    "    id_name,\n",
    "    'marketplace_id',\n",
    "    label_name\n",
    "]"
   ]
  },
  {
   "cell_type": "code",
   "execution_count": 13,
   "metadata": {},
   "outputs": [],
   "source": [
    "full_field_list = tab_field_list + cat_field_list + in_house_field_list"
   ]
  },
  {
   "cell_type": "code",
   "execution_count": 14,
   "metadata": {},
   "outputs": [
    {
     "name": "stdout",
     "output_type": "stream",
     "text": [
      "✅ Hyperparameters created\n",
      "   Features: 67 total, 60 numerical, 4 categorical\n",
      "   XGBoost rounds: 300\n"
     ]
    }
   ],
   "source": [
    "# First, let's create the hyperparameters\n",
    "from buyer_abuse_mods_template.cursus.steps.hyperparams.hyperparameters_xgboost import XGBoostModelHyperparameters\n",
    "from buyer_abuse_mods_template.cursus.core.base.hyperparameters_base import ModelHyperparameters\n",
    "\n",
    "# Create base hyperparameters\n",
    "base_hyperparameter = ModelHyperparameters(\n",
    "    full_field_list=full_field_list,\n",
    "    cat_field_list=cat_field_list,\n",
    "    tab_field_list=tab_field_list,\n",
    "    label_name=label_name,\n",
    "    id_name=id_name,\n",
    "    multiclass_categories=[0, 1]\n",
    ")\n",
    "\n",
    "# Create XGBoost hyperparameters\n",
    "xgb_hyperparams = XGBoostModelHyperparameters.from_base_hyperparam(\n",
    "    base_hyperparameter,\n",
    "    num_round=300,\n",
    "    max_depth=6,\n",
    "    min_child_weight=1\n",
    ")\n",
    "\n",
    "print(\"✅ Hyperparameters created\")\n",
    "print(f\"   Features: {len(full_field_list)} total, {len(tab_field_list)} numerical, {len(cat_field_list)} categorical\")\n",
    "print(f\"   XGBoost rounds: {xgb_hyperparams.num_round}\")"
   ]
  },
  {
   "cell_type": "code",
   "execution_count": 15,
   "metadata": {},
   "outputs": [],
   "source": [
    "instance_type_list = [\n",
    "    \"ml.m5.4xlarge\",\n",
    "    \"ml.g4dn.16xlarge\", \n",
    "    \"ml.g5.12xlarge\", \n",
    "    \"ml.g5.16xlarge\",\n",
    "    \"ml.p3.8xlarge\", \n",
    "    \"ml.m5.12xlarge\",\n",
    "    \"ml.p3.16xlarge\"\n",
    "]"
   ]
  },
  {
   "cell_type": "code",
   "execution_count": 16,
   "metadata": {},
   "outputs": [],
   "source": [
    "instance_select = -2"
   ]
  },
  {
   "cell_type": "code",
   "execution_count": 17,
   "metadata": {},
   "outputs": [
    {
     "name": "stderr",
     "output_type": "stream",
     "text": [
      "2025-10-16 03:49:38,080 - INFO - ✅ XGBoostTraining configured successfully using XGBoostTrainingConfig\n"
     ]
    },
    {
     "name": "stdout",
     "output_type": "stream",
     "text": [
      "✅ XGBoostTraining configured\n",
      "   Instance type: ml.m5.4xlarge\n",
      "   Volume size: 800 GB\n"
     ]
    }
   ],
   "source": [
    "# Configure XGBoost training\n",
    "if \"XGBoostTraining\" in pending_steps:\n",
    "    step_name = \"XGBoostTraining\"\n",
    "    \n",
    "    factory.set_step_config(\n",
    "        step_name,\n",
    "        training_instance_type=instance_type_list[instance_select],\n",
    "        training_entry_point='xgboost_training.py',\n",
    "        training_volume_size=800\n",
    "    )\n",
    "    print(f\"✅ {step_name} configured\")\n",
    "    print(f\"   Instance type: ml.m5.4xlarge\")\n",
    "    print(f\"   Volume size: 800 GB\")"
   ]
  },
  {
   "cell_type": "markdown",
   "metadata": {},
   "source": [
    "### Step 6.2: Configure Data Loading Steps\n",
    "\n",
    "\n",
    "In this section, user provide the input to construct a **cradle profile**. In Cradle Profle, there are **four** sections\n",
    "1. **Data Source Specification**: specify\n",
    "    1. *data source* (MDS, EDX, ANDES)\n",
    "    2. *input schema*\n",
    "2. **Transform Specification**: specifiy \n",
    "    1. *transform SQL*\n",
    "    2. *job split*\n",
    "3. **Output Specification**: specify\n",
    "    1. *output path*,\n",
    "    2. *ouptut format* (CSV, UNESCAPED_TSV, JSON, ION, PARQUET)\n",
    "    3. *output schema*\n",
    "    4. *save mode*\n",
    "4. **Cradle Job Specification** specify\n",
    "    1. *cradle account*\n",
    "    2. *cluster_type*\n",
    "\n",
    "This config is for **CradleDataLoadingStep**, which is a customized step provided under [SecureAISandboxWorkflowPythonSDK](https://code.amazon.com/packages/SecureAISandboxWorkflowPythonSDK/trees/mainline#)\n",
    "* This step inherit from **MODSPredefinedProcessingStep**, which is a customized base class that itself inherits from **ScriptProcessingStep**. Source code in [MODSWorkflowCore](https://code.amazon.com/packages/MODSWorkflowCore/trees/mainline#)\n",
    "* This step would need to load **Execution Document** to take action.\n",
    "* This step itself does not have many options"
   ]
  },
  {
   "cell_type": "code",
   "execution_count": 18,
   "metadata": {},
   "outputs": [],
   "source": [
    "from buyer_abuse_mods_template.cursus.steps.configs.config_cradle_data_loading_step import (CradleDataLoadingConfig,\n",
    "                                                    MdsDataSourceConfig,\n",
    "                                                    EdxDataSourceConfig,\n",
    "                                                    DataSourceConfig,\n",
    "                                                    DataSourcesSpecificationConfig,\n",
    "                                                    JobSplitOptionsConfig,\n",
    "                                                    TransformSpecificationConfig,\n",
    "                                                    OutputSpecificationConfig,\n",
    "                                                    CradleJobSpecificationConfig\n",
    "                                                   )"
   ]
  },
  {
   "cell_type": "markdown",
   "metadata": {},
   "source": [
    "#### Cradle Data Loading (Training) Step"
   ]
  },
  {
   "cell_type": "code",
   "execution_count": 19,
   "metadata": {},
   "outputs": [],
   "source": [
    "training_start_datetime='2025-01-01T00:00:00'  #'2024-12-01T00:00:00'  #'2024-03-01T00:00:00'\n",
    "training_end_datetime='2025-04-17T00:00:00' "
   ]
  },
  {
   "cell_type": "code",
   "execution_count": 20,
   "metadata": {},
   "outputs": [],
   "source": [
    "mds_service_name='AtoZ'\n",
    "org_id=0"
   ]
  },
  {
   "cell_type": "code",
   "execution_count": 21,
   "metadata": {},
   "outputs": [],
   "source": [
    "mds_field_list=['objectId', \n",
    "                 'transactionDate'] + tab_field_list + cat_field_list\n",
    "mds_output_schema = [{\"field_name\": field, \"field_type\": \"STRING\"} for field in mds_field_list]"
   ]
  },
  {
   "cell_type": "code",
   "execution_count": 22,
   "metadata": {},
   "outputs": [],
   "source": [
    "train_edx_arn = {\n",
    "    'NA': 'arn:amazon:edx:iad::manifest/trms-abuse-analytics/qingyuye-notr-exp/atoz-tag/[\"24292902\",2025-01-01T00:00:00Z,2025-04-17T00:00:00Z,\"NA\"]',\n",
    "    'EU': 'arn:amazon:edx:iad::manifest/trms-abuse-analytics/qingyuye-notr-exp/atoz-tag/[\"24292941\",2025-01-01T00:00:00Z,2025-04-17T00:00:00Z,\"EU\"]',\n",
    "    'FE': 'arn:amazon:edx:iad::manifest/trms-abuse-analytics/qingyuye-notr-exp/atoz-tag/[\"25782074\",2025-01-01T00:00:00Z,2025-04-17T00:00:00Z,\"FE\"]',\n",
    "}"
   ]
  },
  {
   "cell_type": "code",
   "execution_count": 23,
   "metadata": {},
   "outputs": [],
   "source": [
    "tag_schema = [\n",
    "    'order_id',\n",
    "    'marketplace_id',\n",
    "    'tag_date',\n",
    "    'is_abuse',\n",
    "    'abuse_type',\n",
    "    'concession_type',\n",
    "]\n",
    "edx_schema_overrides = [{\"field_name\": field, \"field_type\": \"STRING\"} for field in tag_schema]"
   ]
  },
  {
   "cell_type": "code",
   "execution_count": 24,
   "metadata": {},
   "outputs": [],
   "source": [
    "def get_all_fields(mds_fields: List[str], tag_fields: List[str]) -> List[str]:\n",
    "    \"\"\"\n",
    "    Get a combined list of all fields from MDS and EDX sources.\n",
    "\n",
    "    This function handles case-insensitivity to avoid duplicate columns in SQL SELECT\n",
    "    statements where the only difference is case (e.g., \"OrderId\" and \"orderid\").\n",
    "    When duplicates with different cases are found, the first occurrence is kept.\n",
    "\n",
    "    Args:\n",
    "        mds_fields (List[str]): List of MDS fields\n",
    "        tag_fields (List[str]): List of tag fields\n",
    "\n",
    "    Returns:\n",
    "        List[str]: Combined and deduplicated list of fields\n",
    "    \"\"\"\n",
    "    # Track lowercase field names to detect duplicates\n",
    "    seen_lowercase = {}\n",
    "    deduplicated_fields = []\n",
    "\n",
    "    # Process all fields, keeping only the first occurrence when case-insensitive duplicates exist\n",
    "    for field in mds_fields + tag_fields:\n",
    "        field_lower = field.lower()\n",
    "        if field_lower not in seen_lowercase:\n",
    "            seen_lowercase[field_lower] = True\n",
    "            deduplicated_fields.append(field)\n",
    "\n",
    "    return sorted(deduplicated_fields)"
   ]
  },
  {
   "cell_type": "code",
   "execution_count": 25,
   "metadata": {},
   "outputs": [],
   "source": [
    "output_schema = get_all_fields(mds_field_list, tag_schema)"
   ]
  },
  {
   "cell_type": "code",
   "execution_count": 26,
   "metadata": {},
   "outputs": [],
   "source": [
    "output_format = \"PARQUET\""
   ]
  },
  {
   "cell_type": "markdown",
   "metadata": {},
   "source": [
    "Change the following transform sql"
   ]
  },
  {
   "cell_type": "code",
   "execution_count": 27,
   "metadata": {},
   "outputs": [],
   "source": [
    "transform_sql = \"\"\"\n",
    "SELECT\n",
    "    Abuse__DOT__abuse_fap_action_by_customer_inline_transform_na__DOT__n_claims_solicit_count_last_365_days,\n",
    "    Abuse__DOT__abuse_fap_action_by_customer_inline_transform_na__DOT__n_claims_warn_count_last_365_days,\n",
    "    Abuse__DOT__abuse_fap_action_by_customer_inline_transform_na__DOT__n_concession_solicit_count_last_365_days,\n",
    "    Abuse__DOT__abuse_fap_action_by_customer_inline_transform_na__DOT__n_concession_warn_count_last_365_days,\n",
    "    Abuse__DOT__bsm_stats_for_evaluated_mfn_concessions_by_customer_na__DOT__n_max_buyer_order_message_time_gap,\n",
    "    Abuse__DOT__bsm_stats_for_evaluated_mfn_concessions_by_customer_na__DOT__n_max_order_message_time_gap,\n",
    "    Abuse__DOT__bsm_stats_for_evaluated_mfn_concessions_by_customer_na__DOT__n_max_seller_order_message_time_gap,\n",
    "    Abuse__DOT__bsm_stats_for_evaluated_mfn_concessions_by_customer_na__DOT__n_message_count_with_diff_topic_si,\n",
    "    Abuse__DOT__bsm_stats_for_evaluated_mfn_concessions_by_customer_na__DOT__n_message_count_with_notr_topic_si,\n",
    "    Abuse__DOT__bsm_stats_for_evaluated_mfn_concessions_by_customer_na__DOT__n_message_count_with_return_keywords_si,\n",
    "    Abuse__DOT__bsm_stats_for_evaluated_mfn_concessions_by_customer_na__DOT__n_min_buyer_message_count,\n",
    "    Abuse__DOT__bsm_stats_for_evaluated_mfn_concessions_by_customer_na__DOT__n_min_buyer_order_message_time_gap,\n",
    "    Abuse__DOT__bsm_stats_for_evaluated_mfn_concessions_by_customer_na__DOT__n_min_message_count,\n",
    "    Abuse__DOT__bsm_stats_for_evaluated_mfn_concessions_by_customer_na__DOT__n_min_order_message_time_gap,\n",
    "    Abuse__DOT__bsm_stats_for_evaluated_mfn_concessions_by_customer_na__DOT__n_min_seller_message_count,\n",
    "    Abuse__DOT__bsm_stats_for_evaluated_mfn_concessions_by_customer_na__DOT__n_min_seller_order_message_time_gap,\n",
    "    Abuse__DOT__bsm_stats_for_evaluated_mfn_concessions_by_customer_na__DOT__n_total_buyer_message_count,\n",
    "    Abuse__DOT__bsm_stats_for_evaluated_mfn_concessions_by_customer_na__DOT__n_total_message_count,\n",
    "    Abuse__DOT__bsm_stats_for_evaluated_mfn_concessions_by_customer_na__DOT__n_total_seller_message_count,\n",
    "    Abuse__DOT__bsm_stats_for_evaluated_mfn_concessions_by_customer_na__DOT__n_total_topic_count,\n",
    "    Abuse__DOT__completed_afn_orders_by_customer_marketplace__DOT__n_afn_order_count_last_365_days,\n",
    "    Abuse__DOT__completed_afn_orders_by_customer_marketplace__DOT__n_afn_unit_amount_last_365_days,\n",
    "    Abuse__DOT__completed_afn_orders_by_customer_marketplace__DOT__n_afn_unit_count_last_365_days,\n",
    "    Abuse__DOT__completed_mfn_orders_by_customer_marketplace__DOT__n_mfn_order_count_last_365_days,\n",
    "    Abuse__DOT__completed_mfn_orders_by_customer_marketplace__DOT__n_mfn_unit_amount_last_365_days,\n",
    "    Abuse__DOT__completed_mfn_orders_by_customer_marketplace__DOT__n_mfn_unit_count_last_365_days,\n",
    "    Abuse__DOT__dnr_by_customer_marketplace__DOT__n_dnr_amount_si_last_365_days,\n",
    "    Abuse__DOT__dnr_by_customer_marketplace__DOT__n_dnr_order_count_last_365_days,\n",
    "    Abuse__DOT__dnr_by_customer_marketplace__DOT__n_dnr_unit_amount_last_365_days,\n",
    "    Abuse__DOT__dnr_by_customer_marketplace__DOT__n_dnr_unit_count_last_365_days,\n",
    "    Abuse__DOT__mfn_a2z_claims_by_customer_na__DOT__n_mfn_claims_amount_last_365_days,\n",
    "    Abuse__DOT__mfn_a2z_claims_by_customer_na__DOT__n_mfn_claims_count_last_365_days,\n",
    "    Abuse__DOT__mfn_a2z_claims_by_customer_na__DOT__n_mfn_diff_claims_amount_last_365_days,\n",
    "    Abuse__DOT__mfn_a2z_claims_by_customer_na__DOT__n_mfn_diff_claims_count_last_365_days,\n",
    "    Abuse__DOT__mfn_a2z_claims_by_customer_na__DOT__n_mfn_notr_claims_amount_last_365_days,\n",
    "    Abuse__DOT__mfn_a2z_claims_by_customer_na__DOT__n_mfn_notr_claims_count_last_365_days,\n",
    "    Abuse__DOT__mfn_categorized_refunds_by_customer_marketplace__DOT__n_mfn_diff_refunds_order_count_last_365_days,\n",
    "    Abuse__DOT__mfn_categorized_refunds_by_customer_marketplace__DOT__n_mfn_diff_refunds_unit_amount_last_365_days,\n",
    "    Abuse__DOT__mfn_categorized_refunds_by_customer_marketplace__DOT__n_mfn_diff_refunds_unit_count_last_365_days,\n",
    "    Abuse__DOT__mfn_categorized_refunds_by_customer_marketplace__DOT__n_mfn_notr_refunds_order_count_last_365_days,\n",
    "    Abuse__DOT__mfn_categorized_refunds_by_customer_marketplace__DOT__n_mfn_notr_refunds_unit_amount_last_365_days,\n",
    "    Abuse__DOT__mfn_categorized_refunds_by_customer_marketplace__DOT__n_mfn_notr_refunds_unit_count_last_365_days,\n",
    "    Abuse__DOT__mfn_categorized_refunds_si_by_customer_marketplace__DOT__n_mfn_diff_refunds_si_365_days,\n",
    "    Abuse__DOT__mfn_categorized_refunds_si_by_customer_marketplace__DOT__n_mfn_notr_refunds_si_365_days,\n",
    "    Abuse__DOT__mfn_refunds_by_customer_marketplace__DOT__n_mfn_refund_order_count_last_365_days,\n",
    "    Abuse__DOT__mfn_refunds_by_customer_marketplace__DOT__n_mfn_refund_unit_amount_last_365_days,\n",
    "    Abuse__DOT__mfn_refunds_by_customer_marketplace__DOT__n_mfn_refund_unit_count_last_365_days,\n",
    "    Abuse__DOT__mfn_refunds_si_by_customer_marketplace__DOT__n_mfn_refund_amount_si_last_365_days,\n",
    "    Abuse__DOT__order_to_execution_time_from_eventvariables__DOT__n_order_to_execution,\n",
    "    Abuse__DOT__shiptrack_flag_by_order__DOT__n_any_available_for_pickup,\n",
    "    Abuse__DOT__shiptrack_flag_by_order__DOT__n_any_delivered,\n",
    "    Abuse__DOT__shiptrack_flag_by_order__DOT__n_any_partial_delivered,\n",
    "    Abuse__DOT__shiptrack_flag_by_order__DOT__n_any_returned,\n",
    "    Abuse__DOT__shiptrack_flag_by_order__DOT__n_any_returning,\n",
    "    Abuse__DOT__shiptrack_flag_by_order__DOT__n_any_undeliverable,\n",
    "    COMP_DAYOB,\n",
    "    PAYMETH,\n",
    "    abuse_type,\n",
    "    claimAmount_value,\n",
    "    claim_reason,\n",
    "    claimantInfo_allClaimCount365day,\n",
    "    claimantInfo_lifetimeClaimCount,\n",
    "    claimantInfo_pendingClaimCount,\n",
    "    claimantInfo_status,\n",
    "    concession_type,\n",
    "    is_abuse,\n",
    "    marketplace_id,\n",
    "    objectId,\n",
    "    order_id,\n",
    "    shipments_status,\n",
    "    tag_date,\n",
    "    transactionDate\n",
    "FROM (\n",
    "    SELECT\n",
    "        RAW_MDS_NA.Abuse__DOT__abuse_fap_action_by_customer_inline_transform_na__DOT__n_claims_solicit_count_last_365_days,\n",
    "        RAW_MDS_NA.Abuse__DOT__abuse_fap_action_by_customer_inline_transform_na__DOT__n_claims_warn_count_last_365_days,\n",
    "        RAW_MDS_NA.Abuse__DOT__abuse_fap_action_by_customer_inline_transform_na__DOT__n_concession_solicit_count_last_365_days,\n",
    "        RAW_MDS_NA.Abuse__DOT__abuse_fap_action_by_customer_inline_transform_na__DOT__n_concession_warn_count_last_365_days,\n",
    "        RAW_MDS_NA.Abuse__DOT__bsm_stats_for_evaluated_mfn_concessions_by_customer_na__DOT__n_max_buyer_order_message_time_gap,\n",
    "        RAW_MDS_NA.Abuse__DOT__bsm_stats_for_evaluated_mfn_concessions_by_customer_na__DOT__n_max_order_message_time_gap,\n",
    "        RAW_MDS_NA.Abuse__DOT__bsm_stats_for_evaluated_mfn_concessions_by_customer_na__DOT__n_max_seller_order_message_time_gap,\n",
    "        RAW_MDS_NA.Abuse__DOT__bsm_stats_for_evaluated_mfn_concessions_by_customer_na__DOT__n_message_count_with_diff_topic_si,\n",
    "        RAW_MDS_NA.Abuse__DOT__bsm_stats_for_evaluated_mfn_concessions_by_customer_na__DOT__n_message_count_with_notr_topic_si,\n",
    "        RAW_MDS_NA.Abuse__DOT__bsm_stats_for_evaluated_mfn_concessions_by_customer_na__DOT__n_message_count_with_return_keywords_si,\n",
    "        RAW_MDS_NA.Abuse__DOT__bsm_stats_for_evaluated_mfn_concessions_by_customer_na__DOT__n_min_buyer_message_count,\n",
    "        RAW_MDS_NA.Abuse__DOT__bsm_stats_for_evaluated_mfn_concessions_by_customer_na__DOT__n_min_buyer_order_message_time_gap,\n",
    "        RAW_MDS_NA.Abuse__DOT__bsm_stats_for_evaluated_mfn_concessions_by_customer_na__DOT__n_min_message_count,\n",
    "        RAW_MDS_NA.Abuse__DOT__bsm_stats_for_evaluated_mfn_concessions_by_customer_na__DOT__n_min_order_message_time_gap,\n",
    "        RAW_MDS_NA.Abuse__DOT__bsm_stats_for_evaluated_mfn_concessions_by_customer_na__DOT__n_min_seller_message_count,\n",
    "        RAW_MDS_NA.Abuse__DOT__bsm_stats_for_evaluated_mfn_concessions_by_customer_na__DOT__n_min_seller_order_message_time_gap,\n",
    "        RAW_MDS_NA.Abuse__DOT__bsm_stats_for_evaluated_mfn_concessions_by_customer_na__DOT__n_total_buyer_message_count,\n",
    "        RAW_MDS_NA.Abuse__DOT__bsm_stats_for_evaluated_mfn_concessions_by_customer_na__DOT__n_total_message_count,\n",
    "        RAW_MDS_NA.Abuse__DOT__bsm_stats_for_evaluated_mfn_concessions_by_customer_na__DOT__n_total_seller_message_count,\n",
    "        RAW_MDS_NA.Abuse__DOT__bsm_stats_for_evaluated_mfn_concessions_by_customer_na__DOT__n_total_topic_count,\n",
    "        RAW_MDS_NA.Abuse__DOT__completed_afn_orders_by_customer_marketplace__DOT__n_afn_order_count_last_365_days,\n",
    "        RAW_MDS_NA.Abuse__DOT__completed_afn_orders_by_customer_marketplace__DOT__n_afn_unit_amount_last_365_days,\n",
    "        RAW_MDS_NA.Abuse__DOT__completed_afn_orders_by_customer_marketplace__DOT__n_afn_unit_count_last_365_days,\n",
    "        RAW_MDS_NA.Abuse__DOT__completed_mfn_orders_by_customer_marketplace__DOT__n_mfn_order_count_last_365_days,\n",
    "        RAW_MDS_NA.Abuse__DOT__completed_mfn_orders_by_customer_marketplace__DOT__n_mfn_unit_amount_last_365_days,\n",
    "        RAW_MDS_NA.Abuse__DOT__completed_mfn_orders_by_customer_marketplace__DOT__n_mfn_unit_count_last_365_days,\n",
    "        RAW_MDS_NA.Abuse__DOT__dnr_by_customer_marketplace__DOT__n_dnr_amount_si_last_365_days,\n",
    "        RAW_MDS_NA.Abuse__DOT__dnr_by_customer_marketplace__DOT__n_dnr_order_count_last_365_days,\n",
    "        RAW_MDS_NA.Abuse__DOT__dnr_by_customer_marketplace__DOT__n_dnr_unit_amount_last_365_days,\n",
    "        RAW_MDS_NA.Abuse__DOT__dnr_by_customer_marketplace__DOT__n_dnr_unit_count_last_365_days,\n",
    "        RAW_MDS_NA.Abuse__DOT__mfn_a2z_claims_by_customer_na__DOT__n_mfn_claims_amount_last_365_days,\n",
    "        RAW_MDS_NA.Abuse__DOT__mfn_a2z_claims_by_customer_na__DOT__n_mfn_claims_count_last_365_days,\n",
    "        RAW_MDS_NA.Abuse__DOT__mfn_a2z_claims_by_customer_na__DOT__n_mfn_diff_claims_amount_last_365_days,\n",
    "        RAW_MDS_NA.Abuse__DOT__mfn_a2z_claims_by_customer_na__DOT__n_mfn_diff_claims_count_last_365_days,\n",
    "        RAW_MDS_NA.Abuse__DOT__mfn_a2z_claims_by_customer_na__DOT__n_mfn_notr_claims_amount_last_365_days,\n",
    "        RAW_MDS_NA.Abuse__DOT__mfn_a2z_claims_by_customer_na__DOT__n_mfn_notr_claims_count_last_365_days,\n",
    "        RAW_MDS_NA.Abuse__DOT__mfn_categorized_refunds_by_customer_marketplace__DOT__n_mfn_diff_refunds_order_count_last_365_days,\n",
    "        RAW_MDS_NA.Abuse__DOT__mfn_categorized_refunds_by_customer_marketplace__DOT__n_mfn_diff_refunds_unit_amount_last_365_days,\n",
    "        RAW_MDS_NA.Abuse__DOT__mfn_categorized_refunds_by_customer_marketplace__DOT__n_mfn_diff_refunds_unit_count_last_365_days,\n",
    "        RAW_MDS_NA.Abuse__DOT__mfn_categorized_refunds_by_customer_marketplace__DOT__n_mfn_notr_refunds_order_count_last_365_days,\n",
    "        RAW_MDS_NA.Abuse__DOT__mfn_categorized_refunds_by_customer_marketplace__DOT__n_mfn_notr_refunds_unit_amount_last_365_days,\n",
    "        RAW_MDS_NA.Abuse__DOT__mfn_categorized_refunds_by_customer_marketplace__DOT__n_mfn_notr_refunds_unit_count_last_365_days,\n",
    "        RAW_MDS_NA.Abuse__DOT__mfn_categorized_refunds_si_by_customer_marketplace__DOT__n_mfn_diff_refunds_si_365_days,\n",
    "        RAW_MDS_NA.Abuse__DOT__mfn_categorized_refunds_si_by_customer_marketplace__DOT__n_mfn_notr_refunds_si_365_days,\n",
    "        RAW_MDS_NA.Abuse__DOT__mfn_refunds_by_customer_marketplace__DOT__n_mfn_refund_order_count_last_365_days,\n",
    "        RAW_MDS_NA.Abuse__DOT__mfn_refunds_by_customer_marketplace__DOT__n_mfn_refund_unit_amount_last_365_days,\n",
    "        RAW_MDS_NA.Abuse__DOT__mfn_refunds_by_customer_marketplace__DOT__n_mfn_refund_unit_count_last_365_days,\n",
    "        RAW_MDS_NA.Abuse__DOT__mfn_refunds_si_by_customer_marketplace__DOT__n_mfn_refund_amount_si_last_365_days,\n",
    "        RAW_MDS_NA.Abuse__DOT__order_to_execution_time_from_eventvariables__DOT__n_order_to_execution,\n",
    "        RAW_MDS_NA.Abuse__DOT__shiptrack_flag_by_order__DOT__n_any_available_for_pickup,\n",
    "        RAW_MDS_NA.Abuse__DOT__shiptrack_flag_by_order__DOT__n_any_delivered,\n",
    "        RAW_MDS_NA.Abuse__DOT__shiptrack_flag_by_order__DOT__n_any_partial_delivered,\n",
    "        RAW_MDS_NA.Abuse__DOT__shiptrack_flag_by_order__DOT__n_any_returned,\n",
    "        RAW_MDS_NA.Abuse__DOT__shiptrack_flag_by_order__DOT__n_any_returning,\n",
    "        RAW_MDS_NA.Abuse__DOT__shiptrack_flag_by_order__DOT__n_any_undeliverable,\n",
    "        RAW_MDS_NA.COMP_DAYOB,\n",
    "        RAW_MDS_NA.PAYMETH,\n",
    "        RAW_MDS_NA.claimAmount_value,\n",
    "        RAW_MDS_NA.claim_reason,\n",
    "        RAW_MDS_NA.claimantInfo_allClaimCount365day,\n",
    "        RAW_MDS_NA.claimantInfo_lifetimeClaimCount,\n",
    "        RAW_MDS_NA.claimantInfo_pendingClaimCount,\n",
    "        RAW_MDS_NA.claimantInfo_status,\n",
    "        RAW_MDS_NA.objectId,\n",
    "        RAW_MDS_NA.shipments_status,\n",
    "        RAW_MDS_NA.transactionDate,\n",
    "        TAGS.abuse_type,\n",
    "        TAGS.concession_type,\n",
    "        TAGS.is_abuse,\n",
    "        TAGS.marketplace_id,\n",
    "        TAGS.order_id,\n",
    "        TAGS.tag_date,\n",
    "        ROW_NUMBER() OVER (PARTITION BY RAW_MDS_NA.objectId, TAGS.order_id ORDER BY RAW_MDS_NA.transactionDate DESC) as row_num\n",
    "    FROM RAW_MDS_NA\n",
    "    JOIN TAGS ON RAW_MDS_NA.objectId = TAGS.order_id\n",
    ")\n",
    "WHERE row_num = 1\n",
    "\"\"\""
   ]
  },
  {
   "cell_type": "code",
   "execution_count": 28,
   "metadata": {},
   "outputs": [],
   "source": [
    "merge_sql = \"\"\"\n",
    "select * from INPUT\n",
    "\"\"\""
   ]
  },
  {
   "cell_type": "code",
   "execution_count": 29,
   "metadata": {},
   "outputs": [
    {
     "data": {
      "text/plain": [
       "'MEDIUM'"
      ]
     },
     "execution_count": 29,
     "metadata": {},
     "output_type": "execute_result"
    }
   ],
   "source": [
    "available_cluster_types = ['STANDARD',\n",
    "                           'SMALL',\n",
    "                           'MEDIUM',\n",
    "                           'LARGE'\n",
    "                          ]\n",
    "cluster_choice=-2\n",
    "cluster_type=available_cluster_types[cluster_choice]\n",
    "cluster_type"
   ]
  },
  {
   "cell_type": "code",
   "execution_count": 30,
   "metadata": {},
   "outputs": [],
   "source": [
    "cradle_account = 'Buyer-Abuse-RnD-Dev'"
   ]
  },
  {
   "cell_type": "code",
   "execution_count": 31,
   "metadata": {},
   "outputs": [],
   "source": [
    "training_cradle_data_load_dict = {\n",
    "    \"job_type\": \"training\",\n",
    "    \"data_sources_spec\": DataSourcesSpecificationConfig(\n",
    "        start_date=training_start_datetime, \n",
    "        end_date=training_end_datetime,\n",
    "        data_sources=[\n",
    "            DataSourceConfig(\n",
    "                data_source_name='RAW_MDS_NA',\n",
    "                data_source_type='MDS',\n",
    "                mds_data_source_properties=MdsDataSourceConfig(\n",
    "                    service_name=mds_service_name,\n",
    "                    region=region,\n",
    "                    output_schema=mds_output_schema,\n",
    "                    org_id=org_id,\n",
    "                )\n",
    "            ), \n",
    "            DataSourceConfig(\n",
    "                data_source_name='TAGS',\n",
    "                data_source_type='EDX',\n",
    "                edx_data_source_properties=EdxDataSourceConfig(\n",
    "                    schema_overrides=edx_schema_overrides,\n",
    "                    edx_arn=train_edx_arn[region],\n",
    "                )\n",
    "            )\n",
    "        ]\n",
    "    ),\n",
    "    \"output_spec\": OutputSpecificationConfig(\n",
    "        output_schema=output_schema,\n",
    "        output_format=output_format\n",
    "    ),\n",
    "    \"transform_spec\":  TransformSpecificationConfig(\n",
    "        transform_sql=transform_sql,\n",
    "        job_split_options=JobSplitOptionsConfig(\n",
    "            merge_sql=merge_sql\n",
    "        )\n",
    "    ),\n",
    "    \"cradle_job_spec\": CradleJobSpecificationConfig(\n",
    "        cradle_account=cradle_account,\n",
    "        cluster_type=cluster_type,\n",
    "    )\n",
    "}"
   ]
  },
  {
   "cell_type": "code",
   "execution_count": 32,
   "metadata": {},
   "outputs": [
    {
     "name": "stderr",
     "output_type": "stream",
     "text": [
      "2025-10-16 03:49:38,173 - INFO - ✅ CradleDataLoading_training configured successfully using CradleDataLoadingConfig\n"
     ]
    },
    {
     "name": "stdout",
     "output_type": "stream",
     "text": [
      "Configuring CradleDataLoading_training:\n",
      "----------------------------------------\n",
      "* job_type                  (str)\n",
      "    One of ['training','validation','testing','calibration'] to indicate which dataset this job is pulling\n",
      "* data_sources_spec         (DataSourcesSpecificationConfig)\n",
      "    Full data‐sources specification (start/end dates plus list of sources).\n",
      "* transform_spec            (TransformSpecificationConfig)\n",
      "    Transform specification: SQL + job‐split options.\n",
      "* output_spec               (OutputSpecificationConfig)\n",
      "    Output specification: schema, output format, save mode, etc.\n",
      "* cradle_job_spec           (CradleJobSpecificationConfig)\n",
      "    Cradle job specification: cluster type, account, retry count, etc.\n",
      "    ... and 1 more fields\n",
      "✅ CradleDataLoading_training configured\n",
      "\n"
     ]
    }
   ],
   "source": [
    "# Configure training data loading\n",
    "if \"CradleDataLoading_training\" in pending_steps:\n",
    "    step_name = \"CradleDataLoading_training\"\n",
    "    requirements = factory.get_step_requirements(step_name)\n",
    "    \n",
    "    print(f\"Configuring {step_name}:\")\n",
    "    print(\"-\" * 40)\n",
    "    for req in requirements[:5]:  # Show first 5 requirements\n",
    "        marker = \"*\" if req['required'] else \" \"\n",
    "        print(f\"{marker} {req['name']:<25} ({req['type']})\")\n",
    "        print(f\"    {req['description']}\")\n",
    "    \n",
    "    if len(requirements) > 5:\n",
    "        print(f\"    ... and {len(requirements) - 5} more fields\")\n",
    "    \n",
    "    # Set configuration for training data loading\n",
    "    factory.set_step_config(\n",
    "        step_name,\n",
    "        **training_cradle_data_load_dict\n",
    "    )\n",
    "    print(f\"✅ {step_name} configured\")\n",
    "    print()"
   ]
  },
  {
   "cell_type": "markdown",
   "metadata": {},
   "source": [
    "#### Cradle Data Loading (Calibration) Step"
   ]
  },
  {
   "cell_type": "code",
   "execution_count": 33,
   "metadata": {},
   "outputs": [],
   "source": [
    "#=======================================================\n",
    "calibration_start_datetime ='2025-04-17T00:00:00'  #'2024-05-26T00:00:00'\n",
    "calibration_end_datetime = '2025-04-28T00:00:00' #'2024-06-29T23:00:00'\n",
    "#======================================================="
   ]
  },
  {
   "cell_type": "code",
   "execution_count": 34,
   "metadata": {},
   "outputs": [],
   "source": [
    "#=======================================================\n",
    "calibration_edx_arn = {\n",
    "    'NA': 'arn:amazon:edx:iad::manifest/trms-abuse-analytics/qingyuye-notr-exp/atoz-tag/[\"24292902\",2025-04-17T00:00:00Z,2025-04-28T00:00:00Z,\"NA\"]',\n",
    "    'EU': 'arn:amazon:edx:iad::manifest/trms-abuse-analytics/qingyuye-notr-exp/atoz-tag/[\"24292941\",2025-04-17T00:00:00Z,2025-04-27T00:00:00Z,\"EU\"]',\n",
    "    'FE': 'arn:amazon:edx:iad::manifest/trms-abuse-analytics/qingyuye-notr-exp/atoz-tag/[\"25782074\",2025-04-17T00:00:00Z,2025-04-27T00:00:00Z,\"FE\"]',\n",
    "}\n",
    "#======================================================="
   ]
  },
  {
   "cell_type": "code",
   "execution_count": 35,
   "metadata": {},
   "outputs": [],
   "source": [
    "calibration_cradle_data_load_dict = {\n",
    "    \"job_type\": \"calibration\",\n",
    "    \"data_sources_spec\": DataSourcesSpecificationConfig(\n",
    "        start_date=calibration_start_datetime, \n",
    "        end_date=calibration_end_datetime,\n",
    "        data_sources=[\n",
    "            DataSourceConfig(\n",
    "                data_source_name='RAW_MDS_NA',\n",
    "                data_source_type='MDS',\n",
    "                mds_data_source_properties=MdsDataSourceConfig(\n",
    "                    service_name=mds_service_name,\n",
    "                    region=region,\n",
    "                    output_schema=mds_output_schema,\n",
    "                    org_id=org_id,\n",
    "                )\n",
    "            ), \n",
    "            DataSourceConfig(\n",
    "                data_source_name='TAGS',\n",
    "                data_source_type='EDX',\n",
    "                edx_data_source_properties=EdxDataSourceConfig(\n",
    "                    schema_overrides=edx_schema_overrides,\n",
    "                    edx_arn=calibration_edx_arn[region],\n",
    "                )\n",
    "            )\n",
    "        ]\n",
    "    ),\n",
    "    \"output_spec\": OutputSpecificationConfig(\n",
    "        output_schema=output_schema,\n",
    "        output_format=output_format\n",
    "    ),\n",
    "    \"transform_spec\":  TransformSpecificationConfig(\n",
    "        transform_sql=transform_sql,\n",
    "        job_split_options=JobSplitOptionsConfig(\n",
    "            merge_sql=merge_sql\n",
    "        )\n",
    "    ),\n",
    "    \"cradle_job_spec\": CradleJobSpecificationConfig(\n",
    "        cradle_account=cradle_account,\n",
    "        cluster_type=cluster_type,\n",
    "    )\n",
    "}"
   ]
  },
  {
   "cell_type": "code",
   "execution_count": 36,
   "metadata": {},
   "outputs": [
    {
     "name": "stderr",
     "output_type": "stream",
     "text": [
      "2025-10-16 03:49:38,197 - INFO - ✅ CradleDataLoading_calibration configured successfully using CradleDataLoadingConfig\n"
     ]
    },
    {
     "name": "stdout",
     "output_type": "stream",
     "text": [
      "✅ CradleDataLoading_calibration configured\n"
     ]
    }
   ],
   "source": [
    "# Configure calibration data loading\n",
    "if \"CradleDataLoading_calibration\" in pending_steps:\n",
    "    step_name = \"CradleDataLoading_calibration\"\n",
    "    \n",
    "    factory.set_step_config(\n",
    "        step_name,\n",
    "        **calibration_cradle_data_load_dict\n",
    "    )\n",
    "    print(f\"✅ {step_name} configured\")"
   ]
  },
  {
   "cell_type": "markdown",
   "metadata": {},
   "source": [
    "### Step 6.3: Configure Registration Step\n",
    "\n",
    "\n",
    "* [MRAS (Model Resource Allocation System)](https://w.amazon.com/bin/view/CMLS/ME/MIMS/) is a system that manages your **model endpoints**. \n",
    "    * It takes your model artifact and its metadata and deploys an endpoint to an AWS account you have onboarded to MRAS. You can access this endpoint through the AMES system, which URES uses.\n",
    "* **MIMS (Model Inference Management System)** is a system that handles the model creation\n",
    "* **MMS (Model Management Service)** would manage the model card\n",
    "> \n",
    "> Note that we used to call **MRAS MIMS** (**Model Inference Management System**). \n",
    "> - **MIMS** is the component of MRAS that handles endpoint creation. \n",
    "> - To reduce customer confusion, we have started to use *MRAS* to also refer to *MIMS*. \n",
    "> - Some of our wikis may still use *MIMS* instead of *MRAS*.\n",
    "> \n",
    "> If your team has not already, please [onboard an AWS account to MRAS](https://w.amazon.com/bin/view/CMLS/ME/MIMS/UserGuide/Onboarding/).\n",
    "\n",
    "* **MIMSModelRegistrationStep** is a SageMaker Workflow Step that wrap around the service call to **MIMS**.\n",
    "    * It is also a customized step provided by SAIS Python SDK\n",
    "        * See Source code[SecureAISandboxWorkflowPythonSDK](https://code.amazon.com/packages/SecureAISandboxWorkflowPythonSDK/trees/mainline#)\n",
    "    * This step inherit from **MODSPredefinedProcessingStep**, which is a customized base class that itself inherits from **ScriptProcessingStep**.\n",
    "        * Source code in [MODSWorkflowCore](https://code.amazon.com/packages/MODSWorkflowCore/trees/mainline#)\n",
    "    * This step would need to load **Execution Document** to take action.\n",
    "\n",
    "In **MIMSModelRegistrationStep**, we need to specify the fields to fill in the **Execution Document**\n",
    "* *model_owner*\n",
    "* *model_registration_domain*\n",
    "* *model_registration_objective*\n",
    "* *source_model_inference_input_variable_list*\n",
    "* *source_model_inference_output_variable_list*\n",
    "* *source_model_inference_content_types*\n",
    "* *source_model_inference_response_types*\n"
   ]
  },
  {
   "cell_type": "code",
   "execution_count": 38,
   "metadata": {},
   "outputs": [
    {
     "name": "stderr",
     "output_type": "stream",
     "text": [
      "2025-10-16 03:49:58,097 - INFO - ✅ Registration configured successfully using RegistrationConfig\n"
     ]
    },
    {
     "name": "stdout",
     "output_type": "stream",
     "text": [
      "✅ Registration configured\n"
     ]
    }
   ],
   "source": [
    "# Configure Registration step\n",
    "if \"Registration\" in pending_steps:\n",
    "    #=================== Update This =======================\n",
    "    model_domain = 'AtoZ'\n",
    "    model_objective = f'AtoZ_Claims_SM_Model_{region}'\n",
    "    #=======================================================\n",
    "    \n",
    "    source_model_inference_input_variable_list = {\n",
    "        field: 'NUMERIC' if field in tab_field_list else 'TEXT' \n",
    "        for field in tab_field_list + cat_field_list\n",
    "    }\n",
    "    \n",
    "    source_model_inference_output_variable_list = {\n",
    "        'legacy-score': 'NUMERIC',\n",
    "        'calibrated-score': 'NUMERIC',\n",
    "        'custom-output-label': 'TEXT'\n",
    "    }\n",
    "\n",
    "    #=================== Update This =======================\n",
    "    framework='xgboost'\n",
    "    inference_entry_point='xgboost_inference.py'\n",
    "    #=======================================================\n",
    "    \n",
    "    factory.set_step_config(\n",
    "        \"Registration\",\n",
    "        framework=framework,\n",
    "        inference_entry_point=inference_entry_point,\n",
    "        model_owner='amzn1.abacus.team.djmdvixm5abr3p75c5ca',  # abuse-analytics team\n",
    "        model_domain=model_domain,\n",
    "        model_objective=model_objective,\n",
    "        source_model_inference_output_variable_list=source_model_inference_output_variable_list,\n",
    "        source_model_inference_input_variable_list=source_model_inference_input_variable_list\n",
    "    )\n",
    "    print(f\"✅ Registration configured\")"
   ]
  },
  {
   "cell_type": "markdown",
   "metadata": {},
   "source": [
    "### Step 6.4: Configure Preprocessing Steps"
   ]
  },
  {
   "cell_type": "code",
   "execution_count": 39,
   "metadata": {
    "scrolled": true
   },
   "outputs": [
    {
     "name": "stderr",
     "output_type": "stream",
     "text": [
      "2025-10-16 03:50:00,243 - INFO - ✅ TabularPreprocessing_training configured successfully using TabularPreprocessingConfig\n",
      "2025-10-16 03:50:00,245 - INFO - ✅ TabularPreprocessing_calibration configured successfully using TabularPreprocessingConfig\n"
     ]
    },
    {
     "name": "stdout",
     "output_type": "stream",
     "text": [
      "✅ TabularPreprocessing_training configured\n",
      "✅ TabularPreprocessing_calibration configured\n"
     ]
    }
   ],
   "source": [
    "# Configure training preprocessing\n",
    "if \"TabularPreprocessing_training\" in pending_steps:\n",
    "    step_name = \"TabularPreprocessing_training\"\n",
    "    \n",
    "    factory.set_step_config(\n",
    "        step_name,\n",
    "        job_type='training',\n",
    "        label_name='is_abuse',\n",
    "        processing_entry_point='tabular_preprocessing.py',\n",
    "        use_large_processing_instance=True\n",
    "    )\n",
    "    print(f\"✅ {step_name} configured\")\n",
    "\n",
    "# Configure calibration preprocessing\n",
    "if \"TabularPreprocessing_calibration\" in pending_steps:\n",
    "    step_name = \"TabularPreprocessing_calibration\"\n",
    "    \n",
    "    factory.set_step_config(\n",
    "        step_name,\n",
    "        job_type='calibration',\n",
    "        label_name='is_abuse',\n",
    "        processing_entry_point='tabular_preprocessing.py',\n",
    "        use_large_processing_instance=False\n",
    "    )\n",
    "    print(f\"✅ {step_name} configured\")"
   ]
  },
  {
   "cell_type": "raw",
   "metadata": {},
   "source": []
  },
  {
   "cell_type": "markdown",
   "metadata": {},
   "source": [
    "### Step 6.4: Configure Remaining Steps\n",
    "\n",
    "**USER INPUT BLOCK**: Fill in the essential fields for each remaining step.\n",
    "The factory has identified the required fields for each step."
   ]
  },
  {
   "cell_type": "code",
   "execution_count": 40,
   "metadata": {},
   "outputs": [
    {
     "name": "stdout",
     "output_type": "stream",
     "text": [
      "Remaining steps to configure:\n",
      "========================================\n",
      "\n",
      "XGBoostModelEval_calibration:\n",
      "  Essential fields (2):\n",
      "    * id_name (str) - Name of the ID field in the dataset (required for evaluation).\n",
      "    * label_name (str) - Name of the label field in the dataset (required for evaluation).\n",
      "  Optional fields: 3\n",
      "\n",
      "ModelCalibration_calibration:\n",
      "  Essential fields (1):\n",
      "    * label_field (str) - Name of the label column\n",
      "  Optional fields: 10\n"
     ]
    }
   ],
   "source": [
    "# Get current pending steps\n",
    "current_pending = factory.get_pending_steps()\n",
    "\n",
    "print(\"Remaining steps to configure:\")\n",
    "print(\"=\" * 40)\n",
    "\n",
    "for step_name in current_pending:\n",
    "    requirements = factory.get_step_requirements(step_name)\n",
    "    essential_reqs = [req for req in requirements if req['required']]\n",
    "    \n",
    "    print(f\"\\n{step_name}:\")\n",
    "    print(f\"  Essential fields ({len(essential_reqs)}):\")\n",
    "    for req in essential_reqs:\n",
    "        print(f\"    * {req['name']} ({req['type']}) - {req['description']}\")\n",
    "    \n",
    "    if len(requirements) > len(essential_reqs):\n",
    "        optional_count = len(requirements) - len(essential_reqs)\n",
    "        print(f\"  Optional fields: {optional_count}\")"
   ]
  },
  {
   "cell_type": "code",
   "execution_count": 47,
   "metadata": {},
   "outputs": [
    {
     "data": {
      "text/plain": [
       "'order_id'"
      ]
     },
     "execution_count": 47,
     "metadata": {},
     "output_type": "execute_result"
    }
   ],
   "source": [
    "id_name"
   ]
  },
  {
   "cell_type": "code",
   "execution_count": 48,
   "metadata": {},
   "outputs": [
    {
     "data": {
      "text/plain": [
       "'is_abuse'"
      ]
     },
     "execution_count": 48,
     "metadata": {},
     "output_type": "execute_result"
    }
   ],
   "source": [
    "label_name"
   ]
  },
  {
   "cell_type": "code",
   "execution_count": 50,
   "metadata": {},
   "outputs": [
    {
     "name": "stderr",
     "output_type": "stream",
     "text": [
      "2025-10-16 03:59:10,546 - INFO - ✅ XGBoostModelEval_calibration configured successfully using XGBoostModelEvalConfig\n"
     ]
    },
    {
     "name": "stdout",
     "output_type": "stream",
     "text": [
      "✅ XGBoostModelEval_calibration configured\n"
     ]
    }
   ],
   "source": [
    "# Configure Model Evaluation\n",
    "if \"XGBoostModelEval_calibration\" in current_pending:\n",
    "    factory.set_step_config(\n",
    "        \"XGBoostModelEval_calibration\",\n",
    "        job_type='calibration',\n",
    "        processing_entry_point='xgboost_model_eval.py',\n",
    "        id_name=id_name,\n",
    "        label_name=label_name,\n",
    "    )\n",
    "    print(f\"✅ XGBoostModelEval_calibration configured\")"
   ]
  },
  {
   "cell_type": "code",
   "execution_count": 51,
   "metadata": {},
   "outputs": [
    {
     "name": "stderr",
     "output_type": "stream",
     "text": [
      "2025-10-16 03:59:13,052 - INFO - ✅ ModelCalibration_calibration configured successfully using ModelCalibrationConfig\n"
     ]
    },
    {
     "name": "stdout",
     "output_type": "stream",
     "text": [
      "✅ ModelCalibration_calibration configured\n"
     ]
    }
   ],
   "source": [
    "# Configure Model Calibration\n",
    "if \"ModelCalibration_calibration\" in current_pending:\n",
    "    factory.set_step_config(\n",
    "        \"ModelCalibration_calibration\",\n",
    "        label_field='is_abuse',\n",
    "        processing_entry_point='model_calibration.py',\n",
    "        score_field='prob_class_1',\n",
    "        is_binary=True,\n",
    "        num_classes=2,\n",
    "        score_field_prefix='prob_class_',\n",
    "        multiclass_categories=[0, 1]\n",
    "    )\n",
    "    print(f\"✅ ModelCalibration_calibration configured\")"
   ]
  },
  {
   "cell_type": "markdown",
   "metadata": {},
   "source": [
    "## Step 7: Generate Final Configurations\n",
    "\n",
    "Now that all steps are configured, we can generate the final configuration instances.\n",
    "The factory will validate that all essential fields are provided and create the config objects."
   ]
  },
  {
   "cell_type": "code",
   "execution_count": 52,
   "metadata": {},
   "outputs": [
    {
     "name": "stdout",
     "output_type": "stream",
     "text": [
      "Final Configuration Status:\n",
      "========================================\n",
      "Base config: ✅\n",
      "Processing config: ✅\n",
      "Pending steps: 0\n",
      "\n",
      "✅ All steps configured! Ready to generate configurations.\n"
     ]
    }
   ],
   "source": [
    "# Check final status\n",
    "final_status = factory.get_configuration_status()\n",
    "final_pending = factory.get_pending_steps()\n",
    "\n",
    "print(\"Final Configuration Status:\")\n",
    "print(\"=\" * 40)\n",
    "print(f\"Base config: {'✅' if final_status['base_config'] else '❌'}\")\n",
    "print(f\"Processing config: {'✅' if final_status['base_processing_config'] else '❌'}\")\n",
    "print(f\"Pending steps: {len(final_pending)}\")\n",
    "\n",
    "if final_pending:\n",
    "    print(\"\\nStill pending:\")\n",
    "    for step in final_pending:\n",
    "        print(f\"  - {step}\")\n",
    "    print(\"\\n⚠️  Please configure remaining steps before generating configs.\")\n",
    "else:\n",
    "    print(\"\\n✅ All steps configured! Ready to generate configurations.\")"
   ]
  },
  {
   "cell_type": "code",
   "execution_count": 53,
   "metadata": {},
   "outputs": [
    {
     "name": "stderr",
     "output_type": "stream",
     "text": [
      "2025-10-16 03:59:28,689 - INFO - ✅ Package auto-configured successfully (only tier 2+ fields)\n",
      "2025-10-16 03:59:28,691 - INFO - ✅ Payload auto-configured successfully (only tier 2+ fields)\n",
      "2025-10-16 03:59:28,691 - INFO - ✅ Auto-configured 2 steps with only tier 2+ fields\n",
      "2025-10-16 03:59:28,691 - INFO - ✅ Returning 10 pre-validated configuration instances\n"
     ]
    },
    {
     "name": "stdout",
     "output_type": "stream",
     "text": [
      "Generating final configurations...\n",
      "\n",
      "✅ Successfully generated 10 configuration instances:\n",
      "   1. XGBoostTrainingConfig\n",
      "   2. CradleDataLoadingConfig\n",
      "   3. CradleDataLoadingConfig\n",
      "   4. RegistrationConfig\n",
      "   5. TabularPreprocessingConfig\n",
      "   6. TabularPreprocessingConfig\n",
      "   7. ModelCalibrationConfig\n",
      "   8. XGBoostModelEvalConfig\n",
      "   9. PackageConfig\n",
      "  10. PayloadConfig\n",
      "\n",
      "🎉 Configuration generation complete!\n"
     ]
    }
   ],
   "source": [
    "# Generate final configurations\n",
    "if not final_pending:\n",
    "    try:\n",
    "        print(\"Generating final configurations...\")\n",
    "        configs = factory.generate_all_configs()\n",
    "        \n",
    "        print(f\"\\n✅ Successfully generated {len(configs)} configuration instances:\")\n",
    "        for i, config in enumerate(configs, 1):\n",
    "            print(f\"  {i:2d}. {config.__class__.__name__}\")\n",
    "        \n",
    "        print(\"\\n🎉 Configuration generation complete!\")\n",
    "        \n",
    "    except Exception as e:\n",
    "        print(f\"\\n❌ Configuration generation failed: {e}\")\n",
    "        print(\"\\nPlease check that all required fields are provided.\")\n",
    "        configs = None\n",
    "else:\n",
    "    print(\"\\n⚠️  Cannot generate configs - some steps are still pending configuration.\")\n",
    "    configs = None"
   ]
  },
  {
   "cell_type": "code",
   "execution_count": 55,
   "metadata": {},
   "outputs": [
    {
     "data": {
      "text/plain": [
       "10"
      ]
     },
     "execution_count": 55,
     "metadata": {},
     "output_type": "execute_result"
    }
   ],
   "source": [
    "len(configs)"
   ]
  },
  {
   "cell_type": "markdown",
   "metadata": {},
   "source": [
    "## Step 8: Save to JSON\n",
    "\n",
    "Finally, we save the generated configurations to a unified JSON file using the existing\n",
    "`merge_and_save_configs` utility. This creates the same format as the legacy approach\n",
    "but with much less effort!"
   ]
  },
  {
   "cell_type": "code",
   "execution_count": 56,
   "metadata": {
    "scrolled": true
   },
   "outputs": [
    {
     "name": "stderr",
     "output_type": "stream",
     "text": [
      "2025-10-16 04:00:32,927 - INFO - 🔧 BuilderAutoDiscovery.__init__ starting - package_root: /home/ec2-user/SageMaker/BuyerAbuseModsTemplate/src/buyer_abuse_mods_template/cursus\n",
      "2025-10-16 04:00:32,927 - INFO - 🔧 BuilderAutoDiscovery.__init__ - workspace_dirs: []\n",
      "2025-10-16 04:00:32,928 - INFO - ✅ BuilderAutoDiscovery basic initialization complete\n",
      "2025-10-16 04:00:32,928 - INFO - ✅ Registry info loaded: 25 steps\n",
      "2025-10-16 04:00:32,929 - INFO - 🎉 BuilderAutoDiscovery initialization completed successfully\n"
     ]
    },
    {
     "name": "stdout",
     "output_type": "stream",
     "text": [
      "Saving configurations to: /home/ec2-user/SageMaker/BuyerAbuseModsTemplate/src/buyer_abuse_mods_template/bap_example_pipeline/pipeline_config/config.json\n"
     ]
    },
    {
     "name": "stderr",
     "output_type": "stream",
     "text": [
      "2025-10-16 04:00:33,000 - INFO - Discovered 33 core config classes\n",
      "2025-10-16 04:00:33,009 - INFO - Discovered 3 core hyperparameter classes\n",
      "2025-10-16 04:00:33,035 - INFO - Discovered 7 base hyperparameter classes from core/base\n",
      "2025-10-16 04:00:33,036 - INFO - Built complete config classes: 43 total (33 config + 10 hyperparameter auto-discovered)\n",
      "2025-10-16 04:00:33,036 - INFO - Discovered 43 config classes via step catalog\n",
      "2025-10-16 04:00:33,037 - INFO - Package location discovery succeeded (bundled): /home/ec2-user/SageMaker/BuyerAbuseModsTemplate/src/buyer_abuse_mods_template/bap_example_pipeline/dockers\n",
      "2025-10-16 04:00:33,037 - INFO - Hybrid resolution completed successfully via Package Location Discovery: /home/ec2-user/SageMaker/BuyerAbuseModsTemplate/src/buyer_abuse_mods_template/bap_example_pipeline/dockers\n",
      "2025-10-16 04:00:33,080 - INFO - Discovered 33 core config classes\n",
      "2025-10-16 04:00:33,085 - INFO - Discovered 3 core hyperparameter classes\n",
      "2025-10-16 04:00:33,110 - INFO - Discovered 7 base hyperparameter classes from core/base\n",
      "2025-10-16 04:00:33,111 - INFO - Built complete config classes: 43 total (33 config + 10 hyperparameter auto-discovered)\n",
      "2025-10-16 04:00:33,111 - INFO - Discovered 43 config classes via step catalog\n",
      "2025-10-16 04:00:33,113 - INFO - Package location discovery succeeded (bundled): /home/ec2-user/SageMaker/BuyerAbuseModsTemplate/src/buyer_abuse_mods_template/bap_example_pipeline/dockers\n",
      "2025-10-16 04:00:33,113 - INFO - Hybrid resolution completed successfully via Package Location Discovery: /home/ec2-user/SageMaker/BuyerAbuseModsTemplate/src/buyer_abuse_mods_template/bap_example_pipeline/dockers\n",
      "2025-10-16 04:00:33,156 - INFO - Discovered 33 core config classes\n",
      "2025-10-16 04:00:33,161 - INFO - Discovered 3 core hyperparameter classes\n",
      "2025-10-16 04:00:33,186 - INFO - Discovered 7 base hyperparameter classes from core/base\n",
      "2025-10-16 04:00:33,186 - INFO - Built complete config classes: 43 total (33 config + 10 hyperparameter auto-discovered)\n",
      "2025-10-16 04:00:33,187 - INFO - Discovered 43 config classes via step catalog\n",
      "2025-10-16 04:00:33,188 - INFO - Package location discovery succeeded (bundled): /home/ec2-user/SageMaker/BuyerAbuseModsTemplate/src/buyer_abuse_mods_template/bap_example_pipeline/dockers\n",
      "2025-10-16 04:00:33,189 - INFO - Hybrid resolution completed successfully via Package Location Discovery: /home/ec2-user/SageMaker/BuyerAbuseModsTemplate/src/buyer_abuse_mods_template/bap_example_pipeline/dockers\n",
      "2025-10-16 04:00:33,232 - INFO - Discovered 33 core config classes\n",
      "2025-10-16 04:00:33,236 - INFO - Discovered 3 core hyperparameter classes\n",
      "2025-10-16 04:00:33,262 - INFO - Discovered 7 base hyperparameter classes from core/base\n",
      "2025-10-16 04:00:33,262 - INFO - Built complete config classes: 43 total (33 config + 10 hyperparameter auto-discovered)\n",
      "2025-10-16 04:00:33,263 - INFO - Discovered 43 config classes via step catalog\n",
      "2025-10-16 04:00:33,263 - INFO - Package location discovery succeeded (bundled): /home/ec2-user/SageMaker/BuyerAbuseModsTemplate/src/buyer_abuse_mods_template/bap_example_pipeline/dockers\n",
      "2025-10-16 04:00:33,264 - INFO - Hybrid resolution completed successfully via Package Location Discovery: /home/ec2-user/SageMaker/BuyerAbuseModsTemplate/src/buyer_abuse_mods_template/bap_example_pipeline/dockers\n",
      "2025-10-16 04:00:33,307 - INFO - Discovered 33 core config classes\n",
      "2025-10-16 04:00:33,312 - INFO - Discovered 3 core hyperparameter classes\n",
      "2025-10-16 04:00:33,337 - INFO - Discovered 7 base hyperparameter classes from core/base\n",
      "2025-10-16 04:00:33,338 - INFO - Built complete config classes: 43 total (33 config + 10 hyperparameter auto-discovered)\n",
      "2025-10-16 04:00:33,338 - INFO - Discovered 43 config classes via step catalog\n",
      "2025-10-16 04:00:33,381 - INFO - Discovered 33 core config classes\n",
      "2025-10-16 04:00:33,385 - INFO - Discovered 3 core hyperparameter classes\n",
      "2025-10-16 04:00:33,411 - INFO - Discovered 7 base hyperparameter classes from core/base\n",
      "2025-10-16 04:00:33,411 - INFO - Built complete config classes: 43 total (33 config + 10 hyperparameter auto-discovered)\n",
      "2025-10-16 04:00:33,412 - INFO - Discovered 43 config classes via step catalog\n",
      "2025-10-16 04:00:33,454 - INFO - Discovered 33 core config classes\n",
      "2025-10-16 04:00:33,459 - INFO - Discovered 3 core hyperparameter classes\n",
      "2025-10-16 04:00:33,485 - INFO - Discovered 7 base hyperparameter classes from core/base\n",
      "2025-10-16 04:00:33,485 - INFO - Built complete config classes: 43 total (33 config + 10 hyperparameter auto-discovered)\n",
      "2025-10-16 04:00:33,486 - INFO - Discovered 43 config classes via step catalog\n",
      "2025-10-16 04:00:33,528 - INFO - Discovered 33 core config classes\n",
      "2025-10-16 04:00:33,533 - INFO - Discovered 3 core hyperparameter classes\n",
      "2025-10-16 04:00:33,559 - INFO - Discovered 7 base hyperparameter classes from core/base\n",
      "2025-10-16 04:00:33,559 - INFO - Built complete config classes: 43 total (33 config + 10 hyperparameter auto-discovered)\n",
      "2025-10-16 04:00:33,559 - INFO - Discovered 43 config classes via step catalog\n",
      "2025-10-16 04:00:33,602 - INFO - Discovered 33 core config classes\n",
      "2025-10-16 04:00:33,607 - INFO - Discovered 3 core hyperparameter classes\n",
      "2025-10-16 04:00:33,633 - INFO - Discovered 7 base hyperparameter classes from core/base\n",
      "2025-10-16 04:00:33,633 - INFO - Built complete config classes: 43 total (33 config + 10 hyperparameter auto-discovered)\n",
      "2025-10-16 04:00:33,633 - INFO - Discovered 43 config classes via step catalog\n",
      "2025-10-16 04:00:33,676 - INFO - Discovered 33 core config classes\n",
      "2025-10-16 04:00:33,681 - INFO - Discovered 3 core hyperparameter classes\n",
      "2025-10-16 04:00:33,706 - INFO - Discovered 7 base hyperparameter classes from core/base\n",
      "2025-10-16 04:00:33,707 - INFO - Built complete config classes: 43 total (33 config + 10 hyperparameter auto-discovered)\n",
      "2025-10-16 04:00:33,707 - INFO - Discovered 43 config classes via step catalog\n",
      "2025-10-16 04:00:33,709 - INFO - Merging and saving 10 configs to /home/ec2-user/SageMaker/BuyerAbuseModsTemplate/src/buyer_abuse_mods_template/bap_example_pipeline/pipeline_config/config.json\n",
      "2025-10-16 04:00:33,710 - INFO - Collecting field information for 10 configs (0 processing configs)\n",
      "2025-10-16 04:00:33,752 - INFO - Discovered 33 core config classes\n",
      "2025-10-16 04:00:33,757 - INFO - Discovered 3 core hyperparameter classes\n",
      "2025-10-16 04:00:33,782 - INFO - Discovered 7 base hyperparameter classes from core/base\n",
      "2025-10-16 04:00:33,783 - INFO - Built complete config classes: 43 total (33 config + 10 hyperparameter auto-discovered)\n",
      "2025-10-16 04:00:33,783 - INFO - Discovered 43 config classes via step catalog\n",
      "2025-10-16 04:00:33,826 - INFO - Discovered 33 core config classes\n",
      "2025-10-16 04:00:33,831 - INFO - Discovered 3 core hyperparameter classes\n",
      "2025-10-16 04:00:33,856 - INFO - Discovered 7 base hyperparameter classes from core/base\n",
      "2025-10-16 04:00:33,857 - INFO - Built complete config classes: 43 total (33 config + 10 hyperparameter auto-discovered)\n",
      "2025-10-16 04:00:33,857 - INFO - Discovered 43 config classes via step catalog\n",
      "2025-10-16 04:00:33,901 - INFO - Discovered 33 core config classes\n",
      "2025-10-16 04:00:33,906 - INFO - Discovered 3 core hyperparameter classes\n",
      "2025-10-16 04:00:33,932 - INFO - Discovered 7 base hyperparameter classes from core/base\n",
      "2025-10-16 04:00:33,932 - INFO - Built complete config classes: 43 total (33 config + 10 hyperparameter auto-discovered)\n",
      "2025-10-16 04:00:33,932 - INFO - Discovered 43 config classes via step catalog\n",
      "2025-10-16 04:00:33,976 - INFO - Discovered 33 core config classes\n",
      "2025-10-16 04:00:33,981 - INFO - Discovered 3 core hyperparameter classes\n",
      "2025-10-16 04:00:34,007 - INFO - Discovered 7 base hyperparameter classes from core/base\n",
      "2025-10-16 04:00:34,007 - INFO - Built complete config classes: 43 total (33 config + 10 hyperparameter auto-discovered)\n",
      "2025-10-16 04:00:34,008 - INFO - Discovered 43 config classes via step catalog\n",
      "2025-10-16 04:00:34,051 - INFO - Discovered 33 core config classes\n",
      "2025-10-16 04:00:34,056 - INFO - Discovered 3 core hyperparameter classes\n",
      "2025-10-16 04:00:34,081 - INFO - Discovered 7 base hyperparameter classes from core/base\n",
      "2025-10-16 04:00:34,082 - INFO - Built complete config classes: 43 total (33 config + 10 hyperparameter auto-discovered)\n",
      "2025-10-16 04:00:34,082 - INFO - Discovered 43 config classes via step catalog\n",
      "2025-10-16 04:00:34,125 - INFO - Discovered 33 core config classes\n",
      "2025-10-16 04:00:34,130 - INFO - Discovered 3 core hyperparameter classes\n",
      "2025-10-16 04:00:34,156 - INFO - Discovered 7 base hyperparameter classes from core/base\n",
      "2025-10-16 04:00:34,156 - INFO - Built complete config classes: 43 total (33 config + 10 hyperparameter auto-discovered)\n",
      "2025-10-16 04:00:34,156 - INFO - Discovered 43 config classes via step catalog\n",
      "2025-10-16 04:00:34,199 - INFO - Discovered 33 core config classes\n",
      "2025-10-16 04:00:34,204 - INFO - Discovered 3 core hyperparameter classes\n",
      "2025-10-16 04:00:34,230 - INFO - Discovered 7 base hyperparameter classes from core/base\n",
      "2025-10-16 04:00:34,230 - INFO - Built complete config classes: 43 total (33 config + 10 hyperparameter auto-discovered)\n",
      "2025-10-16 04:00:34,230 - INFO - Discovered 43 config classes via step catalog\n",
      "2025-10-16 04:00:34,273 - INFO - Discovered 33 core config classes\n",
      "2025-10-16 04:00:34,278 - INFO - Discovered 3 core hyperparameter classes\n",
      "2025-10-16 04:00:34,304 - INFO - Discovered 7 base hyperparameter classes from core/base\n",
      "2025-10-16 04:00:34,304 - INFO - Built complete config classes: 43 total (33 config + 10 hyperparameter auto-discovered)\n",
      "2025-10-16 04:00:34,305 - INFO - Discovered 43 config classes via step catalog\n",
      "2025-10-16 04:00:34,348 - INFO - Discovered 33 core config classes\n",
      "2025-10-16 04:00:34,352 - INFO - Discovered 3 core hyperparameter classes\n",
      "2025-10-16 04:00:34,378 - INFO - Discovered 7 base hyperparameter classes from core/base\n",
      "2025-10-16 04:00:34,378 - INFO - Built complete config classes: 43 total (33 config + 10 hyperparameter auto-discovered)\n",
      "2025-10-16 04:00:34,379 - INFO - Discovered 43 config classes via step catalog\n",
      "2025-10-16 04:00:34,422 - INFO - Discovered 33 core config classes\n",
      "2025-10-16 04:00:34,427 - INFO - Discovered 3 core hyperparameter classes\n",
      "2025-10-16 04:00:34,452 - INFO - Discovered 7 base hyperparameter classes from core/base\n",
      "2025-10-16 04:00:34,453 - INFO - Built complete config classes: 43 total (33 config + 10 hyperparameter auto-discovered)\n",
      "2025-10-16 04:00:34,453 - INFO - Discovered 43 config classes via step catalog\n",
      "2025-10-16 04:00:34,454 - INFO - Collected information for 69 unique fields\n",
      "2025-10-16 04:00:34,456 - INFO - Efficient algorithm identified 12 shared fields\n",
      "2025-10-16 04:00:34,499 - INFO - Discovered 33 core config classes\n",
      "2025-10-16 04:00:34,504 - INFO - Discovered 3 core hyperparameter classes\n",
      "2025-10-16 04:00:34,529 - INFO - Discovered 7 base hyperparameter classes from core/base\n",
      "2025-10-16 04:00:34,530 - INFO - Built complete config classes: 43 total (33 config + 10 hyperparameter auto-discovered)\n",
      "2025-10-16 04:00:34,530 - INFO - Discovered 43 config classes via step catalog\n",
      "2025-10-16 04:00:34,573 - INFO - Discovered 33 core config classes\n",
      "2025-10-16 04:00:34,577 - INFO - Discovered 3 core hyperparameter classes\n",
      "2025-10-16 04:00:34,603 - INFO - Discovered 7 base hyperparameter classes from core/base\n",
      "2025-10-16 04:00:34,603 - INFO - Built complete config classes: 43 total (33 config + 10 hyperparameter auto-discovered)\n",
      "2025-10-16 04:00:34,604 - INFO - Discovered 43 config classes via step catalog\n",
      "2025-10-16 04:00:34,647 - INFO - Discovered 33 core config classes\n",
      "2025-10-16 04:00:34,652 - INFO - Discovered 3 core hyperparameter classes\n",
      "2025-10-16 04:00:34,678 - INFO - Discovered 7 base hyperparameter classes from core/base\n",
      "2025-10-16 04:00:34,678 - INFO - Built complete config classes: 43 total (33 config + 10 hyperparameter auto-discovered)\n",
      "2025-10-16 04:00:34,679 - INFO - Discovered 43 config classes via step catalog\n",
      "2025-10-16 04:00:34,722 - INFO - Discovered 33 core config classes\n",
      "2025-10-16 04:00:34,727 - INFO - Discovered 3 core hyperparameter classes\n",
      "2025-10-16 04:00:34,753 - INFO - Discovered 7 base hyperparameter classes from core/base\n",
      "2025-10-16 04:00:34,753 - INFO - Built complete config classes: 43 total (33 config + 10 hyperparameter auto-discovered)\n",
      "2025-10-16 04:00:34,753 - INFO - Discovered 43 config classes via step catalog\n",
      "2025-10-16 04:00:34,796 - INFO - Discovered 33 core config classes\n",
      "2025-10-16 04:00:34,801 - INFO - Discovered 3 core hyperparameter classes\n",
      "2025-10-16 04:00:34,827 - INFO - Discovered 7 base hyperparameter classes from core/base\n",
      "2025-10-16 04:00:34,827 - INFO - Built complete config classes: 43 total (33 config + 10 hyperparameter auto-discovered)\n",
      "2025-10-16 04:00:34,828 - INFO - Discovered 43 config classes via step catalog\n",
      "2025-10-16 04:00:34,870 - INFO - Discovered 33 core config classes\n",
      "2025-10-16 04:00:34,875 - INFO - Discovered 3 core hyperparameter classes\n",
      "2025-10-16 04:00:34,901 - INFO - Discovered 7 base hyperparameter classes from core/base\n",
      "2025-10-16 04:00:34,901 - INFO - Built complete config classes: 43 total (33 config + 10 hyperparameter auto-discovered)\n",
      "2025-10-16 04:00:34,902 - INFO - Discovered 43 config classes via step catalog\n",
      "2025-10-16 04:00:34,944 - INFO - Discovered 33 core config classes\n",
      "2025-10-16 04:00:34,949 - INFO - Discovered 3 core hyperparameter classes\n",
      "2025-10-16 04:00:34,975 - INFO - Discovered 7 base hyperparameter classes from core/base\n",
      "2025-10-16 04:00:34,975 - INFO - Built complete config classes: 43 total (33 config + 10 hyperparameter auto-discovered)\n",
      "2025-10-16 04:00:34,975 - INFO - Discovered 43 config classes via step catalog\n",
      "2025-10-16 04:00:35,018 - INFO - Discovered 33 core config classes\n",
      "2025-10-16 04:00:35,023 - INFO - Discovered 3 core hyperparameter classes\n",
      "2025-10-16 04:00:35,049 - INFO - Discovered 7 base hyperparameter classes from core/base\n",
      "2025-10-16 04:00:35,049 - INFO - Built complete config classes: 43 total (33 config + 10 hyperparameter auto-discovered)\n",
      "2025-10-16 04:00:35,049 - INFO - Discovered 43 config classes via step catalog\n",
      "2025-10-16 04:00:35,092 - INFO - Discovered 33 core config classes\n",
      "2025-10-16 04:00:35,097 - INFO - Discovered 3 core hyperparameter classes\n",
      "2025-10-16 04:00:35,123 - INFO - Discovered 7 base hyperparameter classes from core/base\n",
      "2025-10-16 04:00:35,123 - INFO - Built complete config classes: 43 total (33 config + 10 hyperparameter auto-discovered)\n",
      "2025-10-16 04:00:35,123 - INFO - Discovered 43 config classes via step catalog\n",
      "2025-10-16 04:00:35,166 - INFO - Discovered 33 core config classes\n",
      "2025-10-16 04:00:35,171 - INFO - Discovered 3 core hyperparameter classes\n",
      "2025-10-16 04:00:35,196 - INFO - Discovered 7 base hyperparameter classes from core/base\n",
      "2025-10-16 04:00:35,197 - INFO - Built complete config classes: 43 total (33 config + 10 hyperparameter auto-discovered)\n",
      "2025-10-16 04:00:35,197 - INFO - Discovered 43 config classes via step catalog\n",
      "2025-10-16 04:00:35,198 - INFO - Populated specific fields for 10 configs\n",
      "2025-10-16 04:00:35,198 - INFO - Shared fields: 12\n",
      "2025-10-16 04:00:35,198 - INFO - Specific steps: 10\n",
      "2025-10-16 04:00:35,241 - INFO - Discovered 33 core config classes\n",
      "2025-10-16 04:00:35,246 - INFO - Discovered 3 core hyperparameter classes\n",
      "2025-10-16 04:00:35,272 - INFO - Discovered 7 base hyperparameter classes from core/base\n",
      "2025-10-16 04:00:35,272 - INFO - Built complete config classes: 43 total (33 config + 10 hyperparameter auto-discovered)\n",
      "2025-10-16 04:00:35,272 - INFO - Discovered 43 config classes via step catalog\n",
      "2025-10-16 04:00:35,273 - INFO - Saving merged configuration to /home/ec2-user/SageMaker/BuyerAbuseModsTemplate/src/buyer_abuse_mods_template/bap_example_pipeline/pipeline_config/config.json\n",
      "2025-10-16 04:00:35,277 - INFO - Successfully saved merged configuration to /home/ec2-user/SageMaker/BuyerAbuseModsTemplate/src/buyer_abuse_mods_template/bap_example_pipeline/pipeline_config/config.json\n",
      "2025-10-16 04:00:35,277 - INFO - Successfully saved merged configs to /home/ec2-user/SageMaker/BuyerAbuseModsTemplate/src/buyer_abuse_mods_template/bap_example_pipeline/pipeline_config/config.json\n"
     ]
    },
    {
     "name": "stdout",
     "output_type": "stream",
     "text": [
      "\n",
      "✅ Configuration saved successfully!\n",
      "   File: /home/ec2-user/SageMaker/BuyerAbuseModsTemplate/src/buyer_abuse_mods_template/bap_example_pipeline/pipeline_config/config.json\n",
      "   Size: 114.9 KB\n",
      "   Hyperparameters: /home/ec2-user/SageMaker/BuyerAbuseModsTemplate/src/buyer_abuse_mods_template/bap_example_pipeline/pipeline_config/hyperparameters_NA_xgboost.json\n",
      "\n",
      "🎉 Interactive configuration complete!\n",
      "\n",
      "📊 Comparison with legacy approach:\n",
      "   Legacy: 500+ lines of manual configuration\n",
      "   Interactive: Guided step-by-step process\n",
      "   Time saved: ~20-25 minutes\n",
      "   Error reduction: Validation at each step\n"
     ]
    }
   ],
   "source": [
    "if configs:\n",
    "    # Set up output directory and filename\n",
    "    MODEL_CLASS = 'xgboost'\n",
    "    service_name = 'AtoZ'\n",
    "    \n",
    "    config_dir = Path(current_dir) / 'pipeline_config'\n",
    "    config_dir.mkdir(parents=True, exist_ok=True)\n",
    "    \n",
    "    config_file_name = f'config.json'\n",
    "    config_path = config_dir / config_file_name\n",
    "    \n",
    "    print(f\"Saving configurations to: {config_path}\")\n",
    "    \n",
    "    # Use the existing merge_and_save_configs utility\n",
    "    from buyer_abuse_mods_template.cursus.steps.configs.utils import merge_and_save_configs\n",
    "    \n",
    "    try:\n",
    "        merged_config = merge_and_save_configs(configs, str(config_path))\n",
    "        \n",
    "        print(f\"\\n✅ Configuration saved successfully!\")\n",
    "        print(f\"   File: {config_path}\")\n",
    "        print(f\"   Size: {config_path.stat().st_size / 1024:.1f} KB\")\n",
    "        \n",
    "        # Also save hyperparameters separately (for compatibility)\n",
    "        hyperparam_path = source_dir / 'hyperparams' / f'hyperparameters.json'\n",
    "        with open(hyperparam_path, 'w') as f:\n",
    "            json.dump(xgb_hyperparams.model_dump(), f, indent=2, sort_keys=True)\n",
    "        \n",
    "        print(f\"   Hyperparameters: {hyperparam_path}\")\n",
    "        \n",
    "        print(f\"\\n🎉 Interactive configuration complete!\")\n",
    "        print(f\"\\n📊 Comparison with legacy approach:\")\n",
    "        print(f\"   Legacy: 500+ lines of manual configuration\")\n",
    "        print(f\"   Interactive: Guided step-by-step process\")\n",
    "        print(f\"   Time saved: ~20-25 minutes\")\n",
    "        print(f\"   Error reduction: Validation at each step\")\n",
    "        \n",
    "    except Exception as e:\n",
    "        print(f\"\\n❌ Failed to save configurations: {e}\")\n",
    "        \n",
    "else:\n",
    "    print(\"\\n⚠️  No configurations to save. Please generate configs first.\")"
   ]
  },
  {
   "cell_type": "markdown",
   "metadata": {},
   "source": [
    "### Test if we can load it"
   ]
  },
  {
   "cell_type": "code",
   "execution_count": 59,
   "metadata": {},
   "outputs": [],
   "source": [
    "from buyer_abuse_mods_template.cursus.steps.configs.config_cradle_data_loading_step import CradleDataLoadingConfig\n",
    "from buyer_abuse_mods_template.cursus.steps.configs.config_tabular_preprocessing_step import TabularPreprocessingConfig\n",
    "from buyer_abuse_mods_template.cursus.steps.configs.config_xgboost_training_step import XGBoostTrainingConfig\n",
    "from buyer_abuse_mods_template.cursus.steps.configs.config_xgboost_model_eval_step import XGBoostModelEvalConfig\n",
    "from buyer_abuse_mods_template.cursus.steps.configs.config_model_calibration_step import ModelCalibrationConfig\n",
    "from buyer_abuse_mods_template.cursus.steps.configs.config_package_step import PackageConfig\n",
    "from buyer_abuse_mods_template.cursus.steps.configs.config_payload_step import PayloadConfig\n",
    "from buyer_abuse_mods_template.cursus.steps.configs.config_registration_step import RegistrationConfig"
   ]
  },
  {
   "cell_type": "code",
   "execution_count": 60,
   "metadata": {},
   "outputs": [],
   "source": [
    "from buyer_abuse_mods_template.cursus.steps.configs.utils import load_configs"
   ]
  },
  {
   "cell_type": "code",
   "execution_count": 61,
   "metadata": {},
   "outputs": [],
   "source": [
    "CONFIG_CLASSES = {\n",
    "        'XGBoostTrainingConfig':       XGBoostTrainingConfig,\n",
    "        'ModelCalibrationConfig':      ModelCalibrationConfig,\n",
    "        'PackageConfig':               PackageConfig,\n",
    "        'RegistrationConfig':          RegistrationConfig,\n",
    "        'PayloadConfig':               PayloadConfig,\n",
    "        'CradleDataLoadingConfig':     CradleDataLoadingConfig,\n",
    "        'TabularPreprocessingConfig':  TabularPreprocessingConfig,\n",
    "        'XGBoostModelEvalConfig':      XGBoostModelEvalConfig,\n",
    "    }"
   ]
  },
  {
   "cell_type": "code",
   "execution_count": 62,
   "metadata": {
    "scrolled": true
   },
   "outputs": [
    {
     "name": "stderr",
     "output_type": "stream",
     "text": [
      "2025-10-16 04:08:41,715 - INFO - Loading configs from /home/ec2-user/SageMaker/BuyerAbuseModsTemplate/src/buyer_abuse_mods_template/bap_example_pipeline/pipeline_config/config.json\n",
      "2025-10-16 04:08:41,716 - INFO - Loading configuration from /home/ec2-user/SageMaker/BuyerAbuseModsTemplate/src/buyer_abuse_mods_template/bap_example_pipeline/pipeline_config/config.json\n",
      "2025-10-16 04:08:41,718 - WARNING - Could not find class CradleJobSpecificationConfig\n",
      "2025-10-16 04:08:41,718 - WARNING - Could not find class DataSourcesSpecificationConfig\n",
      "2025-10-16 04:08:41,719 - WARNING - Could not find class DataSourceConfig\n",
      "2025-10-16 04:08:41,719 - WARNING - Could not find class MdsDataSourceConfig\n",
      "2025-10-16 04:08:41,720 - WARNING - Could not find class DataSourceConfig\n",
      "2025-10-16 04:08:41,720 - WARNING - Could not find class EdxDataSourceConfig\n",
      "2025-10-16 04:08:41,720 - WARNING - Could not find class OutputSpecificationConfig\n",
      "2025-10-16 04:08:41,721 - WARNING - Could not find class TransformSpecificationConfig\n",
      "2025-10-16 04:08:41,721 - WARNING - Could not find class JobSplitOptionsConfig\n",
      "2025-10-16 04:08:41,722 - WARNING - Could not find class CradleJobSpecificationConfig\n",
      "2025-10-16 04:08:41,722 - WARNING - Could not find class DataSourcesSpecificationConfig\n",
      "2025-10-16 04:08:41,722 - WARNING - Could not find class DataSourceConfig\n",
      "2025-10-16 04:08:41,723 - WARNING - Could not find class MdsDataSourceConfig\n",
      "2025-10-16 04:08:41,723 - WARNING - Could not find class DataSourceConfig\n",
      "2025-10-16 04:08:41,724 - WARNING - Could not find class EdxDataSourceConfig\n",
      "2025-10-16 04:08:41,724 - WARNING - Could not find class OutputSpecificationConfig\n",
      "2025-10-16 04:08:41,725 - WARNING - Could not find class TransformSpecificationConfig\n",
      "2025-10-16 04:08:41,725 - WARNING - Could not find class JobSplitOptionsConfig\n",
      "2025-10-16 04:08:41,726 - INFO - Successfully loaded configuration from /home/ec2-user/SageMaker/BuyerAbuseModsTemplate/src/buyer_abuse_mods_template/bap_example_pipeline/pipeline_config/config.json\n",
      "2025-10-16 04:08:41,726 - INFO - Successfully loaded configs from /home/ec2-user/SageMaker/BuyerAbuseModsTemplate/src/buyer_abuse_mods_template/bap_example_pipeline/pipeline_config/config.json with 10 specific configs\n",
      "2025-10-16 04:08:41,729 - INFO - Creating additional config instance for CradleDataLoading_calibration (CradleDataLoadingConfig)\n",
      "2025-10-16 04:08:41,774 - INFO - Discovered 33 core config classes\n",
      "2025-10-16 04:08:41,779 - INFO - Discovered 3 core hyperparameter classes\n",
      "2025-10-16 04:08:41,805 - INFO - Discovered 7 base hyperparameter classes from core/base\n",
      "2025-10-16 04:08:41,805 - INFO - Built complete config classes: 43 total (33 config + 10 hyperparameter auto-discovered)\n",
      "2025-10-16 04:08:41,806 - INFO - Discovered 43 config classes via step catalog\n",
      "2025-10-16 04:08:41,849 - INFO - Discovered 33 core config classes\n",
      "2025-10-16 04:08:41,853 - INFO - Discovered 3 core hyperparameter classes\n",
      "2025-10-16 04:08:41,879 - INFO - Discovered 7 base hyperparameter classes from core/base\n",
      "2025-10-16 04:08:41,879 - INFO - Built complete config classes: 43 total (33 config + 10 hyperparameter auto-discovered)\n",
      "2025-10-16 04:08:41,880 - INFO - Discovered 43 config classes via step catalog\n",
      "2025-10-16 04:08:41,881 - INFO - Creating additional config instance for CradleDataLoading_training (CradleDataLoadingConfig)\n",
      "2025-10-16 04:08:41,924 - INFO - Discovered 33 core config classes\n",
      "2025-10-16 04:08:41,929 - INFO - Discovered 3 core hyperparameter classes\n",
      "2025-10-16 04:08:41,954 - INFO - Discovered 7 base hyperparameter classes from core/base\n",
      "2025-10-16 04:08:41,955 - INFO - Built complete config classes: 43 total (33 config + 10 hyperparameter auto-discovered)\n",
      "2025-10-16 04:08:41,955 - INFO - Discovered 43 config classes via step catalog\n",
      "2025-10-16 04:08:41,997 - INFO - Discovered 33 core config classes\n",
      "2025-10-16 04:08:42,002 - INFO - Discovered 3 core hyperparameter classes\n",
      "2025-10-16 04:08:42,028 - INFO - Discovered 7 base hyperparameter classes from core/base\n",
      "2025-10-16 04:08:42,028 - INFO - Built complete config classes: 43 total (33 config + 10 hyperparameter auto-discovered)\n",
      "2025-10-16 04:08:42,029 - INFO - Discovered 43 config classes via step catalog\n",
      "2025-10-16 04:08:42,030 - INFO - Creating additional config instance for ModelCalibration_calibration (ModelCalibrationConfig)\n",
      "2025-10-16 04:08:42,072 - INFO - Discovered 33 core config classes\n",
      "2025-10-16 04:08:42,077 - INFO - Discovered 3 core hyperparameter classes\n",
      "2025-10-16 04:08:42,103 - INFO - Discovered 7 base hyperparameter classes from core/base\n",
      "2025-10-16 04:08:42,103 - INFO - Built complete config classes: 43 total (33 config + 10 hyperparameter auto-discovered)\n",
      "2025-10-16 04:08:42,104 - INFO - Discovered 43 config classes via step catalog\n",
      "2025-10-16 04:08:42,146 - INFO - Discovered 33 core config classes\n",
      "2025-10-16 04:08:42,151 - INFO - Discovered 3 core hyperparameter classes\n",
      "2025-10-16 04:08:42,177 - INFO - Discovered 7 base hyperparameter classes from core/base\n",
      "2025-10-16 04:08:42,177 - INFO - Built complete config classes: 43 total (33 config + 10 hyperparameter auto-discovered)\n",
      "2025-10-16 04:08:42,178 - INFO - Discovered 43 config classes via step catalog\n",
      "2025-10-16 04:08:42,178 - INFO - Creating additional config instance for Package (PackageConfig)\n",
      "2025-10-16 04:08:42,221 - INFO - Discovered 33 core config classes\n",
      "2025-10-16 04:08:42,226 - INFO - Discovered 3 core hyperparameter classes\n",
      "2025-10-16 04:08:42,251 - INFO - Discovered 7 base hyperparameter classes from core/base\n",
      "2025-10-16 04:08:42,252 - INFO - Built complete config classes: 43 total (33 config + 10 hyperparameter auto-discovered)\n",
      "2025-10-16 04:08:42,252 - INFO - Discovered 43 config classes via step catalog\n",
      "2025-10-16 04:08:42,294 - INFO - Discovered 33 core config classes\n",
      "2025-10-16 04:08:42,299 - INFO - Discovered 3 core hyperparameter classes\n",
      "2025-10-16 04:08:42,325 - INFO - Discovered 7 base hyperparameter classes from core/base\n",
      "2025-10-16 04:08:42,325 - INFO - Built complete config classes: 43 total (33 config + 10 hyperparameter auto-discovered)\n",
      "2025-10-16 04:08:42,326 - INFO - Discovered 43 config classes via step catalog\n",
      "2025-10-16 04:08:42,326 - INFO - Creating additional config instance for Payload (PayloadConfig)\n",
      "2025-10-16 04:08:42,369 - INFO - Discovered 33 core config classes\n",
      "2025-10-16 04:08:42,374 - INFO - Discovered 3 core hyperparameter classes\n",
      "2025-10-16 04:08:42,399 - INFO - Discovered 7 base hyperparameter classes from core/base\n",
      "2025-10-16 04:08:42,400 - INFO - Built complete config classes: 43 total (33 config + 10 hyperparameter auto-discovered)\n",
      "2025-10-16 04:08:42,400 - INFO - Discovered 43 config classes via step catalog\n",
      "2025-10-16 04:08:42,442 - INFO - Discovered 33 core config classes\n",
      "2025-10-16 04:08:42,447 - INFO - Discovered 3 core hyperparameter classes\n",
      "2025-10-16 04:08:42,473 - INFO - Discovered 7 base hyperparameter classes from core/base\n",
      "2025-10-16 04:08:42,473 - INFO - Built complete config classes: 43 total (33 config + 10 hyperparameter auto-discovered)\n",
      "2025-10-16 04:08:42,474 - INFO - Discovered 43 config classes via step catalog\n",
      "2025-10-16 04:08:42,474 - INFO - Creating additional config instance for Registration (RegistrationConfig)\n",
      "2025-10-16 04:08:42,517 - INFO - Discovered 33 core config classes\n",
      "2025-10-16 04:08:42,522 - INFO - Discovered 3 core hyperparameter classes\n",
      "2025-10-16 04:08:42,547 - INFO - Discovered 7 base hyperparameter classes from core/base\n",
      "2025-10-16 04:08:42,548 - INFO - Built complete config classes: 43 total (33 config + 10 hyperparameter auto-discovered)\n",
      "2025-10-16 04:08:42,548 - INFO - Discovered 43 config classes via step catalog\n",
      "2025-10-16 04:08:42,590 - INFO - Discovered 33 core config classes\n",
      "2025-10-16 04:08:42,595 - INFO - Discovered 3 core hyperparameter classes\n",
      "2025-10-16 04:08:42,621 - INFO - Discovered 7 base hyperparameter classes from core/base\n",
      "2025-10-16 04:08:42,621 - INFO - Built complete config classes: 43 total (33 config + 10 hyperparameter auto-discovered)\n",
      "2025-10-16 04:08:42,622 - INFO - Discovered 43 config classes via step catalog\n",
      "2025-10-16 04:08:42,622 - INFO - Creating additional config instance for TabularPreprocessing_calibration (TabularPreprocessingConfig)\n",
      "2025-10-16 04:08:42,665 - INFO - Discovered 33 core config classes\n",
      "2025-10-16 04:08:42,670 - INFO - Discovered 3 core hyperparameter classes\n",
      "2025-10-16 04:08:42,695 - INFO - Discovered 7 base hyperparameter classes from core/base\n",
      "2025-10-16 04:08:42,696 - INFO - Built complete config classes: 43 total (33 config + 10 hyperparameter auto-discovered)\n",
      "2025-10-16 04:08:42,696 - INFO - Discovered 43 config classes via step catalog\n",
      "2025-10-16 04:08:42,739 - INFO - Discovered 33 core config classes\n",
      "2025-10-16 04:08:42,744 - INFO - Discovered 3 core hyperparameter classes\n",
      "2025-10-16 04:08:42,769 - INFO - Discovered 7 base hyperparameter classes from core/base\n",
      "2025-10-16 04:08:42,770 - INFO - Built complete config classes: 43 total (33 config + 10 hyperparameter auto-discovered)\n",
      "2025-10-16 04:08:42,770 - INFO - Discovered 43 config classes via step catalog\n",
      "2025-10-16 04:08:42,770 - INFO - Creating additional config instance for TabularPreprocessing_training (TabularPreprocessingConfig)\n",
      "2025-10-16 04:08:42,813 - INFO - Discovered 33 core config classes\n",
      "2025-10-16 04:08:42,818 - INFO - Discovered 3 core hyperparameter classes\n",
      "2025-10-16 04:08:42,843 - INFO - Discovered 7 base hyperparameter classes from core/base\n",
      "2025-10-16 04:08:42,844 - INFO - Built complete config classes: 43 total (33 config + 10 hyperparameter auto-discovered)\n",
      "2025-10-16 04:08:42,844 - INFO - Discovered 43 config classes via step catalog\n",
      "2025-10-16 04:08:42,887 - INFO - Discovered 33 core config classes\n",
      "2025-10-16 04:08:42,892 - INFO - Discovered 3 core hyperparameter classes\n",
      "2025-10-16 04:08:42,917 - INFO - Discovered 7 base hyperparameter classes from core/base\n",
      "2025-10-16 04:08:42,918 - INFO - Built complete config classes: 43 total (33 config + 10 hyperparameter auto-discovered)\n",
      "2025-10-16 04:08:42,918 - INFO - Discovered 43 config classes via step catalog\n",
      "2025-10-16 04:08:42,918 - INFO - Creating additional config instance for XGBoostModelEval_calibration (XGBoostModelEvalConfig)\n",
      "2025-10-16 04:08:42,961 - INFO - Discovered 33 core config classes\n",
      "2025-10-16 04:08:42,966 - INFO - Discovered 3 core hyperparameter classes\n",
      "2025-10-16 04:08:42,991 - INFO - Discovered 7 base hyperparameter classes from core/base\n",
      "2025-10-16 04:08:42,992 - INFO - Built complete config classes: 43 total (33 config + 10 hyperparameter auto-discovered)\n",
      "2025-10-16 04:08:42,992 - INFO - Discovered 43 config classes via step catalog\n",
      "2025-10-16 04:08:43,035 - INFO - Discovered 33 core config classes\n",
      "2025-10-16 04:08:43,040 - INFO - Discovered 3 core hyperparameter classes\n",
      "2025-10-16 04:08:43,065 - INFO - Discovered 7 base hyperparameter classes from core/base\n",
      "2025-10-16 04:08:43,065 - INFO - Built complete config classes: 43 total (33 config + 10 hyperparameter auto-discovered)\n",
      "2025-10-16 04:08:43,066 - INFO - Discovered 43 config classes via step catalog\n",
      "2025-10-16 04:08:43,066 - INFO - Creating additional config instance for XGBoostTraining (XGBoostTrainingConfig)\n",
      "2025-10-16 04:08:43,109 - INFO - Discovered 33 core config classes\n",
      "2025-10-16 04:08:43,114 - INFO - Discovered 3 core hyperparameter classes\n",
      "2025-10-16 04:08:43,139 - INFO - Discovered 7 base hyperparameter classes from core/base\n",
      "2025-10-16 04:08:43,140 - INFO - Built complete config classes: 43 total (33 config + 10 hyperparameter auto-discovered)\n",
      "2025-10-16 04:08:43,140 - INFO - Discovered 43 config classes via step catalog\n",
      "2025-10-16 04:08:43,183 - INFO - Discovered 33 core config classes\n",
      "2025-10-16 04:08:43,188 - INFO - Discovered 3 core hyperparameter classes\n",
      "2025-10-16 04:08:43,213 - INFO - Discovered 7 base hyperparameter classes from core/base\n",
      "2025-10-16 04:08:43,213 - INFO - Built complete config classes: 43 total (33 config + 10 hyperparameter auto-discovered)\n",
      "2025-10-16 04:08:43,214 - INFO - Discovered 43 config classes via step catalog\n",
      "2025-10-16 04:08:43,214 - INFO - Successfully loaded configs from /home/ec2-user/SageMaker/BuyerAbuseModsTemplate/src/buyer_abuse_mods_template/bap_example_pipeline/pipeline_config/config.json\n"
     ]
    }
   ],
   "source": [
    "loaded_configs = load_configs(str(config_path), CONFIG_CLASSES)"
   ]
  },
  {
   "cell_type": "code",
   "execution_count": 63,
   "metadata": {},
   "outputs": [
    {
     "data": {
      "text/plain": [
       "10"
      ]
     },
     "execution_count": 63,
     "metadata": {},
     "output_type": "execute_result"
    }
   ],
   "source": [
    "len(loaded_configs)"
   ]
  },
  {
   "cell_type": "markdown",
   "metadata": {},
   "source": [
    "## Summary\n",
    "\n",
    "This notebook demonstrates the **DAGConfigFactory** approach to pipeline configuration:\n",
    "\n",
    "### ✅ **Benefits Achieved**\n",
    "\n",
    "1. **Reduced Complexity**: From 500+ lines of manual config to guided workflow\n",
    "2. **Base Config Inheritance**: Set common fields once, inherit everywhere\n",
    "3. **Step-by-Step Guidance**: Clear requirements for each configuration step\n",
    "4. **Validation**: Comprehensive validation prevents configuration errors\n",
    "5. **Reusable DAG**: Pipeline structure defined once, reused across environments\n",
    "\n",
    "### 🔄 **Workflow Comparison**\n",
    "\n",
    "| Aspect | Legacy Approach | Interactive Approach |\n",
    "|--------|----------------|---------------------|\n",
    "| **Lines of Code** | 500+ manual lines | Guided step-by-step |\n",
    "| **Time Required** | 30+ minutes | 10-15 minutes |\n",
    "| **Error Rate** | High (manual entry) | Low (validation) |\n",
    "| **Reusability** | Copy-paste heavy | DAG-driven |\n",
    "| **Maintenance** | Manual updates | Automatic inheritance |\n",
    "\n",
    "### 🚀 **Next Steps**\n",
    "\n",
    "The generated configuration file can now be used with the existing pipeline compiler:\n",
    "\n",
    "```python\n",
    "# Use with pipeline compiler (from demo_pipeline.ipynb)\n",
    "from cursus.core.compiler.dag_compiler import PipelineDAGCompiler\n",
    "\n",
    "dag_compiler = PipelineDAGCompiler(\n",
    "    config_path=config_path,\n",
    "    sagemaker_session=pipeline_session,\n",
    "    role=role\n",
    ")\n",
    "\n",
    "# Compile DAG to pipeline\n",
    "template_pipeline, report = dag_compiler.compile_with_report(dag=dag)\n",
    "```\n",
    "\n",
    "The interactive configuration approach transforms the user experience from complex manual setup to an intuitive, guided workflow while maintaining full compatibility with the existing cursus infrastructure."
   ]
  }
 ],
 "metadata": {
  "kernelspec": {
   "display_name": "conda_python3",
   "language": "python",
   "name": "conda_python3"
  },
  "language_info": {
   "codemirror_mode": {
    "name": "ipython",
    "version": 3
   },
   "file_extension": ".py",
   "mimetype": "text/x-python",
   "name": "python",
   "nbconvert_exporter": "python",
   "pygments_lexer": "ipython3",
   "version": "3.10.18"
  }
 },
 "nbformat": 4,
 "nbformat_minor": 4
}
