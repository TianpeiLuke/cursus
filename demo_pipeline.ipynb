{
 "cells": [
  {
   "attachments": {},
   "cell_type": "markdown",
   "id": "299b07c0-e087-4bc8-8a81-46e3710c12fb",
   "metadata": {},
   "source": [
    "# Cursus: Automatic SageMaker (MODS) Pipeline Compiler\n",
    "\n",
    "The main contribution of this work is **Cursus**, a **compiler** that automatically generate **[MODS (Model Training Workflow Operation and Development System) Pipeline](https://w.amazon.com/bin/view/CMLS/Overview/MODS/)** base on two set of user inputs\n",
    "* The **Pipeline DAG (Directed Acylic Graph)**, which describe pipeline as a graph\n",
    "* The **Unified Config JSON**, which provides a central hub to extract all user inputs and their associated step information\n",
    "    * Run [demo_config](./demo_config.ipynb) first to generate the Unified Config JSON\n",
    "    * The config json will be saved in `./pipeling_config/xxx/` folder\n",
    "\n",
    "![mods_pipeline_train_eval_calib](./demo/mods_pipeline_train_eval_calib.png)\n"
   ]
  },
  {
   "cell_type": "code",
   "execution_count": 1,
   "id": "34f155a1-8a8a-472a-9c97-ec9607322256",
   "metadata": {
    "scrolled": true,
    "tags": []
   },
   "outputs": [],
   "source": [
    "#!pip install amzn-secure-ai-sandbox-workflow-python-sdk --ignore-installed"
   ]
  },
  {
   "cell_type": "code",
   "execution_count": 2,
   "id": "479d2a67-2a90-41e1-921a-81fb8130e0e7",
   "metadata": {
    "scrolled": true,
    "tags": []
   },
   "outputs": [],
   "source": [
    "#!pip install amzn-mods-workflow-helper amzn-mods-python-sdk --upgrade"
   ]
  },
  {
   "cell_type": "code",
   "execution_count": 3,
   "id": "17e8527f-deb7-46c5-88bf-5bb3b94d60b1",
   "metadata": {
    "scrolled": true
   },
   "outputs": [],
   "source": [
    "#!pip install --upgrade sagemaker"
   ]
  },
  {
   "cell_type": "code",
   "execution_count": 4,
   "id": "efe50590-45a5-42e0-ba46-db3182c95c6c",
   "metadata": {
    "tags": []
   },
   "outputs": [],
   "source": [
    "import os\n",
    "import json\n",
    "import pandas as pd\n",
    "import pickle\n",
    "import sys\n",
    "import subprocess\n",
    "from datetime import datetime\n",
    "\n",
    "from pathlib import Path"
   ]
  },
  {
   "cell_type": "code",
   "execution_count": 5,
   "id": "fefa46ee-5c6e-4376-b315-596daf503e45",
   "metadata": {
    "tags": []
   },
   "outputs": [],
   "source": [
    "from pydantic import BaseModel, Field, model_validator, field_validator\n",
    "from typing import List, Optional, Dict, Any, Type, Union, Tuple\n"
   ]
  },
  {
   "cell_type": "code",
   "execution_count": 6,
   "id": "94496431-af1a-4689-888d-4e5dc62a2c03",
   "metadata": {},
   "outputs": [],
   "source": [
    "from collections import (\n",
    "    defaultdict,\n",
    "    deque\n",
    ")"
   ]
  },
  {
   "cell_type": "code",
   "execution_count": 7,
   "id": "92563607-e4f2-417f-9115-d8549711e7cf",
   "metadata": {
    "tags": []
   },
   "outputs": [],
   "source": [
    "import logging"
   ]
  },
  {
   "cell_type": "code",
   "execution_count": 8,
   "id": "a0cb59bf-9f68-4b0c-b699-a48961d40f6c",
   "metadata": {
    "tags": []
   },
   "outputs": [],
   "source": [
    "logging.basicConfig(\n",
    "        level=logging.INFO,\n",
    "        format='%(asctime)s - %(levelname)s - %(message)s'\n",
    "    )\n",
    "logger = logging.getLogger(__name__)\n"
   ]
  },
  {
   "cell_type": "markdown",
   "id": "8109385d-fa21-4b1d-8b0c-52a0394f0b1e",
   "metadata": {},
   "source": [
    "## Environment Setup"
   ]
  },
  {
   "cell_type": "code",
   "execution_count": 9,
   "id": "cfbf0cf9-05ca-4e17-9725-a02e1ac26975",
   "metadata": {},
   "outputs": [
    {
     "name": "stderr",
     "output_type": "stream",
     "text": [
      "2025-09-21 17:55:40,578 - INFO - Found credentials from IAM Role: BaseNotebookInstanceEc2InstanceRole\n"
     ]
    },
    {
     "name": "stdout",
     "output_type": "stream",
     "text": [
      "sagemaker.config INFO - Not applying SDK defaults from location: /etc/xdg/sagemaker/config.yaml\n",
      "sagemaker.config INFO - Not applying SDK defaults from location: /home/ec2-user/.config/sagemaker/config.yaml\n"
     ]
    },
    {
     "name": "stderr",
     "output_type": "stream",
     "text": [
      "2025-09-21 17:55:40,865 - INFO - CA certs are provided via the AmazonCACerts installation at /home/ec2-user/.local/lib/python3.10/site-packages/amazoncerts\n"
     ]
    }
   ],
   "source": [
    "from sagemaker import Session\n",
    "from secure_ai_sandbox_python_lib.session import Session as SaisSession\n"
   ]
  },
  {
   "cell_type": "code",
   "execution_count": 10,
   "id": "f7aae78b-4ba8-4498-95b2-2049fea6f194",
   "metadata": {},
   "outputs": [],
   "source": [
    "from mods_workflow_helper.utils.secure_session import create_secure_session_config\n",
    "from mods_workflow_helper.sagemaker_pipeline_helper import SecurityConfig\n",
    "\n",
    "from sagemaker.workflow.pipeline_context import PipelineSession"
   ]
  },
  {
   "cell_type": "code",
   "execution_count": 11,
   "id": "408d3fcf-515c-4571-b565-6a24d2fffa52",
   "metadata": {
    "tags": []
   },
   "outputs": [
    {
     "name": "stderr",
     "output_type": "stream",
     "text": [
      "2025-09-21 17:55:41,314 - INFO - Found credentials from IAM Role: BaseNotebookInstanceEc2InstanceRole\n",
      "2025-09-21 17:55:42,064 - INFO - successfully patched module botocore\n"
     ]
    }
   ],
   "source": [
    "# Initialize session with team bucket\n",
    "sais_session = SaisSession(\".\")\n",
    "\n",
    "security_config = SecurityConfig(\n",
    "    kms_key=sais_session.get_team_owned_bucket_kms_key(),\n",
    "    security_group=sais_session.sandbox_vpc_security_group(),\n",
    "    vpc_subnets=sais_session.sandbox_vpc_subnets()\n",
    ")"
   ]
  },
  {
   "cell_type": "code",
   "execution_count": 12,
   "id": "b597be14-2c83-4eeb-b082-2af89a6c0778",
   "metadata": {
    "tags": []
   },
   "outputs": [
    {
     "name": "stderr",
     "output_type": "stream",
     "text": [
      "2025-09-21 17:55:42,084 - INFO - Found credentials from IAM Role: BaseNotebookInstanceEc2InstanceRole\n",
      "2025-09-21 17:55:42,266 - INFO - There is no MODS workflow execution id provided, this is probably because you are running your pipeline outside of MODS.\n"
     ]
    }
   ],
   "source": [
    "sagemaker_config = create_secure_session_config(\n",
    "    role_arn=PipelineSession().get_caller_identity_arn(),\n",
    "    # If you are uploading to andes, use cradle_read_s3_bucket_name() and get_cradle_read_bucket_kms_key() respecitely\n",
    "    bucket_name=sais_session.team_owned_s3_bucket_name(),\n",
    "    kms_key=sais_session.get_team_owned_bucket_kms_key(),\n",
    "    vpc_subnet_ids=sais_session.sandbox_vpc_subnets(),\n",
    "    vpc_security_groups=[sais_session.sandbox_vpc_security_group()]\n",
    ")"
   ]
  },
  {
   "cell_type": "code",
   "execution_count": 13,
   "id": "3e3f0529-ee5d-468b-a891-e9c1c0075835",
   "metadata": {
    "tags": []
   },
   "outputs": [
    {
     "name": "stderr",
     "output_type": "stream",
     "text": [
      "2025-09-21 17:55:42,284 - INFO - Found credentials from IAM Role: BaseNotebookInstanceEc2InstanceRole\n"
     ]
    }
   ],
   "source": [
    "\n",
    "pipeline_session = PipelineSession(default_bucket=sais_session.team_owned_s3_bucket_name(), \n",
    "                                   sagemaker_config=sagemaker_config) # IMPORTANT now the session uses the generated sagemaker_config"
   ]
  },
  {
   "cell_type": "code",
   "execution_count": 14,
   "id": "9903ff91-458b-47a2-ad53-a5941edeb9bc",
   "metadata": {
    "tags": []
   },
   "outputs": [],
   "source": [
    "pipeline_session.config = sagemaker_config"
   ]
  },
  {
   "cell_type": "code",
   "execution_count": 15,
   "id": "89465daa-c6d1-43c6-a270-ffb57c167410",
   "metadata": {
    "tags": []
   },
   "outputs": [
    {
     "data": {
      "text/plain": [
       "'sandboxdependency-abuse-secureaisandboxteamshare-1l77v9am252um'"
      ]
     },
     "execution_count": 15,
     "metadata": {},
     "output_type": "execute_result"
    }
   ],
   "source": [
    "bucket=sais_session.team_owned_s3_bucket_name()\n",
    "bucket"
   ]
  },
  {
   "cell_type": "code",
   "execution_count": 16,
   "id": "87e9385d-eccd-46ec-9813-08997aaa0c43",
   "metadata": {
    "tags": []
   },
   "outputs": [
    {
     "name": "stderr",
     "output_type": "stream",
     "text": [
      "2025-09-21 17:55:42,806 - INFO - Found credentials from IAM Role: BaseNotebookInstanceEc2InstanceRole\n"
     ]
    },
    {
     "data": {
      "text/plain": [
       "'arn:aws:iam::601857636239:role/SandboxRole-lukexie-us-east-1'"
      ]
     },
     "execution_count": 16,
     "metadata": {},
     "output_type": "execute_result"
    }
   ],
   "source": [
    "role=PipelineSession().get_caller_identity_arn()\n",
    "role"
   ]
  },
  {
   "cell_type": "code",
   "execution_count": 17,
   "id": "6850b94d-eabe-4bcf-a509-37d67f17a538",
   "metadata": {},
   "outputs": [
    {
     "name": "stdout",
     "output_type": "stream",
     "text": [
      "add project root /home/ec2-user/SageMaker/Cursus/src into system\n"
     ]
    }
   ],
   "source": [
    "from pathlib import Path\n",
    "import sys\n",
    "\n",
    "# Get parent directory of current notebook\n",
    "project_root = str(Path().absolute().parent / 'src')\n",
    "if project_root not in sys.path:\n",
    "    sys.path.insert(0, project_root)  \n",
    "    print(f\"add project root {project_root} into system\")"
   ]
  },
  {
   "cell_type": "markdown",
   "id": "aa9961bb-ae6a-45eb-9e12-5fb79b25f71c",
   "metadata": {},
   "source": [
    "## Basic Information"
   ]
  },
  {
   "cell_type": "code",
   "execution_count": 18,
   "id": "51c50cd1-074c-47a5-acfe-5bbcf9500cf5",
   "metadata": {
    "tags": []
   },
   "outputs": [],
   "source": [
    "region_list = [\n",
    "    'NA',\n",
    "    'EU',\n",
    "    'FE'\n",
    "]"
   ]
  },
  {
   "cell_type": "code",
   "execution_count": 19,
   "id": "7e9387ac-df3b-47c8-b869-6c748ed55cc7",
   "metadata": {
    "tags": []
   },
   "outputs": [],
   "source": [
    "region_selection = 0"
   ]
  },
  {
   "cell_type": "code",
   "execution_count": 20,
   "id": "ac12ddc2-68c8-4d10-ab58-b9285365515c",
   "metadata": {
    "tags": []
   },
   "outputs": [
    {
     "data": {
      "text/plain": [
       "'NA'"
      ]
     },
     "execution_count": 20,
     "metadata": {},
     "output_type": "execute_result"
    }
   ],
   "source": [
    "region = region_list[region_selection]\n",
    "region"
   ]
  },
  {
   "cell_type": "code",
   "execution_count": 21,
   "id": "151164f4-717a-4750-bebb-1d4e5406812d",
   "metadata": {
    "tags": []
   },
   "outputs": [],
   "source": [
    "MODEL_CLASS='xgboost'"
   ]
  },
  {
   "cell_type": "code",
   "execution_count": 22,
   "id": "e69d0db9-52a9-46e2-a090-0ff91670591a",
   "metadata": {},
   "outputs": [],
   "source": [
    "service_name=\"AtoZ\" #\"BuyerAbuseCAPPDA\" #"
   ]
  },
  {
   "cell_type": "markdown",
   "id": "083c62dd-0e54-491a-b399-1ff7e3e8de42",
   "metadata": {},
   "source": [
    "#### Config and Hyperparameter Information"
   ]
  },
  {
   "cell_type": "code",
   "execution_count": 23,
   "id": "113f0787-3986-4bd9-a087-8c3ef3247fe1",
   "metadata": {},
   "outputs": [
    {
     "name": "stdout",
     "output_type": "stream",
     "text": [
      "/home/ec2-user/SageMaker/Cursus/pipeline_config/config_NA_xgboost_AtoZ_v2\n"
     ]
    }
   ],
   "source": [
    "current_dir = Path.cwd()\n",
    "#config_dir = Path(current_dir) / 'pipeline_config' / f'config_{region}_{MODEL_CLASS}_v2'\n",
    "config_dir = Path(current_dir).parent / 'pipeline_config' / f'config_{region}_{MODEL_CLASS}_{service_name}_v2'\n",
    "print(config_dir)"
   ]
  },
  {
   "cell_type": "code",
   "execution_count": 24,
   "id": "4038ad40-95c0-4858-8de4-24aa96a0a595",
   "metadata": {},
   "outputs": [],
   "source": [
    "hyparam_filename = f'hyperparameters_{region}_{MODEL_CLASS}.json' #'hyperparameters.json'"
   ]
  },
  {
   "cell_type": "code",
   "execution_count": 25,
   "id": "94c03bfe-a3b2-4c3c-bfac-ae097ef3ef42",
   "metadata": {},
   "outputs": [
    {
     "data": {
      "text/plain": [
       "'config_NA_xgboost_AtoZ.json'"
      ]
     },
     "execution_count": 25,
     "metadata": {},
     "output_type": "execute_result"
    }
   ],
   "source": [
    "pipeline_config_name = f'config_{region}_{MODEL_CLASS}_{service_name}.json'  #f'config_{region}.json'\n",
    "pipeline_config_name"
   ]
  },
  {
   "cell_type": "code",
   "execution_count": 26,
   "id": "41fe835b-937f-4f17-a71f-2d0deb0483ef",
   "metadata": {},
   "outputs": [],
   "source": [
    "config_path = config_dir / pipeline_config_name"
   ]
  },
  {
   "cell_type": "code",
   "execution_count": 27,
   "id": "cf788034-e479-4cac-8274-98b33937569b",
   "metadata": {},
   "outputs": [
    {
     "data": {
      "text/plain": [
       "PosixPath('/home/ec2-user/SageMaker/Cursus/pipeline_config/config_NA_xgboost_AtoZ_v2/config_NA_xgboost_AtoZ.json')"
      ]
     },
     "execution_count": 27,
     "metadata": {},
     "output_type": "execute_result"
    }
   ],
   "source": [
    "config_path"
   ]
  },
  {
   "cell_type": "code",
   "execution_count": null,
   "id": "fa969016-7024-423f-9784-5c4145d276bd",
   "metadata": {},
   "outputs": [],
   "source": []
  },
  {
   "cell_type": "code",
   "execution_count": null,
   "id": "e9282a90-2ed4-43fe-9725-2c3ec53b4f0c",
   "metadata": {},
   "outputs": [],
   "source": []
  },
  {
   "cell_type": "markdown",
   "id": "00e1fa95-7379-4ab9-8d25-8f57654e5734",
   "metadata": {},
   "source": [
    "## Pipeline Imports"
   ]
  },
  {
   "cell_type": "code",
   "execution_count": 28,
   "id": "d32cbbf4-f448-42f4-a54b-56f7947f8c9d",
   "metadata": {
    "tags": []
   },
   "outputs": [],
   "source": [
    "from enum import Enum\n",
    "from pydantic import BaseModel"
   ]
  },
  {
   "cell_type": "markdown",
   "id": "6d02cf5a-e2d5-49af-8f55-aca2c4bec315",
   "metadata": {},
   "source": [
    "## [Optional]: Test Config Load Functionality\n",
    "\n",
    "Please skip this section if you are not concern about the config information loaded"
   ]
  },
  {
   "cell_type": "markdown",
   "id": "e79af0dc-1b46-4809-a0b2-8eb534e4d365",
   "metadata": {},
   "source": [
    "### Hyperparameters"
   ]
  },
  {
   "cell_type": "code",
   "execution_count": 29,
   "id": "ee5eb858-99b6-4937-a3d7-265e53f95af8",
   "metadata": {
    "scrolled": true,
    "tags": []
   },
   "outputs": [
    {
     "name": "stderr",
     "output_type": "stream",
     "text": [
      "2025-09-21 17:55:43,345 - pipeline_registry.builder_registry - INFO - Registered builder: BatchTransform -> BatchTransformStepBuilder\n",
      "2025-09-21 17:55:43,345 - INFO - Registered builder: BatchTransform -> BatchTransformStepBuilder\n",
      "2025-09-21 17:55:43,346 - pipeline_registry.builder_registry - INFO - Registered builder: CurrencyConversion -> CurrencyConversionStepBuilder\n",
      "2025-09-21 17:55:43,346 - INFO - Registered builder: CurrencyConversion -> CurrencyConversionStepBuilder\n",
      "2025-09-21 17:55:43,348 - pipeline_registry.builder_registry - INFO - Registered builder: DummyTraining -> DummyTrainingStepBuilder\n",
      "2025-09-21 17:55:43,348 - INFO - Registered builder: DummyTraining -> DummyTrainingStepBuilder\n",
      "2025-09-21 17:55:43,350 - pipeline_registry.builder_registry - INFO - Registered builder: ModelCalibration -> ModelCalibrationStepBuilder\n",
      "2025-09-21 17:55:43,350 - INFO - Registered builder: ModelCalibration -> ModelCalibrationStepBuilder\n",
      "2025-09-21 17:55:43,353 - pipeline_registry.builder_registry - INFO - Registered builder: XGBoostModelEval -> XGBoostModelEvalStepBuilder\n",
      "2025-09-21 17:55:43,353 - INFO - Registered builder: XGBoostModelEval -> XGBoostModelEvalStepBuilder\n",
      "2025-09-21 17:55:43,382 - pipeline_registry.builder_registry - INFO - Registered builder: PyTorchModel -> PyTorchModelStepBuilder\n",
      "2025-09-21 17:55:43,382 - INFO - Registered builder: PyTorchModel -> PyTorchModelStepBuilder\n",
      "2025-09-21 17:55:43,383 - pipeline_registry.builder_registry - INFO - Registered builder: XGBoostModel -> XGBoostModelStepBuilder\n",
      "2025-09-21 17:55:43,383 - INFO - Registered builder: XGBoostModel -> XGBoostModelStepBuilder\n",
      "2025-09-21 17:55:43,384 - pipeline_registry.builder_registry - INFO - Registered builder: Package -> PackageStepBuilder\n",
      "2025-09-21 17:55:43,384 - INFO - Registered builder: Package -> PackageStepBuilder\n",
      "2025-09-21 17:55:43,385 - pipeline_registry.builder_registry - INFO - Registered builder: Payload -> PayloadStepBuilder\n",
      "2025-09-21 17:55:43,385 - INFO - Registered builder: Payload -> PayloadStepBuilder\n",
      "2025-09-21 17:55:43,386 - pipeline_registry.builder_registry - INFO - Registered builder: RiskTableMapping -> RiskTableMappingStepBuilder\n",
      "2025-09-21 17:55:43,386 - INFO - Registered builder: RiskTableMapping -> RiskTableMappingStepBuilder\n",
      "2025-09-21 17:55:43,388 - pipeline_registry.builder_registry - INFO - Registered builder: TabularPreprocessing -> TabularPreprocessingStepBuilder\n",
      "2025-09-21 17:55:43,388 - INFO - Registered builder: TabularPreprocessing -> TabularPreprocessingStepBuilder\n",
      "2025-09-21 17:55:43,389 - pipeline_registry.builder_registry - INFO - Registered builder: PyTorchTraining -> PyTorchTrainingStepBuilder\n",
      "2025-09-21 17:55:43,389 - INFO - Registered builder: PyTorchTraining -> PyTorchTrainingStepBuilder\n",
      "2025-09-21 17:55:43,390 - pipeline_registry.builder_registry - INFO - Registered builder: XGBoostTraining -> XGBoostTrainingStepBuilder\n",
      "2025-09-21 17:55:43,390 - INFO - Registered builder: XGBoostTraining -> XGBoostTrainingStepBuilder\n"
     ]
    }
   ],
   "source": [
    "from cursus.steps.hyperparams.hyperparameters_xgboost import XGBoostModelHyperparameters"
   ]
  },
  {
   "cell_type": "code",
   "execution_count": 30,
   "id": "26e2d72b-1a34-42ca-9aee-a8430d6b8706",
   "metadata": {
    "tags": []
   },
   "outputs": [],
   "source": [
    "hyparam_path = config_dir / hyparam_filename\n",
    "with open(hyparam_path, 'r') as file:\n",
    "    hyperparam_dict = json.load(file)"
   ]
  },
  {
   "cell_type": "code",
   "execution_count": 31,
   "id": "d3f00717-87c5-4270-85d4-f81c34f7deb4",
   "metadata": {
    "tags": []
   },
   "outputs": [],
   "source": [
    "hyperparams = XGBoostModelHyperparameters(**hyperparam_dict)"
   ]
  },
  {
   "cell_type": "code",
   "execution_count": 32,
   "id": "2e74fb0c-7a5f-4792-8123-fa0142ff15ea",
   "metadata": {
    "tags": []
   },
   "outputs": [
    {
     "data": {
      "text/plain": [
       "2"
      ]
     },
     "execution_count": 32,
     "metadata": {},
     "output_type": "execute_result"
    }
   ],
   "source": [
    "hyperparams.num_classes"
   ]
  },
  {
   "cell_type": "code",
   "execution_count": 33,
   "id": "5f57e6d2-3012-4746-90a3-9fd7c2559b63",
   "metadata": {
    "tags": []
   },
   "outputs": [
    {
     "data": {
      "text/plain": [
       "True"
      ]
     },
     "execution_count": 33,
     "metadata": {},
     "output_type": "execute_result"
    }
   ],
   "source": [
    "hyperparams.is_binary"
   ]
  },
  {
   "cell_type": "markdown",
   "id": "23851f5a-be88-4aa8-a17e-95ca42f282ce",
   "metadata": {},
   "source": [
    "### Import Configs"
   ]
  },
  {
   "cell_type": "code",
   "execution_count": 34,
   "id": "07614f39-3683-42b1-baf0-dca78d21b6eb",
   "metadata": {
    "scrolled": true,
    "tags": []
   },
   "outputs": [],
   "source": [
    "from cursus.core.base.config_base import BasePipelineConfig"
   ]
  },
  {
   "cell_type": "code",
   "execution_count": 35,
   "id": "c507be6b-d6f4-42ff-99d3-3f5050589715",
   "metadata": {
    "tags": []
   },
   "outputs": [],
   "source": [
    "from cursus.steps.configs.config_cradle_data_loading_step import (CradleDataLoadConfig,\n",
    "                                                    MdsDataSourceConfig,\n",
    "                                                    EdxDataSourceConfig,\n",
    "                                                    DataSourceConfig,\n",
    "                                                    DataSourcesSpecificationConfig,\n",
    "                                                    JobSplitOptionsConfig,\n",
    "                                                    TransformSpecificationConfig,\n",
    "                                                    OutputSpecificationConfig,\n",
    "                                                    CradleJobSpecificationConfig\n",
    "                                                   )"
   ]
  },
  {
   "cell_type": "code",
   "execution_count": 36,
   "id": "1603519b-b4c3-4c67-a9a3-07c86f791270",
   "metadata": {},
   "outputs": [],
   "source": [
    "from secure_ai_sandbox_workflow_python_sdk.utils.constants import (\n",
    "    OUTPUT_TYPE_DATA,\n",
    "    OUTPUT_TYPE_METADATA,\n",
    "    OUTPUT_TYPE_SIGNATURE,\n",
    ")"
   ]
  },
  {
   "cell_type": "code",
   "execution_count": 37,
   "id": "6632ce00-8865-498f-8644-0ddf80a097fd",
   "metadata": {
    "tags": []
   },
   "outputs": [],
   "source": [
    "from cursus.steps.configs.config_processing_step_base import ProcessingStepConfigBase"
   ]
  },
  {
   "cell_type": "code",
   "execution_count": 38,
   "id": "b57ce75c-47a9-4e54-9e68-7fa4f4b92bea",
   "metadata": {
    "tags": []
   },
   "outputs": [],
   "source": [
    "from cursus.steps.configs.config_tabular_preprocessing_step import TabularPreprocessingConfig"
   ]
  },
  {
   "cell_type": "code",
   "execution_count": 39,
   "id": "fb13f97c-c32d-4f1c-b4ea-78446a1ec874",
   "metadata": {
    "tags": []
   },
   "outputs": [],
   "source": [
    "from cursus.steps.configs.config_xgboost_training_step import XGBoostTrainingConfig"
   ]
  },
  {
   "cell_type": "code",
   "execution_count": 40,
   "id": "a464b9e1-9ef8-4c12-955a-de9c9e93951e",
   "metadata": {},
   "outputs": [],
   "source": [
    "from cursus.steps.configs.config_model_calibration_step import ModelCalibrationConfig"
   ]
  },
  {
   "cell_type": "code",
   "execution_count": 41,
   "id": "9955e072-6776-4669-905c-b88264ace2dc",
   "metadata": {
    "tags": []
   },
   "outputs": [],
   "source": [
    "from cursus.steps.configs.config_xgboost_model_eval_step import XGBoostModelEvalConfig"
   ]
  },
  {
   "cell_type": "code",
   "execution_count": 42,
   "id": "4a814249-53dc-460b-a37d-5bd414937557",
   "metadata": {
    "tags": []
   },
   "outputs": [],
   "source": [
    "from cursus.steps.configs.config_package_step import PackageConfig"
   ]
  },
  {
   "cell_type": "code",
   "execution_count": 43,
   "id": "e2fe7f86-9db0-4234-a4d5-75b62ba4e638",
   "metadata": {
    "tags": []
   },
   "outputs": [],
   "source": [
    "from cursus.steps.configs.config_registration_step import RegistrationConfig"
   ]
  },
  {
   "cell_type": "code",
   "execution_count": 44,
   "id": "f6397f49-a613-4e26-878c-7497aee5c283",
   "metadata": {
    "tags": []
   },
   "outputs": [],
   "source": [
    "from secure_ai_sandbox_workflow_python_sdk.mims_model_registration.mims_model_registration_processing_step import (\n",
    "    MimsModelRegistrationProcessingStep,\n",
    ")"
   ]
  },
  {
   "cell_type": "code",
   "execution_count": 45,
   "id": "ae209192-7c89-499c-bfe7-5419e9e847e4",
   "metadata": {
    "tags": []
   },
   "outputs": [],
   "source": [
    "from secure_ai_sandbox_workflow_python_sdk.mims_model_registration.mims_model_registration_processor import (\n",
    "    MimsModelRegistrationProcessor,\n",
    ")"
   ]
  },
  {
   "cell_type": "code",
   "execution_count": 46,
   "id": "e6166f00-b540-41dd-afc1-8c9707ef3f83",
   "metadata": {
    "tags": []
   },
   "outputs": [],
   "source": [
    "from cursus.steps.configs.config_payload_step import PayloadConfig"
   ]
  },
  {
   "cell_type": "markdown",
   "id": "f5fbb7c6-7f29-48bf-8940-86cf69df9c73",
   "metadata": {},
   "source": [
    "### Load Config"
   ]
  },
  {
   "cell_type": "code",
   "execution_count": 47,
   "id": "715f7a1c-a2c2-4809-b629-35d268b343e7",
   "metadata": {},
   "outputs": [],
   "source": [
    "from cursus.steps.configs.utils import serialize_config, merge_and_save_configs, load_configs, verify_configs"
   ]
  },
  {
   "cell_type": "code",
   "execution_count": 48,
   "id": "3a9787f3-493e-4631-9efc-eceeb0c2bc4a",
   "metadata": {
    "tags": []
   },
   "outputs": [],
   "source": [
    "CONFIG_CLASSES = {\n",
    "        'BasePipelineConfig':          BasePipelineConfig,\n",
    "        'XGBoostTrainingConfig':       XGBoostTrainingConfig,\n",
    "        'ModelCalibrationConfig':      ModelCalibrationConfig,\n",
    "        'ProcessingStepConfigBase':    ProcessingStepConfigBase,\n",
    "        'PackageConfig':               PackageConfig,\n",
    "        'RegistrationConfig':          RegistrationConfig,\n",
    "        'PayloadConfig':               PayloadConfig,\n",
    "        'CradleDataLoadConfig':        CradleDataLoadConfig,\n",
    "        'TabularPreprocessingConfig':  TabularPreprocessingConfig,\n",
    "        'XGBoostModelEvalConfig':      XGBoostModelEvalConfig,\n",
    "    }"
   ]
  },
  {
   "cell_type": "code",
   "execution_count": 49,
   "id": "ed47146d-6e3b-4254-aeae-21bae57e43d5",
   "metadata": {},
   "outputs": [
    {
     "data": {
      "text/plain": [
       "PosixPath('/home/ec2-user/SageMaker/Cursus/pipeline_config/config_NA_xgboost_AtoZ_v2/config_NA_xgboost_AtoZ.json')"
      ]
     },
     "execution_count": 49,
     "metadata": {},
     "output_type": "execute_result"
    }
   ],
   "source": [
    "config_path"
   ]
  },
  {
   "cell_type": "code",
   "execution_count": 50,
   "id": "1dc47699-ed18-46e6-a9bc-ae8eb890feeb",
   "metadata": {
    "scrolled": true,
    "tags": []
   },
   "outputs": [
    {
     "name": "stderr",
     "output_type": "stream",
     "text": [
      "2025-09-21 17:55:43,506 - INFO - Loading configuration from /home/ec2-user/SageMaker/Cursus/pipeline_config/config_NA_xgboost_AtoZ_v2/config_NA_xgboost_AtoZ.json\n",
      "2025-09-21 17:55:43,507 - WARNING - Class CradleJobSpecificationConfig not found\n",
      "2025-09-21 17:55:43,508 - WARNING - Could not find class CradleJobSpecificationConfig for unknown field, using dict\n",
      "2025-09-21 17:55:43,508 - WARNING - Class DataSourcesSpecificationConfig not found\n",
      "2025-09-21 17:55:43,509 - WARNING - Could not find class DataSourcesSpecificationConfig for unknown field, using dict\n",
      "2025-09-21 17:55:43,509 - WARNING - Class DataSourceConfig not found\n",
      "2025-09-21 17:55:43,509 - WARNING - Could not find class DataSourceConfig for unknown field, using dict\n",
      "2025-09-21 17:55:43,510 - WARNING - Class MdsDataSourceConfig not found\n",
      "2025-09-21 17:55:43,510 - WARNING - Could not find class MdsDataSourceConfig for unknown field, using dict\n",
      "2025-09-21 17:55:43,510 - WARNING - Class DataSourceConfig not found\n",
      "2025-09-21 17:55:43,511 - WARNING - Could not find class DataSourceConfig for unknown field, using dict\n",
      "2025-09-21 17:55:43,512 - WARNING - Class EdxDataSourceConfig not found\n",
      "2025-09-21 17:55:43,512 - WARNING - Could not find class EdxDataSourceConfig for unknown field, using dict\n",
      "2025-09-21 17:55:43,512 - WARNING - Class OutputSpecificationConfig not found\n",
      "2025-09-21 17:55:43,513 - WARNING - Could not find class OutputSpecificationConfig for unknown field, using dict\n",
      "2025-09-21 17:55:43,513 - WARNING - Class TransformSpecificationConfig not found\n",
      "2025-09-21 17:55:43,513 - WARNING - Could not find class TransformSpecificationConfig for unknown field, using dict\n",
      "2025-09-21 17:55:43,514 - WARNING - Class JobSplitOptionsConfig not found\n",
      "2025-09-21 17:55:43,514 - WARNING - Could not find class JobSplitOptionsConfig for unknown field, using dict\n",
      "2025-09-21 17:55:43,514 - WARNING - Class CradleJobSpecificationConfig not found\n",
      "2025-09-21 17:55:43,515 - WARNING - Could not find class CradleJobSpecificationConfig for unknown field, using dict\n",
      "2025-09-21 17:55:43,515 - WARNING - Class DataSourcesSpecificationConfig not found\n",
      "2025-09-21 17:55:43,515 - WARNING - Could not find class DataSourcesSpecificationConfig for unknown field, using dict\n",
      "2025-09-21 17:55:43,516 - WARNING - Class DataSourceConfig not found\n",
      "2025-09-21 17:55:43,516 - WARNING - Could not find class DataSourceConfig for unknown field, using dict\n",
      "2025-09-21 17:55:43,516 - WARNING - Class MdsDataSourceConfig not found\n",
      "2025-09-21 17:55:43,517 - WARNING - Could not find class MdsDataSourceConfig for unknown field, using dict\n",
      "2025-09-21 17:55:43,517 - WARNING - Class DataSourceConfig not found\n",
      "2025-09-21 17:55:43,517 - WARNING - Could not find class DataSourceConfig for unknown field, using dict\n",
      "2025-09-21 17:55:43,519 - WARNING - Class EdxDataSourceConfig not found\n",
      "2025-09-21 17:55:43,519 - WARNING - Could not find class EdxDataSourceConfig for unknown field, using dict\n",
      "2025-09-21 17:55:43,520 - WARNING - Class OutputSpecificationConfig not found\n",
      "2025-09-21 17:55:43,520 - WARNING - Could not find class OutputSpecificationConfig for unknown field, using dict\n",
      "2025-09-21 17:55:43,520 - WARNING - Class TransformSpecificationConfig not found\n",
      "2025-09-21 17:55:43,521 - WARNING - Could not find class TransformSpecificationConfig for unknown field, using dict\n",
      "2025-09-21 17:55:43,521 - WARNING - Class JobSplitOptionsConfig not found\n",
      "2025-09-21 17:55:43,521 - WARNING - Could not find class JobSplitOptionsConfig for unknown field, using dict\n",
      "2025-09-21 17:55:43,522 - WARNING - Class XGBoostModelHyperparameters not found\n",
      "2025-09-21 17:55:43,523 - WARNING - Could not find class XGBoostModelHyperparameters for unknown field, using dict\n",
      "2025-09-21 17:55:43,523 - WARNING - Class XGBoostModelHyperparameters not found\n",
      "2025-09-21 17:55:43,523 - WARNING - Could not find class XGBoostModelHyperparameters for unknown field, using dict\n",
      "2025-09-21 17:55:43,524 - INFO - Successfully loaded configuration from /home/ec2-user/SageMaker/Cursus/pipeline_config/config_NA_xgboost_AtoZ_v2/config_NA_xgboost_AtoZ.json\n",
      "2025-09-21 17:55:43,524 - INFO - Successfully loaded configs from /home/ec2-user/SageMaker/Cursus/pipeline_config/config_NA_xgboost_AtoZ_v2/config_NA_xgboost_AtoZ.json with 12 specific configs\n",
      "2025-09-21 17:55:43,526 - INFO - Creating additional config instance for Base (BasePipelineConfig)\n",
      "2025-09-21 17:55:43,526 - WARNING - Class BasePipelineConfig not found\n",
      "2025-09-21 17:55:43,527 - WARNING - Could not find class BasePipelineConfig for unknown field, using BasePipelineConfig\n",
      "2025-09-21 17:55:43,527 - INFO - Creating additional config instance for CradleDataLoading_calibration (CradleDataLoadConfig)\n",
      "2025-09-21 17:55:43,528 - WARNING - Class CradleDataLoadConfig not found\n",
      "2025-09-21 17:55:43,528 - WARNING - Could not find class CradleDataLoadConfig for unknown field, using CradleDataLoadConfig\n",
      "2025-09-21 17:55:43,529 - WARNING - Class CradleJobSpecificationConfig not found\n",
      "2025-09-21 17:55:43,529 - WARNING - Could not find class CradleJobSpecificationConfig for unknown field, using CradleJobSpecificationConfig\n",
      "2025-09-21 17:55:43,530 - WARNING - Class DataSourcesSpecificationConfig not found\n",
      "2025-09-21 17:55:43,530 - WARNING - Could not find class DataSourcesSpecificationConfig for unknown field, using DataSourcesSpecificationConfig\n",
      "2025-09-21 17:55:43,530 - WARNING - Class DataSourceConfig not found\n",
      "2025-09-21 17:55:43,531 - WARNING - Could not find class DataSourceConfig for unknown field, using dict\n",
      "2025-09-21 17:55:43,531 - WARNING - Class MdsDataSourceConfig not found\n",
      "2025-09-21 17:55:43,531 - WARNING - Could not find class MdsDataSourceConfig for unknown field, using dict\n",
      "2025-09-21 17:55:43,532 - WARNING - Class DataSourceConfig not found\n",
      "2025-09-21 17:55:43,532 - WARNING - Could not find class DataSourceConfig for unknown field, using dict\n",
      "2025-09-21 17:55:43,532 - WARNING - Class EdxDataSourceConfig not found\n",
      "2025-09-21 17:55:43,533 - WARNING - Could not find class EdxDataSourceConfig for unknown field, using dict\n",
      "2025-09-21 17:55:43,534 - WARNING - Class OutputSpecificationConfig not found\n",
      "2025-09-21 17:55:43,535 - WARNING - Could not find class OutputSpecificationConfig for unknown field, using OutputSpecificationConfig\n",
      "2025-09-21 17:55:43,535 - WARNING - Class TransformSpecificationConfig not found\n",
      "2025-09-21 17:55:43,536 - WARNING - Could not find class TransformSpecificationConfig for unknown field, using TransformSpecificationConfig\n",
      "2025-09-21 17:55:43,536 - WARNING - Class JobSplitOptionsConfig not found\n",
      "2025-09-21 17:55:43,536 - WARNING - Could not find class JobSplitOptionsConfig for unknown field, using JobSplitOptionsConfig\n",
      "2025-09-21 17:55:43,537 - INFO - Creating additional config instance for CradleDataLoading_training (CradleDataLoadConfig)\n",
      "2025-09-21 17:55:43,537 - WARNING - Class CradleDataLoadConfig not found\n",
      "2025-09-21 17:55:43,537 - WARNING - Could not find class CradleDataLoadConfig for unknown field, using CradleDataLoadConfig\n",
      "2025-09-21 17:55:43,538 - WARNING - Class CradleJobSpecificationConfig not found\n",
      "2025-09-21 17:55:43,538 - WARNING - Could not find class CradleJobSpecificationConfig for unknown field, using CradleJobSpecificationConfig\n",
      "2025-09-21 17:55:43,538 - WARNING - Class DataSourcesSpecificationConfig not found\n",
      "2025-09-21 17:55:43,539 - WARNING - Could not find class DataSourcesSpecificationConfig for unknown field, using DataSourcesSpecificationConfig\n",
      "2025-09-21 17:55:43,539 - WARNING - Class DataSourceConfig not found\n",
      "2025-09-21 17:55:43,539 - WARNING - Could not find class DataSourceConfig for unknown field, using dict\n",
      "2025-09-21 17:55:43,541 - WARNING - Class MdsDataSourceConfig not found\n",
      "2025-09-21 17:55:43,541 - WARNING - Could not find class MdsDataSourceConfig for unknown field, using dict\n",
      "2025-09-21 17:55:43,542 - WARNING - Class DataSourceConfig not found\n",
      "2025-09-21 17:55:43,542 - WARNING - Could not find class DataSourceConfig for unknown field, using dict\n",
      "2025-09-21 17:55:43,542 - WARNING - Class EdxDataSourceConfig not found\n",
      "2025-09-21 17:55:43,543 - WARNING - Could not find class EdxDataSourceConfig for unknown field, using dict\n",
      "2025-09-21 17:55:43,543 - WARNING - Class OutputSpecificationConfig not found\n",
      "2025-09-21 17:55:43,543 - WARNING - Could not find class OutputSpecificationConfig for unknown field, using OutputSpecificationConfig\n",
      "2025-09-21 17:55:43,544 - WARNING - Class TransformSpecificationConfig not found\n",
      "2025-09-21 17:55:43,545 - WARNING - Could not find class TransformSpecificationConfig for unknown field, using TransformSpecificationConfig\n",
      "2025-09-21 17:55:43,545 - WARNING - Class JobSplitOptionsConfig not found\n",
      "2025-09-21 17:55:43,545 - WARNING - Could not find class JobSplitOptionsConfig for unknown field, using JobSplitOptionsConfig\n",
      "2025-09-21 17:55:43,546 - INFO - Creating additional config instance for ModelCalibration_calibration (ModelCalibrationConfig)\n",
      "2025-09-21 17:55:43,546 - WARNING - Class ModelCalibrationConfig not found\n",
      "2025-09-21 17:55:43,546 - WARNING - Could not find class ModelCalibrationConfig for unknown field, using ModelCalibrationConfig\n",
      "2025-09-21 17:55:43,547 - INFO - Creating additional config instance for Package (PackageConfig)\n",
      "2025-09-21 17:55:43,548 - WARNING - Class PackageConfig not found\n",
      "2025-09-21 17:55:43,548 - WARNING - Could not find class PackageConfig for unknown field, using PackageConfig\n",
      "2025-09-21 17:55:43,549 - INFO - Creating additional config instance for Payload (PayloadConfig)\n",
      "2025-09-21 17:55:43,549 - WARNING - Class PayloadConfig not found\n",
      "2025-09-21 17:55:43,549 - WARNING - Could not find class PayloadConfig for unknown field, using PayloadConfig\n",
      "2025-09-21 17:55:43,550 - INFO - Creating additional config instance for Processing (ProcessingStepConfigBase)\n",
      "2025-09-21 17:55:43,552 - WARNING - Class ProcessingStepConfigBase not found\n",
      "2025-09-21 17:55:43,552 - WARNING - Could not find class ProcessingStepConfigBase for unknown field, using ProcessingStepConfigBase\n",
      "2025-09-21 17:55:43,553 - INFO - Creating additional config instance for Registration (RegistrationConfig)\n",
      "2025-09-21 17:55:43,553 - WARNING - Class RegistrationConfig not found\n",
      "2025-09-21 17:55:43,554 - WARNING - Could not find class RegistrationConfig for unknown field, using RegistrationConfig\n",
      "2025-09-21 17:55:43,554 - INFO - Creating additional config instance for TabularPreprocessing_calibration (TabularPreprocessingConfig)\n",
      "2025-09-21 17:55:43,555 - WARNING - Class TabularPreprocessingConfig not found\n",
      "2025-09-21 17:55:43,555 - WARNING - Could not find class TabularPreprocessingConfig for unknown field, using TabularPreprocessingConfig\n",
      "2025-09-21 17:55:43,556 - INFO - Creating additional config instance for TabularPreprocessing_training (TabularPreprocessingConfig)\n",
      "2025-09-21 17:55:43,556 - WARNING - Class TabularPreprocessingConfig not found\n",
      "2025-09-21 17:55:43,557 - WARNING - Could not find class TabularPreprocessingConfig for unknown field, using TabularPreprocessingConfig\n",
      "2025-09-21 17:55:43,557 - INFO - Creating additional config instance for XGBoostModelEval_calibration (XGBoostModelEvalConfig)\n",
      "2025-09-21 17:55:43,558 - WARNING - Class XGBoostModelEvalConfig not found\n",
      "2025-09-21 17:55:43,558 - WARNING - Could not find class XGBoostModelEvalConfig for unknown field, using XGBoostModelEvalConfig\n",
      "2025-09-21 17:55:43,559 - WARNING - Class XGBoostModelHyperparameters not found\n",
      "2025-09-21 17:55:43,559 - WARNING - Could not find class XGBoostModelHyperparameters for unknown field, using XGBoostModelHyperparameters\n",
      "2025-09-21 17:55:43,560 - INFO - Creating additional config instance for XGBoostTraining (XGBoostTrainingConfig)\n",
      "2025-09-21 17:55:43,560 - WARNING - Class XGBoostTrainingConfig not found\n",
      "2025-09-21 17:55:43,561 - WARNING - Could not find class XGBoostTrainingConfig for unknown field, using XGBoostTrainingConfig\n",
      "2025-09-21 17:55:43,561 - WARNING - Class XGBoostModelHyperparameters not found\n",
      "2025-09-21 17:55:43,561 - WARNING - Could not find class XGBoostModelHyperparameters for unknown field, using XGBoostModelHyperparameters\n",
      "2025-09-21 17:55:43,563 - INFO - Successfully loaded configs from /home/ec2-user/SageMaker/Cursus/pipeline_config/config_NA_xgboost_AtoZ_v2/config_NA_xgboost_AtoZ.json\n"
     ]
    }
   ],
   "source": [
    "# Load configs\n",
    "loaded_configs = load_configs(config_path, CONFIG_CLASSES)"
   ]
  },
  {
   "cell_type": "code",
   "execution_count": 51,
   "id": "b8f2aee4-a039-42e6-a89b-86c0084f6c17",
   "metadata": {
    "scrolled": true
   },
   "outputs": [
    {
     "data": {
      "text/plain": [
       "{'Base': BasePipelineConfig(author='lukexie', bucket='sandboxdependency-abuse-secureaisandboxteamshare-1l77v9am252um', role='arn:aws:iam::601857636239:role/SandboxRole-lukexie-us-east-1', region='NA', service_name='AtoZ', pipeline_version='1.3.1', model_class='xgboost', current_date='2025-09-21', framework_version='1.7-1', py_version='py3', source_dir='/home/ec2-user/SageMaker/Cursus/dockers/xgboost_atoz'),\n",
       " 'CradleDataLoading_calibration': CradleDataLoadConfig(author='lukexie', bucket='sandboxdependency-abuse-secureaisandboxteamshare-1l77v9am252um', role='arn:aws:iam::601857636239:role/SandboxRole-lukexie-us-east-1', region='NA', service_name='AtoZ', pipeline_version='1.3.1', model_class='xgboost', current_date='2025-09-21', framework_version='1.7-1', py_version='py3', source_dir='/home/ec2-user/SageMaker/Cursus/dockers/xgboost_atoz', job_type='calibration', data_sources_spec=DataSourcesSpecificationConfig(start_date='2025-04-17T00:00:00', end_date='2025-04-28T00:00:00', data_sources=[DataSourceConfig(data_source_name='RAW_MDS_NA', data_source_type='MDS', mds_data_source_properties=MdsDataSourceConfig(service_name='AtoZ', region='NA', output_schema=[{'field_name': 'Abuse.order_to_execution_time_from_eventvariables.n_order_to_execution', 'field_type': 'STRING'}, {'field_name': 'shipments_status', 'field_type': 'STRING'}, {'field_name': 'Abuse.completed_afn_orders_by_customer_marketplace.n_afn_unit_count_last_365_days', 'field_type': 'STRING'}, {'field_name': 'Abuse.bsm_stats_for_evaluated_mfn_concessions_by_customer_na.n_min_message_count', 'field_type': 'STRING'}, {'field_name': 'Abuse.shiptrack_flag_by_order.n_any_undeliverable', 'field_type': 'STRING'}, {'field_name': 'Abuse.mfn_categorized_refunds_si_by_customer_marketplace.n_mfn_notr_refunds_si_365_days', 'field_type': 'STRING'}, {'field_name': 'Abuse.bsm_stats_for_evaluated_mfn_concessions_by_customer_na.n_min_buyer_message_count', 'field_type': 'STRING'}, {'field_name': 'Abuse.bsm_stats_for_evaluated_mfn_concessions_by_customer_na.n_total_topic_count', 'field_type': 'STRING'}, {'field_name': 'Abuse.mfn_a2z_claims_by_customer_na.n_mfn_diff_claims_count_last_365_days', 'field_type': 'STRING'}, {'field_name': 'Abuse.bsm_stats_for_evaluated_mfn_concessions_by_customer_na.n_total_message_count', 'field_type': 'STRING'}, {'field_name': 'Abuse.mfn_a2z_claims_by_customer_na.n_mfn_notr_claims_count_last_365_days', 'field_type': 'STRING'}, {'field_name': 'Abuse.mfn_categorized_refunds_by_customer_marketplace.n_mfn_diff_refunds_order_count_last_365_days', 'field_type': 'STRING'}, {'field_name': 'Abuse.bsm_stats_for_evaluated_mfn_concessions_by_customer_na.n_max_order_message_time_gap', 'field_type': 'STRING'}, {'field_name': 'Abuse.abuse_fap_action_by_customer_inline_transform_na.n_concession_warn_count_last_365_days', 'field_type': 'STRING'}, {'field_name': 'claimantInfo_status', 'field_type': 'STRING'}, {'field_name': 'transactionDate', 'field_type': 'STRING'}, {'field_name': 'Abuse.mfn_categorized_refunds_by_customer_marketplace.n_mfn_diff_refunds_unit_amount_last_365_days', 'field_type': 'STRING'}, {'field_name': 'Abuse.mfn_categorized_refunds_by_customer_marketplace.n_mfn_diff_refunds_unit_count_last_365_days', 'field_type': 'STRING'}, {'field_name': 'Abuse.mfn_categorized_refunds_by_customer_marketplace.n_mfn_notr_refunds_unit_count_last_365_days', 'field_type': 'STRING'}, {'field_name': 'Abuse.shiptrack_flag_by_order.n_any_available_for_pickup', 'field_type': 'STRING'}, {'field_name': 'Abuse.bsm_stats_for_evaluated_mfn_concessions_by_customer_na.n_total_seller_message_count', 'field_type': 'STRING'}, {'field_name': 'objectId', 'field_type': 'STRING'}, {'field_name': 'Abuse.bsm_stats_for_evaluated_mfn_concessions_by_customer_na.n_max_seller_order_message_time_gap', 'field_type': 'STRING'}, {'field_name': 'claim_reason', 'field_type': 'STRING'}, {'field_name': 'Abuse.abuse_fap_action_by_customer_inline_transform_na.n_claims_warn_count_last_365_days', 'field_type': 'STRING'}, {'field_name': 'Abuse.dnr_by_customer_marketplace.n_dnr_unit_count_last_365_days', 'field_type': 'STRING'}, {'field_name': 'Abuse.dnr_by_customer_marketplace.n_dnr_order_count_last_365_days', 'field_type': 'STRING'}, {'field_name': 'Abuse.bsm_stats_for_evaluated_mfn_concessions_by_customer_na.n_min_order_message_time_gap', 'field_type': 'STRING'}, {'field_name': 'Abuse.mfn_a2z_claims_by_customer_na.n_mfn_claims_count_last_365_days', 'field_type': 'STRING'}, {'field_name': 'Abuse.completed_afn_orders_by_customer_marketplace.n_afn_unit_amount_last_365_days', 'field_type': 'STRING'}, {'field_name': 'Abuse.mfn_categorized_refunds_by_customer_marketplace.n_mfn_notr_refunds_order_count_last_365_days', 'field_type': 'STRING'}, {'field_name': 'Abuse.mfn_a2z_claims_by_customer_na.n_mfn_claims_amount_last_365_days', 'field_type': 'STRING'}, {'field_name': 'Abuse.completed_mfn_orders_by_customer_marketplace.n_mfn_unit_count_last_365_days', 'field_type': 'STRING'}, {'field_name': 'Abuse.shiptrack_flag_by_order.n_any_partial_delivered', 'field_type': 'STRING'}, {'field_name': 'Abuse.shiptrack_flag_by_order.n_any_returning', 'field_type': 'STRING'}, {'field_name': 'claimantInfo_allClaimCount365day', 'field_type': 'STRING'}, {'field_name': 'claimantInfo_pendingClaimCount', 'field_type': 'STRING'}, {'field_name': 'claimAmount_value', 'field_type': 'STRING'}, {'field_name': 'Abuse.mfn_refunds_by_customer_marketplace.n_mfn_refund_unit_count_last_365_days', 'field_type': 'STRING'}, {'field_name': 'PAYMETH', 'field_type': 'STRING'}, {'field_name': 'Abuse.mfn_refunds_si_by_customer_marketplace.n_mfn_refund_amount_si_last_365_days', 'field_type': 'STRING'}, {'field_name': 'Abuse.shiptrack_flag_by_order.n_any_delivered', 'field_type': 'STRING'}, {'field_name': 'Abuse.bsm_stats_for_evaluated_mfn_concessions_by_customer_na.n_message_count_with_diff_topic_si', 'field_type': 'STRING'}, {'field_name': 'Abuse.completed_mfn_orders_by_customer_marketplace.n_mfn_order_count_last_365_days', 'field_type': 'STRING'}, {'field_name': 'Abuse.mfn_categorized_refunds_si_by_customer_marketplace.n_mfn_diff_refunds_si_365_days', 'field_type': 'STRING'}, {'field_name': 'Abuse.mfn_refunds_by_customer_marketplace.n_mfn_refund_unit_amount_last_365_days', 'field_type': 'STRING'}, {'field_name': 'Abuse.bsm_stats_for_evaluated_mfn_concessions_by_customer_na.n_max_buyer_order_message_time_gap', 'field_type': 'STRING'}, {'field_name': 'Abuse.mfn_refunds_by_customer_marketplace.n_mfn_refund_order_count_last_365_days', 'field_type': 'STRING'}, {'field_name': 'Abuse.completed_mfn_orders_by_customer_marketplace.n_mfn_unit_amount_last_365_days', 'field_type': 'STRING'}, {'field_name': 'Abuse.bsm_stats_for_evaluated_mfn_concessions_by_customer_na.n_min_buyer_order_message_time_gap', 'field_type': 'STRING'}, {'field_name': 'Abuse.mfn_a2z_claims_by_customer_na.n_mfn_diff_claims_amount_last_365_days', 'field_type': 'STRING'}, {'field_name': 'Abuse.bsm_stats_for_evaluated_mfn_concessions_by_customer_na.n_message_count_with_return_keywords_si', 'field_type': 'STRING'}, {'field_name': 'Abuse.shiptrack_flag_by_order.n_any_returned', 'field_type': 'STRING'}, {'field_name': 'Abuse.bsm_stats_for_evaluated_mfn_concessions_by_customer_na.n_min_seller_order_message_time_gap', 'field_type': 'STRING'}, {'field_name': 'Abuse.dnr_by_customer_marketplace.n_dnr_amount_si_last_365_days', 'field_type': 'STRING'}, {'field_name': 'Abuse.abuse_fap_action_by_customer_inline_transform_na.n_concession_solicit_count_last_365_days', 'field_type': 'STRING'}, {'field_name': 'Abuse.dnr_by_customer_marketplace.n_dnr_unit_amount_last_365_days', 'field_type': 'STRING'}, {'field_name': 'Abuse.bsm_stats_for_evaluated_mfn_concessions_by_customer_na.n_total_buyer_message_count', 'field_type': 'STRING'}, {'field_name': 'Abuse.mfn_a2z_claims_by_customer_na.n_mfn_notr_claims_amount_last_365_days', 'field_type': 'STRING'}, {'field_name': 'claimantInfo_lifetimeClaimCount', 'field_type': 'STRING'}, {'field_name': 'Abuse.mfn_categorized_refunds_by_customer_marketplace.n_mfn_notr_refunds_unit_amount_last_365_days', 'field_type': 'STRING'}, {'field_name': 'Abuse.bsm_stats_for_evaluated_mfn_concessions_by_customer_na.n_message_count_with_notr_topic_si', 'field_type': 'STRING'}, {'field_name': 'COMP_DAYOB', 'field_type': 'STRING'}, {'field_name': 'Abuse.bsm_stats_for_evaluated_mfn_concessions_by_customer_na.n_min_seller_message_count', 'field_type': 'STRING'}, {'field_name': 'Abuse.completed_afn_orders_by_customer_marketplace.n_afn_order_count_last_365_days', 'field_type': 'STRING'}, {'field_name': 'Abuse.abuse_fap_action_by_customer_inline_transform_na.n_claims_solicit_count_last_365_days', 'field_type': 'STRING'}], org_id=0, use_hourly_edx_data_set=False), edx_data_source_properties=None, andes_data_source_properties=None), DataSourceConfig(data_source_name='TAGS', data_source_type='EDX', mds_data_source_properties=None, edx_data_source_properties=EdxDataSourceConfig(edx_provider='trms-abuse-analytics', edx_subject='qingyuye-notr-exp', edx_dataset='atoz-tag', edx_manifest_key='[\"24292902\",2025-04-17T00:00:00Z,2025-04-28T00:00:00Z,\"NA\"]', schema_overrides=[{'field_name': 'order_id', 'field_type': 'STRING'}, {'field_name': 'marketplace_id', 'field_type': 'STRING'}, {'field_name': 'tag_date', 'field_type': 'STRING'}, {'field_name': 'is_abuse', 'field_type': 'STRING'}, {'field_name': 'abuse_type', 'field_type': 'STRING'}, {'field_name': 'concession_type', 'field_type': 'STRING'}]), andes_data_source_properties=None)]), transform_spec=TransformSpecificationConfig(transform_sql='\\nSELECT\\n    Abuse__DOT__abuse_fap_action_by_customer_inline_transform_na__DOT__n_claims_solicit_count_last_365_days,\\n    Abuse__DOT__abuse_fap_action_by_customer_inline_transform_na__DOT__n_claims_warn_count_last_365_days,\\n    Abuse__DOT__abuse_fap_action_by_customer_inline_transform_na__DOT__n_concession_solicit_count_last_365_days,\\n    Abuse__DOT__abuse_fap_action_by_customer_inline_transform_na__DOT__n_concession_warn_count_last_365_days,\\n    Abuse__DOT__bsm_stats_for_evaluated_mfn_concessions_by_customer_na__DOT__n_max_buyer_order_message_time_gap,\\n    Abuse__DOT__bsm_stats_for_evaluated_mfn_concessions_by_customer_na__DOT__n_max_order_message_time_gap,\\n    Abuse__DOT__bsm_stats_for_evaluated_mfn_concessions_by_customer_na__DOT__n_max_seller_order_message_time_gap,\\n    Abuse__DOT__bsm_stats_for_evaluated_mfn_concessions_by_customer_na__DOT__n_message_count_with_diff_topic_si,\\n    Abuse__DOT__bsm_stats_for_evaluated_mfn_concessions_by_customer_na__DOT__n_message_count_with_notr_topic_si,\\n    Abuse__DOT__bsm_stats_for_evaluated_mfn_concessions_by_customer_na__DOT__n_message_count_with_return_keywords_si,\\n    Abuse__DOT__bsm_stats_for_evaluated_mfn_concessions_by_customer_na__DOT__n_min_buyer_message_count,\\n    Abuse__DOT__bsm_stats_for_evaluated_mfn_concessions_by_customer_na__DOT__n_min_buyer_order_message_time_gap,\\n    Abuse__DOT__bsm_stats_for_evaluated_mfn_concessions_by_customer_na__DOT__n_min_message_count,\\n    Abuse__DOT__bsm_stats_for_evaluated_mfn_concessions_by_customer_na__DOT__n_min_order_message_time_gap,\\n    Abuse__DOT__bsm_stats_for_evaluated_mfn_concessions_by_customer_na__DOT__n_min_seller_message_count,\\n    Abuse__DOT__bsm_stats_for_evaluated_mfn_concessions_by_customer_na__DOT__n_min_seller_order_message_time_gap,\\n    Abuse__DOT__bsm_stats_for_evaluated_mfn_concessions_by_customer_na__DOT__n_total_buyer_message_count,\\n    Abuse__DOT__bsm_stats_for_evaluated_mfn_concessions_by_customer_na__DOT__n_total_message_count,\\n    Abuse__DOT__bsm_stats_for_evaluated_mfn_concessions_by_customer_na__DOT__n_total_seller_message_count,\\n    Abuse__DOT__bsm_stats_for_evaluated_mfn_concessions_by_customer_na__DOT__n_total_topic_count,\\n    Abuse__DOT__completed_afn_orders_by_customer_marketplace__DOT__n_afn_order_count_last_365_days,\\n    Abuse__DOT__completed_afn_orders_by_customer_marketplace__DOT__n_afn_unit_amount_last_365_days,\\n    Abuse__DOT__completed_afn_orders_by_customer_marketplace__DOT__n_afn_unit_count_last_365_days,\\n    Abuse__DOT__completed_mfn_orders_by_customer_marketplace__DOT__n_mfn_order_count_last_365_days,\\n    Abuse__DOT__completed_mfn_orders_by_customer_marketplace__DOT__n_mfn_unit_amount_last_365_days,\\n    Abuse__DOT__completed_mfn_orders_by_customer_marketplace__DOT__n_mfn_unit_count_last_365_days,\\n    Abuse__DOT__dnr_by_customer_marketplace__DOT__n_dnr_amount_si_last_365_days,\\n    Abuse__DOT__dnr_by_customer_marketplace__DOT__n_dnr_order_count_last_365_days,\\n    Abuse__DOT__dnr_by_customer_marketplace__DOT__n_dnr_unit_amount_last_365_days,\\n    Abuse__DOT__dnr_by_customer_marketplace__DOT__n_dnr_unit_count_last_365_days,\\n    Abuse__DOT__mfn_a2z_claims_by_customer_na__DOT__n_mfn_claims_amount_last_365_days,\\n    Abuse__DOT__mfn_a2z_claims_by_customer_na__DOT__n_mfn_claims_count_last_365_days,\\n    Abuse__DOT__mfn_a2z_claims_by_customer_na__DOT__n_mfn_diff_claims_amount_last_365_days,\\n    Abuse__DOT__mfn_a2z_claims_by_customer_na__DOT__n_mfn_diff_claims_count_last_365_days,\\n    Abuse__DOT__mfn_a2z_claims_by_customer_na__DOT__n_mfn_notr_claims_amount_last_365_days,\\n    Abuse__DOT__mfn_a2z_claims_by_customer_na__DOT__n_mfn_notr_claims_count_last_365_days,\\n    Abuse__DOT__mfn_categorized_refunds_by_customer_marketplace__DOT__n_mfn_diff_refunds_order_count_last_365_days,\\n    Abuse__DOT__mfn_categorized_refunds_by_customer_marketplace__DOT__n_mfn_diff_refunds_unit_amount_last_365_days,\\n    Abuse__DOT__mfn_categorized_refunds_by_customer_marketplace__DOT__n_mfn_diff_refunds_unit_count_last_365_days,\\n    Abuse__DOT__mfn_categorized_refunds_by_customer_marketplace__DOT__n_mfn_notr_refunds_order_count_last_365_days,\\n    Abuse__DOT__mfn_categorized_refunds_by_customer_marketplace__DOT__n_mfn_notr_refunds_unit_amount_last_365_days,\\n    Abuse__DOT__mfn_categorized_refunds_by_customer_marketplace__DOT__n_mfn_notr_refunds_unit_count_last_365_days,\\n    Abuse__DOT__mfn_categorized_refunds_si_by_customer_marketplace__DOT__n_mfn_diff_refunds_si_365_days,\\n    Abuse__DOT__mfn_categorized_refunds_si_by_customer_marketplace__DOT__n_mfn_notr_refunds_si_365_days,\\n    Abuse__DOT__mfn_refunds_by_customer_marketplace__DOT__n_mfn_refund_order_count_last_365_days,\\n    Abuse__DOT__mfn_refunds_by_customer_marketplace__DOT__n_mfn_refund_unit_amount_last_365_days,\\n    Abuse__DOT__mfn_refunds_by_customer_marketplace__DOT__n_mfn_refund_unit_count_last_365_days,\\n    Abuse__DOT__mfn_refunds_si_by_customer_marketplace__DOT__n_mfn_refund_amount_si_last_365_days,\\n    Abuse__DOT__order_to_execution_time_from_eventvariables__DOT__n_order_to_execution,\\n    Abuse__DOT__shiptrack_flag_by_order__DOT__n_any_available_for_pickup,\\n    Abuse__DOT__shiptrack_flag_by_order__DOT__n_any_delivered,\\n    Abuse__DOT__shiptrack_flag_by_order__DOT__n_any_partial_delivered,\\n    Abuse__DOT__shiptrack_flag_by_order__DOT__n_any_returned,\\n    Abuse__DOT__shiptrack_flag_by_order__DOT__n_any_returning,\\n    Abuse__DOT__shiptrack_flag_by_order__DOT__n_any_undeliverable,\\n    COMP_DAYOB,\\n    PAYMETH,\\n    abuse_type,\\n    claimAmount_value,\\n    claim_reason,\\n    claimantInfo_allClaimCount365day,\\n    claimantInfo_lifetimeClaimCount,\\n    claimantInfo_pendingClaimCount,\\n    claimantInfo_status,\\n    concession_type,\\n    is_abuse,\\n    marketplace_id,\\n    objectId,\\n    order_id,\\n    shipments_status,\\n    tag_date,\\n    transactionDate\\nFROM (\\n    SELECT\\n        RAW_MDS_NA.Abuse__DOT__abuse_fap_action_by_customer_inline_transform_na__DOT__n_claims_solicit_count_last_365_days,\\n        RAW_MDS_NA.Abuse__DOT__abuse_fap_action_by_customer_inline_transform_na__DOT__n_claims_warn_count_last_365_days,\\n        RAW_MDS_NA.Abuse__DOT__abuse_fap_action_by_customer_inline_transform_na__DOT__n_concession_solicit_count_last_365_days,\\n        RAW_MDS_NA.Abuse__DOT__abuse_fap_action_by_customer_inline_transform_na__DOT__n_concession_warn_count_last_365_days,\\n        RAW_MDS_NA.Abuse__DOT__bsm_stats_for_evaluated_mfn_concessions_by_customer_na__DOT__n_max_buyer_order_message_time_gap,\\n        RAW_MDS_NA.Abuse__DOT__bsm_stats_for_evaluated_mfn_concessions_by_customer_na__DOT__n_max_order_message_time_gap,\\n        RAW_MDS_NA.Abuse__DOT__bsm_stats_for_evaluated_mfn_concessions_by_customer_na__DOT__n_max_seller_order_message_time_gap,\\n        RAW_MDS_NA.Abuse__DOT__bsm_stats_for_evaluated_mfn_concessions_by_customer_na__DOT__n_message_count_with_diff_topic_si,\\n        RAW_MDS_NA.Abuse__DOT__bsm_stats_for_evaluated_mfn_concessions_by_customer_na__DOT__n_message_count_with_notr_topic_si,\\n        RAW_MDS_NA.Abuse__DOT__bsm_stats_for_evaluated_mfn_concessions_by_customer_na__DOT__n_message_count_with_return_keywords_si,\\n        RAW_MDS_NA.Abuse__DOT__bsm_stats_for_evaluated_mfn_concessions_by_customer_na__DOT__n_min_buyer_message_count,\\n        RAW_MDS_NA.Abuse__DOT__bsm_stats_for_evaluated_mfn_concessions_by_customer_na__DOT__n_min_buyer_order_message_time_gap,\\n        RAW_MDS_NA.Abuse__DOT__bsm_stats_for_evaluated_mfn_concessions_by_customer_na__DOT__n_min_message_count,\\n        RAW_MDS_NA.Abuse__DOT__bsm_stats_for_evaluated_mfn_concessions_by_customer_na__DOT__n_min_order_message_time_gap,\\n        RAW_MDS_NA.Abuse__DOT__bsm_stats_for_evaluated_mfn_concessions_by_customer_na__DOT__n_min_seller_message_count,\\n        RAW_MDS_NA.Abuse__DOT__bsm_stats_for_evaluated_mfn_concessions_by_customer_na__DOT__n_min_seller_order_message_time_gap,\\n        RAW_MDS_NA.Abuse__DOT__bsm_stats_for_evaluated_mfn_concessions_by_customer_na__DOT__n_total_buyer_message_count,\\n        RAW_MDS_NA.Abuse__DOT__bsm_stats_for_evaluated_mfn_concessions_by_customer_na__DOT__n_total_message_count,\\n        RAW_MDS_NA.Abuse__DOT__bsm_stats_for_evaluated_mfn_concessions_by_customer_na__DOT__n_total_seller_message_count,\\n        RAW_MDS_NA.Abuse__DOT__bsm_stats_for_evaluated_mfn_concessions_by_customer_na__DOT__n_total_topic_count,\\n        RAW_MDS_NA.Abuse__DOT__completed_afn_orders_by_customer_marketplace__DOT__n_afn_order_count_last_365_days,\\n        RAW_MDS_NA.Abuse__DOT__completed_afn_orders_by_customer_marketplace__DOT__n_afn_unit_amount_last_365_days,\\n        RAW_MDS_NA.Abuse__DOT__completed_afn_orders_by_customer_marketplace__DOT__n_afn_unit_count_last_365_days,\\n        RAW_MDS_NA.Abuse__DOT__completed_mfn_orders_by_customer_marketplace__DOT__n_mfn_order_count_last_365_days,\\n        RAW_MDS_NA.Abuse__DOT__completed_mfn_orders_by_customer_marketplace__DOT__n_mfn_unit_amount_last_365_days,\\n        RAW_MDS_NA.Abuse__DOT__completed_mfn_orders_by_customer_marketplace__DOT__n_mfn_unit_count_last_365_days,\\n        RAW_MDS_NA.Abuse__DOT__dnr_by_customer_marketplace__DOT__n_dnr_amount_si_last_365_days,\\n        RAW_MDS_NA.Abuse__DOT__dnr_by_customer_marketplace__DOT__n_dnr_order_count_last_365_days,\\n        RAW_MDS_NA.Abuse__DOT__dnr_by_customer_marketplace__DOT__n_dnr_unit_amount_last_365_days,\\n        RAW_MDS_NA.Abuse__DOT__dnr_by_customer_marketplace__DOT__n_dnr_unit_count_last_365_days,\\n        RAW_MDS_NA.Abuse__DOT__mfn_a2z_claims_by_customer_na__DOT__n_mfn_claims_amount_last_365_days,\\n        RAW_MDS_NA.Abuse__DOT__mfn_a2z_claims_by_customer_na__DOT__n_mfn_claims_count_last_365_days,\\n        RAW_MDS_NA.Abuse__DOT__mfn_a2z_claims_by_customer_na__DOT__n_mfn_diff_claims_amount_last_365_days,\\n        RAW_MDS_NA.Abuse__DOT__mfn_a2z_claims_by_customer_na__DOT__n_mfn_diff_claims_count_last_365_days,\\n        RAW_MDS_NA.Abuse__DOT__mfn_a2z_claims_by_customer_na__DOT__n_mfn_notr_claims_amount_last_365_days,\\n        RAW_MDS_NA.Abuse__DOT__mfn_a2z_claims_by_customer_na__DOT__n_mfn_notr_claims_count_last_365_days,\\n        RAW_MDS_NA.Abuse__DOT__mfn_categorized_refunds_by_customer_marketplace__DOT__n_mfn_diff_refunds_order_count_last_365_days,\\n        RAW_MDS_NA.Abuse__DOT__mfn_categorized_refunds_by_customer_marketplace__DOT__n_mfn_diff_refunds_unit_amount_last_365_days,\\n        RAW_MDS_NA.Abuse__DOT__mfn_categorized_refunds_by_customer_marketplace__DOT__n_mfn_diff_refunds_unit_count_last_365_days,\\n        RAW_MDS_NA.Abuse__DOT__mfn_categorized_refunds_by_customer_marketplace__DOT__n_mfn_notr_refunds_order_count_last_365_days,\\n        RAW_MDS_NA.Abuse__DOT__mfn_categorized_refunds_by_customer_marketplace__DOT__n_mfn_notr_refunds_unit_amount_last_365_days,\\n        RAW_MDS_NA.Abuse__DOT__mfn_categorized_refunds_by_customer_marketplace__DOT__n_mfn_notr_refunds_unit_count_last_365_days,\\n        RAW_MDS_NA.Abuse__DOT__mfn_categorized_refunds_si_by_customer_marketplace__DOT__n_mfn_diff_refunds_si_365_days,\\n        RAW_MDS_NA.Abuse__DOT__mfn_categorized_refunds_si_by_customer_marketplace__DOT__n_mfn_notr_refunds_si_365_days,\\n        RAW_MDS_NA.Abuse__DOT__mfn_refunds_by_customer_marketplace__DOT__n_mfn_refund_order_count_last_365_days,\\n        RAW_MDS_NA.Abuse__DOT__mfn_refunds_by_customer_marketplace__DOT__n_mfn_refund_unit_amount_last_365_days,\\n        RAW_MDS_NA.Abuse__DOT__mfn_refunds_by_customer_marketplace__DOT__n_mfn_refund_unit_count_last_365_days,\\n        RAW_MDS_NA.Abuse__DOT__mfn_refunds_si_by_customer_marketplace__DOT__n_mfn_refund_amount_si_last_365_days,\\n        RAW_MDS_NA.Abuse__DOT__order_to_execution_time_from_eventvariables__DOT__n_order_to_execution,\\n        RAW_MDS_NA.Abuse__DOT__shiptrack_flag_by_order__DOT__n_any_available_for_pickup,\\n        RAW_MDS_NA.Abuse__DOT__shiptrack_flag_by_order__DOT__n_any_delivered,\\n        RAW_MDS_NA.Abuse__DOT__shiptrack_flag_by_order__DOT__n_any_partial_delivered,\\n        RAW_MDS_NA.Abuse__DOT__shiptrack_flag_by_order__DOT__n_any_returned,\\n        RAW_MDS_NA.Abuse__DOT__shiptrack_flag_by_order__DOT__n_any_returning,\\n        RAW_MDS_NA.Abuse__DOT__shiptrack_flag_by_order__DOT__n_any_undeliverable,\\n        RAW_MDS_NA.COMP_DAYOB,\\n        RAW_MDS_NA.PAYMETH,\\n        RAW_MDS_NA.claimAmount_value,\\n        RAW_MDS_NA.claim_reason,\\n        RAW_MDS_NA.claimantInfo_allClaimCount365day,\\n        RAW_MDS_NA.claimantInfo_lifetimeClaimCount,\\n        RAW_MDS_NA.claimantInfo_pendingClaimCount,\\n        RAW_MDS_NA.claimantInfo_status,\\n        RAW_MDS_NA.objectId,\\n        RAW_MDS_NA.shipments_status,\\n        RAW_MDS_NA.transactionDate,\\n        TAGS.abuse_type,\\n        TAGS.concession_type,\\n        TAGS.is_abuse,\\n        TAGS.marketplace_id,\\n        TAGS.order_id,\\n        TAGS.tag_date,\\n        ROW_NUMBER() OVER (PARTITION BY RAW_MDS_NA.objectId, TAGS.order_id ORDER BY RAW_MDS_NA.transactionDate DESC) as row_num\\n    FROM RAW_MDS_NA\\n    JOIN TAGS ON RAW_MDS_NA.objectId = TAGS.order_id\\n)\\nWHERE row_num = 1\\n', job_split_options=JobSplitOptionsConfig(merge_sql=None, split_job=False, days_per_split=7)), output_spec=OutputSpecificationConfig(output_schema=['Abuse.abuse_fap_action_by_customer_inline_transform_na.n_claims_solicit_count_last_365_days', 'Abuse.abuse_fap_action_by_customer_inline_transform_na.n_claims_warn_count_last_365_days', 'Abuse.abuse_fap_action_by_customer_inline_transform_na.n_concession_solicit_count_last_365_days', 'Abuse.abuse_fap_action_by_customer_inline_transform_na.n_concession_warn_count_last_365_days', 'Abuse.bsm_stats_for_evaluated_mfn_concessions_by_customer_na.n_max_buyer_order_message_time_gap', 'Abuse.bsm_stats_for_evaluated_mfn_concessions_by_customer_na.n_max_order_message_time_gap', 'Abuse.bsm_stats_for_evaluated_mfn_concessions_by_customer_na.n_max_seller_order_message_time_gap', 'Abuse.bsm_stats_for_evaluated_mfn_concessions_by_customer_na.n_message_count_with_diff_topic_si', 'Abuse.bsm_stats_for_evaluated_mfn_concessions_by_customer_na.n_message_count_with_notr_topic_si', 'Abuse.bsm_stats_for_evaluated_mfn_concessions_by_customer_na.n_message_count_with_return_keywords_si', 'Abuse.bsm_stats_for_evaluated_mfn_concessions_by_customer_na.n_min_buyer_message_count', 'Abuse.bsm_stats_for_evaluated_mfn_concessions_by_customer_na.n_min_buyer_order_message_time_gap', 'Abuse.bsm_stats_for_evaluated_mfn_concessions_by_customer_na.n_min_message_count', 'Abuse.bsm_stats_for_evaluated_mfn_concessions_by_customer_na.n_min_order_message_time_gap', 'Abuse.bsm_stats_for_evaluated_mfn_concessions_by_customer_na.n_min_seller_message_count', 'Abuse.bsm_stats_for_evaluated_mfn_concessions_by_customer_na.n_min_seller_order_message_time_gap', 'Abuse.bsm_stats_for_evaluated_mfn_concessions_by_customer_na.n_total_buyer_message_count', 'Abuse.bsm_stats_for_evaluated_mfn_concessions_by_customer_na.n_total_message_count', 'Abuse.bsm_stats_for_evaluated_mfn_concessions_by_customer_na.n_total_seller_message_count', 'Abuse.bsm_stats_for_evaluated_mfn_concessions_by_customer_na.n_total_topic_count', 'Abuse.completed_afn_orders_by_customer_marketplace.n_afn_order_count_last_365_days', 'Abuse.completed_afn_orders_by_customer_marketplace.n_afn_unit_amount_last_365_days', 'Abuse.completed_afn_orders_by_customer_marketplace.n_afn_unit_count_last_365_days', 'Abuse.completed_mfn_orders_by_customer_marketplace.n_mfn_order_count_last_365_days', 'Abuse.completed_mfn_orders_by_customer_marketplace.n_mfn_unit_amount_last_365_days', 'Abuse.completed_mfn_orders_by_customer_marketplace.n_mfn_unit_count_last_365_days', 'Abuse.dnr_by_customer_marketplace.n_dnr_amount_si_last_365_days', 'Abuse.dnr_by_customer_marketplace.n_dnr_order_count_last_365_days', 'Abuse.dnr_by_customer_marketplace.n_dnr_unit_amount_last_365_days', 'Abuse.dnr_by_customer_marketplace.n_dnr_unit_count_last_365_days', 'Abuse.mfn_a2z_claims_by_customer_na.n_mfn_claims_amount_last_365_days', 'Abuse.mfn_a2z_claims_by_customer_na.n_mfn_claims_count_last_365_days', 'Abuse.mfn_a2z_claims_by_customer_na.n_mfn_diff_claims_amount_last_365_days', 'Abuse.mfn_a2z_claims_by_customer_na.n_mfn_diff_claims_count_last_365_days', 'Abuse.mfn_a2z_claims_by_customer_na.n_mfn_notr_claims_amount_last_365_days', 'Abuse.mfn_a2z_claims_by_customer_na.n_mfn_notr_claims_count_last_365_days', 'Abuse.mfn_categorized_refunds_by_customer_marketplace.n_mfn_diff_refunds_order_count_last_365_days', 'Abuse.mfn_categorized_refunds_by_customer_marketplace.n_mfn_diff_refunds_unit_amount_last_365_days', 'Abuse.mfn_categorized_refunds_by_customer_marketplace.n_mfn_diff_refunds_unit_count_last_365_days', 'Abuse.mfn_categorized_refunds_by_customer_marketplace.n_mfn_notr_refunds_order_count_last_365_days', 'Abuse.mfn_categorized_refunds_by_customer_marketplace.n_mfn_notr_refunds_unit_amount_last_365_days', 'Abuse.mfn_categorized_refunds_by_customer_marketplace.n_mfn_notr_refunds_unit_count_last_365_days', 'Abuse.mfn_categorized_refunds_si_by_customer_marketplace.n_mfn_diff_refunds_si_365_days', 'Abuse.mfn_categorized_refunds_si_by_customer_marketplace.n_mfn_notr_refunds_si_365_days', 'Abuse.mfn_refunds_by_customer_marketplace.n_mfn_refund_order_count_last_365_days', 'Abuse.mfn_refunds_by_customer_marketplace.n_mfn_refund_unit_amount_last_365_days', 'Abuse.mfn_refunds_by_customer_marketplace.n_mfn_refund_unit_count_last_365_days', 'Abuse.mfn_refunds_si_by_customer_marketplace.n_mfn_refund_amount_si_last_365_days', 'Abuse.order_to_execution_time_from_eventvariables.n_order_to_execution', 'Abuse.shiptrack_flag_by_order.n_any_available_for_pickup', 'Abuse.shiptrack_flag_by_order.n_any_delivered', 'Abuse.shiptrack_flag_by_order.n_any_partial_delivered', 'Abuse.shiptrack_flag_by_order.n_any_returned', 'Abuse.shiptrack_flag_by_order.n_any_returning', 'Abuse.shiptrack_flag_by_order.n_any_undeliverable', 'COMP_DAYOB', 'PAYMETH', 'abuse_type', 'claimAmount_value', 'claim_reason', 'claimantInfo_allClaimCount365day', 'claimantInfo_lifetimeClaimCount', 'claimantInfo_pendingClaimCount', 'claimantInfo_status', 'concession_type', 'is_abuse', 'marketplace_id', 'objectId', 'order_id', 'shipments_status', 'tag_date', 'transactionDate'], job_type='calibration', pipeline_s3_loc='s3://sandboxdependency-abuse-secureaisandboxteamshare-1l77v9am252um/MODS/lukexie-AtoZ-xgboost-NA_1.3.1', output_format='PARQUET', output_save_mode='ERRORIFEXISTS', output_file_count=0, keep_dot_in_output_schema=False, include_header_in_s3_output=True), cradle_job_spec=CradleJobSpecificationConfig(cradle_account='Buyer-Abuse-RnD-Dev', cluster_type='MEDIUM', extra_spark_job_arguments='', job_retry_count=4), s3_input_override=None),\n",
       " 'CradleDataLoading_training': CradleDataLoadConfig(author='lukexie', bucket='sandboxdependency-abuse-secureaisandboxteamshare-1l77v9am252um', role='arn:aws:iam::601857636239:role/SandboxRole-lukexie-us-east-1', region='NA', service_name='AtoZ', pipeline_version='1.3.1', model_class='xgboost', current_date='2025-09-21', framework_version='1.7-1', py_version='py3', source_dir='/home/ec2-user/SageMaker/Cursus/dockers/xgboost_atoz', job_type='training', data_sources_spec=DataSourcesSpecificationConfig(start_date='2025-01-01T00:00:00', end_date='2025-04-17T00:00:00', data_sources=[DataSourceConfig(data_source_name='RAW_MDS_NA', data_source_type='MDS', mds_data_source_properties=MdsDataSourceConfig(service_name='AtoZ', region='NA', output_schema=[{'field_name': 'Abuse.order_to_execution_time_from_eventvariables.n_order_to_execution', 'field_type': 'STRING'}, {'field_name': 'shipments_status', 'field_type': 'STRING'}, {'field_name': 'Abuse.completed_afn_orders_by_customer_marketplace.n_afn_unit_count_last_365_days', 'field_type': 'STRING'}, {'field_name': 'Abuse.bsm_stats_for_evaluated_mfn_concessions_by_customer_na.n_min_message_count', 'field_type': 'STRING'}, {'field_name': 'Abuse.shiptrack_flag_by_order.n_any_undeliverable', 'field_type': 'STRING'}, {'field_name': 'Abuse.mfn_categorized_refunds_si_by_customer_marketplace.n_mfn_notr_refunds_si_365_days', 'field_type': 'STRING'}, {'field_name': 'Abuse.bsm_stats_for_evaluated_mfn_concessions_by_customer_na.n_min_buyer_message_count', 'field_type': 'STRING'}, {'field_name': 'Abuse.bsm_stats_for_evaluated_mfn_concessions_by_customer_na.n_total_topic_count', 'field_type': 'STRING'}, {'field_name': 'Abuse.mfn_a2z_claims_by_customer_na.n_mfn_diff_claims_count_last_365_days', 'field_type': 'STRING'}, {'field_name': 'Abuse.bsm_stats_for_evaluated_mfn_concessions_by_customer_na.n_total_message_count', 'field_type': 'STRING'}, {'field_name': 'Abuse.mfn_a2z_claims_by_customer_na.n_mfn_notr_claims_count_last_365_days', 'field_type': 'STRING'}, {'field_name': 'Abuse.mfn_categorized_refunds_by_customer_marketplace.n_mfn_diff_refunds_order_count_last_365_days', 'field_type': 'STRING'}, {'field_name': 'Abuse.bsm_stats_for_evaluated_mfn_concessions_by_customer_na.n_max_order_message_time_gap', 'field_type': 'STRING'}, {'field_name': 'Abuse.abuse_fap_action_by_customer_inline_transform_na.n_concession_warn_count_last_365_days', 'field_type': 'STRING'}, {'field_name': 'claimantInfo_status', 'field_type': 'STRING'}, {'field_name': 'transactionDate', 'field_type': 'STRING'}, {'field_name': 'Abuse.mfn_categorized_refunds_by_customer_marketplace.n_mfn_diff_refunds_unit_amount_last_365_days', 'field_type': 'STRING'}, {'field_name': 'Abuse.mfn_categorized_refunds_by_customer_marketplace.n_mfn_diff_refunds_unit_count_last_365_days', 'field_type': 'STRING'}, {'field_name': 'Abuse.mfn_categorized_refunds_by_customer_marketplace.n_mfn_notr_refunds_unit_count_last_365_days', 'field_type': 'STRING'}, {'field_name': 'Abuse.shiptrack_flag_by_order.n_any_available_for_pickup', 'field_type': 'STRING'}, {'field_name': 'Abuse.bsm_stats_for_evaluated_mfn_concessions_by_customer_na.n_total_seller_message_count', 'field_type': 'STRING'}, {'field_name': 'objectId', 'field_type': 'STRING'}, {'field_name': 'Abuse.bsm_stats_for_evaluated_mfn_concessions_by_customer_na.n_max_seller_order_message_time_gap', 'field_type': 'STRING'}, {'field_name': 'claim_reason', 'field_type': 'STRING'}, {'field_name': 'Abuse.abuse_fap_action_by_customer_inline_transform_na.n_claims_warn_count_last_365_days', 'field_type': 'STRING'}, {'field_name': 'Abuse.dnr_by_customer_marketplace.n_dnr_unit_count_last_365_days', 'field_type': 'STRING'}, {'field_name': 'Abuse.dnr_by_customer_marketplace.n_dnr_order_count_last_365_days', 'field_type': 'STRING'}, {'field_name': 'Abuse.bsm_stats_for_evaluated_mfn_concessions_by_customer_na.n_min_order_message_time_gap', 'field_type': 'STRING'}, {'field_name': 'Abuse.mfn_a2z_claims_by_customer_na.n_mfn_claims_count_last_365_days', 'field_type': 'STRING'}, {'field_name': 'Abuse.completed_afn_orders_by_customer_marketplace.n_afn_unit_amount_last_365_days', 'field_type': 'STRING'}, {'field_name': 'Abuse.mfn_categorized_refunds_by_customer_marketplace.n_mfn_notr_refunds_order_count_last_365_days', 'field_type': 'STRING'}, {'field_name': 'Abuse.mfn_a2z_claims_by_customer_na.n_mfn_claims_amount_last_365_days', 'field_type': 'STRING'}, {'field_name': 'Abuse.completed_mfn_orders_by_customer_marketplace.n_mfn_unit_count_last_365_days', 'field_type': 'STRING'}, {'field_name': 'Abuse.shiptrack_flag_by_order.n_any_partial_delivered', 'field_type': 'STRING'}, {'field_name': 'Abuse.shiptrack_flag_by_order.n_any_returning', 'field_type': 'STRING'}, {'field_name': 'claimantInfo_allClaimCount365day', 'field_type': 'STRING'}, {'field_name': 'claimantInfo_pendingClaimCount', 'field_type': 'STRING'}, {'field_name': 'claimAmount_value', 'field_type': 'STRING'}, {'field_name': 'Abuse.mfn_refunds_by_customer_marketplace.n_mfn_refund_unit_count_last_365_days', 'field_type': 'STRING'}, {'field_name': 'PAYMETH', 'field_type': 'STRING'}, {'field_name': 'Abuse.mfn_refunds_si_by_customer_marketplace.n_mfn_refund_amount_si_last_365_days', 'field_type': 'STRING'}, {'field_name': 'Abuse.shiptrack_flag_by_order.n_any_delivered', 'field_type': 'STRING'}, {'field_name': 'Abuse.bsm_stats_for_evaluated_mfn_concessions_by_customer_na.n_message_count_with_diff_topic_si', 'field_type': 'STRING'}, {'field_name': 'Abuse.completed_mfn_orders_by_customer_marketplace.n_mfn_order_count_last_365_days', 'field_type': 'STRING'}, {'field_name': 'Abuse.mfn_categorized_refunds_si_by_customer_marketplace.n_mfn_diff_refunds_si_365_days', 'field_type': 'STRING'}, {'field_name': 'Abuse.mfn_refunds_by_customer_marketplace.n_mfn_refund_unit_amount_last_365_days', 'field_type': 'STRING'}, {'field_name': 'Abuse.bsm_stats_for_evaluated_mfn_concessions_by_customer_na.n_max_buyer_order_message_time_gap', 'field_type': 'STRING'}, {'field_name': 'Abuse.mfn_refunds_by_customer_marketplace.n_mfn_refund_order_count_last_365_days', 'field_type': 'STRING'}, {'field_name': 'Abuse.completed_mfn_orders_by_customer_marketplace.n_mfn_unit_amount_last_365_days', 'field_type': 'STRING'}, {'field_name': 'Abuse.bsm_stats_for_evaluated_mfn_concessions_by_customer_na.n_min_buyer_order_message_time_gap', 'field_type': 'STRING'}, {'field_name': 'Abuse.mfn_a2z_claims_by_customer_na.n_mfn_diff_claims_amount_last_365_days', 'field_type': 'STRING'}, {'field_name': 'Abuse.bsm_stats_for_evaluated_mfn_concessions_by_customer_na.n_message_count_with_return_keywords_si', 'field_type': 'STRING'}, {'field_name': 'Abuse.shiptrack_flag_by_order.n_any_returned', 'field_type': 'STRING'}, {'field_name': 'Abuse.bsm_stats_for_evaluated_mfn_concessions_by_customer_na.n_min_seller_order_message_time_gap', 'field_type': 'STRING'}, {'field_name': 'Abuse.dnr_by_customer_marketplace.n_dnr_amount_si_last_365_days', 'field_type': 'STRING'}, {'field_name': 'Abuse.abuse_fap_action_by_customer_inline_transform_na.n_concession_solicit_count_last_365_days', 'field_type': 'STRING'}, {'field_name': 'Abuse.dnr_by_customer_marketplace.n_dnr_unit_amount_last_365_days', 'field_type': 'STRING'}, {'field_name': 'Abuse.bsm_stats_for_evaluated_mfn_concessions_by_customer_na.n_total_buyer_message_count', 'field_type': 'STRING'}, {'field_name': 'Abuse.mfn_a2z_claims_by_customer_na.n_mfn_notr_claims_amount_last_365_days', 'field_type': 'STRING'}, {'field_name': 'claimantInfo_lifetimeClaimCount', 'field_type': 'STRING'}, {'field_name': 'Abuse.mfn_categorized_refunds_by_customer_marketplace.n_mfn_notr_refunds_unit_amount_last_365_days', 'field_type': 'STRING'}, {'field_name': 'Abuse.bsm_stats_for_evaluated_mfn_concessions_by_customer_na.n_message_count_with_notr_topic_si', 'field_type': 'STRING'}, {'field_name': 'COMP_DAYOB', 'field_type': 'STRING'}, {'field_name': 'Abuse.bsm_stats_for_evaluated_mfn_concessions_by_customer_na.n_min_seller_message_count', 'field_type': 'STRING'}, {'field_name': 'Abuse.completed_afn_orders_by_customer_marketplace.n_afn_order_count_last_365_days', 'field_type': 'STRING'}, {'field_name': 'Abuse.abuse_fap_action_by_customer_inline_transform_na.n_claims_solicit_count_last_365_days', 'field_type': 'STRING'}], org_id=0, use_hourly_edx_data_set=False), edx_data_source_properties=None, andes_data_source_properties=None), DataSourceConfig(data_source_name='TAGS', data_source_type='EDX', mds_data_source_properties=None, edx_data_source_properties=EdxDataSourceConfig(edx_provider='trms-abuse-analytics', edx_subject='qingyuye-notr-exp', edx_dataset='atoz-tag', edx_manifest_key='[\"24292902\",2025-01-01T00:00:00Z,2025-04-17T00:00:00Z,\"NA\"]', schema_overrides=[{'field_name': 'order_id', 'field_type': 'STRING'}, {'field_name': 'marketplace_id', 'field_type': 'STRING'}, {'field_name': 'tag_date', 'field_type': 'STRING'}, {'field_name': 'is_abuse', 'field_type': 'STRING'}, {'field_name': 'abuse_type', 'field_type': 'STRING'}, {'field_name': 'concession_type', 'field_type': 'STRING'}]), andes_data_source_properties=None)]), transform_spec=TransformSpecificationConfig(transform_sql='\\nSELECT\\n    Abuse__DOT__abuse_fap_action_by_customer_inline_transform_na__DOT__n_claims_solicit_count_last_365_days,\\n    Abuse__DOT__abuse_fap_action_by_customer_inline_transform_na__DOT__n_claims_warn_count_last_365_days,\\n    Abuse__DOT__abuse_fap_action_by_customer_inline_transform_na__DOT__n_concession_solicit_count_last_365_days,\\n    Abuse__DOT__abuse_fap_action_by_customer_inline_transform_na__DOT__n_concession_warn_count_last_365_days,\\n    Abuse__DOT__bsm_stats_for_evaluated_mfn_concessions_by_customer_na__DOT__n_max_buyer_order_message_time_gap,\\n    Abuse__DOT__bsm_stats_for_evaluated_mfn_concessions_by_customer_na__DOT__n_max_order_message_time_gap,\\n    Abuse__DOT__bsm_stats_for_evaluated_mfn_concessions_by_customer_na__DOT__n_max_seller_order_message_time_gap,\\n    Abuse__DOT__bsm_stats_for_evaluated_mfn_concessions_by_customer_na__DOT__n_message_count_with_diff_topic_si,\\n    Abuse__DOT__bsm_stats_for_evaluated_mfn_concessions_by_customer_na__DOT__n_message_count_with_notr_topic_si,\\n    Abuse__DOT__bsm_stats_for_evaluated_mfn_concessions_by_customer_na__DOT__n_message_count_with_return_keywords_si,\\n    Abuse__DOT__bsm_stats_for_evaluated_mfn_concessions_by_customer_na__DOT__n_min_buyer_message_count,\\n    Abuse__DOT__bsm_stats_for_evaluated_mfn_concessions_by_customer_na__DOT__n_min_buyer_order_message_time_gap,\\n    Abuse__DOT__bsm_stats_for_evaluated_mfn_concessions_by_customer_na__DOT__n_min_message_count,\\n    Abuse__DOT__bsm_stats_for_evaluated_mfn_concessions_by_customer_na__DOT__n_min_order_message_time_gap,\\n    Abuse__DOT__bsm_stats_for_evaluated_mfn_concessions_by_customer_na__DOT__n_min_seller_message_count,\\n    Abuse__DOT__bsm_stats_for_evaluated_mfn_concessions_by_customer_na__DOT__n_min_seller_order_message_time_gap,\\n    Abuse__DOT__bsm_stats_for_evaluated_mfn_concessions_by_customer_na__DOT__n_total_buyer_message_count,\\n    Abuse__DOT__bsm_stats_for_evaluated_mfn_concessions_by_customer_na__DOT__n_total_message_count,\\n    Abuse__DOT__bsm_stats_for_evaluated_mfn_concessions_by_customer_na__DOT__n_total_seller_message_count,\\n    Abuse__DOT__bsm_stats_for_evaluated_mfn_concessions_by_customer_na__DOT__n_total_topic_count,\\n    Abuse__DOT__completed_afn_orders_by_customer_marketplace__DOT__n_afn_order_count_last_365_days,\\n    Abuse__DOT__completed_afn_orders_by_customer_marketplace__DOT__n_afn_unit_amount_last_365_days,\\n    Abuse__DOT__completed_afn_orders_by_customer_marketplace__DOT__n_afn_unit_count_last_365_days,\\n    Abuse__DOT__completed_mfn_orders_by_customer_marketplace__DOT__n_mfn_order_count_last_365_days,\\n    Abuse__DOT__completed_mfn_orders_by_customer_marketplace__DOT__n_mfn_unit_amount_last_365_days,\\n    Abuse__DOT__completed_mfn_orders_by_customer_marketplace__DOT__n_mfn_unit_count_last_365_days,\\n    Abuse__DOT__dnr_by_customer_marketplace__DOT__n_dnr_amount_si_last_365_days,\\n    Abuse__DOT__dnr_by_customer_marketplace__DOT__n_dnr_order_count_last_365_days,\\n    Abuse__DOT__dnr_by_customer_marketplace__DOT__n_dnr_unit_amount_last_365_days,\\n    Abuse__DOT__dnr_by_customer_marketplace__DOT__n_dnr_unit_count_last_365_days,\\n    Abuse__DOT__mfn_a2z_claims_by_customer_na__DOT__n_mfn_claims_amount_last_365_days,\\n    Abuse__DOT__mfn_a2z_claims_by_customer_na__DOT__n_mfn_claims_count_last_365_days,\\n    Abuse__DOT__mfn_a2z_claims_by_customer_na__DOT__n_mfn_diff_claims_amount_last_365_days,\\n    Abuse__DOT__mfn_a2z_claims_by_customer_na__DOT__n_mfn_diff_claims_count_last_365_days,\\n    Abuse__DOT__mfn_a2z_claims_by_customer_na__DOT__n_mfn_notr_claims_amount_last_365_days,\\n    Abuse__DOT__mfn_a2z_claims_by_customer_na__DOT__n_mfn_notr_claims_count_last_365_days,\\n    Abuse__DOT__mfn_categorized_refunds_by_customer_marketplace__DOT__n_mfn_diff_refunds_order_count_last_365_days,\\n    Abuse__DOT__mfn_categorized_refunds_by_customer_marketplace__DOT__n_mfn_diff_refunds_unit_amount_last_365_days,\\n    Abuse__DOT__mfn_categorized_refunds_by_customer_marketplace__DOT__n_mfn_diff_refunds_unit_count_last_365_days,\\n    Abuse__DOT__mfn_categorized_refunds_by_customer_marketplace__DOT__n_mfn_notr_refunds_order_count_last_365_days,\\n    Abuse__DOT__mfn_categorized_refunds_by_customer_marketplace__DOT__n_mfn_notr_refunds_unit_amount_last_365_days,\\n    Abuse__DOT__mfn_categorized_refunds_by_customer_marketplace__DOT__n_mfn_notr_refunds_unit_count_last_365_days,\\n    Abuse__DOT__mfn_categorized_refunds_si_by_customer_marketplace__DOT__n_mfn_diff_refunds_si_365_days,\\n    Abuse__DOT__mfn_categorized_refunds_si_by_customer_marketplace__DOT__n_mfn_notr_refunds_si_365_days,\\n    Abuse__DOT__mfn_refunds_by_customer_marketplace__DOT__n_mfn_refund_order_count_last_365_days,\\n    Abuse__DOT__mfn_refunds_by_customer_marketplace__DOT__n_mfn_refund_unit_amount_last_365_days,\\n    Abuse__DOT__mfn_refunds_by_customer_marketplace__DOT__n_mfn_refund_unit_count_last_365_days,\\n    Abuse__DOT__mfn_refunds_si_by_customer_marketplace__DOT__n_mfn_refund_amount_si_last_365_days,\\n    Abuse__DOT__order_to_execution_time_from_eventvariables__DOT__n_order_to_execution,\\n    Abuse__DOT__shiptrack_flag_by_order__DOT__n_any_available_for_pickup,\\n    Abuse__DOT__shiptrack_flag_by_order__DOT__n_any_delivered,\\n    Abuse__DOT__shiptrack_flag_by_order__DOT__n_any_partial_delivered,\\n    Abuse__DOT__shiptrack_flag_by_order__DOT__n_any_returned,\\n    Abuse__DOT__shiptrack_flag_by_order__DOT__n_any_returning,\\n    Abuse__DOT__shiptrack_flag_by_order__DOT__n_any_undeliverable,\\n    COMP_DAYOB,\\n    PAYMETH,\\n    abuse_type,\\n    claimAmount_value,\\n    claim_reason,\\n    claimantInfo_allClaimCount365day,\\n    claimantInfo_lifetimeClaimCount,\\n    claimantInfo_pendingClaimCount,\\n    claimantInfo_status,\\n    concession_type,\\n    is_abuse,\\n    marketplace_id,\\n    objectId,\\n    order_id,\\n    shipments_status,\\n    tag_date,\\n    transactionDate\\nFROM (\\n    SELECT\\n        RAW_MDS_NA.Abuse__DOT__abuse_fap_action_by_customer_inline_transform_na__DOT__n_claims_solicit_count_last_365_days,\\n        RAW_MDS_NA.Abuse__DOT__abuse_fap_action_by_customer_inline_transform_na__DOT__n_claims_warn_count_last_365_days,\\n        RAW_MDS_NA.Abuse__DOT__abuse_fap_action_by_customer_inline_transform_na__DOT__n_concession_solicit_count_last_365_days,\\n        RAW_MDS_NA.Abuse__DOT__abuse_fap_action_by_customer_inline_transform_na__DOT__n_concession_warn_count_last_365_days,\\n        RAW_MDS_NA.Abuse__DOT__bsm_stats_for_evaluated_mfn_concessions_by_customer_na__DOT__n_max_buyer_order_message_time_gap,\\n        RAW_MDS_NA.Abuse__DOT__bsm_stats_for_evaluated_mfn_concessions_by_customer_na__DOT__n_max_order_message_time_gap,\\n        RAW_MDS_NA.Abuse__DOT__bsm_stats_for_evaluated_mfn_concessions_by_customer_na__DOT__n_max_seller_order_message_time_gap,\\n        RAW_MDS_NA.Abuse__DOT__bsm_stats_for_evaluated_mfn_concessions_by_customer_na__DOT__n_message_count_with_diff_topic_si,\\n        RAW_MDS_NA.Abuse__DOT__bsm_stats_for_evaluated_mfn_concessions_by_customer_na__DOT__n_message_count_with_notr_topic_si,\\n        RAW_MDS_NA.Abuse__DOT__bsm_stats_for_evaluated_mfn_concessions_by_customer_na__DOT__n_message_count_with_return_keywords_si,\\n        RAW_MDS_NA.Abuse__DOT__bsm_stats_for_evaluated_mfn_concessions_by_customer_na__DOT__n_min_buyer_message_count,\\n        RAW_MDS_NA.Abuse__DOT__bsm_stats_for_evaluated_mfn_concessions_by_customer_na__DOT__n_min_buyer_order_message_time_gap,\\n        RAW_MDS_NA.Abuse__DOT__bsm_stats_for_evaluated_mfn_concessions_by_customer_na__DOT__n_min_message_count,\\n        RAW_MDS_NA.Abuse__DOT__bsm_stats_for_evaluated_mfn_concessions_by_customer_na__DOT__n_min_order_message_time_gap,\\n        RAW_MDS_NA.Abuse__DOT__bsm_stats_for_evaluated_mfn_concessions_by_customer_na__DOT__n_min_seller_message_count,\\n        RAW_MDS_NA.Abuse__DOT__bsm_stats_for_evaluated_mfn_concessions_by_customer_na__DOT__n_min_seller_order_message_time_gap,\\n        RAW_MDS_NA.Abuse__DOT__bsm_stats_for_evaluated_mfn_concessions_by_customer_na__DOT__n_total_buyer_message_count,\\n        RAW_MDS_NA.Abuse__DOT__bsm_stats_for_evaluated_mfn_concessions_by_customer_na__DOT__n_total_message_count,\\n        RAW_MDS_NA.Abuse__DOT__bsm_stats_for_evaluated_mfn_concessions_by_customer_na__DOT__n_total_seller_message_count,\\n        RAW_MDS_NA.Abuse__DOT__bsm_stats_for_evaluated_mfn_concessions_by_customer_na__DOT__n_total_topic_count,\\n        RAW_MDS_NA.Abuse__DOT__completed_afn_orders_by_customer_marketplace__DOT__n_afn_order_count_last_365_days,\\n        RAW_MDS_NA.Abuse__DOT__completed_afn_orders_by_customer_marketplace__DOT__n_afn_unit_amount_last_365_days,\\n        RAW_MDS_NA.Abuse__DOT__completed_afn_orders_by_customer_marketplace__DOT__n_afn_unit_count_last_365_days,\\n        RAW_MDS_NA.Abuse__DOT__completed_mfn_orders_by_customer_marketplace__DOT__n_mfn_order_count_last_365_days,\\n        RAW_MDS_NA.Abuse__DOT__completed_mfn_orders_by_customer_marketplace__DOT__n_mfn_unit_amount_last_365_days,\\n        RAW_MDS_NA.Abuse__DOT__completed_mfn_orders_by_customer_marketplace__DOT__n_mfn_unit_count_last_365_days,\\n        RAW_MDS_NA.Abuse__DOT__dnr_by_customer_marketplace__DOT__n_dnr_amount_si_last_365_days,\\n        RAW_MDS_NA.Abuse__DOT__dnr_by_customer_marketplace__DOT__n_dnr_order_count_last_365_days,\\n        RAW_MDS_NA.Abuse__DOT__dnr_by_customer_marketplace__DOT__n_dnr_unit_amount_last_365_days,\\n        RAW_MDS_NA.Abuse__DOT__dnr_by_customer_marketplace__DOT__n_dnr_unit_count_last_365_days,\\n        RAW_MDS_NA.Abuse__DOT__mfn_a2z_claims_by_customer_na__DOT__n_mfn_claims_amount_last_365_days,\\n        RAW_MDS_NA.Abuse__DOT__mfn_a2z_claims_by_customer_na__DOT__n_mfn_claims_count_last_365_days,\\n        RAW_MDS_NA.Abuse__DOT__mfn_a2z_claims_by_customer_na__DOT__n_mfn_diff_claims_amount_last_365_days,\\n        RAW_MDS_NA.Abuse__DOT__mfn_a2z_claims_by_customer_na__DOT__n_mfn_diff_claims_count_last_365_days,\\n        RAW_MDS_NA.Abuse__DOT__mfn_a2z_claims_by_customer_na__DOT__n_mfn_notr_claims_amount_last_365_days,\\n        RAW_MDS_NA.Abuse__DOT__mfn_a2z_claims_by_customer_na__DOT__n_mfn_notr_claims_count_last_365_days,\\n        RAW_MDS_NA.Abuse__DOT__mfn_categorized_refunds_by_customer_marketplace__DOT__n_mfn_diff_refunds_order_count_last_365_days,\\n        RAW_MDS_NA.Abuse__DOT__mfn_categorized_refunds_by_customer_marketplace__DOT__n_mfn_diff_refunds_unit_amount_last_365_days,\\n        RAW_MDS_NA.Abuse__DOT__mfn_categorized_refunds_by_customer_marketplace__DOT__n_mfn_diff_refunds_unit_count_last_365_days,\\n        RAW_MDS_NA.Abuse__DOT__mfn_categorized_refunds_by_customer_marketplace__DOT__n_mfn_notr_refunds_order_count_last_365_days,\\n        RAW_MDS_NA.Abuse__DOT__mfn_categorized_refunds_by_customer_marketplace__DOT__n_mfn_notr_refunds_unit_amount_last_365_days,\\n        RAW_MDS_NA.Abuse__DOT__mfn_categorized_refunds_by_customer_marketplace__DOT__n_mfn_notr_refunds_unit_count_last_365_days,\\n        RAW_MDS_NA.Abuse__DOT__mfn_categorized_refunds_si_by_customer_marketplace__DOT__n_mfn_diff_refunds_si_365_days,\\n        RAW_MDS_NA.Abuse__DOT__mfn_categorized_refunds_si_by_customer_marketplace__DOT__n_mfn_notr_refunds_si_365_days,\\n        RAW_MDS_NA.Abuse__DOT__mfn_refunds_by_customer_marketplace__DOT__n_mfn_refund_order_count_last_365_days,\\n        RAW_MDS_NA.Abuse__DOT__mfn_refunds_by_customer_marketplace__DOT__n_mfn_refund_unit_amount_last_365_days,\\n        RAW_MDS_NA.Abuse__DOT__mfn_refunds_by_customer_marketplace__DOT__n_mfn_refund_unit_count_last_365_days,\\n        RAW_MDS_NA.Abuse__DOT__mfn_refunds_si_by_customer_marketplace__DOT__n_mfn_refund_amount_si_last_365_days,\\n        RAW_MDS_NA.Abuse__DOT__order_to_execution_time_from_eventvariables__DOT__n_order_to_execution,\\n        RAW_MDS_NA.Abuse__DOT__shiptrack_flag_by_order__DOT__n_any_available_for_pickup,\\n        RAW_MDS_NA.Abuse__DOT__shiptrack_flag_by_order__DOT__n_any_delivered,\\n        RAW_MDS_NA.Abuse__DOT__shiptrack_flag_by_order__DOT__n_any_partial_delivered,\\n        RAW_MDS_NA.Abuse__DOT__shiptrack_flag_by_order__DOT__n_any_returned,\\n        RAW_MDS_NA.Abuse__DOT__shiptrack_flag_by_order__DOT__n_any_returning,\\n        RAW_MDS_NA.Abuse__DOT__shiptrack_flag_by_order__DOT__n_any_undeliverable,\\n        RAW_MDS_NA.COMP_DAYOB,\\n        RAW_MDS_NA.PAYMETH,\\n        RAW_MDS_NA.claimAmount_value,\\n        RAW_MDS_NA.claim_reason,\\n        RAW_MDS_NA.claimantInfo_allClaimCount365day,\\n        RAW_MDS_NA.claimantInfo_lifetimeClaimCount,\\n        RAW_MDS_NA.claimantInfo_pendingClaimCount,\\n        RAW_MDS_NA.claimantInfo_status,\\n        RAW_MDS_NA.objectId,\\n        RAW_MDS_NA.shipments_status,\\n        RAW_MDS_NA.transactionDate,\\n        TAGS.abuse_type,\\n        TAGS.concession_type,\\n        TAGS.is_abuse,\\n        TAGS.marketplace_id,\\n        TAGS.order_id,\\n        TAGS.tag_date,\\n        ROW_NUMBER() OVER (PARTITION BY RAW_MDS_NA.objectId, TAGS.order_id ORDER BY RAW_MDS_NA.transactionDate DESC) as row_num\\n    FROM RAW_MDS_NA\\n    JOIN TAGS ON RAW_MDS_NA.objectId = TAGS.order_id\\n)\\nWHERE row_num = 1\\n', job_split_options=JobSplitOptionsConfig(merge_sql=None, split_job=False, days_per_split=7)), output_spec=OutputSpecificationConfig(output_schema=['Abuse.abuse_fap_action_by_customer_inline_transform_na.n_claims_solicit_count_last_365_days', 'Abuse.abuse_fap_action_by_customer_inline_transform_na.n_claims_warn_count_last_365_days', 'Abuse.abuse_fap_action_by_customer_inline_transform_na.n_concession_solicit_count_last_365_days', 'Abuse.abuse_fap_action_by_customer_inline_transform_na.n_concession_warn_count_last_365_days', 'Abuse.bsm_stats_for_evaluated_mfn_concessions_by_customer_na.n_max_buyer_order_message_time_gap', 'Abuse.bsm_stats_for_evaluated_mfn_concessions_by_customer_na.n_max_order_message_time_gap', 'Abuse.bsm_stats_for_evaluated_mfn_concessions_by_customer_na.n_max_seller_order_message_time_gap', 'Abuse.bsm_stats_for_evaluated_mfn_concessions_by_customer_na.n_message_count_with_diff_topic_si', 'Abuse.bsm_stats_for_evaluated_mfn_concessions_by_customer_na.n_message_count_with_notr_topic_si', 'Abuse.bsm_stats_for_evaluated_mfn_concessions_by_customer_na.n_message_count_with_return_keywords_si', 'Abuse.bsm_stats_for_evaluated_mfn_concessions_by_customer_na.n_min_buyer_message_count', 'Abuse.bsm_stats_for_evaluated_mfn_concessions_by_customer_na.n_min_buyer_order_message_time_gap', 'Abuse.bsm_stats_for_evaluated_mfn_concessions_by_customer_na.n_min_message_count', 'Abuse.bsm_stats_for_evaluated_mfn_concessions_by_customer_na.n_min_order_message_time_gap', 'Abuse.bsm_stats_for_evaluated_mfn_concessions_by_customer_na.n_min_seller_message_count', 'Abuse.bsm_stats_for_evaluated_mfn_concessions_by_customer_na.n_min_seller_order_message_time_gap', 'Abuse.bsm_stats_for_evaluated_mfn_concessions_by_customer_na.n_total_buyer_message_count', 'Abuse.bsm_stats_for_evaluated_mfn_concessions_by_customer_na.n_total_message_count', 'Abuse.bsm_stats_for_evaluated_mfn_concessions_by_customer_na.n_total_seller_message_count', 'Abuse.bsm_stats_for_evaluated_mfn_concessions_by_customer_na.n_total_topic_count', 'Abuse.completed_afn_orders_by_customer_marketplace.n_afn_order_count_last_365_days', 'Abuse.completed_afn_orders_by_customer_marketplace.n_afn_unit_amount_last_365_days', 'Abuse.completed_afn_orders_by_customer_marketplace.n_afn_unit_count_last_365_days', 'Abuse.completed_mfn_orders_by_customer_marketplace.n_mfn_order_count_last_365_days', 'Abuse.completed_mfn_orders_by_customer_marketplace.n_mfn_unit_amount_last_365_days', 'Abuse.completed_mfn_orders_by_customer_marketplace.n_mfn_unit_count_last_365_days', 'Abuse.dnr_by_customer_marketplace.n_dnr_amount_si_last_365_days', 'Abuse.dnr_by_customer_marketplace.n_dnr_order_count_last_365_days', 'Abuse.dnr_by_customer_marketplace.n_dnr_unit_amount_last_365_days', 'Abuse.dnr_by_customer_marketplace.n_dnr_unit_count_last_365_days', 'Abuse.mfn_a2z_claims_by_customer_na.n_mfn_claims_amount_last_365_days', 'Abuse.mfn_a2z_claims_by_customer_na.n_mfn_claims_count_last_365_days', 'Abuse.mfn_a2z_claims_by_customer_na.n_mfn_diff_claims_amount_last_365_days', 'Abuse.mfn_a2z_claims_by_customer_na.n_mfn_diff_claims_count_last_365_days', 'Abuse.mfn_a2z_claims_by_customer_na.n_mfn_notr_claims_amount_last_365_days', 'Abuse.mfn_a2z_claims_by_customer_na.n_mfn_notr_claims_count_last_365_days', 'Abuse.mfn_categorized_refunds_by_customer_marketplace.n_mfn_diff_refunds_order_count_last_365_days', 'Abuse.mfn_categorized_refunds_by_customer_marketplace.n_mfn_diff_refunds_unit_amount_last_365_days', 'Abuse.mfn_categorized_refunds_by_customer_marketplace.n_mfn_diff_refunds_unit_count_last_365_days', 'Abuse.mfn_categorized_refunds_by_customer_marketplace.n_mfn_notr_refunds_order_count_last_365_days', 'Abuse.mfn_categorized_refunds_by_customer_marketplace.n_mfn_notr_refunds_unit_amount_last_365_days', 'Abuse.mfn_categorized_refunds_by_customer_marketplace.n_mfn_notr_refunds_unit_count_last_365_days', 'Abuse.mfn_categorized_refunds_si_by_customer_marketplace.n_mfn_diff_refunds_si_365_days', 'Abuse.mfn_categorized_refunds_si_by_customer_marketplace.n_mfn_notr_refunds_si_365_days', 'Abuse.mfn_refunds_by_customer_marketplace.n_mfn_refund_order_count_last_365_days', 'Abuse.mfn_refunds_by_customer_marketplace.n_mfn_refund_unit_amount_last_365_days', 'Abuse.mfn_refunds_by_customer_marketplace.n_mfn_refund_unit_count_last_365_days', 'Abuse.mfn_refunds_si_by_customer_marketplace.n_mfn_refund_amount_si_last_365_days', 'Abuse.order_to_execution_time_from_eventvariables.n_order_to_execution', 'Abuse.shiptrack_flag_by_order.n_any_available_for_pickup', 'Abuse.shiptrack_flag_by_order.n_any_delivered', 'Abuse.shiptrack_flag_by_order.n_any_partial_delivered', 'Abuse.shiptrack_flag_by_order.n_any_returned', 'Abuse.shiptrack_flag_by_order.n_any_returning', 'Abuse.shiptrack_flag_by_order.n_any_undeliverable', 'COMP_DAYOB', 'PAYMETH', 'abuse_type', 'claimAmount_value', 'claim_reason', 'claimantInfo_allClaimCount365day', 'claimantInfo_lifetimeClaimCount', 'claimantInfo_pendingClaimCount', 'claimantInfo_status', 'concession_type', 'is_abuse', 'marketplace_id', 'objectId', 'order_id', 'shipments_status', 'tag_date', 'transactionDate'], job_type='training', pipeline_s3_loc='s3://sandboxdependency-abuse-secureaisandboxteamshare-1l77v9am252um/MODS/lukexie-AtoZ-xgboost-NA_1.3.1', output_format='PARQUET', output_save_mode='ERRORIFEXISTS', output_file_count=0, keep_dot_in_output_schema=False, include_header_in_s3_output=True), cradle_job_spec=CradleJobSpecificationConfig(cradle_account='Buyer-Abuse-RnD-Dev', cluster_type='MEDIUM', extra_spark_job_arguments='', job_retry_count=4), s3_input_override=None),\n",
       " 'ModelCalibration_calibration': ModelCalibrationConfig(author='lukexie', bucket='sandboxdependency-abuse-secureaisandboxteamshare-1l77v9am252um', role='arn:aws:iam::601857636239:role/SandboxRole-lukexie-us-east-1', region='NA', service_name='AtoZ', pipeline_version='1.3.1', model_class='xgboost', current_date='2025-09-21', framework_version='1.7-1', py_version='py3', source_dir='/home/ec2-user/SageMaker/Cursus/dockers/xgboost_atoz', processing_instance_count=1, processing_volume_size=500, processing_instance_type_large='ml.m5.12xlarge', processing_instance_type_small='ml.m5.4xlarge', use_large_processing_instance=False, processing_source_dir='/home/ec2-user/SageMaker/Cursus/dockers/xgboost_atoz/scripts', processing_entry_point='model_calibration.py', processing_script_arguments=None, processing_framework_version='1.2-1', label_field='is_abuse', calibration_method='gam', monotonic_constraint=True, gam_splines=10, error_threshold=0.05, is_binary=True, num_classes=2, score_field='prob_class_1', score_field_prefix='prob_class_', multiclass_categories=[0, 1], job_type='calibration'),\n",
       " 'Package': PackageConfig(author='lukexie', bucket='sandboxdependency-abuse-secureaisandboxteamshare-1l77v9am252um', role='arn:aws:iam::601857636239:role/SandboxRole-lukexie-us-east-1', region='NA', service_name='AtoZ', pipeline_version='1.3.1', model_class='xgboost', current_date='2025-09-21', framework_version='1.7-1', py_version='py3', source_dir='/home/ec2-user/SageMaker/Cursus/dockers/xgboost_atoz', processing_instance_count=1, processing_volume_size=500, processing_instance_type_large='ml.m5.12xlarge', processing_instance_type_small='ml.m5.4xlarge', use_large_processing_instance=False, processing_source_dir='/home/ec2-user/SageMaker/Cursus/dockers/xgboost_atoz/scripts', processing_entry_point='package.py', processing_script_arguments=None, processing_framework_version='1.2-1'),\n",
       " 'Payload': PayloadConfig(author='lukexie', bucket='sandboxdependency-abuse-secureaisandboxteamshare-1l77v9am252um', role='arn:aws:iam::601857636239:role/SandboxRole-lukexie-us-east-1', region='NA', service_name='AtoZ', pipeline_version='1.3.1', model_class='xgboost', current_date='2025-09-21', framework_version='1.7-1', py_version='py3', source_dir='/home/ec2-user/SageMaker/Cursus/dockers/xgboost_atoz', processing_instance_count=1, processing_volume_size=500, processing_instance_type_large='ml.m5.12xlarge', processing_instance_type_small='ml.m5.4xlarge', use_large_processing_instance=False, processing_source_dir='/home/ec2-user/SageMaker/Cursus/dockers/xgboost_atoz/scripts', processing_entry_point='payload.py', processing_script_arguments=None, processing_framework_version='1.2-1', model_owner='amzn1.abacus.team.djmdvixm5abr3p75c5ca', model_domain='AtoZ', model_objective='AtoZ_Claims_SM_Model_NA', source_model_inference_output_variable_list={'calibrated-score': 'NUMERIC', 'custom-output-label': 'TEXT', 'legacy-score': 'NUMERIC'}, source_model_inference_input_variable_list=[['Abuse.abuse_fap_action_by_customer_inline_transform_na.n_claims_solicit_count_last_365_days', 'NUMERIC'], ['Abuse.abuse_fap_action_by_customer_inline_transform_na.n_claims_warn_count_last_365_days', 'NUMERIC'], ['Abuse.abuse_fap_action_by_customer_inline_transform_na.n_concession_solicit_count_last_365_days', 'NUMERIC'], ['Abuse.abuse_fap_action_by_customer_inline_transform_na.n_concession_warn_count_last_365_days', 'NUMERIC'], ['Abuse.bsm_stats_for_evaluated_mfn_concessions_by_customer_na.n_max_buyer_order_message_time_gap', 'NUMERIC'], ['Abuse.bsm_stats_for_evaluated_mfn_concessions_by_customer_na.n_max_order_message_time_gap', 'NUMERIC'], ['Abuse.bsm_stats_for_evaluated_mfn_concessions_by_customer_na.n_max_seller_order_message_time_gap', 'NUMERIC'], ['Abuse.bsm_stats_for_evaluated_mfn_concessions_by_customer_na.n_message_count_with_diff_topic_si', 'NUMERIC'], ['Abuse.bsm_stats_for_evaluated_mfn_concessions_by_customer_na.n_message_count_with_notr_topic_si', 'NUMERIC'], ['Abuse.bsm_stats_for_evaluated_mfn_concessions_by_customer_na.n_message_count_with_return_keywords_si', 'NUMERIC'], ['Abuse.bsm_stats_for_evaluated_mfn_concessions_by_customer_na.n_min_buyer_message_count', 'NUMERIC'], ['Abuse.bsm_stats_for_evaluated_mfn_concessions_by_customer_na.n_min_buyer_order_message_time_gap', 'NUMERIC'], ['Abuse.bsm_stats_for_evaluated_mfn_concessions_by_customer_na.n_min_message_count', 'NUMERIC'], ['Abuse.bsm_stats_for_evaluated_mfn_concessions_by_customer_na.n_min_order_message_time_gap', 'NUMERIC'], ['Abuse.bsm_stats_for_evaluated_mfn_concessions_by_customer_na.n_min_seller_message_count', 'NUMERIC'], ['Abuse.bsm_stats_for_evaluated_mfn_concessions_by_customer_na.n_min_seller_order_message_time_gap', 'NUMERIC'], ['Abuse.bsm_stats_for_evaluated_mfn_concessions_by_customer_na.n_total_buyer_message_count', 'NUMERIC'], ['Abuse.bsm_stats_for_evaluated_mfn_concessions_by_customer_na.n_total_message_count', 'NUMERIC'], ['Abuse.bsm_stats_for_evaluated_mfn_concessions_by_customer_na.n_total_seller_message_count', 'NUMERIC'], ['Abuse.bsm_stats_for_evaluated_mfn_concessions_by_customer_na.n_total_topic_count', 'NUMERIC'], ['Abuse.completed_afn_orders_by_customer_marketplace.n_afn_order_count_last_365_days', 'NUMERIC'], ['Abuse.completed_afn_orders_by_customer_marketplace.n_afn_unit_amount_last_365_days', 'NUMERIC'], ['Abuse.completed_afn_orders_by_customer_marketplace.n_afn_unit_count_last_365_days', 'NUMERIC'], ['Abuse.completed_mfn_orders_by_customer_marketplace.n_mfn_order_count_last_365_days', 'NUMERIC'], ['Abuse.completed_mfn_orders_by_customer_marketplace.n_mfn_unit_amount_last_365_days', 'NUMERIC'], ['Abuse.completed_mfn_orders_by_customer_marketplace.n_mfn_unit_count_last_365_days', 'NUMERIC'], ['Abuse.dnr_by_customer_marketplace.n_dnr_amount_si_last_365_days', 'NUMERIC'], ['Abuse.dnr_by_customer_marketplace.n_dnr_order_count_last_365_days', 'NUMERIC'], ['Abuse.dnr_by_customer_marketplace.n_dnr_unit_amount_last_365_days', 'NUMERIC'], ['Abuse.dnr_by_customer_marketplace.n_dnr_unit_count_last_365_days', 'NUMERIC'], ['Abuse.mfn_a2z_claims_by_customer_na.n_mfn_claims_amount_last_365_days', 'NUMERIC'], ['Abuse.mfn_a2z_claims_by_customer_na.n_mfn_claims_count_last_365_days', 'NUMERIC'], ['Abuse.mfn_a2z_claims_by_customer_na.n_mfn_diff_claims_amount_last_365_days', 'NUMERIC'], ['Abuse.mfn_a2z_claims_by_customer_na.n_mfn_diff_claims_count_last_365_days', 'NUMERIC'], ['Abuse.mfn_a2z_claims_by_customer_na.n_mfn_notr_claims_amount_last_365_days', 'NUMERIC'], ['Abuse.mfn_a2z_claims_by_customer_na.n_mfn_notr_claims_count_last_365_days', 'NUMERIC'], ['Abuse.mfn_categorized_refunds_by_customer_marketplace.n_mfn_diff_refunds_order_count_last_365_days', 'NUMERIC'], ['Abuse.mfn_categorized_refunds_by_customer_marketplace.n_mfn_diff_refunds_unit_amount_last_365_days', 'NUMERIC'], ['Abuse.mfn_categorized_refunds_by_customer_marketplace.n_mfn_diff_refunds_unit_count_last_365_days', 'NUMERIC'], ['Abuse.mfn_categorized_refunds_by_customer_marketplace.n_mfn_notr_refunds_order_count_last_365_days', 'NUMERIC'], ['Abuse.mfn_categorized_refunds_by_customer_marketplace.n_mfn_notr_refunds_unit_amount_last_365_days', 'NUMERIC'], ['Abuse.mfn_categorized_refunds_by_customer_marketplace.n_mfn_notr_refunds_unit_count_last_365_days', 'NUMERIC'], ['Abuse.mfn_categorized_refunds_si_by_customer_marketplace.n_mfn_diff_refunds_si_365_days', 'NUMERIC'], ['Abuse.mfn_categorized_refunds_si_by_customer_marketplace.n_mfn_notr_refunds_si_365_days', 'NUMERIC'], ['Abuse.mfn_refunds_by_customer_marketplace.n_mfn_refund_order_count_last_365_days', 'NUMERIC'], ['Abuse.mfn_refunds_by_customer_marketplace.n_mfn_refund_unit_amount_last_365_days', 'NUMERIC'], ['Abuse.mfn_refunds_by_customer_marketplace.n_mfn_refund_unit_count_last_365_days', 'NUMERIC'], ['Abuse.mfn_refunds_si_by_customer_marketplace.n_mfn_refund_amount_si_last_365_days', 'NUMERIC'], ['Abuse.order_to_execution_time_from_eventvariables.n_order_to_execution', 'NUMERIC'], ['Abuse.shiptrack_flag_by_order.n_any_delivered', 'NUMERIC'], ['Abuse.shiptrack_flag_by_order.n_any_available_for_pickup', 'NUMERIC'], ['Abuse.shiptrack_flag_by_order.n_any_partial_delivered', 'NUMERIC'], ['Abuse.shiptrack_flag_by_order.n_any_undeliverable', 'NUMERIC'], ['Abuse.shiptrack_flag_by_order.n_any_returning', 'NUMERIC'], ['Abuse.shiptrack_flag_by_order.n_any_returned', 'NUMERIC'], ['COMP_DAYOB', 'NUMERIC'], ['claimAmount_value', 'NUMERIC'], ['claimantInfo_allClaimCount365day', 'NUMERIC'], ['claimantInfo_lifetimeClaimCount', 'NUMERIC'], ['claimantInfo_pendingClaimCount', 'NUMERIC'], ['PAYMETH', 'TEXT'], ['claim_reason', 'TEXT'], ['claimantInfo_status', 'TEXT'], ['shipments_status', 'TEXT']], expected_tps=2, max_latency_in_millisecond=800, framework='xgboost', source_model_inference_content_types=['text/csv'], source_model_inference_response_types=['application/json'], max_acceptable_error_rate=0.2, default_numeric_value=0.0, default_text_value='DEFAULT_TEXT', special_field_values=None),\n",
       " 'Processing': ProcessingStepConfigBase(author='lukexie', bucket='sandboxdependency-abuse-secureaisandboxteamshare-1l77v9am252um', role='arn:aws:iam::601857636239:role/SandboxRole-lukexie-us-east-1', region='NA', service_name='AtoZ', pipeline_version='1.3.1', model_class='xgboost', current_date='2025-09-21', framework_version='1.7-1', py_version='py3', source_dir='/home/ec2-user/SageMaker/Cursus/dockers/xgboost_atoz', processing_instance_count=1, processing_volume_size=500, processing_instance_type_large='ml.m5.12xlarge', processing_instance_type_small='ml.m5.4xlarge', use_large_processing_instance=False, processing_source_dir='/home/ec2-user/SageMaker/Cursus/dockers/xgboost_atoz/scripts', processing_entry_point=None, processing_script_arguments=None, processing_framework_version='1.2-1'),\n",
       " 'Registration': RegistrationConfig(author='lukexie', bucket='sandboxdependency-abuse-secureaisandboxteamshare-1l77v9am252um', role='arn:aws:iam::601857636239:role/SandboxRole-lukexie-us-east-1', region='NA', service_name='AtoZ', pipeline_version='1.3.1', model_class='xgboost', current_date='2025-09-21', framework_version='1.7-1', py_version='py3', source_dir='/home/ec2-user/SageMaker/Cursus/dockers/xgboost_atoz', model_owner='amzn1.abacus.team.djmdvixm5abr3p75c5ca', model_domain='AtoZ', model_objective='AtoZ_Claims_SM_Model_NA', framework='xgboost', inference_entry_point='xgboost_inference.py', source_model_inference_input_variable_list=[['Abuse.abuse_fap_action_by_customer_inline_transform_na.n_claims_solicit_count_last_365_days', 'NUMERIC'], ['Abuse.abuse_fap_action_by_customer_inline_transform_na.n_claims_warn_count_last_365_days', 'NUMERIC'], ['Abuse.abuse_fap_action_by_customer_inline_transform_na.n_concession_solicit_count_last_365_days', 'NUMERIC'], ['Abuse.abuse_fap_action_by_customer_inline_transform_na.n_concession_warn_count_last_365_days', 'NUMERIC'], ['Abuse.bsm_stats_for_evaluated_mfn_concessions_by_customer_na.n_max_buyer_order_message_time_gap', 'NUMERIC'], ['Abuse.bsm_stats_for_evaluated_mfn_concessions_by_customer_na.n_max_order_message_time_gap', 'NUMERIC'], ['Abuse.bsm_stats_for_evaluated_mfn_concessions_by_customer_na.n_max_seller_order_message_time_gap', 'NUMERIC'], ['Abuse.bsm_stats_for_evaluated_mfn_concessions_by_customer_na.n_message_count_with_diff_topic_si', 'NUMERIC'], ['Abuse.bsm_stats_for_evaluated_mfn_concessions_by_customer_na.n_message_count_with_notr_topic_si', 'NUMERIC'], ['Abuse.bsm_stats_for_evaluated_mfn_concessions_by_customer_na.n_message_count_with_return_keywords_si', 'NUMERIC'], ['Abuse.bsm_stats_for_evaluated_mfn_concessions_by_customer_na.n_min_buyer_message_count', 'NUMERIC'], ['Abuse.bsm_stats_for_evaluated_mfn_concessions_by_customer_na.n_min_buyer_order_message_time_gap', 'NUMERIC'], ['Abuse.bsm_stats_for_evaluated_mfn_concessions_by_customer_na.n_min_message_count', 'NUMERIC'], ['Abuse.bsm_stats_for_evaluated_mfn_concessions_by_customer_na.n_min_order_message_time_gap', 'NUMERIC'], ['Abuse.bsm_stats_for_evaluated_mfn_concessions_by_customer_na.n_min_seller_message_count', 'NUMERIC'], ['Abuse.bsm_stats_for_evaluated_mfn_concessions_by_customer_na.n_min_seller_order_message_time_gap', 'NUMERIC'], ['Abuse.bsm_stats_for_evaluated_mfn_concessions_by_customer_na.n_total_buyer_message_count', 'NUMERIC'], ['Abuse.bsm_stats_for_evaluated_mfn_concessions_by_customer_na.n_total_message_count', 'NUMERIC'], ['Abuse.bsm_stats_for_evaluated_mfn_concessions_by_customer_na.n_total_seller_message_count', 'NUMERIC'], ['Abuse.bsm_stats_for_evaluated_mfn_concessions_by_customer_na.n_total_topic_count', 'NUMERIC'], ['Abuse.completed_afn_orders_by_customer_marketplace.n_afn_order_count_last_365_days', 'NUMERIC'], ['Abuse.completed_afn_orders_by_customer_marketplace.n_afn_unit_amount_last_365_days', 'NUMERIC'], ['Abuse.completed_afn_orders_by_customer_marketplace.n_afn_unit_count_last_365_days', 'NUMERIC'], ['Abuse.completed_mfn_orders_by_customer_marketplace.n_mfn_order_count_last_365_days', 'NUMERIC'], ['Abuse.completed_mfn_orders_by_customer_marketplace.n_mfn_unit_amount_last_365_days', 'NUMERIC'], ['Abuse.completed_mfn_orders_by_customer_marketplace.n_mfn_unit_count_last_365_days', 'NUMERIC'], ['Abuse.dnr_by_customer_marketplace.n_dnr_amount_si_last_365_days', 'NUMERIC'], ['Abuse.dnr_by_customer_marketplace.n_dnr_order_count_last_365_days', 'NUMERIC'], ['Abuse.dnr_by_customer_marketplace.n_dnr_unit_amount_last_365_days', 'NUMERIC'], ['Abuse.dnr_by_customer_marketplace.n_dnr_unit_count_last_365_days', 'NUMERIC'], ['Abuse.mfn_a2z_claims_by_customer_na.n_mfn_claims_amount_last_365_days', 'NUMERIC'], ['Abuse.mfn_a2z_claims_by_customer_na.n_mfn_claims_count_last_365_days', 'NUMERIC'], ['Abuse.mfn_a2z_claims_by_customer_na.n_mfn_diff_claims_amount_last_365_days', 'NUMERIC'], ['Abuse.mfn_a2z_claims_by_customer_na.n_mfn_diff_claims_count_last_365_days', 'NUMERIC'], ['Abuse.mfn_a2z_claims_by_customer_na.n_mfn_notr_claims_amount_last_365_days', 'NUMERIC'], ['Abuse.mfn_a2z_claims_by_customer_na.n_mfn_notr_claims_count_last_365_days', 'NUMERIC'], ['Abuse.mfn_categorized_refunds_by_customer_marketplace.n_mfn_diff_refunds_order_count_last_365_days', 'NUMERIC'], ['Abuse.mfn_categorized_refunds_by_customer_marketplace.n_mfn_diff_refunds_unit_amount_last_365_days', 'NUMERIC'], ['Abuse.mfn_categorized_refunds_by_customer_marketplace.n_mfn_diff_refunds_unit_count_last_365_days', 'NUMERIC'], ['Abuse.mfn_categorized_refunds_by_customer_marketplace.n_mfn_notr_refunds_order_count_last_365_days', 'NUMERIC'], ['Abuse.mfn_categorized_refunds_by_customer_marketplace.n_mfn_notr_refunds_unit_amount_last_365_days', 'NUMERIC'], ['Abuse.mfn_categorized_refunds_by_customer_marketplace.n_mfn_notr_refunds_unit_count_last_365_days', 'NUMERIC'], ['Abuse.mfn_categorized_refunds_si_by_customer_marketplace.n_mfn_diff_refunds_si_365_days', 'NUMERIC'], ['Abuse.mfn_categorized_refunds_si_by_customer_marketplace.n_mfn_notr_refunds_si_365_days', 'NUMERIC'], ['Abuse.mfn_refunds_by_customer_marketplace.n_mfn_refund_order_count_last_365_days', 'NUMERIC'], ['Abuse.mfn_refunds_by_customer_marketplace.n_mfn_refund_unit_amount_last_365_days', 'NUMERIC'], ['Abuse.mfn_refunds_by_customer_marketplace.n_mfn_refund_unit_count_last_365_days', 'NUMERIC'], ['Abuse.mfn_refunds_si_by_customer_marketplace.n_mfn_refund_amount_si_last_365_days', 'NUMERIC'], ['Abuse.order_to_execution_time_from_eventvariables.n_order_to_execution', 'NUMERIC'], ['Abuse.shiptrack_flag_by_order.n_any_delivered', 'NUMERIC'], ['Abuse.shiptrack_flag_by_order.n_any_available_for_pickup', 'NUMERIC'], ['Abuse.shiptrack_flag_by_order.n_any_partial_delivered', 'NUMERIC'], ['Abuse.shiptrack_flag_by_order.n_any_undeliverable', 'NUMERIC'], ['Abuse.shiptrack_flag_by_order.n_any_returning', 'NUMERIC'], ['Abuse.shiptrack_flag_by_order.n_any_returned', 'NUMERIC'], ['COMP_DAYOB', 'NUMERIC'], ['claimAmount_value', 'NUMERIC'], ['claimantInfo_allClaimCount365day', 'NUMERIC'], ['claimantInfo_lifetimeClaimCount', 'NUMERIC'], ['claimantInfo_pendingClaimCount', 'NUMERIC'], ['PAYMETH', 'TEXT'], ['claim_reason', 'TEXT'], ['claimantInfo_status', 'TEXT'], ['shipments_status', 'TEXT']], inference_instance_type='ml.m5.large', source_model_inference_content_types=['text/csv'], source_model_inference_response_types=['application/json'], source_model_inference_output_variable_list={'calibrated-score': 'NUMERIC', 'custom-output-label': 'TEXT', 'legacy-score': 'NUMERIC'}),\n",
       " 'TabularPreprocessing_calibration': TabularPreprocessingConfig(author='lukexie', bucket='sandboxdependency-abuse-secureaisandboxteamshare-1l77v9am252um', role='arn:aws:iam::601857636239:role/SandboxRole-lukexie-us-east-1', region='NA', service_name='AtoZ', pipeline_version='1.3.1', model_class='xgboost', current_date='2025-09-21', framework_version='1.7-1', py_version='py3', source_dir='/home/ec2-user/SageMaker/Cursus/dockers/xgboost_atoz', processing_instance_count=1, processing_volume_size=500, processing_instance_type_large='ml.m5.12xlarge', processing_instance_type_small='ml.m5.4xlarge', use_large_processing_instance=False, processing_source_dir='/home/ec2-user/SageMaker/Cursus/dockers/xgboost_atoz/scripts', processing_entry_point='tabular_preprocessing.py', processing_script_arguments=None, processing_framework_version='1.2-1', label_name='is_abuse', job_type='calibration', train_ratio=0.7, test_val_ratio=0.5),\n",
       " 'TabularPreprocessing_training': TabularPreprocessingConfig(author='lukexie', bucket='sandboxdependency-abuse-secureaisandboxteamshare-1l77v9am252um', role='arn:aws:iam::601857636239:role/SandboxRole-lukexie-us-east-1', region='NA', service_name='AtoZ', pipeline_version='1.3.1', model_class='xgboost', current_date='2025-09-21', framework_version='1.7-1', py_version='py3', source_dir='/home/ec2-user/SageMaker/Cursus/dockers/xgboost_atoz', processing_instance_count=1, processing_volume_size=500, processing_instance_type_large='ml.m5.12xlarge', processing_instance_type_small='ml.m5.4xlarge', use_large_processing_instance=True, processing_source_dir='/home/ec2-user/SageMaker/Cursus/dockers/xgboost_atoz/scripts', processing_entry_point='tabular_preprocessing.py', processing_script_arguments=None, processing_framework_version='1.2-1', label_name='is_abuse', job_type='training', train_ratio=0.7, test_val_ratio=0.5),\n",
       " 'XGBoostModelEval_calibration': XGBoostModelEvalConfig(author='lukexie', bucket='sandboxdependency-abuse-secureaisandboxteamshare-1l77v9am252um', role='arn:aws:iam::601857636239:role/SandboxRole-lukexie-us-east-1', region='NA', service_name='AtoZ', pipeline_version='1.3.1', model_class='xgboost', current_date='2025-09-21', framework_version='1.7-1', py_version='py3', source_dir='/home/ec2-user/SageMaker/Cursus/dockers/xgboost_atoz', processing_instance_count=1, processing_volume_size=500, processing_instance_type_large='ml.m5.12xlarge', processing_instance_type_small='ml.m5.4xlarge', use_large_processing_instance=True, processing_source_dir='/home/ec2-user/SageMaker/Cursus/dockers/xgboost_atoz', processing_entry_point='xgboost_model_evaluation.py', processing_script_arguments=None, processing_framework_version='1.2-1', hyperparameters=XGBoostModelHyperparameters(full_field_list=['Abuse.abuse_fap_action_by_customer_inline_transform_na.n_claims_solicit_count_last_365_days', 'Abuse.abuse_fap_action_by_customer_inline_transform_na.n_claims_warn_count_last_365_days', 'Abuse.abuse_fap_action_by_customer_inline_transform_na.n_concession_solicit_count_last_365_days', 'Abuse.abuse_fap_action_by_customer_inline_transform_na.n_concession_warn_count_last_365_days', 'Abuse.bsm_stats_for_evaluated_mfn_concessions_by_customer_na.n_max_buyer_order_message_time_gap', 'Abuse.bsm_stats_for_evaluated_mfn_concessions_by_customer_na.n_max_order_message_time_gap', 'Abuse.bsm_stats_for_evaluated_mfn_concessions_by_customer_na.n_max_seller_order_message_time_gap', 'Abuse.bsm_stats_for_evaluated_mfn_concessions_by_customer_na.n_message_count_with_diff_topic_si', 'Abuse.bsm_stats_for_evaluated_mfn_concessions_by_customer_na.n_message_count_with_notr_topic_si', 'Abuse.bsm_stats_for_evaluated_mfn_concessions_by_customer_na.n_message_count_with_return_keywords_si', 'Abuse.bsm_stats_for_evaluated_mfn_concessions_by_customer_na.n_min_buyer_message_count', 'Abuse.bsm_stats_for_evaluated_mfn_concessions_by_customer_na.n_min_buyer_order_message_time_gap', 'Abuse.bsm_stats_for_evaluated_mfn_concessions_by_customer_na.n_min_message_count', 'Abuse.bsm_stats_for_evaluated_mfn_concessions_by_customer_na.n_min_order_message_time_gap', 'Abuse.bsm_stats_for_evaluated_mfn_concessions_by_customer_na.n_min_seller_message_count', 'Abuse.bsm_stats_for_evaluated_mfn_concessions_by_customer_na.n_min_seller_order_message_time_gap', 'Abuse.bsm_stats_for_evaluated_mfn_concessions_by_customer_na.n_total_buyer_message_count', 'Abuse.bsm_stats_for_evaluated_mfn_concessions_by_customer_na.n_total_message_count', 'Abuse.bsm_stats_for_evaluated_mfn_concessions_by_customer_na.n_total_seller_message_count', 'Abuse.bsm_stats_for_evaluated_mfn_concessions_by_customer_na.n_total_topic_count', 'Abuse.completed_afn_orders_by_customer_marketplace.n_afn_order_count_last_365_days', 'Abuse.completed_afn_orders_by_customer_marketplace.n_afn_unit_amount_last_365_days', 'Abuse.completed_afn_orders_by_customer_marketplace.n_afn_unit_count_last_365_days', 'Abuse.completed_mfn_orders_by_customer_marketplace.n_mfn_order_count_last_365_days', 'Abuse.completed_mfn_orders_by_customer_marketplace.n_mfn_unit_amount_last_365_days', 'Abuse.completed_mfn_orders_by_customer_marketplace.n_mfn_unit_count_last_365_days', 'Abuse.dnr_by_customer_marketplace.n_dnr_amount_si_last_365_days', 'Abuse.dnr_by_customer_marketplace.n_dnr_order_count_last_365_days', 'Abuse.dnr_by_customer_marketplace.n_dnr_unit_amount_last_365_days', 'Abuse.dnr_by_customer_marketplace.n_dnr_unit_count_last_365_days', 'Abuse.mfn_a2z_claims_by_customer_na.n_mfn_claims_amount_last_365_days', 'Abuse.mfn_a2z_claims_by_customer_na.n_mfn_claims_count_last_365_days', 'Abuse.mfn_a2z_claims_by_customer_na.n_mfn_diff_claims_amount_last_365_days', 'Abuse.mfn_a2z_claims_by_customer_na.n_mfn_diff_claims_count_last_365_days', 'Abuse.mfn_a2z_claims_by_customer_na.n_mfn_notr_claims_amount_last_365_days', 'Abuse.mfn_a2z_claims_by_customer_na.n_mfn_notr_claims_count_last_365_days', 'Abuse.mfn_categorized_refunds_by_customer_marketplace.n_mfn_diff_refunds_order_count_last_365_days', 'Abuse.mfn_categorized_refunds_by_customer_marketplace.n_mfn_diff_refunds_unit_amount_last_365_days', 'Abuse.mfn_categorized_refunds_by_customer_marketplace.n_mfn_diff_refunds_unit_count_last_365_days', 'Abuse.mfn_categorized_refunds_by_customer_marketplace.n_mfn_notr_refunds_order_count_last_365_days', 'Abuse.mfn_categorized_refunds_by_customer_marketplace.n_mfn_notr_refunds_unit_amount_last_365_days', 'Abuse.mfn_categorized_refunds_by_customer_marketplace.n_mfn_notr_refunds_unit_count_last_365_days', 'Abuse.mfn_categorized_refunds_si_by_customer_marketplace.n_mfn_diff_refunds_si_365_days', 'Abuse.mfn_categorized_refunds_si_by_customer_marketplace.n_mfn_notr_refunds_si_365_days', 'Abuse.mfn_refunds_by_customer_marketplace.n_mfn_refund_order_count_last_365_days', 'Abuse.mfn_refunds_by_customer_marketplace.n_mfn_refund_unit_amount_last_365_days', 'Abuse.mfn_refunds_by_customer_marketplace.n_mfn_refund_unit_count_last_365_days', 'Abuse.mfn_refunds_si_by_customer_marketplace.n_mfn_refund_amount_si_last_365_days', 'Abuse.order_to_execution_time_from_eventvariables.n_order_to_execution', 'Abuse.shiptrack_flag_by_order.n_any_delivered', 'Abuse.shiptrack_flag_by_order.n_any_available_for_pickup', 'Abuse.shiptrack_flag_by_order.n_any_partial_delivered', 'Abuse.shiptrack_flag_by_order.n_any_undeliverable', 'Abuse.shiptrack_flag_by_order.n_any_returning', 'Abuse.shiptrack_flag_by_order.n_any_returned', 'COMP_DAYOB', 'PAYMETH', 'claimAmount_value', 'claim_reason', 'claimantInfo_allClaimCount365day', 'claimantInfo_lifetimeClaimCount', 'claimantInfo_pendingClaimCount', 'claimantInfo_status', 'shipments_status', 'order_id', 'marketplace_id', 'is_abuse'], cat_field_list=['PAYMETH', 'claim_reason', 'claimantInfo_status', 'shipments_status'], tab_field_list=['Abuse.abuse_fap_action_by_customer_inline_transform_na.n_claims_solicit_count_last_365_days', 'Abuse.abuse_fap_action_by_customer_inline_transform_na.n_claims_warn_count_last_365_days', 'Abuse.abuse_fap_action_by_customer_inline_transform_na.n_concession_solicit_count_last_365_days', 'Abuse.abuse_fap_action_by_customer_inline_transform_na.n_concession_warn_count_last_365_days', 'Abuse.bsm_stats_for_evaluated_mfn_concessions_by_customer_na.n_max_buyer_order_message_time_gap', 'Abuse.bsm_stats_for_evaluated_mfn_concessions_by_customer_na.n_max_order_message_time_gap', 'Abuse.bsm_stats_for_evaluated_mfn_concessions_by_customer_na.n_max_seller_order_message_time_gap', 'Abuse.bsm_stats_for_evaluated_mfn_concessions_by_customer_na.n_message_count_with_diff_topic_si', 'Abuse.bsm_stats_for_evaluated_mfn_concessions_by_customer_na.n_message_count_with_notr_topic_si', 'Abuse.bsm_stats_for_evaluated_mfn_concessions_by_customer_na.n_message_count_with_return_keywords_si', 'Abuse.bsm_stats_for_evaluated_mfn_concessions_by_customer_na.n_min_buyer_message_count', 'Abuse.bsm_stats_for_evaluated_mfn_concessions_by_customer_na.n_min_buyer_order_message_time_gap', 'Abuse.bsm_stats_for_evaluated_mfn_concessions_by_customer_na.n_min_message_count', 'Abuse.bsm_stats_for_evaluated_mfn_concessions_by_customer_na.n_min_order_message_time_gap', 'Abuse.bsm_stats_for_evaluated_mfn_concessions_by_customer_na.n_min_seller_message_count', 'Abuse.bsm_stats_for_evaluated_mfn_concessions_by_customer_na.n_min_seller_order_message_time_gap', 'Abuse.bsm_stats_for_evaluated_mfn_concessions_by_customer_na.n_total_buyer_message_count', 'Abuse.bsm_stats_for_evaluated_mfn_concessions_by_customer_na.n_total_message_count', 'Abuse.bsm_stats_for_evaluated_mfn_concessions_by_customer_na.n_total_seller_message_count', 'Abuse.bsm_stats_for_evaluated_mfn_concessions_by_customer_na.n_total_topic_count', 'Abuse.completed_afn_orders_by_customer_marketplace.n_afn_order_count_last_365_days', 'Abuse.completed_afn_orders_by_customer_marketplace.n_afn_unit_amount_last_365_days', 'Abuse.completed_afn_orders_by_customer_marketplace.n_afn_unit_count_last_365_days', 'Abuse.completed_mfn_orders_by_customer_marketplace.n_mfn_order_count_last_365_days', 'Abuse.completed_mfn_orders_by_customer_marketplace.n_mfn_unit_amount_last_365_days', 'Abuse.completed_mfn_orders_by_customer_marketplace.n_mfn_unit_count_last_365_days', 'Abuse.dnr_by_customer_marketplace.n_dnr_amount_si_last_365_days', 'Abuse.dnr_by_customer_marketplace.n_dnr_order_count_last_365_days', 'Abuse.dnr_by_customer_marketplace.n_dnr_unit_amount_last_365_days', 'Abuse.dnr_by_customer_marketplace.n_dnr_unit_count_last_365_days', 'Abuse.mfn_a2z_claims_by_customer_na.n_mfn_claims_amount_last_365_days', 'Abuse.mfn_a2z_claims_by_customer_na.n_mfn_claims_count_last_365_days', 'Abuse.mfn_a2z_claims_by_customer_na.n_mfn_diff_claims_amount_last_365_days', 'Abuse.mfn_a2z_claims_by_customer_na.n_mfn_diff_claims_count_last_365_days', 'Abuse.mfn_a2z_claims_by_customer_na.n_mfn_notr_claims_amount_last_365_days', 'Abuse.mfn_a2z_claims_by_customer_na.n_mfn_notr_claims_count_last_365_days', 'Abuse.mfn_categorized_refunds_by_customer_marketplace.n_mfn_diff_refunds_order_count_last_365_days', 'Abuse.mfn_categorized_refunds_by_customer_marketplace.n_mfn_diff_refunds_unit_amount_last_365_days', 'Abuse.mfn_categorized_refunds_by_customer_marketplace.n_mfn_diff_refunds_unit_count_last_365_days', 'Abuse.mfn_categorized_refunds_by_customer_marketplace.n_mfn_notr_refunds_order_count_last_365_days', 'Abuse.mfn_categorized_refunds_by_customer_marketplace.n_mfn_notr_refunds_unit_amount_last_365_days', 'Abuse.mfn_categorized_refunds_by_customer_marketplace.n_mfn_notr_refunds_unit_count_last_365_days', 'Abuse.mfn_categorized_refunds_si_by_customer_marketplace.n_mfn_diff_refunds_si_365_days', 'Abuse.mfn_categorized_refunds_si_by_customer_marketplace.n_mfn_notr_refunds_si_365_days', 'Abuse.mfn_refunds_by_customer_marketplace.n_mfn_refund_order_count_last_365_days', 'Abuse.mfn_refunds_by_customer_marketplace.n_mfn_refund_unit_amount_last_365_days', 'Abuse.mfn_refunds_by_customer_marketplace.n_mfn_refund_unit_count_last_365_days', 'Abuse.mfn_refunds_si_by_customer_marketplace.n_mfn_refund_amount_si_last_365_days', 'Abuse.order_to_execution_time_from_eventvariables.n_order_to_execution', 'Abuse.shiptrack_flag_by_order.n_any_delivered', 'Abuse.shiptrack_flag_by_order.n_any_available_for_pickup', 'Abuse.shiptrack_flag_by_order.n_any_partial_delivered', 'Abuse.shiptrack_flag_by_order.n_any_undeliverable', 'Abuse.shiptrack_flag_by_order.n_any_returning', 'Abuse.shiptrack_flag_by_order.n_any_returned', 'COMP_DAYOB', 'claimAmount_value', 'claimantInfo_allClaimCount365day', 'claimantInfo_lifetimeClaimCount', 'claimantInfo_pendingClaimCount'], id_name='order_id', label_name='is_abuse', multiclass_categories=[0, 1], categorical_features_to_encode=[], model_class='base_model', device=-1, header=0, lr=3e-05, batch_size=2, max_epochs=3, metric_choices=['f1_score', 'auroc'], optimizer='SGD', class_weights=[1.0, 1.0], num_round=300, max_depth=6, min_child_weight=1.0, booster='gbtree', eta=0.3, gamma=0.0, max_delta_step=0.0, subsample=1.0, colsample_bytree=1.0, colsample_bylevel=1.0, colsample_bynode=1.0, lambda_xgb=1.0, alpha_xgb=0.0, tree_method='auto', sketch_eps=None, scale_pos_weight=1.0, num_parallel_tree=None, base_score=None, seed=None, early_stopping_rounds=None), job_type='calibration', eval_metric_choices=['auc', 'average_precision', 'f1_score'], xgboost_framework_version='1.7-1'),\n",
       " 'XGBoostTraining': XGBoostTrainingConfig(author='lukexie', bucket='sandboxdependency-abuse-secureaisandboxteamshare-1l77v9am252um', role='arn:aws:iam::601857636239:role/SandboxRole-lukexie-us-east-1', region='NA', service_name='AtoZ', pipeline_version='1.3.1', model_class='xgboost', current_date='2025-09-21', framework_version='1.7-1', py_version='py3', source_dir='/home/ec2-user/SageMaker/Cursus/dockers/xgboost_atoz', training_entry_point='xgboost_training.py', hyperparameters=XGBoostModelHyperparameters(full_field_list=['Abuse.abuse_fap_action_by_customer_inline_transform_na.n_claims_solicit_count_last_365_days', 'Abuse.abuse_fap_action_by_customer_inline_transform_na.n_claims_warn_count_last_365_days', 'Abuse.abuse_fap_action_by_customer_inline_transform_na.n_concession_solicit_count_last_365_days', 'Abuse.abuse_fap_action_by_customer_inline_transform_na.n_concession_warn_count_last_365_days', 'Abuse.bsm_stats_for_evaluated_mfn_concessions_by_customer_na.n_max_buyer_order_message_time_gap', 'Abuse.bsm_stats_for_evaluated_mfn_concessions_by_customer_na.n_max_order_message_time_gap', 'Abuse.bsm_stats_for_evaluated_mfn_concessions_by_customer_na.n_max_seller_order_message_time_gap', 'Abuse.bsm_stats_for_evaluated_mfn_concessions_by_customer_na.n_message_count_with_diff_topic_si', 'Abuse.bsm_stats_for_evaluated_mfn_concessions_by_customer_na.n_message_count_with_notr_topic_si', 'Abuse.bsm_stats_for_evaluated_mfn_concessions_by_customer_na.n_message_count_with_return_keywords_si', 'Abuse.bsm_stats_for_evaluated_mfn_concessions_by_customer_na.n_min_buyer_message_count', 'Abuse.bsm_stats_for_evaluated_mfn_concessions_by_customer_na.n_min_buyer_order_message_time_gap', 'Abuse.bsm_stats_for_evaluated_mfn_concessions_by_customer_na.n_min_message_count', 'Abuse.bsm_stats_for_evaluated_mfn_concessions_by_customer_na.n_min_order_message_time_gap', 'Abuse.bsm_stats_for_evaluated_mfn_concessions_by_customer_na.n_min_seller_message_count', 'Abuse.bsm_stats_for_evaluated_mfn_concessions_by_customer_na.n_min_seller_order_message_time_gap', 'Abuse.bsm_stats_for_evaluated_mfn_concessions_by_customer_na.n_total_buyer_message_count', 'Abuse.bsm_stats_for_evaluated_mfn_concessions_by_customer_na.n_total_message_count', 'Abuse.bsm_stats_for_evaluated_mfn_concessions_by_customer_na.n_total_seller_message_count', 'Abuse.bsm_stats_for_evaluated_mfn_concessions_by_customer_na.n_total_topic_count', 'Abuse.completed_afn_orders_by_customer_marketplace.n_afn_order_count_last_365_days', 'Abuse.completed_afn_orders_by_customer_marketplace.n_afn_unit_amount_last_365_days', 'Abuse.completed_afn_orders_by_customer_marketplace.n_afn_unit_count_last_365_days', 'Abuse.completed_mfn_orders_by_customer_marketplace.n_mfn_order_count_last_365_days', 'Abuse.completed_mfn_orders_by_customer_marketplace.n_mfn_unit_amount_last_365_days', 'Abuse.completed_mfn_orders_by_customer_marketplace.n_mfn_unit_count_last_365_days', 'Abuse.dnr_by_customer_marketplace.n_dnr_amount_si_last_365_days', 'Abuse.dnr_by_customer_marketplace.n_dnr_order_count_last_365_days', 'Abuse.dnr_by_customer_marketplace.n_dnr_unit_amount_last_365_days', 'Abuse.dnr_by_customer_marketplace.n_dnr_unit_count_last_365_days', 'Abuse.mfn_a2z_claims_by_customer_na.n_mfn_claims_amount_last_365_days', 'Abuse.mfn_a2z_claims_by_customer_na.n_mfn_claims_count_last_365_days', 'Abuse.mfn_a2z_claims_by_customer_na.n_mfn_diff_claims_amount_last_365_days', 'Abuse.mfn_a2z_claims_by_customer_na.n_mfn_diff_claims_count_last_365_days', 'Abuse.mfn_a2z_claims_by_customer_na.n_mfn_notr_claims_amount_last_365_days', 'Abuse.mfn_a2z_claims_by_customer_na.n_mfn_notr_claims_count_last_365_days', 'Abuse.mfn_categorized_refunds_by_customer_marketplace.n_mfn_diff_refunds_order_count_last_365_days', 'Abuse.mfn_categorized_refunds_by_customer_marketplace.n_mfn_diff_refunds_unit_amount_last_365_days', 'Abuse.mfn_categorized_refunds_by_customer_marketplace.n_mfn_diff_refunds_unit_count_last_365_days', 'Abuse.mfn_categorized_refunds_by_customer_marketplace.n_mfn_notr_refunds_order_count_last_365_days', 'Abuse.mfn_categorized_refunds_by_customer_marketplace.n_mfn_notr_refunds_unit_amount_last_365_days', 'Abuse.mfn_categorized_refunds_by_customer_marketplace.n_mfn_notr_refunds_unit_count_last_365_days', 'Abuse.mfn_categorized_refunds_si_by_customer_marketplace.n_mfn_diff_refunds_si_365_days', 'Abuse.mfn_categorized_refunds_si_by_customer_marketplace.n_mfn_notr_refunds_si_365_days', 'Abuse.mfn_refunds_by_customer_marketplace.n_mfn_refund_order_count_last_365_days', 'Abuse.mfn_refunds_by_customer_marketplace.n_mfn_refund_unit_amount_last_365_days', 'Abuse.mfn_refunds_by_customer_marketplace.n_mfn_refund_unit_count_last_365_days', 'Abuse.mfn_refunds_si_by_customer_marketplace.n_mfn_refund_amount_si_last_365_days', 'Abuse.order_to_execution_time_from_eventvariables.n_order_to_execution', 'Abuse.shiptrack_flag_by_order.n_any_delivered', 'Abuse.shiptrack_flag_by_order.n_any_available_for_pickup', 'Abuse.shiptrack_flag_by_order.n_any_partial_delivered', 'Abuse.shiptrack_flag_by_order.n_any_undeliverable', 'Abuse.shiptrack_flag_by_order.n_any_returning', 'Abuse.shiptrack_flag_by_order.n_any_returned', 'COMP_DAYOB', 'PAYMETH', 'claimAmount_value', 'claim_reason', 'claimantInfo_allClaimCount365day', 'claimantInfo_lifetimeClaimCount', 'claimantInfo_pendingClaimCount', 'claimantInfo_status', 'shipments_status', 'order_id', 'marketplace_id', 'is_abuse'], cat_field_list=['PAYMETH', 'claim_reason', 'claimantInfo_status', 'shipments_status'], tab_field_list=['Abuse.abuse_fap_action_by_customer_inline_transform_na.n_claims_solicit_count_last_365_days', 'Abuse.abuse_fap_action_by_customer_inline_transform_na.n_claims_warn_count_last_365_days', 'Abuse.abuse_fap_action_by_customer_inline_transform_na.n_concession_solicit_count_last_365_days', 'Abuse.abuse_fap_action_by_customer_inline_transform_na.n_concession_warn_count_last_365_days', 'Abuse.bsm_stats_for_evaluated_mfn_concessions_by_customer_na.n_max_buyer_order_message_time_gap', 'Abuse.bsm_stats_for_evaluated_mfn_concessions_by_customer_na.n_max_order_message_time_gap', 'Abuse.bsm_stats_for_evaluated_mfn_concessions_by_customer_na.n_max_seller_order_message_time_gap', 'Abuse.bsm_stats_for_evaluated_mfn_concessions_by_customer_na.n_message_count_with_diff_topic_si', 'Abuse.bsm_stats_for_evaluated_mfn_concessions_by_customer_na.n_message_count_with_notr_topic_si', 'Abuse.bsm_stats_for_evaluated_mfn_concessions_by_customer_na.n_message_count_with_return_keywords_si', 'Abuse.bsm_stats_for_evaluated_mfn_concessions_by_customer_na.n_min_buyer_message_count', 'Abuse.bsm_stats_for_evaluated_mfn_concessions_by_customer_na.n_min_buyer_order_message_time_gap', 'Abuse.bsm_stats_for_evaluated_mfn_concessions_by_customer_na.n_min_message_count', 'Abuse.bsm_stats_for_evaluated_mfn_concessions_by_customer_na.n_min_order_message_time_gap', 'Abuse.bsm_stats_for_evaluated_mfn_concessions_by_customer_na.n_min_seller_message_count', 'Abuse.bsm_stats_for_evaluated_mfn_concessions_by_customer_na.n_min_seller_order_message_time_gap', 'Abuse.bsm_stats_for_evaluated_mfn_concessions_by_customer_na.n_total_buyer_message_count', 'Abuse.bsm_stats_for_evaluated_mfn_concessions_by_customer_na.n_total_message_count', 'Abuse.bsm_stats_for_evaluated_mfn_concessions_by_customer_na.n_total_seller_message_count', 'Abuse.bsm_stats_for_evaluated_mfn_concessions_by_customer_na.n_total_topic_count', 'Abuse.completed_afn_orders_by_customer_marketplace.n_afn_order_count_last_365_days', 'Abuse.completed_afn_orders_by_customer_marketplace.n_afn_unit_amount_last_365_days', 'Abuse.completed_afn_orders_by_customer_marketplace.n_afn_unit_count_last_365_days', 'Abuse.completed_mfn_orders_by_customer_marketplace.n_mfn_order_count_last_365_days', 'Abuse.completed_mfn_orders_by_customer_marketplace.n_mfn_unit_amount_last_365_days', 'Abuse.completed_mfn_orders_by_customer_marketplace.n_mfn_unit_count_last_365_days', 'Abuse.dnr_by_customer_marketplace.n_dnr_amount_si_last_365_days', 'Abuse.dnr_by_customer_marketplace.n_dnr_order_count_last_365_days', 'Abuse.dnr_by_customer_marketplace.n_dnr_unit_amount_last_365_days', 'Abuse.dnr_by_customer_marketplace.n_dnr_unit_count_last_365_days', 'Abuse.mfn_a2z_claims_by_customer_na.n_mfn_claims_amount_last_365_days', 'Abuse.mfn_a2z_claims_by_customer_na.n_mfn_claims_count_last_365_days', 'Abuse.mfn_a2z_claims_by_customer_na.n_mfn_diff_claims_amount_last_365_days', 'Abuse.mfn_a2z_claims_by_customer_na.n_mfn_diff_claims_count_last_365_days', 'Abuse.mfn_a2z_claims_by_customer_na.n_mfn_notr_claims_amount_last_365_days', 'Abuse.mfn_a2z_claims_by_customer_na.n_mfn_notr_claims_count_last_365_days', 'Abuse.mfn_categorized_refunds_by_customer_marketplace.n_mfn_diff_refunds_order_count_last_365_days', 'Abuse.mfn_categorized_refunds_by_customer_marketplace.n_mfn_diff_refunds_unit_amount_last_365_days', 'Abuse.mfn_categorized_refunds_by_customer_marketplace.n_mfn_diff_refunds_unit_count_last_365_days', 'Abuse.mfn_categorized_refunds_by_customer_marketplace.n_mfn_notr_refunds_order_count_last_365_days', 'Abuse.mfn_categorized_refunds_by_customer_marketplace.n_mfn_notr_refunds_unit_amount_last_365_days', 'Abuse.mfn_categorized_refunds_by_customer_marketplace.n_mfn_notr_refunds_unit_count_last_365_days', 'Abuse.mfn_categorized_refunds_si_by_customer_marketplace.n_mfn_diff_refunds_si_365_days', 'Abuse.mfn_categorized_refunds_si_by_customer_marketplace.n_mfn_notr_refunds_si_365_days', 'Abuse.mfn_refunds_by_customer_marketplace.n_mfn_refund_order_count_last_365_days', 'Abuse.mfn_refunds_by_customer_marketplace.n_mfn_refund_unit_amount_last_365_days', 'Abuse.mfn_refunds_by_customer_marketplace.n_mfn_refund_unit_count_last_365_days', 'Abuse.mfn_refunds_si_by_customer_marketplace.n_mfn_refund_amount_si_last_365_days', 'Abuse.order_to_execution_time_from_eventvariables.n_order_to_execution', 'Abuse.shiptrack_flag_by_order.n_any_delivered', 'Abuse.shiptrack_flag_by_order.n_any_available_for_pickup', 'Abuse.shiptrack_flag_by_order.n_any_partial_delivered', 'Abuse.shiptrack_flag_by_order.n_any_undeliverable', 'Abuse.shiptrack_flag_by_order.n_any_returning', 'Abuse.shiptrack_flag_by_order.n_any_returned', 'COMP_DAYOB', 'claimAmount_value', 'claimantInfo_allClaimCount365day', 'claimantInfo_lifetimeClaimCount', 'claimantInfo_pendingClaimCount'], id_name='order_id', label_name='is_abuse', multiclass_categories=[0, 1], categorical_features_to_encode=[], model_class='base_model', device=-1, header=0, lr=3e-05, batch_size=2, max_epochs=3, metric_choices=['f1_score', 'auroc'], optimizer='SGD', class_weights=[1.0, 1.0], num_round=300, max_depth=6, min_child_weight=1.0, booster='gbtree', eta=0.3, gamma=0.0, max_delta_step=0.0, subsample=1.0, colsample_bytree=1.0, colsample_bylevel=1.0, colsample_bynode=1.0, lambda_xgb=1.0, alpha_xgb=0.0, tree_method='auto', sketch_eps=None, scale_pos_weight=1.0, num_parallel_tree=None, base_score=None, seed=None, early_stopping_rounds=None), training_instance_type='ml.m5.12xlarge', training_instance_count=1, training_volume_size=800)}"
      ]
     },
     "execution_count": 51,
     "metadata": {},
     "output_type": "execute_result"
    }
   ],
   "source": [
    "loaded_configs"
   ]
  },
  {
   "cell_type": "code",
   "execution_count": 52,
   "id": "9bf71f23-b2af-4c1c-852a-7f53f538a896",
   "metadata": {},
   "outputs": [
    {
     "data": {
      "text/plain": [
       "12"
      ]
     },
     "execution_count": 52,
     "metadata": {},
     "output_type": "execute_result"
    }
   ],
   "source": [
    "len(loaded_configs)"
   ]
  },
  {
   "cell_type": "code",
   "execution_count": 53,
   "id": "10d3c8a6-a822-483b-be8b-2cacd1a8326f",
   "metadata": {},
   "outputs": [
    {
     "data": {
      "text/plain": [
       "['Base',\n",
       " 'CradleDataLoading_calibration',\n",
       " 'CradleDataLoading_training',\n",
       " 'ModelCalibration_calibration',\n",
       " 'Package',\n",
       " 'Payload',\n",
       " 'Processing',\n",
       " 'Registration',\n",
       " 'TabularPreprocessing_calibration',\n",
       " 'TabularPreprocessing_training',\n",
       " 'XGBoostModelEval_calibration',\n",
       " 'XGBoostTraining']"
      ]
     },
     "execution_count": 53,
     "metadata": {},
     "output_type": "execute_result"
    }
   ],
   "source": [
    "[str(k) for k in loaded_configs.keys()]"
   ]
  },
  {
   "cell_type": "code",
   "execution_count": 54,
   "id": "c406dc5a-2e6e-40b4-981f-bf23c7dd1285",
   "metadata": {},
   "outputs": [
    {
     "data": {
      "text/plain": [
       "BasePipelineConfig(author='lukexie', bucket='sandboxdependency-abuse-secureaisandboxteamshare-1l77v9am252um', role='arn:aws:iam::601857636239:role/SandboxRole-lukexie-us-east-1', region='NA', service_name='AtoZ', pipeline_version='1.3.1', model_class='xgboost', current_date='2025-09-21', framework_version='1.7-1', py_version='py3', source_dir='/home/ec2-user/SageMaker/Cursus/dockers/xgboost_atoz')"
      ]
     },
     "execution_count": 54,
     "metadata": {},
     "output_type": "execute_result"
    }
   ],
   "source": [
    "base_config = loaded_configs['Base']\n",
    "base_config"
   ]
  },
  {
   "cell_type": "code",
   "execution_count": null,
   "id": "8e76a613-f5a2-4008-9c08-85ec25077883",
   "metadata": {},
   "outputs": [],
   "source": []
  },
  {
   "cell_type": "code",
   "execution_count": null,
   "id": "1e42b028-085e-43d4-9fed-767174934670",
   "metadata": {},
   "outputs": [],
   "source": []
  },
  {
   "cell_type": "markdown",
   "id": "8b04ac28-360a-4886-a447-332884b77a74",
   "metadata": {
    "tags": []
   },
   "source": [
    "## Import Packages"
   ]
  },
  {
   "cell_type": "code",
   "execution_count": 55,
   "id": "66e6a4d8-728e-4376-ab5d-5c1fb1659679",
   "metadata": {},
   "outputs": [],
   "source": [
    "from abc import ABC, abstractmethod\n",
    "from typing import Dict, List, Any, Optional, Type\n",
    "from pathlib import Path\n",
    "import logging\n",
    "import os\n",
    "import importlib"
   ]
  },
  {
   "cell_type": "code",
   "execution_count": 56,
   "id": "f7cf7f72-1ff6-4614-843c-d1c8e20e90e5",
   "metadata": {
    "tags": []
   },
   "outputs": [],
   "source": [
    "import sagemaker\n",
    "from sagemaker import Session, TrainingInput\n",
    "from sagemaker import image_uris, model_uris, script_uris\n",
    "from sagemaker.processing import ProcessingOutput, ProcessingInput, FrameworkProcessor\n",
    "from sagemaker.sklearn import SKLearnProcessor, SKLearn\n",
    "from sagemaker.workflow.pipeline import Pipeline\n",
    "from sagemaker.workflow.parameters import ParameterString\n",
    "from sagemaker.image_uris import retrieve\n",
    "from sagemaker.sklearn import SKLearnProcessor\n",
    "from sagemaker.workflow.steps import CacheConfig  # Add this import\n",
    "from sagemaker.workflow.model_step import ModelStep\n",
    "from sagemaker.workflow.steps import (\n",
    "    ProcessingStep,\n",
    "    TrainingStep,\n",
    "    TuningStep,\n",
    "    TransformStep,\n",
    "    Step\n",
    ")\n",
    "from sagemaker.workflow.parameters import Parameter\n",
    "from sagemaker.workflow.properties import Properties\n",
    "from sagemaker.workflow.pipeline_context import PipelineSession # Crucial import"
   ]
  },
  {
   "cell_type": "code",
   "execution_count": null,
   "id": "687beff8-d4b1-4eca-80cd-9921ab83e616",
   "metadata": {},
   "outputs": [],
   "source": []
  },
  {
   "cell_type": "markdown",
   "id": "8a592b27-47d1-424f-a6ae-fbd5a668608c",
   "metadata": {},
   "source": [
    "### MODS and SAIS Python SDK"
   ]
  },
  {
   "cell_type": "code",
   "execution_count": 57,
   "id": "61db44cd-2b2d-4baf-b7a7-527dcf3b364d",
   "metadata": {
    "tags": []
   },
   "outputs": [],
   "source": [
    "from mods.mods_template import MODSTemplate\n"
   ]
  },
  {
   "cell_type": "code",
   "execution_count": 58,
   "id": "9e974094-cc98-4e78-b189-91369b5011a7",
   "metadata": {},
   "outputs": [],
   "source": [
    "from secure_ai_sandbox_workflow_python_sdk.mims_model_registration.mims_model_registration_processing_step import (\n",
    "    MimsModelRegistrationProcessingStep,\n",
    ")\n",
    "from secure_ai_sandbox_workflow_python_sdk.cradle_data_loading.cradle_data_loading_step import (\n",
    "    CradleDataLoadingStep,\n",
    ")\n",
    "from mods_workflow_core.utils.constants import (\n",
    "    PIPELINE_EXECUTION_TEMP_DIR,\n",
    "    KMS_ENCRYPTION_KEY_PARAM,\n",
    "    PROCESSING_JOB_SHARED_NETWORK_CONFIG,\n",
    "    SECURITY_GROUP_ID,\n",
    "    VPC_SUBNET,\n",
    ")\n",
    "from secure_ai_sandbox_workflow_python_sdk.model_performance_evaluation.model_performance_evaluation_step import (\n",
    "    ModelPerformanceEvaluationStep,\n",
    ")\n",
    "\n",
    "from sagemaker.workflow.lambda_step import LambdaStep, LambdaOutput, LambdaOutputTypeEnum\n",
    "\n",
    "from secure_ai_sandbox_workflow_python_sdk.model_performance_evaluation.model_performance_evaluation_processor import (\n",
    "    ModelPerformanceEvaluationProcessor,\n",
    ")\n",
    "from secure_ai_sandbox_workflow_python_sdk.utils.constants import PROCESSOR_DIRECTORY_ROOT"
   ]
  },
  {
   "cell_type": "markdown",
   "id": "c76b6700-76ad-4a73-bdf1-34772866a62e",
   "metadata": {},
   "source": [
    "## [OPTIONAL] Import Internal Packages: \n",
    "\n",
    "### Step Builder"
   ]
  },
  {
   "cell_type": "code",
   "execution_count": 59,
   "id": "aab3b556-f843-4a28-a3bf-00278cc450fb",
   "metadata": {
    "tags": []
   },
   "outputs": [
    {
     "name": "stderr",
     "output_type": "stream",
     "text": [
      "2025-09-21 17:55:43,614 - pipeline_registry.builder_registry - INFO - Registered builder: CradleDataLoading -> CradleDataLoadingStepBuilder\n",
      "2025-09-21 17:55:43,614 - INFO - Registered builder: CradleDataLoading -> CradleDataLoadingStepBuilder\n",
      "2025-09-21 17:55:43,616 - pipeline_registry.builder_registry - INFO - Registered builder: Registration -> RegistrationStepBuilder\n",
      "2025-09-21 17:55:43,616 - INFO - Registered builder: Registration -> RegistrationStepBuilder\n"
     ]
    }
   ],
   "source": [
    "from cursus.core.base.builder_base import StepBuilderBase\n",
    "from cursus.steps.builders.builder_cradle_data_loading_step import CradleDataLoadingStepBuilder\n",
    "from cursus.steps.builders.builder_tabular_preprocessing_step import TabularPreprocessingStepBuilder\n",
    "from cursus.steps.builders.builder_xgboost_training_step import XGBoostTrainingStepBuilder\n",
    "from cursus.steps.builders.builder_model_calibration_step import ModelCalibrationStepBuilder\n",
    "from cursus.steps.builders.builder_xgboost_model_eval_step import XGBoostModelEvalStepBuilder\n",
    "from cursus.steps.builders.builder_package_step import PackageStepBuilder\n",
    "from cursus.steps.builders.builder_payload_step import PayloadStepBuilder\n",
    "from cursus.steps.builders.builder_registration_step import RegistrationStepBuilder"
   ]
  },
  {
   "cell_type": "markdown",
   "id": "a1c35238-d70f-45af-9e57-f1f2aedeb9b9",
   "metadata": {},
   "source": [
    "### Dependency Resolver and Registry Manager"
   ]
  },
  {
   "cell_type": "code",
   "execution_count": 60,
   "id": "75860c43-31ea-4774-a7cb-eb68aadb31e2",
   "metadata": {},
   "outputs": [],
   "source": [
    "from cursus.core.deps.registry_manager import RegistryManager\n",
    "from cursus.core.deps.dependency_resolver import UnifiedDependencyResolver"
   ]
  },
  {
   "cell_type": "markdown",
   "id": "1225f22a-50ec-4c2d-a04b-6ba56398fc52",
   "metadata": {},
   "source": [
    "### Pipeline DAG"
   ]
  },
  {
   "cell_type": "code",
   "execution_count": 61,
   "id": "dd353278-30ef-46e8-afb7-c8a33be37a67",
   "metadata": {
    "tags": []
   },
   "outputs": [],
   "source": [
    "from cursus.api.dag.base_dag import PipelineDAG"
   ]
  },
  {
   "cell_type": "markdown",
   "id": "f54df280-7df4-487a-a7b5-50555d04f790",
   "metadata": {},
   "source": [
    "### Pipeline Template Builder and AbstractPipelineTemplate"
   ]
  },
  {
   "cell_type": "code",
   "execution_count": 62,
   "id": "8e6e924e-bed1-4bec-a1bf-675a7e09166a",
   "metadata": {},
   "outputs": [],
   "source": [
    "from cursus.core.assembler import PipelineAssembler\n",
    "from cursus.core.assembler import PipelineTemplateBase"
   ]
  },
  {
   "cell_type": "markdown",
   "id": "0cbff738-14e3-472a-85c9-150ae68aa7ca",
   "metadata": {},
   "source": [
    "### Pipeline Examples\n",
    "\n",
    "The following are a set of pipeline template examples. We import them for demo purpose"
   ]
  },
  {
   "cell_type": "code",
   "execution_count": 63,
   "id": "ae6a703a-04c9-4dbf-a9bc-33f997054384",
   "metadata": {},
   "outputs": [],
   "source": [
    "#from src.pipeline_builder.template_pipeline_xgboost_train_calibrate_evaluate_e2e import XGBoostTrainCalibrateEvaluateE2ETemplate"
   ]
  },
  {
   "cell_type": "code",
   "execution_count": 64,
   "id": "f337f87d-a209-49ae-b5e2-aa4b8cdaa29d",
   "metadata": {},
   "outputs": [],
   "source": [
    "#from src.pipeline_builder.template_pipeline_xgboost_train_calibrate import XGBoostTrainCalibrateTemplate"
   ]
  },
  {
   "cell_type": "code",
   "execution_count": 65,
   "id": "b3c6b402-91ab-4ad6-830d-42bab623b566",
   "metadata": {},
   "outputs": [],
   "source": [
    "#from src.pipeline_builder.template_pipeline_xgboost_train_evaluate_e2e import XGBoostTrainEvaluateE2ETemplate"
   ]
  },
  {
   "cell_type": "code",
   "execution_count": 66,
   "id": "c2dc5969-5713-46d0-8750-b7e65d6b2c06",
   "metadata": {},
   "outputs": [],
   "source": [
    "#from src.pipeline_builder.template_pipeline_xgboost_train_evaluate_no_registration import XGBoostTrainEvaluateNoRegistrationTemplate"
   ]
  },
  {
   "cell_type": "code",
   "execution_count": 67,
   "id": "e3615b19-fc56-4efe-814c-01d80b39153a",
   "metadata": {},
   "outputs": [],
   "source": [
    "#from src.pipeline_builder.template_pipeline_xgboost_simple import XGBoostSimpleTemplate"
   ]
  },
  {
   "cell_type": "code",
   "execution_count": 68,
   "id": "b0701eee-8c64-43aa-9f5d-2a601306d35f",
   "metadata": {},
   "outputs": [],
   "source": [
    "#from src.pipeline_builder.template_pipeline_xgboost_dataload_preprocess import XGBoostDataloadPreprocessTemplate"
   ]
  },
  {
   "cell_type": "code",
   "execution_count": 69,
   "id": "a5186891-c9b3-4b20-9a87-e0886f7e9129",
   "metadata": {},
   "outputs": [],
   "source": [
    "#from src.pipeline_builder.template_pipeline_cradle_only import CradleOnlyTemplate"
   ]
  },
  {
   "cell_type": "code",
   "execution_count": null,
   "id": "258e6769-95eb-49d1-95c3-b9a43351c2eb",
   "metadata": {},
   "outputs": [],
   "source": []
  },
  {
   "cell_type": "code",
   "execution_count": null,
   "id": "6957b22a-3b2c-47c1-9886-992b8eb6e82e",
   "metadata": {},
   "outputs": [],
   "source": []
  },
  {
   "cell_type": "markdown",
   "id": "1a27354d-00f5-4847-aae7-632d6260a4f7",
   "metadata": {},
   "source": [
    "## Demo: An End-to-End Pipeline based on PipelineDAG Compiler\n",
    "Let us use the following simpler DAG (without registration as example)\n",
    "\n",
    "![mods_pipeline_train_eval_calib](./mods_pipeline_train_eval_calib.png)\n",
    "\n",
    "In this demo there are several user input\n",
    "* the **Unified JSON file** in `config_path`\n",
    "* the **Registry Manager**: an object that handles the map between step logical name to `step.properties`\n",
    "* the **Dependency Resolver**: an object than handles the *automatic dependency resolution* between steps\n",
    "* the other fields\n",
    "    * `sagemaker_session`: pipelne session\n",
    "    * `role`: IAM Role\n",
    "    * `notebook_root`: track the root path \n",
    "\n",
    "\n",
    "In this pipeline template, we inherit from base class `PipelineTemplateBase`. \n",
    "\n",
    "The **major tasks** are\n",
    "* *`Config` Classes Import*\n",
    "* *Configuration Validation*\n",
    "* *Step Builder Retrieval and Step Builder Map Creation*\n",
    "* *Configuration Map Creation*\n",
    "* **Pipeline DAG Generation**: ideally, user should create this DAG and use it as input\n",
    "* **Automatic Pipeline Assemble**: Call `pipeline_assembler`\n"
   ]
  },
  {
   "cell_type": "code",
   "execution_count": 70,
   "id": "574fbdd2-84b3-4c9c-8549-404cb7b44e0e",
   "metadata": {},
   "outputs": [],
   "source": [
    "current_dir = Path.cwd()"
   ]
  },
  {
   "cell_type": "code",
   "execution_count": 71,
   "id": "d3984af3-8bd1-4f7c-a867-b04ff1f29d39",
   "metadata": {
    "tags": []
   },
   "outputs": [
    {
     "data": {
      "text/plain": [
       "PosixPath('/home/ec2-user/SageMaker/Cursus/pipeline_config/config_NA_xgboost_AtoZ_v2/config_NA_xgboost_AtoZ.json')"
      ]
     },
     "execution_count": 71,
     "metadata": {},
     "output_type": "execute_result"
    }
   ],
   "source": [
    "#config_path = Path(current_dir) / 'pipeline_config' / f'config_{region}.json'\n",
    "config_path"
   ]
  },
  {
   "cell_type": "code",
   "execution_count": 72,
   "id": "0b55b47d-580a-4cb5-bfc3-da6816becf09",
   "metadata": {
    "tags": []
   },
   "outputs": [],
   "source": [
    "from sagemaker.image_uris import retrieve"
   ]
  },
  {
   "cell_type": "markdown",
   "id": "ea0d2114-51b1-40db-aafa-e2eb881dbdf5",
   "metadata": {},
   "source": [
    "### Create Registry Manager and Dependency Resolver via Factory"
   ]
  },
  {
   "cell_type": "code",
   "execution_count": 73,
   "id": "b571d45a-6e46-4e1f-9973-5111f6055f8f",
   "metadata": {},
   "outputs": [],
   "source": [
    "from cursus.core.deps.factory import create_pipeline_components"
   ]
  },
  {
   "cell_type": "code",
   "execution_count": 74,
   "id": "10aaa102-7f58-4cd9-bfe7-e1e9284cd41c",
   "metadata": {},
   "outputs": [
    {
     "data": {
      "text/plain": [
       "'lukexie-AtoZ-xgboost-NA'"
      ]
     },
     "execution_count": 74,
     "metadata": {},
     "output_type": "execute_result"
    }
   ],
   "source": [
    "base_config.pipeline_name"
   ]
  },
  {
   "cell_type": "code",
   "execution_count": 75,
   "id": "f32b133b-8810-41be-ae96-d3e3021518d5",
   "metadata": {},
   "outputs": [
    {
     "name": "stderr",
     "output_type": "stream",
     "text": [
      "2025-09-21 17:55:43,701 - INFO - Initialized registry manager with workspace context: None\n",
      "2025-09-21 17:55:43,701 - INFO - Created specification registry for context 'lukexie-AtoZ-xgboost-NA'\n",
      "2025-09-21 17:55:43,702 - INFO - Created new workspace-aware registry for context 'lukexie-AtoZ-xgboost-NA'\n"
     ]
    }
   ],
   "source": [
    "pipeline_components = create_pipeline_components(context_name=base_config.pipeline_name)"
   ]
  },
  {
   "cell_type": "code",
   "execution_count": 76,
   "id": "9a9bc278-5737-47a4-b8c5-428574405f27",
   "metadata": {},
   "outputs": [
    {
     "data": {
      "text/plain": [
       "{'semantic_matcher': <cursus.core.deps.semantic_matcher.SemanticMatcher at 0x7fa90d1f5660>,\n",
       " 'registry_manager': RegistryManager(contexts=1),\n",
       " 'registry': SpecificationRegistry(context='lukexie-AtoZ-xgboost-NA', steps=0),\n",
       " 'resolver': <cursus.core.deps.dependency_resolver.UnifiedDependencyResolver at 0x7fa90d0502e0>}"
      ]
     },
     "execution_count": 76,
     "metadata": {},
     "output_type": "execute_result"
    }
   ],
   "source": [
    "pipeline_components"
   ]
  },
  {
   "cell_type": "code",
   "execution_count": 77,
   "id": "57749593-d52e-48d8-91d6-aa735fd57ef5",
   "metadata": {},
   "outputs": [],
   "source": [
    "semantic_matcher = pipeline_components['semantic_matcher']"
   ]
  },
  {
   "cell_type": "code",
   "execution_count": 78,
   "id": "7ae41226-bc5c-4a33-8807-6e03040fc883",
   "metadata": {},
   "outputs": [],
   "source": [
    "registry_manager = pipeline_components['registry_manager']"
   ]
  },
  {
   "cell_type": "code",
   "execution_count": 79,
   "id": "1486aeab-18a8-4271-b807-6a3669811340",
   "metadata": {},
   "outputs": [],
   "source": [
    "dependency_resolver = pipeline_components['resolver']"
   ]
  },
  {
   "cell_type": "code",
   "execution_count": 80,
   "id": "5f4629de-5eab-419b-8a50-04c2aff9e463",
   "metadata": {},
   "outputs": [],
   "source": [
    "spec_registry = pipeline_components['registry']"
   ]
  },
  {
   "cell_type": "markdown",
   "id": "6c0b2cbf-0dd6-49d2-9bb5-fc56e2a8f089",
   "metadata": {},
   "source": [
    "#### Check user input"
   ]
  },
  {
   "cell_type": "code",
   "execution_count": 81,
   "id": "fdabb05e-384a-4d42-9123-2404ab459124",
   "metadata": {},
   "outputs": [
    {
     "data": {
      "text/plain": [
       "PosixPath('/home/ec2-user/SageMaker/Cursus/pipeline_config/config_NA_xgboost_AtoZ_v2/config_NA_xgboost_AtoZ.json')"
      ]
     },
     "execution_count": 81,
     "metadata": {},
     "output_type": "execute_result"
    }
   ],
   "source": [
    "config_path"
   ]
  },
  {
   "cell_type": "code",
   "execution_count": 82,
   "id": "f897ca11-00ed-481e-bedc-284f6eae17f1",
   "metadata": {},
   "outputs": [
    {
     "data": {
      "text/plain": [
       "<sagemaker.workflow.pipeline_context.PipelineSession at 0x7fa914ad7370>"
      ]
     },
     "execution_count": 82,
     "metadata": {},
     "output_type": "execute_result"
    }
   ],
   "source": [
    "pipeline_session"
   ]
  },
  {
   "cell_type": "code",
   "execution_count": 83,
   "id": "38b91a1e-88fd-46a0-847f-e0b960aa7d77",
   "metadata": {},
   "outputs": [
    {
     "data": {
      "text/plain": [
       "'arn:aws:iam::601857636239:role/SandboxRole-lukexie-us-east-1'"
      ]
     },
     "execution_count": 83,
     "metadata": {},
     "output_type": "execute_result"
    }
   ],
   "source": [
    "role"
   ]
  },
  {
   "cell_type": "code",
   "execution_count": 84,
   "id": "688f3992-66aa-4f72-98ed-13c8fba05ebe",
   "metadata": {},
   "outputs": [
    {
     "data": {
      "text/plain": [
       "RegistryManager(contexts=1)"
      ]
     },
     "execution_count": 84,
     "metadata": {},
     "output_type": "execute_result"
    }
   ],
   "source": [
    "registry_manager"
   ]
  },
  {
   "cell_type": "code",
   "execution_count": 85,
   "id": "cb56b7ea-243f-4b64-bc98-8d7479bc2edc",
   "metadata": {},
   "outputs": [
    {
     "data": {
      "text/plain": [
       "<cursus.core.deps.dependency_resolver.UnifiedDependencyResolver at 0x7fa90d0502e0>"
      ]
     },
     "execution_count": 85,
     "metadata": {},
     "output_type": "execute_result"
    }
   ],
   "source": [
    "dependency_resolver"
   ]
  },
  {
   "cell_type": "code",
   "execution_count": null,
   "id": "ff9e7df0-148d-4cab-a9c3-27b45b6ab846",
   "metadata": {},
   "outputs": [],
   "source": []
  },
  {
   "cell_type": "markdown",
   "id": "269e27f5-f32f-41ba-acfd-e761920de481",
   "metadata": {
    "jp-MarkdownHeadingCollapsed": true
   },
   "source": [
    "### Legacy Code Example\n",
    "The Legacy pipeline has the following limitations\n",
    "- **Hard-Wired connection** between steps\n",
    "- **Fixed Pipeline Topology**: cannot change pipeline without siginificant rewrite the code\n",
    "- **Code Maintenance**: 1000+ lines of code"
   ]
  },
  {
   "cell_type": "markdown",
   "id": "84978e43-21f6-4564-9d20-6ff6dbb58838",
   "metadata": {},
   "source": [
    "```python\n",
    "from sagemaker.workflow.functions import Join\n",
    "\n",
    "class AtoZRegionalXGBoostModel:\n",
    "    ARTIFACT_LOCATION = Join(on=\"/\", values=[PIPELINE_EXECUTION_TEMP_DIR, \"Artifacts\"])\n",
    "    TRAINING_DATA_LOCATION = Join(on=\"/\", values=[PIPELINE_EXECUTION_TEMP_DIR, \"data/training\"])\n",
    "    VALIDATION_DATA_LOCATION = Join(on=\"/\", values=[PIPELINE_EXECUTION_TEMP_DIR, \"data/validation\"])\n",
    "    TESTING_DATA_LOCATION = Join(on=\"/\", values=[PIPELINE_EXECUTION_TEMP_DIR, \"data/testing\"])\n",
    "    CALIBRATION_DATA_LOCATION = Join(\n",
    "        on=\"/\", values=[PIPELINE_EXECUTION_TEMP_DIR, \"data/calibration\"]\n",
    "    )\n",
    "    TRAINING_FULL_DATA_LOCATION = Join(\n",
    "        on=\"/\", values=[PIPELINE_EXECUTION_TEMP_DIR, \"full_data/training\"]\n",
    "    )\n",
    "    VALIDATION_FULL_DATA_LOCATION = Join(\n",
    "        on=\"/\", values=[PIPELINE_EXECUTION_TEMP_DIR, \"full_data/validation\"]\n",
    "    )\n",
    "    TESTING_FULL_DATA_LOCATION = Join(\n",
    "        on=\"/\", values=[PIPELINE_EXECUTION_TEMP_DIR, \"full_data/testing\"]\n",
    "    )\n",
    "    CALIBRATION_FULL_DATA_LOCATION = Join(\n",
    "        on=\"/\", values=[PIPELINE_EXECUTION_TEMP_DIR, \"full_data/calibration\"]\n",
    "    )\n",
    "    TRAINING_TAG_LOCATION = Join(on=\"/\", values=[PIPELINE_EXECUTION_TEMP_DIR, \"tag/training\"])\n",
    "    VALIDATION_TAG_LOCATION = Join(on=\"/\", values=[PIPELINE_EXECUTION_TEMP_DIR, \"tag/validation\"])\n",
    "    TESTING_TAG_LOCATION = Join(on=\"/\", values=[PIPELINE_EXECUTION_TEMP_DIR, \"tag/testing\"])\n",
    "    TRAINING_STEP_OUTPUT_LOCATION = Join(\n",
    "        on=\"/\", values=[PIPELINE_EXECUTION_TEMP_DIR, \"training_step_output\"]\n",
    "    )\n",
    "    TUNING_STEP_OUTPUT_LOCATION = Join(\n",
    "        on=\"/\", values=[PIPELINE_EXECUTION_TEMP_DIR, \"tuning_step_output\"]\n",
    "    )\n",
    "    TESTING_SCORES_LOCATION = Join(on=\"/\", values=[PIPELINE_EXECUTION_TEMP_DIR, \"scores/testing\"])\n",
    "    CALIBRATION_SCORES_LOCATION = Join(\n",
    "        on=\"/\", values=[PIPELINE_EXECUTION_TEMP_DIR, \"scores/calibration\"]\n",
    "    )\n",
    "    TESTING_EVALUATION_LOCATION = Join(\n",
    "        on=\"/\", values=[PIPELINE_EXECUTION_TEMP_DIR, \"evaluation/testing\"]\n",
    "    )\n",
    "    PROD_LOCATION = Join(on=\"/\", values=[PIPELINE_EXECUTION_TEMP_DIR, \"prod\"])\n",
    "\n",
    "    def __init__(\n",
    "        self,\n",
    "        regional_alias,\n",
    "        sagemaker_session=None,\n",
    "        execution_role=None,\n",
    "        #         config=\"config.json\",\n",
    "    ):\n",
    "\n",
    "        config_path = str(Path(__file__).parent / \"config\" / f\"config_{regional_alias}.json\")\n",
    "        with open(config_path, \"r\") as file:\n",
    "            self.config = json.load(file)\n",
    "        region = self.config[\"region\"]\n",
    "        self.pipeline_name = self.config[\"pipeline_name\"]\n",
    "        self.pipeline_version = self.config[\"pipeline_version\"]\n",
    "        self.author = self.config[\"author\"]\n",
    "        self.pipeline_description = self.config[\"pipeline_description\"]\n",
    "        self.model_class = self.config[\"model_class\"]\n",
    "        self.model_version = self.config[\"model_version\"]\n",
    "        self.processing_sagemaker_instance_type_small = self.config[\n",
    "            \"processing_sagemaker_instance_type_small\"\n",
    "        ]\n",
    "        self.processing_sagemaker_instance_type_large = self.config[\n",
    "            \"processing_sagemaker_instance_type_large\"\n",
    "        ]\n",
    "        self.training_sagemaker_instance_type = self.config[\"training_sagemaker_instance_type\"]\n",
    "        self.transform_sagemaker_instance_type = self.config[\"transform_sagemaker_instance_type\"]\n",
    "\n",
    "        self.processing_instance_count = self.config[\"processing_instance_count\"]\n",
    "        self.training_instance_count = self.config[\"training_instance_count\"]\n",
    "        self.transform_instance_count = self.config[\"transform_instance_count\"]\n",
    "\n",
    "        self.processing_volume_size = self.config[\"processing_volume_size\"]\n",
    "        self.training_volume_size = self.config[\"training_volume_size\"]\n",
    "\n",
    "        data_config_path = str(\n",
    "            Path(__file__).parent / \"config\" / f\"data_config_{regional_alias}.json\"\n",
    "        )\n",
    "\n",
    "        with open(data_config_path, \"r\") as file:\n",
    "            data_config = json.load(file)\n",
    "        self.data_loading_info = data_config[\"data_loading_info\"]\n",
    "\n",
    "        # DATA_TYPE_LIST is the list of data_type:\n",
    "        # training, validation, testing, calibration\n",
    "\n",
    "        DATA_TYPE_LIST = [\n",
    "            \"training\",\n",
    "            \"validation\",\n",
    "            \"testing\",\n",
    "            \"calibration\",\n",
    "        ]\n",
    "        # self.loading_data_type_list is the list of data_type requiring a data loading job\n",
    "        # some data_type already have data downloaded in the s3_output_override location\n",
    "        self.loading_data_type_list = [\n",
    "            data_type\n",
    "            for data_type in DATA_TYPE_LIST\n",
    "            if (data_type in self.data_loading_info)\n",
    "            and (not self.data_loading_info[data_type].get(\"s3_output_override\"))\n",
    "        ]\n",
    "\n",
    "        model_registration_info = data_config[\"model_registration_info\"]\n",
    "        self.registration_step_name_list = list(set(model_registration_info[\"step_name\"].values()))\n",
    "\n",
    "        model_training_config_path = str(\n",
    "            Path(__file__).parent / \"config\" / f\"model_training_config_{regional_alias}.json\"\n",
    "        )\n",
    "\n",
    "        with open(model_training_config_path, \"r\") as file:\n",
    "            self.model_training_config = json.load(file)\n",
    "\n",
    "        self.sagemaker_session = sagemaker_session or Session()\n",
    "        self.execution_role = execution_role or self.sagemaker_session.get_caller_identity_arn()\n",
    "        self.s3_loc = self.config[\"s3_loc\"]\n",
    "        self.s3_bucket = self.config[\"s3_bucket\"]\n",
    "        print(\"Sagemaker_version:\", sagemaker.__version__)\n",
    "\n",
    "        self.data_loading_steps = {\n",
    "            data_type: CradleDataLoadingStep(\n",
    "                step_name=f\"{data_type}_data_download\",\n",
    "                role=self.execution_role,\n",
    "                sagemaker_session=self.sagemaker_session,\n",
    "            )\n",
    "            for data_type in self.loading_data_type_list\n",
    "        }\n",
    "\n",
    "        self.binning_step = self.create_binning_step()\n",
    "        self.preprocessing_step_train = self.create_preprocessing_step_train()\n",
    "        self.preprocessing_step_test = self.create_preprocessing_step_test()\n",
    "        self.preprocessing_step_calib = self.create_preprocessing_step_calib()\n",
    "\n",
    "        self.is_hyperparameter_tuning = self.model_training_config.get(\n",
    "            \"is_hyperparameter_tuning\", False\n",
    "        )\n",
    "        if self.is_hyperparameter_tuning:\n",
    "            self.tuning_step = self.create_tuning_step()\n",
    "        elif not self.is_hyperparameter_tuning:\n",
    "            self.training_step = self.create_training_step()\n",
    "\n",
    "        self.model_step = self.create_model_step()\n",
    "        self.test_scoring_step = self.create_test_scoring_step()\n",
    "        self.test_evaluation_step = self.create_test_evaluation_step()\n",
    "        self.calib_scoring_step = self.create_calib_scoring_step()\n",
    "        self.pctlscore_step = self.create_pctlscore_step()\n",
    "        self.mims_packaging_step = self.create_mims_packaging_step()\n",
    "\n",
    "        self.eval_step = self.create_model_evaluation_step()\n",
    "\n",
    "        self.generate_payload_step = self.create_generate_payload_step()\n",
    "\n",
    "        self.registration_steps = {\n",
    "            step_name: MimsModelRegistrationProcessingStep(\n",
    "                step_name=step_name,\n",
    "                role=self.execution_role,\n",
    "                sagemaker_session=self.sagemaker_session,\n",
    "                processing_input=[\n",
    "                    ProcessingInput(\n",
    "                        source=self.mims_packaging_step.properties.ProcessingOutputConfig.Outputs[\n",
    "                            \"output\"\n",
    "                        ].S3Output.S3Uri,\n",
    "                        destination=\"/opt/ml/processing/input/model\",\n",
    "                    ),\n",
    "                    ProcessingInput(\n",
    "                        source=self.generate_payload_step.properties.ProcessingOutputConfig.Outputs[\n",
    "                            \"output\"\n",
    "                        ].S3Output.S3Uri,\n",
    "                        destination=\"/opt/ml/processing/mims_payload\",\n",
    "                    ),\n",
    "                ],\n",
    "                depends_on=[\n",
    "                    self.mims_packaging_step,\n",
    "                    self.eval_step,\n",
    "                    self.generate_payload_step,\n",
    "                ],\n",
    "                performance_metadata_location=self.eval_step.get_output_locations(True),\n",
    "            )\n",
    "            for step_name in self.registration_step_name_list\n",
    "        }\n",
    "\n",
    "    def generate_pipeline(self):\n",
    "        steps = list(self.data_loading_steps.values())\n",
    "        steps.extend(\n",
    "            [\n",
    "                self.binning_step,\n",
    "                self.preprocessing_step_train,\n",
    "                self.preprocessing_step_test,\n",
    "                self.preprocessing_step_calib,\n",
    "            ]\n",
    "        )\n",
    "\n",
    "        if self.is_hyperparameter_tuning:\n",
    "            steps.append(self.tuning_step)\n",
    "        elif not self.is_hyperparameter_tuning:\n",
    "            steps.append(self.training_step)\n",
    "\n",
    "        steps.extend(\n",
    "            [\n",
    "                self.model_step,\n",
    "                self.test_scoring_step,\n",
    "                self.test_evaluation_step,\n",
    "                self.calib_scoring_step,\n",
    "                self.pctlscore_step,\n",
    "                self.mims_packaging_step,\n",
    "                self.eval_step,\n",
    "                self.generate_payload_step,\n",
    "            ]\n",
    "        )\n",
    "\n",
    "        # comment the line below if you don't want register your models using MIMS\n",
    "        steps.extend(list(self.registration_steps.values()))\n",
    "\n",
    "        return Pipeline(\n",
    "            name=self.pipeline_name,\n",
    "            parameters=[\n",
    "                PIPELINE_EXECUTION_TEMP_DIR,\n",
    "                KMS_ENCRYPTION_KEY_PARAM,\n",
    "                VPC_SUBNET,\n",
    "                SECURITY_GROUP_ID,\n",
    "            ],\n",
    "            sagemaker_session=self.sagemaker_session,\n",
    "            steps=steps,\n",
    "        )\n",
    "\n",
    "    ########################################\n",
    "    ### Binning step\n",
    "\n",
    "    def create_binning_step(self):\n",
    "        depends_on = []\n",
    "        if \"training\" not in self.loading_data_type_list:\n",
    "            train_data_location = self.data_loading_info[\"training\"][\"s3_output_override\"]\n",
    "        else:\n",
    "            training_data_loading_step = self.data_loading_steps[\"training\"]\n",
    "            depends_on.append(training_data_loading_step)\n",
    "            train_data_location = training_data_loading_step.get_output_locations(\"DATA\")\n",
    "        config_location = str(Path(__file__).parent / \"config\")\n",
    "        artifacts_location = AtoZRegionalXGBoostModel.ARTIFACT_LOCATION\n",
    "\n",
    "        sklearn_processor = SKLearnProcessor(\n",
    "            framework_version=\"1.2-1\",\n",
    "            instance_type=self.processing_sagemaker_instance_type_small,\n",
    "            instance_count=self.processing_instance_count,\n",
    "            volume_size_in_gb=self.processing_volume_size,\n",
    "            role=self.execution_role,\n",
    "            sagemaker_session=self.sagemaker_session,\n",
    "        )\n",
    "\n",
    "        return ProcessingStep(\n",
    "            name=\"Binning\",\n",
    "            processor=sklearn_processor,\n",
    "            code=str(Path(__file__).parent / \"scripts\" / \"bin.py\"),\n",
    "            inputs=[\n",
    "                ProcessingInput(\n",
    "                    source=train_data_location,\n",
    "                    destination=f\"/opt/ml/processing/input/training\",\n",
    "                ),\n",
    "                ProcessingInput(\n",
    "                    source=config_location,\n",
    "                    destination=\"/opt/ml/processing/input/config\",\n",
    "                ),\n",
    "            ],\n",
    "            outputs=[\n",
    "                ProcessingOutput(\n",
    "                    output_name=\"output\",\n",
    "                    source=\"/opt/ml/processing/output\",\n",
    "                    destination=artifacts_location,\n",
    "                ),\n",
    "            ],\n",
    "            job_arguments=[\n",
    "                \"--data_type\",\n",
    "                \"training\",\n",
    "            ],\n",
    "            depends_on=depends_on,\n",
    "        )\n",
    "\n",
    "    ########################################\n",
    "    ### Preprocessing steps\n",
    "\n",
    "    def create_preprocessing_step_train(self):\n",
    "        depends_on = []\n",
    "        if \"training\" not in self.loading_data_type_list:\n",
    "            train_data_location = self.data_loading_info[\"training\"][\"s3_output_override\"]\n",
    "        else:\n",
    "            training_data_loading_step = self.data_loading_steps[\"training\"]\n",
    "            depends_on.append(training_data_loading_step)\n",
    "            train_data_location = training_data_loading_step.get_output_locations(\"DATA\")\n",
    "        depends_on.append(self.binning_step)\n",
    "        artifacts_location = AtoZRegionalXGBoostModel.ARTIFACT_LOCATION\n",
    "        output_train_data_location = AtoZRegionalXGBoostModel.TRAINING_DATA_LOCATION\n",
    "        output_valid_data_location = AtoZRegionalXGBoostModel.VALIDATION_DATA_LOCATION\n",
    "        output_train_full_data_location = AtoZRegionalXGBoostModel.TRAINING_FULL_DATA_LOCATION\n",
    "        output_valid_full_data_location = AtoZRegionalXGBoostModel.VALIDATION_FULL_DATA_LOCATION\n",
    "        output_train_tag_location = AtoZRegionalXGBoostModel.TRAINING_TAG_LOCATION\n",
    "        output_valid_tag_location = AtoZRegionalXGBoostModel.VALIDATION_TAG_LOCATION\n",
    "\n",
    "        sklearn_processor = SKLearnProcessor(\n",
    "            framework_version=\"1.2-1\",\n",
    "            instance_type=self.processing_sagemaker_instance_type_small,\n",
    "            instance_count=self.processing_instance_count,\n",
    "            volume_size_in_gb=self.processing_volume_size,\n",
    "            role=self.execution_role,\n",
    "            sagemaker_session=self.sagemaker_session,\n",
    "        )\n",
    "\n",
    "        return ProcessingStep(\n",
    "            name=\"Preprocess-training-set\",\n",
    "            processor=sklearn_processor,\n",
    "            code=str(Path(__file__).parent / \"scripts\" / \"preprocess.py\"),\n",
    "            inputs=[\n",
    "                ProcessingInput(\n",
    "                    source=train_data_location,\n",
    "                    destination=\"/opt/ml/processing/input/data\",\n",
    "                ),\n",
    "                ProcessingInput(\n",
    "                    source=artifacts_location,\n",
    "                    destination=\"/opt/ml/processing/input/artifacts\",\n",
    "                ),\n",
    "            ],\n",
    "            outputs=[\n",
    "                ProcessingOutput(\n",
    "                    source=\"/opt/ml/processing/output/artifacts\",\n",
    "                    destination=artifacts_location,\n",
    "                ),\n",
    "                ProcessingOutput(\n",
    "                    source=\"/opt/ml/processing/output/data/training\",\n",
    "                    destination=output_train_data_location,\n",
    "                ),\n",
    "                ProcessingOutput(\n",
    "                    source=\"/opt/ml/processing/output/data/validation\",\n",
    "                    destination=output_valid_data_location,\n",
    "                ),\n",
    "                ProcessingOutput(\n",
    "                    source=\"/opt/ml/processing/output/data/full_training\",\n",
    "                    destination=output_train_full_data_location,\n",
    "                ),\n",
    "                ProcessingOutput(\n",
    "                    source=\"/opt/ml/processing/output/data/full_validation\",\n",
    "                    destination=output_valid_full_data_location,\n",
    "                ),\n",
    "                ProcessingOutput(\n",
    "                    source=\"/opt/ml/processing/output/data/training_tag\",\n",
    "                    destination=output_train_tag_location,\n",
    "                ),\n",
    "                ProcessingOutput(\n",
    "                    source=\"/opt/ml/processing/output/data/validation_tag\",\n",
    "                    destination=output_valid_tag_location,\n",
    "                ),\n",
    "            ],\n",
    "            depends_on=depends_on,\n",
    "            job_arguments=[\n",
    "                \"--n_workers\",\n",
    "                \"16\",\n",
    "                \"--data_type\",\n",
    "                \"training\",\n",
    "            ],\n",
    "        )\n",
    "\n",
    "    def create_preprocessing_step_test(self):\n",
    "        depends_on = []\n",
    "        if \"testing\" not in self.loading_data_type_list:\n",
    "            testing_data_location = self.data_loading_info[\"testing\"][\"s3_output_override\"]\n",
    "        else:\n",
    "            testing_data_loading_step = self.data_loading_steps[\"testing\"]\n",
    "            depends_on.append(testing_data_loading_step)\n",
    "            testing_data_location = testing_data_loading_step.get_output_locations(\"DATA\")\n",
    "        depends_on.append(self.binning_step)\n",
    "        artifacts_location = AtoZRegionalXGBoostModel.ARTIFACT_LOCATION\n",
    "        output_testing_data_location = AtoZRegionalXGBoostModel.TESTING_DATA_LOCATION\n",
    "        output_test_full_data_location = AtoZRegionalXGBoostModel.TESTING_FULL_DATA_LOCATION\n",
    "        output_testing_tag_location = AtoZRegionalXGBoostModel.TESTING_TAG_LOCATION\n",
    "\n",
    "        sklearn_processor = SKLearnProcessor(\n",
    "            framework_version=\"1.2-1\",\n",
    "            instance_type=self.processing_sagemaker_instance_type_small,\n",
    "            instance_count=self.processing_instance_count,\n",
    "            volume_size_in_gb=self.processing_volume_size,\n",
    "            role=self.execution_role,\n",
    "            sagemaker_session=self.sagemaker_session,\n",
    "        )\n",
    "\n",
    "        return ProcessingStep(\n",
    "            name=\"Preprocess-test-set\",\n",
    "            processor=sklearn_processor,\n",
    "            code=str(Path(__file__).parent / \"scripts\" / \"preprocess.py\"),\n",
    "            inputs=[\n",
    "                ProcessingInput(\n",
    "                    source=testing_data_location,\n",
    "                    destination=\"/opt/ml/processing/input/data\",\n",
    "                ),\n",
    "                ProcessingInput(\n",
    "                    source=artifacts_location,\n",
    "                    destination=\"/opt/ml/processing/input/artifacts\",\n",
    "                ),\n",
    "            ],\n",
    "            outputs=[\n",
    "                ProcessingOutput(\n",
    "                    source=\"/opt/ml/processing/output/artifacts\",\n",
    "                    destination=artifacts_location,\n",
    "                ),\n",
    "                ProcessingOutput(\n",
    "                    source=\"/opt/ml/processing/output/data/testing\",\n",
    "                    destination=output_testing_data_location,\n",
    "                ),\n",
    "                ProcessingOutput(\n",
    "                    source=\"/opt/ml/processing/output/data/full_testing\",\n",
    "                    destination=output_test_full_data_location,\n",
    "                ),\n",
    "                ProcessingOutput(\n",
    "                    source=\"/opt/ml/processing/output/data/testing_tag\",\n",
    "                    destination=output_testing_tag_location,\n",
    "                ),\n",
    "            ],\n",
    "            depends_on=depends_on,\n",
    "            job_arguments=[\n",
    "                \"--n_workers\",\n",
    "                \"16\",\n",
    "                \"--data_type\",\n",
    "                \"testing\",\n",
    "            ],\n",
    "        )\n",
    "\n",
    "    def create_preprocessing_step_calib(self):\n",
    "        depends_on = []\n",
    "        if \"calibration\" not in self.loading_data_type_list:\n",
    "            calib_data_location = self.data_loading_info[\"calibration\"][\"s3_output_override\"]\n",
    "        else:\n",
    "            calibration_data_loading_step = self.data_loading_steps[\"calibration\"]\n",
    "            depends_on.append(calibration_data_loading_step)\n",
    "            calib_data_location = calibration_data_loading_step.get_output_locations(\"DATA\")\n",
    "        depends_on.append(self.binning_step)\n",
    "\n",
    "        artifacts_location = AtoZRegionalXGBoostModel.ARTIFACT_LOCATION\n",
    "        output_calib_data_location = AtoZRegionalXGBoostModel.CALIBRATION_DATA_LOCATION\n",
    "        output_calib_full_data_location = AtoZRegionalXGBoostModel.CALIBRATION_FULL_DATA_LOCATION\n",
    "\n",
    "        sklearn_processor = SKLearnProcessor(\n",
    "            framework_version=\"1.2-1\",\n",
    "            instance_type=self.processing_sagemaker_instance_type_large,\n",
    "            instance_count=self.processing_instance_count,\n",
    "            volume_size_in_gb=self.processing_volume_size,\n",
    "            role=self.execution_role,\n",
    "            sagemaker_session=self.sagemaker_session,\n",
    "        )\n",
    "\n",
    "        return ProcessingStep(\n",
    "            name=\"Preprocess-calibration-set\",\n",
    "            processor=sklearn_processor,\n",
    "            code=str(Path(__file__).parent / \"scripts\" / \"preprocess.py\"),\n",
    "            inputs=[\n",
    "                ProcessingInput(\n",
    "                    source=calib_data_location,\n",
    "                    destination=\"/opt/ml/processing/input/data\",\n",
    "                ),\n",
    "                ProcessingInput(\n",
    "                    source=artifacts_location,\n",
    "                    destination=\"/opt/ml/processing/input/artifacts\",\n",
    "                ),\n",
    "            ],\n",
    "            outputs=[\n",
    "                ProcessingOutput(\n",
    "                    source=\"/opt/ml/processing/output/artifacts\",\n",
    "                    destination=artifacts_location,\n",
    "                ),\n",
    "                ProcessingOutput(\n",
    "                    source=\"/opt/ml/processing/output/data/calibration\",\n",
    "                    destination=output_calib_data_location,\n",
    "                ),\n",
    "                ProcessingOutput(\n",
    "                    source=\"/opt/ml/processing/output/data/full_calibration\",\n",
    "                    destination=output_calib_full_data_location,\n",
    "                ),\n",
    "            ],\n",
    "            depends_on=depends_on,\n",
    "            job_arguments=[\n",
    "                \"--n_workers\",\n",
    "                \"16\",\n",
    "                \"--data_type\",\n",
    "                \"calibration\",\n",
    "            ],\n",
    "        )\n",
    "\n",
    "    ########################################\n",
    "    ### Training step\n",
    "    def create_training_step(self):\n",
    "        s3_output_location = AtoZRegionalXGBoostModel.TRAINING_STEP_OUTPUT_LOCATION\n",
    "        content_type = \"text/csv\"\n",
    "\n",
    "        train_input = TrainingInput(\n",
    "            AtoZRegionalXGBoostModel.TRAINING_DATA_LOCATION, content_type=content_type\n",
    "        )\n",
    "        validation_input = TrainingInput(\n",
    "            AtoZRegionalXGBoostModel.VALIDATION_DATA_LOCATION, content_type=content_type\n",
    "        )\n",
    "\n",
    "        training_instance_type = self.training_sagemaker_instance_type\n",
    "\n",
    "        training_image_uri = image_uris.retrieve(\n",
    "            self.model_class, TRAINING_MODEL_REGION, self.model_version, image_scope=\"training\"\n",
    "        )\n",
    "\n",
    "        hyperparameters = self.model_training_config[\"model_params\"]\n",
    "\n",
    "        # Create SageMaker Estimator instance\n",
    "        xgb_estimator = Estimator(\n",
    "            role=self.execution_role,\n",
    "            image_uri=training_image_uri,\n",
    "            instance_count=self.training_instance_count,\n",
    "            volume_size=self.training_volume_size,\n",
    "            instance_type=training_instance_type,\n",
    "            hyperparameters=hyperparameters,\n",
    "            output_path=s3_output_location,\n",
    "            enable_sagemaker_metrics=True,\n",
    "            sagemaker_session=self.sagemaker_session,\n",
    "            encrypt_inter_container_traffic=True,\n",
    "            disable_profiler=True,\n",
    "        )\n",
    "\n",
    "        return TrainingStep(\n",
    "            name=\"Training\",\n",
    "            estimator=xgb_estimator,\n",
    "            inputs={\n",
    "                \"train\": train_input,\n",
    "                \"validation\": validation_input,\n",
    "            },\n",
    "            depends_on=[\n",
    "                self.preprocessing_step_train,\n",
    "            ],\n",
    "        )\n",
    "\n",
    "    ########################################\n",
    "    ### Tuning step\n",
    "\n",
    "    def create_tuning_step(self):\n",
    "        tuning_step_s3_output_location = AtoZRegionalXGBoostModel.TUNING_STEP_OUTPUT_LOCATION\n",
    "        content_type = \"text/csv\"\n",
    "\n",
    "        train_input = TrainingInput(\n",
    "            AtoZRegionalXGBoostModel.TRAINING_DATA_LOCATION, content_type=content_type\n",
    "        )\n",
    "        validation_input = TrainingInput(\n",
    "            AtoZRegionalXGBoostModel.VALIDATION_DATA_LOCATION, content_type=content_type\n",
    "        )\n",
    "\n",
    "        training_instance_type = self.training_sagemaker_instance_type\n",
    "\n",
    "        training_image_uri = image_uris.retrieve(\n",
    "            self.model_class, TRAINING_MODEL_REGION, self.model_version, image_scope=\"training\"\n",
    "        )\n",
    "\n",
    "        hyperparameters = self.model_training_config[\"model_params\"]\n",
    "        hyperparameter_ranges_raw = self.model_training_config.get(\"model_params_ranges\", dict())\n",
    "        hyperparameter_ranges = dict()\n",
    "        for key, value in hyperparameter_ranges_raw.items():\n",
    "            if value[\"type\"] == \"continuous\":\n",
    "                hyperparameter_ranges[key] = ContinuousParameter(\n",
    "                    float(value[\"min\"]), float(value[\"max\"])\n",
    "                )\n",
    "            elif value[\"type\"] == \"integer\":\n",
    "                hyperparameter_ranges[key] = IntegerParameter(int(value[\"min\"]), int(value[\"max\"]))\n",
    "\n",
    "        # Create SageMaker Estimator instance\n",
    "        xgb_estimator = Estimator(\n",
    "            role=self.execution_role,\n",
    "            image_uri=training_image_uri,\n",
    "            instance_count=self.training_instance_count,\n",
    "            volume_size=self.training_volume_size,\n",
    "            instance_type=training_instance_type,\n",
    "            hyperparameters=hyperparameters,\n",
    "            output_path=tuning_step_s3_output_location,\n",
    "            enable_sagemaker_metrics=True,\n",
    "            sagemaker_session=self.sagemaker_session,\n",
    "            encrypt_inter_container_traffic=True,\n",
    "            disable_profiler=True,\n",
    "        )\n",
    "\n",
    "        tuner = HyperparameterTuner(\n",
    "            estimator=xgb_estimator,\n",
    "            objective_metric_name=\"validation:auc\",  # Specify the metric to optimize\n",
    "            hyperparameter_ranges=hyperparameter_ranges,\n",
    "            max_jobs=10,\n",
    "            max_parallel_jobs=2,\n",
    "            objective_type=\"Maximize\",\n",
    "        )\n",
    "\n",
    "        tuning_step = TuningStep(\n",
    "            name=\"XGBoostHyperparameterTuning\",\n",
    "            tuner=tuner,\n",
    "            inputs={\n",
    "                \"train\": train_input,\n",
    "                \"validation\": validation_input,\n",
    "            },\n",
    "            depends_on=[\n",
    "                self.preprocessing_step_train,\n",
    "            ],\n",
    "        )\n",
    "\n",
    "        return tuning_step\n",
    "\n",
    "    def create_model_step(self):\n",
    "        training_image_uri = image_uris.retrieve(\n",
    "            self.model_class, TRAINING_MODEL_REGION, self.model_version, image_scope=\"training\"\n",
    "        )\n",
    "        if self.is_hyperparameter_tuning:\n",
    "            self.model_data = Join(\n",
    "                on=\"/\",\n",
    "                values=[\n",
    "                    AtoZRegionalXGBoostModel.TUNING_STEP_OUTPUT_LOCATION,\n",
    "                    # from DescribeHyperParameterTuningJob\n",
    "                    self.tuning_step.properties.BestTrainingJob.TrainingJobName,\n",
    "                    \"output/model.tar.gz\",\n",
    "                ],\n",
    "            )\n",
    "        elif not self.is_hyperparameter_tuning:\n",
    "            self.model_data = self.training_step.properties.ModelArtifacts.S3ModelArtifacts\n",
    "\n",
    "        model = Model(\n",
    "            image_uri=training_image_uri,\n",
    "            model_data=self.model_data,\n",
    "            sagemaker_session=self.sagemaker_session,\n",
    "            role=self.execution_role,\n",
    "        )\n",
    "\n",
    "        create_model_step = ModelStep(\n",
    "            name=\"CreateInferenceModelStep\",\n",
    "            step_args=model.create(),\n",
    "        )\n",
    "        return create_model_step\n",
    "\n",
    "    def create_test_scoring_step(self):\n",
    "        # Set up a transformer to join the input and output data\n",
    "        # See\n",
    "        # https://sagemaker.readthedocs.io/en/stable/api/inference/transformer.html\n",
    "        # for more info\n",
    "        model_name = self.model_step.properties.ModelName\n",
    "        testing_data_location = AtoZRegionalXGBoostModel.TESTING_DATA_LOCATION\n",
    "        testing_output_location = AtoZRegionalXGBoostModel.TESTING_SCORES_LOCATION\n",
    "\n",
    "        transformer = Transformer(\n",
    "            model_name=model_name,\n",
    "            instance_type=self.transform_sagemaker_instance_type,\n",
    "            instance_count=self.transform_instance_count,\n",
    "            output_path=testing_output_location,\n",
    "            sagemaker_session=self.sagemaker_session,\n",
    "            # Set accept to text/csv so that the output_fn in the inference code knows to output csv instead of json\n",
    "            accept=\"text/csv\",\n",
    "            # assemble_with must equal split_type below\n",
    "            assemble_with=\"Line\",\n",
    "        )\n",
    "        return TransformStep(\n",
    "            name=\"TestScoring\",\n",
    "            transformer=transformer,\n",
    "            inputs=TransformInput(\n",
    "                data=testing_data_location,\n",
    "                content_type=\"text/csv\",\n",
    "                split_type=\"Line\",\n",
    "                join_source=\"Input\",\n",
    "                # Use \"$\" to send all columns to the transformer\n",
    "                # exclude the first column (tag)\n",
    "                input_filter=\"$[1:]\",\n",
    "                # Join the input and output data\n",
    "                output_filter=\"$[-1]\",  # Use $[-1] to get the last column which is the predicted scores\n",
    "            ),\n",
    "            depends_on=[\n",
    "                self.model_step,\n",
    "                self.preprocessing_step_test,\n",
    "            ],\n",
    "        )\n",
    "\n",
    "    def create_test_evaluation_step(self):\n",
    "        data_type = \"testing\"\n",
    "        depends_on = [self.test_scoring_step]\n",
    "        artifacts_location = AtoZRegionalXGBoostModel.ARTIFACT_LOCATION\n",
    "        full_data_location = AtoZRegionalXGBoostModel.TESTING_FULL_DATA_LOCATION\n",
    "        tag_location = AtoZRegionalXGBoostModel.TESTING_TAG_LOCATION\n",
    "        score_location = AtoZRegionalXGBoostModel.TESTING_SCORES_LOCATION\n",
    "        evaluation_output_location = AtoZRegionalXGBoostModel.TESTING_EVALUATION_LOCATION\n",
    "\n",
    "        sklearn_processor = SKLearnProcessor(\n",
    "            framework_version=\"1.2-1\",\n",
    "            instance_type=self.processing_sagemaker_instance_type_small,\n",
    "            instance_count=self.processing_instance_count,\n",
    "            volume_size_in_gb=self.processing_volume_size,\n",
    "            role=self.execution_role,\n",
    "            sagemaker_session=self.sagemaker_session,\n",
    "        )\n",
    "\n",
    "        return ProcessingStep(\n",
    "            name=f\"Evaluation-{data_type}\",\n",
    "            processor=sklearn_processor,\n",
    "            code=str(Path(__file__).parent / \"scripts\" / \"evaluation.py\"),\n",
    "            inputs=[\n",
    "                ProcessingInput(\n",
    "                    source=full_data_location,\n",
    "                    destination=\"/opt/ml/processing/input/full_data\",\n",
    "                ),\n",
    "                ProcessingInput(\n",
    "                    source=tag_location,\n",
    "                    destination=\"/opt/ml/processing/input/tag\",\n",
    "                ),\n",
    "                ProcessingInput(\n",
    "                    source=score_location,\n",
    "                    destination=\"/opt/ml/processing/input/scores\",\n",
    "                ),\n",
    "                ProcessingInput(\n",
    "                    source=artifacts_location,\n",
    "                    destination=\"/opt/ml/processing/input/artifacts\",\n",
    "                ),\n",
    "            ],\n",
    "            outputs=[\n",
    "                ProcessingOutput(\n",
    "                    source=\"/opt/ml/processing/output/artifacts\",\n",
    "                    destination=artifacts_location,\n",
    "                ),\n",
    "                ProcessingOutput(\n",
    "                    source=f\"/opt/ml/processing/output/evaluation/\",\n",
    "                    destination=evaluation_output_location,\n",
    "                ),\n",
    "            ],\n",
    "            depends_on=depends_on,\n",
    "            job_arguments=[\n",
    "                \"--n_workers\",\n",
    "                \"16\",\n",
    "                \"--data_type\",\n",
    "                data_type,\n",
    "            ],\n",
    "        )\n",
    "\n",
    "    def create_calib_scoring_step(self):\n",
    "        # Set up a transformer to join the input and output data\n",
    "        # See\n",
    "        # https://sagemaker.readthedocs.io/en/stable/api/inference/transformer.html\n",
    "        # for more info\n",
    "        model_name = self.model_step.properties.ModelName\n",
    "        calibration_data_location = AtoZRegionalXGBoostModel.CALIBRATION_DATA_LOCATION\n",
    "        calibration_output_location = AtoZRegionalXGBoostModel.CALIBRATION_SCORES_LOCATION\n",
    "\n",
    "        transformer = Transformer(\n",
    "            model_name=model_name,\n",
    "            instance_type=self.transform_sagemaker_instance_type,\n",
    "            instance_count=self.transform_instance_count,\n",
    "            output_path=calibration_output_location,\n",
    "            sagemaker_session=self.sagemaker_session,\n",
    "            #             volume_kms_key=KMS_ENCRYPTION_KEY_PARAM,\n",
    "            #             output_kms_key=KMS_ENCRYPTION_KEY_PARAM,\n",
    "            # Set accept to text/csv so that the output_fn in the inference code knows to output csv instead of json\n",
    "            accept=\"text/csv\",\n",
    "            # assemble_with must equal split_type below\n",
    "            assemble_with=\"Line\",\n",
    "        )\n",
    "        return TransformStep(\n",
    "            name=\"CalibScoring\",\n",
    "            transformer=transformer,\n",
    "            inputs=TransformInput(\n",
    "                data=calibration_data_location,\n",
    "                content_type=\"text/csv\",\n",
    "                split_type=\"Line\",\n",
    "                join_source=\"Input\",\n",
    "                # Use $[0,1] to send the 0th and 1st column to the transformer\n",
    "                # Use \"$\" to send all columns to the transformer\n",
    "                input_filter=\"$\",\n",
    "                # Join the input and output data\n",
    "                output_filter=\"$[-1]\",  # Use $[-1] to get the last column which is the predicted scores.\n",
    "            ),\n",
    "            depends_on=[\n",
    "                self.model_step,\n",
    "                self.preprocessing_step_calib,\n",
    "            ],\n",
    "        )\n",
    "\n",
    "    ## 1 ===== the old architecture using SKLearnProcessor =====\n",
    "    def create_pctlscore_step(self):\n",
    "        calibration_output_location = AtoZRegionalXGBoostModel.CALIBRATION_SCORES_LOCATION\n",
    "        artifacts_location = AtoZRegionalXGBoostModel.ARTIFACT_LOCATION\n",
    "\n",
    "        sklearn_processor = SKLearnProcessor(\n",
    "            framework_version=\"1.2-1\",\n",
    "            instance_type=self.processing_sagemaker_instance_type_small,\n",
    "            instance_count=self.processing_instance_count,\n",
    "            volume_size_in_gb=self.processing_volume_size,\n",
    "            role=self.execution_role,\n",
    "            sagemaker_session=self.sagemaker_session,\n",
    "        )\n",
    "\n",
    "        return ProcessingStep(\n",
    "            name=\"Percentile_score_calculation\",\n",
    "            processor=sklearn_processor,\n",
    "            code=str(Path(__file__).parent / \"scripts\" / \"percentile_score_mapping.py\"),\n",
    "            inputs=[\n",
    "                ProcessingInput(\n",
    "                    source=artifacts_location,\n",
    "                    destination=\"/opt/ml/processing/input/artifacts\",\n",
    "                ),\n",
    "                ProcessingInput(\n",
    "                    source=calibration_output_location,\n",
    "                    destination=\"/opt/ml/processing/input/data\",\n",
    "                ),\n",
    "            ],\n",
    "            outputs=[\n",
    "                ProcessingOutput(\n",
    "                    output_name=\"output\",\n",
    "                    source=\"/opt/ml/processing/output\",\n",
    "                    destination=artifacts_location,\n",
    "                ),\n",
    "            ],\n",
    "            depends_on=[\n",
    "                self.calib_scoring_step,\n",
    "            ],\n",
    "            job_arguments=[\n",
    "                \"--n_workers\",\n",
    "                \"16\",\n",
    "                \"--score_column\",\n",
    "                \"0\",\n",
    "            ],\n",
    "        )\n",
    "\n",
    "    ########################################\n",
    "    ### Packaging step\n",
    "\n",
    "    def create_mims_packaging_step(self):\n",
    "        artifacts_location = AtoZRegionalXGBoostModel.ARTIFACT_LOCATION\n",
    "        inference_script_location = str(Path(__file__).parent / \"online_inference_src\")\n",
    "        output_location = AtoZRegionalXGBoostModel.PROD_LOCATION\n",
    "\n",
    "        data_output_path = \"/opt/ml/processing/output\"\n",
    "        processor = SKLearnProcessor(\n",
    "            framework_version=\"1.2-1\",\n",
    "            role=self.execution_role,\n",
    "            volume_size_in_gb=self.processing_volume_size,\n",
    "            instance_type=self.processing_sagemaker_instance_type_small,\n",
    "            instance_count=self.processing_instance_count,\n",
    "            sagemaker_session=self.sagemaker_session,\n",
    "        )\n",
    "\n",
    "        return ProcessingStep(\n",
    "            name=\"Package\",\n",
    "            processor=processor,\n",
    "            code=str(Path(__file__).parent / \"scripts\" / \"mims_package.py\"),\n",
    "            inputs=[\n",
    "                ProcessingInput(\n",
    "                    source=self.model_data,\n",
    "                    destination=\"/opt/ml/processing/input/model\",\n",
    "                ),\n",
    "                ProcessingInput(\n",
    "                    source=artifacts_location,\n",
    "                    destination=\"/opt/ml/processing/input/artifacts\",\n",
    "                ),\n",
    "                ProcessingInput(\n",
    "                    source=inference_script_location,\n",
    "                    destination=\"/opt/ml/processing/input/script\",\n",
    "                ),\n",
    "            ],\n",
    "            outputs=[\n",
    "                ProcessingOutput(\n",
    "                    output_name=\"output\",\n",
    "                    source=data_output_path,\n",
    "                    destination=output_location,\n",
    "                )\n",
    "            ],\n",
    "            depends_on=[\n",
    "                self.pctlscore_step,\n",
    "            ],\n",
    "        )\n",
    "\n",
    "    def create_model_evaluation_step(self):\n",
    "        # Setup predefined model evaluation step that takes output of\n",
    "        # model monitoring step and generates the model performance testing info\n",
    "        # which is then used in registering model to MIMS\n",
    "        model_evaluation_processor = ModelPerformanceEvaluationProcessor(\n",
    "            role=self.execution_role,\n",
    "            sagemaker_session=self.sagemaker_session,\n",
    "        )\n",
    "        constraints_input_dest = PROCESSOR_DIRECTORY_ROOT + \"/input/constraints\"\n",
    "        statistics_input_dest = PROCESSOR_DIRECTORY_ROOT + \"/input/statistics\"\n",
    "        violations_input_dest = PROCESSOR_DIRECTORY_ROOT + \"/input/violations\"\n",
    "        model_evaluation_processor.set_processing_job_inputs(\n",
    "            inputs=[\n",
    "                # https://docs.aws.amazon.com/sagemaker/latest/dg/model-monitor-byoc-constraints.html\n",
    "                ProcessingInput(\n",
    "                    source=Join(\n",
    "                        on=\"/\",\n",
    "                        values=[\n",
    "                            AtoZRegionalXGBoostModel.TESTING_EVALUATION_LOCATION,\n",
    "                            \"constraints.json\",\n",
    "                        ],\n",
    "                    ),\n",
    "                    destination=constraints_input_dest,\n",
    "                ),\n",
    "                # https://docs.aws.amazon.com/sagemaker/latest/dg/model-monitor-interpreting-statistics.html\n",
    "                ProcessingInput(\n",
    "                    source=Join(\n",
    "                        on=\"/\",\n",
    "                        values=[\n",
    "                            AtoZRegionalXGBoostModel.TESTING_EVALUATION_LOCATION,\n",
    "                            \"statistics.json\",\n",
    "                        ],\n",
    "                    ),\n",
    "                    destination=statistics_input_dest,\n",
    "                ),\n",
    "                # https://docs.aws.amazon.com/sagemaker/latest/dg/model-monitor-interpreting-violations.html\n",
    "                ProcessingInput(\n",
    "                    source=Join(\n",
    "                        on=\"/\",\n",
    "                        values=[\n",
    "                            AtoZRegionalXGBoostModel.TESTING_EVALUATION_LOCATION,\n",
    "                            \"constraint_violations.json\",\n",
    "                        ],\n",
    "                    ),\n",
    "                    destination=violations_input_dest,\n",
    "                ),\n",
    "            ],\n",
    "            is_pipeline_execution=True,\n",
    "        )\n",
    "        model_evaluation_step = ModelPerformanceEvaluationStep(\n",
    "            step_name=\"ModelPerformanceEvaluation\",\n",
    "            role=self.execution_role,\n",
    "            sagemaker_session=self.sagemaker_session,\n",
    "            processor=model_evaluation_processor,\n",
    "            depends_on=[self.test_evaluation_step],\n",
    "        )\n",
    "        return model_evaluation_step\n",
    "\n",
    "    def create_generate_payload_step(self):\n",
    "        artifacts_location = AtoZRegionalXGBoostModel.ARTIFACT_LOCATION\n",
    "\n",
    "        sklearn_processor = SKLearnProcessor(\n",
    "            framework_version=\"1.2-1\",\n",
    "            volume_size_in_gb=self.processing_volume_size,\n",
    "            instance_type=self.processing_sagemaker_instance_type_small,\n",
    "            instance_count=self.processing_instance_count,\n",
    "            role=self.sagemaker_session.get_caller_identity_arn(),\n",
    "            sagemaker_session=self.sagemaker_session,\n",
    "            #             output_kms_key=KMS_ENCRYPTION_KEY_PARAM,\n",
    "            #             volume_kms_key=KMS_ENCRYPTION_KEY_PARAM,\n",
    "            #             network_config=NetworkConfig(\n",
    "            #                 enable_network_isolation=True,\n",
    "            #                 security_group_ids=[SECURITY_GROUP_ID],\n",
    "            #                 subnets=[VPC_SUBNET],\n",
    "            #                 encrypt_inter_container_traffic=True,\n",
    "            #             ),\n",
    "        )\n",
    "\n",
    "        return ProcessingStep(\n",
    "            name=\"create_payload\",\n",
    "            processor=sklearn_processor,\n",
    "            code=str(Path(__file__).parent / \"scripts\" / \"create_payload.py\"),\n",
    "            inputs=[\n",
    "                ProcessingInput(\n",
    "                    source=artifacts_location,\n",
    "                    destination=\"/opt/ml/processing/input/artifacts\",\n",
    "                ),\n",
    "            ],\n",
    "            outputs=[\n",
    "                ProcessingOutput(output_name=\"output\", source=\"/opt/ml/processing/mims_payload\"),\n",
    "            ],\n",
    "            depends_on=[\n",
    "                self.mims_packaging_step,\n",
    "            ],\n",
    "        )\n",
    "``` "
   ]
  },
  {
   "cell_type": "markdown",
   "id": "ed16849f-e888-4496-9737-a87f6de06288",
   "metadata": {},
   "source": []
  },
  {
   "cell_type": "code",
   "execution_count": null,
   "id": "a32afaaa-1586-410c-959a-a23912e05d57",
   "metadata": {},
   "outputs": [],
   "source": []
  },
  {
   "cell_type": "markdown",
   "id": "6ab571ca-b049-4788-80a4-1ac03870d2bc",
   "metadata": {},
   "source": [
    "### DAG to Template Compiler"
   ]
  },
  {
   "cell_type": "code",
   "execution_count": 86,
   "id": "44a61b62-571b-4440-a3c1-17048474240d",
   "metadata": {},
   "outputs": [],
   "source": [
    "from cursus.api.dag.base_dag import PipelineDAG\n",
    "from cursus.core.compiler.dag_compiler import compile_dag_to_pipeline, PipelineDAGCompiler\n",
    "from cursus.core.compiler.validation import ConversionReport\n",
    "from cursus.steps.configs.utils import load_configs"
   ]
  },
  {
   "cell_type": "code",
   "execution_count": 87,
   "id": "6045ac10-6937-461e-9611-50aa83cc824f",
   "metadata": {},
   "outputs": [],
   "source": [
    "def create_xgboost_complete_e2e_dag() -> PipelineDAG:\n",
    "    \"\"\"\n",
    "    Create a DAG matching the exact structure from demo/demo_pipeline.ipynb.\n",
    "\n",
    "    This DAG represents a complete end-to-end workflow including training,\n",
    "    calibration, packaging, registration, and evaluation of an XGBoost model.\n",
    "\n",
    "    Returns:\n",
    "        PipelineDAG: The directed acyclic graph for the pipeline\n",
    "    \"\"\"\n",
    "    dag = PipelineDAG()\n",
    "\n",
    "    # Add all nodes - exactly as in the demo notebook\n",
    "    dag.add_node(\"CradleDataLoading_training\")  # Data load for training\n",
    "    dag.add_node(\"TabularPreprocessing_training\")  # Tabular preprocessing for training\n",
    "    dag.add_node(\"XGBoostTraining\")  # XGBoost training step\n",
    "    dag.add_node(\n",
    "        \"ModelCalibration_calibration\"\n",
    "    )  # Model calibration step with calibration variant\n",
    "    dag.add_node(\"Package\")  # Package step\n",
    "    dag.add_node(\"Registration\")  # MIMS registration step\n",
    "    dag.add_node(\"Payload\")  # Payload step\n",
    "    dag.add_node(\"CradleDataLoading_calibration\")  # Data load for calibration\n",
    "    dag.add_node(\n",
    "        \"TabularPreprocessing_calibration\"\n",
    "    )  # Tabular preprocessing for calibration\n",
    "    dag.add_node(\"XGBoostModelEval_calibration\")  # Model evaluation step\n",
    "\n",
    "    # Training flow\n",
    "    dag.add_edge(\"CradleDataLoading_training\", \"TabularPreprocessing_training\")\n",
    "    dag.add_edge(\"TabularPreprocessing_training\", \"XGBoostTraining\")\n",
    "\n",
    "    # Calibration flow\n",
    "    dag.add_edge(\"CradleDataLoading_calibration\", \"TabularPreprocessing_calibration\")\n",
    "\n",
    "    # Evaluation flow\n",
    "    dag.add_edge(\"XGBoostTraining\", \"XGBoostModelEval_calibration\")\n",
    "    dag.add_edge(\"TabularPreprocessing_calibration\", \"XGBoostModelEval_calibration\")\n",
    "\n",
    "    # Model calibration flow - depends on model evaluation\n",
    "    dag.add_edge(\"XGBoostModelEval_calibration\", \"ModelCalibration_calibration\")\n",
    "\n",
    "    # Output flow\n",
    "    dag.add_edge(\"ModelCalibration_calibration\", \"Package\")\n",
    "    dag.add_edge(\"XGBoostTraining\", \"Package\")  # Raw model is also input to packaging\n",
    "    dag.add_edge(\"XGBoostTraining\", \"Payload\")  # Payload test uses the raw model\n",
    "    dag.add_edge(\"Package\", \"Registration\")\n",
    "    dag.add_edge(\"Payload\", \"Registration\")\n",
    "\n",
    "    logger.info(\n",
    "        f\"Created XGBoost complete E2E DAG with {len(dag.nodes)} nodes and {len(dag.edges)} edges\"\n",
    "    )\n",
    "    return dag"
   ]
  },
  {
   "cell_type": "code",
   "execution_count": 88,
   "id": "88e0d05f-404d-4732-b4b8-e3ae866a9f14",
   "metadata": {
    "scrolled": true
   },
   "outputs": [
    {
     "name": "stderr",
     "output_type": "stream",
     "text": [
      "2025-09-21 17:55:43,777 - INFO - Added node: CradleDataLoading_training\n",
      "2025-09-21 17:55:43,777 - INFO - Added node: TabularPreprocessing_training\n",
      "2025-09-21 17:55:43,778 - INFO - Added node: XGBoostTraining\n",
      "2025-09-21 17:55:43,778 - INFO - Added node: ModelCalibration_calibration\n",
      "2025-09-21 17:55:43,778 - INFO - Added node: Package\n",
      "2025-09-21 17:55:43,779 - INFO - Added node: Registration\n",
      "2025-09-21 17:55:43,779 - INFO - Added node: Payload\n",
      "2025-09-21 17:55:43,779 - INFO - Added node: CradleDataLoading_calibration\n",
      "2025-09-21 17:55:43,780 - INFO - Added node: TabularPreprocessing_calibration\n",
      "2025-09-21 17:55:43,780 - INFO - Added node: XGBoostModelEval_calibration\n",
      "2025-09-21 17:55:43,780 - INFO - Added edge: CradleDataLoading_training -> TabularPreprocessing_training\n",
      "2025-09-21 17:55:43,781 - INFO - Added edge: TabularPreprocessing_training -> XGBoostTraining\n",
      "2025-09-21 17:55:43,781 - INFO - Added edge: CradleDataLoading_calibration -> TabularPreprocessing_calibration\n",
      "2025-09-21 17:55:43,781 - INFO - Added edge: XGBoostTraining -> XGBoostModelEval_calibration\n",
      "2025-09-21 17:55:43,782 - INFO - Added edge: TabularPreprocessing_calibration -> XGBoostModelEval_calibration\n",
      "2025-09-21 17:55:43,782 - INFO - Added edge: XGBoostModelEval_calibration -> ModelCalibration_calibration\n",
      "2025-09-21 17:55:43,782 - INFO - Added edge: ModelCalibration_calibration -> Package\n",
      "2025-09-21 17:55:43,783 - INFO - Added edge: XGBoostTraining -> Package\n",
      "2025-09-21 17:55:43,783 - INFO - Added edge: XGBoostTraining -> Payload\n",
      "2025-09-21 17:55:43,783 - INFO - Added edge: Package -> Registration\n",
      "2025-09-21 17:55:43,785 - INFO - Added edge: Payload -> Registration\n",
      "2025-09-21 17:55:43,785 - INFO - Created XGBoost complete E2E DAG with 10 nodes and 11 edges\n"
     ]
    }
   ],
   "source": [
    "dag = create_xgboost_complete_e2e_dag()"
   ]
  },
  {
   "cell_type": "code",
   "execution_count": 89,
   "id": "82c4b4f5-171d-4a67-9c44-d95152104154",
   "metadata": {},
   "outputs": [],
   "source": [
    "pipeline_parameters = [\n",
    "    PIPELINE_EXECUTION_TEMP_DIR,\n",
    "    KMS_ENCRYPTION_KEY_PARAM,\n",
    "    SECURITY_GROUP_ID,\n",
    "    VPC_SUBNET,\n",
    "]"
   ]
  },
  {
   "cell_type": "code",
   "execution_count": 90,
   "id": "afe3f43a-b759-47be-93dd-4f60249b44db",
   "metadata": {},
   "outputs": [],
   "source": [
    "dag_compiler = PipelineDAGCompiler(\n",
    "    config_path=config_path,\n",
    "    sagemaker_session=pipeline_session,\n",
    "    role=role,\n",
    "    pipeline_parameters=pipeline_parameters\n",
    ")"
   ]
  },
  {
   "cell_type": "markdown",
   "id": "d00c2242-932d-43c3-8b84-b81dfc5de16e",
   "metadata": {},
   "source": [
    "### Create a Pipeline"
   ]
  },
  {
   "cell_type": "code",
   "execution_count": null,
   "id": "0def820f-b4fc-4660-85f5-f6d6c832b985",
   "metadata": {},
   "outputs": [],
   "source": []
  },
  {
   "cell_type": "markdown",
   "id": "7d7dbeb8-f0ba-42f2-9c55-fede4f97db62",
   "metadata": {},
   "source": [
    "#### DAG Validation and Preview of Config Resolution"
   ]
  },
  {
   "cell_type": "code",
   "execution_count": 91,
   "id": "0f1ce473-9034-472c-81ec-1edea11b38a6",
   "metadata": {},
   "outputs": [],
   "source": [
    "preview_only = True"
   ]
  },
  {
   "cell_type": "code",
   "execution_count": 92,
   "id": "2f50ae6a-b1af-44e4-bab2-76dadeb33453",
   "metadata": {
    "scrolled": true
   },
   "outputs": [
    {
     "name": "stderr",
     "output_type": "stream",
     "text": [
      "2025-09-21 17:55:43,806 - INFO - Previewing resolution for 10 DAG nodes\n",
      "2025-09-21 17:55:43,806 - INFO - Creating template for DAG with 10 nodes\n",
      "2025-09-21 17:55:43,806 - WARNING - Could not import config_class_detector, using fallback implementation\n",
      "2025-09-21 17:55:43,840 - INFO - Discovered 26 core config classes\n",
      "2025-09-21 17:55:43,844 - INFO - Discovered 2 core hyperparameter classes\n",
      "2025-09-21 17:55:43,869 - INFO - Discovered 7 base hyperparameter classes from core/base\n",
      "2025-09-21 17:55:43,869 - INFO - Built complete config classes: 35 total (26 config + 9 hyperparameter auto-discovered)\n",
      "2025-09-21 17:55:43,870 - INFO - Successfully discovered 35 config classes using step catalog\n",
      "2025-09-21 17:55:43,870 - INFO - Loading configs from: /home/ec2-user/SageMaker/Cursus/pipeline_config/config_NA_xgboost_AtoZ_v2/config_NA_xgboost_AtoZ.json\n",
      "2025-09-21 17:55:43,903 - INFO - Discovered 26 core config classes\n",
      "2025-09-21 17:55:43,906 - INFO - Discovered 2 core hyperparameter classes\n",
      "2025-09-21 17:55:43,932 - INFO - Discovered 7 base hyperparameter classes from core/base\n",
      "2025-09-21 17:55:43,932 - INFO - Built complete config classes: 35 total (26 config + 9 hyperparameter auto-discovered)\n",
      "2025-09-21 17:55:43,932 - INFO - Successfully discovered 35 config classes using step catalog\n",
      "2025-09-21 17:55:43,934 - INFO - Loading configuration from /home/ec2-user/SageMaker/Cursus/pipeline_config/config_NA_xgboost_AtoZ_v2/config_NA_xgboost_AtoZ.json\n",
      "2025-09-21 17:55:43,937 - INFO - Successfully loaded configuration from /home/ec2-user/SageMaker/Cursus/pipeline_config/config_NA_xgboost_AtoZ_v2/config_NA_xgboost_AtoZ.json\n",
      "2025-09-21 17:55:43,937 - INFO - Successfully loaded configs from /home/ec2-user/SageMaker/Cursus/pipeline_config/config_NA_xgboost_AtoZ_v2/config_NA_xgboost_AtoZ.json with 12 specific configs\n",
      "2025-09-21 17:55:43,938 - INFO - Creating additional config instance for Base (BasePipelineConfig)\n",
      "2025-09-21 17:55:43,938 - WARNING - Class BasePipelineConfig not found\n",
      "2025-09-21 17:55:43,939 - WARNING - Could not find class BasePipelineConfig for unknown field, using BasePipelineConfig\n",
      "2025-09-21 17:55:43,939 - INFO - Creating additional config instance for CradleDataLoading_calibration (CradleDataLoadConfig)\n",
      "2025-09-21 17:55:43,940 - WARNING - Class CradleDataLoadConfig not found\n",
      "2025-09-21 17:55:43,940 - WARNING - Could not find class CradleDataLoadConfig for unknown field, using CradleDataLoadConfig\n",
      "2025-09-21 17:55:43,940 - WARNING - Class CradleJobSpecificationConfig not found\n",
      "2025-09-21 17:55:43,941 - WARNING - Could not find class CradleJobSpecificationConfig for unknown field, using CradleJobSpecificationConfig\n",
      "2025-09-21 17:55:43,941 - WARNING - Class DataSourcesSpecificationConfig not found\n",
      "2025-09-21 17:55:43,941 - WARNING - Could not find class DataSourcesSpecificationConfig for unknown field, using DataSourcesSpecificationConfig\n",
      "2025-09-21 17:55:43,942 - WARNING - Class DataSourceConfig not found\n",
      "2025-09-21 17:55:43,942 - WARNING - Could not find class DataSourceConfig for unknown field, using dict\n",
      "2025-09-21 17:55:43,942 - WARNING - Class MdsDataSourceConfig not found\n",
      "2025-09-21 17:55:43,943 - WARNING - Could not find class MdsDataSourceConfig for unknown field, using dict\n",
      "2025-09-21 17:55:43,943 - WARNING - Class DataSourceConfig not found\n",
      "2025-09-21 17:55:43,943 - WARNING - Could not find class DataSourceConfig for unknown field, using dict\n",
      "2025-09-21 17:55:43,944 - WARNING - Class EdxDataSourceConfig not found\n",
      "2025-09-21 17:55:43,945 - WARNING - Could not find class EdxDataSourceConfig for unknown field, using dict\n",
      "2025-09-21 17:55:43,946 - WARNING - Class OutputSpecificationConfig not found\n",
      "2025-09-21 17:55:43,946 - WARNING - Could not find class OutputSpecificationConfig for unknown field, using OutputSpecificationConfig\n",
      "2025-09-21 17:55:43,946 - WARNING - Class TransformSpecificationConfig not found\n",
      "2025-09-21 17:55:43,947 - WARNING - Could not find class TransformSpecificationConfig for unknown field, using TransformSpecificationConfig\n",
      "2025-09-21 17:55:43,947 - WARNING - Class JobSplitOptionsConfig not found\n",
      "2025-09-21 17:55:43,947 - WARNING - Could not find class JobSplitOptionsConfig for unknown field, using JobSplitOptionsConfig\n",
      "2025-09-21 17:55:43,948 - INFO - Creating additional config instance for CradleDataLoading_training (CradleDataLoadConfig)\n",
      "2025-09-21 17:55:43,948 - WARNING - Class CradleDataLoadConfig not found\n",
      "2025-09-21 17:55:43,949 - WARNING - Could not find class CradleDataLoadConfig for unknown field, using CradleDataLoadConfig\n",
      "2025-09-21 17:55:43,949 - WARNING - Class CradleJobSpecificationConfig not found\n",
      "2025-09-21 17:55:43,949 - WARNING - Could not find class CradleJobSpecificationConfig for unknown field, using CradleJobSpecificationConfig\n",
      "2025-09-21 17:55:43,950 - WARNING - Class DataSourcesSpecificationConfig not found\n",
      "2025-09-21 17:55:43,950 - WARNING - Could not find class DataSourcesSpecificationConfig for unknown field, using DataSourcesSpecificationConfig\n",
      "2025-09-21 17:55:43,950 - WARNING - Class DataSourceConfig not found\n",
      "2025-09-21 17:55:43,950 - WARNING - Could not find class DataSourceConfig for unknown field, using dict\n",
      "2025-09-21 17:55:43,951 - WARNING - Class MdsDataSourceConfig not found\n",
      "2025-09-21 17:55:43,951 - WARNING - Could not find class MdsDataSourceConfig for unknown field, using dict\n",
      "2025-09-21 17:55:43,952 - WARNING - Class DataSourceConfig not found\n",
      "2025-09-21 17:55:43,952 - WARNING - Could not find class DataSourceConfig for unknown field, using dict\n",
      "2025-09-21 17:55:43,952 - WARNING - Class EdxDataSourceConfig not found\n",
      "2025-09-21 17:55:43,953 - WARNING - Could not find class EdxDataSourceConfig for unknown field, using dict\n",
      "2025-09-21 17:55:43,953 - WARNING - Class OutputSpecificationConfig not found\n",
      "2025-09-21 17:55:43,953 - WARNING - Could not find class OutputSpecificationConfig for unknown field, using OutputSpecificationConfig\n",
      "2025-09-21 17:55:43,954 - WARNING - Class TransformSpecificationConfig not found\n",
      "2025-09-21 17:55:43,954 - WARNING - Could not find class TransformSpecificationConfig for unknown field, using TransformSpecificationConfig\n",
      "2025-09-21 17:55:43,954 - WARNING - Class JobSplitOptionsConfig not found\n",
      "2025-09-21 17:55:43,955 - WARNING - Could not find class JobSplitOptionsConfig for unknown field, using JobSplitOptionsConfig\n",
      "2025-09-21 17:55:43,955 - INFO - Creating additional config instance for ModelCalibration_calibration (ModelCalibrationConfig)\n",
      "2025-09-21 17:55:43,956 - WARNING - Class ModelCalibrationConfig not found\n",
      "2025-09-21 17:55:43,956 - WARNING - Could not find class ModelCalibrationConfig for unknown field, using ModelCalibrationConfig\n",
      "2025-09-21 17:55:43,957 - INFO - Creating additional config instance for Package (PackageConfig)\n",
      "2025-09-21 17:55:43,959 - WARNING - Class PackageConfig not found\n",
      "2025-09-21 17:55:43,960 - WARNING - Could not find class PackageConfig for unknown field, using PackageConfig\n",
      "2025-09-21 17:55:43,960 - INFO - Creating additional config instance for Payload (PayloadConfig)\n",
      "2025-09-21 17:55:43,960 - WARNING - Class PayloadConfig not found\n",
      "2025-09-21 17:55:43,961 - WARNING - Could not find class PayloadConfig for unknown field, using PayloadConfig\n",
      "2025-09-21 17:55:43,962 - INFO - Creating additional config instance for Processing (ProcessingStepConfigBase)\n",
      "2025-09-21 17:55:43,962 - WARNING - Class ProcessingStepConfigBase not found\n",
      "2025-09-21 17:55:43,963 - WARNING - Could not find class ProcessingStepConfigBase for unknown field, using ProcessingStepConfigBase\n",
      "2025-09-21 17:55:43,963 - INFO - Creating additional config instance for Registration (RegistrationConfig)\n",
      "2025-09-21 17:55:43,964 - WARNING - Class RegistrationConfig not found\n",
      "2025-09-21 17:55:43,964 - WARNING - Could not find class RegistrationConfig for unknown field, using RegistrationConfig\n",
      "2025-09-21 17:55:43,965 - INFO - Creating additional config instance for TabularPreprocessing_calibration (TabularPreprocessingConfig)\n",
      "2025-09-21 17:55:43,965 - WARNING - Class TabularPreprocessingConfig not found\n",
      "2025-09-21 17:55:43,966 - WARNING - Could not find class TabularPreprocessingConfig for unknown field, using TabularPreprocessingConfig\n",
      "2025-09-21 17:55:43,966 - INFO - Creating additional config instance for TabularPreprocessing_training (TabularPreprocessingConfig)\n",
      "2025-09-21 17:55:43,967 - WARNING - Class TabularPreprocessingConfig not found\n",
      "2025-09-21 17:55:43,967 - WARNING - Could not find class TabularPreprocessingConfig for unknown field, using TabularPreprocessingConfig\n",
      "2025-09-21 17:55:43,968 - INFO - Creating additional config instance for XGBoostModelEval_calibration (XGBoostModelEvalConfig)\n",
      "2025-09-21 17:55:43,968 - WARNING - Class XGBoostModelEvalConfig not found\n",
      "2025-09-21 17:55:43,968 - WARNING - Could not find class XGBoostModelEvalConfig for unknown field, using XGBoostModelEvalConfig\n",
      "2025-09-21 17:55:43,969 - WARNING - Class XGBoostModelHyperparameters not found\n",
      "2025-09-21 17:55:43,969 - WARNING - Could not find class XGBoostModelHyperparameters for unknown field, using XGBoostModelHyperparameters\n",
      "2025-09-21 17:55:43,970 - INFO - Creating additional config instance for XGBoostTraining (XGBoostTrainingConfig)\n",
      "2025-09-21 17:55:43,970 - WARNING - Class XGBoostTrainingConfig not found\n",
      "2025-09-21 17:55:43,970 - WARNING - Could not find class XGBoostTrainingConfig for unknown field, using XGBoostTrainingConfig\n",
      "2025-09-21 17:55:43,971 - WARNING - Class XGBoostModelHyperparameters not found\n",
      "2025-09-21 17:55:43,971 - WARNING - Could not find class XGBoostModelHyperparameters for unknown field, using XGBoostModelHyperparameters\n",
      "2025-09-21 17:55:43,972 - INFO - Successfully loaded configs from /home/ec2-user/SageMaker/Cursus/pipeline_config/config_NA_xgboost_AtoZ_v2/config_NA_xgboost_AtoZ.json\n",
      "2025-09-21 17:55:43,974 - INFO - Loaded raw configuration data from /home/ec2-user/SageMaker/Cursus/pipeline_config/config_NA_xgboost_AtoZ_v2/config_NA_xgboost_AtoZ.json\n",
      "2025-09-21 17:55:43,975 - INFO - Initialized registry manager with workspace context: None\n",
      "2025-09-21 17:55:43,975 - INFO - Created specification registry for context 'lukexie-AtoZ-xgboost-NA'\n",
      "2025-09-21 17:55:43,976 - INFO - Created new workspace-aware registry for context 'lukexie-AtoZ-xgboost-NA'\n",
      "2025-09-21 17:55:43,976 - INFO - Created registry manager for context: lukexie-AtoZ-xgboost-NA\n",
      "2025-09-21 17:55:43,976 - INFO - Created dependency resolver for context: lukexie-AtoZ-xgboost-NA\n",
      "2025-09-21 17:55:43,977 - INFO - Validating dynamic pipeline configuration\n",
      "2025-09-21 17:55:43,977 - INFO - Resolving 10 DAG nodes to configurations\n",
      "2025-09-21 17:55:43,977 - INFO - Using metadata from loaded configuration\n",
      "2025-09-21 17:55:43,978 - INFO - Found exact key match for node 'CradleDataLoading_training'\n",
      "2025-09-21 17:55:43,979 - INFO - Found exact key match for node 'TabularPreprocessing_training'\n",
      "2025-09-21 17:55:43,979 - INFO - Found exact key match for node 'XGBoostTraining'\n",
      "2025-09-21 17:55:43,979 - INFO - Found exact key match for node 'ModelCalibration_calibration'\n",
      "2025-09-21 17:55:43,980 - INFO - Found exact key match for node 'Package'\n",
      "2025-09-21 17:55:43,980 - INFO - Found exact key match for node 'Registration'\n",
      "2025-09-21 17:55:43,980 - INFO - Found exact key match for node 'Payload'\n",
      "2025-09-21 17:55:43,981 - INFO - Found exact key match for node 'CradleDataLoading_calibration'\n",
      "2025-09-21 17:55:43,981 - INFO - Found exact key match for node 'TabularPreprocessing_calibration'\n",
      "2025-09-21 17:55:43,981 - INFO - Found exact key match for node 'XGBoostModelEval_calibration'\n",
      "2025-09-21 17:55:43,982 - INFO - Successfully resolved all 10 nodes\n",
      "2025-09-21 17:55:43,982 - INFO - Using 15 registered step builders\n",
      "2025-09-21 17:55:43,982 - pipeline_registry.builder_registry - INFO - Found builder using base step type: CradleDataLoading\n",
      "2025-09-21 17:55:43,982 - INFO - Found builder using base step type: CradleDataLoading\n",
      "2025-09-21 17:55:43,983 - pipeline_registry.builder_registry - INFO - Found builder using base step type: TabularPreprocessing\n",
      "2025-09-21 17:55:43,983 - INFO - Found builder using base step type: TabularPreprocessing\n",
      "2025-09-21 17:55:43,983 - pipeline_registry.builder_registry - INFO - Found builder for exact node name: XGBoostTraining\n",
      "2025-09-21 17:55:43,983 - INFO - Found builder for exact node name: XGBoostTraining\n",
      "2025-09-21 17:55:43,984 - pipeline_registry.builder_registry - INFO - Found builder using base step type: ModelCalibration\n",
      "2025-09-21 17:55:43,984 - INFO - Found builder using base step type: ModelCalibration\n",
      "2025-09-21 17:55:43,985 - pipeline_registry.builder_registry - INFO - Found builder for exact node name: Package\n",
      "2025-09-21 17:55:43,985 - INFO - Found builder for exact node name: Package\n",
      "2025-09-21 17:55:43,986 - pipeline_registry.builder_registry - INFO - Found builder for exact node name: Registration\n",
      "2025-09-21 17:55:43,986 - INFO - Found builder for exact node name: Registration\n",
      "2025-09-21 17:55:43,988 - pipeline_registry.builder_registry - INFO - Found builder for exact node name: Payload\n",
      "2025-09-21 17:55:43,988 - INFO - Found builder for exact node name: Payload\n",
      "2025-09-21 17:55:43,989 - pipeline_registry.builder_registry - INFO - Found builder using base step type: CradleDataLoading\n",
      "2025-09-21 17:55:43,989 - INFO - Found builder using base step type: CradleDataLoading\n",
      "2025-09-21 17:55:43,989 - pipeline_registry.builder_registry - INFO - Found builder using base step type: TabularPreprocessing\n",
      "2025-09-21 17:55:43,989 - INFO - Found builder using base step type: TabularPreprocessing\n",
      "2025-09-21 17:55:43,990 - pipeline_registry.builder_registry - INFO - Found builder using base step type: XGBoostModelEval\n",
      "2025-09-21 17:55:43,990 - INFO - Found builder using base step type: XGBoostModelEval\n",
      "2025-09-21 17:55:43,991 - INFO - Configuration validation passed successfully\n",
      "2025-09-21 17:55:43,991 - INFO - Pipeline name 'lukexie-AtoZ-xgboost-NA-1.3.1-pipeline' sanitized to 'lukexie-AtoZ-xgboost-NA-1-3-1-pipeline' to conform to SageMaker constraints\n",
      "2025-09-21 17:55:43,992 - INFO - Initialized template for: lukexie-AtoZ-xgboost-NA-1-3-1-pipeline\n",
      "2025-09-21 17:55:43,993 - INFO - Successfully created template\n",
      "2025-09-21 17:55:43,993 - INFO - Using metadata.config_types mapping with 12 entries\n",
      "2025-09-21 17:55:43,993 - INFO - Found exact key match for node 'CradleDataLoading_training'\n",
      "2025-09-21 17:55:43,994 - INFO - Found exact key match for node 'TabularPreprocessing_training'\n",
      "2025-09-21 17:55:43,994 - INFO - Found exact key match for node 'XGBoostTraining'\n",
      "2025-09-21 17:55:43,994 - INFO - Found exact key match for node 'ModelCalibration_calibration'\n",
      "2025-09-21 17:55:43,995 - INFO - Found exact key match for node 'Package'\n",
      "2025-09-21 17:55:43,995 - INFO - Found exact key match for node 'Registration'\n",
      "2025-09-21 17:55:43,995 - INFO - Found exact key match for node 'Payload'\n",
      "2025-09-21 17:55:43,996 - INFO - Found exact key match for node 'CradleDataLoading_calibration'\n",
      "2025-09-21 17:55:43,996 - INFO - Found exact key match for node 'TabularPreprocessing_calibration'\n",
      "2025-09-21 17:55:43,996 - INFO - Found exact key match for node 'XGBoostModelEval_calibration'\n",
      "2025-09-21 17:55:43,997 - ERROR - Failed to generate resolution preview: 0\n",
      "2025-09-21 17:55:43,997 - INFO - DAG node resolution preview:\n",
      "2025-09-21 17:55:43,997 - INFO - Recommendations:\n",
      "2025-09-21 17:55:43,998 - INFO -   - Preview failed: 0\n",
      "2025-09-21 17:55:43,998 - INFO - Validating DAG compatibility for 10 nodes\n",
      "2025-09-21 17:55:43,998 - INFO - Creating template for DAG with 10 nodes\n",
      "2025-09-21 17:55:43,999 - INFO - Loading configs from: /home/ec2-user/SageMaker/Cursus/pipeline_config/config_NA_xgboost_AtoZ_v2/config_NA_xgboost_AtoZ.json\n",
      "2025-09-21 17:55:44,033 - INFO - Discovered 26 core config classes\n",
      "2025-09-21 17:55:44,036 - INFO - Discovered 2 core hyperparameter classes\n",
      "2025-09-21 17:55:44,062 - INFO - Discovered 7 base hyperparameter classes from core/base\n",
      "2025-09-21 17:55:44,062 - INFO - Built complete config classes: 35 total (26 config + 9 hyperparameter auto-discovered)\n",
      "2025-09-21 17:55:44,062 - INFO - Successfully discovered 35 config classes using step catalog\n",
      "2025-09-21 17:55:44,064 - INFO - Loading configuration from /home/ec2-user/SageMaker/Cursus/pipeline_config/config_NA_xgboost_AtoZ_v2/config_NA_xgboost_AtoZ.json\n",
      "2025-09-21 17:55:44,067 - INFO - Successfully loaded configuration from /home/ec2-user/SageMaker/Cursus/pipeline_config/config_NA_xgboost_AtoZ_v2/config_NA_xgboost_AtoZ.json\n",
      "2025-09-21 17:55:44,067 - INFO - Successfully loaded configs from /home/ec2-user/SageMaker/Cursus/pipeline_config/config_NA_xgboost_AtoZ_v2/config_NA_xgboost_AtoZ.json with 12 specific configs\n",
      "2025-09-21 17:55:44,068 - INFO - Creating additional config instance for Base (BasePipelineConfig)\n",
      "2025-09-21 17:55:44,068 - WARNING - Class BasePipelineConfig not found\n",
      "2025-09-21 17:55:44,069 - WARNING - Could not find class BasePipelineConfig for unknown field, using BasePipelineConfig\n",
      "2025-09-21 17:55:44,069 - INFO - Creating additional config instance for CradleDataLoading_calibration (CradleDataLoadConfig)\n",
      "2025-09-21 17:55:44,070 - WARNING - Class CradleDataLoadConfig not found\n",
      "2025-09-21 17:55:44,070 - WARNING - Could not find class CradleDataLoadConfig for unknown field, using CradleDataLoadConfig\n",
      "2025-09-21 17:55:44,070 - WARNING - Class CradleJobSpecificationConfig not found\n",
      "2025-09-21 17:55:44,071 - WARNING - Could not find class CradleJobSpecificationConfig for unknown field, using CradleJobSpecificationConfig\n",
      "2025-09-21 17:55:44,071 - WARNING - Class DataSourcesSpecificationConfig not found\n",
      "2025-09-21 17:55:44,071 - WARNING - Could not find class DataSourcesSpecificationConfig for unknown field, using DataSourcesSpecificationConfig\n",
      "2025-09-21 17:55:44,072 - WARNING - Class DataSourceConfig not found\n",
      "2025-09-21 17:55:44,072 - WARNING - Could not find class DataSourceConfig for unknown field, using dict\n",
      "2025-09-21 17:55:44,072 - WARNING - Class MdsDataSourceConfig not found\n",
      "2025-09-21 17:55:44,073 - WARNING - Could not find class MdsDataSourceConfig for unknown field, using dict\n",
      "2025-09-21 17:55:44,073 - WARNING - Class DataSourceConfig not found\n",
      "2025-09-21 17:55:44,073 - WARNING - Could not find class DataSourceConfig for unknown field, using dict\n",
      "2025-09-21 17:55:44,074 - WARNING - Class EdxDataSourceConfig not found\n",
      "2025-09-21 17:55:44,074 - WARNING - Could not find class EdxDataSourceConfig for unknown field, using dict\n",
      "2025-09-21 17:55:44,074 - WARNING - Class OutputSpecificationConfig not found\n",
      "2025-09-21 17:55:44,075 - WARNING - Could not find class OutputSpecificationConfig for unknown field, using OutputSpecificationConfig\n",
      "2025-09-21 17:55:44,075 - WARNING - Class TransformSpecificationConfig not found\n",
      "2025-09-21 17:55:44,076 - WARNING - Could not find class TransformSpecificationConfig for unknown field, using TransformSpecificationConfig\n",
      "2025-09-21 17:55:44,076 - WARNING - Class JobSplitOptionsConfig not found\n",
      "2025-09-21 17:55:44,076 - WARNING - Could not find class JobSplitOptionsConfig for unknown field, using JobSplitOptionsConfig\n",
      "2025-09-21 17:55:44,077 - INFO - Creating additional config instance for CradleDataLoading_training (CradleDataLoadConfig)\n",
      "2025-09-21 17:55:44,077 - WARNING - Class CradleDataLoadConfig not found\n",
      "2025-09-21 17:55:44,077 - WARNING - Could not find class CradleDataLoadConfig for unknown field, using CradleDataLoadConfig\n",
      "2025-09-21 17:55:44,078 - WARNING - Class CradleJobSpecificationConfig not found\n",
      "2025-09-21 17:55:44,078 - WARNING - Could not find class CradleJobSpecificationConfig for unknown field, using CradleJobSpecificationConfig\n",
      "2025-09-21 17:55:44,078 - WARNING - Class DataSourcesSpecificationConfig not found\n",
      "2025-09-21 17:55:44,079 - WARNING - Could not find class DataSourcesSpecificationConfig for unknown field, using DataSourcesSpecificationConfig\n",
      "2025-09-21 17:55:44,079 - WARNING - Class DataSourceConfig not found\n",
      "2025-09-21 17:55:44,079 - WARNING - Could not find class DataSourceConfig for unknown field, using dict\n",
      "2025-09-21 17:55:44,080 - WARNING - Class MdsDataSourceConfig not found\n",
      "2025-09-21 17:55:44,080 - WARNING - Could not find class MdsDataSourceConfig for unknown field, using dict\n",
      "2025-09-21 17:55:44,080 - WARNING - Class DataSourceConfig not found\n",
      "2025-09-21 17:55:44,081 - WARNING - Could not find class DataSourceConfig for unknown field, using dict\n",
      "2025-09-21 17:55:44,081 - WARNING - Class EdxDataSourceConfig not found\n",
      "2025-09-21 17:55:44,081 - WARNING - Could not find class EdxDataSourceConfig for unknown field, using dict\n",
      "2025-09-21 17:55:44,082 - WARNING - Class OutputSpecificationConfig not found\n",
      "2025-09-21 17:55:44,082 - WARNING - Could not find class OutputSpecificationConfig for unknown field, using OutputSpecificationConfig\n",
      "2025-09-21 17:55:44,083 - WARNING - Class TransformSpecificationConfig not found\n",
      "2025-09-21 17:55:44,083 - WARNING - Could not find class TransformSpecificationConfig for unknown field, using TransformSpecificationConfig\n",
      "2025-09-21 17:55:44,083 - WARNING - Class JobSplitOptionsConfig not found\n",
      "2025-09-21 17:55:44,084 - WARNING - Could not find class JobSplitOptionsConfig for unknown field, using JobSplitOptionsConfig\n",
      "2025-09-21 17:55:44,084 - INFO - Creating additional config instance for ModelCalibration_calibration (ModelCalibrationConfig)\n",
      "2025-09-21 17:55:44,084 - WARNING - Class ModelCalibrationConfig not found\n",
      "2025-09-21 17:55:44,085 - WARNING - Could not find class ModelCalibrationConfig for unknown field, using ModelCalibrationConfig\n",
      "2025-09-21 17:55:44,085 - INFO - Creating additional config instance for Package (PackageConfig)\n",
      "2025-09-21 17:55:44,089 - WARNING - Class PackageConfig not found\n",
      "2025-09-21 17:55:44,089 - WARNING - Could not find class PackageConfig for unknown field, using PackageConfig\n",
      "2025-09-21 17:55:44,090 - INFO - Creating additional config instance for Payload (PayloadConfig)\n",
      "2025-09-21 17:55:44,090 - WARNING - Class PayloadConfig not found\n",
      "2025-09-21 17:55:44,091 - WARNING - Could not find class PayloadConfig for unknown field, using PayloadConfig\n",
      "2025-09-21 17:55:44,092 - INFO - Creating additional config instance for Processing (ProcessingStepConfigBase)\n",
      "2025-09-21 17:55:44,092 - WARNING - Class ProcessingStepConfigBase not found\n",
      "2025-09-21 17:55:44,092 - WARNING - Could not find class ProcessingStepConfigBase for unknown field, using ProcessingStepConfigBase\n",
      "2025-09-21 17:55:44,093 - INFO - Creating additional config instance for Registration (RegistrationConfig)\n",
      "2025-09-21 17:55:44,093 - WARNING - Class RegistrationConfig not found\n",
      "2025-09-21 17:55:44,094 - WARNING - Could not find class RegistrationConfig for unknown field, using RegistrationConfig\n",
      "2025-09-21 17:55:44,094 - INFO - Creating additional config instance for TabularPreprocessing_calibration (TabularPreprocessingConfig)\n",
      "2025-09-21 17:55:44,096 - WARNING - Class TabularPreprocessingConfig not found\n",
      "2025-09-21 17:55:44,096 - WARNING - Could not find class TabularPreprocessingConfig for unknown field, using TabularPreprocessingConfig\n",
      "2025-09-21 17:55:44,097 - INFO - Creating additional config instance for TabularPreprocessing_training (TabularPreprocessingConfig)\n",
      "2025-09-21 17:55:44,097 - WARNING - Class TabularPreprocessingConfig not found\n",
      "2025-09-21 17:55:44,097 - WARNING - Could not find class TabularPreprocessingConfig for unknown field, using TabularPreprocessingConfig\n",
      "2025-09-21 17:55:44,098 - INFO - Creating additional config instance for XGBoostModelEval_calibration (XGBoostModelEvalConfig)\n",
      "2025-09-21 17:55:44,098 - WARNING - Class XGBoostModelEvalConfig not found\n",
      "2025-09-21 17:55:44,099 - WARNING - Could not find class XGBoostModelEvalConfig for unknown field, using XGBoostModelEvalConfig\n",
      "2025-09-21 17:55:44,099 - WARNING - Class XGBoostModelHyperparameters not found\n",
      "2025-09-21 17:55:44,099 - WARNING - Could not find class XGBoostModelHyperparameters for unknown field, using XGBoostModelHyperparameters\n",
      "2025-09-21 17:55:44,100 - INFO - Creating additional config instance for XGBoostTraining (XGBoostTrainingConfig)\n",
      "2025-09-21 17:55:44,101 - WARNING - Class XGBoostTrainingConfig not found\n",
      "2025-09-21 17:55:44,101 - WARNING - Could not find class XGBoostTrainingConfig for unknown field, using XGBoostTrainingConfig\n",
      "2025-09-21 17:55:44,101 - WARNING - Class XGBoostModelHyperparameters not found\n",
      "2025-09-21 17:55:44,102 - WARNING - Could not find class XGBoostModelHyperparameters for unknown field, using XGBoostModelHyperparameters\n",
      "2025-09-21 17:55:44,102 - INFO - Successfully loaded configs from /home/ec2-user/SageMaker/Cursus/pipeline_config/config_NA_xgboost_AtoZ_v2/config_NA_xgboost_AtoZ.json\n",
      "2025-09-21 17:55:44,104 - INFO - Loaded raw configuration data from /home/ec2-user/SageMaker/Cursus/pipeline_config/config_NA_xgboost_AtoZ_v2/config_NA_xgboost_AtoZ.json\n",
      "2025-09-21 17:55:44,105 - INFO - Initialized registry manager with workspace context: None\n",
      "2025-09-21 17:55:44,105 - INFO - Created specification registry for context 'lukexie-AtoZ-xgboost-NA'\n",
      "2025-09-21 17:55:44,106 - INFO - Created new workspace-aware registry for context 'lukexie-AtoZ-xgboost-NA'\n",
      "2025-09-21 17:55:44,106 - INFO - Created registry manager for context: lukexie-AtoZ-xgboost-NA\n",
      "2025-09-21 17:55:44,107 - INFO - Created dependency resolver for context: lukexie-AtoZ-xgboost-NA\n",
      "2025-09-21 17:55:44,107 - INFO - Validating dynamic pipeline configuration\n",
      "2025-09-21 17:55:44,107 - INFO - Resolving 10 DAG nodes to configurations\n",
      "2025-09-21 17:55:44,108 - INFO - Using metadata from loaded configuration\n",
      "2025-09-21 17:55:44,108 - INFO - Found exact key match for node 'CradleDataLoading_training'\n",
      "2025-09-21 17:55:44,108 - INFO - Found exact key match for node 'TabularPreprocessing_training'\n",
      "2025-09-21 17:55:44,109 - INFO - Found exact key match for node 'XGBoostTraining'\n",
      "2025-09-21 17:55:44,109 - INFO - Found exact key match for node 'ModelCalibration_calibration'\n",
      "2025-09-21 17:55:44,109 - INFO - Found exact key match for node 'Package'\n",
      "2025-09-21 17:55:44,110 - INFO - Found exact key match for node 'Registration'\n",
      "2025-09-21 17:55:44,111 - INFO - Found exact key match for node 'Payload'\n",
      "2025-09-21 17:55:44,111 - INFO - Found exact key match for node 'CradleDataLoading_calibration'\n",
      "2025-09-21 17:55:44,111 - INFO - Found exact key match for node 'TabularPreprocessing_calibration'\n",
      "2025-09-21 17:55:44,112 - INFO - Found exact key match for node 'XGBoostModelEval_calibration'\n",
      "2025-09-21 17:55:44,112 - INFO - Successfully resolved all 10 nodes\n",
      "2025-09-21 17:55:44,112 - INFO - Using 15 registered step builders\n",
      "2025-09-21 17:55:44,113 - pipeline_registry.builder_registry - INFO - Found builder using base step type: CradleDataLoading\n",
      "2025-09-21 17:55:44,113 - INFO - Found builder using base step type: CradleDataLoading\n",
      "2025-09-21 17:55:44,113 - pipeline_registry.builder_registry - INFO - Found builder using base step type: TabularPreprocessing\n",
      "2025-09-21 17:55:44,113 - INFO - Found builder using base step type: TabularPreprocessing\n",
      "2025-09-21 17:55:44,115 - pipeline_registry.builder_registry - INFO - Found builder for exact node name: XGBoostTraining\n",
      "2025-09-21 17:55:44,115 - INFO - Found builder for exact node name: XGBoostTraining\n",
      "2025-09-21 17:55:44,115 - pipeline_registry.builder_registry - INFO - Found builder using base step type: ModelCalibration\n",
      "2025-09-21 17:55:44,115 - INFO - Found builder using base step type: ModelCalibration\n",
      "2025-09-21 17:55:44,116 - pipeline_registry.builder_registry - INFO - Found builder for exact node name: Package\n",
      "2025-09-21 17:55:44,116 - INFO - Found builder for exact node name: Package\n",
      "2025-09-21 17:55:44,117 - pipeline_registry.builder_registry - INFO - Found builder for exact node name: Registration\n",
      "2025-09-21 17:55:44,117 - INFO - Found builder for exact node name: Registration\n",
      "2025-09-21 17:55:44,118 - pipeline_registry.builder_registry - INFO - Found builder for exact node name: Payload\n",
      "2025-09-21 17:55:44,118 - INFO - Found builder for exact node name: Payload\n",
      "2025-09-21 17:55:44,118 - pipeline_registry.builder_registry - INFO - Found builder using base step type: CradleDataLoading\n",
      "2025-09-21 17:55:44,118 - INFO - Found builder using base step type: CradleDataLoading\n",
      "2025-09-21 17:55:44,119 - pipeline_registry.builder_registry - INFO - Found builder using base step type: TabularPreprocessing\n",
      "2025-09-21 17:55:44,119 - INFO - Found builder using base step type: TabularPreprocessing\n",
      "2025-09-21 17:55:44,120 - pipeline_registry.builder_registry - INFO - Found builder using base step type: XGBoostModelEval\n",
      "2025-09-21 17:55:44,120 - INFO - Found builder using base step type: XGBoostModelEval\n",
      "2025-09-21 17:55:44,121 - INFO - Configuration validation passed successfully\n",
      "2025-09-21 17:55:44,121 - INFO - Pipeline name 'lukexie-AtoZ-xgboost-NA-1.3.1-pipeline' sanitized to 'lukexie-AtoZ-xgboost-NA-1-3-1-pipeline' to conform to SageMaker constraints\n",
      "2025-09-21 17:55:44,122 - INFO - Initialized template for: lukexie-AtoZ-xgboost-NA-1-3-1-pipeline\n",
      "2025-09-21 17:55:44,122 - INFO - Successfully created template\n",
      "2025-09-21 17:55:44,123 - INFO - Validation completed: ✅ Validation passed\n",
      "2025-09-21 17:55:44,123 - INFO - DAG validation: VALID\n"
     ]
    }
   ],
   "source": [
    "if preview_only:\n",
    "    preview = dag_compiler.preview_resolution(dag)\n",
    "    logger.info(\"DAG node resolution preview:\")\n",
    "    for node, config_type in preview.node_config_map.items():\n",
    "        confidence = preview.resolution_confidence.get(node, 0.0)\n",
    "        logger.info(f\"  {node} → {config_type} (confidence: {confidence:.2f})\")\n",
    "        \n",
    "    if preview.recommendations:\n",
    "        logger.info(\"Recommendations:\")\n",
    "        for recommendation in preview.recommendations:\n",
    "            logger.info(f\"  - {recommendation}\")\n",
    "        \n",
    "    validation = dag_compiler.validate_dag_compatibility(dag)\n",
    "    logger.info(f\"DAG validation: {'VALID' if validation.is_valid else 'INVALID'}\")\n",
    "    if not validation.is_valid:\n",
    "        if validation.missing_configs:\n",
    "            logger.warning(f\"Missing configs: {validation.missing_configs}\")\n",
    "        if validation.unresolvable_builders:\n",
    "            logger.warning(f\"Unresolvable builders: {validation.unresolvable_builders}\")\n",
    "        if validation.config_errors:\n",
    "            logger.warning(f\"Config errors: {validation.config_errors}\")"
   ]
  },
  {
   "cell_type": "markdown",
   "id": "ad15ff04-893e-41d1-a153-420405a38382",
   "metadata": {},
   "source": [
    "### Put it Together: Pipeline Generation from DAG"
   ]
  },
  {
   "cell_type": "code",
   "execution_count": 93,
   "id": "8a8a68cc-a8a1-43d0-b5de-b3d473f13628",
   "metadata": {
    "scrolled": true
   },
   "outputs": [
    {
     "name": "stderr",
     "output_type": "stream",
     "text": [
      "2025-09-21 17:55:44,128 - INFO - Converting DAG to pipeline\n",
      "2025-09-21 17:55:44,129 - INFO - Compiling DAG with detailed reporting\n",
      "2025-09-21 17:55:44,129 - INFO - Compiling DAG with 10 nodes to pipeline\n",
      "2025-09-21 17:55:44,129 - INFO - Creating template for DAG with 10 nodes\n",
      "2025-09-21 17:55:44,130 - INFO - Loading configs from: /home/ec2-user/SageMaker/Cursus/pipeline_config/config_NA_xgboost_AtoZ_v2/config_NA_xgboost_AtoZ.json\n",
      "2025-09-21 17:55:44,163 - INFO - Discovered 26 core config classes\n",
      "2025-09-21 17:55:44,167 - INFO - Discovered 2 core hyperparameter classes\n",
      "2025-09-21 17:55:44,192 - INFO - Discovered 7 base hyperparameter classes from core/base\n",
      "2025-09-21 17:55:44,193 - INFO - Built complete config classes: 35 total (26 config + 9 hyperparameter auto-discovered)\n",
      "2025-09-21 17:55:44,193 - INFO - Successfully discovered 35 config classes using step catalog\n",
      "2025-09-21 17:55:44,194 - INFO - Loading configuration from /home/ec2-user/SageMaker/Cursus/pipeline_config/config_NA_xgboost_AtoZ_v2/config_NA_xgboost_AtoZ.json\n",
      "2025-09-21 17:55:44,197 - INFO - Successfully loaded configuration from /home/ec2-user/SageMaker/Cursus/pipeline_config/config_NA_xgboost_AtoZ_v2/config_NA_xgboost_AtoZ.json\n",
      "2025-09-21 17:55:44,198 - INFO - Successfully loaded configs from /home/ec2-user/SageMaker/Cursus/pipeline_config/config_NA_xgboost_AtoZ_v2/config_NA_xgboost_AtoZ.json with 12 specific configs\n",
      "2025-09-21 17:55:44,199 - INFO - Creating additional config instance for Base (BasePipelineConfig)\n",
      "2025-09-21 17:55:44,199 - WARNING - Class BasePipelineConfig not found\n",
      "2025-09-21 17:55:44,199 - WARNING - Could not find class BasePipelineConfig for unknown field, using BasePipelineConfig\n",
      "2025-09-21 17:55:44,200 - INFO - Creating additional config instance for CradleDataLoading_calibration (CradleDataLoadConfig)\n",
      "2025-09-21 17:55:44,200 - WARNING - Class CradleDataLoadConfig not found\n",
      "2025-09-21 17:55:44,201 - WARNING - Could not find class CradleDataLoadConfig for unknown field, using CradleDataLoadConfig\n",
      "2025-09-21 17:55:44,201 - WARNING - Class CradleJobSpecificationConfig not found\n",
      "2025-09-21 17:55:44,201 - WARNING - Could not find class CradleJobSpecificationConfig for unknown field, using CradleJobSpecificationConfig\n",
      "2025-09-21 17:55:44,202 - WARNING - Class DataSourcesSpecificationConfig not found\n",
      "2025-09-21 17:55:44,202 - WARNING - Could not find class DataSourcesSpecificationConfig for unknown field, using DataSourcesSpecificationConfig\n",
      "2025-09-21 17:55:44,202 - WARNING - Class DataSourceConfig not found\n",
      "2025-09-21 17:55:44,203 - WARNING - Could not find class DataSourceConfig for unknown field, using dict\n",
      "2025-09-21 17:55:44,203 - WARNING - Class MdsDataSourceConfig not found\n",
      "2025-09-21 17:55:44,204 - WARNING - Could not find class MdsDataSourceConfig for unknown field, using dict\n",
      "2025-09-21 17:55:44,205 - WARNING - Class DataSourceConfig not found\n",
      "2025-09-21 17:55:44,205 - WARNING - Could not find class DataSourceConfig for unknown field, using dict\n",
      "2025-09-21 17:55:44,205 - WARNING - Class EdxDataSourceConfig not found\n",
      "2025-09-21 17:55:44,206 - WARNING - Could not find class EdxDataSourceConfig for unknown field, using dict\n",
      "2025-09-21 17:55:44,206 - WARNING - Class OutputSpecificationConfig not found\n",
      "2025-09-21 17:55:44,206 - WARNING - Could not find class OutputSpecificationConfig for unknown field, using OutputSpecificationConfig\n",
      "2025-09-21 17:55:44,207 - WARNING - Class TransformSpecificationConfig not found\n",
      "2025-09-21 17:55:44,207 - WARNING - Could not find class TransformSpecificationConfig for unknown field, using TransformSpecificationConfig\n",
      "2025-09-21 17:55:44,207 - WARNING - Class JobSplitOptionsConfig not found\n",
      "2025-09-21 17:55:44,208 - WARNING - Could not find class JobSplitOptionsConfig for unknown field, using JobSplitOptionsConfig\n",
      "2025-09-21 17:55:44,208 - INFO - Creating additional config instance for CradleDataLoading_training (CradleDataLoadConfig)\n",
      "2025-09-21 17:55:44,209 - WARNING - Class CradleDataLoadConfig not found\n",
      "2025-09-21 17:55:44,209 - WARNING - Could not find class CradleDataLoadConfig for unknown field, using CradleDataLoadConfig\n",
      "2025-09-21 17:55:44,209 - WARNING - Class CradleJobSpecificationConfig not found\n",
      "2025-09-21 17:55:44,210 - WARNING - Could not find class CradleJobSpecificationConfig for unknown field, using CradleJobSpecificationConfig\n",
      "2025-09-21 17:55:44,210 - WARNING - Class DataSourcesSpecificationConfig not found\n",
      "2025-09-21 17:55:44,210 - WARNING - Could not find class DataSourcesSpecificationConfig for unknown field, using DataSourcesSpecificationConfig\n",
      "2025-09-21 17:55:44,211 - WARNING - Class DataSourceConfig not found\n",
      "2025-09-21 17:55:44,211 - WARNING - Could not find class DataSourceConfig for unknown field, using dict\n",
      "2025-09-21 17:55:44,211 - WARNING - Class MdsDataSourceConfig not found\n",
      "2025-09-21 17:55:44,212 - WARNING - Could not find class MdsDataSourceConfig for unknown field, using dict\n",
      "2025-09-21 17:55:44,212 - WARNING - Class DataSourceConfig not found\n",
      "2025-09-21 17:55:44,212 - WARNING - Could not find class DataSourceConfig for unknown field, using dict\n",
      "2025-09-21 17:55:44,213 - WARNING - Class EdxDataSourceConfig not found\n",
      "2025-09-21 17:55:44,213 - WARNING - Could not find class EdxDataSourceConfig for unknown field, using dict\n",
      "2025-09-21 17:55:44,213 - WARNING - Class OutputSpecificationConfig not found\n",
      "2025-09-21 17:55:44,214 - WARNING - Could not find class OutputSpecificationConfig for unknown field, using OutputSpecificationConfig\n",
      "2025-09-21 17:55:44,214 - WARNING - Class TransformSpecificationConfig not found\n",
      "2025-09-21 17:55:44,214 - WARNING - Could not find class TransformSpecificationConfig for unknown field, using TransformSpecificationConfig\n",
      "2025-09-21 17:55:44,215 - WARNING - Class JobSplitOptionsConfig not found\n",
      "2025-09-21 17:55:44,215 - WARNING - Could not find class JobSplitOptionsConfig for unknown field, using JobSplitOptionsConfig\n",
      "2025-09-21 17:55:44,218 - INFO - Creating additional config instance for ModelCalibration_calibration (ModelCalibrationConfig)\n",
      "2025-09-21 17:55:44,218 - WARNING - Class ModelCalibrationConfig not found\n",
      "2025-09-21 17:55:44,219 - WARNING - Could not find class ModelCalibrationConfig for unknown field, using ModelCalibrationConfig\n",
      "2025-09-21 17:55:44,219 - INFO - Creating additional config instance for Package (PackageConfig)\n",
      "2025-09-21 17:55:44,220 - WARNING - Class PackageConfig not found\n",
      "2025-09-21 17:55:44,220 - WARNING - Could not find class PackageConfig for unknown field, using PackageConfig\n",
      "2025-09-21 17:55:44,221 - INFO - Creating additional config instance for Payload (PayloadConfig)\n",
      "2025-09-21 17:55:44,221 - WARNING - Class PayloadConfig not found\n",
      "2025-09-21 17:55:44,222 - WARNING - Could not find class PayloadConfig for unknown field, using PayloadConfig\n",
      "2025-09-21 17:55:44,222 - INFO - Creating additional config instance for Processing (ProcessingStepConfigBase)\n",
      "2025-09-21 17:55:44,223 - WARNING - Class ProcessingStepConfigBase not found\n",
      "2025-09-21 17:55:44,224 - WARNING - Could not find class ProcessingStepConfigBase for unknown field, using ProcessingStepConfigBase\n",
      "2025-09-21 17:55:44,224 - INFO - Creating additional config instance for Registration (RegistrationConfig)\n",
      "2025-09-21 17:55:44,225 - WARNING - Class RegistrationConfig not found\n",
      "2025-09-21 17:55:44,225 - WARNING - Could not find class RegistrationConfig for unknown field, using RegistrationConfig\n",
      "2025-09-21 17:55:44,226 - INFO - Creating additional config instance for TabularPreprocessing_calibration (TabularPreprocessingConfig)\n",
      "2025-09-21 17:55:44,226 - WARNING - Class TabularPreprocessingConfig not found\n",
      "2025-09-21 17:55:44,226 - WARNING - Could not find class TabularPreprocessingConfig for unknown field, using TabularPreprocessingConfig\n",
      "2025-09-21 17:55:44,228 - INFO - Creating additional config instance for TabularPreprocessing_training (TabularPreprocessingConfig)\n",
      "2025-09-21 17:55:44,228 - WARNING - Class TabularPreprocessingConfig not found\n",
      "2025-09-21 17:55:44,228 - WARNING - Could not find class TabularPreprocessingConfig for unknown field, using TabularPreprocessingConfig\n",
      "2025-09-21 17:55:44,229 - INFO - Creating additional config instance for XGBoostModelEval_calibration (XGBoostModelEvalConfig)\n",
      "2025-09-21 17:55:44,229 - WARNING - Class XGBoostModelEvalConfig not found\n",
      "2025-09-21 17:55:44,230 - WARNING - Could not find class XGBoostModelEvalConfig for unknown field, using XGBoostModelEvalConfig\n",
      "2025-09-21 17:55:44,230 - WARNING - Class XGBoostModelHyperparameters not found\n",
      "2025-09-21 17:55:44,230 - WARNING - Could not find class XGBoostModelHyperparameters for unknown field, using XGBoostModelHyperparameters\n",
      "2025-09-21 17:55:44,231 - INFO - Creating additional config instance for XGBoostTraining (XGBoostTrainingConfig)\n",
      "2025-09-21 17:55:44,232 - WARNING - Class XGBoostTrainingConfig not found\n",
      "2025-09-21 17:55:44,232 - WARNING - Could not find class XGBoostTrainingConfig for unknown field, using XGBoostTrainingConfig\n",
      "2025-09-21 17:55:44,232 - WARNING - Class XGBoostModelHyperparameters not found\n",
      "2025-09-21 17:55:44,233 - WARNING - Could not find class XGBoostModelHyperparameters for unknown field, using XGBoostModelHyperparameters\n",
      "2025-09-21 17:55:44,233 - INFO - Successfully loaded configs from /home/ec2-user/SageMaker/Cursus/pipeline_config/config_NA_xgboost_AtoZ_v2/config_NA_xgboost_AtoZ.json\n",
      "2025-09-21 17:55:44,235 - INFO - Loaded raw configuration data from /home/ec2-user/SageMaker/Cursus/pipeline_config/config_NA_xgboost_AtoZ_v2/config_NA_xgboost_AtoZ.json\n",
      "2025-09-21 17:55:44,236 - INFO - Initialized registry manager with workspace context: None\n",
      "2025-09-21 17:55:44,236 - INFO - Created specification registry for context 'lukexie-AtoZ-xgboost-NA'\n",
      "2025-09-21 17:55:44,237 - INFO - Created new workspace-aware registry for context 'lukexie-AtoZ-xgboost-NA'\n",
      "2025-09-21 17:55:44,237 - INFO - Created registry manager for context: lukexie-AtoZ-xgboost-NA\n",
      "2025-09-21 17:55:44,237 - INFO - Created dependency resolver for context: lukexie-AtoZ-xgboost-NA\n",
      "2025-09-21 17:55:44,238 - INFO - Skipping configuration validation (requested)\n",
      "2025-09-21 17:55:44,238 - INFO - Pipeline name 'lukexie-AtoZ-xgboost-NA-1.3.1-pipeline' sanitized to 'lukexie-AtoZ-xgboost-NA-1-3-1-pipeline' to conform to SageMaker constraints\n",
      "2025-09-21 17:55:44,238 - INFO - Initialized template for: lukexie-AtoZ-xgboost-NA-1-3-1-pipeline\n",
      "2025-09-21 17:55:44,239 - INFO - Successfully created template\n",
      "2025-09-21 17:55:44,239 - INFO - Pipeline name 'lukexie-AtoZ-xgboost-NA-1.3.1-pipeline' sanitized to 'lukexie-AtoZ-xgboost-NA-1-3-1-pipeline' to conform to SageMaker constraints\n",
      "2025-09-21 17:55:44,239 - INFO - Generating pipeline: lukexie-AtoZ-xgboost-NA-1-3-1-pipeline\n",
      "2025-09-21 17:55:44,241 - INFO - Resolving 10 DAG nodes to configurations\n",
      "2025-09-21 17:55:44,241 - INFO - Using metadata from loaded configuration\n",
      "2025-09-21 17:55:44,241 - INFO - Found exact key match for node 'CradleDataLoading_training'\n",
      "2025-09-21 17:55:44,242 - INFO - Found exact key match for node 'TabularPreprocessing_training'\n",
      "2025-09-21 17:55:44,242 - INFO - Found exact key match for node 'XGBoostTraining'\n",
      "2025-09-21 17:55:44,242 - INFO - Found exact key match for node 'ModelCalibration_calibration'\n",
      "2025-09-21 17:55:44,243 - INFO - Found exact key match for node 'Package'\n",
      "2025-09-21 17:55:44,243 - INFO - Found exact key match for node 'Registration'\n",
      "2025-09-21 17:55:44,244 - INFO - Found exact key match for node 'Payload'\n",
      "2025-09-21 17:55:44,244 - INFO - Found exact key match for node 'CradleDataLoading_calibration'\n",
      "2025-09-21 17:55:44,244 - INFO - Found exact key match for node 'TabularPreprocessing_calibration'\n",
      "2025-09-21 17:55:44,244 - INFO - Found exact key match for node 'XGBoostModelEval_calibration'\n",
      "2025-09-21 17:55:44,245 - INFO - Successfully resolved all 10 nodes\n",
      "2025-09-21 17:55:44,245 - INFO - Using 15 registered step builders\n",
      "2025-09-21 17:55:44,245 - pipeline_registry.builder_registry - INFO - Found builder using base step type: CradleDataLoading\n",
      "2025-09-21 17:55:44,245 - INFO - Found builder using base step type: CradleDataLoading\n",
      "2025-09-21 17:55:44,246 - pipeline_registry.builder_registry - INFO - Found builder using base step type: TabularPreprocessing\n",
      "2025-09-21 17:55:44,246 - INFO - Found builder using base step type: TabularPreprocessing\n",
      "2025-09-21 17:55:44,247 - pipeline_registry.builder_registry - INFO - Found builder for exact node name: XGBoostTraining\n",
      "2025-09-21 17:55:44,247 - INFO - Found builder for exact node name: XGBoostTraining\n",
      "2025-09-21 17:55:44,247 - pipeline_registry.builder_registry - INFO - Found builder using base step type: ModelCalibration\n",
      "2025-09-21 17:55:44,247 - INFO - Found builder using base step type: ModelCalibration\n",
      "2025-09-21 17:55:44,248 - pipeline_registry.builder_registry - INFO - Found builder for exact node name: Package\n",
      "2025-09-21 17:55:44,248 - INFO - Found builder for exact node name: Package\n",
      "2025-09-21 17:55:44,249 - pipeline_registry.builder_registry - INFO - Found builder for exact node name: Registration\n",
      "2025-09-21 17:55:44,249 - INFO - Found builder for exact node name: Registration\n",
      "2025-09-21 17:55:44,250 - pipeline_registry.builder_registry - INFO - Found builder for exact node name: Payload\n",
      "2025-09-21 17:55:44,250 - INFO - Found builder for exact node name: Payload\n",
      "2025-09-21 17:55:44,251 - pipeline_registry.builder_registry - INFO - Found builder using base step type: CradleDataLoading\n",
      "2025-09-21 17:55:44,251 - INFO - Found builder using base step type: CradleDataLoading\n",
      "2025-09-21 17:55:44,252 - pipeline_registry.builder_registry - INFO - Found builder using base step type: TabularPreprocessing\n",
      "2025-09-21 17:55:44,252 - INFO - Found builder using base step type: TabularPreprocessing\n",
      "2025-09-21 17:55:44,252 - pipeline_registry.builder_registry - INFO - Found builder using base step type: XGBoostModelEval\n",
      "2025-09-21 17:55:44,252 - INFO - Found builder using base step type: XGBoostModelEval\n",
      "2025-09-21 17:55:44,253 - INFO - Using stored custom pipeline parameters\n",
      "2025-09-21 17:55:44,253 - INFO - Input validation successful\n",
      "2025-09-21 17:55:44,253 - INFO - Initializing step builders\n",
      "2025-09-21 17:55:44,254 - INFO - Using training-specific DATA_LOADING_TRAINING_SPEC\n",
      "2025-09-21 17:55:44,256 - WARNING - No contract found for step: CradleDataLoading_training\n",
      "2025-09-21 17:55:44,257 - WARNING - No contract found for step: CradleDataLoading_training\n",
      "2025-09-21 17:55:44,258 - INFO - Initializing CradleDataLoadingStepBuilder with region: NA\n",
      "2025-09-21 17:55:44,258 - INFO - Validating CradleDataLoadConfig…\n",
      "2025-09-21 17:55:44,258 - INFO - CradleDataLoadConfig validation succeeded.\n",
      "2025-09-21 17:55:44,259 - INFO - Set execution prefix for CradleDataLoading_training\n",
      "2025-09-21 17:55:44,259 - INFO - Initialized builder for step CradleDataLoading_training of type CradleDataLoading\n",
      "2025-09-21 17:55:44,260 - INFO - Using specification for training\n",
      "2025-09-21 17:55:44,260 - INFO - Initializing TabularPreprocessingStepBuilder with region: NA\n",
      "2025-09-21 17:55:44,260 - INFO - Set execution prefix for TabularPreprocessing_training\n",
      "2025-09-21 17:55:44,261 - INFO - Initialized builder for step TabularPreprocessing_training of type TabularPreprocessing\n",
      "2025-09-21 17:55:44,261 - INFO - Using XGBoost training specification\n",
      "2025-09-21 17:55:44,261 - INFO - Initializing XGBoostTrainingStepBuilder with region: NA\n",
      "2025-09-21 17:55:44,262 - INFO - Validating XGBoostTrainingConfig...\n",
      "2025-09-21 17:55:44,262 - INFO - Configuration validation relies on step specifications\n",
      "2025-09-21 17:55:44,262 - INFO - XGBoostTrainingConfig validation succeeded.\n",
      "2025-09-21 17:55:44,262 - INFO - Set execution prefix for XGBoostTraining\n",
      "2025-09-21 17:55:44,263 - INFO - Initialized builder for step XGBoostTraining of type XGBoostTraining\n",
      "2025-09-21 17:55:44,263 - INFO - Using specification for calibration\n",
      "2025-09-21 17:55:44,264 - INFO - Initializing ModelCalibrationStepBuilder with region: NA\n",
      "2025-09-21 17:55:44,264 - INFO - Validating ModelCalibrationConfig...\n",
      "2025-09-21 17:55:44,264 - INFO - ModelCalibrationConfig validation succeeded.\n",
      "2025-09-21 17:55:44,264 - INFO - Set execution prefix for ModelCalibration_calibration\n",
      "2025-09-21 17:55:44,265 - INFO - Initialized builder for step ModelCalibration_calibration of type ModelCalibration\n",
      "2025-09-21 17:55:44,265 - INFO - Initializing PackageStepBuilder with region: NA\n",
      "2025-09-21 17:55:44,266 - INFO - Validating PackageConfig...\n",
      "2025-09-21 17:55:44,266 - INFO - PackageConfig validation succeeded.\n",
      "2025-09-21 17:55:44,266 - INFO - Set execution prefix for Package\n",
      "2025-09-21 17:55:44,266 - INFO - Initialized builder for step Package of type Package\n",
      "2025-09-21 17:55:44,267 - INFO - Initializing RegistrationStepBuilder with region: NA\n",
      "2025-09-21 17:55:44,267 - INFO - Validating RegistrationConfig...\n",
      "2025-09-21 17:55:44,267 - INFO - RegistrationConfig validation succeeded.\n",
      "2025-09-21 17:55:44,268 - INFO - Set execution prefix for Registration\n",
      "2025-09-21 17:55:44,268 - INFO - Initialized builder for step Registration of type Registration\n",
      "2025-09-21 17:55:44,268 - INFO - Initializing PayloadStepBuilder with region: NA\n",
      "2025-09-21 17:55:44,269 - INFO - Validating PayloadConfig...\n",
      "2025-09-21 17:55:44,269 - INFO - PayloadConfig validation succeeded.\n",
      "2025-09-21 17:55:44,270 - INFO - Set execution prefix for Payload\n",
      "2025-09-21 17:55:44,270 - INFO - Initialized builder for step Payload of type Payload\n",
      "2025-09-21 17:55:44,270 - INFO - Using calibration-specific DATA_LOADING_CALIBRATION_SPEC\n",
      "2025-09-21 17:55:44,274 - WARNING - No contract found for step: CradleDataLoading_calibration\n",
      "2025-09-21 17:55:44,274 - WARNING - No contract found for step: CradleDataLoading_calibration\n",
      "2025-09-21 17:55:44,275 - INFO - Initializing CradleDataLoadingStepBuilder with region: NA\n",
      "2025-09-21 17:55:44,276 - INFO - Validating CradleDataLoadConfig…\n",
      "2025-09-21 17:55:44,276 - INFO - CradleDataLoadConfig validation succeeded.\n",
      "2025-09-21 17:55:44,277 - INFO - Set execution prefix for CradleDataLoading_calibration\n",
      "2025-09-21 17:55:44,277 - INFO - Initialized builder for step CradleDataLoading_calibration of type CradleDataLoading\n",
      "2025-09-21 17:55:44,277 - INFO - Using specification for calibration\n",
      "2025-09-21 17:55:44,278 - INFO - Initializing TabularPreprocessingStepBuilder with region: NA\n",
      "2025-09-21 17:55:44,278 - INFO - Set execution prefix for TabularPreprocessing_calibration\n",
      "2025-09-21 17:55:44,278 - INFO - Initialized builder for step TabularPreprocessing_calibration of type TabularPreprocessing\n",
      "2025-09-21 17:55:44,279 - INFO - Initializing XGBoostModelEvalStepBuilder with region: NA\n",
      "2025-09-21 17:55:44,279 - INFO - Validating XGBoostModelEvalConfig...\n",
      "2025-09-21 17:55:44,279 - INFO - XGBoostModelEvalConfig validation succeeded.\n",
      "2025-09-21 17:55:44,280 - INFO - Set execution prefix for XGBoostModelEval_calibration\n",
      "2025-09-21 17:55:44,280 - INFO - Initialized builder for step XGBoostModelEval_calibration of type XGBoostModelEval\n",
      "2025-09-21 17:55:44,280 - INFO - Initialized 10 step builders in 0.03 seconds\n",
      "2025-09-21 17:55:44,280 - INFO - Generating pipeline: lukexie-AtoZ-xgboost-NA-1-3-1-pipeline\n",
      "2025-09-21 17:55:44,281 - INFO - Initializing step connections using specifications\n",
      "2025-09-21 17:55:44,282 - INFO - Matched TabularPreprocessing_training.DATA to CradleDataLoading_training.DATA (score: 1.00)\n",
      "2025-09-21 17:55:44,282 - INFO - Matched XGBoostTraining.input_path to TabularPreprocessing_training.processed_data (score: 0.81)\n",
      "2025-09-21 17:55:44,284 - INFO - Matched TabularPreprocessing_calibration.DATA to CradleDataLoading_calibration.DATA (score: 1.00)\n",
      "2025-09-21 17:55:44,285 - INFO - Matched XGBoostModelEval_calibration.model_input to XGBoostTraining.model_output (score: 1.00)\n",
      "2025-09-21 17:55:44,286 - INFO - Matched XGBoostModelEval_calibration.processed_data to XGBoostTraining.evaluation_output (score: 0.74)\n",
      "2025-09-21 17:55:44,287 - INFO - Matched XGBoostModelEval_calibration.processed_data to TabularPreprocessing_calibration.processed_data (score: 1.00)\n",
      "2025-09-21 17:55:44,287 - INFO - Matched ModelCalibration_calibration.evaluation_data to XGBoostModelEval_calibration.eval_output (score: 0.84)\n",
      "2025-09-21 17:55:44,289 - INFO - Matched Package.calibration_model to ModelCalibration_calibration.calibration_output (score: 1.00)\n",
      "2025-09-21 17:55:44,290 - INFO - Matched Package.model_input to XGBoostTraining.model_output (score: 1.00)\n",
      "2025-09-21 17:55:44,291 - INFO - Matched Payload.model_input to XGBoostTraining.model_output (score: 1.00)\n",
      "2025-09-21 17:55:44,292 - INFO - Matched Registration.PackagedModel to Package.packaged_model (score: 1.00)\n",
      "2025-09-21 17:55:44,292 - INFO - Matched Registration.GeneratedPayloadSamples to Payload.payload_sample (score: 0.71)\n",
      "2025-09-21 17:55:44,293 - INFO - Build order: ['CradleDataLoading_training', 'CradleDataLoading_calibration', 'TabularPreprocessing_training', 'TabularPreprocessing_calibration', 'XGBoostTraining', 'XGBoostModelEval_calibration', 'Payload', 'ModelCalibration_calibration', 'Package', 'Registration']\n",
      "2025-09-21 17:55:44,293 - INFO - Using execution_prefix for base output path\n",
      "2025-09-21 17:55:44,294 - INFO - Creating CradleDataLoadingStep...\n"
     ]
    },
    {
     "name": "stdout",
     "output_type": "stream",
     "text": [
      "sagemaker.config INFO - Applied value from config key = SageMaker.ProcessingJob.ProcessingOutputConfig.KmsKeyId\n",
      "sagemaker.config INFO - Applied value from config key = SageMaker.ProcessingJob.ProcessingResources.ClusterConfig.VolumeKmsKeyId\n",
      "sagemaker.config INFO - Applied value from config key = SageMaker.ProcessingJob.NetworkConfig.VpcConfig.Subnets\n",
      "sagemaker.config INFO - Applied value from config key = SageMaker.ProcessingJob.NetworkConfig.VpcConfig.SecurityGroupIds\n"
     ]
    },
    {
     "name": "stderr",
     "output_type": "stream",
     "text": [
      "2025-09-21 17:55:45,301 - INFO - Created CradleDataLoadingStep with name: CradleDataLoading-Training\n",
      "2025-09-21 17:55:45,301 - INFO - CradleDataLoadingStep output locations: {...}\n",
      "2025-09-21 17:55:45,301 - INFO - Built step CradleDataLoading_training\n",
      "2025-09-21 17:55:45,302 - INFO - Using execution_prefix for base output path\n",
      "2025-09-21 17:55:45,302 - INFO - Creating CradleDataLoadingStep...\n"
     ]
    },
    {
     "name": "stdout",
     "output_type": "stream",
     "text": [
      "sagemaker.config INFO - Applied value from config key = SageMaker.ProcessingJob.ProcessingOutputConfig.KmsKeyId\n",
      "sagemaker.config INFO - Applied value from config key = SageMaker.ProcessingJob.ProcessingResources.ClusterConfig.VolumeKmsKeyId\n",
      "sagemaker.config INFO - Applied value from config key = SageMaker.ProcessingJob.NetworkConfig.VpcConfig.Subnets\n",
      "sagemaker.config INFO - Applied value from config key = SageMaker.ProcessingJob.NetworkConfig.VpcConfig.SecurityGroupIds\n"
     ]
    },
    {
     "name": "stderr",
     "output_type": "stream",
     "text": [
      "2025-09-21 17:55:46,307 - INFO - Created CradleDataLoadingStep with name: CradleDataLoading-Calibration\n",
      "2025-09-21 17:55:46,307 - INFO - CradleDataLoadingStep output locations: {...}\n",
      "2025-09-21 17:55:46,307 - INFO - Built step CradleDataLoading_calibration\n",
      "2025-09-21 17:55:46,308 - INFO - Using execution_prefix for base output path\n",
      "2025-09-21 17:55:46,309 - INFO - Registered specification for step 'TabularPreprocessingStepStep' of type 'TabularPreprocessing_Training' in context 'lukexie-AtoZ-xgboost-NA'\n",
      "2025-09-21 17:55:46,309 - INFO - Registered specification for step 'CradleDataLoading-Training' of type 'CradleDataLoading_Training' in context 'lukexie-AtoZ-xgboost-NA'\n",
      "2025-09-21 17:55:46,310 - INFO - Best match for DATA: CradleDataLoading-Training.DATA (confidence: 1.000)\n",
      "2025-09-21 17:55:46,310 - INFO - Resolved TabularPreprocessingStepStep.DATA -> CradleDataLoading-Training.DATA\n",
      "2025-09-21 17:55:46,311 - WARNING - Required environment variable 'LABEL_FIELD' not found in config\n",
      "2025-09-21 17:55:46,312 - INFO - Defaulting to only available Python version: py3\n"
     ]
    },
    {
     "name": "stdout",
     "output_type": "stream",
     "text": [
      "sagemaker.config INFO - Applied value from config key = SageMaker.ProcessingJob.ProcessingOutputConfig.KmsKeyId\n",
      "sagemaker.config INFO - Applied value from config key = SageMaker.ProcessingJob.ProcessingResources.ClusterConfig.VolumeKmsKeyId\n",
      "sagemaker.config INFO - Applied value from config key = SageMaker.ProcessingJob.NetworkConfig.VpcConfig.Subnets\n",
      "sagemaker.config INFO - Applied value from config key = SageMaker.ProcessingJob.NetworkConfig.VpcConfig.SecurityGroupIds\n"
     ]
    },
    {
     "name": "stderr",
     "output_type": "stream",
     "text": [
      "2025-09-21 17:55:47,330 - INFO - Setting job_type argument to: training\n",
      "2025-09-21 17:55:47,330 - INFO - Using script path: ../../../../dockers/xgboost_atoz/scripts/tabular_preprocessing.py (portable: yes)\n",
      "2025-09-21 17:55:47,331 - ERROR - Error building step TabularPreprocessing_training: ../../../../dockers/xgboost_atoz/scripts/tabular_preprocessing.py is not a valid file\n",
      "2025-09-21 17:55:47,331 - ERROR - Error instantiating step TabularPreprocessing_training: Failed to build step TabularPreprocessing_training: ../../../../dockers/xgboost_atoz/scripts/tabular_preprocessing.py is not a valid file\n",
      "2025-09-21 17:55:47,332 - ERROR - Failed to compile DAG to pipeline: Failed to instantiate step TabularPreprocessing_training: Failed to build step TabularPreprocessing_training: ../../../../dockers/xgboost_atoz/scripts/tabular_preprocessing.py is not a valid file\n",
      "2025-09-21 17:55:47,332 - ERROR - Failed to compile DAG with report: DAG compilation failed: Failed to instantiate step TabularPreprocessing_training: Failed to build step TabularPreprocessing_training: ../../../../dockers/xgboost_atoz/scripts/tabular_preprocessing.py is not a valid file\n",
      "2025-09-21 17:55:47,332 - ERROR - Failed to convert DAG to pipeline: DAG compilation with report failed: DAG compilation failed: Failed to instantiate step TabularPreprocessing_training: Failed to build step TabularPreprocessing_training: ../../../../dockers/xgboost_atoz/scripts/tabular_preprocessing.py is not a valid file\n"
     ]
    },
    {
     "data": {
      "text/html": [
       "<pre style=\"white-space:pre;overflow-x:auto;line-height:normal;font-family:Menlo,'DejaVu Sans Mono',consolas,'Courier New',monospace\"><span style=\"color: #ff0000; text-decoration-color: #ff0000\">╭─────────────────────────────── </span><span style=\"color: #ff0000; text-decoration-color: #ff0000; font-weight: bold\">Traceback </span><span style=\"color: #ff7f7f; text-decoration-color: #ff7f7f; font-weight: bold\">(most recent call last)</span><span style=\"color: #ff0000; text-decoration-color: #ff0000\"> ────────────────────────────────╮</span>\n",
       "<span style=\"color: #ff0000; text-decoration-color: #ff0000\">│</span> <span style=\"color: #7f7f7f; text-decoration-color: #7f7f7f\">/home/ec2-user/SageMaker/Cursus/src/cursus/core/assembler/</span><span style=\"font-weight: bold\">pipeline_assembler.py</span>:437 in           <span style=\"color: #ff0000; text-decoration-color: #ff0000\">│</span>\n",
       "<span style=\"color: #ff0000; text-decoration-color: #ff0000\">│</span> _instantiate_step                                                                                <span style=\"color: #ff0000; text-decoration-color: #ff0000\">│</span>\n",
       "<span style=\"color: #ff0000; text-decoration-color: #ff0000\">│</span>                                                                                                  <span style=\"color: #ff0000; text-decoration-color: #ff0000\">│</span>\n",
       "<span style=\"color: #ff0000; text-decoration-color: #ff0000\">│</span>   <span style=\"color: #7f7f7f; text-decoration-color: #7f7f7f\">434 </span><span style=\"color: #7f7f7f; text-decoration-color: #7f7f7f\">│   │   </span>}                                                                                  <span style=\"color: #ff0000; text-decoration-color: #ff0000\">│</span>\n",
       "<span style=\"color: #ff0000; text-decoration-color: #ff0000\">│</span>   <span style=\"color: #7f7f7f; text-decoration-color: #7f7f7f\">435 </span><span style=\"color: #7f7f7f; text-decoration-color: #7f7f7f\">│   │   </span>                                                                                   <span style=\"color: #ff0000; text-decoration-color: #ff0000\">│</span>\n",
       "<span style=\"color: #ff0000; text-decoration-color: #ff0000\">│</span>   <span style=\"color: #7f7f7f; text-decoration-color: #7f7f7f\">436 </span><span style=\"color: #7f7f7f; text-decoration-color: #7f7f7f\">│   │   </span><span style=\"color: #0000ff; text-decoration-color: #0000ff\">try</span>:                                                                               <span style=\"color: #ff0000; text-decoration-color: #ff0000\">│</span>\n",
       "<span style=\"color: #ff0000; text-decoration-color: #ff0000\">│</span> <span style=\"color: #800000; text-decoration-color: #800000\">❱ </span>437 <span style=\"color: #7f7f7f; text-decoration-color: #7f7f7f\">│   │   │   </span>step = builder.create_step(**kwargs)                                           <span style=\"color: #ff0000; text-decoration-color: #ff0000\">│</span>\n",
       "<span style=\"color: #ff0000; text-decoration-color: #ff0000\">│</span>   <span style=\"color: #7f7f7f; text-decoration-color: #7f7f7f\">438 </span><span style=\"color: #7f7f7f; text-decoration-color: #7f7f7f\">│   │   │   </span>logger.info(<span style=\"color: #808000; text-decoration-color: #808000\">f\"Built step {</span>step_name<span style=\"color: #808000; text-decoration-color: #808000\">}\"</span>)                                         <span style=\"color: #ff0000; text-decoration-color: #ff0000\">│</span>\n",
       "<span style=\"color: #ff0000; text-decoration-color: #ff0000\">│</span>   <span style=\"color: #7f7f7f; text-decoration-color: #7f7f7f\">439 </span><span style=\"color: #7f7f7f; text-decoration-color: #7f7f7f\">│   │   │   </span>                                                                               <span style=\"color: #ff0000; text-decoration-color: #ff0000\">│</span>\n",
       "<span style=\"color: #ff0000; text-decoration-color: #ff0000\">│</span>   <span style=\"color: #7f7f7f; text-decoration-color: #7f7f7f\">440 </span><span style=\"color: #7f7f7f; text-decoration-color: #7f7f7f\">│   │   │   </span><span style=\"color: #7f7f7f; text-decoration-color: #7f7f7f\"># Note: Cradle data loading request collection removed as part of Phase 2 cl</span>   <span style=\"color: #ff0000; text-decoration-color: #ff0000\">│</span>\n",
       "<span style=\"color: #ff0000; text-decoration-color: #ff0000\">│</span>                                                                                                  <span style=\"color: #ff0000; text-decoration-color: #ff0000\">│</span>\n",
       "<span style=\"color: #ff0000; text-decoration-color: #ff0000\">│</span> <span style=\"color: #7f7f7f; text-decoration-color: #7f7f7f\">/home/ec2-user/SageMaker/Cursus/src/cursus/steps/builders/</span><span style=\"font-weight: bold\">builder_tabular_preprocessing_step.py</span>: <span style=\"color: #ff0000; text-decoration-color: #ff0000\">│</span>\n",
       "<span style=\"color: #ff0000; text-decoration-color: #ff0000\">│</span> 401 in create_step                                                                               <span style=\"color: #ff0000; text-decoration-color: #ff0000\">│</span>\n",
       "<span style=\"color: #ff0000; text-decoration-color: #ff0000\">│</span>                                                                                                  <span style=\"color: #ff0000; text-decoration-color: #ff0000\">│</span>\n",
       "<span style=\"color: #ff0000; text-decoration-color: #ff0000\">│</span>   <span style=\"color: #7f7f7f; text-decoration-color: #7f7f7f\">398 </span><span style=\"color: #7f7f7f; text-decoration-color: #7f7f7f\">│   │   │   │   │    </span><span style=\"color: #808000; text-decoration-color: #808000\">\"yes\"</span> <span style=\"color: #0000ff; text-decoration-color: #0000ff\">if</span> <span style=\"color: #00ffff; text-decoration-color: #00ffff\">self</span>.config.get_portable_script_path() <span style=\"color: #0000ff; text-decoration-color: #0000ff\">else</span> <span style=\"color: #808000; text-decoration-color: #808000\">\"no\"</span>)            <span style=\"color: #ff0000; text-decoration-color: #ff0000\">│</span>\n",
       "<span style=\"color: #ff0000; text-decoration-color: #ff0000\">│</span>   <span style=\"color: #7f7f7f; text-decoration-color: #7f7f7f\">399 </span><span style=\"color: #7f7f7f; text-decoration-color: #7f7f7f\">│   │   </span>                                                                                   <span style=\"color: #ff0000; text-decoration-color: #ff0000\">│</span>\n",
       "<span style=\"color: #ff0000; text-decoration-color: #ff0000\">│</span>   <span style=\"color: #7f7f7f; text-decoration-color: #7f7f7f\">400 </span><span style=\"color: #7f7f7f; text-decoration-color: #7f7f7f\">│   │   </span><span style=\"color: #7f7f7f; text-decoration-color: #7f7f7f\"># Create step</span>                                                                      <span style=\"color: #ff0000; text-decoration-color: #ff0000\">│</span>\n",
       "<span style=\"color: #ff0000; text-decoration-color: #ff0000\">│</span> <span style=\"color: #800000; text-decoration-color: #800000\">❱ </span>401 <span style=\"color: #7f7f7f; text-decoration-color: #7f7f7f\">│   │   </span>step = ProcessingStep(                                                             <span style=\"color: #ff0000; text-decoration-color: #ff0000\">│</span>\n",
       "<span style=\"color: #ff0000; text-decoration-color: #ff0000\">│</span>   <span style=\"color: #7f7f7f; text-decoration-color: #7f7f7f\">402 </span><span style=\"color: #7f7f7f; text-decoration-color: #7f7f7f\">│   │   │   </span>name=step_name,                                                                <span style=\"color: #ff0000; text-decoration-color: #ff0000\">│</span>\n",
       "<span style=\"color: #ff0000; text-decoration-color: #ff0000\">│</span>   <span style=\"color: #7f7f7f; text-decoration-color: #7f7f7f\">403 </span><span style=\"color: #7f7f7f; text-decoration-color: #7f7f7f\">│   │   │   </span>processor=processor,                                                           <span style=\"color: #ff0000; text-decoration-color: #ff0000\">│</span>\n",
       "<span style=\"color: #ff0000; text-decoration-color: #ff0000\">│</span>   <span style=\"color: #7f7f7f; text-decoration-color: #7f7f7f\">404 </span><span style=\"color: #7f7f7f; text-decoration-color: #7f7f7f\">│   │   │   </span>inputs=proc_inputs,                                                            <span style=\"color: #ff0000; text-decoration-color: #ff0000\">│</span>\n",
       "<span style=\"color: #ff0000; text-decoration-color: #ff0000\">│</span>                                                                                                  <span style=\"color: #ff0000; text-decoration-color: #ff0000\">│</span>\n",
       "<span style=\"color: #ff0000; text-decoration-color: #ff0000\">│</span> <span style=\"color: #7f7f7f; text-decoration-color: #7f7f7f\">/home/ec2-user/anaconda3/envs/python3/lib/python3.10/site-packages/sagemaker/workflow/</span><span style=\"font-weight: bold\">steps.py</span>:9 <span style=\"color: #ff0000; text-decoration-color: #ff0000\">│</span>\n",
       "<span style=\"color: #ff0000; text-decoration-color: #ff0000\">│</span> 04 in __init__                                                                                   <span style=\"color: #ff0000; text-decoration-color: #ff0000\">│</span>\n",
       "<span style=\"color: #ff0000; text-decoration-color: #ff0000\">│</span>                                                                                                  <span style=\"color: #ff0000; text-decoration-color: #ff0000\">│</span>\n",
       "<span style=\"color: #ff0000; text-decoration-color: #ff0000\">│</span>   <span style=\"color: #7f7f7f; text-decoration-color: #7f7f7f\"> 901 </span><span style=\"color: #7f7f7f; text-decoration-color: #7f7f7f\">│   │   │   │   │   </span><span style=\"color: #7f7f7f; text-decoration-color: #7f7f7f\"># To avoid this, hash the contents of the script and include it</span>       <span style=\"color: #ff0000; text-decoration-color: #ff0000\">│</span>\n",
       "<span style=\"color: #ff0000; text-decoration-color: #ff0000\">│</span>   <span style=\"color: #7f7f7f; text-decoration-color: #7f7f7f\"> 902 </span><span style=\"color: #7f7f7f; text-decoration-color: #7f7f7f\">│   │   │   │   │   </span><span style=\"color: #7f7f7f; text-decoration-color: #7f7f7f\"># in the `job_name` passed to the `Processor`, which will be used</span>     <span style=\"color: #ff0000; text-decoration-color: #ff0000\">│</span>\n",
       "<span style=\"color: #ff0000; text-decoration-color: #ff0000\">│</span>   <span style=\"color: #7f7f7f; text-decoration-color: #7f7f7f\"> 903 </span><span style=\"color: #7f7f7f; text-decoration-color: #7f7f7f\">│   │   │   │   │   </span><span style=\"color: #7f7f7f; text-decoration-color: #7f7f7f\"># instead of the timestamped path.</span>                                    <span style=\"color: #ff0000; text-decoration-color: #ff0000\">│</span>\n",
       "<span style=\"color: #ff0000; text-decoration-color: #ff0000\">│</span> <span style=\"color: #800000; text-decoration-color: #800000\">❱ </span> 904 <span style=\"color: #7f7f7f; text-decoration-color: #7f7f7f\">│   │   │   │   │   </span><span style=\"color: #00ffff; text-decoration-color: #00ffff\">self</span>.job_name = <span style=\"color: #00ffff; text-decoration-color: #00ffff\">self</span>._generate_code_upload_path()                     <span style=\"color: #ff0000; text-decoration-color: #ff0000\">│</span>\n",
       "<span style=\"color: #ff0000; text-decoration-color: #ff0000\">│</span>   <span style=\"color: #7f7f7f; text-decoration-color: #7f7f7f\"> 905 </span><span style=\"color: #7f7f7f; text-decoration-color: #7f7f7f\">│   │   │   </span>                                                                              <span style=\"color: #ff0000; text-decoration-color: #ff0000\">│</span>\n",
       "<span style=\"color: #ff0000; text-decoration-color: #ff0000\">│</span>   <span style=\"color: #7f7f7f; text-decoration-color: #7f7f7f\"> 906 </span><span style=\"color: #7f7f7f; text-decoration-color: #7f7f7f\">│   │   │   </span>warnings.warn(                                                                <span style=\"color: #ff0000; text-decoration-color: #ff0000\">│</span>\n",
       "<span style=\"color: #ff0000; text-decoration-color: #ff0000\">│</span>   <span style=\"color: #7f7f7f; text-decoration-color: #7f7f7f\"> 907 </span><span style=\"color: #7f7f7f; text-decoration-color: #7f7f7f\">│   │   │   │   </span>(                                                                         <span style=\"color: #ff0000; text-decoration-color: #ff0000\">│</span>\n",
       "<span style=\"color: #ff0000; text-decoration-color: #ff0000\">│</span>                                                                                                  <span style=\"color: #ff0000; text-decoration-color: #ff0000\">│</span>\n",
       "<span style=\"color: #ff0000; text-decoration-color: #ff0000\">│</span> <span style=\"color: #7f7f7f; text-decoration-color: #7f7f7f\">/home/ec2-user/anaconda3/envs/python3/lib/python3.10/site-packages/sagemaker/workflow/</span><span style=\"font-weight: bold\">steps.py</span>:9 <span style=\"color: #ff0000; text-decoration-color: #ff0000\">│</span>\n",
       "<span style=\"color: #ff0000; text-decoration-color: #ff0000\">│</span> 73 in _generate_code_upload_path                                                                 <span style=\"color: #ff0000; text-decoration-color: #ff0000\">│</span>\n",
       "<span style=\"color: #ff0000; text-decoration-color: #ff0000\">│</span>                                                                                                  <span style=\"color: #ff0000; text-decoration-color: #ff0000\">│</span>\n",
       "<span style=\"color: #ff0000; text-decoration-color: #ff0000\">│</span>   <span style=\"color: #7f7f7f; text-decoration-color: #7f7f7f\"> 970 </span><span style=\"color: #bfbfbf; text-decoration-color: #bfbfbf\">│   │   </span><span style=\"color: #808000; text-decoration-color: #808000\">\"\"\"Generate an upload path for local processing scripts based on its contents.\"\"</span>  <span style=\"color: #ff0000; text-decoration-color: #ff0000\">│</span>\n",
       "<span style=\"color: #ff0000; text-decoration-color: #ff0000\">│</span>   <span style=\"color: #7f7f7f; text-decoration-color: #7f7f7f\"> 971 </span><span style=\"color: #7f7f7f; text-decoration-color: #7f7f7f\">│   │   </span><span style=\"color: #0000ff; text-decoration-color: #0000ff\">from</span><span style=\"color: #808080; text-decoration-color: #808080\"> </span><span style=\"color: #00ffff; text-decoration-color: #00ffff; text-decoration: underline\">sagemaker.workflow.utilities</span><span style=\"color: #808080; text-decoration-color: #808080\"> </span><span style=\"color: #0000ff; text-decoration-color: #0000ff\">import</span> hash_file                                <span style=\"color: #ff0000; text-decoration-color: #ff0000\">│</span>\n",
       "<span style=\"color: #ff0000; text-decoration-color: #ff0000\">│</span>   <span style=\"color: #7f7f7f; text-decoration-color: #7f7f7f\"> 972 </span><span style=\"color: #7f7f7f; text-decoration-color: #7f7f7f\">│   │   </span>                                                                                  <span style=\"color: #ff0000; text-decoration-color: #ff0000\">│</span>\n",
       "<span style=\"color: #ff0000; text-decoration-color: #ff0000\">│</span> <span style=\"color: #800000; text-decoration-color: #800000\">❱ </span> 973 <span style=\"color: #7f7f7f; text-decoration-color: #7f7f7f\">│   │   </span>code_hash = hash_file(<span style=\"color: #00ffff; text-decoration-color: #00ffff\">self</span>.code)                                                  <span style=\"color: #ff0000; text-decoration-color: #ff0000\">│</span>\n",
       "<span style=\"color: #ff0000; text-decoration-color: #ff0000\">│</span>   <span style=\"color: #7f7f7f; text-decoration-color: #7f7f7f\"> 974 </span><span style=\"color: #7f7f7f; text-decoration-color: #7f7f7f\">│   │   </span><span style=\"color: #0000ff; text-decoration-color: #0000ff\">return</span> <span style=\"color: #808000; text-decoration-color: #808000\">f\"{</span><span style=\"color: #00ffff; text-decoration-color: #00ffff\">self</span>.name<span style=\"color: #808000; text-decoration-color: #808000\">}-{</span>code_hash<span style=\"color: #808000; text-decoration-color: #808000\">}\"</span>[:<span style=\"color: #0000ff; text-decoration-color: #0000ff\">1024</span>]                                          <span style=\"color: #ff0000; text-decoration-color: #ff0000\">│</span>\n",
       "<span style=\"color: #ff0000; text-decoration-color: #ff0000\">│</span>   <span style=\"color: #7f7f7f; text-decoration-color: #7f7f7f\"> 975 </span>                                                                                          <span style=\"color: #ff0000; text-decoration-color: #ff0000\">│</span>\n",
       "<span style=\"color: #ff0000; text-decoration-color: #ff0000\">│</span>   <span style=\"color: #7f7f7f; text-decoration-color: #7f7f7f\"> 976 </span>                                                                                          <span style=\"color: #ff0000; text-decoration-color: #ff0000\">│</span>\n",
       "<span style=\"color: #ff0000; text-decoration-color: #ff0000\">│</span>                                                                                                  <span style=\"color: #ff0000; text-decoration-color: #ff0000\">│</span>\n",
       "<span style=\"color: #ff0000; text-decoration-color: #ff0000\">│</span> <span style=\"color: #7f7f7f; text-decoration-color: #7f7f7f\">/home/ec2-user/anaconda3/envs/python3/lib/python3.10/site-packages/sagemaker/workflow/</span><span style=\"font-weight: bold\">utilities.</span> <span style=\"color: #ff0000; text-decoration-color: #ff0000\">│</span>\n",
       "<span style=\"color: #ff0000; text-decoration-color: #ff0000\">│</span> <span style=\"font-weight: bold\">py</span>:289 in hash_file                                                                              <span style=\"color: #ff0000; text-decoration-color: #ff0000\">│</span>\n",
       "<span style=\"color: #ff0000; text-decoration-color: #ff0000\">│</span>                                                                                                  <span style=\"color: #ff0000; text-decoration-color: #ff0000\">│</span>\n",
       "<span style=\"color: #ff0000; text-decoration-color: #ff0000\">│</span>   <span style=\"color: #7f7f7f; text-decoration-color: #7f7f7f\">286 </span><span style=\"color: #bfbf7f; text-decoration-color: #bfbf7f\">│   </span><span style=\"color: #808000; text-decoration-color: #808000\">Returns:</span>                                                                               <span style=\"color: #ff0000; text-decoration-color: #ff0000\">│</span>\n",
       "<span style=\"color: #ff0000; text-decoration-color: #ff0000\">│</span>   <span style=\"color: #7f7f7f; text-decoration-color: #7f7f7f\">287 </span><span style=\"color: #bfbf7f; text-decoration-color: #bfbf7f\">│   │   </span><span style=\"color: #808000; text-decoration-color: #808000\">str: The SHA256 hash of the file.</span>                                                  <span style=\"color: #ff0000; text-decoration-color: #ff0000\">│</span>\n",
       "<span style=\"color: #ff0000; text-decoration-color: #ff0000\">│</span>   <span style=\"color: #7f7f7f; text-decoration-color: #7f7f7f\">288 </span><span style=\"color: #bfbf7f; text-decoration-color: #bfbf7f\">│   </span><span style=\"color: #808000; text-decoration-color: #808000\">\"\"\"</span>                                                                                    <span style=\"color: #ff0000; text-decoration-color: #ff0000\">│</span>\n",
       "<span style=\"color: #ff0000; text-decoration-color: #ff0000\">│</span> <span style=\"color: #800000; text-decoration-color: #800000\">❱ </span>289 <span style=\"color: #7f7f7f; text-decoration-color: #7f7f7f\">│   </span><span style=\"color: #0000ff; text-decoration-color: #0000ff\">return</span> _hash_file(path, hashlib.sha256()).hexdigest()                                  <span style=\"color: #ff0000; text-decoration-color: #ff0000\">│</span>\n",
       "<span style=\"color: #ff0000; text-decoration-color: #ff0000\">│</span>   <span style=\"color: #7f7f7f; text-decoration-color: #7f7f7f\">290 </span>                                                                                           <span style=\"color: #ff0000; text-decoration-color: #ff0000\">│</span>\n",
       "<span style=\"color: #ff0000; text-decoration-color: #ff0000\">│</span>   <span style=\"color: #7f7f7f; text-decoration-color: #7f7f7f\">291 </span>                                                                                           <span style=\"color: #ff0000; text-decoration-color: #ff0000\">│</span>\n",
       "<span style=\"color: #ff0000; text-decoration-color: #ff0000\">│</span>   <span style=\"color: #7f7f7f; text-decoration-color: #7f7f7f\">292 </span><span style=\"color: #0000ff; text-decoration-color: #0000ff\">def</span><span style=\"color: #808080; text-decoration-color: #808080\"> </span><span style=\"color: #00ff00; text-decoration-color: #00ff00\">hash_files_or_dirs</span>(paths: List[<span style=\"color: #00ffff; text-decoration-color: #00ffff\">str</span>]) -&gt; <span style=\"color: #00ffff; text-decoration-color: #00ffff\">str</span>:                                           <span style=\"color: #ff0000; text-decoration-color: #ff0000\">│</span>\n",
       "<span style=\"color: #ff0000; text-decoration-color: #ff0000\">│</span>                                                                                                  <span style=\"color: #ff0000; text-decoration-color: #ff0000\">│</span>\n",
       "<span style=\"color: #ff0000; text-decoration-color: #ff0000\">│</span> <span style=\"color: #7f7f7f; text-decoration-color: #7f7f7f\">/home/ec2-user/anaconda3/envs/python3/lib/python3.10/site-packages/sagemaker/workflow/</span><span style=\"font-weight: bold\">utilities.</span> <span style=\"color: #ff0000; text-decoration-color: #ff0000\">│</span>\n",
       "<span style=\"color: #ff0000; text-decoration-color: #ff0000\">│</span> <span style=\"font-weight: bold\">py</span>:360 in _hash_file                                                                             <span style=\"color: #ff0000; text-decoration-color: #ff0000\">│</span>\n",
       "<span style=\"color: #ff0000; text-decoration-color: #ff0000\">│</span>                                                                                                  <span style=\"color: #ff0000; text-decoration-color: #ff0000\">│</span>\n",
       "<span style=\"color: #ff0000; text-decoration-color: #ff0000\">│</span>   <span style=\"color: #7f7f7f; text-decoration-color: #7f7f7f\">357 </span><span style=\"color: #7f7f7f; text-decoration-color: #7f7f7f\">│   </span><span style=\"color: #0000ff; text-decoration-color: #0000ff\">if</span> <span style=\"color: #00ffff; text-decoration-color: #00ffff\">isinstance</span>(file, <span style=\"color: #00ffff; text-decoration-color: #00ffff\">str</span>) <span style=\"color: #ff00ff; text-decoration-color: #ff00ff\">and</span> file.lower().startswith(<span style=\"color: #808000; text-decoration-color: #808000\">\"file://\"</span>):                       <span style=\"color: #ff0000; text-decoration-color: #ff0000\">│</span>\n",
       "<span style=\"color: #ff0000; text-decoration-color: #ff0000\">│</span>   <span style=\"color: #7f7f7f; text-decoration-color: #7f7f7f\">358 </span><span style=\"color: #7f7f7f; text-decoration-color: #7f7f7f\">│   │   </span>file = unquote(urlparse(file).path)                                                <span style=\"color: #ff0000; text-decoration-color: #ff0000\">│</span>\n",
       "<span style=\"color: #ff0000; text-decoration-color: #ff0000\">│</span>   <span style=\"color: #7f7f7f; text-decoration-color: #7f7f7f\">359 </span><span style=\"color: #7f7f7f; text-decoration-color: #7f7f7f\">│   </span><span style=\"color: #0000ff; text-decoration-color: #0000ff\">if</span> <span style=\"color: #ff00ff; text-decoration-color: #ff00ff\">not</span> Path(file).is_file():                                                           <span style=\"color: #ff0000; text-decoration-color: #ff0000\">│</span>\n",
       "<span style=\"color: #ff0000; text-decoration-color: #ff0000\">│</span> <span style=\"color: #800000; text-decoration-color: #800000\">❱ </span>360 <span style=\"color: #7f7f7f; text-decoration-color: #7f7f7f\">│   │   </span><span style=\"color: #0000ff; text-decoration-color: #0000ff\">raise</span> <span style=\"color: #00ffff; text-decoration-color: #00ffff\">ValueError</span>(<span style=\"color: #00ffff; text-decoration-color: #00ffff\">str</span>(file) + <span style=\"color: #808000; text-decoration-color: #808000\">\" is not a valid file\"</span>)                               <span style=\"color: #ff0000; text-decoration-color: #ff0000\">│</span>\n",
       "<span style=\"color: #ff0000; text-decoration-color: #ff0000\">│</span>   <span style=\"color: #7f7f7f; text-decoration-color: #7f7f7f\">361 </span><span style=\"color: #7f7f7f; text-decoration-color: #7f7f7f\">│   </span><span style=\"color: #0000ff; text-decoration-color: #0000ff\">with</span> <span style=\"color: #00ffff; text-decoration-color: #00ffff\">open</span>(file, <span style=\"color: #808000; text-decoration-color: #808000\">\"rb\"</span>) <span style=\"color: #0000ff; text-decoration-color: #0000ff\">as</span> f:                                                            <span style=\"color: #ff0000; text-decoration-color: #ff0000\">│</span>\n",
       "<span style=\"color: #ff0000; text-decoration-color: #ff0000\">│</span>   <span style=\"color: #7f7f7f; text-decoration-color: #7f7f7f\">362 </span><span style=\"color: #7f7f7f; text-decoration-color: #7f7f7f\">│   │   </span><span style=\"color: #0000ff; text-decoration-color: #0000ff\">while</span> <span style=\"color: #0000ff; text-decoration-color: #0000ff\">True</span>:                                                                        <span style=\"color: #ff0000; text-decoration-color: #ff0000\">│</span>\n",
       "<span style=\"color: #ff0000; text-decoration-color: #ff0000\">│</span>   <span style=\"color: #7f7f7f; text-decoration-color: #7f7f7f\">363 </span><span style=\"color: #7f7f7f; text-decoration-color: #7f7f7f\">│   │   │   </span>data = f.read(BUF_SIZE)                                                        <span style=\"color: #ff0000; text-decoration-color: #ff0000\">│</span>\n",
       "<span style=\"color: #ff0000; text-decoration-color: #ff0000\">╰──────────────────────────────────────────────────────────────────────────────────────────────────╯</span>\n",
       "<span style=\"color: #ff0000; text-decoration-color: #ff0000; font-weight: bold\">ValueError: </span>..<span style=\"color: #e100e1; text-decoration-color: #e100e1\">/../../../dockers/xgboost_atoz/scripts/tabular_preprocessing.py</span> is not a valid file\n",
       "\n",
       "<span style=\"font-style: italic\">The above exception was the direct cause of the following exception:</span>\n",
       "\n",
       "<span style=\"color: #ff0000; text-decoration-color: #ff0000\">╭─────────────────────────────── </span><span style=\"color: #ff0000; text-decoration-color: #ff0000; font-weight: bold\">Traceback </span><span style=\"color: #ff7f7f; text-decoration-color: #ff7f7f; font-weight: bold\">(most recent call last)</span><span style=\"color: #ff0000; text-decoration-color: #ff0000\"> ────────────────────────────────╮</span>\n",
       "<span style=\"color: #ff0000; text-decoration-color: #ff0000\">│</span> <span style=\"color: #7f7f7f; text-decoration-color: #7f7f7f\">/home/ec2-user/SageMaker/Cursus/src/cursus/core/assembler/</span><span style=\"font-weight: bold\">pipeline_assembler.py</span>:529 in           <span style=\"color: #ff0000; text-decoration-color: #ff0000\">│</span>\n",
       "<span style=\"color: #ff0000; text-decoration-color: #ff0000\">│</span> generate_pipeline                                                                                <span style=\"color: #ff0000; text-decoration-color: #ff0000\">│</span>\n",
       "<span style=\"color: #ff0000; text-decoration-color: #ff0000\">│</span>                                                                                                  <span style=\"color: #ff0000; text-decoration-color: #ff0000\">│</span>\n",
       "<span style=\"color: #ff0000; text-decoration-color: #ff0000\">│</span>   <span style=\"color: #7f7f7f; text-decoration-color: #7f7f7f\">526 </span><span style=\"color: #7f7f7f; text-decoration-color: #7f7f7f\">│   │   </span><span style=\"color: #7f7f7f; text-decoration-color: #7f7f7f\"># Instantiate steps in topological order</span>                                           <span style=\"color: #ff0000; text-decoration-color: #ff0000\">│</span>\n",
       "<span style=\"color: #ff0000; text-decoration-color: #ff0000\">│</span>   <span style=\"color: #7f7f7f; text-decoration-color: #7f7f7f\">527 </span><span style=\"color: #7f7f7f; text-decoration-color: #7f7f7f\">│   │   </span><span style=\"color: #0000ff; text-decoration-color: #0000ff\">for</span> step_name <span style=\"color: #ff00ff; text-decoration-color: #ff00ff\">in</span> build_order:                                                      <span style=\"color: #ff0000; text-decoration-color: #ff0000\">│</span>\n",
       "<span style=\"color: #ff0000; text-decoration-color: #ff0000\">│</span>   <span style=\"color: #7f7f7f; text-decoration-color: #7f7f7f\">528 </span><span style=\"color: #7f7f7f; text-decoration-color: #7f7f7f\">│   │   │   </span><span style=\"color: #0000ff; text-decoration-color: #0000ff\">try</span>:                                                                           <span style=\"color: #ff0000; text-decoration-color: #ff0000\">│</span>\n",
       "<span style=\"color: #ff0000; text-decoration-color: #ff0000\">│</span> <span style=\"color: #800000; text-decoration-color: #800000\">❱ </span>529 <span style=\"color: #7f7f7f; text-decoration-color: #7f7f7f\">│   │   │   │   </span>step = <span style=\"color: #00ffff; text-decoration-color: #00ffff\">self</span>._instantiate_step(step_name)                                   <span style=\"color: #ff0000; text-decoration-color: #ff0000\">│</span>\n",
       "<span style=\"color: #ff0000; text-decoration-color: #ff0000\">│</span>   <span style=\"color: #7f7f7f; text-decoration-color: #7f7f7f\">530 </span><span style=\"color: #7f7f7f; text-decoration-color: #7f7f7f\">│   │   │   │   </span><span style=\"color: #00ffff; text-decoration-color: #00ffff\">self</span>.step_instances[step_name] = step                                      <span style=\"color: #ff0000; text-decoration-color: #ff0000\">│</span>\n",
       "<span style=\"color: #ff0000; text-decoration-color: #ff0000\">│</span>   <span style=\"color: #7f7f7f; text-decoration-color: #7f7f7f\">531 </span><span style=\"color: #7f7f7f; text-decoration-color: #7f7f7f\">│   │   │   </span><span style=\"color: #0000ff; text-decoration-color: #0000ff\">except</span> <span style=\"color: #00ffff; text-decoration-color: #00ffff\">Exception</span> <span style=\"color: #0000ff; text-decoration-color: #0000ff\">as</span> e:                                                         <span style=\"color: #ff0000; text-decoration-color: #ff0000\">│</span>\n",
       "<span style=\"color: #ff0000; text-decoration-color: #ff0000\">│</span>   <span style=\"color: #7f7f7f; text-decoration-color: #7f7f7f\">532 </span><span style=\"color: #7f7f7f; text-decoration-color: #7f7f7f\">│   │   │   │   </span>logger.error(<span style=\"color: #808000; text-decoration-color: #808000\">f\"Error instantiating step {</span>step_name<span style=\"color: #808000; text-decoration-color: #808000\">}: {</span>e<span style=\"color: #808000; text-decoration-color: #808000\">}\"</span>)                 <span style=\"color: #ff0000; text-decoration-color: #ff0000\">│</span>\n",
       "<span style=\"color: #ff0000; text-decoration-color: #ff0000\">│</span>                                                                                                  <span style=\"color: #ff0000; text-decoration-color: #ff0000\">│</span>\n",
       "<span style=\"color: #ff0000; text-decoration-color: #ff0000\">│</span> <span style=\"color: #7f7f7f; text-decoration-color: #7f7f7f\">/home/ec2-user/SageMaker/Cursus/src/cursus/core/assembler/</span><span style=\"font-weight: bold\">pipeline_assembler.py</span>:447 in           <span style=\"color: #ff0000; text-decoration-color: #ff0000\">│</span>\n",
       "<span style=\"color: #ff0000; text-decoration-color: #ff0000\">│</span> _instantiate_step                                                                                <span style=\"color: #ff0000; text-decoration-color: #ff0000\">│</span>\n",
       "<span style=\"color: #ff0000; text-decoration-color: #ff0000\">│</span>                                                                                                  <span style=\"color: #ff0000; text-decoration-color: #ff0000\">│</span>\n",
       "<span style=\"color: #ff0000; text-decoration-color: #ff0000\">│</span>   <span style=\"color: #7f7f7f; text-decoration-color: #7f7f7f\">444 </span><span style=\"color: #7f7f7f; text-decoration-color: #7f7f7f\">│   │   │   </span><span style=\"color: #0000ff; text-decoration-color: #0000ff\">return</span> step                                                                    <span style=\"color: #ff0000; text-decoration-color: #ff0000\">│</span>\n",
       "<span style=\"color: #ff0000; text-decoration-color: #ff0000\">│</span>   <span style=\"color: #7f7f7f; text-decoration-color: #7f7f7f\">445 </span><span style=\"color: #7f7f7f; text-decoration-color: #7f7f7f\">│   │   </span><span style=\"color: #0000ff; text-decoration-color: #0000ff\">except</span> <span style=\"color: #00ffff; text-decoration-color: #00ffff\">Exception</span> <span style=\"color: #0000ff; text-decoration-color: #0000ff\">as</span> e:                                                             <span style=\"color: #ff0000; text-decoration-color: #ff0000\">│</span>\n",
       "<span style=\"color: #ff0000; text-decoration-color: #ff0000\">│</span>   <span style=\"color: #7f7f7f; text-decoration-color: #7f7f7f\">446 </span><span style=\"color: #7f7f7f; text-decoration-color: #7f7f7f\">│   │   │   </span>logger.error(<span style=\"color: #808000; text-decoration-color: #808000\">f\"Error building step {</span>step_name<span style=\"color: #808000; text-decoration-color: #808000\">}: {</span>e<span style=\"color: #808000; text-decoration-color: #808000\">}\"</span>)                          <span style=\"color: #ff0000; text-decoration-color: #ff0000\">│</span>\n",
       "<span style=\"color: #ff0000; text-decoration-color: #ff0000\">│</span> <span style=\"color: #800000; text-decoration-color: #800000\">❱ </span>447 <span style=\"color: #7f7f7f; text-decoration-color: #7f7f7f\">│   │   │   </span><span style=\"color: #0000ff; text-decoration-color: #0000ff\">raise</span> <span style=\"color: #00ffff; text-decoration-color: #00ffff\">ValueError</span>(<span style=\"color: #808000; text-decoration-color: #808000\">f\"Failed to build step {</span>step_name<span style=\"color: #808000; text-decoration-color: #808000\">}: {</span>e<span style=\"color: #808000; text-decoration-color: #808000\">}\"</span>) <span style=\"color: #0000ff; text-decoration-color: #0000ff\">from</span><span style=\"color: #808080; text-decoration-color: #808080\"> </span><span style=\"color: #00ffff; text-decoration-color: #00ffff; text-decoration: underline\">e</span>              <span style=\"color: #ff0000; text-decoration-color: #ff0000\">│</span>\n",
       "<span style=\"color: #ff0000; text-decoration-color: #ff0000\">│</span>   <span style=\"color: #7f7f7f; text-decoration-color: #7f7f7f\">448 </span><span style=\"color: #7f7f7f; text-decoration-color: #7f7f7f\">│   </span>                                                                                       <span style=\"color: #ff0000; text-decoration-color: #ff0000\">│</span>\n",
       "<span style=\"color: #ff0000; text-decoration-color: #ff0000\">│</span>   <span style=\"color: #7f7f7f; text-decoration-color: #7f7f7f\">449 </span><span style=\"color: #7f7f7f; text-decoration-color: #7f7f7f\">│   </span><span style=\"color: #ff00ff; text-decoration-color: #ff00ff; font-weight: bold\">@classmethod</span>                                                                           <span style=\"color: #ff0000; text-decoration-color: #ff0000\">│</span>\n",
       "<span style=\"color: #ff0000; text-decoration-color: #ff0000\">│</span>   <span style=\"color: #7f7f7f; text-decoration-color: #7f7f7f\">450 </span><span style=\"color: #7f7f7f; text-decoration-color: #7f7f7f\">│   </span><span style=\"color: #0000ff; text-decoration-color: #0000ff\">def</span><span style=\"color: #808080; text-decoration-color: #808080\"> </span><span style=\"color: #00ff00; text-decoration-color: #00ff00\">create_with_components</span>(                                                            <span style=\"color: #ff0000; text-decoration-color: #ff0000\">│</span>\n",
       "<span style=\"color: #ff0000; text-decoration-color: #ff0000\">╰──────────────────────────────────────────────────────────────────────────────────────────────────╯</span>\n",
       "<span style=\"color: #ff0000; text-decoration-color: #ff0000; font-weight: bold\">ValueError: </span>Failed to build step TabularPreprocessing_training: \n",
       "..<span style=\"color: #e100e1; text-decoration-color: #e100e1\">/../../../dockers/xgboost_atoz/scripts/tabular_preprocessing.py</span> is not a valid file\n",
       "\n",
       "<span style=\"font-style: italic\">The above exception was the direct cause of the following exception:</span>\n",
       "\n",
       "<span style=\"color: #ff0000; text-decoration-color: #ff0000\">╭─────────────────────────────── </span><span style=\"color: #ff0000; text-decoration-color: #ff0000; font-weight: bold\">Traceback </span><span style=\"color: #ff7f7f; text-decoration-color: #ff7f7f; font-weight: bold\">(most recent call last)</span><span style=\"color: #ff0000; text-decoration-color: #ff0000\"> ────────────────────────────────╮</span>\n",
       "<span style=\"color: #ff0000; text-decoration-color: #ff0000\">│</span> <span style=\"color: #7f7f7f; text-decoration-color: #7f7f7f\">/home/ec2-user/SageMaker/Cursus/src/cursus/core/compiler/</span><span style=\"font-weight: bold\">dag_compiler.py</span>:416 in compile          <span style=\"color: #ff0000; text-decoration-color: #ff0000\">│</span>\n",
       "<span style=\"color: #ff0000; text-decoration-color: #ff0000\">│</span>                                                                                                  <span style=\"color: #ff0000; text-decoration-color: #ff0000\">│</span>\n",
       "<span style=\"color: #ff0000; text-decoration-color: #ff0000\">│</span>   <span style=\"color: #7f7f7f; text-decoration-color: #7f7f7f\">413 </span><span style=\"color: #7f7f7f; text-decoration-color: #7f7f7f\">│   │   │   </span><span style=\"color: #7f7f7f; text-decoration-color: #7f7f7f\"># Build pipeline</span>                                                               <span style=\"color: #ff0000; text-decoration-color: #ff0000\">│</span>\n",
       "<span style=\"color: #ff0000; text-decoration-color: #ff0000\">│</span>   <span style=\"color: #7f7f7f; text-decoration-color: #7f7f7f\">414 </span><span style=\"color: #7f7f7f; text-decoration-color: #7f7f7f\">│   │   │   </span><span style=\"color: #0000ff; text-decoration-color: #0000ff\">from</span><span style=\"color: #808080; text-decoration-color: #808080\"> </span><span style=\"color: #00ffff; text-decoration-color: #00ffff; text-decoration: underline\">typing</span><span style=\"color: #808080; text-decoration-color: #808080\"> </span><span style=\"color: #0000ff; text-decoration-color: #0000ff\">import</span> cast                                                        <span style=\"color: #ff0000; text-decoration-color: #ff0000\">│</span>\n",
       "<span style=\"color: #ff0000; text-decoration-color: #ff0000\">│</span>   <span style=\"color: #7f7f7f; text-decoration-color: #7f7f7f\">415 </span><span style=\"color: #7f7f7f; text-decoration-color: #7f7f7f\">│   │   │   </span><span style=\"color: #0000ff; text-decoration-color: #0000ff\">from</span><span style=\"color: #808080; text-decoration-color: #808080\"> </span><span style=\"color: #00ffff; text-decoration-color: #00ffff; text-decoration: underline\">sagemaker.workflow.pipeline</span><span style=\"color: #808080; text-decoration-color: #808080\"> </span><span style=\"color: #0000ff; text-decoration-color: #0000ff\">import</span> Pipeline <span style=\"color: #0000ff; text-decoration-color: #0000ff\">as</span> SageMakerPipeline          <span style=\"color: #ff0000; text-decoration-color: #ff0000\">│</span>\n",
       "<span style=\"color: #ff0000; text-decoration-color: #ff0000\">│</span> <span style=\"color: #800000; text-decoration-color: #800000\">❱ </span>416 <span style=\"color: #7f7f7f; text-decoration-color: #7f7f7f\">│   │   │   </span>pipeline = cast(SageMakerPipeline, template.generate_pipeline())               <span style=\"color: #ff0000; text-decoration-color: #ff0000\">│</span>\n",
       "<span style=\"color: #ff0000; text-decoration-color: #ff0000\">│</span>   <span style=\"color: #7f7f7f; text-decoration-color: #7f7f7f\">417 </span><span style=\"color: #7f7f7f; text-decoration-color: #7f7f7f\">│   │   │   </span>                                                                               <span style=\"color: #ff0000; text-decoration-color: #ff0000\">│</span>\n",
       "<span style=\"color: #ff0000; text-decoration-color: #ff0000\">│</span>   <span style=\"color: #7f7f7f; text-decoration-color: #7f7f7f\">418 </span><span style=\"color: #7f7f7f; text-decoration-color: #7f7f7f\">│   │   │   </span><span style=\"color: #7f7f7f; text-decoration-color: #7f7f7f\"># Store the template after generate_pipeline() has updated its internal stat</span>   <span style=\"color: #ff0000; text-decoration-color: #ff0000\">│</span>\n",
       "<span style=\"color: #ff0000; text-decoration-color: #ff0000\">│</span>   <span style=\"color: #7f7f7f; text-decoration-color: #7f7f7f\">419 </span><span style=\"color: #7f7f7f; text-decoration-color: #7f7f7f\">│   │   │   </span><span style=\"color: #00ffff; text-decoration-color: #00ffff\">self</span>._last_template = template                                                 <span style=\"color: #ff0000; text-decoration-color: #ff0000\">│</span>\n",
       "<span style=\"color: #ff0000; text-decoration-color: #ff0000\">│</span>                                                                                                  <span style=\"color: #ff0000; text-decoration-color: #ff0000\">│</span>\n",
       "<span style=\"color: #ff0000; text-decoration-color: #ff0000\">│</span> <span style=\"color: #7f7f7f; text-decoration-color: #7f7f7f\">/home/ec2-user/SageMaker/Cursus/src/cursus/core/assembler/</span><span style=\"font-weight: bold\">pipeline_template_base.py</span>:320 in       <span style=\"color: #ff0000; text-decoration-color: #ff0000\">│</span>\n",
       "<span style=\"color: #ff0000; text-decoration-color: #ff0000\">│</span> generate_pipeline                                                                                <span style=\"color: #ff0000; text-decoration-color: #ff0000\">│</span>\n",
       "<span style=\"color: #ff0000; text-decoration-color: #ff0000\">│</span>                                                                                                  <span style=\"color: #ff0000; text-decoration-color: #ff0000\">│</span>\n",
       "<span style=\"color: #ff0000; text-decoration-color: #ff0000\">│</span>   <span style=\"color: #7f7f7f; text-decoration-color: #7f7f7f\">317 </span><span style=\"color: #7f7f7f; text-decoration-color: #7f7f7f\">│   │   </span>)                                                                                  <span style=\"color: #ff0000; text-decoration-color: #ff0000\">│</span>\n",
       "<span style=\"color: #ff0000; text-decoration-color: #ff0000\">│</span>   <span style=\"color: #7f7f7f; text-decoration-color: #7f7f7f\">318 </span><span style=\"color: #7f7f7f; text-decoration-color: #7f7f7f\">│   │   </span>                                                                                   <span style=\"color: #ff0000; text-decoration-color: #ff0000\">│</span>\n",
       "<span style=\"color: #ff0000; text-decoration-color: #ff0000\">│</span>   <span style=\"color: #7f7f7f; text-decoration-color: #7f7f7f\">319 </span><span style=\"color: #7f7f7f; text-decoration-color: #7f7f7f\">│   │   </span><span style=\"color: #7f7f7f; text-decoration-color: #7f7f7f\"># Generate the pipeline</span>                                                            <span style=\"color: #ff0000; text-decoration-color: #ff0000\">│</span>\n",
       "<span style=\"color: #ff0000; text-decoration-color: #ff0000\">│</span> <span style=\"color: #800000; text-decoration-color: #800000\">❱ </span>320 <span style=\"color: #7f7f7f; text-decoration-color: #7f7f7f\">│   │   </span>pipeline = template.generate_pipeline(pipeline_name)                               <span style=\"color: #ff0000; text-decoration-color: #ff0000\">│</span>\n",
       "<span style=\"color: #ff0000; text-decoration-color: #ff0000\">│</span>   <span style=\"color: #7f7f7f; text-decoration-color: #7f7f7f\">321 </span><span style=\"color: #7f7f7f; text-decoration-color: #7f7f7f\">│   │   </span>                                                                                   <span style=\"color: #ff0000; text-decoration-color: #ff0000\">│</span>\n",
       "<span style=\"color: #ff0000; text-decoration-color: #ff0000\">│</span>   <span style=\"color: #7f7f7f; text-decoration-color: #7f7f7f\">322 </span><span style=\"color: #7f7f7f; text-decoration-color: #7f7f7f\">│   │   </span><span style=\"color: #7f7f7f; text-decoration-color: #7f7f7f\"># Store pipeline metadata</span>                                                          <span style=\"color: #ff0000; text-decoration-color: #ff0000\">│</span>\n",
       "<span style=\"color: #ff0000; text-decoration-color: #ff0000\">│</span>   <span style=\"color: #7f7f7f; text-decoration-color: #7f7f7f\">323 </span><span style=\"color: #7f7f7f; text-decoration-color: #7f7f7f\">│   │   </span><span style=\"color: #00ffff; text-decoration-color: #00ffff\">self</span>._store_pipeline_metadata(template)                                            <span style=\"color: #ff0000; text-decoration-color: #ff0000\">│</span>\n",
       "<span style=\"color: #ff0000; text-decoration-color: #ff0000\">│</span>                                                                                                  <span style=\"color: #ff0000; text-decoration-color: #ff0000\">│</span>\n",
       "<span style=\"color: #ff0000; text-decoration-color: #ff0000\">│</span> <span style=\"color: #7f7f7f; text-decoration-color: #7f7f7f\">/home/ec2-user/SageMaker/Cursus/src/cursus/core/assembler/</span><span style=\"font-weight: bold\">pipeline_assembler.py</span>:533 in           <span style=\"color: #ff0000; text-decoration-color: #ff0000\">│</span>\n",
       "<span style=\"color: #ff0000; text-decoration-color: #ff0000\">│</span> generate_pipeline                                                                                <span style=\"color: #ff0000; text-decoration-color: #ff0000\">│</span>\n",
       "<span style=\"color: #ff0000; text-decoration-color: #ff0000\">│</span>                                                                                                  <span style=\"color: #ff0000; text-decoration-color: #ff0000\">│</span>\n",
       "<span style=\"color: #ff0000; text-decoration-color: #ff0000\">│</span>   <span style=\"color: #7f7f7f; text-decoration-color: #7f7f7f\">530 </span><span style=\"color: #7f7f7f; text-decoration-color: #7f7f7f\">│   │   │   │   </span><span style=\"color: #00ffff; text-decoration-color: #00ffff\">self</span>.step_instances[step_name] = step                                      <span style=\"color: #ff0000; text-decoration-color: #ff0000\">│</span>\n",
       "<span style=\"color: #ff0000; text-decoration-color: #ff0000\">│</span>   <span style=\"color: #7f7f7f; text-decoration-color: #7f7f7f\">531 </span><span style=\"color: #7f7f7f; text-decoration-color: #7f7f7f\">│   │   │   </span><span style=\"color: #0000ff; text-decoration-color: #0000ff\">except</span> <span style=\"color: #00ffff; text-decoration-color: #00ffff\">Exception</span> <span style=\"color: #0000ff; text-decoration-color: #0000ff\">as</span> e:                                                         <span style=\"color: #ff0000; text-decoration-color: #ff0000\">│</span>\n",
       "<span style=\"color: #ff0000; text-decoration-color: #ff0000\">│</span>   <span style=\"color: #7f7f7f; text-decoration-color: #7f7f7f\">532 </span><span style=\"color: #7f7f7f; text-decoration-color: #7f7f7f\">│   │   │   │   </span>logger.error(<span style=\"color: #808000; text-decoration-color: #808000\">f\"Error instantiating step {</span>step_name<span style=\"color: #808000; text-decoration-color: #808000\">}: {</span>e<span style=\"color: #808000; text-decoration-color: #808000\">}\"</span>)                 <span style=\"color: #ff0000; text-decoration-color: #ff0000\">│</span>\n",
       "<span style=\"color: #ff0000; text-decoration-color: #ff0000\">│</span> <span style=\"color: #800000; text-decoration-color: #800000\">❱ </span>533 <span style=\"color: #7f7f7f; text-decoration-color: #7f7f7f\">│   │   │   │   </span><span style=\"color: #0000ff; text-decoration-color: #0000ff\">raise</span> <span style=\"color: #00ffff; text-decoration-color: #00ffff\">ValueError</span>(<span style=\"color: #808000; text-decoration-color: #808000\">f\"Failed to instantiate step {</span>step_name<span style=\"color: #808000; text-decoration-color: #808000\">}: {</span>e<span style=\"color: #808000; text-decoration-color: #808000\">}\"</span>) <span style=\"color: #0000ff; text-decoration-color: #0000ff\">from</span><span style=\"color: #808080; text-decoration-color: #808080\"> </span><span style=\"color: #00ffff; text-decoration-color: #00ffff; text-decoration: underline\">e</span>    <span style=\"color: #ff0000; text-decoration-color: #ff0000\">│</span>\n",
       "<span style=\"color: #ff0000; text-decoration-color: #ff0000\">│</span>   <span style=\"color: #7f7f7f; text-decoration-color: #7f7f7f\">534 </span><span style=\"color: #7f7f7f; text-decoration-color: #7f7f7f\">│   │   </span>                                                                                   <span style=\"color: #ff0000; text-decoration-color: #ff0000\">│</span>\n",
       "<span style=\"color: #ff0000; text-decoration-color: #ff0000\">│</span>   <span style=\"color: #7f7f7f; text-decoration-color: #7f7f7f\">535 </span><span style=\"color: #7f7f7f; text-decoration-color: #7f7f7f\">│   │   </span><span style=\"color: #7f7f7f; text-decoration-color: #7f7f7f\"># Create the pipeline</span>                                                              <span style=\"color: #ff0000; text-decoration-color: #ff0000\">│</span>\n",
       "<span style=\"color: #ff0000; text-decoration-color: #ff0000\">│</span>   <span style=\"color: #7f7f7f; text-decoration-color: #7f7f7f\">536 </span><span style=\"color: #7f7f7f; text-decoration-color: #7f7f7f\">│   │   </span>steps = [<span style=\"color: #00ffff; text-decoration-color: #00ffff\">self</span>.step_instances[name] <span style=\"color: #0000ff; text-decoration-color: #0000ff\">for</span> name <span style=\"color: #ff00ff; text-decoration-color: #ff00ff\">in</span> build_order]                        <span style=\"color: #ff0000; text-decoration-color: #ff0000\">│</span>\n",
       "<span style=\"color: #ff0000; text-decoration-color: #ff0000\">╰──────────────────────────────────────────────────────────────────────────────────────────────────╯</span>\n",
       "<span style=\"color: #ff0000; text-decoration-color: #ff0000; font-weight: bold\">ValueError: </span>Failed to instantiate step TabularPreprocessing_training: Failed to build step \n",
       "TabularPreprocessing_training: ..<span style=\"color: #e100e1; text-decoration-color: #e100e1\">/../../../dockers/xgboost_atoz/scripts/tabular_preprocessing.py</span> is not a valid \n",
       "file\n",
       "\n",
       "<span style=\"font-style: italic\">The above exception was the direct cause of the following exception:</span>\n",
       "\n",
       "<span style=\"color: #ff0000; text-decoration-color: #ff0000\">╭─────────────────────────────── </span><span style=\"color: #ff0000; text-decoration-color: #ff0000; font-weight: bold\">Traceback </span><span style=\"color: #ff7f7f; text-decoration-color: #ff7f7f; font-weight: bold\">(most recent call last)</span><span style=\"color: #ff0000; text-decoration-color: #ff0000\"> ────────────────────────────────╮</span>\n",
       "<span style=\"color: #ff0000; text-decoration-color: #ff0000\">│</span> <span style=\"color: #7f7f7f; text-decoration-color: #7f7f7f\">/home/ec2-user/SageMaker/Cursus/src/cursus/core/compiler/</span><span style=\"font-weight: bold\">dag_compiler.py</span>:460 in                  <span style=\"color: #ff0000; text-decoration-color: #ff0000\">│</span>\n",
       "<span style=\"color: #ff0000; text-decoration-color: #ff0000\">│</span> compile_with_report                                                                              <span style=\"color: #ff0000; text-decoration-color: #ff0000\">│</span>\n",
       "<span style=\"color: #ff0000; text-decoration-color: #ff0000\">│</span>                                                                                                  <span style=\"color: #ff0000; text-decoration-color: #ff0000\">│</span>\n",
       "<span style=\"color: #ff0000; text-decoration-color: #ff0000\">│</span>   <span style=\"color: #7f7f7f; text-decoration-color: #7f7f7f\">457 </span><span style=\"color: #7f7f7f; text-decoration-color: #7f7f7f\">│   │   │   </span><span style=\"color: #00ffff; text-decoration-color: #00ffff\">self</span>.logger.info(<span style=\"color: #808000; text-decoration-color: #808000\">f\"Compiling DAG with detailed reporting\"</span>)                     <span style=\"color: #ff0000; text-decoration-color: #ff0000\">│</span>\n",
       "<span style=\"color: #ff0000; text-decoration-color: #ff0000\">│</span>   <span style=\"color: #7f7f7f; text-decoration-color: #7f7f7f\">458 </span><span style=\"color: #7f7f7f; text-decoration-color: #7f7f7f\">│   │   │   </span>                                                                               <span style=\"color: #ff0000; text-decoration-color: #ff0000\">│</span>\n",
       "<span style=\"color: #ff0000; text-decoration-color: #ff0000\">│</span>   <span style=\"color: #7f7f7f; text-decoration-color: #7f7f7f\">459 </span><span style=\"color: #7f7f7f; text-decoration-color: #7f7f7f\">│   │   │   </span><span style=\"color: #7f7f7f; text-decoration-color: #7f7f7f\"># Compile pipeline</span>                                                             <span style=\"color: #ff0000; text-decoration-color: #ff0000\">│</span>\n",
       "<span style=\"color: #ff0000; text-decoration-color: #ff0000\">│</span> <span style=\"color: #800000; text-decoration-color: #800000\">❱ </span>460 <span style=\"color: #7f7f7f; text-decoration-color: #7f7f7f\">│   │   │   </span>pipeline = <span style=\"color: #00ffff; text-decoration-color: #00ffff\">self</span>.compile(dag, pipeline_name=pipeline_name, **kwargs)            <span style=\"color: #ff0000; text-decoration-color: #ff0000\">│</span>\n",
       "<span style=\"color: #ff0000; text-decoration-color: #ff0000\">│</span>   <span style=\"color: #7f7f7f; text-decoration-color: #7f7f7f\">461 </span><span style=\"color: #7f7f7f; text-decoration-color: #7f7f7f\">│   │   │   </span>                                                                               <span style=\"color: #ff0000; text-decoration-color: #ff0000\">│</span>\n",
       "<span style=\"color: #ff0000; text-decoration-color: #ff0000\">│</span>   <span style=\"color: #7f7f7f; text-decoration-color: #7f7f7f\">462 </span><span style=\"color: #7f7f7f; text-decoration-color: #7f7f7f\">│   │   │   </span><span style=\"color: #7f7f7f; text-decoration-color: #7f7f7f\"># Generate report</span>                                                              <span style=\"color: #ff0000; text-decoration-color: #ff0000\">│</span>\n",
       "<span style=\"color: #ff0000; text-decoration-color: #ff0000\">│</span>   <span style=\"color: #7f7f7f; text-decoration-color: #7f7f7f\">463 </span><span style=\"color: #7f7f7f; text-decoration-color: #7f7f7f\">│   │   │   </span>dag_nodes = <span style=\"color: #00ffff; text-decoration-color: #00ffff\">list</span>(dag.nodes)                                                    <span style=\"color: #ff0000; text-decoration-color: #ff0000\">│</span>\n",
       "<span style=\"color: #ff0000; text-decoration-color: #ff0000\">│</span>                                                                                                  <span style=\"color: #ff0000; text-decoration-color: #ff0000\">│</span>\n",
       "<span style=\"color: #ff0000; text-decoration-color: #ff0000\">│</span> <span style=\"color: #7f7f7f; text-decoration-color: #7f7f7f\">/home/ec2-user/SageMaker/Cursus/src/cursus/core/compiler/</span><span style=\"font-weight: bold\">dag_compiler.py</span>:440 in compile          <span style=\"color: #ff0000; text-decoration-color: #ff0000\">│</span>\n",
       "<span style=\"color: #ff0000; text-decoration-color: #ff0000\">│</span>                                                                                                  <span style=\"color: #ff0000; text-decoration-color: #ff0000\">│</span>\n",
       "<span style=\"color: #ff0000; text-decoration-color: #ff0000\">│</span>   <span style=\"color: #7f7f7f; text-decoration-color: #7f7f7f\">437 </span><span style=\"color: #7f7f7f; text-decoration-color: #7f7f7f\">│   │   </span>                                                                                   <span style=\"color: #ff0000; text-decoration-color: #ff0000\">│</span>\n",
       "<span style=\"color: #ff0000; text-decoration-color: #ff0000\">│</span>   <span style=\"color: #7f7f7f; text-decoration-color: #7f7f7f\">438 </span><span style=\"color: #7f7f7f; text-decoration-color: #7f7f7f\">│   │   </span><span style=\"color: #0000ff; text-decoration-color: #0000ff\">except</span> <span style=\"color: #00ffff; text-decoration-color: #00ffff\">Exception</span> <span style=\"color: #0000ff; text-decoration-color: #0000ff\">as</span> e:                                                             <span style=\"color: #ff0000; text-decoration-color: #ff0000\">│</span>\n",
       "<span style=\"color: #ff0000; text-decoration-color: #ff0000\">│</span>   <span style=\"color: #7f7f7f; text-decoration-color: #7f7f7f\">439 </span><span style=\"color: #7f7f7f; text-decoration-color: #7f7f7f\">│   │   │   </span><span style=\"color: #00ffff; text-decoration-color: #00ffff\">self</span>.logger.error(<span style=\"color: #808000; text-decoration-color: #808000\">f\"Failed to compile DAG to pipeline: {</span>e<span style=\"color: #808000; text-decoration-color: #808000\">}\"</span>)                   <span style=\"color: #ff0000; text-decoration-color: #ff0000\">│</span>\n",
       "<span style=\"color: #ff0000; text-decoration-color: #ff0000\">│</span> <span style=\"color: #800000; text-decoration-color: #800000\">❱ </span>440 <span style=\"color: #7f7f7f; text-decoration-color: #7f7f7f\">│   │   │   </span><span style=\"color: #0000ff; text-decoration-color: #0000ff\">raise</span> PipelineAPIError(<span style=\"color: #808000; text-decoration-color: #808000\">f\"DAG compilation failed: {</span>e<span style=\"color: #808000; text-decoration-color: #808000\">}\"</span>) <span style=\"color: #0000ff; text-decoration-color: #0000ff\">from</span><span style=\"color: #808080; text-decoration-color: #808080\"> </span><span style=\"color: #00ffff; text-decoration-color: #00ffff; text-decoration: underline\">e</span>                  <span style=\"color: #ff0000; text-decoration-color: #ff0000\">│</span>\n",
       "<span style=\"color: #ff0000; text-decoration-color: #ff0000\">│</span>   <span style=\"color: #7f7f7f; text-decoration-color: #7f7f7f\">441 </span><span style=\"color: #7f7f7f; text-decoration-color: #7f7f7f\">│   </span>                                                                                       <span style=\"color: #ff0000; text-decoration-color: #ff0000\">│</span>\n",
       "<span style=\"color: #ff0000; text-decoration-color: #ff0000\">│</span>   <span style=\"color: #7f7f7f; text-decoration-color: #7f7f7f\">442 </span><span style=\"color: #7f7f7f; text-decoration-color: #7f7f7f\">│   </span><span style=\"color: #0000ff; text-decoration-color: #0000ff\">def</span><span style=\"color: #808080; text-decoration-color: #808080\"> </span><span style=\"color: #00ff00; text-decoration-color: #00ff00\">compile_with_report</span>(                                                               <span style=\"color: #ff0000; text-decoration-color: #ff0000\">│</span>\n",
       "<span style=\"color: #ff0000; text-decoration-color: #ff0000\">│</span>   <span style=\"color: #7f7f7f; text-decoration-color: #7f7f7f\">443 </span><span style=\"color: #7f7f7f; text-decoration-color: #7f7f7f\">│   │   </span><span style=\"color: #00ffff; text-decoration-color: #00ffff\">self</span>, dag: PipelineDAG, pipeline_name: Optional[<span style=\"color: #00ffff; text-decoration-color: #00ffff\">str</span>] = <span style=\"color: #0000ff; text-decoration-color: #0000ff\">None</span>, **kwargs: Any         <span style=\"color: #ff0000; text-decoration-color: #ff0000\">│</span>\n",
       "<span style=\"color: #ff0000; text-decoration-color: #ff0000\">╰──────────────────────────────────────────────────────────────────────────────────────────────────╯</span>\n",
       "<span style=\"color: #ff0000; text-decoration-color: #ff0000; font-weight: bold\">PipelineAPIError: </span>DAG compilation failed: Failed to instantiate step TabularPreprocessing_training: Failed to build\n",
       "step TabularPreprocessing_training: ..<span style=\"color: #e100e1; text-decoration-color: #e100e1\">/../../../dockers/xgboost_atoz/scripts/tabular_preprocessing.py</span> is not a \n",
       "valid file\n",
       "\n",
       "<span style=\"font-style: italic\">The above exception was the direct cause of the following exception:</span>\n",
       "\n",
       "<span style=\"color: #ff0000; text-decoration-color: #ff0000\">╭─────────────────────────────── </span><span style=\"color: #ff0000; text-decoration-color: #ff0000; font-weight: bold\">Traceback </span><span style=\"color: #ff7f7f; text-decoration-color: #ff7f7f; font-weight: bold\">(most recent call last)</span><span style=\"color: #ff0000; text-decoration-color: #ff0000\"> ────────────────────────────────╮</span>\n",
       "<span style=\"color: #ff0000; text-decoration-color: #ff0000\">│</span> in &lt;module&gt;:4                                                                                    <span style=\"color: #ff0000; text-decoration-color: #ff0000\">│</span>\n",
       "<span style=\"color: #ff0000; text-decoration-color: #ff0000\">│</span>                                                                                                  <span style=\"color: #ff0000; text-decoration-color: #ff0000\">│</span>\n",
       "<span style=\"color: #ff0000; text-decoration-color: #ff0000\">│</span>   <span style=\"color: #7f7f7f; text-decoration-color: #7f7f7f\"> 1 # Convert DAG to pipeline and get report</span>                                                    <span style=\"color: #ff0000; text-decoration-color: #ff0000\">│</span>\n",
       "<span style=\"color: #ff0000; text-decoration-color: #ff0000\">│</span>   <span style=\"color: #7f7f7f; text-decoration-color: #7f7f7f\"> 2 </span><span style=\"color: #0000ff; text-decoration-color: #0000ff\">try</span>:                                                                                        <span style=\"color: #ff0000; text-decoration-color: #ff0000\">│</span>\n",
       "<span style=\"color: #ff0000; text-decoration-color: #ff0000\">│</span>   <span style=\"color: #7f7f7f; text-decoration-color: #7f7f7f\"> 3 </span><span style=\"color: #7f7f7f; text-decoration-color: #7f7f7f\">│   </span>logger.info(<span style=\"color: #808000; text-decoration-color: #808000\">f\"Converting DAG to pipeline\"</span>)                                              <span style=\"color: #ff0000; text-decoration-color: #ff0000\">│</span>\n",
       "<span style=\"color: #ff0000; text-decoration-color: #ff0000\">│</span> <span style=\"color: #800000; text-decoration-color: #800000\">❱ </span> 4 <span style=\"color: #7f7f7f; text-decoration-color: #7f7f7f\">│   </span>template_pipeline, report = dag_compiler.compile_with_report(                           <span style=\"color: #ff0000; text-decoration-color: #ff0000\">│</span>\n",
       "<span style=\"color: #ff0000; text-decoration-color: #ff0000\">│</span>   <span style=\"color: #7f7f7f; text-decoration-color: #7f7f7f\"> 5 </span><span style=\"color: #7f7f7f; text-decoration-color: #7f7f7f\">│   │   </span>dag=dag                                                                             <span style=\"color: #ff0000; text-decoration-color: #ff0000\">│</span>\n",
       "<span style=\"color: #ff0000; text-decoration-color: #ff0000\">│</span>   <span style=\"color: #7f7f7f; text-decoration-color: #7f7f7f\"> 6 </span><span style=\"color: #7f7f7f; text-decoration-color: #7f7f7f\">│   </span>)                                                                                       <span style=\"color: #ff0000; text-decoration-color: #ff0000\">│</span>\n",
       "<span style=\"color: #ff0000; text-decoration-color: #ff0000\">│</span>   <span style=\"color: #7f7f7f; text-decoration-color: #7f7f7f\"> 7 </span>                                                                                            <span style=\"color: #ff0000; text-decoration-color: #ff0000\">│</span>\n",
       "<span style=\"color: #ff0000; text-decoration-color: #ff0000\">│</span>                                                                                                  <span style=\"color: #ff0000; text-decoration-color: #ff0000\">│</span>\n",
       "<span style=\"color: #ff0000; text-decoration-color: #ff0000\">│</span> <span style=\"color: #7f7f7f; text-decoration-color: #7f7f7f\">/home/ec2-user/SageMaker/Cursus/src/cursus/core/compiler/</span><span style=\"font-weight: bold\">dag_compiler.py</span>:516 in                  <span style=\"color: #ff0000; text-decoration-color: #ff0000\">│</span>\n",
       "<span style=\"color: #ff0000; text-decoration-color: #ff0000\">│</span> compile_with_report                                                                              <span style=\"color: #ff0000; text-decoration-color: #ff0000\">│</span>\n",
       "<span style=\"color: #ff0000; text-decoration-color: #ff0000\">│</span>                                                                                                  <span style=\"color: #ff0000; text-decoration-color: #ff0000\">│</span>\n",
       "<span style=\"color: #ff0000; text-decoration-color: #ff0000\">│</span>   <span style=\"color: #7f7f7f; text-decoration-color: #7f7f7f\">513 </span><span style=\"color: #7f7f7f; text-decoration-color: #7f7f7f\">│   │   </span>                                                                                   <span style=\"color: #ff0000; text-decoration-color: #ff0000\">│</span>\n",
       "<span style=\"color: #ff0000; text-decoration-color: #ff0000\">│</span>   <span style=\"color: #7f7f7f; text-decoration-color: #7f7f7f\">514 </span><span style=\"color: #7f7f7f; text-decoration-color: #7f7f7f\">│   │   </span><span style=\"color: #0000ff; text-decoration-color: #0000ff\">except</span> <span style=\"color: #00ffff; text-decoration-color: #00ffff\">Exception</span> <span style=\"color: #0000ff; text-decoration-color: #0000ff\">as</span> e:                                                             <span style=\"color: #ff0000; text-decoration-color: #ff0000\">│</span>\n",
       "<span style=\"color: #ff0000; text-decoration-color: #ff0000\">│</span>   <span style=\"color: #7f7f7f; text-decoration-color: #7f7f7f\">515 </span><span style=\"color: #7f7f7f; text-decoration-color: #7f7f7f\">│   │   │   </span><span style=\"color: #00ffff; text-decoration-color: #00ffff\">self</span>.logger.error(<span style=\"color: #808000; text-decoration-color: #808000\">f\"Failed to compile DAG with report: {</span>e<span style=\"color: #808000; text-decoration-color: #808000\">}\"</span>)                   <span style=\"color: #ff0000; text-decoration-color: #ff0000\">│</span>\n",
       "<span style=\"color: #ff0000; text-decoration-color: #ff0000\">│</span> <span style=\"color: #800000; text-decoration-color: #800000\">❱ </span>516 <span style=\"color: #7f7f7f; text-decoration-color: #7f7f7f\">│   │   │   </span><span style=\"color: #0000ff; text-decoration-color: #0000ff\">raise</span> PipelineAPIError(<span style=\"color: #808000; text-decoration-color: #808000\">f\"DAG compilation with report failed: {</span>e<span style=\"color: #808000; text-decoration-color: #808000\">}\"</span>) <span style=\"color: #0000ff; text-decoration-color: #0000ff\">from</span><span style=\"color: #808080; text-decoration-color: #808080\"> </span><span style=\"color: #00ffff; text-decoration-color: #00ffff; text-decoration: underline\">e</span>      <span style=\"color: #ff0000; text-decoration-color: #ff0000\">│</span>\n",
       "<span style=\"color: #ff0000; text-decoration-color: #ff0000\">│</span>   <span style=\"color: #7f7f7f; text-decoration-color: #7f7f7f\">517 </span><span style=\"color: #7f7f7f; text-decoration-color: #7f7f7f\">│   </span>                                                                                       <span style=\"color: #ff0000; text-decoration-color: #ff0000\">│</span>\n",
       "<span style=\"color: #ff0000; text-decoration-color: #ff0000\">│</span>   <span style=\"color: #7f7f7f; text-decoration-color: #7f7f7f\">518 </span><span style=\"color: #7f7f7f; text-decoration-color: #7f7f7f\">│   </span><span style=\"color: #0000ff; text-decoration-color: #0000ff\">def</span><span style=\"color: #808080; text-decoration-color: #808080\"> </span><span style=\"color: #00ff00; text-decoration-color: #00ff00\">create_template</span>(<span style=\"color: #00ffff; text-decoration-color: #00ffff\">self</span>, dag: PipelineDAG, **kwargs: Any) -&gt; <span style=\"color: #808000; text-decoration-color: #808000\">\"DynamicPipelineTempla</span>   <span style=\"color: #ff0000; text-decoration-color: #ff0000\">│</span>\n",
       "<span style=\"color: #ff0000; text-decoration-color: #ff0000\">│</span>   <span style=\"color: #7f7f7f; text-decoration-color: #7f7f7f\">519 </span><span style=\"color: #bfbfbf; text-decoration-color: #bfbfbf\">│   │   </span><span style=\"color: #808000; text-decoration-color: #808000\">\"\"\"</span>                                                                                <span style=\"color: #ff0000; text-decoration-color: #ff0000\">│</span>\n",
       "<span style=\"color: #ff0000; text-decoration-color: #ff0000\">╰──────────────────────────────────────────────────────────────────────────────────────────────────╯</span>\n",
       "<span style=\"color: #ff0000; text-decoration-color: #ff0000; font-weight: bold\">PipelineAPIError: </span>DAG compilation with report failed: DAG compilation failed: Failed to instantiate step \n",
       "TabularPreprocessing_training: Failed to build step TabularPreprocessing_training: \n",
       "..<span style=\"color: #e100e1; text-decoration-color: #e100e1\">/../../../dockers/xgboost_atoz/scripts/tabular_preprocessing.py</span> is not a valid file\n",
       "</pre>\n"
      ],
      "text/plain": [
       "\u001b[38;2;255;0;0m╭─\u001b[0m\u001b[38;2;255;0;0m──────────────────────────────\u001b[0m\u001b[38;2;255;0;0m \u001b[0m\u001b[1;38;2;255;0;0mTraceback \u001b[0m\u001b[1;2;38;2;255;0;0m(most recent call last)\u001b[0m\u001b[38;2;255;0;0m \u001b[0m\u001b[38;2;255;0;0m───────────────────────────────\u001b[0m\u001b[38;2;255;0;0m─╮\u001b[0m\n",
       "\u001b[38;2;255;0;0m│\u001b[0m \u001b[2m/home/ec2-user/SageMaker/Cursus/src/cursus/core/assembler/\u001b[0m\u001b[1mpipeline_assembler.py\u001b[0m:437 in           \u001b[38;2;255;0;0m│\u001b[0m\n",
       "\u001b[38;2;255;0;0m│\u001b[0m _instantiate_step                                                                                \u001b[38;2;255;0;0m│\u001b[0m\n",
       "\u001b[38;2;255;0;0m│\u001b[0m                                                                                                  \u001b[38;2;255;0;0m│\u001b[0m\n",
       "\u001b[38;2;255;0;0m│\u001b[0m   \u001b[2m434 \u001b[0m\u001b[2m│   │   \u001b[0m}                                                                                  \u001b[38;2;255;0;0m│\u001b[0m\n",
       "\u001b[38;2;255;0;0m│\u001b[0m   \u001b[2m435 \u001b[0m\u001b[2m│   │   \u001b[0m                                                                                   \u001b[38;2;255;0;0m│\u001b[0m\n",
       "\u001b[38;2;255;0;0m│\u001b[0m   \u001b[2m436 \u001b[0m\u001b[2m│   │   \u001b[0m\u001b[94mtry\u001b[0m:                                                                               \u001b[38;2;255;0;0m│\u001b[0m\n",
       "\u001b[38;2;255;0;0m│\u001b[0m \u001b[31m❱ \u001b[0m437 \u001b[2m│   │   │   \u001b[0mstep = builder.create_step(**kwargs)                                           \u001b[38;2;255;0;0m│\u001b[0m\n",
       "\u001b[38;2;255;0;0m│\u001b[0m   \u001b[2m438 \u001b[0m\u001b[2m│   │   │   \u001b[0mlogger.info(\u001b[33mf\u001b[0m\u001b[33m\"\u001b[0m\u001b[33mBuilt step \u001b[0m\u001b[33m{\u001b[0mstep_name\u001b[33m}\u001b[0m\u001b[33m\"\u001b[0m)                                         \u001b[38;2;255;0;0m│\u001b[0m\n",
       "\u001b[38;2;255;0;0m│\u001b[0m   \u001b[2m439 \u001b[0m\u001b[2m│   │   │   \u001b[0m                                                                               \u001b[38;2;255;0;0m│\u001b[0m\n",
       "\u001b[38;2;255;0;0m│\u001b[0m   \u001b[2m440 \u001b[0m\u001b[2m│   │   │   \u001b[0m\u001b[2m# Note: Cradle data loading request collection removed as part of Phase 2 cl\u001b[0m   \u001b[38;2;255;0;0m│\u001b[0m\n",
       "\u001b[38;2;255;0;0m│\u001b[0m                                                                                                  \u001b[38;2;255;0;0m│\u001b[0m\n",
       "\u001b[38;2;255;0;0m│\u001b[0m \u001b[2m/home/ec2-user/SageMaker/Cursus/src/cursus/steps/builders/\u001b[0m\u001b[1mbuilder_tabular_preprocessing_step.py\u001b[0m: \u001b[38;2;255;0;0m│\u001b[0m\n",
       "\u001b[38;2;255;0;0m│\u001b[0m 401 in create_step                                                                               \u001b[38;2;255;0;0m│\u001b[0m\n",
       "\u001b[38;2;255;0;0m│\u001b[0m                                                                                                  \u001b[38;2;255;0;0m│\u001b[0m\n",
       "\u001b[38;2;255;0;0m│\u001b[0m   \u001b[2m398 \u001b[0m\u001b[2m│   │   │   │   │    \u001b[0m\u001b[33m\"\u001b[0m\u001b[33myes\u001b[0m\u001b[33m\"\u001b[0m \u001b[94mif\u001b[0m \u001b[96mself\u001b[0m.config.get_portable_script_path() \u001b[94melse\u001b[0m \u001b[33m\"\u001b[0m\u001b[33mno\u001b[0m\u001b[33m\"\u001b[0m)            \u001b[38;2;255;0;0m│\u001b[0m\n",
       "\u001b[38;2;255;0;0m│\u001b[0m   \u001b[2m399 \u001b[0m\u001b[2m│   │   \u001b[0m                                                                                   \u001b[38;2;255;0;0m│\u001b[0m\n",
       "\u001b[38;2;255;0;0m│\u001b[0m   \u001b[2m400 \u001b[0m\u001b[2m│   │   \u001b[0m\u001b[2m# Create step\u001b[0m                                                                      \u001b[38;2;255;0;0m│\u001b[0m\n",
       "\u001b[38;2;255;0;0m│\u001b[0m \u001b[31m❱ \u001b[0m401 \u001b[2m│   │   \u001b[0mstep = ProcessingStep(                                                             \u001b[38;2;255;0;0m│\u001b[0m\n",
       "\u001b[38;2;255;0;0m│\u001b[0m   \u001b[2m402 \u001b[0m\u001b[2m│   │   │   \u001b[0mname=step_name,                                                                \u001b[38;2;255;0;0m│\u001b[0m\n",
       "\u001b[38;2;255;0;0m│\u001b[0m   \u001b[2m403 \u001b[0m\u001b[2m│   │   │   \u001b[0mprocessor=processor,                                                           \u001b[38;2;255;0;0m│\u001b[0m\n",
       "\u001b[38;2;255;0;0m│\u001b[0m   \u001b[2m404 \u001b[0m\u001b[2m│   │   │   \u001b[0minputs=proc_inputs,                                                            \u001b[38;2;255;0;0m│\u001b[0m\n",
       "\u001b[38;2;255;0;0m│\u001b[0m                                                                                                  \u001b[38;2;255;0;0m│\u001b[0m\n",
       "\u001b[38;2;255;0;0m│\u001b[0m \u001b[2m/home/ec2-user/anaconda3/envs/python3/lib/python3.10/site-packages/sagemaker/workflow/\u001b[0m\u001b[1msteps.py\u001b[0m:9 \u001b[38;2;255;0;0m│\u001b[0m\n",
       "\u001b[38;2;255;0;0m│\u001b[0m 04 in __init__                                                                                   \u001b[38;2;255;0;0m│\u001b[0m\n",
       "\u001b[38;2;255;0;0m│\u001b[0m                                                                                                  \u001b[38;2;255;0;0m│\u001b[0m\n",
       "\u001b[38;2;255;0;0m│\u001b[0m   \u001b[2m 901 \u001b[0m\u001b[2m│   │   │   │   │   \u001b[0m\u001b[2m# To avoid this, hash the contents of the script and include it\u001b[0m       \u001b[38;2;255;0;0m│\u001b[0m\n",
       "\u001b[38;2;255;0;0m│\u001b[0m   \u001b[2m 902 \u001b[0m\u001b[2m│   │   │   │   │   \u001b[0m\u001b[2m# in the `job_name` passed to the `Processor`, which will be used\u001b[0m     \u001b[38;2;255;0;0m│\u001b[0m\n",
       "\u001b[38;2;255;0;0m│\u001b[0m   \u001b[2m 903 \u001b[0m\u001b[2m│   │   │   │   │   \u001b[0m\u001b[2m# instead of the timestamped path.\u001b[0m                                    \u001b[38;2;255;0;0m│\u001b[0m\n",
       "\u001b[38;2;255;0;0m│\u001b[0m \u001b[31m❱ \u001b[0m 904 \u001b[2m│   │   │   │   │   \u001b[0m\u001b[96mself\u001b[0m.job_name = \u001b[96mself\u001b[0m._generate_code_upload_path()                     \u001b[38;2;255;0;0m│\u001b[0m\n",
       "\u001b[38;2;255;0;0m│\u001b[0m   \u001b[2m 905 \u001b[0m\u001b[2m│   │   │   \u001b[0m                                                                              \u001b[38;2;255;0;0m│\u001b[0m\n",
       "\u001b[38;2;255;0;0m│\u001b[0m   \u001b[2m 906 \u001b[0m\u001b[2m│   │   │   \u001b[0mwarnings.warn(                                                                \u001b[38;2;255;0;0m│\u001b[0m\n",
       "\u001b[38;2;255;0;0m│\u001b[0m   \u001b[2m 907 \u001b[0m\u001b[2m│   │   │   │   \u001b[0m(                                                                         \u001b[38;2;255;0;0m│\u001b[0m\n",
       "\u001b[38;2;255;0;0m│\u001b[0m                                                                                                  \u001b[38;2;255;0;0m│\u001b[0m\n",
       "\u001b[38;2;255;0;0m│\u001b[0m \u001b[2m/home/ec2-user/anaconda3/envs/python3/lib/python3.10/site-packages/sagemaker/workflow/\u001b[0m\u001b[1msteps.py\u001b[0m:9 \u001b[38;2;255;0;0m│\u001b[0m\n",
       "\u001b[38;2;255;0;0m│\u001b[0m 73 in _generate_code_upload_path                                                                 \u001b[38;2;255;0;0m│\u001b[0m\n",
       "\u001b[38;2;255;0;0m│\u001b[0m                                                                                                  \u001b[38;2;255;0;0m│\u001b[0m\n",
       "\u001b[38;2;255;0;0m│\u001b[0m   \u001b[2m 970 \u001b[0m\u001b[2;90m│   │   \u001b[0m\u001b[33m\"\"\"Generate an upload path for local processing scripts based on its contents.\"\"\u001b[0m  \u001b[38;2;255;0;0m│\u001b[0m\n",
       "\u001b[38;2;255;0;0m│\u001b[0m   \u001b[2m 971 \u001b[0m\u001b[2m│   │   \u001b[0m\u001b[94mfrom\u001b[0m\u001b[90m \u001b[0m\u001b[4;96msagemaker\u001b[0m\u001b[4;96m.\u001b[0m\u001b[4;96mworkflow\u001b[0m\u001b[4;96m.\u001b[0m\u001b[4;96mutilities\u001b[0m\u001b[90m \u001b[0m\u001b[94mimport\u001b[0m hash_file                                \u001b[38;2;255;0;0m│\u001b[0m\n",
       "\u001b[38;2;255;0;0m│\u001b[0m   \u001b[2m 972 \u001b[0m\u001b[2m│   │   \u001b[0m                                                                                  \u001b[38;2;255;0;0m│\u001b[0m\n",
       "\u001b[38;2;255;0;0m│\u001b[0m \u001b[31m❱ \u001b[0m 973 \u001b[2m│   │   \u001b[0mcode_hash = hash_file(\u001b[96mself\u001b[0m.code)                                                  \u001b[38;2;255;0;0m│\u001b[0m\n",
       "\u001b[38;2;255;0;0m│\u001b[0m   \u001b[2m 974 \u001b[0m\u001b[2m│   │   \u001b[0m\u001b[94mreturn\u001b[0m \u001b[33mf\u001b[0m\u001b[33m\"\u001b[0m\u001b[33m{\u001b[0m\u001b[96mself\u001b[0m.name\u001b[33m}\u001b[0m\u001b[33m-\u001b[0m\u001b[33m{\u001b[0mcode_hash\u001b[33m}\u001b[0m\u001b[33m\"\u001b[0m[:\u001b[94m1024\u001b[0m]                                          \u001b[38;2;255;0;0m│\u001b[0m\n",
       "\u001b[38;2;255;0;0m│\u001b[0m   \u001b[2m 975 \u001b[0m                                                                                          \u001b[38;2;255;0;0m│\u001b[0m\n",
       "\u001b[38;2;255;0;0m│\u001b[0m   \u001b[2m 976 \u001b[0m                                                                                          \u001b[38;2;255;0;0m│\u001b[0m\n",
       "\u001b[38;2;255;0;0m│\u001b[0m                                                                                                  \u001b[38;2;255;0;0m│\u001b[0m\n",
       "\u001b[38;2;255;0;0m│\u001b[0m \u001b[2m/home/ec2-user/anaconda3/envs/python3/lib/python3.10/site-packages/sagemaker/workflow/\u001b[0m\u001b[1mutilities.\u001b[0m \u001b[38;2;255;0;0m│\u001b[0m\n",
       "\u001b[38;2;255;0;0m│\u001b[0m \u001b[1mpy\u001b[0m:289 in hash_file                                                                              \u001b[38;2;255;0;0m│\u001b[0m\n",
       "\u001b[38;2;255;0;0m│\u001b[0m                                                                                                  \u001b[38;2;255;0;0m│\u001b[0m\n",
       "\u001b[38;2;255;0;0m│\u001b[0m   \u001b[2m286 \u001b[0m\u001b[2;33m│   \u001b[0m\u001b[33mReturns:\u001b[0m                                                                               \u001b[38;2;255;0;0m│\u001b[0m\n",
       "\u001b[38;2;255;0;0m│\u001b[0m   \u001b[2m287 \u001b[0m\u001b[2;33m│   │   \u001b[0m\u001b[33mstr: The SHA256 hash of the file.\u001b[0m                                                  \u001b[38;2;255;0;0m│\u001b[0m\n",
       "\u001b[38;2;255;0;0m│\u001b[0m   \u001b[2m288 \u001b[0m\u001b[2;33m│   \u001b[0m\u001b[33m\"\"\"\u001b[0m                                                                                    \u001b[38;2;255;0;0m│\u001b[0m\n",
       "\u001b[38;2;255;0;0m│\u001b[0m \u001b[31m❱ \u001b[0m289 \u001b[2m│   \u001b[0m\u001b[94mreturn\u001b[0m _hash_file(path, hashlib.sha256()).hexdigest()                                  \u001b[38;2;255;0;0m│\u001b[0m\n",
       "\u001b[38;2;255;0;0m│\u001b[0m   \u001b[2m290 \u001b[0m                                                                                           \u001b[38;2;255;0;0m│\u001b[0m\n",
       "\u001b[38;2;255;0;0m│\u001b[0m   \u001b[2m291 \u001b[0m                                                                                           \u001b[38;2;255;0;0m│\u001b[0m\n",
       "\u001b[38;2;255;0;0m│\u001b[0m   \u001b[2m292 \u001b[0m\u001b[94mdef\u001b[0m\u001b[90m \u001b[0m\u001b[92mhash_files_or_dirs\u001b[0m(paths: List[\u001b[96mstr\u001b[0m]) -> \u001b[96mstr\u001b[0m:                                           \u001b[38;2;255;0;0m│\u001b[0m\n",
       "\u001b[38;2;255;0;0m│\u001b[0m                                                                                                  \u001b[38;2;255;0;0m│\u001b[0m\n",
       "\u001b[38;2;255;0;0m│\u001b[0m \u001b[2m/home/ec2-user/anaconda3/envs/python3/lib/python3.10/site-packages/sagemaker/workflow/\u001b[0m\u001b[1mutilities.\u001b[0m \u001b[38;2;255;0;0m│\u001b[0m\n",
       "\u001b[38;2;255;0;0m│\u001b[0m \u001b[1mpy\u001b[0m:360 in _hash_file                                                                             \u001b[38;2;255;0;0m│\u001b[0m\n",
       "\u001b[38;2;255;0;0m│\u001b[0m                                                                                                  \u001b[38;2;255;0;0m│\u001b[0m\n",
       "\u001b[38;2;255;0;0m│\u001b[0m   \u001b[2m357 \u001b[0m\u001b[2m│   \u001b[0m\u001b[94mif\u001b[0m \u001b[96misinstance\u001b[0m(file, \u001b[96mstr\u001b[0m) \u001b[95mand\u001b[0m file.lower().startswith(\u001b[33m\"\u001b[0m\u001b[33mfile://\u001b[0m\u001b[33m\"\u001b[0m):                       \u001b[38;2;255;0;0m│\u001b[0m\n",
       "\u001b[38;2;255;0;0m│\u001b[0m   \u001b[2m358 \u001b[0m\u001b[2m│   │   \u001b[0mfile = unquote(urlparse(file).path)                                                \u001b[38;2;255;0;0m│\u001b[0m\n",
       "\u001b[38;2;255;0;0m│\u001b[0m   \u001b[2m359 \u001b[0m\u001b[2m│   \u001b[0m\u001b[94mif\u001b[0m \u001b[95mnot\u001b[0m Path(file).is_file():                                                           \u001b[38;2;255;0;0m│\u001b[0m\n",
       "\u001b[38;2;255;0;0m│\u001b[0m \u001b[31m❱ \u001b[0m360 \u001b[2m│   │   \u001b[0m\u001b[94mraise\u001b[0m \u001b[96mValueError\u001b[0m(\u001b[96mstr\u001b[0m(file) + \u001b[33m\"\u001b[0m\u001b[33m is not a valid file\u001b[0m\u001b[33m\"\u001b[0m)                               \u001b[38;2;255;0;0m│\u001b[0m\n",
       "\u001b[38;2;255;0;0m│\u001b[0m   \u001b[2m361 \u001b[0m\u001b[2m│   \u001b[0m\u001b[94mwith\u001b[0m \u001b[96mopen\u001b[0m(file, \u001b[33m\"\u001b[0m\u001b[33mrb\u001b[0m\u001b[33m\"\u001b[0m) \u001b[94mas\u001b[0m f:                                                            \u001b[38;2;255;0;0m│\u001b[0m\n",
       "\u001b[38;2;255;0;0m│\u001b[0m   \u001b[2m362 \u001b[0m\u001b[2m│   │   \u001b[0m\u001b[94mwhile\u001b[0m \u001b[94mTrue\u001b[0m:                                                                        \u001b[38;2;255;0;0m│\u001b[0m\n",
       "\u001b[38;2;255;0;0m│\u001b[0m   \u001b[2m363 \u001b[0m\u001b[2m│   │   │   \u001b[0mdata = f.read(BUF_SIZE)                                                        \u001b[38;2;255;0;0m│\u001b[0m\n",
       "\u001b[38;2;255;0;0m╰──────────────────────────────────────────────────────────────────────────────────────────────────╯\u001b[0m\n",
       "\u001b[1;91mValueError: \u001b[0m..\u001b[38;2;225;0;225m/../../../dockers/xgboost_atoz/scripts/\u001b[0m\u001b[38;2;225;0;225mtabular_preprocessing.py\u001b[0m is not a valid file\n",
       "\n",
       "\u001b[3mThe above exception was the direct cause of the following exception:\u001b[0m\n",
       "\n",
       "\u001b[38;2;255;0;0m╭─\u001b[0m\u001b[38;2;255;0;0m──────────────────────────────\u001b[0m\u001b[38;2;255;0;0m \u001b[0m\u001b[1;38;2;255;0;0mTraceback \u001b[0m\u001b[1;2;38;2;255;0;0m(most recent call last)\u001b[0m\u001b[38;2;255;0;0m \u001b[0m\u001b[38;2;255;0;0m───────────────────────────────\u001b[0m\u001b[38;2;255;0;0m─╮\u001b[0m\n",
       "\u001b[38;2;255;0;0m│\u001b[0m \u001b[2m/home/ec2-user/SageMaker/Cursus/src/cursus/core/assembler/\u001b[0m\u001b[1mpipeline_assembler.py\u001b[0m:529 in           \u001b[38;2;255;0;0m│\u001b[0m\n",
       "\u001b[38;2;255;0;0m│\u001b[0m generate_pipeline                                                                                \u001b[38;2;255;0;0m│\u001b[0m\n",
       "\u001b[38;2;255;0;0m│\u001b[0m                                                                                                  \u001b[38;2;255;0;0m│\u001b[0m\n",
       "\u001b[38;2;255;0;0m│\u001b[0m   \u001b[2m526 \u001b[0m\u001b[2m│   │   \u001b[0m\u001b[2m# Instantiate steps in topological order\u001b[0m                                           \u001b[38;2;255;0;0m│\u001b[0m\n",
       "\u001b[38;2;255;0;0m│\u001b[0m   \u001b[2m527 \u001b[0m\u001b[2m│   │   \u001b[0m\u001b[94mfor\u001b[0m step_name \u001b[95min\u001b[0m build_order:                                                      \u001b[38;2;255;0;0m│\u001b[0m\n",
       "\u001b[38;2;255;0;0m│\u001b[0m   \u001b[2m528 \u001b[0m\u001b[2m│   │   │   \u001b[0m\u001b[94mtry\u001b[0m:                                                                           \u001b[38;2;255;0;0m│\u001b[0m\n",
       "\u001b[38;2;255;0;0m│\u001b[0m \u001b[31m❱ \u001b[0m529 \u001b[2m│   │   │   │   \u001b[0mstep = \u001b[96mself\u001b[0m._instantiate_step(step_name)                                   \u001b[38;2;255;0;0m│\u001b[0m\n",
       "\u001b[38;2;255;0;0m│\u001b[0m   \u001b[2m530 \u001b[0m\u001b[2m│   │   │   │   \u001b[0m\u001b[96mself\u001b[0m.step_instances[step_name] = step                                      \u001b[38;2;255;0;0m│\u001b[0m\n",
       "\u001b[38;2;255;0;0m│\u001b[0m   \u001b[2m531 \u001b[0m\u001b[2m│   │   │   \u001b[0m\u001b[94mexcept\u001b[0m \u001b[96mException\u001b[0m \u001b[94mas\u001b[0m e:                                                         \u001b[38;2;255;0;0m│\u001b[0m\n",
       "\u001b[38;2;255;0;0m│\u001b[0m   \u001b[2m532 \u001b[0m\u001b[2m│   │   │   │   \u001b[0mlogger.error(\u001b[33mf\u001b[0m\u001b[33m\"\u001b[0m\u001b[33mError instantiating step \u001b[0m\u001b[33m{\u001b[0mstep_name\u001b[33m}\u001b[0m\u001b[33m: \u001b[0m\u001b[33m{\u001b[0me\u001b[33m}\u001b[0m\u001b[33m\"\u001b[0m)                 \u001b[38;2;255;0;0m│\u001b[0m\n",
       "\u001b[38;2;255;0;0m│\u001b[0m                                                                                                  \u001b[38;2;255;0;0m│\u001b[0m\n",
       "\u001b[38;2;255;0;0m│\u001b[0m \u001b[2m/home/ec2-user/SageMaker/Cursus/src/cursus/core/assembler/\u001b[0m\u001b[1mpipeline_assembler.py\u001b[0m:447 in           \u001b[38;2;255;0;0m│\u001b[0m\n",
       "\u001b[38;2;255;0;0m│\u001b[0m _instantiate_step                                                                                \u001b[38;2;255;0;0m│\u001b[0m\n",
       "\u001b[38;2;255;0;0m│\u001b[0m                                                                                                  \u001b[38;2;255;0;0m│\u001b[0m\n",
       "\u001b[38;2;255;0;0m│\u001b[0m   \u001b[2m444 \u001b[0m\u001b[2m│   │   │   \u001b[0m\u001b[94mreturn\u001b[0m step                                                                    \u001b[38;2;255;0;0m│\u001b[0m\n",
       "\u001b[38;2;255;0;0m│\u001b[0m   \u001b[2m445 \u001b[0m\u001b[2m│   │   \u001b[0m\u001b[94mexcept\u001b[0m \u001b[96mException\u001b[0m \u001b[94mas\u001b[0m e:                                                             \u001b[38;2;255;0;0m│\u001b[0m\n",
       "\u001b[38;2;255;0;0m│\u001b[0m   \u001b[2m446 \u001b[0m\u001b[2m│   │   │   \u001b[0mlogger.error(\u001b[33mf\u001b[0m\u001b[33m\"\u001b[0m\u001b[33mError building step \u001b[0m\u001b[33m{\u001b[0mstep_name\u001b[33m}\u001b[0m\u001b[33m: \u001b[0m\u001b[33m{\u001b[0me\u001b[33m}\u001b[0m\u001b[33m\"\u001b[0m)                          \u001b[38;2;255;0;0m│\u001b[0m\n",
       "\u001b[38;2;255;0;0m│\u001b[0m \u001b[31m❱ \u001b[0m447 \u001b[2m│   │   │   \u001b[0m\u001b[94mraise\u001b[0m \u001b[96mValueError\u001b[0m(\u001b[33mf\u001b[0m\u001b[33m\"\u001b[0m\u001b[33mFailed to build step \u001b[0m\u001b[33m{\u001b[0mstep_name\u001b[33m}\u001b[0m\u001b[33m: \u001b[0m\u001b[33m{\u001b[0me\u001b[33m}\u001b[0m\u001b[33m\"\u001b[0m) \u001b[94mfrom\u001b[0m\u001b[90m \u001b[0m\u001b[4;96me\u001b[0m              \u001b[38;2;255;0;0m│\u001b[0m\n",
       "\u001b[38;2;255;0;0m│\u001b[0m   \u001b[2m448 \u001b[0m\u001b[2m│   \u001b[0m                                                                                       \u001b[38;2;255;0;0m│\u001b[0m\n",
       "\u001b[38;2;255;0;0m│\u001b[0m   \u001b[2m449 \u001b[0m\u001b[2m│   \u001b[0m\u001b[1;95m@classmethod\u001b[0m                                                                           \u001b[38;2;255;0;0m│\u001b[0m\n",
       "\u001b[38;2;255;0;0m│\u001b[0m   \u001b[2m450 \u001b[0m\u001b[2m│   \u001b[0m\u001b[94mdef\u001b[0m\u001b[90m \u001b[0m\u001b[92mcreate_with_components\u001b[0m(                                                            \u001b[38;2;255;0;0m│\u001b[0m\n",
       "\u001b[38;2;255;0;0m╰──────────────────────────────────────────────────────────────────────────────────────────────────╯\u001b[0m\n",
       "\u001b[1;91mValueError: \u001b[0mFailed to build step TabularPreprocessing_training: \n",
       "..\u001b[38;2;225;0;225m/../../../dockers/xgboost_atoz/scripts/\u001b[0m\u001b[38;2;225;0;225mtabular_preprocessing.py\u001b[0m is not a valid file\n",
       "\n",
       "\u001b[3mThe above exception was the direct cause of the following exception:\u001b[0m\n",
       "\n",
       "\u001b[38;2;255;0;0m╭─\u001b[0m\u001b[38;2;255;0;0m──────────────────────────────\u001b[0m\u001b[38;2;255;0;0m \u001b[0m\u001b[1;38;2;255;0;0mTraceback \u001b[0m\u001b[1;2;38;2;255;0;0m(most recent call last)\u001b[0m\u001b[38;2;255;0;0m \u001b[0m\u001b[38;2;255;0;0m───────────────────────────────\u001b[0m\u001b[38;2;255;0;0m─╮\u001b[0m\n",
       "\u001b[38;2;255;0;0m│\u001b[0m \u001b[2m/home/ec2-user/SageMaker/Cursus/src/cursus/core/compiler/\u001b[0m\u001b[1mdag_compiler.py\u001b[0m:416 in compile          \u001b[38;2;255;0;0m│\u001b[0m\n",
       "\u001b[38;2;255;0;0m│\u001b[0m                                                                                                  \u001b[38;2;255;0;0m│\u001b[0m\n",
       "\u001b[38;2;255;0;0m│\u001b[0m   \u001b[2m413 \u001b[0m\u001b[2m│   │   │   \u001b[0m\u001b[2m# Build pipeline\u001b[0m                                                               \u001b[38;2;255;0;0m│\u001b[0m\n",
       "\u001b[38;2;255;0;0m│\u001b[0m   \u001b[2m414 \u001b[0m\u001b[2m│   │   │   \u001b[0m\u001b[94mfrom\u001b[0m\u001b[90m \u001b[0m\u001b[4;96mtyping\u001b[0m\u001b[90m \u001b[0m\u001b[94mimport\u001b[0m cast                                                        \u001b[38;2;255;0;0m│\u001b[0m\n",
       "\u001b[38;2;255;0;0m│\u001b[0m   \u001b[2m415 \u001b[0m\u001b[2m│   │   │   \u001b[0m\u001b[94mfrom\u001b[0m\u001b[90m \u001b[0m\u001b[4;96msagemaker\u001b[0m\u001b[4;96m.\u001b[0m\u001b[4;96mworkflow\u001b[0m\u001b[4;96m.\u001b[0m\u001b[4;96mpipeline\u001b[0m\u001b[90m \u001b[0m\u001b[94mimport\u001b[0m Pipeline \u001b[94mas\u001b[0m SageMakerPipeline          \u001b[38;2;255;0;0m│\u001b[0m\n",
       "\u001b[38;2;255;0;0m│\u001b[0m \u001b[31m❱ \u001b[0m416 \u001b[2m│   │   │   \u001b[0mpipeline = cast(SageMakerPipeline, template.generate_pipeline())               \u001b[38;2;255;0;0m│\u001b[0m\n",
       "\u001b[38;2;255;0;0m│\u001b[0m   \u001b[2m417 \u001b[0m\u001b[2m│   │   │   \u001b[0m                                                                               \u001b[38;2;255;0;0m│\u001b[0m\n",
       "\u001b[38;2;255;0;0m│\u001b[0m   \u001b[2m418 \u001b[0m\u001b[2m│   │   │   \u001b[0m\u001b[2m# Store the template after generate_pipeline() has updated its internal stat\u001b[0m   \u001b[38;2;255;0;0m│\u001b[0m\n",
       "\u001b[38;2;255;0;0m│\u001b[0m   \u001b[2m419 \u001b[0m\u001b[2m│   │   │   \u001b[0m\u001b[96mself\u001b[0m._last_template = template                                                 \u001b[38;2;255;0;0m│\u001b[0m\n",
       "\u001b[38;2;255;0;0m│\u001b[0m                                                                                                  \u001b[38;2;255;0;0m│\u001b[0m\n",
       "\u001b[38;2;255;0;0m│\u001b[0m \u001b[2m/home/ec2-user/SageMaker/Cursus/src/cursus/core/assembler/\u001b[0m\u001b[1mpipeline_template_base.py\u001b[0m:320 in       \u001b[38;2;255;0;0m│\u001b[0m\n",
       "\u001b[38;2;255;0;0m│\u001b[0m generate_pipeline                                                                                \u001b[38;2;255;0;0m│\u001b[0m\n",
       "\u001b[38;2;255;0;0m│\u001b[0m                                                                                                  \u001b[38;2;255;0;0m│\u001b[0m\n",
       "\u001b[38;2;255;0;0m│\u001b[0m   \u001b[2m317 \u001b[0m\u001b[2m│   │   \u001b[0m)                                                                                  \u001b[38;2;255;0;0m│\u001b[0m\n",
       "\u001b[38;2;255;0;0m│\u001b[0m   \u001b[2m318 \u001b[0m\u001b[2m│   │   \u001b[0m                                                                                   \u001b[38;2;255;0;0m│\u001b[0m\n",
       "\u001b[38;2;255;0;0m│\u001b[0m   \u001b[2m319 \u001b[0m\u001b[2m│   │   \u001b[0m\u001b[2m# Generate the pipeline\u001b[0m                                                            \u001b[38;2;255;0;0m│\u001b[0m\n",
       "\u001b[38;2;255;0;0m│\u001b[0m \u001b[31m❱ \u001b[0m320 \u001b[2m│   │   \u001b[0mpipeline = template.generate_pipeline(pipeline_name)                               \u001b[38;2;255;0;0m│\u001b[0m\n",
       "\u001b[38;2;255;0;0m│\u001b[0m   \u001b[2m321 \u001b[0m\u001b[2m│   │   \u001b[0m                                                                                   \u001b[38;2;255;0;0m│\u001b[0m\n",
       "\u001b[38;2;255;0;0m│\u001b[0m   \u001b[2m322 \u001b[0m\u001b[2m│   │   \u001b[0m\u001b[2m# Store pipeline metadata\u001b[0m                                                          \u001b[38;2;255;0;0m│\u001b[0m\n",
       "\u001b[38;2;255;0;0m│\u001b[0m   \u001b[2m323 \u001b[0m\u001b[2m│   │   \u001b[0m\u001b[96mself\u001b[0m._store_pipeline_metadata(template)                                            \u001b[38;2;255;0;0m│\u001b[0m\n",
       "\u001b[38;2;255;0;0m│\u001b[0m                                                                                                  \u001b[38;2;255;0;0m│\u001b[0m\n",
       "\u001b[38;2;255;0;0m│\u001b[0m \u001b[2m/home/ec2-user/SageMaker/Cursus/src/cursus/core/assembler/\u001b[0m\u001b[1mpipeline_assembler.py\u001b[0m:533 in           \u001b[38;2;255;0;0m│\u001b[0m\n",
       "\u001b[38;2;255;0;0m│\u001b[0m generate_pipeline                                                                                \u001b[38;2;255;0;0m│\u001b[0m\n",
       "\u001b[38;2;255;0;0m│\u001b[0m                                                                                                  \u001b[38;2;255;0;0m│\u001b[0m\n",
       "\u001b[38;2;255;0;0m│\u001b[0m   \u001b[2m530 \u001b[0m\u001b[2m│   │   │   │   \u001b[0m\u001b[96mself\u001b[0m.step_instances[step_name] = step                                      \u001b[38;2;255;0;0m│\u001b[0m\n",
       "\u001b[38;2;255;0;0m│\u001b[0m   \u001b[2m531 \u001b[0m\u001b[2m│   │   │   \u001b[0m\u001b[94mexcept\u001b[0m \u001b[96mException\u001b[0m \u001b[94mas\u001b[0m e:                                                         \u001b[38;2;255;0;0m│\u001b[0m\n",
       "\u001b[38;2;255;0;0m│\u001b[0m   \u001b[2m532 \u001b[0m\u001b[2m│   │   │   │   \u001b[0mlogger.error(\u001b[33mf\u001b[0m\u001b[33m\"\u001b[0m\u001b[33mError instantiating step \u001b[0m\u001b[33m{\u001b[0mstep_name\u001b[33m}\u001b[0m\u001b[33m: \u001b[0m\u001b[33m{\u001b[0me\u001b[33m}\u001b[0m\u001b[33m\"\u001b[0m)                 \u001b[38;2;255;0;0m│\u001b[0m\n",
       "\u001b[38;2;255;0;0m│\u001b[0m \u001b[31m❱ \u001b[0m533 \u001b[2m│   │   │   │   \u001b[0m\u001b[94mraise\u001b[0m \u001b[96mValueError\u001b[0m(\u001b[33mf\u001b[0m\u001b[33m\"\u001b[0m\u001b[33mFailed to instantiate step \u001b[0m\u001b[33m{\u001b[0mstep_name\u001b[33m}\u001b[0m\u001b[33m: \u001b[0m\u001b[33m{\u001b[0me\u001b[33m}\u001b[0m\u001b[33m\"\u001b[0m) \u001b[94mfrom\u001b[0m\u001b[90m \u001b[0m\u001b[4;96me\u001b[0m    \u001b[38;2;255;0;0m│\u001b[0m\n",
       "\u001b[38;2;255;0;0m│\u001b[0m   \u001b[2m534 \u001b[0m\u001b[2m│   │   \u001b[0m                                                                                   \u001b[38;2;255;0;0m│\u001b[0m\n",
       "\u001b[38;2;255;0;0m│\u001b[0m   \u001b[2m535 \u001b[0m\u001b[2m│   │   \u001b[0m\u001b[2m# Create the pipeline\u001b[0m                                                              \u001b[38;2;255;0;0m│\u001b[0m\n",
       "\u001b[38;2;255;0;0m│\u001b[0m   \u001b[2m536 \u001b[0m\u001b[2m│   │   \u001b[0msteps = [\u001b[96mself\u001b[0m.step_instances[name] \u001b[94mfor\u001b[0m name \u001b[95min\u001b[0m build_order]                        \u001b[38;2;255;0;0m│\u001b[0m\n",
       "\u001b[38;2;255;0;0m╰──────────────────────────────────────────────────────────────────────────────────────────────────╯\u001b[0m\n",
       "\u001b[1;91mValueError: \u001b[0mFailed to instantiate step TabularPreprocessing_training: Failed to build step \n",
       "TabularPreprocessing_training: ..\u001b[38;2;225;0;225m/../../../dockers/xgboost_atoz/scripts/\u001b[0m\u001b[38;2;225;0;225mtabular_preprocessing.py\u001b[0m is not a valid \n",
       "file\n",
       "\n",
       "\u001b[3mThe above exception was the direct cause of the following exception:\u001b[0m\n",
       "\n",
       "\u001b[38;2;255;0;0m╭─\u001b[0m\u001b[38;2;255;0;0m──────────────────────────────\u001b[0m\u001b[38;2;255;0;0m \u001b[0m\u001b[1;38;2;255;0;0mTraceback \u001b[0m\u001b[1;2;38;2;255;0;0m(most recent call last)\u001b[0m\u001b[38;2;255;0;0m \u001b[0m\u001b[38;2;255;0;0m───────────────────────────────\u001b[0m\u001b[38;2;255;0;0m─╮\u001b[0m\n",
       "\u001b[38;2;255;0;0m│\u001b[0m \u001b[2m/home/ec2-user/SageMaker/Cursus/src/cursus/core/compiler/\u001b[0m\u001b[1mdag_compiler.py\u001b[0m:460 in                  \u001b[38;2;255;0;0m│\u001b[0m\n",
       "\u001b[38;2;255;0;0m│\u001b[0m compile_with_report                                                                              \u001b[38;2;255;0;0m│\u001b[0m\n",
       "\u001b[38;2;255;0;0m│\u001b[0m                                                                                                  \u001b[38;2;255;0;0m│\u001b[0m\n",
       "\u001b[38;2;255;0;0m│\u001b[0m   \u001b[2m457 \u001b[0m\u001b[2m│   │   │   \u001b[0m\u001b[96mself\u001b[0m.logger.info(\u001b[33mf\u001b[0m\u001b[33m\"\u001b[0m\u001b[33mCompiling DAG with detailed reporting\u001b[0m\u001b[33m\"\u001b[0m)                     \u001b[38;2;255;0;0m│\u001b[0m\n",
       "\u001b[38;2;255;0;0m│\u001b[0m   \u001b[2m458 \u001b[0m\u001b[2m│   │   │   \u001b[0m                                                                               \u001b[38;2;255;0;0m│\u001b[0m\n",
       "\u001b[38;2;255;0;0m│\u001b[0m   \u001b[2m459 \u001b[0m\u001b[2m│   │   │   \u001b[0m\u001b[2m# Compile pipeline\u001b[0m                                                             \u001b[38;2;255;0;0m│\u001b[0m\n",
       "\u001b[38;2;255;0;0m│\u001b[0m \u001b[31m❱ \u001b[0m460 \u001b[2m│   │   │   \u001b[0mpipeline = \u001b[96mself\u001b[0m.compile(dag, pipeline_name=pipeline_name, **kwargs)            \u001b[38;2;255;0;0m│\u001b[0m\n",
       "\u001b[38;2;255;0;0m│\u001b[0m   \u001b[2m461 \u001b[0m\u001b[2m│   │   │   \u001b[0m                                                                               \u001b[38;2;255;0;0m│\u001b[0m\n",
       "\u001b[38;2;255;0;0m│\u001b[0m   \u001b[2m462 \u001b[0m\u001b[2m│   │   │   \u001b[0m\u001b[2m# Generate report\u001b[0m                                                              \u001b[38;2;255;0;0m│\u001b[0m\n",
       "\u001b[38;2;255;0;0m│\u001b[0m   \u001b[2m463 \u001b[0m\u001b[2m│   │   │   \u001b[0mdag_nodes = \u001b[96mlist\u001b[0m(dag.nodes)                                                    \u001b[38;2;255;0;0m│\u001b[0m\n",
       "\u001b[38;2;255;0;0m│\u001b[0m                                                                                                  \u001b[38;2;255;0;0m│\u001b[0m\n",
       "\u001b[38;2;255;0;0m│\u001b[0m \u001b[2m/home/ec2-user/SageMaker/Cursus/src/cursus/core/compiler/\u001b[0m\u001b[1mdag_compiler.py\u001b[0m:440 in compile          \u001b[38;2;255;0;0m│\u001b[0m\n",
       "\u001b[38;2;255;0;0m│\u001b[0m                                                                                                  \u001b[38;2;255;0;0m│\u001b[0m\n",
       "\u001b[38;2;255;0;0m│\u001b[0m   \u001b[2m437 \u001b[0m\u001b[2m│   │   \u001b[0m                                                                                   \u001b[38;2;255;0;0m│\u001b[0m\n",
       "\u001b[38;2;255;0;0m│\u001b[0m   \u001b[2m438 \u001b[0m\u001b[2m│   │   \u001b[0m\u001b[94mexcept\u001b[0m \u001b[96mException\u001b[0m \u001b[94mas\u001b[0m e:                                                             \u001b[38;2;255;0;0m│\u001b[0m\n",
       "\u001b[38;2;255;0;0m│\u001b[0m   \u001b[2m439 \u001b[0m\u001b[2m│   │   │   \u001b[0m\u001b[96mself\u001b[0m.logger.error(\u001b[33mf\u001b[0m\u001b[33m\"\u001b[0m\u001b[33mFailed to compile DAG to pipeline: \u001b[0m\u001b[33m{\u001b[0me\u001b[33m}\u001b[0m\u001b[33m\"\u001b[0m)                   \u001b[38;2;255;0;0m│\u001b[0m\n",
       "\u001b[38;2;255;0;0m│\u001b[0m \u001b[31m❱ \u001b[0m440 \u001b[2m│   │   │   \u001b[0m\u001b[94mraise\u001b[0m PipelineAPIError(\u001b[33mf\u001b[0m\u001b[33m\"\u001b[0m\u001b[33mDAG compilation failed: \u001b[0m\u001b[33m{\u001b[0me\u001b[33m}\u001b[0m\u001b[33m\"\u001b[0m) \u001b[94mfrom\u001b[0m\u001b[90m \u001b[0m\u001b[4;96me\u001b[0m                  \u001b[38;2;255;0;0m│\u001b[0m\n",
       "\u001b[38;2;255;0;0m│\u001b[0m   \u001b[2m441 \u001b[0m\u001b[2m│   \u001b[0m                                                                                       \u001b[38;2;255;0;0m│\u001b[0m\n",
       "\u001b[38;2;255;0;0m│\u001b[0m   \u001b[2m442 \u001b[0m\u001b[2m│   \u001b[0m\u001b[94mdef\u001b[0m\u001b[90m \u001b[0m\u001b[92mcompile_with_report\u001b[0m(                                                               \u001b[38;2;255;0;0m│\u001b[0m\n",
       "\u001b[38;2;255;0;0m│\u001b[0m   \u001b[2m443 \u001b[0m\u001b[2m│   │   \u001b[0m\u001b[96mself\u001b[0m, dag: PipelineDAG, pipeline_name: Optional[\u001b[96mstr\u001b[0m] = \u001b[94mNone\u001b[0m, **kwargs: Any         \u001b[38;2;255;0;0m│\u001b[0m\n",
       "\u001b[38;2;255;0;0m╰──────────────────────────────────────────────────────────────────────────────────────────────────╯\u001b[0m\n",
       "\u001b[1;91mPipelineAPIError: \u001b[0mDAG compilation failed: Failed to instantiate step TabularPreprocessing_training: Failed to build\n",
       "step TabularPreprocessing_training: ..\u001b[38;2;225;0;225m/../../../dockers/xgboost_atoz/scripts/\u001b[0m\u001b[38;2;225;0;225mtabular_preprocessing.py\u001b[0m is not a \n",
       "valid file\n",
       "\n",
       "\u001b[3mThe above exception was the direct cause of the following exception:\u001b[0m\n",
       "\n",
       "\u001b[38;2;255;0;0m╭─\u001b[0m\u001b[38;2;255;0;0m──────────────────────────────\u001b[0m\u001b[38;2;255;0;0m \u001b[0m\u001b[1;38;2;255;0;0mTraceback \u001b[0m\u001b[1;2;38;2;255;0;0m(most recent call last)\u001b[0m\u001b[38;2;255;0;0m \u001b[0m\u001b[38;2;255;0;0m───────────────────────────────\u001b[0m\u001b[38;2;255;0;0m─╮\u001b[0m\n",
       "\u001b[38;2;255;0;0m│\u001b[0m in <module>:4                                                                                    \u001b[38;2;255;0;0m│\u001b[0m\n",
       "\u001b[38;2;255;0;0m│\u001b[0m                                                                                                  \u001b[38;2;255;0;0m│\u001b[0m\n",
       "\u001b[38;2;255;0;0m│\u001b[0m   \u001b[2m 1 \u001b[0m\u001b[2m# Convert DAG to pipeline and get report\u001b[0m                                                    \u001b[38;2;255;0;0m│\u001b[0m\n",
       "\u001b[38;2;255;0;0m│\u001b[0m   \u001b[2m 2 \u001b[0m\u001b[94mtry\u001b[0m:                                                                                        \u001b[38;2;255;0;0m│\u001b[0m\n",
       "\u001b[38;2;255;0;0m│\u001b[0m   \u001b[2m 3 \u001b[0m\u001b[2m│   \u001b[0mlogger.info(\u001b[33mf\u001b[0m\u001b[33m\"\u001b[0m\u001b[33mConverting DAG to pipeline\u001b[0m\u001b[33m\"\u001b[0m)                                              \u001b[38;2;255;0;0m│\u001b[0m\n",
       "\u001b[38;2;255;0;0m│\u001b[0m \u001b[31m❱ \u001b[0m 4 \u001b[2m│   \u001b[0mtemplate_pipeline, report = dag_compiler.compile_with_report(                           \u001b[38;2;255;0;0m│\u001b[0m\n",
       "\u001b[38;2;255;0;0m│\u001b[0m   \u001b[2m 5 \u001b[0m\u001b[2m│   │   \u001b[0mdag=dag                                                                             \u001b[38;2;255;0;0m│\u001b[0m\n",
       "\u001b[38;2;255;0;0m│\u001b[0m   \u001b[2m 6 \u001b[0m\u001b[2m│   \u001b[0m)                                                                                       \u001b[38;2;255;0;0m│\u001b[0m\n",
       "\u001b[38;2;255;0;0m│\u001b[0m   \u001b[2m 7 \u001b[0m                                                                                            \u001b[38;2;255;0;0m│\u001b[0m\n",
       "\u001b[38;2;255;0;0m│\u001b[0m                                                                                                  \u001b[38;2;255;0;0m│\u001b[0m\n",
       "\u001b[38;2;255;0;0m│\u001b[0m \u001b[2m/home/ec2-user/SageMaker/Cursus/src/cursus/core/compiler/\u001b[0m\u001b[1mdag_compiler.py\u001b[0m:516 in                  \u001b[38;2;255;0;0m│\u001b[0m\n",
       "\u001b[38;2;255;0;0m│\u001b[0m compile_with_report                                                                              \u001b[38;2;255;0;0m│\u001b[0m\n",
       "\u001b[38;2;255;0;0m│\u001b[0m                                                                                                  \u001b[38;2;255;0;0m│\u001b[0m\n",
       "\u001b[38;2;255;0;0m│\u001b[0m   \u001b[2m513 \u001b[0m\u001b[2m│   │   \u001b[0m                                                                                   \u001b[38;2;255;0;0m│\u001b[0m\n",
       "\u001b[38;2;255;0;0m│\u001b[0m   \u001b[2m514 \u001b[0m\u001b[2m│   │   \u001b[0m\u001b[94mexcept\u001b[0m \u001b[96mException\u001b[0m \u001b[94mas\u001b[0m e:                                                             \u001b[38;2;255;0;0m│\u001b[0m\n",
       "\u001b[38;2;255;0;0m│\u001b[0m   \u001b[2m515 \u001b[0m\u001b[2m│   │   │   \u001b[0m\u001b[96mself\u001b[0m.logger.error(\u001b[33mf\u001b[0m\u001b[33m\"\u001b[0m\u001b[33mFailed to compile DAG with report: \u001b[0m\u001b[33m{\u001b[0me\u001b[33m}\u001b[0m\u001b[33m\"\u001b[0m)                   \u001b[38;2;255;0;0m│\u001b[0m\n",
       "\u001b[38;2;255;0;0m│\u001b[0m \u001b[31m❱ \u001b[0m516 \u001b[2m│   │   │   \u001b[0m\u001b[94mraise\u001b[0m PipelineAPIError(\u001b[33mf\u001b[0m\u001b[33m\"\u001b[0m\u001b[33mDAG compilation with report failed: \u001b[0m\u001b[33m{\u001b[0me\u001b[33m}\u001b[0m\u001b[33m\"\u001b[0m) \u001b[94mfrom\u001b[0m\u001b[90m \u001b[0m\u001b[4;96me\u001b[0m      \u001b[38;2;255;0;0m│\u001b[0m\n",
       "\u001b[38;2;255;0;0m│\u001b[0m   \u001b[2m517 \u001b[0m\u001b[2m│   \u001b[0m                                                                                       \u001b[38;2;255;0;0m│\u001b[0m\n",
       "\u001b[38;2;255;0;0m│\u001b[0m   \u001b[2m518 \u001b[0m\u001b[2m│   \u001b[0m\u001b[94mdef\u001b[0m\u001b[90m \u001b[0m\u001b[92mcreate_template\u001b[0m(\u001b[96mself\u001b[0m, dag: PipelineDAG, **kwargs: Any) -> \u001b[33m\"\u001b[0m\u001b[33mDynamicPipelineTempla\u001b[0m   \u001b[38;2;255;0;0m│\u001b[0m\n",
       "\u001b[38;2;255;0;0m│\u001b[0m   \u001b[2m519 \u001b[0m\u001b[2;90m│   │   \u001b[0m\u001b[33m\"\"\"\u001b[0m                                                                                \u001b[38;2;255;0;0m│\u001b[0m\n",
       "\u001b[38;2;255;0;0m╰──────────────────────────────────────────────────────────────────────────────────────────────────╯\u001b[0m\n",
       "\u001b[1;91mPipelineAPIError: \u001b[0mDAG compilation with report failed: DAG compilation failed: Failed to instantiate step \n",
       "TabularPreprocessing_training: Failed to build step TabularPreprocessing_training: \n",
       "..\u001b[38;2;225;0;225m/../../../dockers/xgboost_atoz/scripts/\u001b[0m\u001b[38;2;225;0;225mtabular_preprocessing.py\u001b[0m is not a valid file\n"
      ]
     },
     "metadata": {},
     "output_type": "display_data"
    }
   ],
   "source": [
    "# Convert DAG to pipeline and get report\n",
    "try:\n",
    "    logger.info(f\"Converting DAG to pipeline\")\n",
    "    template_pipeline, report = dag_compiler.compile_with_report(\n",
    "        dag=dag\n",
    "    )\n",
    "        \n",
    "    # Log report summary\n",
    "    logger.info(f\"Conversion complete: {report.summary()}\")\n",
    "    for node, details in report.resolution_details.items():\n",
    "        logger.info(f\"  {node} → {details['config_type']} ({details['builder_type']})\")\n",
    "        \n",
    "    # Log pipeline creation details\n",
    "    logger.info(f\"Pipeline '{template_pipeline.name}' created successfully\")\n",
    "    logger.info(f\"Pipeline ARN: {template_pipeline.arn if hasattr(template_pipeline, 'arn') else 'Not available until upserted'}\")\n",
    "    logger.info(\"To upsert the pipeline, call pipeline.upsert()\")       \n",
    "except Exception as e:\n",
    "    logger.error(f\"Failed to convert DAG to pipeline: {e}\")\n",
    "    raise"
   ]
  },
  {
   "cell_type": "markdown",
   "id": "edee855a-7a10-43e2-aa69-a26ec7bc3fc7",
   "metadata": {},
   "source": [
    "### Pipeline Template\n",
    "\n",
    "After the pipeline is generated, we can retrieve the pipeline template"
   ]
  },
  {
   "cell_type": "code",
   "execution_count": null,
   "id": "5b24ae2b-ad4f-40db-9389-d405d80e6c76",
   "metadata": {},
   "outputs": [],
   "source": [
    "pipeline_template_builder = dag_compiler.get_last_template()"
   ]
  },
  {
   "cell_type": "markdown",
   "id": "bb7af8e4-3a18-42d7-8293-97f478c08b9f",
   "metadata": {},
   "source": [
    "## [SKIP] Convert Pipeline to MODS Pipeline\n",
    "\n",
    "We can also generate MODS Pipeline instead of general SageMaker Pipeline by decorating the `DynamicPipelineTemplate` with MODS Template "
   ]
  },
  {
   "cell_type": "markdown",
   "id": "9c3fa397-dd02-43f5-9b13-e906d5365e40",
   "metadata": {},
   "source": [
    "### MODS Template Head"
   ]
  },
  {
   "cell_type": "code",
   "execution_count": null,
   "id": "b357d05a-8721-4ba6-a9d1-897ae2f7b0ef",
   "metadata": {
    "tags": []
   },
   "outputs": [],
   "source": [
    "AUTHOR           = base_config.author\n",
    "PIPELINE_DESC    = base_config.pipeline_description\n",
    "PIPELINE_VERSION = base_config.pipeline_version"
   ]
  },
  {
   "cell_type": "code",
   "execution_count": null,
   "id": "61600ef8-95d3-4a7d-b798-726266094e62",
   "metadata": {},
   "outputs": [],
   "source": [
    "AUTHOR"
   ]
  },
  {
   "cell_type": "code",
   "execution_count": null,
   "id": "51377c4b-ee72-4694-823d-e1810a5944d7",
   "metadata": {
    "tags": []
   },
   "outputs": [],
   "source": [
    "PIPELINE_DESC"
   ]
  },
  {
   "cell_type": "code",
   "execution_count": null,
   "id": "ea0d9533-fd08-4563-beb6-d295299a05ba",
   "metadata": {
    "tags": []
   },
   "outputs": [],
   "source": [
    "PIPELINE_VERSION"
   ]
  },
  {
   "cell_type": "markdown",
   "id": "a673defc-d87d-44d7-a43f-95bb815d8f28",
   "metadata": {},
   "source": [
    "## Prepare for Execution Document"
   ]
  },
  {
   "cell_type": "code",
   "execution_count": null,
   "id": "c295acdd-2cf3-43be-8186-2a1efdeefe88",
   "metadata": {
    "tags": []
   },
   "outputs": [],
   "source": [
    "from mods_workflow_helper.sagemaker_pipeline_helper import SagemakerPipelineHelper, SecurityConfig"
   ]
  },
  {
   "cell_type": "code",
   "execution_count": null,
   "id": "3c0722ff-e4b7-4faa-b185-0662458a8763",
   "metadata": {
    "tags": []
   },
   "outputs": [],
   "source": [
    "default_execution_doc = SagemakerPipelineHelper.get_pipeline_default_execution_document(template_pipeline)\n",
    "test_execution_doc = default_execution_doc"
   ]
  },
  {
   "cell_type": "code",
   "execution_count": null,
   "id": "b14fe634-c90e-47b6-bda1-fd9dcccc9b01",
   "metadata": {
    "scrolled": true,
    "tags": []
   },
   "outputs": [],
   "source": [
    "print(json.dumps(test_execution_doc, indent=2))"
   ]
  },
  {
   "cell_type": "code",
   "execution_count": null,
   "id": "74235b51-2136-4662-b900-09df17c42bd1",
   "metadata": {},
   "outputs": [],
   "source": [
    "#with open(config_dir / 'sample_exe_doc.json', 'w') as f:\n",
    "#    json.dump(default_execution_doc, f, indent=2)"
   ]
  },
  {
   "cell_type": "markdown",
   "id": "55607fe8-c813-43f7-ae59-bccfa32a4c10",
   "metadata": {},
   "source": [
    "### Fill in Execution Doc"
   ]
  },
  {
   "cell_type": "code",
   "execution_count": null,
   "id": "3ac9b2f4-e22d-45ee-a342-f8fa057c1531",
   "metadata": {},
   "outputs": [],
   "source": [
    "from cursus.mods.exe_doc.generator import ExecutionDocumentGenerator"
   ]
  },
  {
   "cell_type": "code",
   "execution_count": null,
   "id": "ba538e2d-82b2-44e1-8ed3-80f86bd11a20",
   "metadata": {
    "scrolled": true
   },
   "outputs": [],
   "source": [
    "exe_doc_generator = ExecutionDocumentGenerator(\n",
    "    config_path=config_path,\n",
    "    sagemaker_session=pipeline_session,\n",
    "    role=role,\n",
    ")"
   ]
  },
  {
   "cell_type": "code",
   "execution_count": null,
   "id": "e2ae751e-5459-47a8-b630-f7c335fe2a3b",
   "metadata": {
    "scrolled": true
   },
   "outputs": [],
   "source": [
    "execution_doc_fill = exe_doc_generator.fill_execution_document(dag=dag,\n",
    "                                                               execution_document=test_execution_doc)"
   ]
  },
  {
   "cell_type": "code",
   "execution_count": null,
   "id": "6b8a3ae5-db5f-4a65-8652-8a5e3ab33816",
   "metadata": {
    "tags": []
   },
   "outputs": [],
   "source": [
    "#execution_doc_fill = pipeline_builder.fill_execution_document(test_execution_doc)"
   ]
  },
  {
   "cell_type": "code",
   "execution_count": null,
   "id": "fc33b6ff-edad-4bcf-b74a-5e1899b3d383",
   "metadata": {
    "tags": []
   },
   "outputs": [],
   "source": [
    "# Fill in the execution document using the stored requests\n",
    "#execution_doc_fill_2 = xgboost_train_eval_pipeline_template_builder.fill_execution_document(test_execution_doc)"
   ]
  },
  {
   "cell_type": "code",
   "execution_count": null,
   "id": "14ae480b-d39b-4c92-abe4-afab25c5bf5f",
   "metadata": {},
   "outputs": [],
   "source": []
  },
  {
   "cell_type": "code",
   "execution_count": null,
   "id": "b2491c99-8bd5-4dfa-98c1-253a13b8d14d",
   "metadata": {},
   "outputs": [],
   "source": []
  },
  {
   "cell_type": "code",
   "execution_count": null,
   "id": "dcef999c-d31e-43eb-babc-6ff3578a5877",
   "metadata": {
    "scrolled": true,
    "tags": []
   },
   "outputs": [],
   "source": [
    "print(json.dumps(execution_doc_fill, indent=2))"
   ]
  },
  {
   "cell_type": "code",
   "execution_count": null,
   "id": "1f2ee0a2-d4d9-4c13-870f-c8fab6c8bf52",
   "metadata": {
    "tags": []
   },
   "outputs": [],
   "source": [
    "test_execution_doc = execution_doc_fill.copy()"
   ]
  },
  {
   "cell_type": "markdown",
   "id": "7aca885e-261b-484f-931d-925e0edabdf3",
   "metadata": {},
   "source": [
    "### Save Execution Doc locally"
   ]
  },
  {
   "cell_type": "code",
   "execution_count": null,
   "id": "6ca88e6c-e87c-45a1-ae98-e1b67608fc39",
   "metadata": {
    "tags": []
   },
   "outputs": [],
   "source": [
    "exe_doc_json_filename = f\"execute_doc_{base_config.pipeline_name}_{base_config.pipeline_version}.json\"\n",
    "exe_doc_file_path =  config_dir / exe_doc_json_filename\n",
    "exe_doc_file_path"
   ]
  },
  {
   "cell_type": "code",
   "execution_count": null,
   "id": "a1cae2c1-fc84-48d3-b922-47af7363dded",
   "metadata": {
    "tags": []
   },
   "outputs": [],
   "source": [
    "with open(exe_doc_file_path, 'w') as f:\n",
    "    json.dump(test_execution_doc, f, indent=2)"
   ]
  },
  {
   "cell_type": "markdown",
   "id": "fdef32ca-6614-44b3-b2f7-7c9b85879311",
   "metadata": {},
   "source": [
    "## Execute Pipeline"
   ]
  },
  {
   "cell_type": "markdown",
   "id": "220bfa4a-84bf-4029-93ab-1f041d4d747a",
   "metadata": {},
   "source": [
    "### Start Execution"
   ]
  },
  {
   "cell_type": "code",
   "execution_count": null,
   "id": "b28c2a60-913d-49bc-a94e-df3bc2513cc6",
   "metadata": {
    "tags": []
   },
   "outputs": [],
   "source": [
    "from mods_workflow_helper.sagemaker_pipeline_helper import SagemakerPipelineHelper"
   ]
  },
  {
   "cell_type": "code",
   "execution_count": null,
   "id": "3a6b776b-1a15-44d8-9964-cc44d8dbbe9a",
   "metadata": {
    "tags": []
   },
   "outputs": [],
   "source": [
    "security_config"
   ]
  },
  {
   "cell_type": "code",
   "execution_count": null,
   "id": "17c583d3-8a21-4eec-bc7d-7fad84458b76",
   "metadata": {
    "tags": []
   },
   "outputs": [],
   "source": [
    "template_pipeline"
   ]
  },
  {
   "cell_type": "code",
   "execution_count": null,
   "id": "c2e9481c-dfe0-428f-b2f9-561f8f71d9af",
   "metadata": {
    "scrolled": true,
    "tags": []
   },
   "outputs": [],
   "source": [
    "SagemakerPipelineHelper.start_pipeline_execution(\n",
    "    pipeline=template_pipeline,\n",
    "    secure_config=security_config,\n",
    "    sagemaker_session=pipeline_session,\n",
    "    preparation_space_local_root=\"/tmp\",\n",
    "    pipeline_execution_document=test_execution_doc\n",
    ")"
   ]
  },
  {
   "cell_type": "markdown",
   "id": "23931e95-4f60-4209-bf33-aa4bd5a357a2",
   "metadata": {},
   "source": [
    "### Handle the CTI of MMS"
   ]
  },
  {
   "cell_type": "markdown",
   "id": "734fbd0f-1ade-44a5-9d5a-8f34262a467a",
   "metadata": {},
   "source": [
    "```python\n",
    "from secure_ai_sandbox_python_lib.session import Session\n",
    "\n",
    "############ Initialize sandbox_session\n",
    "sandbox_session = Session(session_folder='/tmp/temp_folder', retail_region='NA')\n",
    "\n",
    "############# Create the MIMS resource\n",
    "mims = sandbox_session.resource('MIMSModelRegistrar')\n",
    "\n",
    "model_domain='AtoZ' # The registered Domain\n",
    "model_objective='ContactRiskPDAModelNA'\n",
    "cti_category='IT Dev'\n",
    "cti_type='Abuse Prevention'\n",
    "cti_item='APSAnalytics'\n",
    "\n",
    "response = mims.update_objective_cti(model_domain=model_domain,\n",
    "                                     model_objective=model_objective,\n",
    "                                     cti_category=cti_category,\n",
    "                                     cti_type=cti_type,\n",
    "                                     cti_item=cti_item)\n",
    "print(response)\n",
    "```"
   ]
  },
  {
   "cell_type": "code",
   "execution_count": null,
   "id": "b701d2cd-73dc-419d-9114-7fae29993d47",
   "metadata": {},
   "outputs": [],
   "source": []
  },
  {
   "cell_type": "code",
   "execution_count": null,
   "id": "0448dafe-595c-4c14-80d5-260cbe6abac9",
   "metadata": {},
   "outputs": [],
   "source": []
  }
 ],
 "metadata": {
  "kernelspec": {
   "display_name": ".venv",
   "language": "python",
   "name": "python3"
  },
  "language_info": {
   "codemirror_mode": {
    "name": "ipython",
    "version": 3
   },
   "file_extension": ".py",
   "mimetype": "text/x-python",
   "name": "python",
   "nbconvert_exporter": "python",
   "pygments_lexer": "ipython3",
   "version": "3.12.7"
  }
 },
 "nbformat": 4,
 "nbformat_minor": 5
}
