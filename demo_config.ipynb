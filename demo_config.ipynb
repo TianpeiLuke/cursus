{
 "cells": [
  {
   "cell_type": "markdown",
   "id": "268c3f5d-f99e-459e-9945-aead0d929148",
   "metadata": {},
   "source": [
    "# Part 1: Config Creation\n",
    "\n",
    "This notebook contains all **user input** and we save them into a **unified config json file** to construct the pipeline. \n",
    "\n",
    "In this notebook, we assume a cpmmonly seen pipeline. The task is as follows\n",
    "* Data Pulling\n",
    "* XGBoost Model Training\n",
    "* Model Evaluation\n",
    "* Model Registration\n",
    "\n",
    "The following is the **Pipeline DAG (Direct Acyclic Graph)** \n",
    "![mods_pipeline_train_eval_calib](./demo/mods_pipeline_train_eval_calib.png)\n",
    "\n",
    "\n",
    "The *steps* involved are as follow\n",
    "1. **CradleDataLoadingStep** with repicated steps for **training** and **calibration** data flow\n",
    "2. **TabularPreprocessingStep** with two different type (**training** and **calibration**)\n",
    "3. **XGBoostTrainingStep**\n",
    "4. **XGBoostModelEvaluationStep** \n",
    "5. **PackagingStep**\n",
    "6. **MIMSModelRegistrationStep**\n",
    "7. **PayloadStep** (Optional)\n",
    "\n",
    "This notebook would let user to specify input information for each of these steps\n",
    "\n",
    "\n",
    "There are two more **base step**, which constrols the **information sharing** across all steps. \n",
    "1. **Base Config**: shared for all steps\n",
    "2. **Base Processing Config**: shared for all *processing steps*\n"
   ]
  },
  {
   "cell_type": "markdown",
   "id": "0171c45d-f008-4b49-a4cf-bfc24423ce26",
   "metadata": {},
   "source": [
    "#### OPTIONAL Install SAIS Python SDK, MODS Workflow Helper and MODS Python SDK"
   ]
  },
  {
   "cell_type": "markdown",
   "id": "5fee2fad-79cd-4803-86dc-e1684f711123",
   "metadata": {},
   "source": [
    "import pkg_resources\n",
    "import subprocess\n",
    "import sys\n",
    "\n",
    "def install_package(package_name):\n",
    "    try:\n",
    "        # Check if package is already installed\n",
    "        pkg_resources.require(package_name)\n",
    "        print(f\"{package_name} is already installed\")\n",
    "    except pkg_resources.DistributionNotFound:\n",
    "        # Package not found, install it\n",
    "        print(f\"Installing {package_name}...\")\n",
    "        subprocess.check_call([sys.executable, \"-m\", \"pip\", \"install\", \n",
    "                             package_name, \"--ignore-installed\"])\n",
    "        print(f\"Successfully installed {package_name}\")\n",
    "    except Exception as e:\n",
    "        print(f\"Error occurred: {str(e)}\")"
   ]
  },
  {
   "cell_type": "markdown",
   "id": "8e1a649f-8fb8-42fb-be2a-04d753fb539e",
   "metadata": {
    "scrolled": true
   },
   "source": [
    "install_package('amzn-secure-ai-sandbox-workflow-python-sdk')"
   ]
  },
  {
   "cell_type": "markdown",
   "id": "495cf99c-c20b-4ea7-9740-314e0cb88b2b",
   "metadata": {
    "scrolled": true
   },
   "source": [
    "install_package('amzn-mods-workflow-helper')"
   ]
  },
  {
   "cell_type": "markdown",
   "id": "a2fc0184-845b-4690-bbfe-5b375eae755f",
   "metadata": {
    "scrolled": true
   },
   "source": [
    "install_package('amzn-mods-python-sdk')"
   ]
  },
  {
   "cell_type": "code",
   "execution_count": 1,
   "id": "cd389270-007c-4be1-9ef1-9ce44b224fdc",
   "metadata": {
    "scrolled": true
   },
   "outputs": [],
   "source": [
    "#!pip list"
   ]
  },
  {
   "cell_type": "code",
   "execution_count": 2,
   "id": "61368a20-affb-48cf-9f9c-49c5d72d7ec4",
   "metadata": {},
   "outputs": [],
   "source": [
    "#!pip install --upgrade sagemaker"
   ]
  },
  {
   "cell_type": "code",
   "execution_count": 3,
   "id": "a123394e-1770-4978-876d-ebca677d902a",
   "metadata": {
    "scrolled": true
   },
   "outputs": [],
   "source": [
    "#!pip uninstall -y rpds-py\n",
    "#!pip install rpds-py --force-reinstall"
   ]
  },
  {
   "cell_type": "code",
   "execution_count": 4,
   "id": "27b006c0-a7e4-48e9-b8e3-65dfc2b37573",
   "metadata": {
    "scrolled": true
   },
   "outputs": [],
   "source": [
    "#!pip install amzn-secure-ai-sandbox-workflow-python-sdk --ignore-installed"
   ]
  },
  {
   "cell_type": "code",
   "execution_count": 5,
   "id": "dde2d1c3-0513-4cd2-be55-43c2e1469973",
   "metadata": {
    "scrolled": true,
    "tags": []
   },
   "outputs": [],
   "source": [
    "#!pip install amzn-mods-workflow-helper amzn-mods-python-sdk --upgrade"
   ]
  },
  {
   "cell_type": "code",
   "execution_count": null,
   "id": "b3794f93-9670-42c0-87cd-e3e9b34a16fa",
   "metadata": {},
   "outputs": [],
   "source": []
  },
  {
   "cell_type": "markdown",
   "id": "a83ff245-179a-4404-b970-a9f9ffea2c92",
   "metadata": {},
   "source": [
    "#### Start"
   ]
  },
  {
   "cell_type": "code",
   "execution_count": 6,
   "id": "dfd8511d-150d-43fd-9b6b-3cfd07c41e6b",
   "metadata": {
    "tags": []
   },
   "outputs": [],
   "source": [
    "import os\n",
    "import json\n",
    "import pandas as pd\n",
    "import pickle\n",
    "import sys\n",
    "import boto3\n",
    "import subprocess\n",
    "from datetime import datetime\n",
    "import logging\n",
    "from pathlib import Path"
   ]
  },
  {
   "cell_type": "code",
   "execution_count": 7,
   "id": "73b250a3-2fd4-48e5-8d39-e3d3afa4a252",
   "metadata": {
    "tags": []
   },
   "outputs": [],
   "source": [
    "logging.basicConfig(\n",
    "        level=logging.INFO,\n",
    "        format='%(asctime)s - %(levelname)s - %(message)s'\n",
    "    )"
   ]
  },
  {
   "cell_type": "markdown",
   "id": "fa82dc43-3c15-4da9-a6da-ac93726f7807",
   "metadata": {},
   "source": [
    "<a id='1'></a>\n",
    "## Envionment Setup"
   ]
  },
  {
   "cell_type": "code",
   "execution_count": 8,
   "id": "1bbd1975-97f0-4c7f-8bb7-d088549e7d11",
   "metadata": {},
   "outputs": [
    {
     "name": "stderr",
     "output_type": "stream",
     "text": [
      "2025-09-21 19:08:47,202 - INFO - Found credentials from IAM Role: BaseNotebookInstanceEc2InstanceRole\n"
     ]
    },
    {
     "name": "stdout",
     "output_type": "stream",
     "text": [
      "sagemaker.config INFO - Not applying SDK defaults from location: /etc/xdg/sagemaker/config.yaml\n",
      "sagemaker.config INFO - Not applying SDK defaults from location: /home/ec2-user/.config/sagemaker/config.yaml\n"
     ]
    }
   ],
   "source": [
    "from sagemaker import Session"
   ]
  },
  {
   "cell_type": "code",
   "execution_count": 9,
   "id": "128d4fde-94f9-4554-acef-7a35b024b8a2",
   "metadata": {},
   "outputs": [
    {
     "name": "stderr",
     "output_type": "stream",
     "text": [
      "2025-09-21 19:08:47,492 - INFO - CA certs are provided via the AmazonCACerts installation at /home/ec2-user/.local/lib/python3.10/site-packages/amazoncerts\n",
      "2025-09-21 19:08:47,880 - INFO - Found credentials from IAM Role: BaseNotebookInstanceEc2InstanceRole\n",
      "2025-09-21 19:08:48,631 - INFO - successfully patched module botocore\n"
     ]
    }
   ],
   "source": [
    "from secure_ai_sandbox_python_lib.session import Session as SaisSession\n",
    "# Initialize session with team bucket\n",
    "sais_session = SaisSession(\".\")"
   ]
  },
  {
   "cell_type": "code",
   "execution_count": 10,
   "id": "41aa79aa-9e24-43ce-9bbb-4a174791ad30",
   "metadata": {
    "scrolled": true,
    "tags": []
   },
   "outputs": [],
   "source": [
    "from mods_workflow_helper.sagemaker_pipeline_helper import SecurityConfig\n",
    "security_config = SecurityConfig(\n",
    "    kms_key=sais_session.get_team_owned_bucket_kms_key(),\n",
    "    security_group=sais_session.sandbox_vpc_security_group(),\n",
    "    vpc_subnets=sais_session.sandbox_vpc_subnets()\n",
    ")"
   ]
  },
  {
   "cell_type": "code",
   "execution_count": 11,
   "id": "c4dac4ab-eae2-423b-96a4-91b2419d669a",
   "metadata": {
    "tags": []
   },
   "outputs": [
    {
     "name": "stderr",
     "output_type": "stream",
     "text": [
      "2025-09-21 19:08:48,709 - INFO - Found credentials from IAM Role: BaseNotebookInstanceEc2InstanceRole\n",
      "2025-09-21 19:08:48,892 - INFO - There is no MODS workflow execution id provided, this is probably because you are running your pipeline outside of MODS.\n",
      "2025-09-21 19:08:48,906 - INFO - Found credentials from IAM Role: BaseNotebookInstanceEc2InstanceRole\n"
     ]
    }
   ],
   "source": [
    "from mods_workflow_helper.utils.secure_session import create_secure_session_config\n",
    "from sagemaker.workflow.pipeline_context import PipelineSession\n",
    "\n",
    "sagemaker_config = create_secure_session_config(\n",
    "    role_arn=PipelineSession().get_caller_identity_arn(),\n",
    "    # If you are uploading to andes, use cradle_read_s3_bucket_name() and get_cradle_read_bucket_kms_key() respecitely\n",
    "    bucket_name=sais_session.team_owned_s3_bucket_name(),\n",
    "    kms_key=sais_session.get_team_owned_bucket_kms_key(),\n",
    "    vpc_subnet_ids=sais_session.sandbox_vpc_subnets(),\n",
    "    vpc_security_groups=[sais_session.sandbox_vpc_security_group()]\n",
    ")\n",
    "\n",
    "pipeline_session = PipelineSession(default_bucket=sais_session.team_owned_s3_bucket_name(), sagemaker_config=sagemaker_config) # IMPORTANT now the session uses the generated sagemaker_config"
   ]
  },
  {
   "cell_type": "code",
   "execution_count": 12,
   "id": "1f9bc1b7-6e90-49b5-9f7e-7e4d970cc60d",
   "metadata": {
    "tags": []
   },
   "outputs": [],
   "source": [
    "pipeline_session.config = sagemaker_config"
   ]
  },
  {
   "cell_type": "code",
   "execution_count": 13,
   "id": "a3205050-080b-4828-821d-80eff7e86609",
   "metadata": {
    "scrolled": true,
    "tags": []
   },
   "outputs": [
    {
     "data": {
      "text/plain": [
       "{'SchemaVersion': '1.0',\n",
       " 'SageMaker': {'PythonSDK': {'Modules': {'Session': {'DefaultS3Bucket': 'sandboxdependency-abuse-secureaisandboxteamshare-1l77v9am252um'},\n",
       "    'RemoteFunction': {'VpcConfig': {'SecurityGroupIds': ['sg-0f97baad9c44ab543'],\n",
       "      'Subnets': ['subnet-0e484e4a41446ca78', 'subnet-0206d83e93e45844a']},\n",
       "     'S3KmsKeyId': 'arn:aws:kms:us-east-1:601857636239:key/5e32d636-8848-43ba-bd1f-f1a1c9a06982',\n",
       "     'VolumeKmsKeyId': 'arn:aws:kms:us-east-1:601857636239:key/5e32d636-8848-43ba-bd1f-f1a1c9a06982',\n",
       "     'RoleArn': 'arn:aws:iam::601857636239:role/SandboxRole-lukexie-us-east-1'}}},\n",
       "  'FeatureGroup': {'OfflineStoreConfig': {'S3StorageConfig': {'KmsKeyId': 'arn:aws:kms:us-east-1:601857636239:key/5e32d636-8848-43ba-bd1f-f1a1c9a06982'}},\n",
       "   'OnlineStoreConfig': {'SecurityConfig': {'KmsKeyId': 'arn:aws:kms:us-east-1:601857636239:key/5e32d636-8848-43ba-bd1f-f1a1c9a06982'}},\n",
       "   'RoleArn': 'arn:aws:iam::601857636239:role/SandboxRole-lukexie-us-east-1'},\n",
       "  'MonitoringSchedule': {'MonitoringScheduleConfig': {'MonitoringJobDefinition': {'MonitoringOutputConfig': {'KmsKeyId': 'arn:aws:kms:us-east-1:601857636239:key/5e32d636-8848-43ba-bd1f-f1a1c9a06982'},\n",
       "     'NetworkConfig': {'VpcConfig': {'SecurityGroupIds': ['sg-0f97baad9c44ab543'],\n",
       "       'Subnets': ['subnet-0e484e4a41446ca78',\n",
       "        'subnet-0206d83e93e45844a']}}}}},\n",
       "  'EndpointConfig': {'AsyncInferenceConfig': {'OutputConfig': {'KmsKeyId': 'arn:aws:kms:us-east-1:601857636239:key/5e32d636-8848-43ba-bd1f-f1a1c9a06982'}},\n",
       "   'DataCaptureConfig': {'KmsKeyId': 'arn:aws:kms:us-east-1:601857636239:key/5e32d636-8848-43ba-bd1f-f1a1c9a06982'},\n",
       "   'KmsKeyId': 'arn:aws:kms:us-east-1:601857636239:key/5e32d636-8848-43ba-bd1f-f1a1c9a06982'},\n",
       "  'TransformJob': {'DataCaptureConfig': {'KmsKeyId': 'arn:aws:kms:us-east-1:601857636239:key/5e32d636-8848-43ba-bd1f-f1a1c9a06982'},\n",
       "   'TransformOutput': {'KmsKeyId': 'arn:aws:kms:us-east-1:601857636239:key/5e32d636-8848-43ba-bd1f-f1a1c9a06982'},\n",
       "   'TransformResources': {'VolumeKmsKeyId': 'arn:aws:kms:us-east-1:601857636239:key/5e32d636-8848-43ba-bd1f-f1a1c9a06982'},\n",
       "   'Environment': {'CA_REPOSITORY_ARN': 'arn:aws:codeartifact:us-west-2:149122183214:repository/amazon/secure-pypi'}},\n",
       "  'CompilationJob': {'OutputConfig': {'KmsKeyId': 'arn:aws:kms:us-east-1:601857636239:key/5e32d636-8848-43ba-bd1f-f1a1c9a06982'},\n",
       "   'RoleArn': 'arn:aws:iam::601857636239:role/SandboxRole-lukexie-us-east-1',\n",
       "   'VpcConfig': {'SecurityGroupIds': ['sg-0f97baad9c44ab543'],\n",
       "    'Subnets': ['subnet-0e484e4a41446ca78', 'subnet-0206d83e93e45844a']}},\n",
       "  'Pipeline': {'RoleArn': 'arn:aws:iam::601857636239:role/SandboxRole-lukexie-us-east-1'},\n",
       "  'Model': {'ExecutionRoleArn': 'arn:aws:iam::601857636239:role/SandboxRole-lukexie-us-east-1',\n",
       "   'VpcConfig': {'SecurityGroupIds': ['sg-0f97baad9c44ab543'],\n",
       "    'Subnets': ['subnet-0e484e4a41446ca78', 'subnet-0206d83e93e45844a']}},\n",
       "  'AutoMLJob': {'AutoMLJobConfig': {'SecurityConfig': {'VpcConfig': {'SecurityGroupIds': ['sg-0f97baad9c44ab543'],\n",
       "      'Subnets': ['subnet-0e484e4a41446ca78', 'subnet-0206d83e93e45844a']}}},\n",
       "   'OutputDataConfig': {'KmsKeyId': 'arn:aws:kms:us-east-1:601857636239:key/5e32d636-8848-43ba-bd1f-f1a1c9a06982'},\n",
       "   'RoleArn': 'arn:aws:iam::601857636239:role/SandboxRole-lukexie-us-east-1'},\n",
       "  'ProcessingJob': {'NetworkConfig': {'VpcConfig': {'SecurityGroupIds': ['sg-0f97baad9c44ab543'],\n",
       "     'Subnets': ['subnet-0e484e4a41446ca78', 'subnet-0206d83e93e45844a']}},\n",
       "   'ProcessingOutputConfig': {'KmsKeyId': 'arn:aws:kms:us-east-1:601857636239:key/5e32d636-8848-43ba-bd1f-f1a1c9a06982'},\n",
       "   'RoleArn': 'arn:aws:iam::601857636239:role/SandboxRole-lukexie-us-east-1',\n",
       "   'Environment': {'CA_REPOSITORY_ARN': 'arn:aws:codeartifact:us-west-2:149122183214:repository/amazon/secure-pypi'},\n",
       "   'ProcessingResources': {'ClusterConfig': {'VolumeKmsKeyId': 'arn:aws:kms:us-east-1:601857636239:key/5e32d636-8848-43ba-bd1f-f1a1c9a06982'}}},\n",
       "  'TrainingJob': {'OutputDataConfig': {'KmsKeyId': 'arn:aws:kms:us-east-1:601857636239:key/5e32d636-8848-43ba-bd1f-f1a1c9a06982'},\n",
       "   'RoleArn': 'arn:aws:iam::601857636239:role/SandboxRole-lukexie-us-east-1',\n",
       "   'VpcConfig': {'SecurityGroupIds': ['sg-0f97baad9c44ab543'],\n",
       "    'Subnets': ['subnet-0e484e4a41446ca78', 'subnet-0206d83e93e45844a']},\n",
       "   'ResourceConfig': {'VolumeKmsKeyId': 'arn:aws:kms:us-east-1:601857636239:key/5e32d636-8848-43ba-bd1f-f1a1c9a06982'},\n",
       "   'Environment': {'CA_REPOSITORY_ARN': 'arn:aws:codeartifact:us-west-2:149122183214:repository/amazon/secure-pypi'}},\n",
       "  'EdgePackagingJob': {'OutputConfig': {'KmsKeyId': 'arn:aws:kms:us-east-1:601857636239:key/5e32d636-8848-43ba-bd1f-f1a1c9a06982'},\n",
       "   'ResourceKey': 'arn:aws:kms:us-east-1:601857636239:key/5e32d636-8848-43ba-bd1f-f1a1c9a06982',\n",
       "   'RoleArn': 'arn:aws:iam::601857636239:role/SandboxRole-lukexie-us-east-1'}}}"
      ]
     },
     "execution_count": 13,
     "metadata": {},
     "output_type": "execute_result"
    }
   ],
   "source": [
    "sagemaker_config"
   ]
  },
  {
   "cell_type": "code",
   "execution_count": 14,
   "id": "0d5c90bd-b22d-4192-8348-523383ee26eb",
   "metadata": {
    "tags": []
   },
   "outputs": [
    {
     "name": "stdout",
     "output_type": "stream",
     "text": [
      "dict_keys(['TRMSModelManagementServiceClient', 'DataAnalyticsWorkflowServiceClient', 'ModelInferenceManagementServiceClient', 'MODSModelWorkflowManagementServiceClient', 'SandboxProxyServiceClient', 'CloudWatch'])\n",
      "dict_keys(['MDSDataLoader', 'CradleDataLoader', 'MyOwnS3BucketDataLoader', 'SharedBucketS3DataLoader', 'CrossTeamS3BucketDataLoader', 'CrossTeamExternalS3BucketDataLoader', 'EdxDataLoader', 'FeatureHubDataLoader', 'Docker', 'OTFSimulationTool', 'DAWSWorkflowFilesDownloader', 'MIMSModelRegistrar', 'TagFileUploader', 'AlexandriaDataLoader', 'DataUploader', 'MODSWorkflowBuilder'])\n",
      "sandboxuserdependency-lukexie-personals3bucket-7hkl6lkqmo82\n",
      "sandboxdependency-abuse-secureaisandboxteamshare-1l77v9am252um\n"
     ]
    }
   ],
   "source": [
    "print(sais_session.available_clients())\n",
    "print(sais_session.available_resources())\n",
    "print(sais_session.my_owned_s3_bucket_name())\n",
    "print(sais_session.team_owned_s3_bucket_name())"
   ]
  },
  {
   "cell_type": "markdown",
   "id": "707e6031-4fa2-473d-9bd3-fe777a06fc1f",
   "metadata": {
    "tags": []
   },
   "source": [
    "<a id='1.1'></a>\n",
    "### SageMaker Pipeline Steps"
   ]
  },
  {
   "cell_type": "code",
   "execution_count": 15,
   "id": "f0079cee-4003-4bac-a942-31494225fe65",
   "metadata": {
    "tags": []
   },
   "outputs": [],
   "source": [
    "import sagemaker\n",
    "from sagemaker import Session, TrainingInput\n",
    "from sagemaker import image_uris, model_uris, script_uris\n",
    "from sagemaker.processing import ProcessingOutput, ProcessingInput, FrameworkProcessor\n",
    "from sagemaker.sklearn import SKLearnProcessor, SKLearn\n",
    "from sagemaker.workflow.pipeline import Pipeline\n",
    "from sagemaker.workflow.steps import (\n",
    "    ProcessingStep,\n",
    "    TrainingStep,\n",
    "    TuningStep,\n",
    "    TransformStep,\n",
    ")"
   ]
  },
  {
   "cell_type": "markdown",
   "id": "28247d1c-e7a0-4b75-9930-168f45c8bd75",
   "metadata": {},
   "source": [
    "<a id='1.2'></a>\n",
    "### MODS Import"
   ]
  },
  {
   "cell_type": "code",
   "execution_count": 16,
   "id": "04716cc2-4c25-42fa-96aa-fd86ebc78ecd",
   "metadata": {
    "tags": []
   },
   "outputs": [],
   "source": [
    "from mods.mods_template import MODSTemplate\n",
    "\n",
    "from secure_ai_sandbox_workflow_python_sdk.mims_model_registration.mims_model_registration_processing_step import (\n",
    "    MimsModelRegistrationProcessingStep,\n",
    ")\n",
    "from secure_ai_sandbox_workflow_python_sdk.cradle_data_loading.cradle_data_loading_step import (\n",
    "    CradleDataLoadingStep,\n",
    ")\n",
    "from mods_workflow_core.utils.constants import (\n",
    "    PIPELINE_EXECUTION_TEMP_DIR,\n",
    "    KMS_ENCRYPTION_KEY_PARAM,\n",
    "    PROCESSING_JOB_SHARED_NETWORK_CONFIG,\n",
    "    SECURITY_GROUP_ID,\n",
    "    VPC_SUBNET,\n",
    ")\n",
    "from secure_ai_sandbox_workflow_python_sdk.model_performance_evaluation.model_performance_evaluation_step import (\n",
    "    ModelPerformanceEvaluationStep,\n",
    ")\n",
    "\n",
    "from secure_ai_sandbox_workflow_python_sdk.model_performance_evaluation.model_performance_evaluation_processor import (\n",
    "    ModelPerformanceEvaluationProcessor,\n",
    ")\n",
    "from secure_ai_sandbox_workflow_python_sdk.utils.constants import PROCESSOR_DIRECTORY_ROOT"
   ]
  },
  {
   "cell_type": "code",
   "execution_count": 17,
   "id": "7c00f35d-3abb-4df8-a6c0-10142dd0dc6d",
   "metadata": {},
   "outputs": [
    {
     "data": {
      "text/plain": [
       "ParameterString(name='EXECUTION_S3_PREFIX', parameter_type=<ParameterTypeEnum.STRING: 'String'>, default_value=None)"
      ]
     },
     "execution_count": 17,
     "metadata": {},
     "output_type": "execute_result"
    }
   ],
   "source": [
    "PIPELINE_EXECUTION_TEMP_DIR"
   ]
  },
  {
   "cell_type": "code",
   "execution_count": 18,
   "id": "78fd7ff7-2c17-43cc-8bb9-7db53209bcc7",
   "metadata": {},
   "outputs": [
    {
     "data": {
      "text/plain": [
       "ParameterString(name='KMS_ENCRYPTION_KEY_PARAM', parameter_type=<ParameterTypeEnum.STRING: 'String'>, default_value=None)"
      ]
     },
     "execution_count": 18,
     "metadata": {},
     "output_type": "execute_result"
    }
   ],
   "source": [
    "KMS_ENCRYPTION_KEY_PARAM"
   ]
  },
  {
   "cell_type": "code",
   "execution_count": 19,
   "id": "5a90f614-2f04-49df-9628-1d43f59efff1",
   "metadata": {},
   "outputs": [
    {
     "data": {
      "text/plain": [
       "ParameterString(name='SECURITY_GROUP_ID', parameter_type=<ParameterTypeEnum.STRING: 'String'>, default_value=None)"
      ]
     },
     "execution_count": 19,
     "metadata": {},
     "output_type": "execute_result"
    }
   ],
   "source": [
    "SECURITY_GROUP_ID"
   ]
  },
  {
   "cell_type": "code",
   "execution_count": 20,
   "id": "3ddaa24f-b9f0-4fae-9173-e6dd2511ca1b",
   "metadata": {},
   "outputs": [
    {
     "data": {
      "text/plain": [
       "ParameterString(name='VPC_SUBNET', parameter_type=<ParameterTypeEnum.STRING: 'String'>, default_value=None)"
      ]
     },
     "execution_count": 20,
     "metadata": {},
     "output_type": "execute_result"
    }
   ],
   "source": [
    "VPC_SUBNET"
   ]
  },
  {
   "cell_type": "code",
   "execution_count": 21,
   "id": "3e4b8b35-49b6-48df-9d85-a416ce95be22",
   "metadata": {
    "tags": []
   },
   "outputs": [],
   "source": [
    "from pydantic import BaseModel, Field, model_validator, field_validator\n",
    "from typing import List, Optional, Dict, Any, Union, ClassVar"
   ]
  },
  {
   "cell_type": "code",
   "execution_count": null,
   "id": "9dbb1e99-57fa-470f-8b20-66d5f3b900d3",
   "metadata": {},
   "outputs": [],
   "source": []
  },
  {
   "cell_type": "code",
   "execution_count": 22,
   "id": "72fae93a-7417-4506-8101-4042bd87a152",
   "metadata": {},
   "outputs": [
    {
     "name": "stdout",
     "output_type": "stream",
     "text": [
      "add project root /home/ec2-user/SageMaker/Cursus/src into system\n"
     ]
    }
   ],
   "source": [
    "from pathlib import Path\n",
    "import sys\n",
    "\n",
    "# Get parent directory of current notebook\n",
    "project_root = str(Path().absolute() / 'src')\n",
    "if project_root not in sys.path:\n",
    "    sys.path.insert(0, project_root)  \n",
    "    print(f\"add project root {project_root} into system\")"
   ]
  },
  {
   "cell_type": "code",
   "execution_count": 23,
   "id": "b4290dfa-6dfa-4fe5-a75b-dccf900edd39",
   "metadata": {},
   "outputs": [
    {
     "data": {
      "text/plain": [
       "'/home/ec2-user/SageMaker/Cursus/src'"
      ]
     },
     "execution_count": 23,
     "metadata": {},
     "output_type": "execute_result"
    }
   ],
   "source": [
    "project_root"
   ]
  },
  {
   "cell_type": "code",
   "execution_count": 24,
   "id": "5d6692cf-5bc7-46cc-b1e3-3f2a99af929e",
   "metadata": {},
   "outputs": [
    {
     "data": {
      "text/plain": [
       "PosixPath('/home/ec2-user/SageMaker/Cursus')"
      ]
     },
     "execution_count": 24,
     "metadata": {},
     "output_type": "execute_result"
    }
   ],
   "source": [
    "current_dir = Path.cwd()\n",
    "current_dir"
   ]
  },
  {
   "cell_type": "markdown",
   "id": "452c1732-3117-45a4-a2e1-da5bc45b21f2",
   "metadata": {},
   "source": [
    "## **REQUIRED**: Set Up Training Hyperparameters\n",
    "\n",
    "This section is for user to provide necessary information describing their model development. The critical information necesssary for construction of \n",
    "* **data loading**,\n",
    "* **training**,\n",
    "* **payload testing** and\n",
    "* **model registration**\n",
    "\n",
    "\n",
    "User need to provide information for the following fields\n",
    "* input variable list\n",
    "    * **full variable list**\n",
    "    * **tabular varaible list** (float type)\n",
    "    * **categorical variable list** (string or object type)\n",
    "* region\n",
    "* **label field name**\n",
    "* **unique id name**\n",
    "* *binary* classificaiton or *multi-class* classification\n",
    "    * if multi-class classification, *number of classes*\n",
    "    * *class weight*\n",
    "* *metric choice*"
   ]
  },
  {
   "cell_type": "code",
   "execution_count": 25,
   "id": "d4c13c57-79f0-4f74-9715-74186ab63651",
   "metadata": {
    "tags": []
   },
   "outputs": [],
   "source": [
    "region_list = [\n",
    "    'NA',\n",
    "    'EU',\n",
    "    'FE'\n",
    "]"
   ]
  },
  {
   "cell_type": "code",
   "execution_count": 26,
   "id": "ca2491ea-57f0-463d-8c98-99e752372562",
   "metadata": {
    "tags": []
   },
   "outputs": [],
   "source": [
    "region_selection = 0"
   ]
  },
  {
   "cell_type": "code",
   "execution_count": 27,
   "id": "4dcf4ab8-a116-48de-b414-5e98d0046a72",
   "metadata": {
    "tags": []
   },
   "outputs": [
    {
     "data": {
      "text/plain": [
       "'NA'"
      ]
     },
     "execution_count": 27,
     "metadata": {},
     "output_type": "execute_result"
    }
   ],
   "source": [
    "region = region_list[region_selection]\n",
    "region"
   ]
  },
  {
   "cell_type": "markdown",
   "id": "c53e5608-48fe-493c-99dc-5160cf76e893",
   "metadata": {},
   "source": [
    "### Base Hyperparameters"
   ]
  },
  {
   "cell_type": "code",
   "execution_count": 28,
   "id": "1143ed51-4db3-44bd-84c2-8d95900efea6",
   "metadata": {
    "scrolled": true,
    "tags": []
   },
   "outputs": [],
   "source": [
    "from cursus.core.base.hyperparameters_base import ModelHyperparameters"
   ]
  },
  {
   "cell_type": "code",
   "execution_count": null,
   "id": "005a221a-3cda-4073-b1f4-50b73e6fc3a9",
   "metadata": {},
   "outputs": [],
   "source": []
  },
  {
   "cell_type": "code",
   "execution_count": 29,
   "id": "0b46a127-9d01-4c45-bfab-da28b6adb470",
   "metadata": {},
   "outputs": [],
   "source": [
    "def remove_case_insensitive_duplicates(string_list: list) -> list:\n",
    "    \"\"\"\n",
    "    Remove duplicates from a list of strings, case-insensitive.\n",
    "    Keeps the first occurrence of each string.\n",
    "    \n",
    "    Args:\n",
    "        string_list (list): List of strings with potential case-insensitive duplicates\n",
    "        \n",
    "    Returns:\n",
    "        list: List with duplicates removed (case-insensitive)\n",
    "        \n",
    "    Example:\n",
    "        >>> remove_case_insensitive_duplicates(['Hello', 'HELLO', 'world', 'World'])\n",
    "        ['Hello', 'world']\n",
    "    \"\"\"\n",
    "    seen = set()\n",
    "    result = []\n",
    "    \n",
    "    for s in string_list:\n",
    "        if s.lower() not in seen:\n",
    "            seen.add(s.lower())\n",
    "            result.append(s)\n",
    "    \n",
    "    return result"
   ]
  },
  {
   "cell_type": "markdown",
   "id": "b4ec13f0-cb5e-4c42-9bab-f94f9ec67316",
   "metadata": {},
   "source": [
    "##### Choose Variable"
   ]
  },
  {
   "cell_type": "code",
   "execution_count": 30,
   "id": "58a7843a-a867-45dd-bc13-325fecc9337b",
   "metadata": {
    "tags": []
   },
   "outputs": [],
   "source": [
    "full_field_list = [\n",
    "f'Abuse.abuse_fap_action_by_customer_inline_transform_{region.lower()}.n_claims_solicit_count_last_365_days',\n",
    "f'Abuse.abuse_fap_action_by_customer_inline_transform_{region.lower()}.n_claims_warn_count_last_365_days',\n",
    "f'Abuse.abuse_fap_action_by_customer_inline_transform_{region.lower()}.n_concession_solicit_count_last_365_days',\n",
    "f'Abuse.abuse_fap_action_by_customer_inline_transform_{region.lower()}.n_concession_warn_count_last_365_days',\n",
    "f'Abuse.bsm_stats_for_evaluated_mfn_concessions_by_customer_{region.lower()}.n_max_buyer_order_message_time_gap',\n",
    "f'Abuse.bsm_stats_for_evaluated_mfn_concessions_by_customer_{region.lower()}.n_max_order_message_time_gap',\n",
    "f'Abuse.bsm_stats_for_evaluated_mfn_concessions_by_customer_{region.lower()}.n_max_seller_order_message_time_gap',\n",
    "f'Abuse.bsm_stats_for_evaluated_mfn_concessions_by_customer_{region.lower()}.n_message_count_with_diff_topic_si',\n",
    "f'Abuse.bsm_stats_for_evaluated_mfn_concessions_by_customer_{region.lower()}.n_message_count_with_notr_topic_si',\n",
    "f'Abuse.bsm_stats_for_evaluated_mfn_concessions_by_customer_{region.lower()}.n_message_count_with_return_keywords_si',\n",
    "f'Abuse.bsm_stats_for_evaluated_mfn_concessions_by_customer_{region.lower()}.n_min_buyer_message_count',\n",
    "f'Abuse.bsm_stats_for_evaluated_mfn_concessions_by_customer_{region.lower()}.n_min_buyer_order_message_time_gap',\n",
    "f'Abuse.bsm_stats_for_evaluated_mfn_concessions_by_customer_{region.lower()}.n_min_message_count',\n",
    "f'Abuse.bsm_stats_for_evaluated_mfn_concessions_by_customer_{region.lower()}.n_min_order_message_time_gap',\n",
    "f'Abuse.bsm_stats_for_evaluated_mfn_concessions_by_customer_{region.lower()}.n_min_seller_message_count',\n",
    "f'Abuse.bsm_stats_for_evaluated_mfn_concessions_by_customer_{region.lower()}.n_min_seller_order_message_time_gap',\n",
    "f'Abuse.bsm_stats_for_evaluated_mfn_concessions_by_customer_{region.lower()}.n_total_buyer_message_count',\n",
    "f'Abuse.bsm_stats_for_evaluated_mfn_concessions_by_customer_{region.lower()}.n_total_message_count',\n",
    "f'Abuse.bsm_stats_for_evaluated_mfn_concessions_by_customer_{region.lower()}.n_total_seller_message_count',\n",
    "f'Abuse.bsm_stats_for_evaluated_mfn_concessions_by_customer_{region.lower()}.n_total_topic_count',\n",
    "'Abuse.completed_afn_orders_by_customer_marketplace.n_afn_order_count_last_365_days',\n",
    "'Abuse.completed_afn_orders_by_customer_marketplace.n_afn_unit_amount_last_365_days',\n",
    "'Abuse.completed_afn_orders_by_customer_marketplace.n_afn_unit_count_last_365_days',\n",
    "'Abuse.completed_mfn_orders_by_customer_marketplace.n_mfn_order_count_last_365_days',\n",
    "'Abuse.completed_mfn_orders_by_customer_marketplace.n_mfn_unit_amount_last_365_days',\n",
    "'Abuse.completed_mfn_orders_by_customer_marketplace.n_mfn_unit_count_last_365_days',\n",
    "'Abuse.dnr_by_customer_marketplace.n_dnr_amount_si_last_365_days',\n",
    "'Abuse.dnr_by_customer_marketplace.n_dnr_order_count_last_365_days',\n",
    "'Abuse.dnr_by_customer_marketplace.n_dnr_unit_amount_last_365_days',\n",
    "'Abuse.dnr_by_customer_marketplace.n_dnr_unit_count_last_365_days',\n",
    "'Abuse.mfn_a2z_claims_by_customer_na.n_mfn_claims_amount_last_365_days',\n",
    "'Abuse.mfn_a2z_claims_by_customer_na.n_mfn_claims_count_last_365_days',\n",
    "'Abuse.mfn_a2z_claims_by_customer_na.n_mfn_diff_claims_amount_last_365_days',\n",
    "'Abuse.mfn_a2z_claims_by_customer_na.n_mfn_diff_claims_count_last_365_days',\n",
    "'Abuse.mfn_a2z_claims_by_customer_na.n_mfn_notr_claims_amount_last_365_days',\n",
    "'Abuse.mfn_a2z_claims_by_customer_na.n_mfn_notr_claims_count_last_365_days',\n",
    "'Abuse.mfn_categorized_refunds_by_customer_marketplace.n_mfn_diff_refunds_order_count_last_365_days',\n",
    "'Abuse.mfn_categorized_refunds_by_customer_marketplace.n_mfn_diff_refunds_unit_amount_last_365_days',\n",
    "'Abuse.mfn_categorized_refunds_by_customer_marketplace.n_mfn_diff_refunds_unit_count_last_365_days',\n",
    "'Abuse.mfn_categorized_refunds_by_customer_marketplace.n_mfn_notr_refunds_order_count_last_365_days',\n",
    "'Abuse.mfn_categorized_refunds_by_customer_marketplace.n_mfn_notr_refunds_unit_amount_last_365_days',\n",
    "'Abuse.mfn_categorized_refunds_by_customer_marketplace.n_mfn_notr_refunds_unit_count_last_365_days',\n",
    "'Abuse.mfn_categorized_refunds_si_by_customer_marketplace.n_mfn_diff_refunds_si_365_days',\n",
    "'Abuse.mfn_categorized_refunds_si_by_customer_marketplace.n_mfn_notr_refunds_si_365_days',\n",
    "'Abuse.mfn_refunds_by_customer_marketplace.n_mfn_refund_order_count_last_365_days',\n",
    "'Abuse.mfn_refunds_by_customer_marketplace.n_mfn_refund_unit_amount_last_365_days',\n",
    "'Abuse.mfn_refunds_by_customer_marketplace.n_mfn_refund_unit_count_last_365_days',\n",
    "'Abuse.mfn_refunds_si_by_customer_marketplace.n_mfn_refund_amount_si_last_365_days',\n",
    "'Abuse.order_to_execution_time_from_eventvariables.n_order_to_execution',\n",
    "'Abuse.shiptrack_flag_by_order.n_any_delivered',\n",
    "'Abuse.shiptrack_flag_by_order.n_any_available_for_pickup',\n",
    "'Abuse.shiptrack_flag_by_order.n_any_partial_delivered',\n",
    "'Abuse.shiptrack_flag_by_order.n_any_undeliverable',\n",
    "'Abuse.shiptrack_flag_by_order.n_any_returning',\n",
    "'Abuse.shiptrack_flag_by_order.n_any_returned',\n",
    "'COMP_DAYOB',\n",
    "'PAYMETH',\n",
    "'claimAmount_value',\n",
    "'claim_reason',\n",
    "'claimantInfo_allClaimCount365day',\n",
    "'claimantInfo_lifetimeClaimCount',\n",
    "'claimantInfo_pendingClaimCount',\n",
    "'claimantInfo_status',\n",
    "'shipments_status',\n",
    "'order_id',\n",
    "'marketplace_id',\n",
    "'is_abuse'\n",
    "]"
   ]
  },
  {
   "cell_type": "code",
   "execution_count": 31,
   "id": "f4a3cb60-d200-4b35-be58-1f72193afb16",
   "metadata": {
    "tags": []
   },
   "outputs": [],
   "source": [
    "cat_field_list = [\n",
    "    'PAYMETH',\n",
    "    'claim_reason',\n",
    "    'claimantInfo_status',\n",
    "    'shipments_status'\n",
    "]"
   ]
  },
  {
   "cell_type": "code",
   "execution_count": 32,
   "id": "1a5ea27a-b450-402c-ac84-6dd8fbc46ee2",
   "metadata": {
    "tags": []
   },
   "outputs": [],
   "source": [
    "tab_field_list = [\n",
    "f'Abuse.abuse_fap_action_by_customer_inline_transform_{region.lower()}.n_claims_solicit_count_last_365_days',\n",
    "f'Abuse.abuse_fap_action_by_customer_inline_transform_{region.lower()}.n_claims_warn_count_last_365_days',\n",
    "f'Abuse.abuse_fap_action_by_customer_inline_transform_{region.lower()}.n_concession_solicit_count_last_365_days',\n",
    "f'Abuse.abuse_fap_action_by_customer_inline_transform_{region.lower()}.n_concession_warn_count_last_365_days',\n",
    "f'Abuse.bsm_stats_for_evaluated_mfn_concessions_by_customer_{region.lower()}.n_max_buyer_order_message_time_gap',\n",
    "f'Abuse.bsm_stats_for_evaluated_mfn_concessions_by_customer_{region.lower()}.n_max_order_message_time_gap',\n",
    "f'Abuse.bsm_stats_for_evaluated_mfn_concessions_by_customer_{region.lower()}.n_max_seller_order_message_time_gap',\n",
    "f'Abuse.bsm_stats_for_evaluated_mfn_concessions_by_customer_{region.lower()}.n_message_count_with_diff_topic_si',\n",
    "f'Abuse.bsm_stats_for_evaluated_mfn_concessions_by_customer_{region.lower()}.n_message_count_with_notr_topic_si',\n",
    "f'Abuse.bsm_stats_for_evaluated_mfn_concessions_by_customer_{region.lower()}.n_message_count_with_return_keywords_si',\n",
    "f'Abuse.bsm_stats_for_evaluated_mfn_concessions_by_customer_{region.lower()}.n_min_buyer_message_count',\n",
    "f'Abuse.bsm_stats_for_evaluated_mfn_concessions_by_customer_{region.lower()}.n_min_buyer_order_message_time_gap',\n",
    "f'Abuse.bsm_stats_for_evaluated_mfn_concessions_by_customer_{region.lower()}.n_min_message_count',\n",
    "f'Abuse.bsm_stats_for_evaluated_mfn_concessions_by_customer_{region.lower()}.n_min_order_message_time_gap',\n",
    "f'Abuse.bsm_stats_for_evaluated_mfn_concessions_by_customer_{region.lower()}.n_min_seller_message_count',\n",
    "f'Abuse.bsm_stats_for_evaluated_mfn_concessions_by_customer_{region.lower()}.n_min_seller_order_message_time_gap',\n",
    "f'Abuse.bsm_stats_for_evaluated_mfn_concessions_by_customer_{region.lower()}.n_total_buyer_message_count',\n",
    "f'Abuse.bsm_stats_for_evaluated_mfn_concessions_by_customer_{region.lower()}.n_total_message_count',\n",
    "f'Abuse.bsm_stats_for_evaluated_mfn_concessions_by_customer_{region.lower()}.n_total_seller_message_count',\n",
    "f'Abuse.bsm_stats_for_evaluated_mfn_concessions_by_customer_{region.lower()}.n_total_topic_count',\n",
    "'Abuse.completed_afn_orders_by_customer_marketplace.n_afn_order_count_last_365_days',\n",
    "'Abuse.completed_afn_orders_by_customer_marketplace.n_afn_unit_amount_last_365_days',\n",
    "'Abuse.completed_afn_orders_by_customer_marketplace.n_afn_unit_count_last_365_days',\n",
    "'Abuse.completed_mfn_orders_by_customer_marketplace.n_mfn_order_count_last_365_days',\n",
    "'Abuse.completed_mfn_orders_by_customer_marketplace.n_mfn_unit_amount_last_365_days',\n",
    "'Abuse.completed_mfn_orders_by_customer_marketplace.n_mfn_unit_count_last_365_days',\n",
    "'Abuse.dnr_by_customer_marketplace.n_dnr_amount_si_last_365_days',\n",
    "'Abuse.dnr_by_customer_marketplace.n_dnr_order_count_last_365_days',\n",
    "'Abuse.dnr_by_customer_marketplace.n_dnr_unit_amount_last_365_days',\n",
    "'Abuse.dnr_by_customer_marketplace.n_dnr_unit_count_last_365_days',\n",
    "'Abuse.mfn_a2z_claims_by_customer_na.n_mfn_claims_amount_last_365_days',\n",
    "'Abuse.mfn_a2z_claims_by_customer_na.n_mfn_claims_count_last_365_days',\n",
    "'Abuse.mfn_a2z_claims_by_customer_na.n_mfn_diff_claims_amount_last_365_days',\n",
    "'Abuse.mfn_a2z_claims_by_customer_na.n_mfn_diff_claims_count_last_365_days',\n",
    "'Abuse.mfn_a2z_claims_by_customer_na.n_mfn_notr_claims_amount_last_365_days',\n",
    "'Abuse.mfn_a2z_claims_by_customer_na.n_mfn_notr_claims_count_last_365_days',\n",
    "'Abuse.mfn_categorized_refunds_by_customer_marketplace.n_mfn_diff_refunds_order_count_last_365_days',\n",
    "'Abuse.mfn_categorized_refunds_by_customer_marketplace.n_mfn_diff_refunds_unit_amount_last_365_days',\n",
    "'Abuse.mfn_categorized_refunds_by_customer_marketplace.n_mfn_diff_refunds_unit_count_last_365_days',\n",
    "'Abuse.mfn_categorized_refunds_by_customer_marketplace.n_mfn_notr_refunds_order_count_last_365_days',\n",
    "'Abuse.mfn_categorized_refunds_by_customer_marketplace.n_mfn_notr_refunds_unit_amount_last_365_days',\n",
    "'Abuse.mfn_categorized_refunds_by_customer_marketplace.n_mfn_notr_refunds_unit_count_last_365_days',\n",
    "'Abuse.mfn_categorized_refunds_si_by_customer_marketplace.n_mfn_diff_refunds_si_365_days',\n",
    "'Abuse.mfn_categorized_refunds_si_by_customer_marketplace.n_mfn_notr_refunds_si_365_days',\n",
    "'Abuse.mfn_refunds_by_customer_marketplace.n_mfn_refund_order_count_last_365_days',\n",
    "'Abuse.mfn_refunds_by_customer_marketplace.n_mfn_refund_unit_amount_last_365_days',\n",
    "'Abuse.mfn_refunds_by_customer_marketplace.n_mfn_refund_unit_count_last_365_days',\n",
    "'Abuse.mfn_refunds_si_by_customer_marketplace.n_mfn_refund_amount_si_last_365_days',\n",
    "'Abuse.order_to_execution_time_from_eventvariables.n_order_to_execution',\n",
    "'Abuse.shiptrack_flag_by_order.n_any_delivered',\n",
    "'Abuse.shiptrack_flag_by_order.n_any_available_for_pickup',\n",
    "'Abuse.shiptrack_flag_by_order.n_any_partial_delivered',\n",
    "'Abuse.shiptrack_flag_by_order.n_any_undeliverable',\n",
    "'Abuse.shiptrack_flag_by_order.n_any_returning',\n",
    "'Abuse.shiptrack_flag_by_order.n_any_returned',\n",
    "'COMP_DAYOB',\n",
    "'claimAmount_value',\n",
    "'claimantInfo_allClaimCount365day',\n",
    "'claimantInfo_lifetimeClaimCount',\n",
    "'claimantInfo_pendingClaimCount',\n",
    "]"
   ]
  },
  {
   "cell_type": "code",
   "execution_count": 33,
   "id": "cc833a27-fbc1-4f2e-bf5c-4545a87ca0a2",
   "metadata": {
    "tags": []
   },
   "outputs": [],
   "source": [
    "label_name = 'is_abuse'         \n",
    "id_name = 'order_id'\n",
    "#marketplace_id_col='marketplace_id'\n"
   ]
  },
  {
   "cell_type": "code",
   "execution_count": 34,
   "id": "407f91da-9bac-4d6f-83de-8c6e76e0d4c9",
   "metadata": {
    "tags": []
   },
   "outputs": [],
   "source": [
    "multiclass_categories = [0, 1]  #[0, 1, 2]"
   ]
  },
  {
   "cell_type": "code",
   "execution_count": null,
   "id": "960c0c65-d6b8-43d1-80c7-8c929138303f",
   "metadata": {},
   "outputs": [],
   "source": []
  },
  {
   "cell_type": "markdown",
   "id": "53d5b8be-bb5b-4aa8-a2ac-2d33d7bc9768",
   "metadata": {},
   "source": [
    "#### Construct Base Class"
   ]
  },
  {
   "cell_type": "code",
   "execution_count": 35,
   "id": "b1117508-5495-47bd-8225-fe3a7c10f078",
   "metadata": {
    "tags": []
   },
   "outputs": [],
   "source": [
    "base_hyperparameter = ModelHyperparameters(\n",
    "    full_field_list=full_field_list,\n",
    "    cat_field_list=cat_field_list,\n",
    "    tab_field_list=tab_field_list,\n",
    "    label_name=label_name,\n",
    "    id_name=id_name,\n",
    "    # multi-class or binary class\n",
    "    multiclass_categories=multiclass_categories\n",
    ")"
   ]
  },
  {
   "cell_type": "code",
   "execution_count": 36,
   "id": "cedffb70-656f-4908-be9f-67665a49a270",
   "metadata": {
    "scrolled": true
   },
   "outputs": [
    {
     "name": "stdout",
     "output_type": "stream",
     "text": [
      "=== ModelHyperparameters ===\n",
      "\n",
      "- Essential User Inputs -\n",
      "cat_field_list: ['PAYMETH', 'claim_reason', 'claimantInfo_status', 'shipments_status']\n",
      "full_field_list: ['Abuse.abuse_fap_action_by_customer_inline_transform_na.n_claims_solicit_count_last_365_days', 'Abuse.abuse_fap_action_by_customer_inline_transform_na.n_claims_warn_count_last_365_days', 'Abuse.abuse_fap_action_by_customer_inline_transform_na.n_concession_solicit_count_last_365_days', 'Abuse.abuse_fap_action_by_customer_inline_transform_na.n_concession_warn_count_last_365_days', 'Abuse.bsm_stats_for_evaluated_mfn_concessions_by_customer_na.n_max_buyer_order_message_time_gap', 'Abuse.bsm_stats_for_evaluated_mfn_concessions_by_customer_na.n_max_order_message_time_gap', 'Abuse.bsm_stats_for_evaluated_mfn_concessions_by_customer_na.n_max_seller_order_message_time_gap', 'Abuse.bsm_stats_for_evaluated_mfn_concessions_by_customer_na.n_message_count_with_diff_topic_si', 'Abuse.bsm_stats_for_evaluated_mfn_concessions_by_customer_na.n_message_count_with_notr_topic_si', 'Abuse.bsm_stats_for_evaluated_mfn_concessions_by_customer_na.n_message_count_with_return_keywords_si', 'Abuse.bsm_stats_for_evaluated_mfn_concessions_by_customer_na.n_min_buyer_message_count', 'Abuse.bsm_stats_for_evaluated_mfn_concessions_by_customer_na.n_min_buyer_order_message_time_gap', 'Abuse.bsm_stats_for_evaluated_mfn_concessions_by_customer_na.n_min_message_count', 'Abuse.bsm_stats_for_evaluated_mfn_concessions_by_customer_na.n_min_order_message_time_gap', 'Abuse.bsm_stats_for_evaluated_mfn_concessions_by_customer_na.n_min_seller_message_count', 'Abuse.bsm_stats_for_evaluated_mfn_concessions_by_customer_na.n_min_seller_order_message_time_gap', 'Abuse.bsm_stats_for_evaluated_mfn_concessions_by_customer_na.n_total_buyer_message_count', 'Abuse.bsm_stats_for_evaluated_mfn_concessions_by_customer_na.n_total_message_count', 'Abuse.bsm_stats_for_evaluated_mfn_concessions_by_customer_na.n_total_seller_message_count', 'Abuse.bsm_stats_for_evaluated_mfn_concessions_by_customer_na.n_total_topic_count', 'Abuse.completed_afn_orders_by_customer_marketplace.n_afn_order_count_last_365_days', 'Abuse.completed_afn_orders_by_customer_marketplace.n_afn_unit_amount_last_365_days', 'Abuse.completed_afn_orders_by_customer_marketplace.n_afn_unit_count_last_365_days', 'Abuse.completed_mfn_orders_by_customer_marketplace.n_mfn_order_count_last_365_days', 'Abuse.completed_mfn_orders_by_customer_marketplace.n_mfn_unit_amount_last_365_days', 'Abuse.completed_mfn_orders_by_customer_marketplace.n_mfn_unit_count_last_365_days', 'Abuse.dnr_by_customer_marketplace.n_dnr_amount_si_last_365_days', 'Abuse.dnr_by_customer_marketplace.n_dnr_order_count_last_365_days', 'Abuse.dnr_by_customer_marketplace.n_dnr_unit_amount_last_365_days', 'Abuse.dnr_by_customer_marketplace.n_dnr_unit_count_last_365_days', 'Abuse.mfn_a2z_claims_by_customer_na.n_mfn_claims_amount_last_365_days', 'Abuse.mfn_a2z_claims_by_customer_na.n_mfn_claims_count_last_365_days', 'Abuse.mfn_a2z_claims_by_customer_na.n_mfn_diff_claims_amount_last_365_days', 'Abuse.mfn_a2z_claims_by_customer_na.n_mfn_diff_claims_count_last_365_days', 'Abuse.mfn_a2z_claims_by_customer_na.n_mfn_notr_claims_amount_last_365_days', 'Abuse.mfn_a2z_claims_by_customer_na.n_mfn_notr_claims_count_last_365_days', 'Abuse.mfn_categorized_refunds_by_customer_marketplace.n_mfn_diff_refunds_order_count_last_365_days', 'Abuse.mfn_categorized_refunds_by_customer_marketplace.n_mfn_diff_refunds_unit_amount_last_365_days', 'Abuse.mfn_categorized_refunds_by_customer_marketplace.n_mfn_diff_refunds_unit_count_last_365_days', 'Abuse.mfn_categorized_refunds_by_customer_marketplace.n_mfn_notr_refunds_order_count_last_365_days', 'Abuse.mfn_categorized_refunds_by_customer_marketplace.n_mfn_notr_refunds_unit_amount_last_365_days', 'Abuse.mfn_categorized_refunds_by_customer_marketplace.n_mfn_notr_refunds_unit_count_last_365_days', 'Abuse.mfn_categorized_refunds_si_by_customer_marketplace.n_mfn_diff_refunds_si_365_days', 'Abuse.mfn_categorized_refunds_si_by_customer_marketplace.n_mfn_notr_refunds_si_365_days', 'Abuse.mfn_refunds_by_customer_marketplace.n_mfn_refund_order_count_last_365_days', 'Abuse.mfn_refunds_by_customer_marketplace.n_mfn_refund_unit_amount_last_365_days', 'Abuse.mfn_refunds_by_customer_marketplace.n_mfn_refund_unit_count_last_365_days', 'Abuse.mfn_refunds_si_by_customer_marketplace.n_mfn_refund_amount_si_last_365_days', 'Abuse.order_to_execution_time_from_eventvariables.n_order_to_execution', 'Abuse.shiptrack_flag_by_order.n_any_delivered', 'Abuse.shiptrack_flag_by_order.n_any_available_for_pickup', 'Abuse.shiptrack_flag_by_order.n_any_partial_delivered', 'Abuse.shiptrack_flag_by_order.n_any_undeliverable', 'Abuse.shiptrack_flag_by_order.n_any_returning', 'Abuse.shiptrack_flag_by_order.n_any_returned', 'COMP_DAYOB', 'PAYMETH', 'claimAmount_value', 'claim_reason', 'claimantInfo_allClaimCount365day', 'claimantInfo_lifetimeClaimCount', 'claimantInfo_pendingClaimCount', 'claimantInfo_status', 'shipments_status', 'order_id', 'marketplace_id', 'is_abuse']\n",
      "id_name: order_id\n",
      "label_name: is_abuse\n",
      "multiclass_categories: [0, 1]\n",
      "tab_field_list: ['Abuse.abuse_fap_action_by_customer_inline_transform_na.n_claims_solicit_count_last_365_days', 'Abuse.abuse_fap_action_by_customer_inline_transform_na.n_claims_warn_count_last_365_days', 'Abuse.abuse_fap_action_by_customer_inline_transform_na.n_concession_solicit_count_last_365_days', 'Abuse.abuse_fap_action_by_customer_inline_transform_na.n_concession_warn_count_last_365_days', 'Abuse.bsm_stats_for_evaluated_mfn_concessions_by_customer_na.n_max_buyer_order_message_time_gap', 'Abuse.bsm_stats_for_evaluated_mfn_concessions_by_customer_na.n_max_order_message_time_gap', 'Abuse.bsm_stats_for_evaluated_mfn_concessions_by_customer_na.n_max_seller_order_message_time_gap', 'Abuse.bsm_stats_for_evaluated_mfn_concessions_by_customer_na.n_message_count_with_diff_topic_si', 'Abuse.bsm_stats_for_evaluated_mfn_concessions_by_customer_na.n_message_count_with_notr_topic_si', 'Abuse.bsm_stats_for_evaluated_mfn_concessions_by_customer_na.n_message_count_with_return_keywords_si', 'Abuse.bsm_stats_for_evaluated_mfn_concessions_by_customer_na.n_min_buyer_message_count', 'Abuse.bsm_stats_for_evaluated_mfn_concessions_by_customer_na.n_min_buyer_order_message_time_gap', 'Abuse.bsm_stats_for_evaluated_mfn_concessions_by_customer_na.n_min_message_count', 'Abuse.bsm_stats_for_evaluated_mfn_concessions_by_customer_na.n_min_order_message_time_gap', 'Abuse.bsm_stats_for_evaluated_mfn_concessions_by_customer_na.n_min_seller_message_count', 'Abuse.bsm_stats_for_evaluated_mfn_concessions_by_customer_na.n_min_seller_order_message_time_gap', 'Abuse.bsm_stats_for_evaluated_mfn_concessions_by_customer_na.n_total_buyer_message_count', 'Abuse.bsm_stats_for_evaluated_mfn_concessions_by_customer_na.n_total_message_count', 'Abuse.bsm_stats_for_evaluated_mfn_concessions_by_customer_na.n_total_seller_message_count', 'Abuse.bsm_stats_for_evaluated_mfn_concessions_by_customer_na.n_total_topic_count', 'Abuse.completed_afn_orders_by_customer_marketplace.n_afn_order_count_last_365_days', 'Abuse.completed_afn_orders_by_customer_marketplace.n_afn_unit_amount_last_365_days', 'Abuse.completed_afn_orders_by_customer_marketplace.n_afn_unit_count_last_365_days', 'Abuse.completed_mfn_orders_by_customer_marketplace.n_mfn_order_count_last_365_days', 'Abuse.completed_mfn_orders_by_customer_marketplace.n_mfn_unit_amount_last_365_days', 'Abuse.completed_mfn_orders_by_customer_marketplace.n_mfn_unit_count_last_365_days', 'Abuse.dnr_by_customer_marketplace.n_dnr_amount_si_last_365_days', 'Abuse.dnr_by_customer_marketplace.n_dnr_order_count_last_365_days', 'Abuse.dnr_by_customer_marketplace.n_dnr_unit_amount_last_365_days', 'Abuse.dnr_by_customer_marketplace.n_dnr_unit_count_last_365_days', 'Abuse.mfn_a2z_claims_by_customer_na.n_mfn_claims_amount_last_365_days', 'Abuse.mfn_a2z_claims_by_customer_na.n_mfn_claims_count_last_365_days', 'Abuse.mfn_a2z_claims_by_customer_na.n_mfn_diff_claims_amount_last_365_days', 'Abuse.mfn_a2z_claims_by_customer_na.n_mfn_diff_claims_count_last_365_days', 'Abuse.mfn_a2z_claims_by_customer_na.n_mfn_notr_claims_amount_last_365_days', 'Abuse.mfn_a2z_claims_by_customer_na.n_mfn_notr_claims_count_last_365_days', 'Abuse.mfn_categorized_refunds_by_customer_marketplace.n_mfn_diff_refunds_order_count_last_365_days', 'Abuse.mfn_categorized_refunds_by_customer_marketplace.n_mfn_diff_refunds_unit_amount_last_365_days', 'Abuse.mfn_categorized_refunds_by_customer_marketplace.n_mfn_diff_refunds_unit_count_last_365_days', 'Abuse.mfn_categorized_refunds_by_customer_marketplace.n_mfn_notr_refunds_order_count_last_365_days', 'Abuse.mfn_categorized_refunds_by_customer_marketplace.n_mfn_notr_refunds_unit_amount_last_365_days', 'Abuse.mfn_categorized_refunds_by_customer_marketplace.n_mfn_notr_refunds_unit_count_last_365_days', 'Abuse.mfn_categorized_refunds_si_by_customer_marketplace.n_mfn_diff_refunds_si_365_days', 'Abuse.mfn_categorized_refunds_si_by_customer_marketplace.n_mfn_notr_refunds_si_365_days', 'Abuse.mfn_refunds_by_customer_marketplace.n_mfn_refund_order_count_last_365_days', 'Abuse.mfn_refunds_by_customer_marketplace.n_mfn_refund_unit_amount_last_365_days', 'Abuse.mfn_refunds_by_customer_marketplace.n_mfn_refund_unit_count_last_365_days', 'Abuse.mfn_refunds_si_by_customer_marketplace.n_mfn_refund_amount_si_last_365_days', 'Abuse.order_to_execution_time_from_eventvariables.n_order_to_execution', 'Abuse.shiptrack_flag_by_order.n_any_delivered', 'Abuse.shiptrack_flag_by_order.n_any_available_for_pickup', 'Abuse.shiptrack_flag_by_order.n_any_partial_delivered', 'Abuse.shiptrack_flag_by_order.n_any_undeliverable', 'Abuse.shiptrack_flag_by_order.n_any_returning', 'Abuse.shiptrack_flag_by_order.n_any_returned', 'COMP_DAYOB', 'claimAmount_value', 'claimantInfo_allClaimCount365day', 'claimantInfo_lifetimeClaimCount', 'claimantInfo_pendingClaimCount']\n",
      "\n",
      "- System Inputs -\n",
      "batch_size: 2\n",
      "categorical_features_to_encode: []\n",
      "class_weights: [1.0, 1.0]\n",
      "device: -1\n",
      "header: 0\n",
      "lr: 3e-05\n",
      "max_epochs: 3\n",
      "metric_choices: ['f1_score', 'auroc']\n",
      "model_class: base_model\n",
      "optimizer: SGD\n",
      "\n",
      "- Derived Fields -\n",
      "input_tab_dim: 60\n",
      "is_binary: True\n",
      "model_extra: {}\n",
      "model_fields_set: {'label_name', 'class_weights', 'multiclass_categories', 'cat_field_list', 'id_name', 'full_field_list', 'tab_field_list'}\n",
      "num_classes: 2\n",
      "\n"
     ]
    }
   ],
   "source": [
    "print(str(base_hyperparameter))"
   ]
  },
  {
   "cell_type": "markdown",
   "id": "6c6b14b5-0b23-4a2c-956c-2c085d8108e2",
   "metadata": {},
   "source": [
    "### XGBoost Hyperparameters\n",
    "\n",
    "This class is a **derived class** from **base hyperparameters**. It is for **XGBoost training only parameters**"
   ]
  },
  {
   "cell_type": "code",
   "execution_count": 37,
   "id": "504eb67b-fe36-46a5-852d-8b461f1d9a9d",
   "metadata": {
    "tags": []
   },
   "outputs": [],
   "source": [
    "from cursus.steps.hyperparams.hyperparameters_xgboost import XGBoostModelHyperparameters"
   ]
  },
  {
   "cell_type": "code",
   "execution_count": 38,
   "id": "5ae45bc3-1d18-4b61-bde3-dccd01dda5ae",
   "metadata": {
    "tags": []
   },
   "outputs": [],
   "source": [
    "# model_class on SageMaker\n",
    "model_class = 'xgboost'"
   ]
  },
  {
   "cell_type": "code",
   "execution_count": 39,
   "id": "c16d0022-f16c-4ad2-ac0b-1a963af73ac8",
   "metadata": {
    "tags": []
   },
   "outputs": [],
   "source": [
    "model_params = {\n",
    "    \"num_round\": 300,\n",
    "    \"max_depth\": 6, \n",
    "    \"min_child_weight\": 1\n",
    "}"
   ]
  },
  {
   "cell_type": "code",
   "execution_count": 40,
   "id": "025219e8-5324-413c-9912-d22bcfa4ad3d",
   "metadata": {},
   "outputs": [
    {
     "data": {
      "text/plain": [
       "{'num_round': 300, 'max_depth': 6, 'min_child_weight': 1}"
      ]
     },
     "execution_count": 40,
     "metadata": {},
     "output_type": "execute_result"
    }
   ],
   "source": [
    "model_params"
   ]
  },
  {
   "cell_type": "markdown",
   "id": "703b742c-ea3a-4cbf-b435-1bd56ed27bb0",
   "metadata": {
    "tags": []
   },
   "source": [
    "#### Construct Derived Class (Share Same Field Values from Base)"
   ]
  },
  {
   "cell_type": "code",
   "execution_count": 41,
   "id": "93850706-fb0d-46de-b55c-ae79f086fc42",
   "metadata": {
    "tags": []
   },
   "outputs": [],
   "source": [
    "xgb_hyperparams = XGBoostModelHyperparameters.from_base_hyperparam(\n",
    "    base_hyperparameter,\n",
    "    **model_params\n",
    ")"
   ]
  },
  {
   "cell_type": "code",
   "execution_count": 42,
   "id": "3c13eb3c-b97c-44f7-8cab-9353a5e7942d",
   "metadata": {
    "scrolled": true,
    "tags": []
   },
   "outputs": [
    {
     "data": {
      "text/plain": [
       "XGBoostModelHyperparameters(full_field_list=['Abuse.abuse_fap_action_by_customer_inline_transform_na.n_claims_solicit_count_last_365_days', 'Abuse.abuse_fap_action_by_customer_inline_transform_na.n_claims_warn_count_last_365_days', 'Abuse.abuse_fap_action_by_customer_inline_transform_na.n_concession_solicit_count_last_365_days', 'Abuse.abuse_fap_action_by_customer_inline_transform_na.n_concession_warn_count_last_365_days', 'Abuse.bsm_stats_for_evaluated_mfn_concessions_by_customer_na.n_max_buyer_order_message_time_gap', 'Abuse.bsm_stats_for_evaluated_mfn_concessions_by_customer_na.n_max_order_message_time_gap', 'Abuse.bsm_stats_for_evaluated_mfn_concessions_by_customer_na.n_max_seller_order_message_time_gap', 'Abuse.bsm_stats_for_evaluated_mfn_concessions_by_customer_na.n_message_count_with_diff_topic_si', 'Abuse.bsm_stats_for_evaluated_mfn_concessions_by_customer_na.n_message_count_with_notr_topic_si', 'Abuse.bsm_stats_for_evaluated_mfn_concessions_by_customer_na.n_message_count_with_return_keywords_si', 'Abuse.bsm_stats_for_evaluated_mfn_concessions_by_customer_na.n_min_buyer_message_count', 'Abuse.bsm_stats_for_evaluated_mfn_concessions_by_customer_na.n_min_buyer_order_message_time_gap', 'Abuse.bsm_stats_for_evaluated_mfn_concessions_by_customer_na.n_min_message_count', 'Abuse.bsm_stats_for_evaluated_mfn_concessions_by_customer_na.n_min_order_message_time_gap', 'Abuse.bsm_stats_for_evaluated_mfn_concessions_by_customer_na.n_min_seller_message_count', 'Abuse.bsm_stats_for_evaluated_mfn_concessions_by_customer_na.n_min_seller_order_message_time_gap', 'Abuse.bsm_stats_for_evaluated_mfn_concessions_by_customer_na.n_total_buyer_message_count', 'Abuse.bsm_stats_for_evaluated_mfn_concessions_by_customer_na.n_total_message_count', 'Abuse.bsm_stats_for_evaluated_mfn_concessions_by_customer_na.n_total_seller_message_count', 'Abuse.bsm_stats_for_evaluated_mfn_concessions_by_customer_na.n_total_topic_count', 'Abuse.completed_afn_orders_by_customer_marketplace.n_afn_order_count_last_365_days', 'Abuse.completed_afn_orders_by_customer_marketplace.n_afn_unit_amount_last_365_days', 'Abuse.completed_afn_orders_by_customer_marketplace.n_afn_unit_count_last_365_days', 'Abuse.completed_mfn_orders_by_customer_marketplace.n_mfn_order_count_last_365_days', 'Abuse.completed_mfn_orders_by_customer_marketplace.n_mfn_unit_amount_last_365_days', 'Abuse.completed_mfn_orders_by_customer_marketplace.n_mfn_unit_count_last_365_days', 'Abuse.dnr_by_customer_marketplace.n_dnr_amount_si_last_365_days', 'Abuse.dnr_by_customer_marketplace.n_dnr_order_count_last_365_days', 'Abuse.dnr_by_customer_marketplace.n_dnr_unit_amount_last_365_days', 'Abuse.dnr_by_customer_marketplace.n_dnr_unit_count_last_365_days', 'Abuse.mfn_a2z_claims_by_customer_na.n_mfn_claims_amount_last_365_days', 'Abuse.mfn_a2z_claims_by_customer_na.n_mfn_claims_count_last_365_days', 'Abuse.mfn_a2z_claims_by_customer_na.n_mfn_diff_claims_amount_last_365_days', 'Abuse.mfn_a2z_claims_by_customer_na.n_mfn_diff_claims_count_last_365_days', 'Abuse.mfn_a2z_claims_by_customer_na.n_mfn_notr_claims_amount_last_365_days', 'Abuse.mfn_a2z_claims_by_customer_na.n_mfn_notr_claims_count_last_365_days', 'Abuse.mfn_categorized_refunds_by_customer_marketplace.n_mfn_diff_refunds_order_count_last_365_days', 'Abuse.mfn_categorized_refunds_by_customer_marketplace.n_mfn_diff_refunds_unit_amount_last_365_days', 'Abuse.mfn_categorized_refunds_by_customer_marketplace.n_mfn_diff_refunds_unit_count_last_365_days', 'Abuse.mfn_categorized_refunds_by_customer_marketplace.n_mfn_notr_refunds_order_count_last_365_days', 'Abuse.mfn_categorized_refunds_by_customer_marketplace.n_mfn_notr_refunds_unit_amount_last_365_days', 'Abuse.mfn_categorized_refunds_by_customer_marketplace.n_mfn_notr_refunds_unit_count_last_365_days', 'Abuse.mfn_categorized_refunds_si_by_customer_marketplace.n_mfn_diff_refunds_si_365_days', 'Abuse.mfn_categorized_refunds_si_by_customer_marketplace.n_mfn_notr_refunds_si_365_days', 'Abuse.mfn_refunds_by_customer_marketplace.n_mfn_refund_order_count_last_365_days', 'Abuse.mfn_refunds_by_customer_marketplace.n_mfn_refund_unit_amount_last_365_days', 'Abuse.mfn_refunds_by_customer_marketplace.n_mfn_refund_unit_count_last_365_days', 'Abuse.mfn_refunds_si_by_customer_marketplace.n_mfn_refund_amount_si_last_365_days', 'Abuse.order_to_execution_time_from_eventvariables.n_order_to_execution', 'Abuse.shiptrack_flag_by_order.n_any_delivered', 'Abuse.shiptrack_flag_by_order.n_any_available_for_pickup', 'Abuse.shiptrack_flag_by_order.n_any_partial_delivered', 'Abuse.shiptrack_flag_by_order.n_any_undeliverable', 'Abuse.shiptrack_flag_by_order.n_any_returning', 'Abuse.shiptrack_flag_by_order.n_any_returned', 'COMP_DAYOB', 'PAYMETH', 'claimAmount_value', 'claim_reason', 'claimantInfo_allClaimCount365day', 'claimantInfo_lifetimeClaimCount', 'claimantInfo_pendingClaimCount', 'claimantInfo_status', 'shipments_status', 'order_id', 'marketplace_id', 'is_abuse'], cat_field_list=['PAYMETH', 'claim_reason', 'claimantInfo_status', 'shipments_status'], tab_field_list=['Abuse.abuse_fap_action_by_customer_inline_transform_na.n_claims_solicit_count_last_365_days', 'Abuse.abuse_fap_action_by_customer_inline_transform_na.n_claims_warn_count_last_365_days', 'Abuse.abuse_fap_action_by_customer_inline_transform_na.n_concession_solicit_count_last_365_days', 'Abuse.abuse_fap_action_by_customer_inline_transform_na.n_concession_warn_count_last_365_days', 'Abuse.bsm_stats_for_evaluated_mfn_concessions_by_customer_na.n_max_buyer_order_message_time_gap', 'Abuse.bsm_stats_for_evaluated_mfn_concessions_by_customer_na.n_max_order_message_time_gap', 'Abuse.bsm_stats_for_evaluated_mfn_concessions_by_customer_na.n_max_seller_order_message_time_gap', 'Abuse.bsm_stats_for_evaluated_mfn_concessions_by_customer_na.n_message_count_with_diff_topic_si', 'Abuse.bsm_stats_for_evaluated_mfn_concessions_by_customer_na.n_message_count_with_notr_topic_si', 'Abuse.bsm_stats_for_evaluated_mfn_concessions_by_customer_na.n_message_count_with_return_keywords_si', 'Abuse.bsm_stats_for_evaluated_mfn_concessions_by_customer_na.n_min_buyer_message_count', 'Abuse.bsm_stats_for_evaluated_mfn_concessions_by_customer_na.n_min_buyer_order_message_time_gap', 'Abuse.bsm_stats_for_evaluated_mfn_concessions_by_customer_na.n_min_message_count', 'Abuse.bsm_stats_for_evaluated_mfn_concessions_by_customer_na.n_min_order_message_time_gap', 'Abuse.bsm_stats_for_evaluated_mfn_concessions_by_customer_na.n_min_seller_message_count', 'Abuse.bsm_stats_for_evaluated_mfn_concessions_by_customer_na.n_min_seller_order_message_time_gap', 'Abuse.bsm_stats_for_evaluated_mfn_concessions_by_customer_na.n_total_buyer_message_count', 'Abuse.bsm_stats_for_evaluated_mfn_concessions_by_customer_na.n_total_message_count', 'Abuse.bsm_stats_for_evaluated_mfn_concessions_by_customer_na.n_total_seller_message_count', 'Abuse.bsm_stats_for_evaluated_mfn_concessions_by_customer_na.n_total_topic_count', 'Abuse.completed_afn_orders_by_customer_marketplace.n_afn_order_count_last_365_days', 'Abuse.completed_afn_orders_by_customer_marketplace.n_afn_unit_amount_last_365_days', 'Abuse.completed_afn_orders_by_customer_marketplace.n_afn_unit_count_last_365_days', 'Abuse.completed_mfn_orders_by_customer_marketplace.n_mfn_order_count_last_365_days', 'Abuse.completed_mfn_orders_by_customer_marketplace.n_mfn_unit_amount_last_365_days', 'Abuse.completed_mfn_orders_by_customer_marketplace.n_mfn_unit_count_last_365_days', 'Abuse.dnr_by_customer_marketplace.n_dnr_amount_si_last_365_days', 'Abuse.dnr_by_customer_marketplace.n_dnr_order_count_last_365_days', 'Abuse.dnr_by_customer_marketplace.n_dnr_unit_amount_last_365_days', 'Abuse.dnr_by_customer_marketplace.n_dnr_unit_count_last_365_days', 'Abuse.mfn_a2z_claims_by_customer_na.n_mfn_claims_amount_last_365_days', 'Abuse.mfn_a2z_claims_by_customer_na.n_mfn_claims_count_last_365_days', 'Abuse.mfn_a2z_claims_by_customer_na.n_mfn_diff_claims_amount_last_365_days', 'Abuse.mfn_a2z_claims_by_customer_na.n_mfn_diff_claims_count_last_365_days', 'Abuse.mfn_a2z_claims_by_customer_na.n_mfn_notr_claims_amount_last_365_days', 'Abuse.mfn_a2z_claims_by_customer_na.n_mfn_notr_claims_count_last_365_days', 'Abuse.mfn_categorized_refunds_by_customer_marketplace.n_mfn_diff_refunds_order_count_last_365_days', 'Abuse.mfn_categorized_refunds_by_customer_marketplace.n_mfn_diff_refunds_unit_amount_last_365_days', 'Abuse.mfn_categorized_refunds_by_customer_marketplace.n_mfn_diff_refunds_unit_count_last_365_days', 'Abuse.mfn_categorized_refunds_by_customer_marketplace.n_mfn_notr_refunds_order_count_last_365_days', 'Abuse.mfn_categorized_refunds_by_customer_marketplace.n_mfn_notr_refunds_unit_amount_last_365_days', 'Abuse.mfn_categorized_refunds_by_customer_marketplace.n_mfn_notr_refunds_unit_count_last_365_days', 'Abuse.mfn_categorized_refunds_si_by_customer_marketplace.n_mfn_diff_refunds_si_365_days', 'Abuse.mfn_categorized_refunds_si_by_customer_marketplace.n_mfn_notr_refunds_si_365_days', 'Abuse.mfn_refunds_by_customer_marketplace.n_mfn_refund_order_count_last_365_days', 'Abuse.mfn_refunds_by_customer_marketplace.n_mfn_refund_unit_amount_last_365_days', 'Abuse.mfn_refunds_by_customer_marketplace.n_mfn_refund_unit_count_last_365_days', 'Abuse.mfn_refunds_si_by_customer_marketplace.n_mfn_refund_amount_si_last_365_days', 'Abuse.order_to_execution_time_from_eventvariables.n_order_to_execution', 'Abuse.shiptrack_flag_by_order.n_any_delivered', 'Abuse.shiptrack_flag_by_order.n_any_available_for_pickup', 'Abuse.shiptrack_flag_by_order.n_any_partial_delivered', 'Abuse.shiptrack_flag_by_order.n_any_undeliverable', 'Abuse.shiptrack_flag_by_order.n_any_returning', 'Abuse.shiptrack_flag_by_order.n_any_returned', 'COMP_DAYOB', 'claimAmount_value', 'claimantInfo_allClaimCount365day', 'claimantInfo_lifetimeClaimCount', 'claimantInfo_pendingClaimCount'], id_name='order_id', label_name='is_abuse', multiclass_categories=[0, 1], categorical_features_to_encode=[], model_class='base_model', device=-1, header=0, lr=3e-05, batch_size=2, max_epochs=3, metric_choices=['f1_score', 'auroc'], optimizer='SGD', class_weights=[1.0, 1.0], num_round=300, max_depth=6, min_child_weight=1.0, booster='gbtree', eta=0.3, gamma=0.0, max_delta_step=0.0, subsample=1.0, colsample_bytree=1.0, colsample_bylevel=1.0, colsample_bynode=1.0, lambda_xgb=1.0, alpha_xgb=0.0, tree_method='auto', sketch_eps=None, scale_pos_weight=1.0, num_parallel_tree=None, base_score=None, seed=None, early_stopping_rounds=None)"
      ]
     },
     "execution_count": 42,
     "metadata": {},
     "output_type": "execute_result"
    }
   ],
   "source": [
    "xgb_hyperparams"
   ]
  },
  {
   "cell_type": "code",
   "execution_count": 43,
   "id": "330534cd-0ab1-4a73-a5fd-b8fd50befc1d",
   "metadata": {
    "scrolled": true
   },
   "outputs": [
    {
     "name": "stdout",
     "output_type": "stream",
     "text": [
      "=== XGBoostModelHyperparameters ===\n",
      "\n",
      "- Essential User Inputs -\n",
      "cat_field_list: ['PAYMETH', 'claim_reason', 'claimantInfo_status', 'shipments_status']\n",
      "full_field_list: ['Abuse.abuse_fap_action_by_customer_inline_transform_na.n_claims_solicit_count_last_365_days', 'Abuse.abuse_fap_action_by_customer_inline_transform_na.n_claims_warn_count_last_365_days', 'Abuse.abuse_fap_action_by_customer_inline_transform_na.n_concession_solicit_count_last_365_days', 'Abuse.abuse_fap_action_by_customer_inline_transform_na.n_concession_warn_count_last_365_days', 'Abuse.bsm_stats_for_evaluated_mfn_concessions_by_customer_na.n_max_buyer_order_message_time_gap', 'Abuse.bsm_stats_for_evaluated_mfn_concessions_by_customer_na.n_max_order_message_time_gap', 'Abuse.bsm_stats_for_evaluated_mfn_concessions_by_customer_na.n_max_seller_order_message_time_gap', 'Abuse.bsm_stats_for_evaluated_mfn_concessions_by_customer_na.n_message_count_with_diff_topic_si', 'Abuse.bsm_stats_for_evaluated_mfn_concessions_by_customer_na.n_message_count_with_notr_topic_si', 'Abuse.bsm_stats_for_evaluated_mfn_concessions_by_customer_na.n_message_count_with_return_keywords_si', 'Abuse.bsm_stats_for_evaluated_mfn_concessions_by_customer_na.n_min_buyer_message_count', 'Abuse.bsm_stats_for_evaluated_mfn_concessions_by_customer_na.n_min_buyer_order_message_time_gap', 'Abuse.bsm_stats_for_evaluated_mfn_concessions_by_customer_na.n_min_message_count', 'Abuse.bsm_stats_for_evaluated_mfn_concessions_by_customer_na.n_min_order_message_time_gap', 'Abuse.bsm_stats_for_evaluated_mfn_concessions_by_customer_na.n_min_seller_message_count', 'Abuse.bsm_stats_for_evaluated_mfn_concessions_by_customer_na.n_min_seller_order_message_time_gap', 'Abuse.bsm_stats_for_evaluated_mfn_concessions_by_customer_na.n_total_buyer_message_count', 'Abuse.bsm_stats_for_evaluated_mfn_concessions_by_customer_na.n_total_message_count', 'Abuse.bsm_stats_for_evaluated_mfn_concessions_by_customer_na.n_total_seller_message_count', 'Abuse.bsm_stats_for_evaluated_mfn_concessions_by_customer_na.n_total_topic_count', 'Abuse.completed_afn_orders_by_customer_marketplace.n_afn_order_count_last_365_days', 'Abuse.completed_afn_orders_by_customer_marketplace.n_afn_unit_amount_last_365_days', 'Abuse.completed_afn_orders_by_customer_marketplace.n_afn_unit_count_last_365_days', 'Abuse.completed_mfn_orders_by_customer_marketplace.n_mfn_order_count_last_365_days', 'Abuse.completed_mfn_orders_by_customer_marketplace.n_mfn_unit_amount_last_365_days', 'Abuse.completed_mfn_orders_by_customer_marketplace.n_mfn_unit_count_last_365_days', 'Abuse.dnr_by_customer_marketplace.n_dnr_amount_si_last_365_days', 'Abuse.dnr_by_customer_marketplace.n_dnr_order_count_last_365_days', 'Abuse.dnr_by_customer_marketplace.n_dnr_unit_amount_last_365_days', 'Abuse.dnr_by_customer_marketplace.n_dnr_unit_count_last_365_days', 'Abuse.mfn_a2z_claims_by_customer_na.n_mfn_claims_amount_last_365_days', 'Abuse.mfn_a2z_claims_by_customer_na.n_mfn_claims_count_last_365_days', 'Abuse.mfn_a2z_claims_by_customer_na.n_mfn_diff_claims_amount_last_365_days', 'Abuse.mfn_a2z_claims_by_customer_na.n_mfn_diff_claims_count_last_365_days', 'Abuse.mfn_a2z_claims_by_customer_na.n_mfn_notr_claims_amount_last_365_days', 'Abuse.mfn_a2z_claims_by_customer_na.n_mfn_notr_claims_count_last_365_days', 'Abuse.mfn_categorized_refunds_by_customer_marketplace.n_mfn_diff_refunds_order_count_last_365_days', 'Abuse.mfn_categorized_refunds_by_customer_marketplace.n_mfn_diff_refunds_unit_amount_last_365_days', 'Abuse.mfn_categorized_refunds_by_customer_marketplace.n_mfn_diff_refunds_unit_count_last_365_days', 'Abuse.mfn_categorized_refunds_by_customer_marketplace.n_mfn_notr_refunds_order_count_last_365_days', 'Abuse.mfn_categorized_refunds_by_customer_marketplace.n_mfn_notr_refunds_unit_amount_last_365_days', 'Abuse.mfn_categorized_refunds_by_customer_marketplace.n_mfn_notr_refunds_unit_count_last_365_days', 'Abuse.mfn_categorized_refunds_si_by_customer_marketplace.n_mfn_diff_refunds_si_365_days', 'Abuse.mfn_categorized_refunds_si_by_customer_marketplace.n_mfn_notr_refunds_si_365_days', 'Abuse.mfn_refunds_by_customer_marketplace.n_mfn_refund_order_count_last_365_days', 'Abuse.mfn_refunds_by_customer_marketplace.n_mfn_refund_unit_amount_last_365_days', 'Abuse.mfn_refunds_by_customer_marketplace.n_mfn_refund_unit_count_last_365_days', 'Abuse.mfn_refunds_si_by_customer_marketplace.n_mfn_refund_amount_si_last_365_days', 'Abuse.order_to_execution_time_from_eventvariables.n_order_to_execution', 'Abuse.shiptrack_flag_by_order.n_any_delivered', 'Abuse.shiptrack_flag_by_order.n_any_available_for_pickup', 'Abuse.shiptrack_flag_by_order.n_any_partial_delivered', 'Abuse.shiptrack_flag_by_order.n_any_undeliverable', 'Abuse.shiptrack_flag_by_order.n_any_returning', 'Abuse.shiptrack_flag_by_order.n_any_returned', 'COMP_DAYOB', 'PAYMETH', 'claimAmount_value', 'claim_reason', 'claimantInfo_allClaimCount365day', 'claimantInfo_lifetimeClaimCount', 'claimantInfo_pendingClaimCount', 'claimantInfo_status', 'shipments_status', 'order_id', 'marketplace_id', 'is_abuse']\n",
      "id_name: order_id\n",
      "label_name: is_abuse\n",
      "max_depth: 6\n",
      "multiclass_categories: [0, 1]\n",
      "num_round: 300\n",
      "tab_field_list: ['Abuse.abuse_fap_action_by_customer_inline_transform_na.n_claims_solicit_count_last_365_days', 'Abuse.abuse_fap_action_by_customer_inline_transform_na.n_claims_warn_count_last_365_days', 'Abuse.abuse_fap_action_by_customer_inline_transform_na.n_concession_solicit_count_last_365_days', 'Abuse.abuse_fap_action_by_customer_inline_transform_na.n_concession_warn_count_last_365_days', 'Abuse.bsm_stats_for_evaluated_mfn_concessions_by_customer_na.n_max_buyer_order_message_time_gap', 'Abuse.bsm_stats_for_evaluated_mfn_concessions_by_customer_na.n_max_order_message_time_gap', 'Abuse.bsm_stats_for_evaluated_mfn_concessions_by_customer_na.n_max_seller_order_message_time_gap', 'Abuse.bsm_stats_for_evaluated_mfn_concessions_by_customer_na.n_message_count_with_diff_topic_si', 'Abuse.bsm_stats_for_evaluated_mfn_concessions_by_customer_na.n_message_count_with_notr_topic_si', 'Abuse.bsm_stats_for_evaluated_mfn_concessions_by_customer_na.n_message_count_with_return_keywords_si', 'Abuse.bsm_stats_for_evaluated_mfn_concessions_by_customer_na.n_min_buyer_message_count', 'Abuse.bsm_stats_for_evaluated_mfn_concessions_by_customer_na.n_min_buyer_order_message_time_gap', 'Abuse.bsm_stats_for_evaluated_mfn_concessions_by_customer_na.n_min_message_count', 'Abuse.bsm_stats_for_evaluated_mfn_concessions_by_customer_na.n_min_order_message_time_gap', 'Abuse.bsm_stats_for_evaluated_mfn_concessions_by_customer_na.n_min_seller_message_count', 'Abuse.bsm_stats_for_evaluated_mfn_concessions_by_customer_na.n_min_seller_order_message_time_gap', 'Abuse.bsm_stats_for_evaluated_mfn_concessions_by_customer_na.n_total_buyer_message_count', 'Abuse.bsm_stats_for_evaluated_mfn_concessions_by_customer_na.n_total_message_count', 'Abuse.bsm_stats_for_evaluated_mfn_concessions_by_customer_na.n_total_seller_message_count', 'Abuse.bsm_stats_for_evaluated_mfn_concessions_by_customer_na.n_total_topic_count', 'Abuse.completed_afn_orders_by_customer_marketplace.n_afn_order_count_last_365_days', 'Abuse.completed_afn_orders_by_customer_marketplace.n_afn_unit_amount_last_365_days', 'Abuse.completed_afn_orders_by_customer_marketplace.n_afn_unit_count_last_365_days', 'Abuse.completed_mfn_orders_by_customer_marketplace.n_mfn_order_count_last_365_days', 'Abuse.completed_mfn_orders_by_customer_marketplace.n_mfn_unit_amount_last_365_days', 'Abuse.completed_mfn_orders_by_customer_marketplace.n_mfn_unit_count_last_365_days', 'Abuse.dnr_by_customer_marketplace.n_dnr_amount_si_last_365_days', 'Abuse.dnr_by_customer_marketplace.n_dnr_order_count_last_365_days', 'Abuse.dnr_by_customer_marketplace.n_dnr_unit_amount_last_365_days', 'Abuse.dnr_by_customer_marketplace.n_dnr_unit_count_last_365_days', 'Abuse.mfn_a2z_claims_by_customer_na.n_mfn_claims_amount_last_365_days', 'Abuse.mfn_a2z_claims_by_customer_na.n_mfn_claims_count_last_365_days', 'Abuse.mfn_a2z_claims_by_customer_na.n_mfn_diff_claims_amount_last_365_days', 'Abuse.mfn_a2z_claims_by_customer_na.n_mfn_diff_claims_count_last_365_days', 'Abuse.mfn_a2z_claims_by_customer_na.n_mfn_notr_claims_amount_last_365_days', 'Abuse.mfn_a2z_claims_by_customer_na.n_mfn_notr_claims_count_last_365_days', 'Abuse.mfn_categorized_refunds_by_customer_marketplace.n_mfn_diff_refunds_order_count_last_365_days', 'Abuse.mfn_categorized_refunds_by_customer_marketplace.n_mfn_diff_refunds_unit_amount_last_365_days', 'Abuse.mfn_categorized_refunds_by_customer_marketplace.n_mfn_diff_refunds_unit_count_last_365_days', 'Abuse.mfn_categorized_refunds_by_customer_marketplace.n_mfn_notr_refunds_order_count_last_365_days', 'Abuse.mfn_categorized_refunds_by_customer_marketplace.n_mfn_notr_refunds_unit_amount_last_365_days', 'Abuse.mfn_categorized_refunds_by_customer_marketplace.n_mfn_notr_refunds_unit_count_last_365_days', 'Abuse.mfn_categorized_refunds_si_by_customer_marketplace.n_mfn_diff_refunds_si_365_days', 'Abuse.mfn_categorized_refunds_si_by_customer_marketplace.n_mfn_notr_refunds_si_365_days', 'Abuse.mfn_refunds_by_customer_marketplace.n_mfn_refund_order_count_last_365_days', 'Abuse.mfn_refunds_by_customer_marketplace.n_mfn_refund_unit_amount_last_365_days', 'Abuse.mfn_refunds_by_customer_marketplace.n_mfn_refund_unit_count_last_365_days', 'Abuse.mfn_refunds_si_by_customer_marketplace.n_mfn_refund_amount_si_last_365_days', 'Abuse.order_to_execution_time_from_eventvariables.n_order_to_execution', 'Abuse.shiptrack_flag_by_order.n_any_delivered', 'Abuse.shiptrack_flag_by_order.n_any_available_for_pickup', 'Abuse.shiptrack_flag_by_order.n_any_partial_delivered', 'Abuse.shiptrack_flag_by_order.n_any_undeliverable', 'Abuse.shiptrack_flag_by_order.n_any_returning', 'Abuse.shiptrack_flag_by_order.n_any_returned', 'COMP_DAYOB', 'claimAmount_value', 'claimantInfo_allClaimCount365day', 'claimantInfo_lifetimeClaimCount', 'claimantInfo_pendingClaimCount']\n",
      "\n",
      "- System Inputs -\n",
      "alpha_xgb: 0.0\n",
      "batch_size: 2\n",
      "booster: gbtree\n",
      "categorical_features_to_encode: []\n",
      "class_weights: [1.0, 1.0]\n",
      "colsample_bylevel: 1.0\n",
      "colsample_bynode: 1.0\n",
      "colsample_bytree: 1.0\n",
      "device: -1\n",
      "eta: 0.3\n",
      "gamma: 0.0\n",
      "header: 0\n",
      "lambda_xgb: 1.0\n",
      "lr: 3e-05\n",
      "max_delta_step: 0.0\n",
      "max_epochs: 3\n",
      "metric_choices: ['f1_score', 'auroc']\n",
      "min_child_weight: 1.0\n",
      "model_class: base_model\n",
      "optimizer: SGD\n",
      "scale_pos_weight: 1.0\n",
      "subsample: 1.0\n",
      "tree_method: auto\n",
      "\n",
      "- Derived Fields -\n",
      "eval_metric: ['logloss', 'auc']\n",
      "input_tab_dim: 60\n",
      "is_binary: True\n",
      "model_extra: {}\n",
      "model_fields_set: {'multiclass_categories', 'model_class', 'full_field_list', 'num_round', 'tab_field_list', 'class_weights', 'metric_choices', 'categorical_features_to_encode', 'device', 'min_child_weight', 'batch_size', 'optimizer', 'lr', 'cat_field_list', 'header', 'id_name', 'max_epochs', 'label_name', 'max_depth'}\n",
      "num_classes: 2\n",
      "objective: binary:logistic\n",
      "\n"
     ]
    }
   ],
   "source": [
    "print(str(xgb_hyperparams))"
   ]
  },
  {
   "cell_type": "markdown",
   "id": "a5acdb93-f463-40a0-a900-4d47ec9a8f38",
   "metadata": {},
   "source": [
    "## Setup Configurations for Steps in Pipeline\n",
    "\n",
    "### Input/Output Names Standardization Pattern\n",
    "\n",
    "We follow a consistent pattern for input_names and output_names dictionaries:\n",
    "\n",
    "### For input_names:\n",
    "- KEYS are logical names used in pipeline connection code\n",
    "- VALUES are script input names used in processing/training scripts\n",
    "\n",
    "### For output_names:\n",
    "- KEYS are logical names referenced in pipeline connection code\n",
    "- VALUES are descriptive output names used as keys in outputs dictionaries\n",
    "\n",
    "This standardization ensures consistent handling across all pipeline steps.\n",
    "\n",
    "Example:\n",
    "- Step A's output_names = {\"data\": \"ProcessedData\"}\n",
    "- When connecting: outputs = {\"ProcessedData\": \"s3://path/...\"}\n",
    "- Step B's input_names = {\"input\": \"InputData\"}\n",
    "- When connecting: step_b_inputs = {\"input\": step_a.properties.ProcessingOutputConfig.Outputs[\"ProcessedData\"].S3Output.S3Uri}\n",
    "\n"
   ]
  },
  {
   "cell_type": "markdown",
   "id": "487516fa-17c7-4b30-aec5-b08d813a31da",
   "metadata": {},
   "source": [
    "### Base Config"
   ]
  },
  {
   "cell_type": "code",
   "execution_count": 44,
   "id": "6e47c73d-dd10-401e-8fd2-2f595bd3923b",
   "metadata": {
    "tags": []
   },
   "outputs": [],
   "source": [
    "from pydantic import BaseModel, Field, model_validator, field_validator\n",
    "from typing import List, Optional, Dict, Any\n",
    "from pathlib import Path\n",
    "import json\n",
    "from datetime import datetime"
   ]
  },
  {
   "cell_type": "code",
   "execution_count": 45,
   "id": "1ab69ed2-4a39-463b-9284-3cdadd8c22df",
   "metadata": {
    "tags": []
   },
   "outputs": [],
   "source": [
    "from cursus.core.base.config_base import BasePipelineConfig"
   ]
  },
  {
   "cell_type": "code",
   "execution_count": 46,
   "id": "fd51de28-f8ab-481f-8c01-9abe7b4cc848",
   "metadata": {
    "tags": []
   },
   "outputs": [],
   "source": [
    "# set up the config list for saving to JSON at the end\n",
    "config_list = []"
   ]
  },
  {
   "cell_type": "markdown",
   "id": "0bcb692d-3aa7-48df-a7c6-f89f756f9e5a",
   "metadata": {},
   "source": [
    "### **REQUIRED: [BASE STEP 1.0] Setup Base Config**\n",
    "\n",
    "In this base config, user provider all *necessary information* that **shared across** all of steps."
   ]
  },
  {
   "cell_type": "markdown",
   "id": "0e3421cf-be85-46b5-8b17-74279782663a",
   "metadata": {},
   "source": [
    "#### Service Name (for Depolyment)"
   ]
  },
  {
   "cell_type": "code",
   "execution_count": 47,
   "id": "e0354eed-1a7b-4c57-8bac-d4d2b274d549",
   "metadata": {
    "tags": []
   },
   "outputs": [
    {
     "data": {
      "text/plain": [
       "'AtoZ'"
      ]
     },
     "execution_count": 47,
     "metadata": {},
     "output_type": "execute_result"
    }
   ],
   "source": [
    "# for MDS data downloading\n",
    "service_name = 'AtoZ'\n",
    "service_name"
   ]
  },
  {
   "cell_type": "markdown",
   "id": "37706597-0f52-48f8-8f1d-f6f33bb22290",
   "metadata": {},
   "source": [
    "#### Default Bucket"
   ]
  },
  {
   "cell_type": "code",
   "execution_count": 48,
   "id": "80abc7cb-e40b-47d6-be25-9a7978497ab2",
   "metadata": {
    "tags": []
   },
   "outputs": [
    {
     "data": {
      "text/plain": [
       "'sandboxdependency-abuse-secureaisandboxteamshare-1l77v9am252um'"
      ]
     },
     "execution_count": 48,
     "metadata": {},
     "output_type": "execute_result"
    }
   ],
   "source": [
    "bucket=sais_session.team_owned_s3_bucket_name()\n",
    "bucket"
   ]
  },
  {
   "cell_type": "markdown",
   "id": "a78da032-a5da-429d-9f9b-8cc41df1642f",
   "metadata": {},
   "source": [
    "#### IAM Role"
   ]
  },
  {
   "cell_type": "code",
   "execution_count": 49,
   "id": "20eeb774-a401-4efa-af2e-b0702be2044b",
   "metadata": {
    "tags": []
   },
   "outputs": [
    {
     "name": "stderr",
     "output_type": "stream",
     "text": [
      "2025-09-21 19:09:04,920 - INFO - Found credentials from IAM Role: BaseNotebookInstanceEc2InstanceRole\n"
     ]
    },
    {
     "data": {
      "text/plain": [
       "'arn:aws:iam::601857636239:role/SandboxRole-lukexie-us-east-1'"
      ]
     },
     "execution_count": 49,
     "metadata": {},
     "output_type": "execute_result"
    }
   ],
   "source": [
    "role=PipelineSession().get_caller_identity_arn()\n",
    "role"
   ]
  },
  {
   "cell_type": "markdown",
   "id": "7e3e8844-f160-476a-826b-a77a0f6f2bdd",
   "metadata": {},
   "source": [
    "#### Author Signature, Pipeline Information, Pipeline Folder"
   ]
  },
  {
   "cell_type": "code",
   "execution_count": 50,
   "id": "c4152523-e1d3-4408-9bb0-b0c8e3a5b5ce",
   "metadata": {
    "tags": []
   },
   "outputs": [],
   "source": [
    "author = sais_session.owner_alias()"
   ]
  },
  {
   "cell_type": "code",
   "execution_count": 51,
   "id": "b7707db5-2f22-4c18-a20a-72590883f91c",
   "metadata": {
    "tags": []
   },
   "outputs": [],
   "source": [
    "pipeline_version = '1.3.1' #'0.0.7'"
   ]
  },
  {
   "cell_type": "markdown",
   "id": "566971fc-5e27-4297-942e-59a4fd7e596e",
   "metadata": {},
   "source": [
    "#### Training Container Set Up"
   ]
  },
  {
   "cell_type": "code",
   "execution_count": 52,
   "id": "c1bdee8d-b6e9-4b0b-8ae8-f050ca054339",
   "metadata": {
    "tags": []
   },
   "outputs": [],
   "source": [
    "# model_version on SageMaker\n",
    "framework_version = '1.7-1'\n",
    "py_version = \"py3\""
   ]
  },
  {
   "cell_type": "code",
   "execution_count": 53,
   "id": "29e629b1-d3bd-449a-b8bc-613b3331ed48",
   "metadata": {},
   "outputs": [
    {
     "name": "stdout",
     "output_type": "stream",
     "text": [
      "2025-09-21\n"
     ]
    }
   ],
   "source": [
    "from datetime import date\n",
    "\n",
    "current_date = date.today().strftime(\"%Y-%m-%d\")\n",
    "print(current_date)"
   ]
  },
  {
   "cell_type": "code",
   "execution_count": 54,
   "id": "0548cb8b-e695-46d5-9cfc-01bd4b8891d3",
   "metadata": {
    "tags": []
   },
   "outputs": [],
   "source": [
    "#current_date = '2025-07-25'"
   ]
  },
  {
   "cell_type": "code",
   "execution_count": 55,
   "id": "45863ea1-3de7-4cde-8488-cac159c73b85",
   "metadata": {
    "tags": []
   },
   "outputs": [],
   "source": [
    "if region == 'NA':\n",
    "    aws_region = \"us-east-1\"\n",
    "elif region == 'EU':\n",
    "    aws_region = \"eu-west-1\"\n",
    "elif region == 'FE':\n",
    "    aws_region = \"us-west-2\""
   ]
  },
  {
   "cell_type": "code",
   "execution_count": 56,
   "id": "502ce4b7-6635-44a9-a47b-846901c3538c",
   "metadata": {
    "tags": []
   },
   "outputs": [
    {
     "data": {
      "text/plain": [
       "'us-east-1'"
      ]
     },
     "execution_count": 56,
     "metadata": {},
     "output_type": "execute_result"
    }
   ],
   "source": [
    "aws_region"
   ]
  },
  {
   "cell_type": "markdown",
   "id": "b8f513c8-747a-4e74-86ce-0b4d689c3dde",
   "metadata": {},
   "source": [
    "#### Source Dir"
   ]
  },
  {
   "cell_type": "code",
   "execution_count": 57,
   "id": "084ea4aa-f47b-49b8-afdc-ccf987dde962",
   "metadata": {
    "tags": []
   },
   "outputs": [
    {
     "name": "stdout",
     "output_type": "stream",
     "text": [
      "Current working directory: /home/ec2-user/SageMaker/Cursus\n"
     ]
    }
   ],
   "source": [
    "current_dir = Path.cwd()\n",
    "\n",
    "print(f\"Current working directory: {current_dir}\")"
   ]
  },
  {
   "cell_type": "code",
   "execution_count": 58,
   "id": "ad1407d7-e1d8-43d0-ae7a-e6d84447f9cc",
   "metadata": {
    "tags": []
   },
   "outputs": [
    {
     "data": {
      "text/plain": [
       "PosixPath('/home/ec2-user/SageMaker/Cursus/dockers/xgboost_atoz')"
      ]
     },
     "execution_count": 58,
     "metadata": {},
     "output_type": "execute_result"
    }
   ],
   "source": [
    "package_root = Path(current_dir).resolve()\n",
    "source_dir = package_root / 'dockers' / 'xgboost_atoz' \n",
    "source_dir"
   ]
  },
  {
   "cell_type": "markdown",
   "id": "b3120e95-8f76-4923-a040-b5c717669a01",
   "metadata": {},
   "source": [
    "#### Construct Base Config"
   ]
  },
  {
   "cell_type": "code",
   "execution_count": 59,
   "id": "7cc0b209-676c-48f1-a26f-884c708e91cf",
   "metadata": {
    "tags": []
   },
   "outputs": [],
   "source": [
    "base_config = BasePipelineConfig(\n",
    "        bucket=bucket,\n",
    "        current_date=current_date,\n",
    "        region=region,\n",
    "        aws_region=aws_region,\n",
    "        author=author,\n",
    "        role=role,\n",
    "        service_name=service_name,\n",
    "    \n",
    "        # Overall pipeline identification\n",
    "        pipeline_version=pipeline_version,\n",
    "\n",
    "        # Common framework/scripting info (if shared across steps like train/inference)\n",
    "        framework_version=framework_version,\n",
    "        py_version=py_version,\n",
    "        source_dir=str(source_dir)\n",
    ")"
   ]
  },
  {
   "cell_type": "code",
   "execution_count": 60,
   "id": "3e5d04d2-1eb2-40d8-9dc0-20c6730e0a65",
   "metadata": {
    "tags": []
   },
   "outputs": [
    {
     "data": {
      "text/plain": [
       "BasePipelineConfig(author='lukexie', bucket='sandboxdependency-abuse-secureaisandboxteamshare-1l77v9am252um', role='arn:aws:iam::601857636239:role/SandboxRole-lukexie-us-east-1', region='NA', service_name='AtoZ', pipeline_version='1.3.1', model_class='xgboost', current_date='2025-09-21', framework_version='1.7-1', py_version='py3', source_dir='/home/ec2-user/SageMaker/Cursus/dockers/xgboost_atoz', aws_region='us-east-1')"
      ]
     },
     "execution_count": 60,
     "metadata": {},
     "output_type": "execute_result"
    }
   ],
   "source": [
    "base_config"
   ]
  },
  {
   "cell_type": "code",
   "execution_count": 61,
   "id": "afecfceb-4fa6-473a-bc61-66331e0f598f",
   "metadata": {
    "scrolled": true
   },
   "outputs": [
    {
     "name": "stderr",
     "output_type": "stream",
     "text": [
      "2025-09-21 19:09:21,692 - WARNING - No contract found for step: Base\n",
      "2025-09-21 19:09:21,692 - WARNING - No contract found for step: Base\n"
     ]
    },
    {
     "name": "stdout",
     "output_type": "stream",
     "text": [
      "\n",
      "===== CONFIGURATION =====\n",
      "Class: BasePipelineConfig\n",
      "\n",
      "----- Essential User Inputs (Tier 1) -----\n",
      "Author: lukexie\n",
      "Bucket: sandboxdependency-abuse-secureaisandboxteamshare-1l77v9am252um\n",
      "Pipeline_Version: 1.3.1\n",
      "Region: NA\n",
      "Role: arn:aws:iam::601857636239:role/SandboxRole-lukexie-us-east-1\n",
      "Service_Name: AtoZ\n",
      "\n",
      "----- System Inputs with Defaults (Tier 2) -----\n",
      "Current_Date: 2025-09-21\n",
      "Framework_Version: 1.7-1\n",
      "Model_Class: xgboost\n",
      "Py_Version: py3\n",
      "Source_Dir: /home/ec2-user/SageMaker/Cursus/dockers/xgboost_atoz\n",
      "\n",
      "----- Derived Fields (Tier 3) -----\n",
      "Aws_Region: us-east-1\n",
      "Model_Extra: {'aws_region': 'us-east-1'}\n",
      "Model_Fields_Set: {'region', 'role', 'pipeline_version', 'framework_version', 'bucket', 'current_date', 'py_version', 'aws_region', 'source_dir', 'author', 'service_name'}\n",
      "Pipeline_Description: AtoZ xgboost Model NA\n",
      "Pipeline_Name: lukexie-AtoZ-xgboost-NA\n",
      "Pipeline_S3_Loc: s3://sandboxdependency-abuse-secureaisandboxteamshare-1l77v9am252um/MODS/lukexie-AtoZ-xgboost-NA_1.3.1\n",
      "Portable_Source_Dir: dockers/xgboost_atoz\n",
      "Script_Contract: None\n",
      "Step_Catalog: <cursus.step_catalog.step_catalog.StepCatalog object at 0x7f89532fdc90>\n",
      "\n",
      "===================================\n",
      "\n"
     ]
    }
   ],
   "source": [
    "base_config.print_config()"
   ]
  },
  {
   "cell_type": "code",
   "execution_count": null,
   "id": "fb10f557-b1fa-4641-a0c2-4a92cb557542",
   "metadata": {},
   "outputs": [],
   "source": []
  },
  {
   "cell_type": "code",
   "execution_count": 62,
   "id": "bad5c4c2-a7f6-425d-a3f0-e7402966466a",
   "metadata": {
    "scrolled": true
   },
   "outputs": [
    {
     "name": "stdout",
     "output_type": "stream",
     "text": [
      "=== BasePipelineConfig ===\n",
      "\n",
      "- Essential User Inputs -\n",
      "author: lukexie\n",
      "bucket: sandboxdependency-abuse-secureaisandboxteamshare-1l77v9am252um\n",
      "pipeline_version: 1.3.1\n",
      "region: NA\n",
      "role: arn:aws:iam::601857636239:role/SandboxRole-lukexie-us-east-1\n",
      "service_name: AtoZ\n",
      "\n",
      "- System Inputs -\n",
      "current_date: 2025-09-21\n",
      "framework_version: 1.7-1\n",
      "model_class: xgboost\n",
      "py_version: py3\n",
      "source_dir: /home/ec2-user/SageMaker/Cursus/dockers/xgboost_atoz\n",
      "\n",
      "- Derived Fields -\n",
      "aws_region: us-east-1\n",
      "model_extra: {'aws_region': 'us-east-1'}\n",
      "model_fields_set: {'region', 'role', 'pipeline_version', 'framework_version', 'bucket', 'current_date', 'py_version', 'aws_region', 'source_dir', 'author', 'service_name'}\n",
      "pipeline_description: AtoZ xgboost Model NA\n",
      "pipeline_name: lukexie-AtoZ-xgboost-NA\n",
      "pipeline_s3_loc: s3://sandboxdependency-abuse-secureaisandboxteamshare-1l77v9am252um/MODS/lukexie-AtoZ-xgboost-NA_1.3.1\n",
      "portable_source_dir: dockers/xgboost_atoz\n",
      "script_contract: None\n",
      "step_catalog: <cursus.step_catalog.step_catalog.StepCatalog object at 0x7f89532fdc90>\n",
      "\n"
     ]
    }
   ],
   "source": [
    "print(str(base_config))"
   ]
  },
  {
   "cell_type": "markdown",
   "id": "e6ef7d73-12da-451e-8c89-0556b1a040fb",
   "metadata": {},
   "source": [
    "#### Save into Config List\n",
    "\n",
    "At the end of each section, we would save the config into a list so that we can aggregate them into a unified JSON"
   ]
  },
  {
   "cell_type": "code",
   "execution_count": 63,
   "id": "b9452962-a30f-4a0f-80ab-fb5e1cf7432f",
   "metadata": {
    "tags": []
   },
   "outputs": [],
   "source": [
    "config_list.append(base_config)"
   ]
  },
  {
   "cell_type": "code",
   "execution_count": null,
   "id": "1a7b518a-a58b-42d1-9137-4f9dbf25bb95",
   "metadata": {
    "tags": []
   },
   "outputs": [],
   "source": []
  },
  {
   "cell_type": "markdown",
   "id": "c6c2229f-8666-4748-8556-49095d9e1474",
   "metadata": {
    "tags": []
   },
   "source": [
    "### [BASE STEP 2.0] Base Processing Config\n",
    "\n",
    "The following fieilds are shared accross all **processing step** configuration"
   ]
  },
  {
   "cell_type": "code",
   "execution_count": 64,
   "id": "1ac60f46-2366-4448-bca0-7d4fef0fff24",
   "metadata": {
    "tags": []
   },
   "outputs": [],
   "source": [
    "from cursus.steps.configs.config_processing_step_base import ProcessingStepConfigBase\n",
    "from cursus.steps.configs.config_package_step import PackageConfig"
   ]
  },
  {
   "cell_type": "code",
   "execution_count": 65,
   "id": "ac89901a-32bc-4102-8e68-1a475c3245cf",
   "metadata": {
    "tags": []
   },
   "outputs": [
    {
     "data": {
      "text/plain": [
       "PosixPath('/home/ec2-user/SageMaker/Cursus/dockers/xgboost_atoz/scripts')"
      ]
     },
     "execution_count": 65,
     "metadata": {},
     "output_type": "execute_result"
    }
   ],
   "source": [
    "processing_source_dir = source_dir / 'scripts'\n",
    "processing_source_dir"
   ]
  },
  {
   "cell_type": "code",
   "execution_count": null,
   "id": "cd683b8c-f152-4866-accc-342ee6314627",
   "metadata": {
    "tags": []
   },
   "outputs": [],
   "source": []
  },
  {
   "cell_type": "code",
   "execution_count": 66,
   "id": "a60fa03d-1c1c-4e88-a03f-7b1d342cc82c",
   "metadata": {
    "tags": []
   },
   "outputs": [],
   "source": [
    "processing_dict = {\n",
    "    'processing_source_dir': str(processing_source_dir),\n",
    "    'processing_instance_type_large': 'ml.m5.12xlarge',\n",
    "    'processing_instance_type_small': 'ml.m5.4xlarge',\n",
    "}"
   ]
  },
  {
   "cell_type": "code",
   "execution_count": 67,
   "id": "1fb7fb5a-5782-4209-a00c-1468a274580f",
   "metadata": {},
   "outputs": [],
   "source": [
    "processing_step_config = ProcessingStepConfigBase.from_base_config(\n",
    "    base_config,\n",
    "    **processing_dict\n",
    ")"
   ]
  },
  {
   "cell_type": "code",
   "execution_count": 68,
   "id": "1742a123-efc9-41fd-bae3-a1dac2e5c7ae",
   "metadata": {
    "tags": []
   },
   "outputs": [
    {
     "data": {
      "text/plain": [
       "ProcessingStepConfigBase(author='lukexie', bucket='sandboxdependency-abuse-secureaisandboxteamshare-1l77v9am252um', role='arn:aws:iam::601857636239:role/SandboxRole-lukexie-us-east-1', region='NA', service_name='AtoZ', pipeline_version='1.3.1', model_class='xgboost', current_date='2025-09-21', framework_version='1.7-1', py_version='py3', source_dir='/home/ec2-user/SageMaker/Cursus/dockers/xgboost_atoz', processing_instance_count=1, processing_volume_size=500, processing_instance_type_large='ml.m5.12xlarge', processing_instance_type_small='ml.m5.4xlarge', use_large_processing_instance=False, processing_source_dir='/home/ec2-user/SageMaker/Cursus/dockers/xgboost_atoz/scripts', processing_entry_point=None, processing_script_arguments=None, processing_framework_version='1.2-1')"
      ]
     },
     "execution_count": 68,
     "metadata": {},
     "output_type": "execute_result"
    }
   ],
   "source": [
    "processing_step_config"
   ]
  },
  {
   "cell_type": "code",
   "execution_count": 69,
   "id": "df0e4319-8062-428a-b368-422940010c17",
   "metadata": {
    "scrolled": true,
    "tags": []
   },
   "outputs": [
    {
     "name": "stderr",
     "output_type": "stream",
     "text": [
      "2025-09-21 19:09:33,823 - WARNING - No contract found for step: Processing\n",
      "2025-09-21 19:09:33,823 - WARNING - No contract found for step: Processing\n"
     ]
    },
    {
     "name": "stdout",
     "output_type": "stream",
     "text": [
      "=== ProcessingStepConfigBase ===\n",
      "\n",
      "- Essential User Inputs -\n",
      "author: lukexie\n",
      "bucket: sandboxdependency-abuse-secureaisandboxteamshare-1l77v9am252um\n",
      "pipeline_version: 1.3.1\n",
      "region: NA\n",
      "role: arn:aws:iam::601857636239:role/SandboxRole-lukexie-us-east-1\n",
      "service_name: AtoZ\n",
      "\n",
      "- System Inputs -\n",
      "current_date: 2025-09-21\n",
      "framework_version: 1.7-1\n",
      "model_class: xgboost\n",
      "processing_framework_version: 1.2-1\n",
      "processing_instance_count: 1\n",
      "processing_instance_type_large: ml.m5.12xlarge\n",
      "processing_instance_type_small: ml.m5.4xlarge\n",
      "processing_source_dir: /home/ec2-user/SageMaker/Cursus/dockers/xgboost_atoz/scripts\n",
      "processing_volume_size: 500\n",
      "py_version: py3\n",
      "source_dir: /home/ec2-user/SageMaker/Cursus/dockers/xgboost_atoz\n",
      "use_large_processing_instance: False\n",
      "\n",
      "- Derived Fields -\n",
      "aws_region: us-east-1\n",
      "effective_instance_type: ml.m5.4xlarge\n",
      "effective_source_dir: dockers/xgboost_atoz/scripts\n",
      "model_extra: {}\n",
      "model_fields_set: {'processing_instance_type_small', 'region', 'role', 'processing_source_dir', 'model_class', 'pipeline_version', 'framework_version', 'bucket', 'current_date', 'py_version', 'processing_instance_type_large', 'source_dir', 'author', 'service_name'}\n",
      "pipeline_description: AtoZ xgboost Model NA\n",
      "pipeline_name: lukexie-AtoZ-xgboost-NA\n",
      "pipeline_s3_loc: s3://sandboxdependency-abuse-secureaisandboxteamshare-1l77v9am252um/MODS/lukexie-AtoZ-xgboost-NA_1.3.1\n",
      "portable_effective_source_dir: dockers/xgboost_atoz/scripts\n",
      "portable_processing_source_dir: dockers/xgboost_atoz/scripts\n",
      "portable_source_dir: dockers/xgboost_atoz\n",
      "script_contract: None\n",
      "script_path: None\n",
      "step_catalog: <cursus.step_catalog.step_catalog.StepCatalog object at 0x7f88af2cdc90>\n",
      "\n"
     ]
    }
   ],
   "source": [
    "print(str(processing_step_config))"
   ]
  },
  {
   "cell_type": "code",
   "execution_count": 70,
   "id": "2c65acc8-a2d4-475e-8736-74bd80dccf08",
   "metadata": {},
   "outputs": [
    {
     "data": {
      "text/plain": [
       "'/home/ec2-user/SageMaker/Cursus/dockers/xgboost_atoz'"
      ]
     },
     "execution_count": 70,
     "metadata": {},
     "output_type": "execute_result"
    }
   ],
   "source": [
    "processing_step_config.source_dir"
   ]
  },
  {
   "cell_type": "code",
   "execution_count": 71,
   "id": "d174b316-3830-4749-aeca-177260fe2e82",
   "metadata": {},
   "outputs": [
    {
     "data": {
      "text/plain": [
       "'dockers/xgboost_atoz'"
      ]
     },
     "execution_count": 71,
     "metadata": {},
     "output_type": "execute_result"
    }
   ],
   "source": [
    "processing_step_config.portable_source_dir"
   ]
  },
  {
   "cell_type": "code",
   "execution_count": 72,
   "id": "30ec9281-8631-4291-86d5-b3cf85ab3969",
   "metadata": {},
   "outputs": [
    {
     "data": {
      "text/plain": [
       "'/home/ec2-user/SageMaker/Cursus/dockers/xgboost_atoz/scripts'"
      ]
     },
     "execution_count": 72,
     "metadata": {},
     "output_type": "execute_result"
    }
   ],
   "source": [
    "processing_step_config.processing_source_dir"
   ]
  },
  {
   "cell_type": "code",
   "execution_count": 73,
   "id": "44cc5684-4d17-44b2-82c5-6ce190f1121c",
   "metadata": {},
   "outputs": [
    {
     "data": {
      "text/plain": [
       "'dockers/xgboost_atoz/scripts'"
      ]
     },
     "execution_count": 73,
     "metadata": {},
     "output_type": "execute_result"
    }
   ],
   "source": [
    "processing_step_config.portable_processing_source_dir"
   ]
  },
  {
   "cell_type": "markdown",
   "id": "b9060a7b-2575-4128-b9e7-734b8bc70dfd",
   "metadata": {},
   "source": [
    "#### Save to Config List"
   ]
  },
  {
   "cell_type": "code",
   "execution_count": 74,
   "id": "5d519579-ab56-4f4d-9bc8-1b5018404df4",
   "metadata": {
    "tags": []
   },
   "outputs": [],
   "source": [
    "# Save to config list\n",
    "config_list.append(processing_step_config)"
   ]
  },
  {
   "cell_type": "code",
   "execution_count": null,
   "id": "68d7a824-6cbe-4a8b-a19f-0a496b3e6a76",
   "metadata": {},
   "outputs": [],
   "source": []
  },
  {
   "cell_type": "markdown",
   "id": "b81d4349-fc28-44c0-9d8b-67555cc26b6f",
   "metadata": {},
   "source": [
    "### **REQUIRED: [STEP 1.0] Cradle Data Loading Config**\n",
    "\n",
    "In this section, user provide the input to construct a **cradle profile**. In Cradle Profle, there are **four** sections\n",
    "1. **Data Source Specification**: specify\n",
    "    1. *data source* (MDS, EDX, ANDES)\n",
    "    2. *input schema*\n",
    "2. **Transform Specification**: specifiy \n",
    "    1. *transform SQL*\n",
    "    2. *job split*\n",
    "3. **Output Specification**: specify\n",
    "    1. *output path*,\n",
    "    2. *ouptut format* (CSV, UNESCAPED_TSV, JSON, ION, PARQUET)\n",
    "    3. *output schema*\n",
    "    4. *save mode*\n",
    "4. **Cradle Job Specification** specify\n",
    "    1. *cradle account*\n",
    "    2. *cluster_type*\n",
    "\n",
    "This config is for **CradleDataLoadingStep**, which is a customized step provided under [SecureAISandboxWorkflowPythonSDK](https://code.amazon.com/packages/SecureAISandboxWorkflowPythonSDK/trees/mainline#)\n",
    "* This step inherit from **MODSPredefinedProcessingStep**, which is a customized base class that itself inherits from **ScriptProcessingStep**. Source code in [MODSWorkflowCore](https://code.amazon.com/packages/MODSWorkflowCore/trees/mainline#)\n",
    "* This step would need to load **Execution Document** to take action.\n",
    "* This step itself does not have many options"
   ]
  },
  {
   "cell_type": "code",
   "execution_count": 75,
   "id": "a231f596-2f9d-4a68-9523-b98161a1032c",
   "metadata": {
    "tags": []
   },
   "outputs": [],
   "source": [
    "from cursus.steps.configs.config_cradle_data_loading_step import (CradleDataLoadConfig,\n",
    "                                                    MdsDataSourceConfig,\n",
    "                                                    EdxDataSourceConfig,\n",
    "                                                    DataSourceConfig,\n",
    "                                                    DataSourcesSpecificationConfig,\n",
    "                                                    JobSplitOptionsConfig,\n",
    "                                                    TransformSpecificationConfig,\n",
    "                                                    OutputSpecificationConfig,\n",
    "                                                    CradleJobSpecificationConfig\n",
    "                                                   )"
   ]
  },
  {
   "cell_type": "code",
   "execution_count": 76,
   "id": "9e56a647-e66e-4779-b22f-e12fdc07749d",
   "metadata": {},
   "outputs": [],
   "source": [
    "from secure_ai_sandbox_workflow_python_sdk.utils.constants import (\n",
    "        OUTPUT_TYPE_DATA,\n",
    "        OUTPUT_TYPE_METADATA,\n",
    "        OUTPUT_TYPE_SIGNATURE,\n",
    "    )"
   ]
  },
  {
   "cell_type": "code",
   "execution_count": 77,
   "id": "ece95f47-6490-4236-82e1-6a217f687a59",
   "metadata": {},
   "outputs": [],
   "source": [
    "from cursus.core.config_fields.cradle_config_factory import create_cradle_data_load_config"
   ]
  },
  {
   "cell_type": "code",
   "execution_count": 78,
   "id": "baffcdc2-a87c-4d43-a014-b41204636a6d",
   "metadata": {},
   "outputs": [
    {
     "data": {
      "text/plain": [
       "'arn:aws:iam::601857636239:role/SandboxRole-lukexie-us-east-1'"
      ]
     },
     "execution_count": 78,
     "metadata": {},
     "output_type": "execute_result"
    }
   ],
   "source": [
    "role"
   ]
  },
  {
   "cell_type": "code",
   "execution_count": 79,
   "id": "a25db1b5-c72d-475e-bbea-fcd12c64767a",
   "metadata": {},
   "outputs": [
    {
     "data": {
      "text/plain": [
       "'NA'"
      ]
     },
     "execution_count": 79,
     "metadata": {},
     "output_type": "execute_result"
    }
   ],
   "source": [
    "region"
   ]
  },
  {
   "cell_type": "markdown",
   "id": "7d7ff3fa-8518-4f6a-b0ed-1d4ef85abe1e",
   "metadata": {},
   "source": [
    "#### [REQUIRED] 2.1.1 MDS Data Source "
   ]
  },
  {
   "cell_type": "code",
   "execution_count": 80,
   "id": "42520fbf-7e6c-487e-9b4f-e5e0724ccdf1",
   "metadata": {},
   "outputs": [],
   "source": [
    "mds_field_list=['objectId', \n",
    "                 'transactionDate'] + tab_field_list + cat_field_list"
   ]
  },
  {
   "cell_type": "code",
   "execution_count": 81,
   "id": "b5f1c32c-22b6-4264-aa1a-cfc250a75c92",
   "metadata": {},
   "outputs": [
    {
     "data": {
      "text/plain": [
       "['objectId',\n",
       " 'transactionDate',\n",
       " 'Abuse.abuse_fap_action_by_customer_inline_transform_na.n_claims_solicit_count_last_365_days',\n",
       " 'Abuse.abuse_fap_action_by_customer_inline_transform_na.n_claims_warn_count_last_365_days',\n",
       " 'Abuse.abuse_fap_action_by_customer_inline_transform_na.n_concession_solicit_count_last_365_days',\n",
       " 'Abuse.abuse_fap_action_by_customer_inline_transform_na.n_concession_warn_count_last_365_days',\n",
       " 'Abuse.bsm_stats_for_evaluated_mfn_concessions_by_customer_na.n_max_buyer_order_message_time_gap',\n",
       " 'Abuse.bsm_stats_for_evaluated_mfn_concessions_by_customer_na.n_max_order_message_time_gap',\n",
       " 'Abuse.bsm_stats_for_evaluated_mfn_concessions_by_customer_na.n_max_seller_order_message_time_gap',\n",
       " 'Abuse.bsm_stats_for_evaluated_mfn_concessions_by_customer_na.n_message_count_with_diff_topic_si',\n",
       " 'Abuse.bsm_stats_for_evaluated_mfn_concessions_by_customer_na.n_message_count_with_notr_topic_si',\n",
       " 'Abuse.bsm_stats_for_evaluated_mfn_concessions_by_customer_na.n_message_count_with_return_keywords_si',\n",
       " 'Abuse.bsm_stats_for_evaluated_mfn_concessions_by_customer_na.n_min_buyer_message_count',\n",
       " 'Abuse.bsm_stats_for_evaluated_mfn_concessions_by_customer_na.n_min_buyer_order_message_time_gap',\n",
       " 'Abuse.bsm_stats_for_evaluated_mfn_concessions_by_customer_na.n_min_message_count',\n",
       " 'Abuse.bsm_stats_for_evaluated_mfn_concessions_by_customer_na.n_min_order_message_time_gap',\n",
       " 'Abuse.bsm_stats_for_evaluated_mfn_concessions_by_customer_na.n_min_seller_message_count',\n",
       " 'Abuse.bsm_stats_for_evaluated_mfn_concessions_by_customer_na.n_min_seller_order_message_time_gap',\n",
       " 'Abuse.bsm_stats_for_evaluated_mfn_concessions_by_customer_na.n_total_buyer_message_count',\n",
       " 'Abuse.bsm_stats_for_evaluated_mfn_concessions_by_customer_na.n_total_message_count',\n",
       " 'Abuse.bsm_stats_for_evaluated_mfn_concessions_by_customer_na.n_total_seller_message_count',\n",
       " 'Abuse.bsm_stats_for_evaluated_mfn_concessions_by_customer_na.n_total_topic_count',\n",
       " 'Abuse.completed_afn_orders_by_customer_marketplace.n_afn_order_count_last_365_days',\n",
       " 'Abuse.completed_afn_orders_by_customer_marketplace.n_afn_unit_amount_last_365_days',\n",
       " 'Abuse.completed_afn_orders_by_customer_marketplace.n_afn_unit_count_last_365_days',\n",
       " 'Abuse.completed_mfn_orders_by_customer_marketplace.n_mfn_order_count_last_365_days',\n",
       " 'Abuse.completed_mfn_orders_by_customer_marketplace.n_mfn_unit_amount_last_365_days',\n",
       " 'Abuse.completed_mfn_orders_by_customer_marketplace.n_mfn_unit_count_last_365_days',\n",
       " 'Abuse.dnr_by_customer_marketplace.n_dnr_amount_si_last_365_days',\n",
       " 'Abuse.dnr_by_customer_marketplace.n_dnr_order_count_last_365_days',\n",
       " 'Abuse.dnr_by_customer_marketplace.n_dnr_unit_amount_last_365_days',\n",
       " 'Abuse.dnr_by_customer_marketplace.n_dnr_unit_count_last_365_days',\n",
       " 'Abuse.mfn_a2z_claims_by_customer_na.n_mfn_claims_amount_last_365_days',\n",
       " 'Abuse.mfn_a2z_claims_by_customer_na.n_mfn_claims_count_last_365_days',\n",
       " 'Abuse.mfn_a2z_claims_by_customer_na.n_mfn_diff_claims_amount_last_365_days',\n",
       " 'Abuse.mfn_a2z_claims_by_customer_na.n_mfn_diff_claims_count_last_365_days',\n",
       " 'Abuse.mfn_a2z_claims_by_customer_na.n_mfn_notr_claims_amount_last_365_days',\n",
       " 'Abuse.mfn_a2z_claims_by_customer_na.n_mfn_notr_claims_count_last_365_days',\n",
       " 'Abuse.mfn_categorized_refunds_by_customer_marketplace.n_mfn_diff_refunds_order_count_last_365_days',\n",
       " 'Abuse.mfn_categorized_refunds_by_customer_marketplace.n_mfn_diff_refunds_unit_amount_last_365_days',\n",
       " 'Abuse.mfn_categorized_refunds_by_customer_marketplace.n_mfn_diff_refunds_unit_count_last_365_days',\n",
       " 'Abuse.mfn_categorized_refunds_by_customer_marketplace.n_mfn_notr_refunds_order_count_last_365_days',\n",
       " 'Abuse.mfn_categorized_refunds_by_customer_marketplace.n_mfn_notr_refunds_unit_amount_last_365_days',\n",
       " 'Abuse.mfn_categorized_refunds_by_customer_marketplace.n_mfn_notr_refunds_unit_count_last_365_days',\n",
       " 'Abuse.mfn_categorized_refunds_si_by_customer_marketplace.n_mfn_diff_refunds_si_365_days',\n",
       " 'Abuse.mfn_categorized_refunds_si_by_customer_marketplace.n_mfn_notr_refunds_si_365_days',\n",
       " 'Abuse.mfn_refunds_by_customer_marketplace.n_mfn_refund_order_count_last_365_days',\n",
       " 'Abuse.mfn_refunds_by_customer_marketplace.n_mfn_refund_unit_amount_last_365_days',\n",
       " 'Abuse.mfn_refunds_by_customer_marketplace.n_mfn_refund_unit_count_last_365_days',\n",
       " 'Abuse.mfn_refunds_si_by_customer_marketplace.n_mfn_refund_amount_si_last_365_days',\n",
       " 'Abuse.order_to_execution_time_from_eventvariables.n_order_to_execution',\n",
       " 'Abuse.shiptrack_flag_by_order.n_any_delivered',\n",
       " 'Abuse.shiptrack_flag_by_order.n_any_available_for_pickup',\n",
       " 'Abuse.shiptrack_flag_by_order.n_any_partial_delivered',\n",
       " 'Abuse.shiptrack_flag_by_order.n_any_undeliverable',\n",
       " 'Abuse.shiptrack_flag_by_order.n_any_returning',\n",
       " 'Abuse.shiptrack_flag_by_order.n_any_returned',\n",
       " 'COMP_DAYOB',\n",
       " 'claimAmount_value',\n",
       " 'claimantInfo_allClaimCount365day',\n",
       " 'claimantInfo_lifetimeClaimCount',\n",
       " 'claimantInfo_pendingClaimCount',\n",
       " 'PAYMETH',\n",
       " 'claim_reason',\n",
       " 'claimantInfo_status',\n",
       " 'shipments_status']"
      ]
     },
     "execution_count": 81,
     "metadata": {},
     "output_type": "execute_result"
    }
   ],
   "source": [
    "mds_field_list"
   ]
  },
  {
   "cell_type": "code",
   "execution_count": 82,
   "id": "c04c7f59-b979-435c-be93-77e5dac34310",
   "metadata": {},
   "outputs": [],
   "source": [
    "training_start_datetime = '2025-01-01T00:00:00'  #'2024-12-01T00:00:00'  #'2024-03-01T00:00:00'\n",
    "training_end_datetime = '2025-04-17T00:00:00' "
   ]
  },
  {
   "cell_type": "code",
   "execution_count": 83,
   "id": "8731a1dd-38b4-43fd-ace3-8cc71f8a29d7",
   "metadata": {},
   "outputs": [],
   "source": [
    "calibration_start_datetime ='2025-04-17T00:00:00'  #'2024-05-26T00:00:00'\n",
    "calibration_end_datetime = '2025-04-28T00:00:00' #'2024-06-29T23:00:00'"
   ]
  },
  {
   "cell_type": "code",
   "execution_count": null,
   "id": "87aee46a-2236-49d6-ab25-1ebba1c0615f",
   "metadata": {},
   "outputs": [],
   "source": []
  },
  {
   "cell_type": "code",
   "execution_count": 84,
   "id": "a52b73d8-7254-4b58-a072-b062e7183dbf",
   "metadata": {},
   "outputs": [],
   "source": [
    "service_name = 'AtoZ'"
   ]
  },
  {
   "cell_type": "code",
   "execution_count": 85,
   "id": "45a19fd4-35d4-4eb2-8098-76a86d903735",
   "metadata": {},
   "outputs": [],
   "source": [
    "org_id=0"
   ]
  },
  {
   "cell_type": "markdown",
   "id": "bce6e0ca-5a25-45ce-b5be-587cb784ee13",
   "metadata": {},
   "source": [
    "#### [REQUIRED] 2.1.2 Tag EDX Data Source"
   ]
  },
  {
   "cell_type": "code",
   "execution_count": 86,
   "id": "f173b748-6238-4e67-b294-f5b717dc6a8e",
   "metadata": {},
   "outputs": [],
   "source": [
    "tag_edx_provider = \"trms-abuse-analytics\""
   ]
  },
  {
   "cell_type": "code",
   "execution_count": 87,
   "id": "fd9b18cc-464e-4f6b-b2b1-f8c35853a4f6",
   "metadata": {},
   "outputs": [],
   "source": [
    "tag_edx_subject = \"qingyuye-notr-exp\""
   ]
  },
  {
   "cell_type": "code",
   "execution_count": 88,
   "id": "000f84ac-4da5-4f57-8058-cc2832b59f6b",
   "metadata": {},
   "outputs": [],
   "source": [
    "tag_edx_dataset = \"atoz-tag\""
   ]
  },
  {
   "cell_type": "code",
   "execution_count": 89,
   "id": "31014e13-d2d8-4cd9-ba15-94ec48b14d76",
   "metadata": {},
   "outputs": [],
   "source": [
    "etl_job_id_dict = {\n",
    "    'NA': '24292902',\n",
    "    'EU': '24292941',\n",
    "    'FE': '25782074',\n",
    "}"
   ]
  },
  {
   "cell_type": "code",
   "execution_count": 90,
   "id": "70d05954-1ff8-4708-853e-f3e5647d92df",
   "metadata": {},
   "outputs": [
    {
     "data": {
      "text/plain": [
       "'24292902'"
      ]
     },
     "execution_count": 90,
     "metadata": {},
     "output_type": "execute_result"
    }
   ],
   "source": [
    "etl_job_id = etl_job_id_dict[region]\n",
    "etl_job_id"
   ]
  },
  {
   "cell_type": "code",
   "execution_count": 91,
   "id": "17a468f0-a257-41fc-a75f-5bc90635e836",
   "metadata": {},
   "outputs": [],
   "source": [
    "tag_schema = [\n",
    "    'order_id',\n",
    "    'marketplace_id',\n",
    "    'tag_date',\n",
    "    'is_abuse',\n",
    "    'abuse_type',\n",
    "    'concession_type',\n",
    "]"
   ]
  },
  {
   "cell_type": "code",
   "execution_count": null,
   "id": "b5be7a4f-cde5-4619-9f29-aaafa15881e4",
   "metadata": {},
   "outputs": [],
   "source": []
  },
  {
   "cell_type": "code",
   "execution_count": null,
   "id": "580efeb3-5fbf-4630-a816-b1a8bf2b4f14",
   "metadata": {},
   "outputs": [],
   "source": []
  },
  {
   "cell_type": "markdown",
   "id": "68d54609-4d5b-455f-997a-1c0de5acef45",
   "metadata": {},
   "source": [
    "tag_edx_provider = \"trms-abuse-analytics\"\n",
    "tag_edx_subject = \"pre-delivery\"\n",
    "tag_edx_dataset = \"otf\""
   ]
  },
  {
   "cell_type": "code",
   "execution_count": 92,
   "id": "fcbd65a0-3785-47f3-89ff-458b63dfea8f",
   "metadata": {},
   "outputs": [
    {
     "data": {
      "text/plain": [
       "'NA'"
      ]
     },
     "execution_count": 92,
     "metadata": {},
     "output_type": "execute_result"
    }
   ],
   "source": [
    "edx_manifest_comment = region\n",
    "edx_manifest_comment"
   ]
  },
  {
   "cell_type": "code",
   "execution_count": null,
   "id": "71f0de3c-fd10-484a-a1f8-ccec9e33eddf",
   "metadata": {},
   "outputs": [],
   "source": []
  },
  {
   "cell_type": "markdown",
   "id": "a0c97a20-3f83-45e2-b98d-1a7b887ee9ef",
   "metadata": {},
   "source": [
    "etl_job_id = '28480724'"
   ]
  },
  {
   "cell_type": "markdown",
   "id": "19ee5074-c806-44f0-9091-4f6bb3dc3473",
   "metadata": {},
   "source": [
    "tag_schema = [\n",
    "    'order_id',\n",
    "    'customerid',\n",
    "    'marketplace_id',\n",
    "    'order_fulfillment_network',\n",
    "    'transactiondate',\n",
    "    'finaldecision',\n",
    "    'order_total',\n",
    "    'is_pda_conceded_order_afn',\n",
    "    'is_abuse_pda_afn',\n",
    "    'is_refund_denied_order',\n",
    "    'is_cap_denied_order',\n",
    "    'is_chargeback_order_afn',\n",
    "    'is_conceded_order',\n",
    "    'is_enforced_customer',\n",
    "    'has_pda_concession',\n",
    "    'has_pda_abuse',\n",
    "    'random_number'\n",
    "]"
   ]
  },
  {
   "cell_type": "code",
   "execution_count": null,
   "id": "b2a317e4-860e-416f-82b9-4845f0260cb5",
   "metadata": {},
   "outputs": [],
   "source": []
  },
  {
   "cell_type": "markdown",
   "id": "ff094794-87f0-4eac-b7c3-9214da5c70bf",
   "metadata": {},
   "source": [
    "#### [REQUIRED] 2.2 Output Specification"
   ]
  },
  {
   "cell_type": "markdown",
   "id": "fc746286-1470-4113-ad17-38d24bc97535",
   "metadata": {},
   "source": [
    "`output_format_list=[\"CSV\",\"UNESCAPED_TSV\",\"JSON\",\"ION\",\"PARQUET\"]`"
   ]
  },
  {
   "cell_type": "code",
   "execution_count": 93,
   "id": "b4f93018-4e33-425e-8db6-31f8ea5035e0",
   "metadata": {},
   "outputs": [],
   "source": [
    "output_format = \"PARQUET\""
   ]
  },
  {
   "cell_type": "markdown",
   "id": "39346a8c-f310-4cc1-b780-6543bf51faee",
   "metadata": {},
   "source": [
    "#### [REQUIRED] 2.3 Transform Specification"
   ]
  },
  {
   "cell_type": "markdown",
   "id": "910d63c8-27b5-4b6f-bc7a-98ace12a3032",
   "metadata": {},
   "source": [
    "#### [REQUIRED] 2.4 Cradle Job Specification"
   ]
  },
  {
   "cell_type": "code",
   "execution_count": 94,
   "id": "228d9e32-39e6-4e27-942d-51adad29d50d",
   "metadata": {},
   "outputs": [
    {
     "data": {
      "text/plain": [
       "'us-east-1'"
      ]
     },
     "execution_count": 94,
     "metadata": {},
     "output_type": "execute_result"
    }
   ],
   "source": [
    "aws_region"
   ]
  },
  {
   "cell_type": "code",
   "execution_count": 95,
   "id": "a3ed02c2-cac3-47be-8263-8e26f8869ed4",
   "metadata": {},
   "outputs": [],
   "source": [
    "cradle_account = 'Buyer-Abuse-RnD-Dev'"
   ]
  },
  {
   "cell_type": "code",
   "execution_count": 96,
   "id": "4caff0a1-bf88-4b67-a776-5838ef5af0f2",
   "metadata": {},
   "outputs": [
    {
     "data": {
      "text/plain": [
       "'2025-09-21'"
      ]
     },
     "execution_count": 96,
     "metadata": {},
     "output_type": "execute_result"
    }
   ],
   "source": [
    "current_date"
   ]
  },
  {
   "cell_type": "code",
   "execution_count": 97,
   "id": "8f4af1a8-26c7-4bbc-ad6f-d78e7d4b1fd7",
   "metadata": {},
   "outputs": [],
   "source": [
    "available_cluster_types = ['STANDARD',\n",
    "                           'SMALL',\n",
    "                           'MEDIUM',\n",
    "                           'LARGE'\n",
    "                          ]"
   ]
  },
  {
   "cell_type": "code",
   "execution_count": 98,
   "id": "b8242e90-6432-405f-8de6-1d1692973602",
   "metadata": {},
   "outputs": [],
   "source": [
    "cluster_choice=-2"
   ]
  },
  {
   "cell_type": "code",
   "execution_count": 99,
   "id": "766e24b5-9b42-494f-8410-a700ce761e53",
   "metadata": {},
   "outputs": [
    {
     "data": {
      "text/plain": [
       "'MEDIUM'"
      ]
     },
     "execution_count": 99,
     "metadata": {},
     "output_type": "execute_result"
    }
   ],
   "source": [
    "cluster_type=available_cluster_types[cluster_choice]\n",
    "cluster_type"
   ]
  },
  {
   "cell_type": "code",
   "execution_count": 100,
   "id": "06d81ee1-9f99-4bfa-bfde-354f316bb9d9",
   "metadata": {},
   "outputs": [
    {
     "data": {
      "text/plain": [
       "BasePipelineConfig(author='lukexie', bucket='sandboxdependency-abuse-secureaisandboxteamshare-1l77v9am252um', role='arn:aws:iam::601857636239:role/SandboxRole-lukexie-us-east-1', region='NA', service_name='AtoZ', pipeline_version='1.3.1', model_class='xgboost', current_date='2025-09-21', framework_version='1.7-1', py_version='py3', source_dir='/home/ec2-user/SageMaker/Cursus/dockers/xgboost_atoz', aws_region='us-east-1')"
      ]
     },
     "execution_count": 100,
     "metadata": {},
     "output_type": "execute_result"
    }
   ],
   "source": [
    "base_config"
   ]
  },
  {
   "cell_type": "markdown",
   "id": "d5bd7ca1-4be5-4e86-804c-866c01bbd0a7",
   "metadata": {},
   "source": [
    "#### Assemble Cradle Data Load Config (for Training, Test) via Cradle Config Factory"
   ]
  },
  {
   "cell_type": "code",
   "execution_count": 101,
   "id": "96487e38-9220-47fa-a970-07d73b1f4c33",
   "metadata": {},
   "outputs": [],
   "source": [
    "training_cradle_data_load_config = create_cradle_data_load_config(\n",
    "    # Base pipeline essentials\n",
    "    base_config=base_config,\n",
    "    # Job configuration\n",
    "    job_type='training',\n",
    "    \n",
    "    # MDS field list (direct fields to include)\n",
    "    mds_field_list=mds_field_list,\n",
    "    \n",
    "    # Data timeframe\n",
    "    start_date=training_start_datetime,\n",
    "    end_date=training_end_datetime,\n",
    "    \n",
    "    # MDS data source\n",
    "    service_name=service_name,\n",
    "    \n",
    "    # EDX data source\n",
    "    tag_edx_provider=tag_edx_provider,\n",
    "    tag_edx_subject=tag_edx_subject,\n",
    "    tag_edx_dataset=tag_edx_dataset,\n",
    "    etl_job_id=etl_job_id,\n",
    "    \n",
    "    # Infrastructure configuration\n",
    "    cradle_account=cradle_account,\n",
    "    org_id=org_id,\n",
    "    edx_manifest_comment=edx_manifest_comment,\n",
    "    \n",
    "    \n",
    "    # Optional overrides with reasonable defaults\n",
    "    cluster_type=cluster_type,\n",
    "    output_format= output_format,\n",
    "    output_save_mode=\"ERRORIFEXISTS\",\n",
    "    #transform_sql=training_transform_sql,\n",
    "    use_dedup_sql=True,\n",
    "    tag_schema=tag_schema,\n",
    "    \n",
    "    # Join configuration\n",
    "    mds_join_key= 'objectId',\n",
    "    edx_join_key= 'order_id',\n",
    "    join_type= 'JOIN'\n",
    ")"
   ]
  },
  {
   "cell_type": "code",
   "execution_count": null,
   "id": "16ad1a44-ad66-42e4-92a4-f24d463cc8d6",
   "metadata": {},
   "outputs": [],
   "source": []
  },
  {
   "cell_type": "code",
   "execution_count": 102,
   "id": "4e691e05-1efe-42e7-9868-2ab4bd4adc85",
   "metadata": {
    "scrolled": true
   },
   "outputs": [
    {
     "name": "stdout",
     "output_type": "stream",
     "text": [
      "\n",
      "SELECT\n",
      "    Abuse__DOT__abuse_fap_action_by_customer_inline_transform_na__DOT__n_claims_solicit_count_last_365_days,\n",
      "    Abuse__DOT__abuse_fap_action_by_customer_inline_transform_na__DOT__n_claims_warn_count_last_365_days,\n",
      "    Abuse__DOT__abuse_fap_action_by_customer_inline_transform_na__DOT__n_concession_solicit_count_last_365_days,\n",
      "    Abuse__DOT__abuse_fap_action_by_customer_inline_transform_na__DOT__n_concession_warn_count_last_365_days,\n",
      "    Abuse__DOT__bsm_stats_for_evaluated_mfn_concessions_by_customer_na__DOT__n_max_buyer_order_message_time_gap,\n",
      "    Abuse__DOT__bsm_stats_for_evaluated_mfn_concessions_by_customer_na__DOT__n_max_order_message_time_gap,\n",
      "    Abuse__DOT__bsm_stats_for_evaluated_mfn_concessions_by_customer_na__DOT__n_max_seller_order_message_time_gap,\n",
      "    Abuse__DOT__bsm_stats_for_evaluated_mfn_concessions_by_customer_na__DOT__n_message_count_with_diff_topic_si,\n",
      "    Abuse__DOT__bsm_stats_for_evaluated_mfn_concessions_by_customer_na__DOT__n_message_count_with_notr_topic_si,\n",
      "    Abuse__DOT__bsm_stats_for_evaluated_mfn_concessions_by_customer_na__DOT__n_message_count_with_return_keywords_si,\n",
      "    Abuse__DOT__bsm_stats_for_evaluated_mfn_concessions_by_customer_na__DOT__n_min_buyer_message_count,\n",
      "    Abuse__DOT__bsm_stats_for_evaluated_mfn_concessions_by_customer_na__DOT__n_min_buyer_order_message_time_gap,\n",
      "    Abuse__DOT__bsm_stats_for_evaluated_mfn_concessions_by_customer_na__DOT__n_min_message_count,\n",
      "    Abuse__DOT__bsm_stats_for_evaluated_mfn_concessions_by_customer_na__DOT__n_min_order_message_time_gap,\n",
      "    Abuse__DOT__bsm_stats_for_evaluated_mfn_concessions_by_customer_na__DOT__n_min_seller_message_count,\n",
      "    Abuse__DOT__bsm_stats_for_evaluated_mfn_concessions_by_customer_na__DOT__n_min_seller_order_message_time_gap,\n",
      "    Abuse__DOT__bsm_stats_for_evaluated_mfn_concessions_by_customer_na__DOT__n_total_buyer_message_count,\n",
      "    Abuse__DOT__bsm_stats_for_evaluated_mfn_concessions_by_customer_na__DOT__n_total_message_count,\n",
      "    Abuse__DOT__bsm_stats_for_evaluated_mfn_concessions_by_customer_na__DOT__n_total_seller_message_count,\n",
      "    Abuse__DOT__bsm_stats_for_evaluated_mfn_concessions_by_customer_na__DOT__n_total_topic_count,\n",
      "    Abuse__DOT__completed_afn_orders_by_customer_marketplace__DOT__n_afn_order_count_last_365_days,\n",
      "    Abuse__DOT__completed_afn_orders_by_customer_marketplace__DOT__n_afn_unit_amount_last_365_days,\n",
      "    Abuse__DOT__completed_afn_orders_by_customer_marketplace__DOT__n_afn_unit_count_last_365_days,\n",
      "    Abuse__DOT__completed_mfn_orders_by_customer_marketplace__DOT__n_mfn_order_count_last_365_days,\n",
      "    Abuse__DOT__completed_mfn_orders_by_customer_marketplace__DOT__n_mfn_unit_amount_last_365_days,\n",
      "    Abuse__DOT__completed_mfn_orders_by_customer_marketplace__DOT__n_mfn_unit_count_last_365_days,\n",
      "    Abuse__DOT__dnr_by_customer_marketplace__DOT__n_dnr_amount_si_last_365_days,\n",
      "    Abuse__DOT__dnr_by_customer_marketplace__DOT__n_dnr_order_count_last_365_days,\n",
      "    Abuse__DOT__dnr_by_customer_marketplace__DOT__n_dnr_unit_amount_last_365_days,\n",
      "    Abuse__DOT__dnr_by_customer_marketplace__DOT__n_dnr_unit_count_last_365_days,\n",
      "    Abuse__DOT__mfn_a2z_claims_by_customer_na__DOT__n_mfn_claims_amount_last_365_days,\n",
      "    Abuse__DOT__mfn_a2z_claims_by_customer_na__DOT__n_mfn_claims_count_last_365_days,\n",
      "    Abuse__DOT__mfn_a2z_claims_by_customer_na__DOT__n_mfn_diff_claims_amount_last_365_days,\n",
      "    Abuse__DOT__mfn_a2z_claims_by_customer_na__DOT__n_mfn_diff_claims_count_last_365_days,\n",
      "    Abuse__DOT__mfn_a2z_claims_by_customer_na__DOT__n_mfn_notr_claims_amount_last_365_days,\n",
      "    Abuse__DOT__mfn_a2z_claims_by_customer_na__DOT__n_mfn_notr_claims_count_last_365_days,\n",
      "    Abuse__DOT__mfn_categorized_refunds_by_customer_marketplace__DOT__n_mfn_diff_refunds_order_count_last_365_days,\n",
      "    Abuse__DOT__mfn_categorized_refunds_by_customer_marketplace__DOT__n_mfn_diff_refunds_unit_amount_last_365_days,\n",
      "    Abuse__DOT__mfn_categorized_refunds_by_customer_marketplace__DOT__n_mfn_diff_refunds_unit_count_last_365_days,\n",
      "    Abuse__DOT__mfn_categorized_refunds_by_customer_marketplace__DOT__n_mfn_notr_refunds_order_count_last_365_days,\n",
      "    Abuse__DOT__mfn_categorized_refunds_by_customer_marketplace__DOT__n_mfn_notr_refunds_unit_amount_last_365_days,\n",
      "    Abuse__DOT__mfn_categorized_refunds_by_customer_marketplace__DOT__n_mfn_notr_refunds_unit_count_last_365_days,\n",
      "    Abuse__DOT__mfn_categorized_refunds_si_by_customer_marketplace__DOT__n_mfn_diff_refunds_si_365_days,\n",
      "    Abuse__DOT__mfn_categorized_refunds_si_by_customer_marketplace__DOT__n_mfn_notr_refunds_si_365_days,\n",
      "    Abuse__DOT__mfn_refunds_by_customer_marketplace__DOT__n_mfn_refund_order_count_last_365_days,\n",
      "    Abuse__DOT__mfn_refunds_by_customer_marketplace__DOT__n_mfn_refund_unit_amount_last_365_days,\n",
      "    Abuse__DOT__mfn_refunds_by_customer_marketplace__DOT__n_mfn_refund_unit_count_last_365_days,\n",
      "    Abuse__DOT__mfn_refunds_si_by_customer_marketplace__DOT__n_mfn_refund_amount_si_last_365_days,\n",
      "    Abuse__DOT__order_to_execution_time_from_eventvariables__DOT__n_order_to_execution,\n",
      "    Abuse__DOT__shiptrack_flag_by_order__DOT__n_any_available_for_pickup,\n",
      "    Abuse__DOT__shiptrack_flag_by_order__DOT__n_any_delivered,\n",
      "    Abuse__DOT__shiptrack_flag_by_order__DOT__n_any_partial_delivered,\n",
      "    Abuse__DOT__shiptrack_flag_by_order__DOT__n_any_returned,\n",
      "    Abuse__DOT__shiptrack_flag_by_order__DOT__n_any_returning,\n",
      "    Abuse__DOT__shiptrack_flag_by_order__DOT__n_any_undeliverable,\n",
      "    COMP_DAYOB,\n",
      "    PAYMETH,\n",
      "    abuse_type,\n",
      "    claimAmount_value,\n",
      "    claim_reason,\n",
      "    claimantInfo_allClaimCount365day,\n",
      "    claimantInfo_lifetimeClaimCount,\n",
      "    claimantInfo_pendingClaimCount,\n",
      "    claimantInfo_status,\n",
      "    concession_type,\n",
      "    is_abuse,\n",
      "    marketplace_id,\n",
      "    objectId,\n",
      "    order_id,\n",
      "    shipments_status,\n",
      "    tag_date,\n",
      "    transactionDate\n",
      "FROM (\n",
      "    SELECT\n",
      "        RAW_MDS_NA.Abuse__DOT__abuse_fap_action_by_customer_inline_transform_na__DOT__n_claims_solicit_count_last_365_days,\n",
      "        RAW_MDS_NA.Abuse__DOT__abuse_fap_action_by_customer_inline_transform_na__DOT__n_claims_warn_count_last_365_days,\n",
      "        RAW_MDS_NA.Abuse__DOT__abuse_fap_action_by_customer_inline_transform_na__DOT__n_concession_solicit_count_last_365_days,\n",
      "        RAW_MDS_NA.Abuse__DOT__abuse_fap_action_by_customer_inline_transform_na__DOT__n_concession_warn_count_last_365_days,\n",
      "        RAW_MDS_NA.Abuse__DOT__bsm_stats_for_evaluated_mfn_concessions_by_customer_na__DOT__n_max_buyer_order_message_time_gap,\n",
      "        RAW_MDS_NA.Abuse__DOT__bsm_stats_for_evaluated_mfn_concessions_by_customer_na__DOT__n_max_order_message_time_gap,\n",
      "        RAW_MDS_NA.Abuse__DOT__bsm_stats_for_evaluated_mfn_concessions_by_customer_na__DOT__n_max_seller_order_message_time_gap,\n",
      "        RAW_MDS_NA.Abuse__DOT__bsm_stats_for_evaluated_mfn_concessions_by_customer_na__DOT__n_message_count_with_diff_topic_si,\n",
      "        RAW_MDS_NA.Abuse__DOT__bsm_stats_for_evaluated_mfn_concessions_by_customer_na__DOT__n_message_count_with_notr_topic_si,\n",
      "        RAW_MDS_NA.Abuse__DOT__bsm_stats_for_evaluated_mfn_concessions_by_customer_na__DOT__n_message_count_with_return_keywords_si,\n",
      "        RAW_MDS_NA.Abuse__DOT__bsm_stats_for_evaluated_mfn_concessions_by_customer_na__DOT__n_min_buyer_message_count,\n",
      "        RAW_MDS_NA.Abuse__DOT__bsm_stats_for_evaluated_mfn_concessions_by_customer_na__DOT__n_min_buyer_order_message_time_gap,\n",
      "        RAW_MDS_NA.Abuse__DOT__bsm_stats_for_evaluated_mfn_concessions_by_customer_na__DOT__n_min_message_count,\n",
      "        RAW_MDS_NA.Abuse__DOT__bsm_stats_for_evaluated_mfn_concessions_by_customer_na__DOT__n_min_order_message_time_gap,\n",
      "        RAW_MDS_NA.Abuse__DOT__bsm_stats_for_evaluated_mfn_concessions_by_customer_na__DOT__n_min_seller_message_count,\n",
      "        RAW_MDS_NA.Abuse__DOT__bsm_stats_for_evaluated_mfn_concessions_by_customer_na__DOT__n_min_seller_order_message_time_gap,\n",
      "        RAW_MDS_NA.Abuse__DOT__bsm_stats_for_evaluated_mfn_concessions_by_customer_na__DOT__n_total_buyer_message_count,\n",
      "        RAW_MDS_NA.Abuse__DOT__bsm_stats_for_evaluated_mfn_concessions_by_customer_na__DOT__n_total_message_count,\n",
      "        RAW_MDS_NA.Abuse__DOT__bsm_stats_for_evaluated_mfn_concessions_by_customer_na__DOT__n_total_seller_message_count,\n",
      "        RAW_MDS_NA.Abuse__DOT__bsm_stats_for_evaluated_mfn_concessions_by_customer_na__DOT__n_total_topic_count,\n",
      "        RAW_MDS_NA.Abuse__DOT__completed_afn_orders_by_customer_marketplace__DOT__n_afn_order_count_last_365_days,\n",
      "        RAW_MDS_NA.Abuse__DOT__completed_afn_orders_by_customer_marketplace__DOT__n_afn_unit_amount_last_365_days,\n",
      "        RAW_MDS_NA.Abuse__DOT__completed_afn_orders_by_customer_marketplace__DOT__n_afn_unit_count_last_365_days,\n",
      "        RAW_MDS_NA.Abuse__DOT__completed_mfn_orders_by_customer_marketplace__DOT__n_mfn_order_count_last_365_days,\n",
      "        RAW_MDS_NA.Abuse__DOT__completed_mfn_orders_by_customer_marketplace__DOT__n_mfn_unit_amount_last_365_days,\n",
      "        RAW_MDS_NA.Abuse__DOT__completed_mfn_orders_by_customer_marketplace__DOT__n_mfn_unit_count_last_365_days,\n",
      "        RAW_MDS_NA.Abuse__DOT__dnr_by_customer_marketplace__DOT__n_dnr_amount_si_last_365_days,\n",
      "        RAW_MDS_NA.Abuse__DOT__dnr_by_customer_marketplace__DOT__n_dnr_order_count_last_365_days,\n",
      "        RAW_MDS_NA.Abuse__DOT__dnr_by_customer_marketplace__DOT__n_dnr_unit_amount_last_365_days,\n",
      "        RAW_MDS_NA.Abuse__DOT__dnr_by_customer_marketplace__DOT__n_dnr_unit_count_last_365_days,\n",
      "        RAW_MDS_NA.Abuse__DOT__mfn_a2z_claims_by_customer_na__DOT__n_mfn_claims_amount_last_365_days,\n",
      "        RAW_MDS_NA.Abuse__DOT__mfn_a2z_claims_by_customer_na__DOT__n_mfn_claims_count_last_365_days,\n",
      "        RAW_MDS_NA.Abuse__DOT__mfn_a2z_claims_by_customer_na__DOT__n_mfn_diff_claims_amount_last_365_days,\n",
      "        RAW_MDS_NA.Abuse__DOT__mfn_a2z_claims_by_customer_na__DOT__n_mfn_diff_claims_count_last_365_days,\n",
      "        RAW_MDS_NA.Abuse__DOT__mfn_a2z_claims_by_customer_na__DOT__n_mfn_notr_claims_amount_last_365_days,\n",
      "        RAW_MDS_NA.Abuse__DOT__mfn_a2z_claims_by_customer_na__DOT__n_mfn_notr_claims_count_last_365_days,\n",
      "        RAW_MDS_NA.Abuse__DOT__mfn_categorized_refunds_by_customer_marketplace__DOT__n_mfn_diff_refunds_order_count_last_365_days,\n",
      "        RAW_MDS_NA.Abuse__DOT__mfn_categorized_refunds_by_customer_marketplace__DOT__n_mfn_diff_refunds_unit_amount_last_365_days,\n",
      "        RAW_MDS_NA.Abuse__DOT__mfn_categorized_refunds_by_customer_marketplace__DOT__n_mfn_diff_refunds_unit_count_last_365_days,\n",
      "        RAW_MDS_NA.Abuse__DOT__mfn_categorized_refunds_by_customer_marketplace__DOT__n_mfn_notr_refunds_order_count_last_365_days,\n",
      "        RAW_MDS_NA.Abuse__DOT__mfn_categorized_refunds_by_customer_marketplace__DOT__n_mfn_notr_refunds_unit_amount_last_365_days,\n",
      "        RAW_MDS_NA.Abuse__DOT__mfn_categorized_refunds_by_customer_marketplace__DOT__n_mfn_notr_refunds_unit_count_last_365_days,\n",
      "        RAW_MDS_NA.Abuse__DOT__mfn_categorized_refunds_si_by_customer_marketplace__DOT__n_mfn_diff_refunds_si_365_days,\n",
      "        RAW_MDS_NA.Abuse__DOT__mfn_categorized_refunds_si_by_customer_marketplace__DOT__n_mfn_notr_refunds_si_365_days,\n",
      "        RAW_MDS_NA.Abuse__DOT__mfn_refunds_by_customer_marketplace__DOT__n_mfn_refund_order_count_last_365_days,\n",
      "        RAW_MDS_NA.Abuse__DOT__mfn_refunds_by_customer_marketplace__DOT__n_mfn_refund_unit_amount_last_365_days,\n",
      "        RAW_MDS_NA.Abuse__DOT__mfn_refunds_by_customer_marketplace__DOT__n_mfn_refund_unit_count_last_365_days,\n",
      "        RAW_MDS_NA.Abuse__DOT__mfn_refunds_si_by_customer_marketplace__DOT__n_mfn_refund_amount_si_last_365_days,\n",
      "        RAW_MDS_NA.Abuse__DOT__order_to_execution_time_from_eventvariables__DOT__n_order_to_execution,\n",
      "        RAW_MDS_NA.Abuse__DOT__shiptrack_flag_by_order__DOT__n_any_available_for_pickup,\n",
      "        RAW_MDS_NA.Abuse__DOT__shiptrack_flag_by_order__DOT__n_any_delivered,\n",
      "        RAW_MDS_NA.Abuse__DOT__shiptrack_flag_by_order__DOT__n_any_partial_delivered,\n",
      "        RAW_MDS_NA.Abuse__DOT__shiptrack_flag_by_order__DOT__n_any_returned,\n",
      "        RAW_MDS_NA.Abuse__DOT__shiptrack_flag_by_order__DOT__n_any_returning,\n",
      "        RAW_MDS_NA.Abuse__DOT__shiptrack_flag_by_order__DOT__n_any_undeliverable,\n",
      "        RAW_MDS_NA.COMP_DAYOB,\n",
      "        RAW_MDS_NA.PAYMETH,\n",
      "        RAW_MDS_NA.claimAmount_value,\n",
      "        RAW_MDS_NA.claim_reason,\n",
      "        RAW_MDS_NA.claimantInfo_allClaimCount365day,\n",
      "        RAW_MDS_NA.claimantInfo_lifetimeClaimCount,\n",
      "        RAW_MDS_NA.claimantInfo_pendingClaimCount,\n",
      "        RAW_MDS_NA.claimantInfo_status,\n",
      "        RAW_MDS_NA.objectId,\n",
      "        RAW_MDS_NA.shipments_status,\n",
      "        RAW_MDS_NA.transactionDate,\n",
      "        TAGS.abuse_type,\n",
      "        TAGS.concession_type,\n",
      "        TAGS.is_abuse,\n",
      "        TAGS.marketplace_id,\n",
      "        TAGS.order_id,\n",
      "        TAGS.tag_date,\n",
      "        ROW_NUMBER() OVER (PARTITION BY RAW_MDS_NA.objectId, TAGS.order_id ORDER BY RAW_MDS_NA.transactionDate DESC) as row_num\n",
      "    FROM RAW_MDS_NA\n",
      "    JOIN TAGS ON RAW_MDS_NA.objectId = TAGS.order_id\n",
      ")\n",
      "WHERE row_num = 1\n",
      "\n"
     ]
    }
   ],
   "source": [
    "print(training_cradle_data_load_config.transform_spec.transform_sql)"
   ]
  },
  {
   "cell_type": "code",
   "execution_count": 103,
   "id": "5e637990-7181-4c7b-844b-45835dcd5e5b",
   "metadata": {
    "scrolled": true
   },
   "outputs": [
    {
     "name": "stdout",
     "output_type": "stream",
     "text": [
      "data_source_name='RAW_MDS_NA' data_source_type='MDS' mds_data_source_properties=MdsDataSourceConfig(service_name='AtoZ', region='NA', output_schema=[{'field_name': 'Abuse.completed_mfn_orders_by_customer_marketplace.n_mfn_unit_count_last_365_days', 'field_type': 'STRING'}, {'field_name': 'Abuse.bsm_stats_for_evaluated_mfn_concessions_by_customer_na.n_min_buyer_message_count', 'field_type': 'STRING'}, {'field_name': 'Abuse.shiptrack_flag_by_order.n_any_returned', 'field_type': 'STRING'}, {'field_name': 'Abuse.completed_afn_orders_by_customer_marketplace.n_afn_unit_count_last_365_days', 'field_type': 'STRING'}, {'field_name': 'Abuse.bsm_stats_for_evaluated_mfn_concessions_by_customer_na.n_max_order_message_time_gap', 'field_type': 'STRING'}, {'field_name': 'Abuse.shiptrack_flag_by_order.n_any_available_for_pickup', 'field_type': 'STRING'}, {'field_name': 'transactionDate', 'field_type': 'STRING'}, {'field_name': 'Abuse.abuse_fap_action_by_customer_inline_transform_na.n_concession_solicit_count_last_365_days', 'field_type': 'STRING'}, {'field_name': 'Abuse.mfn_categorized_refunds_by_customer_marketplace.n_mfn_diff_refunds_order_count_last_365_days', 'field_type': 'STRING'}, {'field_name': 'Abuse.mfn_categorized_refunds_si_by_customer_marketplace.n_mfn_notr_refunds_si_365_days', 'field_type': 'STRING'}, {'field_name': 'Abuse.bsm_stats_for_evaluated_mfn_concessions_by_customer_na.n_total_topic_count', 'field_type': 'STRING'}, {'field_name': 'claimantInfo_status', 'field_type': 'STRING'}, {'field_name': 'Abuse.completed_afn_orders_by_customer_marketplace.n_afn_order_count_last_365_days', 'field_type': 'STRING'}, {'field_name': 'Abuse.mfn_categorized_refunds_si_by_customer_marketplace.n_mfn_diff_refunds_si_365_days', 'field_type': 'STRING'}, {'field_name': 'Abuse.abuse_fap_action_by_customer_inline_transform_na.n_concession_warn_count_last_365_days', 'field_type': 'STRING'}, {'field_name': 'Abuse.mfn_refunds_by_customer_marketplace.n_mfn_refund_unit_amount_last_365_days', 'field_type': 'STRING'}, {'field_name': 'Abuse.bsm_stats_for_evaluated_mfn_concessions_by_customer_na.n_min_buyer_order_message_time_gap', 'field_type': 'STRING'}, {'field_name': 'Abuse.bsm_stats_for_evaluated_mfn_concessions_by_customer_na.n_total_seller_message_count', 'field_type': 'STRING'}, {'field_name': 'Abuse.mfn_a2z_claims_by_customer_na.n_mfn_claims_count_last_365_days', 'field_type': 'STRING'}, {'field_name': 'Abuse.mfn_refunds_by_customer_marketplace.n_mfn_refund_order_count_last_365_days', 'field_type': 'STRING'}, {'field_name': 'Abuse.bsm_stats_for_evaluated_mfn_concessions_by_customer_na.n_max_buyer_order_message_time_gap', 'field_type': 'STRING'}, {'field_name': 'Abuse.completed_afn_orders_by_customer_marketplace.n_afn_unit_amount_last_365_days', 'field_type': 'STRING'}, {'field_name': 'Abuse.completed_mfn_orders_by_customer_marketplace.n_mfn_order_count_last_365_days', 'field_type': 'STRING'}, {'field_name': 'Abuse.mfn_a2z_claims_by_customer_na.n_mfn_notr_claims_amount_last_365_days', 'field_type': 'STRING'}, {'field_name': 'COMP_DAYOB', 'field_type': 'STRING'}, {'field_name': 'Abuse.mfn_categorized_refunds_by_customer_marketplace.n_mfn_notr_refunds_unit_amount_last_365_days', 'field_type': 'STRING'}, {'field_name': 'Abuse.dnr_by_customer_marketplace.n_dnr_amount_si_last_365_days', 'field_type': 'STRING'}, {'field_name': 'Abuse.mfn_categorized_refunds_by_customer_marketplace.n_mfn_notr_refunds_order_count_last_365_days', 'field_type': 'STRING'}, {'field_name': 'Abuse.mfn_refunds_si_by_customer_marketplace.n_mfn_refund_amount_si_last_365_days', 'field_type': 'STRING'}, {'field_name': 'Abuse.bsm_stats_for_evaluated_mfn_concessions_by_customer_na.n_total_message_count', 'field_type': 'STRING'}, {'field_name': 'shipments_status', 'field_type': 'STRING'}, {'field_name': 'Abuse.completed_mfn_orders_by_customer_marketplace.n_mfn_unit_amount_last_365_days', 'field_type': 'STRING'}, {'field_name': 'Abuse.bsm_stats_for_evaluated_mfn_concessions_by_customer_na.n_max_seller_order_message_time_gap', 'field_type': 'STRING'}, {'field_name': 'claimantInfo_allClaimCount365day', 'field_type': 'STRING'}, {'field_name': 'Abuse.bsm_stats_for_evaluated_mfn_concessions_by_customer_na.n_message_count_with_return_keywords_si', 'field_type': 'STRING'}, {'field_name': 'Abuse.dnr_by_customer_marketplace.n_dnr_unit_count_last_365_days', 'field_type': 'STRING'}, {'field_name': 'Abuse.shiptrack_flag_by_order.n_any_undeliverable', 'field_type': 'STRING'}, {'field_name': 'Abuse.mfn_a2z_claims_by_customer_na.n_mfn_diff_claims_count_last_365_days', 'field_type': 'STRING'}, {'field_name': 'Abuse.bsm_stats_for_evaluated_mfn_concessions_by_customer_na.n_min_seller_order_message_time_gap', 'field_type': 'STRING'}, {'field_name': 'Abuse.mfn_refunds_by_customer_marketplace.n_mfn_refund_unit_count_last_365_days', 'field_type': 'STRING'}, {'field_name': 'Abuse.order_to_execution_time_from_eventvariables.n_order_to_execution', 'field_type': 'STRING'}, {'field_name': 'claim_reason', 'field_type': 'STRING'}, {'field_name': 'Abuse.mfn_a2z_claims_by_customer_na.n_mfn_diff_claims_amount_last_365_days', 'field_type': 'STRING'}, {'field_name': 'Abuse.shiptrack_flag_by_order.n_any_partial_delivered', 'field_type': 'STRING'}, {'field_name': 'claimantInfo_pendingClaimCount', 'field_type': 'STRING'}, {'field_name': 'Abuse.dnr_by_customer_marketplace.n_dnr_order_count_last_365_days', 'field_type': 'STRING'}, {'field_name': 'claimAmount_value', 'field_type': 'STRING'}, {'field_name': 'Abuse.shiptrack_flag_by_order.n_any_returning', 'field_type': 'STRING'}, {'field_name': 'Abuse.mfn_categorized_refunds_by_customer_marketplace.n_mfn_diff_refunds_unit_count_last_365_days', 'field_type': 'STRING'}, {'field_name': 'Abuse.abuse_fap_action_by_customer_inline_transform_na.n_claims_solicit_count_last_365_days', 'field_type': 'STRING'}, {'field_name': 'Abuse.bsm_stats_for_evaluated_mfn_concessions_by_customer_na.n_total_buyer_message_count', 'field_type': 'STRING'}, {'field_name': 'Abuse.dnr_by_customer_marketplace.n_dnr_unit_amount_last_365_days', 'field_type': 'STRING'}, {'field_name': 'Abuse.bsm_stats_for_evaluated_mfn_concessions_by_customer_na.n_message_count_with_diff_topic_si', 'field_type': 'STRING'}, {'field_name': 'Abuse.mfn_a2z_claims_by_customer_na.n_mfn_notr_claims_count_last_365_days', 'field_type': 'STRING'}, {'field_name': 'Abuse.mfn_a2z_claims_by_customer_na.n_mfn_claims_amount_last_365_days', 'field_type': 'STRING'}, {'field_name': 'Abuse.bsm_stats_for_evaluated_mfn_concessions_by_customer_na.n_min_seller_message_count', 'field_type': 'STRING'}, {'field_name': 'Abuse.bsm_stats_for_evaluated_mfn_concessions_by_customer_na.n_message_count_with_notr_topic_si', 'field_type': 'STRING'}, {'field_name': 'Abuse.mfn_categorized_refunds_by_customer_marketplace.n_mfn_diff_refunds_unit_amount_last_365_days', 'field_type': 'STRING'}, {'field_name': 'Abuse.mfn_categorized_refunds_by_customer_marketplace.n_mfn_notr_refunds_unit_count_last_365_days', 'field_type': 'STRING'}, {'field_name': 'Abuse.bsm_stats_for_evaluated_mfn_concessions_by_customer_na.n_min_message_count', 'field_type': 'STRING'}, {'field_name': 'Abuse.bsm_stats_for_evaluated_mfn_concessions_by_customer_na.n_min_order_message_time_gap', 'field_type': 'STRING'}, {'field_name': 'PAYMETH', 'field_type': 'STRING'}, {'field_name': 'claimantInfo_lifetimeClaimCount', 'field_type': 'STRING'}, {'field_name': 'objectId', 'field_type': 'STRING'}, {'field_name': 'Abuse.abuse_fap_action_by_customer_inline_transform_na.n_claims_warn_count_last_365_days', 'field_type': 'STRING'}, {'field_name': 'Abuse.shiptrack_flag_by_order.n_any_delivered', 'field_type': 'STRING'}], org_id=0, use_hourly_edx_data_set=False) edx_data_source_properties=None andes_data_source_properties=None\n"
     ]
    }
   ],
   "source": [
    "print(training_cradle_data_load_config.data_sources_spec.data_sources[0])"
   ]
  },
  {
   "cell_type": "code",
   "execution_count": 104,
   "id": "946df7e5-80c2-4d7b-b5d4-57337f867996",
   "metadata": {},
   "outputs": [
    {
     "name": "stdout",
     "output_type": "stream",
     "text": [
      "data_source_name='TAGS' data_source_type='EDX' mds_data_source_properties=None edx_data_source_properties=EdxDataSourceConfig(edx_provider='trms-abuse-analytics', edx_subject='qingyuye-notr-exp', edx_dataset='atoz-tag', edx_manifest_key='[\"24292902\",2025-01-01T00:00:00Z,2025-04-17T00:00:00Z,\"NA\"]', schema_overrides=[{'field_name': 'order_id', 'field_type': 'STRING'}, {'field_name': 'marketplace_id', 'field_type': 'STRING'}, {'field_name': 'tag_date', 'field_type': 'STRING'}, {'field_name': 'is_abuse', 'field_type': 'STRING'}, {'field_name': 'abuse_type', 'field_type': 'STRING'}, {'field_name': 'concession_type', 'field_type': 'STRING'}]) andes_data_source_properties=None\n"
     ]
    }
   ],
   "source": [
    "print(training_cradle_data_load_config.data_sources_spec.data_sources[1])"
   ]
  },
  {
   "cell_type": "code",
   "execution_count": 105,
   "id": "382429da-2a9b-489b-a8b7-8ea746b363c1",
   "metadata": {},
   "outputs": [
    {
     "data": {
      "text/plain": [
       "'arn:amazon:edx:iad::manifest/trms-abuse-analytics/qingyuye-notr-exp/atoz-tag/[\"24292902\",2025-01-01T00:00:00Z,2025-04-17T00:00:00Z,\"NA\"]'"
      ]
     },
     "execution_count": 105,
     "metadata": {},
     "output_type": "execute_result"
    }
   ],
   "source": [
    "training_cradle_data_load_config.data_sources_spec.data_sources[1].edx_data_source_properties.edx_manifest"
   ]
  },
  {
   "cell_type": "code",
   "execution_count": 106,
   "id": "414caa29-ab6e-4cde-b426-4adcd50e5085",
   "metadata": {},
   "outputs": [
    {
     "data": {
      "text/plain": [
       "'arn:amazon:edx:iad::manifest/trms-abuse-analytics/pre-delivery/otf/[\"28480724\",2025-06-16T07:00:00Z,2025-06-17T07:00:00Z]'"
      ]
     },
     "execution_count": 106,
     "metadata": {},
     "output_type": "execute_result"
    }
   ],
   "source": [
    "'arn:amazon:edx:iad::manifest/trms-abuse-analytics/pre-delivery/otf/[\"28480724\",2025-06-16T07:00:00Z,2025-06-17T07:00:00Z]'"
   ]
  },
  {
   "cell_type": "code",
   "execution_count": null,
   "id": "c0354b21-5b15-498c-a4f4-ba1402f4de1c",
   "metadata": {},
   "outputs": [],
   "source": []
  },
  {
   "cell_type": "code",
   "execution_count": 107,
   "id": "9e46df6e-30eb-420d-8989-d8e39aa41305",
   "metadata": {},
   "outputs": [],
   "source": [
    "calibration_cradle_data_load_config = create_cradle_data_load_config(\n",
    "    # Base pipeline essentials\n",
    "    base_config=base_config,\n",
    "    # Job configuration\n",
    "    job_type='calibration',\n",
    "    \n",
    "    # MDS field list (direct fields to include)\n",
    "    mds_field_list=mds_field_list,\n",
    "    \n",
    "    # Data timeframe\n",
    "    start_date=calibration_start_datetime,\n",
    "    end_date=calibration_end_datetime,\n",
    "    \n",
    "    # MDS data source\n",
    "    service_name=service_name,\n",
    "    \n",
    "    # EDX data source\n",
    "    tag_edx_provider=tag_edx_provider,\n",
    "    tag_edx_subject=tag_edx_subject,\n",
    "    tag_edx_dataset=tag_edx_dataset,\n",
    "    etl_job_id=etl_job_id,\n",
    "    \n",
    "    # Infrastructure configuration\n",
    "    cradle_account=cradle_account,\n",
    "    org_id=org_id,\n",
    "    edx_manifest_comment=edx_manifest_comment,\n",
    "    \n",
    "    # Optional overrides with reasonable defaults\n",
    "    cluster_type=cluster_type,\n",
    "    output_format=output_format,\n",
    "    output_save_mode=\"ERRORIFEXISTS\",\n",
    "    #transform_sql=training_transform_sql,\n",
    "    use_dedup_sql=True,\n",
    "    tag_schema=tag_schema,\n",
    "    \n",
    "    # Join configuration\n",
    "    mds_join_key= 'objectId',\n",
    "    edx_join_key= 'order_id',\n",
    "    join_type= 'JOIN'\n",
    ")"
   ]
  },
  {
   "cell_type": "code",
   "execution_count": 108,
   "id": "90164d6f-d2ef-4cf0-ac61-8d8e69d55e1c",
   "metadata": {
    "scrolled": true
   },
   "outputs": [
    {
     "name": "stdout",
     "output_type": "stream",
     "text": [
      "\n",
      "SELECT\n",
      "    Abuse__DOT__abuse_fap_action_by_customer_inline_transform_na__DOT__n_claims_solicit_count_last_365_days,\n",
      "    Abuse__DOT__abuse_fap_action_by_customer_inline_transform_na__DOT__n_claims_warn_count_last_365_days,\n",
      "    Abuse__DOT__abuse_fap_action_by_customer_inline_transform_na__DOT__n_concession_solicit_count_last_365_days,\n",
      "    Abuse__DOT__abuse_fap_action_by_customer_inline_transform_na__DOT__n_concession_warn_count_last_365_days,\n",
      "    Abuse__DOT__bsm_stats_for_evaluated_mfn_concessions_by_customer_na__DOT__n_max_buyer_order_message_time_gap,\n",
      "    Abuse__DOT__bsm_stats_for_evaluated_mfn_concessions_by_customer_na__DOT__n_max_order_message_time_gap,\n",
      "    Abuse__DOT__bsm_stats_for_evaluated_mfn_concessions_by_customer_na__DOT__n_max_seller_order_message_time_gap,\n",
      "    Abuse__DOT__bsm_stats_for_evaluated_mfn_concessions_by_customer_na__DOT__n_message_count_with_diff_topic_si,\n",
      "    Abuse__DOT__bsm_stats_for_evaluated_mfn_concessions_by_customer_na__DOT__n_message_count_with_notr_topic_si,\n",
      "    Abuse__DOT__bsm_stats_for_evaluated_mfn_concessions_by_customer_na__DOT__n_message_count_with_return_keywords_si,\n",
      "    Abuse__DOT__bsm_stats_for_evaluated_mfn_concessions_by_customer_na__DOT__n_min_buyer_message_count,\n",
      "    Abuse__DOT__bsm_stats_for_evaluated_mfn_concessions_by_customer_na__DOT__n_min_buyer_order_message_time_gap,\n",
      "    Abuse__DOT__bsm_stats_for_evaluated_mfn_concessions_by_customer_na__DOT__n_min_message_count,\n",
      "    Abuse__DOT__bsm_stats_for_evaluated_mfn_concessions_by_customer_na__DOT__n_min_order_message_time_gap,\n",
      "    Abuse__DOT__bsm_stats_for_evaluated_mfn_concessions_by_customer_na__DOT__n_min_seller_message_count,\n",
      "    Abuse__DOT__bsm_stats_for_evaluated_mfn_concessions_by_customer_na__DOT__n_min_seller_order_message_time_gap,\n",
      "    Abuse__DOT__bsm_stats_for_evaluated_mfn_concessions_by_customer_na__DOT__n_total_buyer_message_count,\n",
      "    Abuse__DOT__bsm_stats_for_evaluated_mfn_concessions_by_customer_na__DOT__n_total_message_count,\n",
      "    Abuse__DOT__bsm_stats_for_evaluated_mfn_concessions_by_customer_na__DOT__n_total_seller_message_count,\n",
      "    Abuse__DOT__bsm_stats_for_evaluated_mfn_concessions_by_customer_na__DOT__n_total_topic_count,\n",
      "    Abuse__DOT__completed_afn_orders_by_customer_marketplace__DOT__n_afn_order_count_last_365_days,\n",
      "    Abuse__DOT__completed_afn_orders_by_customer_marketplace__DOT__n_afn_unit_amount_last_365_days,\n",
      "    Abuse__DOT__completed_afn_orders_by_customer_marketplace__DOT__n_afn_unit_count_last_365_days,\n",
      "    Abuse__DOT__completed_mfn_orders_by_customer_marketplace__DOT__n_mfn_order_count_last_365_days,\n",
      "    Abuse__DOT__completed_mfn_orders_by_customer_marketplace__DOT__n_mfn_unit_amount_last_365_days,\n",
      "    Abuse__DOT__completed_mfn_orders_by_customer_marketplace__DOT__n_mfn_unit_count_last_365_days,\n",
      "    Abuse__DOT__dnr_by_customer_marketplace__DOT__n_dnr_amount_si_last_365_days,\n",
      "    Abuse__DOT__dnr_by_customer_marketplace__DOT__n_dnr_order_count_last_365_days,\n",
      "    Abuse__DOT__dnr_by_customer_marketplace__DOT__n_dnr_unit_amount_last_365_days,\n",
      "    Abuse__DOT__dnr_by_customer_marketplace__DOT__n_dnr_unit_count_last_365_days,\n",
      "    Abuse__DOT__mfn_a2z_claims_by_customer_na__DOT__n_mfn_claims_amount_last_365_days,\n",
      "    Abuse__DOT__mfn_a2z_claims_by_customer_na__DOT__n_mfn_claims_count_last_365_days,\n",
      "    Abuse__DOT__mfn_a2z_claims_by_customer_na__DOT__n_mfn_diff_claims_amount_last_365_days,\n",
      "    Abuse__DOT__mfn_a2z_claims_by_customer_na__DOT__n_mfn_diff_claims_count_last_365_days,\n",
      "    Abuse__DOT__mfn_a2z_claims_by_customer_na__DOT__n_mfn_notr_claims_amount_last_365_days,\n",
      "    Abuse__DOT__mfn_a2z_claims_by_customer_na__DOT__n_mfn_notr_claims_count_last_365_days,\n",
      "    Abuse__DOT__mfn_categorized_refunds_by_customer_marketplace__DOT__n_mfn_diff_refunds_order_count_last_365_days,\n",
      "    Abuse__DOT__mfn_categorized_refunds_by_customer_marketplace__DOT__n_mfn_diff_refunds_unit_amount_last_365_days,\n",
      "    Abuse__DOT__mfn_categorized_refunds_by_customer_marketplace__DOT__n_mfn_diff_refunds_unit_count_last_365_days,\n",
      "    Abuse__DOT__mfn_categorized_refunds_by_customer_marketplace__DOT__n_mfn_notr_refunds_order_count_last_365_days,\n",
      "    Abuse__DOT__mfn_categorized_refunds_by_customer_marketplace__DOT__n_mfn_notr_refunds_unit_amount_last_365_days,\n",
      "    Abuse__DOT__mfn_categorized_refunds_by_customer_marketplace__DOT__n_mfn_notr_refunds_unit_count_last_365_days,\n",
      "    Abuse__DOT__mfn_categorized_refunds_si_by_customer_marketplace__DOT__n_mfn_diff_refunds_si_365_days,\n",
      "    Abuse__DOT__mfn_categorized_refunds_si_by_customer_marketplace__DOT__n_mfn_notr_refunds_si_365_days,\n",
      "    Abuse__DOT__mfn_refunds_by_customer_marketplace__DOT__n_mfn_refund_order_count_last_365_days,\n",
      "    Abuse__DOT__mfn_refunds_by_customer_marketplace__DOT__n_mfn_refund_unit_amount_last_365_days,\n",
      "    Abuse__DOT__mfn_refunds_by_customer_marketplace__DOT__n_mfn_refund_unit_count_last_365_days,\n",
      "    Abuse__DOT__mfn_refunds_si_by_customer_marketplace__DOT__n_mfn_refund_amount_si_last_365_days,\n",
      "    Abuse__DOT__order_to_execution_time_from_eventvariables__DOT__n_order_to_execution,\n",
      "    Abuse__DOT__shiptrack_flag_by_order__DOT__n_any_available_for_pickup,\n",
      "    Abuse__DOT__shiptrack_flag_by_order__DOT__n_any_delivered,\n",
      "    Abuse__DOT__shiptrack_flag_by_order__DOT__n_any_partial_delivered,\n",
      "    Abuse__DOT__shiptrack_flag_by_order__DOT__n_any_returned,\n",
      "    Abuse__DOT__shiptrack_flag_by_order__DOT__n_any_returning,\n",
      "    Abuse__DOT__shiptrack_flag_by_order__DOT__n_any_undeliverable,\n",
      "    COMP_DAYOB,\n",
      "    PAYMETH,\n",
      "    abuse_type,\n",
      "    claimAmount_value,\n",
      "    claim_reason,\n",
      "    claimantInfo_allClaimCount365day,\n",
      "    claimantInfo_lifetimeClaimCount,\n",
      "    claimantInfo_pendingClaimCount,\n",
      "    claimantInfo_status,\n",
      "    concession_type,\n",
      "    is_abuse,\n",
      "    marketplace_id,\n",
      "    objectId,\n",
      "    order_id,\n",
      "    shipments_status,\n",
      "    tag_date,\n",
      "    transactionDate\n",
      "FROM (\n",
      "    SELECT\n",
      "        RAW_MDS_NA.Abuse__DOT__abuse_fap_action_by_customer_inline_transform_na__DOT__n_claims_solicit_count_last_365_days,\n",
      "        RAW_MDS_NA.Abuse__DOT__abuse_fap_action_by_customer_inline_transform_na__DOT__n_claims_warn_count_last_365_days,\n",
      "        RAW_MDS_NA.Abuse__DOT__abuse_fap_action_by_customer_inline_transform_na__DOT__n_concession_solicit_count_last_365_days,\n",
      "        RAW_MDS_NA.Abuse__DOT__abuse_fap_action_by_customer_inline_transform_na__DOT__n_concession_warn_count_last_365_days,\n",
      "        RAW_MDS_NA.Abuse__DOT__bsm_stats_for_evaluated_mfn_concessions_by_customer_na__DOT__n_max_buyer_order_message_time_gap,\n",
      "        RAW_MDS_NA.Abuse__DOT__bsm_stats_for_evaluated_mfn_concessions_by_customer_na__DOT__n_max_order_message_time_gap,\n",
      "        RAW_MDS_NA.Abuse__DOT__bsm_stats_for_evaluated_mfn_concessions_by_customer_na__DOT__n_max_seller_order_message_time_gap,\n",
      "        RAW_MDS_NA.Abuse__DOT__bsm_stats_for_evaluated_mfn_concessions_by_customer_na__DOT__n_message_count_with_diff_topic_si,\n",
      "        RAW_MDS_NA.Abuse__DOT__bsm_stats_for_evaluated_mfn_concessions_by_customer_na__DOT__n_message_count_with_notr_topic_si,\n",
      "        RAW_MDS_NA.Abuse__DOT__bsm_stats_for_evaluated_mfn_concessions_by_customer_na__DOT__n_message_count_with_return_keywords_si,\n",
      "        RAW_MDS_NA.Abuse__DOT__bsm_stats_for_evaluated_mfn_concessions_by_customer_na__DOT__n_min_buyer_message_count,\n",
      "        RAW_MDS_NA.Abuse__DOT__bsm_stats_for_evaluated_mfn_concessions_by_customer_na__DOT__n_min_buyer_order_message_time_gap,\n",
      "        RAW_MDS_NA.Abuse__DOT__bsm_stats_for_evaluated_mfn_concessions_by_customer_na__DOT__n_min_message_count,\n",
      "        RAW_MDS_NA.Abuse__DOT__bsm_stats_for_evaluated_mfn_concessions_by_customer_na__DOT__n_min_order_message_time_gap,\n",
      "        RAW_MDS_NA.Abuse__DOT__bsm_stats_for_evaluated_mfn_concessions_by_customer_na__DOT__n_min_seller_message_count,\n",
      "        RAW_MDS_NA.Abuse__DOT__bsm_stats_for_evaluated_mfn_concessions_by_customer_na__DOT__n_min_seller_order_message_time_gap,\n",
      "        RAW_MDS_NA.Abuse__DOT__bsm_stats_for_evaluated_mfn_concessions_by_customer_na__DOT__n_total_buyer_message_count,\n",
      "        RAW_MDS_NA.Abuse__DOT__bsm_stats_for_evaluated_mfn_concessions_by_customer_na__DOT__n_total_message_count,\n",
      "        RAW_MDS_NA.Abuse__DOT__bsm_stats_for_evaluated_mfn_concessions_by_customer_na__DOT__n_total_seller_message_count,\n",
      "        RAW_MDS_NA.Abuse__DOT__bsm_stats_for_evaluated_mfn_concessions_by_customer_na__DOT__n_total_topic_count,\n",
      "        RAW_MDS_NA.Abuse__DOT__completed_afn_orders_by_customer_marketplace__DOT__n_afn_order_count_last_365_days,\n",
      "        RAW_MDS_NA.Abuse__DOT__completed_afn_orders_by_customer_marketplace__DOT__n_afn_unit_amount_last_365_days,\n",
      "        RAW_MDS_NA.Abuse__DOT__completed_afn_orders_by_customer_marketplace__DOT__n_afn_unit_count_last_365_days,\n",
      "        RAW_MDS_NA.Abuse__DOT__completed_mfn_orders_by_customer_marketplace__DOT__n_mfn_order_count_last_365_days,\n",
      "        RAW_MDS_NA.Abuse__DOT__completed_mfn_orders_by_customer_marketplace__DOT__n_mfn_unit_amount_last_365_days,\n",
      "        RAW_MDS_NA.Abuse__DOT__completed_mfn_orders_by_customer_marketplace__DOT__n_mfn_unit_count_last_365_days,\n",
      "        RAW_MDS_NA.Abuse__DOT__dnr_by_customer_marketplace__DOT__n_dnr_amount_si_last_365_days,\n",
      "        RAW_MDS_NA.Abuse__DOT__dnr_by_customer_marketplace__DOT__n_dnr_order_count_last_365_days,\n",
      "        RAW_MDS_NA.Abuse__DOT__dnr_by_customer_marketplace__DOT__n_dnr_unit_amount_last_365_days,\n",
      "        RAW_MDS_NA.Abuse__DOT__dnr_by_customer_marketplace__DOT__n_dnr_unit_count_last_365_days,\n",
      "        RAW_MDS_NA.Abuse__DOT__mfn_a2z_claims_by_customer_na__DOT__n_mfn_claims_amount_last_365_days,\n",
      "        RAW_MDS_NA.Abuse__DOT__mfn_a2z_claims_by_customer_na__DOT__n_mfn_claims_count_last_365_days,\n",
      "        RAW_MDS_NA.Abuse__DOT__mfn_a2z_claims_by_customer_na__DOT__n_mfn_diff_claims_amount_last_365_days,\n",
      "        RAW_MDS_NA.Abuse__DOT__mfn_a2z_claims_by_customer_na__DOT__n_mfn_diff_claims_count_last_365_days,\n",
      "        RAW_MDS_NA.Abuse__DOT__mfn_a2z_claims_by_customer_na__DOT__n_mfn_notr_claims_amount_last_365_days,\n",
      "        RAW_MDS_NA.Abuse__DOT__mfn_a2z_claims_by_customer_na__DOT__n_mfn_notr_claims_count_last_365_days,\n",
      "        RAW_MDS_NA.Abuse__DOT__mfn_categorized_refunds_by_customer_marketplace__DOT__n_mfn_diff_refunds_order_count_last_365_days,\n",
      "        RAW_MDS_NA.Abuse__DOT__mfn_categorized_refunds_by_customer_marketplace__DOT__n_mfn_diff_refunds_unit_amount_last_365_days,\n",
      "        RAW_MDS_NA.Abuse__DOT__mfn_categorized_refunds_by_customer_marketplace__DOT__n_mfn_diff_refunds_unit_count_last_365_days,\n",
      "        RAW_MDS_NA.Abuse__DOT__mfn_categorized_refunds_by_customer_marketplace__DOT__n_mfn_notr_refunds_order_count_last_365_days,\n",
      "        RAW_MDS_NA.Abuse__DOT__mfn_categorized_refunds_by_customer_marketplace__DOT__n_mfn_notr_refunds_unit_amount_last_365_days,\n",
      "        RAW_MDS_NA.Abuse__DOT__mfn_categorized_refunds_by_customer_marketplace__DOT__n_mfn_notr_refunds_unit_count_last_365_days,\n",
      "        RAW_MDS_NA.Abuse__DOT__mfn_categorized_refunds_si_by_customer_marketplace__DOT__n_mfn_diff_refunds_si_365_days,\n",
      "        RAW_MDS_NA.Abuse__DOT__mfn_categorized_refunds_si_by_customer_marketplace__DOT__n_mfn_notr_refunds_si_365_days,\n",
      "        RAW_MDS_NA.Abuse__DOT__mfn_refunds_by_customer_marketplace__DOT__n_mfn_refund_order_count_last_365_days,\n",
      "        RAW_MDS_NA.Abuse__DOT__mfn_refunds_by_customer_marketplace__DOT__n_mfn_refund_unit_amount_last_365_days,\n",
      "        RAW_MDS_NA.Abuse__DOT__mfn_refunds_by_customer_marketplace__DOT__n_mfn_refund_unit_count_last_365_days,\n",
      "        RAW_MDS_NA.Abuse__DOT__mfn_refunds_si_by_customer_marketplace__DOT__n_mfn_refund_amount_si_last_365_days,\n",
      "        RAW_MDS_NA.Abuse__DOT__order_to_execution_time_from_eventvariables__DOT__n_order_to_execution,\n",
      "        RAW_MDS_NA.Abuse__DOT__shiptrack_flag_by_order__DOT__n_any_available_for_pickup,\n",
      "        RAW_MDS_NA.Abuse__DOT__shiptrack_flag_by_order__DOT__n_any_delivered,\n",
      "        RAW_MDS_NA.Abuse__DOT__shiptrack_flag_by_order__DOT__n_any_partial_delivered,\n",
      "        RAW_MDS_NA.Abuse__DOT__shiptrack_flag_by_order__DOT__n_any_returned,\n",
      "        RAW_MDS_NA.Abuse__DOT__shiptrack_flag_by_order__DOT__n_any_returning,\n",
      "        RAW_MDS_NA.Abuse__DOT__shiptrack_flag_by_order__DOT__n_any_undeliverable,\n",
      "        RAW_MDS_NA.COMP_DAYOB,\n",
      "        RAW_MDS_NA.PAYMETH,\n",
      "        RAW_MDS_NA.claimAmount_value,\n",
      "        RAW_MDS_NA.claim_reason,\n",
      "        RAW_MDS_NA.claimantInfo_allClaimCount365day,\n",
      "        RAW_MDS_NA.claimantInfo_lifetimeClaimCount,\n",
      "        RAW_MDS_NA.claimantInfo_pendingClaimCount,\n",
      "        RAW_MDS_NA.claimantInfo_status,\n",
      "        RAW_MDS_NA.objectId,\n",
      "        RAW_MDS_NA.shipments_status,\n",
      "        RAW_MDS_NA.transactionDate,\n",
      "        TAGS.abuse_type,\n",
      "        TAGS.concession_type,\n",
      "        TAGS.is_abuse,\n",
      "        TAGS.marketplace_id,\n",
      "        TAGS.order_id,\n",
      "        TAGS.tag_date,\n",
      "        ROW_NUMBER() OVER (PARTITION BY RAW_MDS_NA.objectId, TAGS.order_id ORDER BY RAW_MDS_NA.transactionDate DESC) as row_num\n",
      "    FROM RAW_MDS_NA\n",
      "    JOIN TAGS ON RAW_MDS_NA.objectId = TAGS.order_id\n",
      ")\n",
      "WHERE row_num = 1\n",
      "\n"
     ]
    }
   ],
   "source": [
    "print(calibration_cradle_data_load_config.transform_spec.transform_sql)"
   ]
  },
  {
   "cell_type": "code",
   "execution_count": 109,
   "id": "577318e4-f301-4194-ac77-cd39a25e8fed",
   "metadata": {},
   "outputs": [
    {
     "data": {
      "text/plain": [
       "DataSourceConfig(data_source_name='RAW_MDS_NA', data_source_type='MDS', mds_data_source_properties=MdsDataSourceConfig(service_name='AtoZ', region='NA', output_schema=[{'field_name': 'Abuse.completed_mfn_orders_by_customer_marketplace.n_mfn_unit_count_last_365_days', 'field_type': 'STRING'}, {'field_name': 'Abuse.bsm_stats_for_evaluated_mfn_concessions_by_customer_na.n_min_buyer_message_count', 'field_type': 'STRING'}, {'field_name': 'Abuse.shiptrack_flag_by_order.n_any_returned', 'field_type': 'STRING'}, {'field_name': 'Abuse.completed_afn_orders_by_customer_marketplace.n_afn_unit_count_last_365_days', 'field_type': 'STRING'}, {'field_name': 'Abuse.bsm_stats_for_evaluated_mfn_concessions_by_customer_na.n_max_order_message_time_gap', 'field_type': 'STRING'}, {'field_name': 'Abuse.shiptrack_flag_by_order.n_any_available_for_pickup', 'field_type': 'STRING'}, {'field_name': 'transactionDate', 'field_type': 'STRING'}, {'field_name': 'Abuse.abuse_fap_action_by_customer_inline_transform_na.n_concession_solicit_count_last_365_days', 'field_type': 'STRING'}, {'field_name': 'Abuse.mfn_categorized_refunds_by_customer_marketplace.n_mfn_diff_refunds_order_count_last_365_days', 'field_type': 'STRING'}, {'field_name': 'Abuse.mfn_categorized_refunds_si_by_customer_marketplace.n_mfn_notr_refunds_si_365_days', 'field_type': 'STRING'}, {'field_name': 'Abuse.bsm_stats_for_evaluated_mfn_concessions_by_customer_na.n_total_topic_count', 'field_type': 'STRING'}, {'field_name': 'claimantInfo_status', 'field_type': 'STRING'}, {'field_name': 'Abuse.completed_afn_orders_by_customer_marketplace.n_afn_order_count_last_365_days', 'field_type': 'STRING'}, {'field_name': 'Abuse.mfn_categorized_refunds_si_by_customer_marketplace.n_mfn_diff_refunds_si_365_days', 'field_type': 'STRING'}, {'field_name': 'Abuse.abuse_fap_action_by_customer_inline_transform_na.n_concession_warn_count_last_365_days', 'field_type': 'STRING'}, {'field_name': 'Abuse.mfn_refunds_by_customer_marketplace.n_mfn_refund_unit_amount_last_365_days', 'field_type': 'STRING'}, {'field_name': 'Abuse.bsm_stats_for_evaluated_mfn_concessions_by_customer_na.n_min_buyer_order_message_time_gap', 'field_type': 'STRING'}, {'field_name': 'Abuse.bsm_stats_for_evaluated_mfn_concessions_by_customer_na.n_total_seller_message_count', 'field_type': 'STRING'}, {'field_name': 'Abuse.mfn_a2z_claims_by_customer_na.n_mfn_claims_count_last_365_days', 'field_type': 'STRING'}, {'field_name': 'Abuse.mfn_refunds_by_customer_marketplace.n_mfn_refund_order_count_last_365_days', 'field_type': 'STRING'}, {'field_name': 'Abuse.bsm_stats_for_evaluated_mfn_concessions_by_customer_na.n_max_buyer_order_message_time_gap', 'field_type': 'STRING'}, {'field_name': 'Abuse.completed_afn_orders_by_customer_marketplace.n_afn_unit_amount_last_365_days', 'field_type': 'STRING'}, {'field_name': 'Abuse.completed_mfn_orders_by_customer_marketplace.n_mfn_order_count_last_365_days', 'field_type': 'STRING'}, {'field_name': 'Abuse.mfn_a2z_claims_by_customer_na.n_mfn_notr_claims_amount_last_365_days', 'field_type': 'STRING'}, {'field_name': 'COMP_DAYOB', 'field_type': 'STRING'}, {'field_name': 'Abuse.mfn_categorized_refunds_by_customer_marketplace.n_mfn_notr_refunds_unit_amount_last_365_days', 'field_type': 'STRING'}, {'field_name': 'Abuse.dnr_by_customer_marketplace.n_dnr_amount_si_last_365_days', 'field_type': 'STRING'}, {'field_name': 'Abuse.mfn_categorized_refunds_by_customer_marketplace.n_mfn_notr_refunds_order_count_last_365_days', 'field_type': 'STRING'}, {'field_name': 'Abuse.mfn_refunds_si_by_customer_marketplace.n_mfn_refund_amount_si_last_365_days', 'field_type': 'STRING'}, {'field_name': 'Abuse.bsm_stats_for_evaluated_mfn_concessions_by_customer_na.n_total_message_count', 'field_type': 'STRING'}, {'field_name': 'shipments_status', 'field_type': 'STRING'}, {'field_name': 'Abuse.completed_mfn_orders_by_customer_marketplace.n_mfn_unit_amount_last_365_days', 'field_type': 'STRING'}, {'field_name': 'Abuse.bsm_stats_for_evaluated_mfn_concessions_by_customer_na.n_max_seller_order_message_time_gap', 'field_type': 'STRING'}, {'field_name': 'claimantInfo_allClaimCount365day', 'field_type': 'STRING'}, {'field_name': 'Abuse.bsm_stats_for_evaluated_mfn_concessions_by_customer_na.n_message_count_with_return_keywords_si', 'field_type': 'STRING'}, {'field_name': 'Abuse.dnr_by_customer_marketplace.n_dnr_unit_count_last_365_days', 'field_type': 'STRING'}, {'field_name': 'Abuse.shiptrack_flag_by_order.n_any_undeliverable', 'field_type': 'STRING'}, {'field_name': 'Abuse.mfn_a2z_claims_by_customer_na.n_mfn_diff_claims_count_last_365_days', 'field_type': 'STRING'}, {'field_name': 'Abuse.bsm_stats_for_evaluated_mfn_concessions_by_customer_na.n_min_seller_order_message_time_gap', 'field_type': 'STRING'}, {'field_name': 'Abuse.mfn_refunds_by_customer_marketplace.n_mfn_refund_unit_count_last_365_days', 'field_type': 'STRING'}, {'field_name': 'Abuse.order_to_execution_time_from_eventvariables.n_order_to_execution', 'field_type': 'STRING'}, {'field_name': 'claim_reason', 'field_type': 'STRING'}, {'field_name': 'Abuse.mfn_a2z_claims_by_customer_na.n_mfn_diff_claims_amount_last_365_days', 'field_type': 'STRING'}, {'field_name': 'Abuse.shiptrack_flag_by_order.n_any_partial_delivered', 'field_type': 'STRING'}, {'field_name': 'claimantInfo_pendingClaimCount', 'field_type': 'STRING'}, {'field_name': 'Abuse.dnr_by_customer_marketplace.n_dnr_order_count_last_365_days', 'field_type': 'STRING'}, {'field_name': 'claimAmount_value', 'field_type': 'STRING'}, {'field_name': 'Abuse.shiptrack_flag_by_order.n_any_returning', 'field_type': 'STRING'}, {'field_name': 'Abuse.mfn_categorized_refunds_by_customer_marketplace.n_mfn_diff_refunds_unit_count_last_365_days', 'field_type': 'STRING'}, {'field_name': 'Abuse.abuse_fap_action_by_customer_inline_transform_na.n_claims_solicit_count_last_365_days', 'field_type': 'STRING'}, {'field_name': 'Abuse.bsm_stats_for_evaluated_mfn_concessions_by_customer_na.n_total_buyer_message_count', 'field_type': 'STRING'}, {'field_name': 'Abuse.dnr_by_customer_marketplace.n_dnr_unit_amount_last_365_days', 'field_type': 'STRING'}, {'field_name': 'Abuse.bsm_stats_for_evaluated_mfn_concessions_by_customer_na.n_message_count_with_diff_topic_si', 'field_type': 'STRING'}, {'field_name': 'Abuse.mfn_a2z_claims_by_customer_na.n_mfn_notr_claims_count_last_365_days', 'field_type': 'STRING'}, {'field_name': 'Abuse.mfn_a2z_claims_by_customer_na.n_mfn_claims_amount_last_365_days', 'field_type': 'STRING'}, {'field_name': 'Abuse.bsm_stats_for_evaluated_mfn_concessions_by_customer_na.n_min_seller_message_count', 'field_type': 'STRING'}, {'field_name': 'Abuse.bsm_stats_for_evaluated_mfn_concessions_by_customer_na.n_message_count_with_notr_topic_si', 'field_type': 'STRING'}, {'field_name': 'Abuse.mfn_categorized_refunds_by_customer_marketplace.n_mfn_diff_refunds_unit_amount_last_365_days', 'field_type': 'STRING'}, {'field_name': 'Abuse.mfn_categorized_refunds_by_customer_marketplace.n_mfn_notr_refunds_unit_count_last_365_days', 'field_type': 'STRING'}, {'field_name': 'Abuse.bsm_stats_for_evaluated_mfn_concessions_by_customer_na.n_min_message_count', 'field_type': 'STRING'}, {'field_name': 'Abuse.bsm_stats_for_evaluated_mfn_concessions_by_customer_na.n_min_order_message_time_gap', 'field_type': 'STRING'}, {'field_name': 'PAYMETH', 'field_type': 'STRING'}, {'field_name': 'claimantInfo_lifetimeClaimCount', 'field_type': 'STRING'}, {'field_name': 'objectId', 'field_type': 'STRING'}, {'field_name': 'Abuse.abuse_fap_action_by_customer_inline_transform_na.n_claims_warn_count_last_365_days', 'field_type': 'STRING'}, {'field_name': 'Abuse.shiptrack_flag_by_order.n_any_delivered', 'field_type': 'STRING'}], org_id=0, use_hourly_edx_data_set=False), edx_data_source_properties=None, andes_data_source_properties=None)"
      ]
     },
     "execution_count": 109,
     "metadata": {},
     "output_type": "execute_result"
    }
   ],
   "source": [
    "training_cradle_data_load_config.data_sources_spec.data_sources[0]"
   ]
  },
  {
   "cell_type": "code",
   "execution_count": 110,
   "id": "5b481728-d699-4565-9f25-86241006d34b",
   "metadata": {},
   "outputs": [
    {
     "data": {
      "text/plain": [
       "DataSourceConfig(data_source_name='TAGS', data_source_type='EDX', mds_data_source_properties=None, edx_data_source_properties=EdxDataSourceConfig(edx_provider='trms-abuse-analytics', edx_subject='qingyuye-notr-exp', edx_dataset='atoz-tag', edx_manifest_key='[\"24292902\",2025-01-01T00:00:00Z,2025-04-17T00:00:00Z,\"NA\"]', schema_overrides=[{'field_name': 'order_id', 'field_type': 'STRING'}, {'field_name': 'marketplace_id', 'field_type': 'STRING'}, {'field_name': 'tag_date', 'field_type': 'STRING'}, {'field_name': 'is_abuse', 'field_type': 'STRING'}, {'field_name': 'abuse_type', 'field_type': 'STRING'}, {'field_name': 'concession_type', 'field_type': 'STRING'}]), andes_data_source_properties=None)"
      ]
     },
     "execution_count": 110,
     "metadata": {},
     "output_type": "execute_result"
    }
   ],
   "source": [
    "training_cradle_data_load_config.data_sources_spec.data_sources[1]"
   ]
  },
  {
   "cell_type": "code",
   "execution_count": 111,
   "id": "d396ef07-4677-4c7a-907a-bf2128e038d6",
   "metadata": {},
   "outputs": [
    {
     "data": {
      "text/plain": [
       "'arn:amazon:edx:iad::manifest/trms-abuse-analytics/qingyuye-notr-exp/atoz-tag/[\"24292902\",2025-01-01T00:00:00Z,2025-04-17T00:00:00Z,\"NA\"]'"
      ]
     },
     "execution_count": 111,
     "metadata": {},
     "output_type": "execute_result"
    }
   ],
   "source": [
    "training_cradle_data_load_config.data_sources_spec.data_sources[1].edx_data_source_properties.edx_manifest"
   ]
  },
  {
   "cell_type": "code",
   "execution_count": 112,
   "id": "8d3e0784-740e-43ba-83bd-a5ef3fa2516a",
   "metadata": {},
   "outputs": [
    {
     "data": {
      "text/plain": [
       "'arn:amazon:edx:iad::manifest/trms-abuse-analytics/qingyuye-notr-exp/atoz-tag/[\"24292902\",2025-01-01T00:00:00Z,2025-04-17T00:00:00Z,\"NA\"]'"
      ]
     },
     "execution_count": 112,
     "metadata": {},
     "output_type": "execute_result"
    }
   ],
   "source": [
    "'arn:amazon:edx:iad::manifest/trms-abuse-analytics/qingyuye-notr-exp/atoz-tag/[\"24292902\",2025-01-01T00:00:00Z,2025-04-17T00:00:00Z,\"NA\"]'"
   ]
  },
  {
   "cell_type": "code",
   "execution_count": 113,
   "id": "0f5dbb82-6a39-4d34-8074-0c4dba2e1673",
   "metadata": {},
   "outputs": [
    {
     "data": {
      "text/plain": [
       "'arn:amazon:edx:iad::manifest/trms-abuse-analytics/qingyuye-notr-exp/atoz-tag/[\"24292902\",2025-04-17T00:00:00Z,2025-04-28T00:00:00Z,\"NA\"]'"
      ]
     },
     "execution_count": 113,
     "metadata": {},
     "output_type": "execute_result"
    }
   ],
   "source": [
    "calibration_cradle_data_load_config.data_sources_spec.data_sources[1].edx_data_source_properties.edx_manifest"
   ]
  },
  {
   "cell_type": "code",
   "execution_count": null,
   "id": "1424164d-f850-45b6-b312-936540a6b7a7",
   "metadata": {},
   "outputs": [],
   "source": []
  },
  {
   "cell_type": "raw",
   "id": "8fb4f65d-6c7c-40b2-9868-ad87c059c7f4",
   "metadata": {
    "scrolled": true
   },
   "source": [
    "print(str(training_cradle_data_load_config))"
   ]
  },
  {
   "cell_type": "code",
   "execution_count": 114,
   "id": "caff3a9f-414d-444e-9309-4c2ebef95bd8",
   "metadata": {
    "scrolled": true
   },
   "outputs": [
    {
     "data": {
      "text/plain": [
       "['Abuse.abuse_fap_action_by_customer_inline_transform_na.n_claims_solicit_count_last_365_days',\n",
       " 'Abuse.abuse_fap_action_by_customer_inline_transform_na.n_claims_warn_count_last_365_days',\n",
       " 'Abuse.abuse_fap_action_by_customer_inline_transform_na.n_concession_solicit_count_last_365_days',\n",
       " 'Abuse.abuse_fap_action_by_customer_inline_transform_na.n_concession_warn_count_last_365_days',\n",
       " 'Abuse.bsm_stats_for_evaluated_mfn_concessions_by_customer_na.n_max_buyer_order_message_time_gap',\n",
       " 'Abuse.bsm_stats_for_evaluated_mfn_concessions_by_customer_na.n_max_order_message_time_gap',\n",
       " 'Abuse.bsm_stats_for_evaluated_mfn_concessions_by_customer_na.n_max_seller_order_message_time_gap',\n",
       " 'Abuse.bsm_stats_for_evaluated_mfn_concessions_by_customer_na.n_message_count_with_diff_topic_si',\n",
       " 'Abuse.bsm_stats_for_evaluated_mfn_concessions_by_customer_na.n_message_count_with_notr_topic_si',\n",
       " 'Abuse.bsm_stats_for_evaluated_mfn_concessions_by_customer_na.n_message_count_with_return_keywords_si',\n",
       " 'Abuse.bsm_stats_for_evaluated_mfn_concessions_by_customer_na.n_min_buyer_message_count',\n",
       " 'Abuse.bsm_stats_for_evaluated_mfn_concessions_by_customer_na.n_min_buyer_order_message_time_gap',\n",
       " 'Abuse.bsm_stats_for_evaluated_mfn_concessions_by_customer_na.n_min_message_count',\n",
       " 'Abuse.bsm_stats_for_evaluated_mfn_concessions_by_customer_na.n_min_order_message_time_gap',\n",
       " 'Abuse.bsm_stats_for_evaluated_mfn_concessions_by_customer_na.n_min_seller_message_count',\n",
       " 'Abuse.bsm_stats_for_evaluated_mfn_concessions_by_customer_na.n_min_seller_order_message_time_gap',\n",
       " 'Abuse.bsm_stats_for_evaluated_mfn_concessions_by_customer_na.n_total_buyer_message_count',\n",
       " 'Abuse.bsm_stats_for_evaluated_mfn_concessions_by_customer_na.n_total_message_count',\n",
       " 'Abuse.bsm_stats_for_evaluated_mfn_concessions_by_customer_na.n_total_seller_message_count',\n",
       " 'Abuse.bsm_stats_for_evaluated_mfn_concessions_by_customer_na.n_total_topic_count',\n",
       " 'Abuse.completed_afn_orders_by_customer_marketplace.n_afn_order_count_last_365_days',\n",
       " 'Abuse.completed_afn_orders_by_customer_marketplace.n_afn_unit_amount_last_365_days',\n",
       " 'Abuse.completed_afn_orders_by_customer_marketplace.n_afn_unit_count_last_365_days',\n",
       " 'Abuse.completed_mfn_orders_by_customer_marketplace.n_mfn_order_count_last_365_days',\n",
       " 'Abuse.completed_mfn_orders_by_customer_marketplace.n_mfn_unit_amount_last_365_days',\n",
       " 'Abuse.completed_mfn_orders_by_customer_marketplace.n_mfn_unit_count_last_365_days',\n",
       " 'Abuse.dnr_by_customer_marketplace.n_dnr_amount_si_last_365_days',\n",
       " 'Abuse.dnr_by_customer_marketplace.n_dnr_order_count_last_365_days',\n",
       " 'Abuse.dnr_by_customer_marketplace.n_dnr_unit_amount_last_365_days',\n",
       " 'Abuse.dnr_by_customer_marketplace.n_dnr_unit_count_last_365_days',\n",
       " 'Abuse.mfn_a2z_claims_by_customer_na.n_mfn_claims_amount_last_365_days',\n",
       " 'Abuse.mfn_a2z_claims_by_customer_na.n_mfn_claims_count_last_365_days',\n",
       " 'Abuse.mfn_a2z_claims_by_customer_na.n_mfn_diff_claims_amount_last_365_days',\n",
       " 'Abuse.mfn_a2z_claims_by_customer_na.n_mfn_diff_claims_count_last_365_days',\n",
       " 'Abuse.mfn_a2z_claims_by_customer_na.n_mfn_notr_claims_amount_last_365_days',\n",
       " 'Abuse.mfn_a2z_claims_by_customer_na.n_mfn_notr_claims_count_last_365_days',\n",
       " 'Abuse.mfn_categorized_refunds_by_customer_marketplace.n_mfn_diff_refunds_order_count_last_365_days',\n",
       " 'Abuse.mfn_categorized_refunds_by_customer_marketplace.n_mfn_diff_refunds_unit_amount_last_365_days',\n",
       " 'Abuse.mfn_categorized_refunds_by_customer_marketplace.n_mfn_diff_refunds_unit_count_last_365_days',\n",
       " 'Abuse.mfn_categorized_refunds_by_customer_marketplace.n_mfn_notr_refunds_order_count_last_365_days',\n",
       " 'Abuse.mfn_categorized_refunds_by_customer_marketplace.n_mfn_notr_refunds_unit_amount_last_365_days',\n",
       " 'Abuse.mfn_categorized_refunds_by_customer_marketplace.n_mfn_notr_refunds_unit_count_last_365_days',\n",
       " 'Abuse.mfn_categorized_refunds_si_by_customer_marketplace.n_mfn_diff_refunds_si_365_days',\n",
       " 'Abuse.mfn_categorized_refunds_si_by_customer_marketplace.n_mfn_notr_refunds_si_365_days',\n",
       " 'Abuse.mfn_refunds_by_customer_marketplace.n_mfn_refund_order_count_last_365_days',\n",
       " 'Abuse.mfn_refunds_by_customer_marketplace.n_mfn_refund_unit_amount_last_365_days',\n",
       " 'Abuse.mfn_refunds_by_customer_marketplace.n_mfn_refund_unit_count_last_365_days',\n",
       " 'Abuse.mfn_refunds_si_by_customer_marketplace.n_mfn_refund_amount_si_last_365_days',\n",
       " 'Abuse.order_to_execution_time_from_eventvariables.n_order_to_execution',\n",
       " 'Abuse.shiptrack_flag_by_order.n_any_available_for_pickup',\n",
       " 'Abuse.shiptrack_flag_by_order.n_any_delivered',\n",
       " 'Abuse.shiptrack_flag_by_order.n_any_partial_delivered',\n",
       " 'Abuse.shiptrack_flag_by_order.n_any_returned',\n",
       " 'Abuse.shiptrack_flag_by_order.n_any_returning',\n",
       " 'Abuse.shiptrack_flag_by_order.n_any_undeliverable',\n",
       " 'COMP_DAYOB',\n",
       " 'PAYMETH',\n",
       " 'abuse_type',\n",
       " 'claimAmount_value',\n",
       " 'claim_reason',\n",
       " 'claimantInfo_allClaimCount365day',\n",
       " 'claimantInfo_lifetimeClaimCount',\n",
       " 'claimantInfo_pendingClaimCount',\n",
       " 'claimantInfo_status',\n",
       " 'concession_type',\n",
       " 'is_abuse',\n",
       " 'marketplace_id',\n",
       " 'objectId',\n",
       " 'order_id',\n",
       " 'shipments_status',\n",
       " 'tag_date',\n",
       " 'transactionDate']"
      ]
     },
     "execution_count": 114,
     "metadata": {},
     "output_type": "execute_result"
    }
   ],
   "source": [
    "training_cradle_data_load_config.output_spec.output_schema"
   ]
  },
  {
   "cell_type": "markdown",
   "id": "6dbcb3c0-b8bd-402e-8b79-1e109924fcb6",
   "metadata": {},
   "source": [
    "#### Save to Config List"
   ]
  },
  {
   "cell_type": "code",
   "execution_count": 115,
   "id": "3aa719c5-a985-4592-bdd9-011b93a5dd13",
   "metadata": {},
   "outputs": [],
   "source": [
    "# Save to config list\n",
    "config_list.append(training_cradle_data_load_config)"
   ]
  },
  {
   "cell_type": "code",
   "execution_count": 116,
   "id": "876269a7-fc1a-407f-b61f-91715687cf41",
   "metadata": {
    "tags": []
   },
   "outputs": [],
   "source": [
    "# Save to config list\n",
    "config_list.append(calibration_cradle_data_load_config)"
   ]
  },
  {
   "cell_type": "code",
   "execution_count": null,
   "id": "fecb3fef-e4c4-41c4-94ad-046cab5207d7",
   "metadata": {},
   "outputs": [],
   "source": []
  },
  {
   "cell_type": "markdown",
   "id": "b3773598-5774-47f8-9f61-63a94767dd07",
   "metadata": {},
   "source": [
    "### [STEP 2.0] Tabular Preprocessing Config (Training)\n",
    "\n",
    "This step can be seen as **preprocessing step** for **training step**, or **post-processsing step** for **cradle data loading step**.\n",
    "\n",
    "This step has several simple task:\n",
    "* **Concatenate** chunks of data (due to job split or data split)\n",
    "* Transform label fields into integer type\n",
    "* For **job_type = training**, it *split* the dataset into three (train, val, test)\n",
    "* This step is a **ProcessingStep**"
   ]
  },
  {
   "cell_type": "code",
   "execution_count": 117,
   "id": "cb91d1e6-b955-4ea9-9228-26815183d880",
   "metadata": {
    "tags": []
   },
   "outputs": [],
   "source": [
    "from cursus.steps.configs.config_tabular_preprocessing_step import TabularPreprocessingConfig"
   ]
  },
  {
   "cell_type": "code",
   "execution_count": 118,
   "id": "9a8bada9-b6b6-4122-9899-97d2ce7a9992",
   "metadata": {
    "tags": []
   },
   "outputs": [],
   "source": [
    "training_tabular_preprocessing_step_config = TabularPreprocessingConfig.from_base_config(\n",
    "    processing_step_config,\n",
    "    job_type=\"training\",\n",
    "    label_name=base_hyperparameter.label_name,\n",
    "    processing_entry_point=\"tabular_preprocessing.py\"\n",
    ")"
   ]
  },
  {
   "cell_type": "code",
   "execution_count": 119,
   "id": "e8f7990d-d6bd-4134-ac3f-af7ae9d10b21",
   "metadata": {
    "scrolled": true,
    "tags": []
   },
   "outputs": [
    {
     "data": {
      "text/plain": [
       "TabularPreprocessingConfig(author='lukexie', bucket='sandboxdependency-abuse-secureaisandboxteamshare-1l77v9am252um', role='arn:aws:iam::601857636239:role/SandboxRole-lukexie-us-east-1', region='NA', service_name='AtoZ', pipeline_version='1.3.1', model_class='xgboost', current_date='2025-09-21', framework_version='1.7-1', py_version='py3', source_dir='/home/ec2-user/SageMaker/Cursus/dockers/xgboost_atoz', processing_instance_count=1, processing_volume_size=500, processing_instance_type_large='ml.m5.12xlarge', processing_instance_type_small='ml.m5.4xlarge', use_large_processing_instance=False, processing_source_dir='/home/ec2-user/SageMaker/Cursus/dockers/xgboost_atoz/scripts', processing_entry_point='tabular_preprocessing.py', processing_script_arguments=None, processing_framework_version='1.2-1', label_name='is_abuse', job_type='training', train_ratio=0.7, test_val_ratio=0.5)"
      ]
     },
     "execution_count": 119,
     "metadata": {},
     "output_type": "execute_result"
    }
   ],
   "source": [
    "training_tabular_preprocessing_step_config"
   ]
  },
  {
   "cell_type": "code",
   "execution_count": 120,
   "id": "209f39a3-b10a-4a4f-9533-87ca7f14a591",
   "metadata": {},
   "outputs": [],
   "source": [
    "training_tabular_preprocessing_step_config.use_large_processing_instance = True #use large instance type"
   ]
  },
  {
   "cell_type": "markdown",
   "id": "aa15d0f3-fa6b-4adf-b7c8-5916595b890b",
   "metadata": {},
   "source": [
    "#### Save to Config List"
   ]
  },
  {
   "cell_type": "code",
   "execution_count": 121,
   "id": "4ac61e62-93f1-41f2-8da7-86c7c63bff78",
   "metadata": {},
   "outputs": [],
   "source": [
    "# Save to config list\n",
    "config_list.append(training_tabular_preprocessing_step_config)"
   ]
  },
  {
   "cell_type": "markdown",
   "id": "19f23477-13f2-4a3d-b691-53ebb2f7db6e",
   "metadata": {},
   "source": [
    "### [STEP 2.1] Tabular Preprocessing Config (Calibration)\n",
    "\n",
    "This step can be seen as **preprocessing step** for **model evaluation step**, or **post-processsing step** for **cradle data loading step**.\n",
    "\n",
    "This step has several simple task:\n",
    "* **Concatenate** chunks of data (due to job split or data split)\n",
    "* Transform label fields into integer type\n",
    "* For **job_type = calibration**, it provide the entire processed dataset without splitting.\n",
    "* This step is a **ProcessingStep**"
   ]
  },
  {
   "cell_type": "code",
   "execution_count": 122,
   "id": "900db116-6108-42e8-b93f-aad7c83d0c0c",
   "metadata": {
    "tags": []
   },
   "outputs": [],
   "source": [
    "calibration_tabular_preprocessing_step_config = TabularPreprocessingConfig.from_base_config(\n",
    "    processing_step_config,\n",
    "    job_type=\"calibration\",\n",
    "    label_name=base_hyperparameter.label_name,\n",
    "    processing_entry_point=\"tabular_preprocessing.py\"\n",
    ")"
   ]
  },
  {
   "cell_type": "markdown",
   "id": "06623494-fc88-44c0-9a90-07bc8f495fd8",
   "metadata": {},
   "source": [
    "#### Save to Config List"
   ]
  },
  {
   "cell_type": "code",
   "execution_count": 123,
   "id": "63b73fb6-5fdc-427b-8616-d656f6fe0f3a",
   "metadata": {},
   "outputs": [],
   "source": [
    "# Save to config list\n",
    "config_list.append(calibration_tabular_preprocessing_step_config)"
   ]
  },
  {
   "cell_type": "code",
   "execution_count": 124,
   "id": "0bbbf0b7-0314-406e-a391-2004186f66fc",
   "metadata": {
    "tags": []
   },
   "outputs": [
    {
     "data": {
      "text/plain": [
       "6"
      ]
     },
     "execution_count": 124,
     "metadata": {},
     "output_type": "execute_result"
    }
   ],
   "source": [
    "len(config_list)"
   ]
  },
  {
   "cell_type": "markdown",
   "id": "0d102032-ebc0-4f5d-ad47-deeaa50921b7",
   "metadata": {},
   "source": [
    "### [REQUIRED] [STEP 3.0] Training Config\n",
    "\n",
    "This config is for **TrainingStep**. \n",
    "* It ask user to provide all necessary information to construct a **Container** and start a **Training Job**\n",
    "* Ths most important information has provided in the **HyperParameter** section.\n"
   ]
  },
  {
   "cell_type": "code",
   "execution_count": 125,
   "id": "0b583c73-0b36-41cf-9646-9681f1405e82",
   "metadata": {
    "tags": []
   },
   "outputs": [],
   "source": [
    "from cursus.steps.configs.config_xgboost_training_step import XGBoostTrainingConfig"
   ]
  },
  {
   "cell_type": "code",
   "execution_count": 126,
   "id": "cc1886be-0ad8-4041-bfa4-0c9cd3d65378",
   "metadata": {
    "tags": []
   },
   "outputs": [],
   "source": [
    "instance_type_list = [\n",
    "    \"ml.m5.4xlarge\",\n",
    "    \"ml.g4dn.16xlarge\", \n",
    "    \"ml.g5.12xlarge\", \n",
    "    \"ml.g5.16xlarge\",\n",
    "    \"ml.p3.8xlarge\", \n",
    "    \"ml.m5.12xlarge\",\n",
    "    \"ml.p3.16xlarge\"\n",
    "]"
   ]
  },
  {
   "cell_type": "code",
   "execution_count": 127,
   "id": "5ca0a4cc-a16e-4159-b609-377b5f2670ce",
   "metadata": {
    "tags": []
   },
   "outputs": [],
   "source": [
    "instance_select = -2"
   ]
  },
  {
   "cell_type": "code",
   "execution_count": 128,
   "id": "f7ea230d-b3f1-4aae-b343-5cefb276dbec",
   "metadata": {
    "tags": []
   },
   "outputs": [
    {
     "data": {
      "text/plain": [
       "'ml.m5.12xlarge'"
      ]
     },
     "execution_count": 128,
     "metadata": {},
     "output_type": "execute_result"
    }
   ],
   "source": [
    "training_instance_type = instance_type_list[instance_select]\n",
    "training_instance_type"
   ]
  },
  {
   "cell_type": "code",
   "execution_count": 129,
   "id": "145f7275-64da-4d9c-bc09-4fbe8cb30354",
   "metadata": {
    "tags": []
   },
   "outputs": [],
   "source": [
    "training_volume_size = 800"
   ]
  },
  {
   "cell_type": "code",
   "execution_count": 130,
   "id": "ee178fc4-a2c3-4456-a27d-d59ec9c59879",
   "metadata": {
    "tags": []
   },
   "outputs": [],
   "source": [
    "training_entry_point = \"xgboost_training.py\"\n"
   ]
  },
  {
   "cell_type": "code",
   "execution_count": 131,
   "id": "96ed319e-6910-43ee-82a0-02f0c89cbfb0",
   "metadata": {
    "tags": []
   },
   "outputs": [],
   "source": [
    "train_dict = {\n",
    "    'training_instance_type': training_instance_type,\n",
    "    'training_entry_point': training_entry_point,\n",
    "    'training_volume_size': training_volume_size,\n",
    "    'hyperparameters': xgb_hyperparams\n",
    "}"
   ]
  },
  {
   "cell_type": "code",
   "execution_count": 132,
   "id": "57b823cd-13b7-4764-8be5-c4cb2eb66bdb",
   "metadata": {
    "scrolled": true
   },
   "outputs": [
    {
     "data": {
      "text/plain": [
       "XGBoostModelHyperparameters(full_field_list=['Abuse.abuse_fap_action_by_customer_inline_transform_na.n_claims_solicit_count_last_365_days', 'Abuse.abuse_fap_action_by_customer_inline_transform_na.n_claims_warn_count_last_365_days', 'Abuse.abuse_fap_action_by_customer_inline_transform_na.n_concession_solicit_count_last_365_days', 'Abuse.abuse_fap_action_by_customer_inline_transform_na.n_concession_warn_count_last_365_days', 'Abuse.bsm_stats_for_evaluated_mfn_concessions_by_customer_na.n_max_buyer_order_message_time_gap', 'Abuse.bsm_stats_for_evaluated_mfn_concessions_by_customer_na.n_max_order_message_time_gap', 'Abuse.bsm_stats_for_evaluated_mfn_concessions_by_customer_na.n_max_seller_order_message_time_gap', 'Abuse.bsm_stats_for_evaluated_mfn_concessions_by_customer_na.n_message_count_with_diff_topic_si', 'Abuse.bsm_stats_for_evaluated_mfn_concessions_by_customer_na.n_message_count_with_notr_topic_si', 'Abuse.bsm_stats_for_evaluated_mfn_concessions_by_customer_na.n_message_count_with_return_keywords_si', 'Abuse.bsm_stats_for_evaluated_mfn_concessions_by_customer_na.n_min_buyer_message_count', 'Abuse.bsm_stats_for_evaluated_mfn_concessions_by_customer_na.n_min_buyer_order_message_time_gap', 'Abuse.bsm_stats_for_evaluated_mfn_concessions_by_customer_na.n_min_message_count', 'Abuse.bsm_stats_for_evaluated_mfn_concessions_by_customer_na.n_min_order_message_time_gap', 'Abuse.bsm_stats_for_evaluated_mfn_concessions_by_customer_na.n_min_seller_message_count', 'Abuse.bsm_stats_for_evaluated_mfn_concessions_by_customer_na.n_min_seller_order_message_time_gap', 'Abuse.bsm_stats_for_evaluated_mfn_concessions_by_customer_na.n_total_buyer_message_count', 'Abuse.bsm_stats_for_evaluated_mfn_concessions_by_customer_na.n_total_message_count', 'Abuse.bsm_stats_for_evaluated_mfn_concessions_by_customer_na.n_total_seller_message_count', 'Abuse.bsm_stats_for_evaluated_mfn_concessions_by_customer_na.n_total_topic_count', 'Abuse.completed_afn_orders_by_customer_marketplace.n_afn_order_count_last_365_days', 'Abuse.completed_afn_orders_by_customer_marketplace.n_afn_unit_amount_last_365_days', 'Abuse.completed_afn_orders_by_customer_marketplace.n_afn_unit_count_last_365_days', 'Abuse.completed_mfn_orders_by_customer_marketplace.n_mfn_order_count_last_365_days', 'Abuse.completed_mfn_orders_by_customer_marketplace.n_mfn_unit_amount_last_365_days', 'Abuse.completed_mfn_orders_by_customer_marketplace.n_mfn_unit_count_last_365_days', 'Abuse.dnr_by_customer_marketplace.n_dnr_amount_si_last_365_days', 'Abuse.dnr_by_customer_marketplace.n_dnr_order_count_last_365_days', 'Abuse.dnr_by_customer_marketplace.n_dnr_unit_amount_last_365_days', 'Abuse.dnr_by_customer_marketplace.n_dnr_unit_count_last_365_days', 'Abuse.mfn_a2z_claims_by_customer_na.n_mfn_claims_amount_last_365_days', 'Abuse.mfn_a2z_claims_by_customer_na.n_mfn_claims_count_last_365_days', 'Abuse.mfn_a2z_claims_by_customer_na.n_mfn_diff_claims_amount_last_365_days', 'Abuse.mfn_a2z_claims_by_customer_na.n_mfn_diff_claims_count_last_365_days', 'Abuse.mfn_a2z_claims_by_customer_na.n_mfn_notr_claims_amount_last_365_days', 'Abuse.mfn_a2z_claims_by_customer_na.n_mfn_notr_claims_count_last_365_days', 'Abuse.mfn_categorized_refunds_by_customer_marketplace.n_mfn_diff_refunds_order_count_last_365_days', 'Abuse.mfn_categorized_refunds_by_customer_marketplace.n_mfn_diff_refunds_unit_amount_last_365_days', 'Abuse.mfn_categorized_refunds_by_customer_marketplace.n_mfn_diff_refunds_unit_count_last_365_days', 'Abuse.mfn_categorized_refunds_by_customer_marketplace.n_mfn_notr_refunds_order_count_last_365_days', 'Abuse.mfn_categorized_refunds_by_customer_marketplace.n_mfn_notr_refunds_unit_amount_last_365_days', 'Abuse.mfn_categorized_refunds_by_customer_marketplace.n_mfn_notr_refunds_unit_count_last_365_days', 'Abuse.mfn_categorized_refunds_si_by_customer_marketplace.n_mfn_diff_refunds_si_365_days', 'Abuse.mfn_categorized_refunds_si_by_customer_marketplace.n_mfn_notr_refunds_si_365_days', 'Abuse.mfn_refunds_by_customer_marketplace.n_mfn_refund_order_count_last_365_days', 'Abuse.mfn_refunds_by_customer_marketplace.n_mfn_refund_unit_amount_last_365_days', 'Abuse.mfn_refunds_by_customer_marketplace.n_mfn_refund_unit_count_last_365_days', 'Abuse.mfn_refunds_si_by_customer_marketplace.n_mfn_refund_amount_si_last_365_days', 'Abuse.order_to_execution_time_from_eventvariables.n_order_to_execution', 'Abuse.shiptrack_flag_by_order.n_any_delivered', 'Abuse.shiptrack_flag_by_order.n_any_available_for_pickup', 'Abuse.shiptrack_flag_by_order.n_any_partial_delivered', 'Abuse.shiptrack_flag_by_order.n_any_undeliverable', 'Abuse.shiptrack_flag_by_order.n_any_returning', 'Abuse.shiptrack_flag_by_order.n_any_returned', 'COMP_DAYOB', 'PAYMETH', 'claimAmount_value', 'claim_reason', 'claimantInfo_allClaimCount365day', 'claimantInfo_lifetimeClaimCount', 'claimantInfo_pendingClaimCount', 'claimantInfo_status', 'shipments_status', 'order_id', 'marketplace_id', 'is_abuse'], cat_field_list=['PAYMETH', 'claim_reason', 'claimantInfo_status', 'shipments_status'], tab_field_list=['Abuse.abuse_fap_action_by_customer_inline_transform_na.n_claims_solicit_count_last_365_days', 'Abuse.abuse_fap_action_by_customer_inline_transform_na.n_claims_warn_count_last_365_days', 'Abuse.abuse_fap_action_by_customer_inline_transform_na.n_concession_solicit_count_last_365_days', 'Abuse.abuse_fap_action_by_customer_inline_transform_na.n_concession_warn_count_last_365_days', 'Abuse.bsm_stats_for_evaluated_mfn_concessions_by_customer_na.n_max_buyer_order_message_time_gap', 'Abuse.bsm_stats_for_evaluated_mfn_concessions_by_customer_na.n_max_order_message_time_gap', 'Abuse.bsm_stats_for_evaluated_mfn_concessions_by_customer_na.n_max_seller_order_message_time_gap', 'Abuse.bsm_stats_for_evaluated_mfn_concessions_by_customer_na.n_message_count_with_diff_topic_si', 'Abuse.bsm_stats_for_evaluated_mfn_concessions_by_customer_na.n_message_count_with_notr_topic_si', 'Abuse.bsm_stats_for_evaluated_mfn_concessions_by_customer_na.n_message_count_with_return_keywords_si', 'Abuse.bsm_stats_for_evaluated_mfn_concessions_by_customer_na.n_min_buyer_message_count', 'Abuse.bsm_stats_for_evaluated_mfn_concessions_by_customer_na.n_min_buyer_order_message_time_gap', 'Abuse.bsm_stats_for_evaluated_mfn_concessions_by_customer_na.n_min_message_count', 'Abuse.bsm_stats_for_evaluated_mfn_concessions_by_customer_na.n_min_order_message_time_gap', 'Abuse.bsm_stats_for_evaluated_mfn_concessions_by_customer_na.n_min_seller_message_count', 'Abuse.bsm_stats_for_evaluated_mfn_concessions_by_customer_na.n_min_seller_order_message_time_gap', 'Abuse.bsm_stats_for_evaluated_mfn_concessions_by_customer_na.n_total_buyer_message_count', 'Abuse.bsm_stats_for_evaluated_mfn_concessions_by_customer_na.n_total_message_count', 'Abuse.bsm_stats_for_evaluated_mfn_concessions_by_customer_na.n_total_seller_message_count', 'Abuse.bsm_stats_for_evaluated_mfn_concessions_by_customer_na.n_total_topic_count', 'Abuse.completed_afn_orders_by_customer_marketplace.n_afn_order_count_last_365_days', 'Abuse.completed_afn_orders_by_customer_marketplace.n_afn_unit_amount_last_365_days', 'Abuse.completed_afn_orders_by_customer_marketplace.n_afn_unit_count_last_365_days', 'Abuse.completed_mfn_orders_by_customer_marketplace.n_mfn_order_count_last_365_days', 'Abuse.completed_mfn_orders_by_customer_marketplace.n_mfn_unit_amount_last_365_days', 'Abuse.completed_mfn_orders_by_customer_marketplace.n_mfn_unit_count_last_365_days', 'Abuse.dnr_by_customer_marketplace.n_dnr_amount_si_last_365_days', 'Abuse.dnr_by_customer_marketplace.n_dnr_order_count_last_365_days', 'Abuse.dnr_by_customer_marketplace.n_dnr_unit_amount_last_365_days', 'Abuse.dnr_by_customer_marketplace.n_dnr_unit_count_last_365_days', 'Abuse.mfn_a2z_claims_by_customer_na.n_mfn_claims_amount_last_365_days', 'Abuse.mfn_a2z_claims_by_customer_na.n_mfn_claims_count_last_365_days', 'Abuse.mfn_a2z_claims_by_customer_na.n_mfn_diff_claims_amount_last_365_days', 'Abuse.mfn_a2z_claims_by_customer_na.n_mfn_diff_claims_count_last_365_days', 'Abuse.mfn_a2z_claims_by_customer_na.n_mfn_notr_claims_amount_last_365_days', 'Abuse.mfn_a2z_claims_by_customer_na.n_mfn_notr_claims_count_last_365_days', 'Abuse.mfn_categorized_refunds_by_customer_marketplace.n_mfn_diff_refunds_order_count_last_365_days', 'Abuse.mfn_categorized_refunds_by_customer_marketplace.n_mfn_diff_refunds_unit_amount_last_365_days', 'Abuse.mfn_categorized_refunds_by_customer_marketplace.n_mfn_diff_refunds_unit_count_last_365_days', 'Abuse.mfn_categorized_refunds_by_customer_marketplace.n_mfn_notr_refunds_order_count_last_365_days', 'Abuse.mfn_categorized_refunds_by_customer_marketplace.n_mfn_notr_refunds_unit_amount_last_365_days', 'Abuse.mfn_categorized_refunds_by_customer_marketplace.n_mfn_notr_refunds_unit_count_last_365_days', 'Abuse.mfn_categorized_refunds_si_by_customer_marketplace.n_mfn_diff_refunds_si_365_days', 'Abuse.mfn_categorized_refunds_si_by_customer_marketplace.n_mfn_notr_refunds_si_365_days', 'Abuse.mfn_refunds_by_customer_marketplace.n_mfn_refund_order_count_last_365_days', 'Abuse.mfn_refunds_by_customer_marketplace.n_mfn_refund_unit_amount_last_365_days', 'Abuse.mfn_refunds_by_customer_marketplace.n_mfn_refund_unit_count_last_365_days', 'Abuse.mfn_refunds_si_by_customer_marketplace.n_mfn_refund_amount_si_last_365_days', 'Abuse.order_to_execution_time_from_eventvariables.n_order_to_execution', 'Abuse.shiptrack_flag_by_order.n_any_delivered', 'Abuse.shiptrack_flag_by_order.n_any_available_for_pickup', 'Abuse.shiptrack_flag_by_order.n_any_partial_delivered', 'Abuse.shiptrack_flag_by_order.n_any_undeliverable', 'Abuse.shiptrack_flag_by_order.n_any_returning', 'Abuse.shiptrack_flag_by_order.n_any_returned', 'COMP_DAYOB', 'claimAmount_value', 'claimantInfo_allClaimCount365day', 'claimantInfo_lifetimeClaimCount', 'claimantInfo_pendingClaimCount'], id_name='order_id', label_name='is_abuse', multiclass_categories=[0, 1], categorical_features_to_encode=[], model_class='base_model', device=-1, header=0, lr=3e-05, batch_size=2, max_epochs=3, metric_choices=['f1_score', 'auroc'], optimizer='SGD', class_weights=[1.0, 1.0], num_round=300, max_depth=6, min_child_weight=1.0, booster='gbtree', eta=0.3, gamma=0.0, max_delta_step=0.0, subsample=1.0, colsample_bytree=1.0, colsample_bylevel=1.0, colsample_bynode=1.0, lambda_xgb=1.0, alpha_xgb=0.0, tree_method='auto', sketch_eps=None, scale_pos_weight=1.0, num_parallel_tree=None, base_score=None, seed=None, early_stopping_rounds=None)"
      ]
     },
     "execution_count": 132,
     "metadata": {},
     "output_type": "execute_result"
    }
   ],
   "source": [
    "xgb_hyperparams"
   ]
  },
  {
   "cell_type": "code",
   "execution_count": 133,
   "id": "8b230d20-d1bf-49fc-af03-0e1145778c96",
   "metadata": {
    "tags": []
   },
   "outputs": [],
   "source": [
    "xgboost_train_config = XGBoostTrainingConfig.from_base_config(\n",
    "    base_config,\n",
    "    **train_dict\n",
    ")"
   ]
  },
  {
   "cell_type": "code",
   "execution_count": 134,
   "id": "ab7fd057-9dc9-4e2a-a88b-9188ae1f3fb6",
   "metadata": {
    "scrolled": true
   },
   "outputs": [
    {
     "data": {
      "text/plain": [
       "XGBoostTrainingConfig(author='lukexie', bucket='sandboxdependency-abuse-secureaisandboxteamshare-1l77v9am252um', role='arn:aws:iam::601857636239:role/SandboxRole-lukexie-us-east-1', region='NA', service_name='AtoZ', pipeline_version='1.3.1', model_class='xgboost', current_date='2025-09-21', framework_version='1.7-1', py_version='py3', source_dir='/home/ec2-user/SageMaker/Cursus/dockers/xgboost_atoz', training_entry_point='xgboost_training.py', hyperparameters=XGBoostModelHyperparameters(full_field_list=['Abuse.abuse_fap_action_by_customer_inline_transform_na.n_claims_solicit_count_last_365_days', 'Abuse.abuse_fap_action_by_customer_inline_transform_na.n_claims_warn_count_last_365_days', 'Abuse.abuse_fap_action_by_customer_inline_transform_na.n_concession_solicit_count_last_365_days', 'Abuse.abuse_fap_action_by_customer_inline_transform_na.n_concession_warn_count_last_365_days', 'Abuse.bsm_stats_for_evaluated_mfn_concessions_by_customer_na.n_max_buyer_order_message_time_gap', 'Abuse.bsm_stats_for_evaluated_mfn_concessions_by_customer_na.n_max_order_message_time_gap', 'Abuse.bsm_stats_for_evaluated_mfn_concessions_by_customer_na.n_max_seller_order_message_time_gap', 'Abuse.bsm_stats_for_evaluated_mfn_concessions_by_customer_na.n_message_count_with_diff_topic_si', 'Abuse.bsm_stats_for_evaluated_mfn_concessions_by_customer_na.n_message_count_with_notr_topic_si', 'Abuse.bsm_stats_for_evaluated_mfn_concessions_by_customer_na.n_message_count_with_return_keywords_si', 'Abuse.bsm_stats_for_evaluated_mfn_concessions_by_customer_na.n_min_buyer_message_count', 'Abuse.bsm_stats_for_evaluated_mfn_concessions_by_customer_na.n_min_buyer_order_message_time_gap', 'Abuse.bsm_stats_for_evaluated_mfn_concessions_by_customer_na.n_min_message_count', 'Abuse.bsm_stats_for_evaluated_mfn_concessions_by_customer_na.n_min_order_message_time_gap', 'Abuse.bsm_stats_for_evaluated_mfn_concessions_by_customer_na.n_min_seller_message_count', 'Abuse.bsm_stats_for_evaluated_mfn_concessions_by_customer_na.n_min_seller_order_message_time_gap', 'Abuse.bsm_stats_for_evaluated_mfn_concessions_by_customer_na.n_total_buyer_message_count', 'Abuse.bsm_stats_for_evaluated_mfn_concessions_by_customer_na.n_total_message_count', 'Abuse.bsm_stats_for_evaluated_mfn_concessions_by_customer_na.n_total_seller_message_count', 'Abuse.bsm_stats_for_evaluated_mfn_concessions_by_customer_na.n_total_topic_count', 'Abuse.completed_afn_orders_by_customer_marketplace.n_afn_order_count_last_365_days', 'Abuse.completed_afn_orders_by_customer_marketplace.n_afn_unit_amount_last_365_days', 'Abuse.completed_afn_orders_by_customer_marketplace.n_afn_unit_count_last_365_days', 'Abuse.completed_mfn_orders_by_customer_marketplace.n_mfn_order_count_last_365_days', 'Abuse.completed_mfn_orders_by_customer_marketplace.n_mfn_unit_amount_last_365_days', 'Abuse.completed_mfn_orders_by_customer_marketplace.n_mfn_unit_count_last_365_days', 'Abuse.dnr_by_customer_marketplace.n_dnr_amount_si_last_365_days', 'Abuse.dnr_by_customer_marketplace.n_dnr_order_count_last_365_days', 'Abuse.dnr_by_customer_marketplace.n_dnr_unit_amount_last_365_days', 'Abuse.dnr_by_customer_marketplace.n_dnr_unit_count_last_365_days', 'Abuse.mfn_a2z_claims_by_customer_na.n_mfn_claims_amount_last_365_days', 'Abuse.mfn_a2z_claims_by_customer_na.n_mfn_claims_count_last_365_days', 'Abuse.mfn_a2z_claims_by_customer_na.n_mfn_diff_claims_amount_last_365_days', 'Abuse.mfn_a2z_claims_by_customer_na.n_mfn_diff_claims_count_last_365_days', 'Abuse.mfn_a2z_claims_by_customer_na.n_mfn_notr_claims_amount_last_365_days', 'Abuse.mfn_a2z_claims_by_customer_na.n_mfn_notr_claims_count_last_365_days', 'Abuse.mfn_categorized_refunds_by_customer_marketplace.n_mfn_diff_refunds_order_count_last_365_days', 'Abuse.mfn_categorized_refunds_by_customer_marketplace.n_mfn_diff_refunds_unit_amount_last_365_days', 'Abuse.mfn_categorized_refunds_by_customer_marketplace.n_mfn_diff_refunds_unit_count_last_365_days', 'Abuse.mfn_categorized_refunds_by_customer_marketplace.n_mfn_notr_refunds_order_count_last_365_days', 'Abuse.mfn_categorized_refunds_by_customer_marketplace.n_mfn_notr_refunds_unit_amount_last_365_days', 'Abuse.mfn_categorized_refunds_by_customer_marketplace.n_mfn_notr_refunds_unit_count_last_365_days', 'Abuse.mfn_categorized_refunds_si_by_customer_marketplace.n_mfn_diff_refunds_si_365_days', 'Abuse.mfn_categorized_refunds_si_by_customer_marketplace.n_mfn_notr_refunds_si_365_days', 'Abuse.mfn_refunds_by_customer_marketplace.n_mfn_refund_order_count_last_365_days', 'Abuse.mfn_refunds_by_customer_marketplace.n_mfn_refund_unit_amount_last_365_days', 'Abuse.mfn_refunds_by_customer_marketplace.n_mfn_refund_unit_count_last_365_days', 'Abuse.mfn_refunds_si_by_customer_marketplace.n_mfn_refund_amount_si_last_365_days', 'Abuse.order_to_execution_time_from_eventvariables.n_order_to_execution', 'Abuse.shiptrack_flag_by_order.n_any_delivered', 'Abuse.shiptrack_flag_by_order.n_any_available_for_pickup', 'Abuse.shiptrack_flag_by_order.n_any_partial_delivered', 'Abuse.shiptrack_flag_by_order.n_any_undeliverable', 'Abuse.shiptrack_flag_by_order.n_any_returning', 'Abuse.shiptrack_flag_by_order.n_any_returned', 'COMP_DAYOB', 'PAYMETH', 'claimAmount_value', 'claim_reason', 'claimantInfo_allClaimCount365day', 'claimantInfo_lifetimeClaimCount', 'claimantInfo_pendingClaimCount', 'claimantInfo_status', 'shipments_status', 'order_id', 'marketplace_id', 'is_abuse'], cat_field_list=['PAYMETH', 'claim_reason', 'claimantInfo_status', 'shipments_status'], tab_field_list=['Abuse.abuse_fap_action_by_customer_inline_transform_na.n_claims_solicit_count_last_365_days', 'Abuse.abuse_fap_action_by_customer_inline_transform_na.n_claims_warn_count_last_365_days', 'Abuse.abuse_fap_action_by_customer_inline_transform_na.n_concession_solicit_count_last_365_days', 'Abuse.abuse_fap_action_by_customer_inline_transform_na.n_concession_warn_count_last_365_days', 'Abuse.bsm_stats_for_evaluated_mfn_concessions_by_customer_na.n_max_buyer_order_message_time_gap', 'Abuse.bsm_stats_for_evaluated_mfn_concessions_by_customer_na.n_max_order_message_time_gap', 'Abuse.bsm_stats_for_evaluated_mfn_concessions_by_customer_na.n_max_seller_order_message_time_gap', 'Abuse.bsm_stats_for_evaluated_mfn_concessions_by_customer_na.n_message_count_with_diff_topic_si', 'Abuse.bsm_stats_for_evaluated_mfn_concessions_by_customer_na.n_message_count_with_notr_topic_si', 'Abuse.bsm_stats_for_evaluated_mfn_concessions_by_customer_na.n_message_count_with_return_keywords_si', 'Abuse.bsm_stats_for_evaluated_mfn_concessions_by_customer_na.n_min_buyer_message_count', 'Abuse.bsm_stats_for_evaluated_mfn_concessions_by_customer_na.n_min_buyer_order_message_time_gap', 'Abuse.bsm_stats_for_evaluated_mfn_concessions_by_customer_na.n_min_message_count', 'Abuse.bsm_stats_for_evaluated_mfn_concessions_by_customer_na.n_min_order_message_time_gap', 'Abuse.bsm_stats_for_evaluated_mfn_concessions_by_customer_na.n_min_seller_message_count', 'Abuse.bsm_stats_for_evaluated_mfn_concessions_by_customer_na.n_min_seller_order_message_time_gap', 'Abuse.bsm_stats_for_evaluated_mfn_concessions_by_customer_na.n_total_buyer_message_count', 'Abuse.bsm_stats_for_evaluated_mfn_concessions_by_customer_na.n_total_message_count', 'Abuse.bsm_stats_for_evaluated_mfn_concessions_by_customer_na.n_total_seller_message_count', 'Abuse.bsm_stats_for_evaluated_mfn_concessions_by_customer_na.n_total_topic_count', 'Abuse.completed_afn_orders_by_customer_marketplace.n_afn_order_count_last_365_days', 'Abuse.completed_afn_orders_by_customer_marketplace.n_afn_unit_amount_last_365_days', 'Abuse.completed_afn_orders_by_customer_marketplace.n_afn_unit_count_last_365_days', 'Abuse.completed_mfn_orders_by_customer_marketplace.n_mfn_order_count_last_365_days', 'Abuse.completed_mfn_orders_by_customer_marketplace.n_mfn_unit_amount_last_365_days', 'Abuse.completed_mfn_orders_by_customer_marketplace.n_mfn_unit_count_last_365_days', 'Abuse.dnr_by_customer_marketplace.n_dnr_amount_si_last_365_days', 'Abuse.dnr_by_customer_marketplace.n_dnr_order_count_last_365_days', 'Abuse.dnr_by_customer_marketplace.n_dnr_unit_amount_last_365_days', 'Abuse.dnr_by_customer_marketplace.n_dnr_unit_count_last_365_days', 'Abuse.mfn_a2z_claims_by_customer_na.n_mfn_claims_amount_last_365_days', 'Abuse.mfn_a2z_claims_by_customer_na.n_mfn_claims_count_last_365_days', 'Abuse.mfn_a2z_claims_by_customer_na.n_mfn_diff_claims_amount_last_365_days', 'Abuse.mfn_a2z_claims_by_customer_na.n_mfn_diff_claims_count_last_365_days', 'Abuse.mfn_a2z_claims_by_customer_na.n_mfn_notr_claims_amount_last_365_days', 'Abuse.mfn_a2z_claims_by_customer_na.n_mfn_notr_claims_count_last_365_days', 'Abuse.mfn_categorized_refunds_by_customer_marketplace.n_mfn_diff_refunds_order_count_last_365_days', 'Abuse.mfn_categorized_refunds_by_customer_marketplace.n_mfn_diff_refunds_unit_amount_last_365_days', 'Abuse.mfn_categorized_refunds_by_customer_marketplace.n_mfn_diff_refunds_unit_count_last_365_days', 'Abuse.mfn_categorized_refunds_by_customer_marketplace.n_mfn_notr_refunds_order_count_last_365_days', 'Abuse.mfn_categorized_refunds_by_customer_marketplace.n_mfn_notr_refunds_unit_amount_last_365_days', 'Abuse.mfn_categorized_refunds_by_customer_marketplace.n_mfn_notr_refunds_unit_count_last_365_days', 'Abuse.mfn_categorized_refunds_si_by_customer_marketplace.n_mfn_diff_refunds_si_365_days', 'Abuse.mfn_categorized_refunds_si_by_customer_marketplace.n_mfn_notr_refunds_si_365_days', 'Abuse.mfn_refunds_by_customer_marketplace.n_mfn_refund_order_count_last_365_days', 'Abuse.mfn_refunds_by_customer_marketplace.n_mfn_refund_unit_amount_last_365_days', 'Abuse.mfn_refunds_by_customer_marketplace.n_mfn_refund_unit_count_last_365_days', 'Abuse.mfn_refunds_si_by_customer_marketplace.n_mfn_refund_amount_si_last_365_days', 'Abuse.order_to_execution_time_from_eventvariables.n_order_to_execution', 'Abuse.shiptrack_flag_by_order.n_any_delivered', 'Abuse.shiptrack_flag_by_order.n_any_available_for_pickup', 'Abuse.shiptrack_flag_by_order.n_any_partial_delivered', 'Abuse.shiptrack_flag_by_order.n_any_undeliverable', 'Abuse.shiptrack_flag_by_order.n_any_returning', 'Abuse.shiptrack_flag_by_order.n_any_returned', 'COMP_DAYOB', 'claimAmount_value', 'claimantInfo_allClaimCount365day', 'claimantInfo_lifetimeClaimCount', 'claimantInfo_pendingClaimCount'], id_name='order_id', label_name='is_abuse', multiclass_categories=[0, 1], categorical_features_to_encode=[], model_class='base_model', device=-1, header=0, lr=3e-05, batch_size=2, max_epochs=3, metric_choices=['f1_score', 'auroc'], optimizer='SGD', class_weights=[1.0, 1.0], num_round=300, max_depth=6, min_child_weight=1.0, booster='gbtree', eta=0.3, gamma=0.0, max_delta_step=0.0, subsample=1.0, colsample_bytree=1.0, colsample_bylevel=1.0, colsample_bynode=1.0, lambda_xgb=1.0, alpha_xgb=0.0, tree_method='auto', sketch_eps=None, scale_pos_weight=1.0, num_parallel_tree=None, base_score=None, seed=None, early_stopping_rounds=None), training_instance_type='ml.m5.12xlarge', training_instance_count=1, training_volume_size=800)"
      ]
     },
     "execution_count": 134,
     "metadata": {},
     "output_type": "execute_result"
    }
   ],
   "source": [
    "xgboost_train_config"
   ]
  },
  {
   "cell_type": "markdown",
   "id": "4dd4d00a-b4a0-419d-b48c-a32b63d4ce23",
   "metadata": {},
   "source": [
    "#### Save to Config List"
   ]
  },
  {
   "cell_type": "code",
   "execution_count": 135,
   "id": "b175fc3e-9cb7-4594-9dba-76b7c5a03fd6",
   "metadata": {
    "tags": []
   },
   "outputs": [],
   "source": [
    "# Save to config list\n",
    "config_list.append(xgboost_train_config)"
   ]
  },
  {
   "cell_type": "markdown",
   "id": "a96063b3-b665-4dfc-ae62-201c947b9218",
   "metadata": {},
   "source": [
    "### [STEP 4.0] Model Calibration Config\n",
    "The task of **model calibration** is to transform *raw model scores* into **calibrated probabilities** that better reflect the _true probability_ of the event occurring.\n"
   ]
  },
  {
   "cell_type": "code",
   "execution_count": 136,
   "id": "3c42b7de-c90e-42c9-ac37-415e7e684845",
   "metadata": {},
   "outputs": [],
   "source": [
    "from cursus.steps.configs.config_model_calibration_step import ModelCalibrationConfig"
   ]
  },
  {
   "cell_type": "code",
   "execution_count": 137,
   "id": "85441141-d45a-4b26-8b9b-16d830cf5c2a",
   "metadata": {},
   "outputs": [],
   "source": [
    "label_field = base_hyperparameter.label_name"
   ]
  },
  {
   "cell_type": "code",
   "execution_count": 138,
   "id": "f376cf63-0c6e-4ee6-b098-1010db431aa1",
   "metadata": {},
   "outputs": [],
   "source": [
    "score_field_prefix = 'prob_class_'"
   ]
  },
  {
   "cell_type": "code",
   "execution_count": 139,
   "id": "56e969e9-26c7-4ddd-94c8-73c8100867bf",
   "metadata": {},
   "outputs": [],
   "source": [
    "model_calibration_config = ModelCalibrationConfig.from_base_config(\n",
    "    processing_step_config,\n",
    "    label_field=base_hyperparameter.label_name,\n",
    "    processing_entry_point='model_calibration.py',\n",
    "    score_field='prob_class_1',\n",
    "    is_binary=base_hyperparameter.is_binary,\n",
    "    num_classes=base_hyperparameter.num_classes,\n",
    "    score_field_prefix='prob_class_',\n",
    "    multiclass_categories=[i for i in range(base_hyperparameter.num_classes)]\n",
    "    )"
   ]
  },
  {
   "cell_type": "code",
   "execution_count": 140,
   "id": "0de8a93f-52e2-4fbf-8002-a7dd67029af2",
   "metadata": {},
   "outputs": [
    {
     "data": {
      "text/plain": [
       "ModelCalibrationConfig(author='lukexie', bucket='sandboxdependency-abuse-secureaisandboxteamshare-1l77v9am252um', role='arn:aws:iam::601857636239:role/SandboxRole-lukexie-us-east-1', region='NA', service_name='AtoZ', pipeline_version='1.3.1', model_class='xgboost', current_date='2025-09-21', framework_version='1.7-1', py_version='py3', source_dir='/home/ec2-user/SageMaker/Cursus/dockers/xgboost_atoz', processing_instance_count=1, processing_volume_size=500, processing_instance_type_large='ml.m5.12xlarge', processing_instance_type_small='ml.m5.4xlarge', use_large_processing_instance=False, processing_source_dir='/home/ec2-user/SageMaker/Cursus/dockers/xgboost_atoz/scripts', processing_entry_point='model_calibration.py', processing_script_arguments=None, processing_framework_version='1.2-1', label_field='is_abuse', calibration_method='gam', monotonic_constraint=True, gam_splines=10, error_threshold=0.05, is_binary=True, num_classes=2, score_field='prob_class_1', score_field_prefix='prob_class_', multiclass_categories=[0, 1], job_type='calibration')"
      ]
     },
     "execution_count": 140,
     "metadata": {},
     "output_type": "execute_result"
    }
   ],
   "source": [
    "model_calibration_config"
   ]
  },
  {
   "cell_type": "markdown",
   "id": "e87cfd8f-7b7e-461c-82cb-43c4f75d2f84",
   "metadata": {},
   "source": [
    "#### Save to Config List"
   ]
  },
  {
   "cell_type": "code",
   "execution_count": 141,
   "id": "da548074-83f1-4f50-8357-6dac38a53e84",
   "metadata": {},
   "outputs": [],
   "source": [
    "config_list.append(model_calibration_config)"
   ]
  },
  {
   "cell_type": "markdown",
   "id": "490b2a21-7eb5-4d42-a977-e2811bb634f3",
   "metadata": {
    "tags": []
   },
   "source": [
    "### [STEP 5.0] Model Evaluation Config\n",
    "\n",
    "The task of **model evaluation** is to make **model inference** on processed **calibration data set**. Thus it has two dependencies\n",
    "* **Training Step**\n",
    "* **Calibration Data Flow**: (data loading + preprocesssing)\n",
    "\n",
    "This implementation is using a **ProcessingStep** but **BatchTransformStep** can be used."
   ]
  },
  {
   "cell_type": "code",
   "execution_count": 142,
   "id": "0cc9edf1-1955-4d89-ae11-d549dba9bf33",
   "metadata": {
    "tags": []
   },
   "outputs": [],
   "source": [
    "from cursus.steps.configs.config_xgboost_model_eval_step import XGBoostModelEvalConfig"
   ]
  },
  {
   "cell_type": "code",
   "execution_count": 143,
   "id": "df8caae3-dfcb-44c0-9bb8-08838baa3d68",
   "metadata": {
    "tags": []
   },
   "outputs": [],
   "source": [
    "model_eval_processing_entry_point = 'xgboost_model_evaluation.py'"
   ]
  },
  {
   "cell_type": "code",
   "execution_count": 144,
   "id": "fd0ab06e-ed13-42cc-b0d2-012d43c05859",
   "metadata": {
    "tags": []
   },
   "outputs": [],
   "source": [
    "model_eval_source_dir = source_dir"
   ]
  },
  {
   "cell_type": "code",
   "execution_count": 145,
   "id": "b0903cc5-fe1f-463b-8233-3fe86f07006f",
   "metadata": {
    "tags": []
   },
   "outputs": [],
   "source": [
    "model_eval_job_type = 'calibration'"
   ]
  },
  {
   "cell_type": "code",
   "execution_count": 146,
   "id": "4e89d33f-d561-41c1-8d0e-375b746c401b",
   "metadata": {
    "tags": []
   },
   "outputs": [
    {
     "data": {
      "text/plain": [
       "{'author': 'lukexie',\n",
       " 'bucket': 'sandboxdependency-abuse-secureaisandboxteamshare-1l77v9am252um',\n",
       " 'role': 'arn:aws:iam::601857636239:role/SandboxRole-lukexie-us-east-1',\n",
       " 'region': 'NA',\n",
       " 'service_name': 'AtoZ',\n",
       " 'pipeline_version': '1.3.1',\n",
       " 'model_class': 'xgboost',\n",
       " 'current_date': '2025-09-21',\n",
       " 'framework_version': '1.7-1',\n",
       " 'py_version': 'py3',\n",
       " 'source_dir': '/home/ec2-user/SageMaker/Cursus/dockers/xgboost_atoz',\n",
       " 'processing_instance_count': 1,\n",
       " 'processing_volume_size': 500,\n",
       " 'processing_instance_type_large': 'ml.m5.12xlarge',\n",
       " 'processing_instance_type_small': 'ml.m5.4xlarge',\n",
       " 'use_large_processing_instance': False,\n",
       " 'processing_source_dir': '/home/ec2-user/SageMaker/Cursus/dockers/xgboost_atoz/scripts',\n",
       " 'processing_entry_point': None,\n",
       " 'processing_script_arguments': None,\n",
       " 'processing_framework_version': '1.2-1',\n",
       " 'aws_region': 'us-east-1',\n",
       " 'pipeline_name': 'lukexie-AtoZ-xgboost-NA',\n",
       " 'pipeline_description': 'AtoZ xgboost Model NA',\n",
       " 'pipeline_s3_loc': 's3://sandboxdependency-abuse-secureaisandboxteamshare-1l77v9am252um/MODS/lukexie-AtoZ-xgboost-NA_1.3.1',\n",
       " 'portable_source_dir': 'dockers/xgboost_atoz',\n",
       " 'effective_source_dir': 'dockers/xgboost_atoz/scripts',\n",
       " 'effective_instance_type': 'ml.m5.4xlarge',\n",
       " 'portable_processing_source_dir': 'dockers/xgboost_atoz/scripts'}"
      ]
     },
     "execution_count": 146,
     "metadata": {},
     "output_type": "execute_result"
    }
   ],
   "source": [
    "previous_processing_config = processing_step_config.model_dump()\n",
    "previous_processing_config"
   ]
  },
  {
   "cell_type": "code",
   "execution_count": 147,
   "id": "d4e039ce-7bc7-4687-a588-25f1a082bbfd",
   "metadata": {
    "tags": []
   },
   "outputs": [],
   "source": [
    "previous_processing_config['processing_source_dir'] = str(model_eval_source_dir)"
   ]
  },
  {
   "cell_type": "code",
   "execution_count": 148,
   "id": "a1346ffb-3493-4151-b9bf-7060b900c407",
   "metadata": {
    "tags": []
   },
   "outputs": [],
   "source": [
    "previous_processing_config['processing_entry_point'] = model_eval_processing_entry_point"
   ]
  },
  {
   "cell_type": "code",
   "execution_count": 149,
   "id": "d5cca4ed-4c87-43f1-b71f-9470c346cffe",
   "metadata": {
    "tags": []
   },
   "outputs": [],
   "source": [
    "previous_processing_config['use_large_processing_instance'] = True"
   ]
  },
  {
   "cell_type": "code",
   "execution_count": 150,
   "id": "8f33ec29-ec06-4e55-ab38-6f343ec75f74",
   "metadata": {
    "scrolled": true,
    "tags": []
   },
   "outputs": [
    {
     "data": {
      "text/plain": [
       "{'author': 'lukexie',\n",
       " 'bucket': 'sandboxdependency-abuse-secureaisandboxteamshare-1l77v9am252um',\n",
       " 'role': 'arn:aws:iam::601857636239:role/SandboxRole-lukexie-us-east-1',\n",
       " 'region': 'NA',\n",
       " 'service_name': 'AtoZ',\n",
       " 'pipeline_version': '1.3.1',\n",
       " 'model_class': 'xgboost',\n",
       " 'current_date': '2025-09-21',\n",
       " 'framework_version': '1.7-1',\n",
       " 'py_version': 'py3',\n",
       " 'source_dir': '/home/ec2-user/SageMaker/Cursus/dockers/xgboost_atoz',\n",
       " 'processing_instance_count': 1,\n",
       " 'processing_volume_size': 500,\n",
       " 'processing_instance_type_large': 'ml.m5.12xlarge',\n",
       " 'processing_instance_type_small': 'ml.m5.4xlarge',\n",
       " 'use_large_processing_instance': True,\n",
       " 'processing_source_dir': '/home/ec2-user/SageMaker/Cursus/dockers/xgboost_atoz',\n",
       " 'processing_entry_point': 'xgboost_model_evaluation.py',\n",
       " 'processing_script_arguments': None,\n",
       " 'processing_framework_version': '1.2-1',\n",
       " 'aws_region': 'us-east-1',\n",
       " 'pipeline_name': 'lukexie-AtoZ-xgboost-NA',\n",
       " 'pipeline_description': 'AtoZ xgboost Model NA',\n",
       " 'pipeline_s3_loc': 's3://sandboxdependency-abuse-secureaisandboxteamshare-1l77v9am252um/MODS/lukexie-AtoZ-xgboost-NA_1.3.1',\n",
       " 'portable_source_dir': 'dockers/xgboost_atoz',\n",
       " 'effective_source_dir': 'dockers/xgboost_atoz/scripts',\n",
       " 'effective_instance_type': 'ml.m5.4xlarge',\n",
       " 'portable_processing_source_dir': 'dockers/xgboost_atoz/scripts'}"
      ]
     },
     "execution_count": 150,
     "metadata": {},
     "output_type": "execute_result"
    }
   ],
   "source": [
    "previous_processing_config"
   ]
  },
  {
   "cell_type": "code",
   "execution_count": 151,
   "id": "6ee20c07-f2ff-46c6-8eff-39f1d53e4fcf",
   "metadata": {
    "tags": []
   },
   "outputs": [],
   "source": [
    "xgboost_framework_version=base_config.framework_version"
   ]
  },
  {
   "cell_type": "code",
   "execution_count": 152,
   "id": "849b8d01-9758-4798-af70-0388ab59d2fd",
   "metadata": {
    "tags": []
   },
   "outputs": [],
   "source": [
    "xgboost_model_eval_config = XGBoostModelEvalConfig(\n",
    "    **previous_processing_config,\n",
    "    job_type=model_eval_job_type,\n",
    "    hyperparameters=xgb_hyperparams,\n",
    "    xgboost_framework_version=xgboost_framework_version\n",
    ")"
   ]
  },
  {
   "cell_type": "code",
   "execution_count": 153,
   "id": "a8147bde-7972-4ab5-9114-4bbbb56c3dc1",
   "metadata": {
    "scrolled": true,
    "tags": []
   },
   "outputs": [
    {
     "data": {
      "text/plain": [
       "XGBoostModelEvalConfig(author='lukexie', bucket='sandboxdependency-abuse-secureaisandboxteamshare-1l77v9am252um', role='arn:aws:iam::601857636239:role/SandboxRole-lukexie-us-east-1', region='NA', service_name='AtoZ', pipeline_version='1.3.1', model_class='xgboost', current_date='2025-09-21', framework_version='1.7-1', py_version='py3', source_dir='/home/ec2-user/SageMaker/Cursus/dockers/xgboost_atoz', processing_instance_count=1, processing_volume_size=500, processing_instance_type_large='ml.m5.12xlarge', processing_instance_type_small='ml.m5.4xlarge', use_large_processing_instance=True, processing_source_dir='/home/ec2-user/SageMaker/Cursus/dockers/xgboost_atoz', processing_entry_point='xgboost_model_evaluation.py', processing_script_arguments=None, processing_framework_version='1.2-1', hyperparameters=XGBoostModelHyperparameters(full_field_list=['Abuse.abuse_fap_action_by_customer_inline_transform_na.n_claims_solicit_count_last_365_days', 'Abuse.abuse_fap_action_by_customer_inline_transform_na.n_claims_warn_count_last_365_days', 'Abuse.abuse_fap_action_by_customer_inline_transform_na.n_concession_solicit_count_last_365_days', 'Abuse.abuse_fap_action_by_customer_inline_transform_na.n_concession_warn_count_last_365_days', 'Abuse.bsm_stats_for_evaluated_mfn_concessions_by_customer_na.n_max_buyer_order_message_time_gap', 'Abuse.bsm_stats_for_evaluated_mfn_concessions_by_customer_na.n_max_order_message_time_gap', 'Abuse.bsm_stats_for_evaluated_mfn_concessions_by_customer_na.n_max_seller_order_message_time_gap', 'Abuse.bsm_stats_for_evaluated_mfn_concessions_by_customer_na.n_message_count_with_diff_topic_si', 'Abuse.bsm_stats_for_evaluated_mfn_concessions_by_customer_na.n_message_count_with_notr_topic_si', 'Abuse.bsm_stats_for_evaluated_mfn_concessions_by_customer_na.n_message_count_with_return_keywords_si', 'Abuse.bsm_stats_for_evaluated_mfn_concessions_by_customer_na.n_min_buyer_message_count', 'Abuse.bsm_stats_for_evaluated_mfn_concessions_by_customer_na.n_min_buyer_order_message_time_gap', 'Abuse.bsm_stats_for_evaluated_mfn_concessions_by_customer_na.n_min_message_count', 'Abuse.bsm_stats_for_evaluated_mfn_concessions_by_customer_na.n_min_order_message_time_gap', 'Abuse.bsm_stats_for_evaluated_mfn_concessions_by_customer_na.n_min_seller_message_count', 'Abuse.bsm_stats_for_evaluated_mfn_concessions_by_customer_na.n_min_seller_order_message_time_gap', 'Abuse.bsm_stats_for_evaluated_mfn_concessions_by_customer_na.n_total_buyer_message_count', 'Abuse.bsm_stats_for_evaluated_mfn_concessions_by_customer_na.n_total_message_count', 'Abuse.bsm_stats_for_evaluated_mfn_concessions_by_customer_na.n_total_seller_message_count', 'Abuse.bsm_stats_for_evaluated_mfn_concessions_by_customer_na.n_total_topic_count', 'Abuse.completed_afn_orders_by_customer_marketplace.n_afn_order_count_last_365_days', 'Abuse.completed_afn_orders_by_customer_marketplace.n_afn_unit_amount_last_365_days', 'Abuse.completed_afn_orders_by_customer_marketplace.n_afn_unit_count_last_365_days', 'Abuse.completed_mfn_orders_by_customer_marketplace.n_mfn_order_count_last_365_days', 'Abuse.completed_mfn_orders_by_customer_marketplace.n_mfn_unit_amount_last_365_days', 'Abuse.completed_mfn_orders_by_customer_marketplace.n_mfn_unit_count_last_365_days', 'Abuse.dnr_by_customer_marketplace.n_dnr_amount_si_last_365_days', 'Abuse.dnr_by_customer_marketplace.n_dnr_order_count_last_365_days', 'Abuse.dnr_by_customer_marketplace.n_dnr_unit_amount_last_365_days', 'Abuse.dnr_by_customer_marketplace.n_dnr_unit_count_last_365_days', 'Abuse.mfn_a2z_claims_by_customer_na.n_mfn_claims_amount_last_365_days', 'Abuse.mfn_a2z_claims_by_customer_na.n_mfn_claims_count_last_365_days', 'Abuse.mfn_a2z_claims_by_customer_na.n_mfn_diff_claims_amount_last_365_days', 'Abuse.mfn_a2z_claims_by_customer_na.n_mfn_diff_claims_count_last_365_days', 'Abuse.mfn_a2z_claims_by_customer_na.n_mfn_notr_claims_amount_last_365_days', 'Abuse.mfn_a2z_claims_by_customer_na.n_mfn_notr_claims_count_last_365_days', 'Abuse.mfn_categorized_refunds_by_customer_marketplace.n_mfn_diff_refunds_order_count_last_365_days', 'Abuse.mfn_categorized_refunds_by_customer_marketplace.n_mfn_diff_refunds_unit_amount_last_365_days', 'Abuse.mfn_categorized_refunds_by_customer_marketplace.n_mfn_diff_refunds_unit_count_last_365_days', 'Abuse.mfn_categorized_refunds_by_customer_marketplace.n_mfn_notr_refunds_order_count_last_365_days', 'Abuse.mfn_categorized_refunds_by_customer_marketplace.n_mfn_notr_refunds_unit_amount_last_365_days', 'Abuse.mfn_categorized_refunds_by_customer_marketplace.n_mfn_notr_refunds_unit_count_last_365_days', 'Abuse.mfn_categorized_refunds_si_by_customer_marketplace.n_mfn_diff_refunds_si_365_days', 'Abuse.mfn_categorized_refunds_si_by_customer_marketplace.n_mfn_notr_refunds_si_365_days', 'Abuse.mfn_refunds_by_customer_marketplace.n_mfn_refund_order_count_last_365_days', 'Abuse.mfn_refunds_by_customer_marketplace.n_mfn_refund_unit_amount_last_365_days', 'Abuse.mfn_refunds_by_customer_marketplace.n_mfn_refund_unit_count_last_365_days', 'Abuse.mfn_refunds_si_by_customer_marketplace.n_mfn_refund_amount_si_last_365_days', 'Abuse.order_to_execution_time_from_eventvariables.n_order_to_execution', 'Abuse.shiptrack_flag_by_order.n_any_delivered', 'Abuse.shiptrack_flag_by_order.n_any_available_for_pickup', 'Abuse.shiptrack_flag_by_order.n_any_partial_delivered', 'Abuse.shiptrack_flag_by_order.n_any_undeliverable', 'Abuse.shiptrack_flag_by_order.n_any_returning', 'Abuse.shiptrack_flag_by_order.n_any_returned', 'COMP_DAYOB', 'PAYMETH', 'claimAmount_value', 'claim_reason', 'claimantInfo_allClaimCount365day', 'claimantInfo_lifetimeClaimCount', 'claimantInfo_pendingClaimCount', 'claimantInfo_status', 'shipments_status', 'order_id', 'marketplace_id', 'is_abuse'], cat_field_list=['PAYMETH', 'claim_reason', 'claimantInfo_status', 'shipments_status'], tab_field_list=['Abuse.abuse_fap_action_by_customer_inline_transform_na.n_claims_solicit_count_last_365_days', 'Abuse.abuse_fap_action_by_customer_inline_transform_na.n_claims_warn_count_last_365_days', 'Abuse.abuse_fap_action_by_customer_inline_transform_na.n_concession_solicit_count_last_365_days', 'Abuse.abuse_fap_action_by_customer_inline_transform_na.n_concession_warn_count_last_365_days', 'Abuse.bsm_stats_for_evaluated_mfn_concessions_by_customer_na.n_max_buyer_order_message_time_gap', 'Abuse.bsm_stats_for_evaluated_mfn_concessions_by_customer_na.n_max_order_message_time_gap', 'Abuse.bsm_stats_for_evaluated_mfn_concessions_by_customer_na.n_max_seller_order_message_time_gap', 'Abuse.bsm_stats_for_evaluated_mfn_concessions_by_customer_na.n_message_count_with_diff_topic_si', 'Abuse.bsm_stats_for_evaluated_mfn_concessions_by_customer_na.n_message_count_with_notr_topic_si', 'Abuse.bsm_stats_for_evaluated_mfn_concessions_by_customer_na.n_message_count_with_return_keywords_si', 'Abuse.bsm_stats_for_evaluated_mfn_concessions_by_customer_na.n_min_buyer_message_count', 'Abuse.bsm_stats_for_evaluated_mfn_concessions_by_customer_na.n_min_buyer_order_message_time_gap', 'Abuse.bsm_stats_for_evaluated_mfn_concessions_by_customer_na.n_min_message_count', 'Abuse.bsm_stats_for_evaluated_mfn_concessions_by_customer_na.n_min_order_message_time_gap', 'Abuse.bsm_stats_for_evaluated_mfn_concessions_by_customer_na.n_min_seller_message_count', 'Abuse.bsm_stats_for_evaluated_mfn_concessions_by_customer_na.n_min_seller_order_message_time_gap', 'Abuse.bsm_stats_for_evaluated_mfn_concessions_by_customer_na.n_total_buyer_message_count', 'Abuse.bsm_stats_for_evaluated_mfn_concessions_by_customer_na.n_total_message_count', 'Abuse.bsm_stats_for_evaluated_mfn_concessions_by_customer_na.n_total_seller_message_count', 'Abuse.bsm_stats_for_evaluated_mfn_concessions_by_customer_na.n_total_topic_count', 'Abuse.completed_afn_orders_by_customer_marketplace.n_afn_order_count_last_365_days', 'Abuse.completed_afn_orders_by_customer_marketplace.n_afn_unit_amount_last_365_days', 'Abuse.completed_afn_orders_by_customer_marketplace.n_afn_unit_count_last_365_days', 'Abuse.completed_mfn_orders_by_customer_marketplace.n_mfn_order_count_last_365_days', 'Abuse.completed_mfn_orders_by_customer_marketplace.n_mfn_unit_amount_last_365_days', 'Abuse.completed_mfn_orders_by_customer_marketplace.n_mfn_unit_count_last_365_days', 'Abuse.dnr_by_customer_marketplace.n_dnr_amount_si_last_365_days', 'Abuse.dnr_by_customer_marketplace.n_dnr_order_count_last_365_days', 'Abuse.dnr_by_customer_marketplace.n_dnr_unit_amount_last_365_days', 'Abuse.dnr_by_customer_marketplace.n_dnr_unit_count_last_365_days', 'Abuse.mfn_a2z_claims_by_customer_na.n_mfn_claims_amount_last_365_days', 'Abuse.mfn_a2z_claims_by_customer_na.n_mfn_claims_count_last_365_days', 'Abuse.mfn_a2z_claims_by_customer_na.n_mfn_diff_claims_amount_last_365_days', 'Abuse.mfn_a2z_claims_by_customer_na.n_mfn_diff_claims_count_last_365_days', 'Abuse.mfn_a2z_claims_by_customer_na.n_mfn_notr_claims_amount_last_365_days', 'Abuse.mfn_a2z_claims_by_customer_na.n_mfn_notr_claims_count_last_365_days', 'Abuse.mfn_categorized_refunds_by_customer_marketplace.n_mfn_diff_refunds_order_count_last_365_days', 'Abuse.mfn_categorized_refunds_by_customer_marketplace.n_mfn_diff_refunds_unit_amount_last_365_days', 'Abuse.mfn_categorized_refunds_by_customer_marketplace.n_mfn_diff_refunds_unit_count_last_365_days', 'Abuse.mfn_categorized_refunds_by_customer_marketplace.n_mfn_notr_refunds_order_count_last_365_days', 'Abuse.mfn_categorized_refunds_by_customer_marketplace.n_mfn_notr_refunds_unit_amount_last_365_days', 'Abuse.mfn_categorized_refunds_by_customer_marketplace.n_mfn_notr_refunds_unit_count_last_365_days', 'Abuse.mfn_categorized_refunds_si_by_customer_marketplace.n_mfn_diff_refunds_si_365_days', 'Abuse.mfn_categorized_refunds_si_by_customer_marketplace.n_mfn_notr_refunds_si_365_days', 'Abuse.mfn_refunds_by_customer_marketplace.n_mfn_refund_order_count_last_365_days', 'Abuse.mfn_refunds_by_customer_marketplace.n_mfn_refund_unit_amount_last_365_days', 'Abuse.mfn_refunds_by_customer_marketplace.n_mfn_refund_unit_count_last_365_days', 'Abuse.mfn_refunds_si_by_customer_marketplace.n_mfn_refund_amount_si_last_365_days', 'Abuse.order_to_execution_time_from_eventvariables.n_order_to_execution', 'Abuse.shiptrack_flag_by_order.n_any_delivered', 'Abuse.shiptrack_flag_by_order.n_any_available_for_pickup', 'Abuse.shiptrack_flag_by_order.n_any_partial_delivered', 'Abuse.shiptrack_flag_by_order.n_any_undeliverable', 'Abuse.shiptrack_flag_by_order.n_any_returning', 'Abuse.shiptrack_flag_by_order.n_any_returned', 'COMP_DAYOB', 'claimAmount_value', 'claimantInfo_allClaimCount365day', 'claimantInfo_lifetimeClaimCount', 'claimantInfo_pendingClaimCount'], id_name='order_id', label_name='is_abuse', multiclass_categories=[0, 1], categorical_features_to_encode=[], model_class='base_model', device=-1, header=0, lr=3e-05, batch_size=2, max_epochs=3, metric_choices=['f1_score', 'auroc'], optimizer='SGD', class_weights=[1.0, 1.0], num_round=300, max_depth=6, min_child_weight=1.0, booster='gbtree', eta=0.3, gamma=0.0, max_delta_step=0.0, subsample=1.0, colsample_bytree=1.0, colsample_bylevel=1.0, colsample_bynode=1.0, lambda_xgb=1.0, alpha_xgb=0.0, tree_method='auto', sketch_eps=None, scale_pos_weight=1.0, num_parallel_tree=None, base_score=None, seed=None, early_stopping_rounds=None), job_type='calibration', eval_metric_choices=['auc', 'average_precision', 'f1_score'], xgboost_framework_version='1.7-1', aws_region='us-east-1', pipeline_name='lukexie-AtoZ-xgboost-NA', pipeline_description='AtoZ xgboost Model NA', pipeline_s3_loc='s3://sandboxdependency-abuse-secureaisandboxteamshare-1l77v9am252um/MODS/lukexie-AtoZ-xgboost-NA_1.3.1', portable_source_dir='dockers/xgboost_atoz', effective_source_dir='dockers/xgboost_atoz/scripts', effective_instance_type='ml.m5.4xlarge', portable_processing_source_dir='dockers/xgboost_atoz/scripts')"
      ]
     },
     "execution_count": 153,
     "metadata": {},
     "output_type": "execute_result"
    }
   ],
   "source": [
    "xgboost_model_eval_config"
   ]
  },
  {
   "cell_type": "code",
   "execution_count": 154,
   "id": "670eebe8-ee69-4c62-8493-48e776791773",
   "metadata": {},
   "outputs": [
    {
     "data": {
      "text/plain": [
       "'dockers/xgboost_atoz'"
      ]
     },
     "execution_count": 154,
     "metadata": {},
     "output_type": "execute_result"
    }
   ],
   "source": [
    "xgboost_model_eval_config.portable_processing_source_dir"
   ]
  },
  {
   "cell_type": "markdown",
   "id": "70a1bba5-d5ca-45d1-9343-51ea8ab9d22d",
   "metadata": {},
   "source": [
    "#### Save to Config List"
   ]
  },
  {
   "cell_type": "code",
   "execution_count": 155,
   "id": "47b188bc-e5ef-4c26-a050-d274cd41690f",
   "metadata": {
    "tags": []
   },
   "outputs": [],
   "source": [
    "# Save to config list\n",
    "config_list.append(xgboost_model_eval_config)"
   ]
  },
  {
   "cell_type": "markdown",
   "id": "ff8ffffa-7418-405e-bcec-88194c41eacd",
   "metadata": {},
   "source": [
    "### [STEP 6.0] Packaging Config\n",
    "\n",
    "The **PackagingStep** is a *prerequisite* for **MIMSModelRegistrationStep**. \n",
    "\n",
    "It achieve simple tasks\n",
    "* Take input of `model.tar.gz` from training step\n",
    "* Unpack the model\n",
    "* Take input of source inference code (including `input_fn`, `model_fn`, `predict_fn`, `output_fn`)\n",
    "* Repack the model + inference code into one `model.tar.gz`\n",
    "\n",
    "We can ask the **TrainingStep** to do this. But it is better to make this step explicit."
   ]
  },
  {
   "cell_type": "code",
   "execution_count": 156,
   "id": "c8521a9e-95e4-490d-8283-0bc72e5a687d",
   "metadata": {
    "tags": []
   },
   "outputs": [],
   "source": [
    "from cursus.steps.configs.config_package_step import PackageConfig"
   ]
  },
  {
   "cell_type": "code",
   "execution_count": 157,
   "id": "28062670-ba3a-4c20-8cf0-40dfa4478f57",
   "metadata": {
    "tags": []
   },
   "outputs": [],
   "source": [
    "package_config = PackageConfig.from_base_config(\n",
    "    processing_step_config\n",
    ")"
   ]
  },
  {
   "cell_type": "code",
   "execution_count": 158,
   "id": "8e71fdfa-32be-4b73-a28d-631f54b1a1d1",
   "metadata": {
    "tags": []
   },
   "outputs": [
    {
     "data": {
      "text/plain": [
       "PackageConfig(author='lukexie', bucket='sandboxdependency-abuse-secureaisandboxteamshare-1l77v9am252um', role='arn:aws:iam::601857636239:role/SandboxRole-lukexie-us-east-1', region='NA', service_name='AtoZ', pipeline_version='1.3.1', model_class='xgboost', current_date='2025-09-21', framework_version='1.7-1', py_version='py3', source_dir='/home/ec2-user/SageMaker/Cursus/dockers/xgboost_atoz', processing_instance_count=1, processing_volume_size=500, processing_instance_type_large='ml.m5.12xlarge', processing_instance_type_small='ml.m5.4xlarge', use_large_processing_instance=False, processing_source_dir='/home/ec2-user/SageMaker/Cursus/dockers/xgboost_atoz/scripts', processing_entry_point='package.py', processing_script_arguments=None, processing_framework_version='1.2-1')"
      ]
     },
     "execution_count": 158,
     "metadata": {},
     "output_type": "execute_result"
    }
   ],
   "source": [
    "package_config"
   ]
  },
  {
   "cell_type": "code",
   "execution_count": 159,
   "id": "7d37f7d5-546e-4c24-94bb-c62466e57e5e",
   "metadata": {},
   "outputs": [
    {
     "data": {
      "text/plain": [
       "'dockers/xgboost_atoz/scripts'"
      ]
     },
     "execution_count": 159,
     "metadata": {},
     "output_type": "execute_result"
    }
   ],
   "source": [
    "package_config.portable_processing_source_dir"
   ]
  },
  {
   "cell_type": "markdown",
   "id": "0eb1603d-33a1-40f8-b9f0-ee61406217c4",
   "metadata": {},
   "source": [
    "#### Save to Config List"
   ]
  },
  {
   "cell_type": "code",
   "execution_count": 160,
   "id": "5bb86674-cfe3-4798-8e70-957cc2567be2",
   "metadata": {
    "tags": []
   },
   "outputs": [],
   "source": [
    "# Save to config list\n",
    "config_list.append(package_config)"
   ]
  },
  {
   "cell_type": "markdown",
   "id": "6183235e-edf0-40d3-8dd7-4b130650157f",
   "metadata": {},
   "source": [
    "### **REQUIRED** [STEP 7.0] MIMS Model Registration\n",
    "\n",
    "* [MRAS (Model Resource Allocation System)](https://w.amazon.com/bin/view/CMLS/ME/MIMS/) is a system that manages your **model endpoints**. \n",
    "    * It takes your model artifact and its metadata and deploys an endpoint to an AWS account you have onboarded to MRAS. You can access this endpoint through the AMES system, which URES uses.\n",
    "* **MIMS (Model Inference Management System)** is a system that handles the model creation\n",
    "* **MMS (Model Management Service)** would manage the model card\n",
    "> \n",
    "> Note that we used to call **MRAS MIMS** (**Model Inference Management System**). \n",
    "> - **MIMS** is the component of MRAS that handles endpoint creation. \n",
    "> - To reduce customer confusion, we have started to use *MRAS* to also refer to *MIMS*. \n",
    "> - Some of our wikis may still use *MIMS* instead of *MRAS*.\n",
    "> \n",
    "> If your team has not already, please [onboard an AWS account to MRAS](https://w.amazon.com/bin/view/CMLS/ME/MIMS/UserGuide/Onboarding/).\n",
    "\n",
    "* **MIMSModelRegistrationStep** is a SageMaker Workflow Step that wrap around the service call to **MIMS**.\n",
    "    * It is also a customized step provided by SAIS Python SDK\n",
    "        * See Source code[SecureAISandboxWorkflowPythonSDK](https://code.amazon.com/packages/SecureAISandboxWorkflowPythonSDK/trees/mainline#)\n",
    "    * This step inherit from **MODSPredefinedProcessingStep**, which is a customized base class that itself inherits from **ScriptProcessingStep**.\n",
    "        * Source code in [MODSWorkflowCore](https://code.amazon.com/packages/MODSWorkflowCore/trees/mainline#)\n",
    "    * This step would need to load **Execution Document** to take action.\n",
    "\n",
    "In **MIMSModelRegistrationStep**, we need to specify the fields to fill in the **Execution Document**\n",
    "* *model_owner*\n",
    "* *model_registration_domain*\n",
    "* *model_registration_objective*\n",
    "* *source_model_inference_input_variable_list*\n",
    "* *source_model_inference_output_variable_list*\n",
    "* *source_model_inference_content_types*\n",
    "* *source_model_inference_response_types*\n"
   ]
  },
  {
   "cell_type": "code",
   "execution_count": 161,
   "id": "68ec35ae-ac04-4dca-9bfa-bddab90ead97",
   "metadata": {
    "tags": []
   },
   "outputs": [],
   "source": [
    "from enum import Enum"
   ]
  },
  {
   "cell_type": "code",
   "execution_count": 162,
   "id": "8131a602-da0d-4cd8-9e29-cfa7d3707870",
   "metadata": {
    "tags": []
   },
   "outputs": [],
   "source": [
    "from cursus.steps.configs.config_registration_step import RegistrationConfig, create_inference_variable_list, VariableType"
   ]
  },
  {
   "cell_type": "code",
   "execution_count": 163,
   "id": "10311602-a784-4813-9e68-f79cb3a0764e",
   "metadata": {
    "tags": []
   },
   "outputs": [],
   "source": [
    "model_owner = \"amzn1.abacus.team.djmdvixm5abr3p75c5ca\" # team_id of abuse-analytics"
   ]
  },
  {
   "cell_type": "code",
   "execution_count": 164,
   "id": "54f570b7-d1f7-4b30-9749-4e5ca292802b",
   "metadata": {
    "tags": []
   },
   "outputs": [
    {
     "data": {
      "text/plain": [
       "'AtoZ_Claims_SM_Model_NA'"
      ]
     },
     "execution_count": 164,
     "metadata": {},
     "output_type": "execute_result"
    }
   ],
   "source": [
    "model_domain = 'AtoZ'\n",
    "model_objective = f'AtoZ_Claims_SM_Model_{region}'\n",
    "model_objective"
   ]
  },
  {
   "cell_type": "code",
   "execution_count": 165,
   "id": "960abdf3-04c9-4d05-854a-7d7ac12a4b09",
   "metadata": {
    "tags": []
   },
   "outputs": [],
   "source": [
    "source_model_inference_output_variable_list = {\n",
    "    'legacy-score': 'NUMERIC',\n",
    "    'calibrated-score': 'NUMERIC',\n",
    "    'custom-output-label': 'TEXT'\n",
    "}"
   ]
  },
  {
   "cell_type": "code",
   "execution_count": null,
   "id": "e7240412-204f-4b76-9fdd-d303160fc4d6",
   "metadata": {
    "tags": []
   },
   "outputs": [],
   "source": []
  },
  {
   "cell_type": "code",
   "execution_count": 166,
   "id": "11fcde88-9e7e-480a-843b-2d2ddadd76a2",
   "metadata": {
    "tags": []
   },
   "outputs": [],
   "source": [
    "source_model_inference_content_types = [\"text/csv\"]\n",
    "source_model_inference_response_types = [\"application/json\"]"
   ]
  },
  {
   "cell_type": "code",
   "execution_count": 167,
   "id": "1783c0fe-5153-49cb-b5a1-6f461184163a",
   "metadata": {
    "tags": []
   },
   "outputs": [],
   "source": [
    "framework='xgboost'"
   ]
  },
  {
   "cell_type": "code",
   "execution_count": 168,
   "id": "595562b4-e86a-48e3-b078-d46fe8732a7a",
   "metadata": {
    "tags": []
   },
   "outputs": [],
   "source": [
    "inference_entry_point='xgboost_inference.py'"
   ]
  },
  {
   "cell_type": "code",
   "execution_count": 169,
   "id": "f885e118-1776-4cc3-b386-ef2c0f3cf01f",
   "metadata": {
    "tags": []
   },
   "outputs": [],
   "source": [
    "inference_instance_type=\"ml.m5.4xlarge\""
   ]
  },
  {
   "cell_type": "code",
   "execution_count": 170,
   "id": "cbce66e0-4c09-445b-8283-64932d201f03",
   "metadata": {},
   "outputs": [],
   "source": [
    "source_model_inference_input_variable_list = create_inference_variable_list(tab_field_list, cat_field_list, 'list')"
   ]
  },
  {
   "cell_type": "code",
   "execution_count": 171,
   "id": "e817e506-203a-4dd3-8254-14a6e49e29f2",
   "metadata": {
    "scrolled": true
   },
   "outputs": [
    {
     "data": {
      "text/plain": [
       "[['Abuse.abuse_fap_action_by_customer_inline_transform_na.n_claims_solicit_count_last_365_days',\n",
       "  'NUMERIC'],\n",
       " ['Abuse.abuse_fap_action_by_customer_inline_transform_na.n_claims_warn_count_last_365_days',\n",
       "  'NUMERIC'],\n",
       " ['Abuse.abuse_fap_action_by_customer_inline_transform_na.n_concession_solicit_count_last_365_days',\n",
       "  'NUMERIC'],\n",
       " ['Abuse.abuse_fap_action_by_customer_inline_transform_na.n_concession_warn_count_last_365_days',\n",
       "  'NUMERIC'],\n",
       " ['Abuse.bsm_stats_for_evaluated_mfn_concessions_by_customer_na.n_max_buyer_order_message_time_gap',\n",
       "  'NUMERIC'],\n",
       " ['Abuse.bsm_stats_for_evaluated_mfn_concessions_by_customer_na.n_max_order_message_time_gap',\n",
       "  'NUMERIC'],\n",
       " ['Abuse.bsm_stats_for_evaluated_mfn_concessions_by_customer_na.n_max_seller_order_message_time_gap',\n",
       "  'NUMERIC'],\n",
       " ['Abuse.bsm_stats_for_evaluated_mfn_concessions_by_customer_na.n_message_count_with_diff_topic_si',\n",
       "  'NUMERIC'],\n",
       " ['Abuse.bsm_stats_for_evaluated_mfn_concessions_by_customer_na.n_message_count_with_notr_topic_si',\n",
       "  'NUMERIC'],\n",
       " ['Abuse.bsm_stats_for_evaluated_mfn_concessions_by_customer_na.n_message_count_with_return_keywords_si',\n",
       "  'NUMERIC'],\n",
       " ['Abuse.bsm_stats_for_evaluated_mfn_concessions_by_customer_na.n_min_buyer_message_count',\n",
       "  'NUMERIC'],\n",
       " ['Abuse.bsm_stats_for_evaluated_mfn_concessions_by_customer_na.n_min_buyer_order_message_time_gap',\n",
       "  'NUMERIC'],\n",
       " ['Abuse.bsm_stats_for_evaluated_mfn_concessions_by_customer_na.n_min_message_count',\n",
       "  'NUMERIC'],\n",
       " ['Abuse.bsm_stats_for_evaluated_mfn_concessions_by_customer_na.n_min_order_message_time_gap',\n",
       "  'NUMERIC'],\n",
       " ['Abuse.bsm_stats_for_evaluated_mfn_concessions_by_customer_na.n_min_seller_message_count',\n",
       "  'NUMERIC'],\n",
       " ['Abuse.bsm_stats_for_evaluated_mfn_concessions_by_customer_na.n_min_seller_order_message_time_gap',\n",
       "  'NUMERIC'],\n",
       " ['Abuse.bsm_stats_for_evaluated_mfn_concessions_by_customer_na.n_total_buyer_message_count',\n",
       "  'NUMERIC'],\n",
       " ['Abuse.bsm_stats_for_evaluated_mfn_concessions_by_customer_na.n_total_message_count',\n",
       "  'NUMERIC'],\n",
       " ['Abuse.bsm_stats_for_evaluated_mfn_concessions_by_customer_na.n_total_seller_message_count',\n",
       "  'NUMERIC'],\n",
       " ['Abuse.bsm_stats_for_evaluated_mfn_concessions_by_customer_na.n_total_topic_count',\n",
       "  'NUMERIC'],\n",
       " ['Abuse.completed_afn_orders_by_customer_marketplace.n_afn_order_count_last_365_days',\n",
       "  'NUMERIC'],\n",
       " ['Abuse.completed_afn_orders_by_customer_marketplace.n_afn_unit_amount_last_365_days',\n",
       "  'NUMERIC'],\n",
       " ['Abuse.completed_afn_orders_by_customer_marketplace.n_afn_unit_count_last_365_days',\n",
       "  'NUMERIC'],\n",
       " ['Abuse.completed_mfn_orders_by_customer_marketplace.n_mfn_order_count_last_365_days',\n",
       "  'NUMERIC'],\n",
       " ['Abuse.completed_mfn_orders_by_customer_marketplace.n_mfn_unit_amount_last_365_days',\n",
       "  'NUMERIC'],\n",
       " ['Abuse.completed_mfn_orders_by_customer_marketplace.n_mfn_unit_count_last_365_days',\n",
       "  'NUMERIC'],\n",
       " ['Abuse.dnr_by_customer_marketplace.n_dnr_amount_si_last_365_days',\n",
       "  'NUMERIC'],\n",
       " ['Abuse.dnr_by_customer_marketplace.n_dnr_order_count_last_365_days',\n",
       "  'NUMERIC'],\n",
       " ['Abuse.dnr_by_customer_marketplace.n_dnr_unit_amount_last_365_days',\n",
       "  'NUMERIC'],\n",
       " ['Abuse.dnr_by_customer_marketplace.n_dnr_unit_count_last_365_days',\n",
       "  'NUMERIC'],\n",
       " ['Abuse.mfn_a2z_claims_by_customer_na.n_mfn_claims_amount_last_365_days',\n",
       "  'NUMERIC'],\n",
       " ['Abuse.mfn_a2z_claims_by_customer_na.n_mfn_claims_count_last_365_days',\n",
       "  'NUMERIC'],\n",
       " ['Abuse.mfn_a2z_claims_by_customer_na.n_mfn_diff_claims_amount_last_365_days',\n",
       "  'NUMERIC'],\n",
       " ['Abuse.mfn_a2z_claims_by_customer_na.n_mfn_diff_claims_count_last_365_days',\n",
       "  'NUMERIC'],\n",
       " ['Abuse.mfn_a2z_claims_by_customer_na.n_mfn_notr_claims_amount_last_365_days',\n",
       "  'NUMERIC'],\n",
       " ['Abuse.mfn_a2z_claims_by_customer_na.n_mfn_notr_claims_count_last_365_days',\n",
       "  'NUMERIC'],\n",
       " ['Abuse.mfn_categorized_refunds_by_customer_marketplace.n_mfn_diff_refunds_order_count_last_365_days',\n",
       "  'NUMERIC'],\n",
       " ['Abuse.mfn_categorized_refunds_by_customer_marketplace.n_mfn_diff_refunds_unit_amount_last_365_days',\n",
       "  'NUMERIC'],\n",
       " ['Abuse.mfn_categorized_refunds_by_customer_marketplace.n_mfn_diff_refunds_unit_count_last_365_days',\n",
       "  'NUMERIC'],\n",
       " ['Abuse.mfn_categorized_refunds_by_customer_marketplace.n_mfn_notr_refunds_order_count_last_365_days',\n",
       "  'NUMERIC'],\n",
       " ['Abuse.mfn_categorized_refunds_by_customer_marketplace.n_mfn_notr_refunds_unit_amount_last_365_days',\n",
       "  'NUMERIC'],\n",
       " ['Abuse.mfn_categorized_refunds_by_customer_marketplace.n_mfn_notr_refunds_unit_count_last_365_days',\n",
       "  'NUMERIC'],\n",
       " ['Abuse.mfn_categorized_refunds_si_by_customer_marketplace.n_mfn_diff_refunds_si_365_days',\n",
       "  'NUMERIC'],\n",
       " ['Abuse.mfn_categorized_refunds_si_by_customer_marketplace.n_mfn_notr_refunds_si_365_days',\n",
       "  'NUMERIC'],\n",
       " ['Abuse.mfn_refunds_by_customer_marketplace.n_mfn_refund_order_count_last_365_days',\n",
       "  'NUMERIC'],\n",
       " ['Abuse.mfn_refunds_by_customer_marketplace.n_mfn_refund_unit_amount_last_365_days',\n",
       "  'NUMERIC'],\n",
       " ['Abuse.mfn_refunds_by_customer_marketplace.n_mfn_refund_unit_count_last_365_days',\n",
       "  'NUMERIC'],\n",
       " ['Abuse.mfn_refunds_si_by_customer_marketplace.n_mfn_refund_amount_si_last_365_days',\n",
       "  'NUMERIC'],\n",
       " ['Abuse.order_to_execution_time_from_eventvariables.n_order_to_execution',\n",
       "  'NUMERIC'],\n",
       " ['Abuse.shiptrack_flag_by_order.n_any_delivered', 'NUMERIC'],\n",
       " ['Abuse.shiptrack_flag_by_order.n_any_available_for_pickup', 'NUMERIC'],\n",
       " ['Abuse.shiptrack_flag_by_order.n_any_partial_delivered', 'NUMERIC'],\n",
       " ['Abuse.shiptrack_flag_by_order.n_any_undeliverable', 'NUMERIC'],\n",
       " ['Abuse.shiptrack_flag_by_order.n_any_returning', 'NUMERIC'],\n",
       " ['Abuse.shiptrack_flag_by_order.n_any_returned', 'NUMERIC'],\n",
       " ['COMP_DAYOB', 'NUMERIC'],\n",
       " ['claimAmount_value', 'NUMERIC'],\n",
       " ['claimantInfo_allClaimCount365day', 'NUMERIC'],\n",
       " ['claimantInfo_lifetimeClaimCount', 'NUMERIC'],\n",
       " ['claimantInfo_pendingClaimCount', 'NUMERIC'],\n",
       " ['PAYMETH', 'TEXT'],\n",
       " ['claim_reason', 'TEXT'],\n",
       " ['claimantInfo_status', 'TEXT'],\n",
       " ['shipments_status', 'TEXT']]"
      ]
     },
     "execution_count": 171,
     "metadata": {},
     "output_type": "execute_result"
    }
   ],
   "source": [
    "source_model_inference_input_variable_list"
   ]
  },
  {
   "cell_type": "code",
   "execution_count": 172,
   "id": "1e196839-1bb3-48a1-a7bd-1b53d79adae3",
   "metadata": {},
   "outputs": [],
   "source": [
    "model_registration_config = RegistrationConfig.from_base_config(\n",
    "    base_config,\n",
    "    framework=framework,\n",
    "    inference_entry_point=inference_entry_point,\n",
    "    model_owner=model_owner,\n",
    "    model_domain=model_domain,\n",
    "    model_objective=model_objective,\n",
    "    source_model_inference_output_variable_list=source_model_inference_output_variable_list,\n",
    "    source_model_inference_input_variable_list=source_model_inference_input_variable_list\n",
    ")\n"
   ]
  },
  {
   "cell_type": "code",
   "execution_count": 173,
   "id": "a2e1528c-253f-4281-8d8d-28c37168245d",
   "metadata": {
    "scrolled": true,
    "tags": []
   },
   "outputs": [
    {
     "data": {
      "text/plain": [
       "RegistrationConfig(author='lukexie', bucket='sandboxdependency-abuse-secureaisandboxteamshare-1l77v9am252um', role='arn:aws:iam::601857636239:role/SandboxRole-lukexie-us-east-1', region='NA', service_name='AtoZ', pipeline_version='1.3.1', model_class='xgboost', current_date='2025-09-21', framework_version='1.7-1', py_version='py3', source_dir='/home/ec2-user/SageMaker/Cursus/dockers/xgboost_atoz', model_owner='amzn1.abacus.team.djmdvixm5abr3p75c5ca', model_domain='AtoZ', model_objective='AtoZ_Claims_SM_Model_NA', framework='xgboost', inference_entry_point='xgboost_inference.py', source_model_inference_input_variable_list=[['Abuse.abuse_fap_action_by_customer_inline_transform_na.n_claims_solicit_count_last_365_days', 'NUMERIC'], ['Abuse.abuse_fap_action_by_customer_inline_transform_na.n_claims_warn_count_last_365_days', 'NUMERIC'], ['Abuse.abuse_fap_action_by_customer_inline_transform_na.n_concession_solicit_count_last_365_days', 'NUMERIC'], ['Abuse.abuse_fap_action_by_customer_inline_transform_na.n_concession_warn_count_last_365_days', 'NUMERIC'], ['Abuse.bsm_stats_for_evaluated_mfn_concessions_by_customer_na.n_max_buyer_order_message_time_gap', 'NUMERIC'], ['Abuse.bsm_stats_for_evaluated_mfn_concessions_by_customer_na.n_max_order_message_time_gap', 'NUMERIC'], ['Abuse.bsm_stats_for_evaluated_mfn_concessions_by_customer_na.n_max_seller_order_message_time_gap', 'NUMERIC'], ['Abuse.bsm_stats_for_evaluated_mfn_concessions_by_customer_na.n_message_count_with_diff_topic_si', 'NUMERIC'], ['Abuse.bsm_stats_for_evaluated_mfn_concessions_by_customer_na.n_message_count_with_notr_topic_si', 'NUMERIC'], ['Abuse.bsm_stats_for_evaluated_mfn_concessions_by_customer_na.n_message_count_with_return_keywords_si', 'NUMERIC'], ['Abuse.bsm_stats_for_evaluated_mfn_concessions_by_customer_na.n_min_buyer_message_count', 'NUMERIC'], ['Abuse.bsm_stats_for_evaluated_mfn_concessions_by_customer_na.n_min_buyer_order_message_time_gap', 'NUMERIC'], ['Abuse.bsm_stats_for_evaluated_mfn_concessions_by_customer_na.n_min_message_count', 'NUMERIC'], ['Abuse.bsm_stats_for_evaluated_mfn_concessions_by_customer_na.n_min_order_message_time_gap', 'NUMERIC'], ['Abuse.bsm_stats_for_evaluated_mfn_concessions_by_customer_na.n_min_seller_message_count', 'NUMERIC'], ['Abuse.bsm_stats_for_evaluated_mfn_concessions_by_customer_na.n_min_seller_order_message_time_gap', 'NUMERIC'], ['Abuse.bsm_stats_for_evaluated_mfn_concessions_by_customer_na.n_total_buyer_message_count', 'NUMERIC'], ['Abuse.bsm_stats_for_evaluated_mfn_concessions_by_customer_na.n_total_message_count', 'NUMERIC'], ['Abuse.bsm_stats_for_evaluated_mfn_concessions_by_customer_na.n_total_seller_message_count', 'NUMERIC'], ['Abuse.bsm_stats_for_evaluated_mfn_concessions_by_customer_na.n_total_topic_count', 'NUMERIC'], ['Abuse.completed_afn_orders_by_customer_marketplace.n_afn_order_count_last_365_days', 'NUMERIC'], ['Abuse.completed_afn_orders_by_customer_marketplace.n_afn_unit_amount_last_365_days', 'NUMERIC'], ['Abuse.completed_afn_orders_by_customer_marketplace.n_afn_unit_count_last_365_days', 'NUMERIC'], ['Abuse.completed_mfn_orders_by_customer_marketplace.n_mfn_order_count_last_365_days', 'NUMERIC'], ['Abuse.completed_mfn_orders_by_customer_marketplace.n_mfn_unit_amount_last_365_days', 'NUMERIC'], ['Abuse.completed_mfn_orders_by_customer_marketplace.n_mfn_unit_count_last_365_days', 'NUMERIC'], ['Abuse.dnr_by_customer_marketplace.n_dnr_amount_si_last_365_days', 'NUMERIC'], ['Abuse.dnr_by_customer_marketplace.n_dnr_order_count_last_365_days', 'NUMERIC'], ['Abuse.dnr_by_customer_marketplace.n_dnr_unit_amount_last_365_days', 'NUMERIC'], ['Abuse.dnr_by_customer_marketplace.n_dnr_unit_count_last_365_days', 'NUMERIC'], ['Abuse.mfn_a2z_claims_by_customer_na.n_mfn_claims_amount_last_365_days', 'NUMERIC'], ['Abuse.mfn_a2z_claims_by_customer_na.n_mfn_claims_count_last_365_days', 'NUMERIC'], ['Abuse.mfn_a2z_claims_by_customer_na.n_mfn_diff_claims_amount_last_365_days', 'NUMERIC'], ['Abuse.mfn_a2z_claims_by_customer_na.n_mfn_diff_claims_count_last_365_days', 'NUMERIC'], ['Abuse.mfn_a2z_claims_by_customer_na.n_mfn_notr_claims_amount_last_365_days', 'NUMERIC'], ['Abuse.mfn_a2z_claims_by_customer_na.n_mfn_notr_claims_count_last_365_days', 'NUMERIC'], ['Abuse.mfn_categorized_refunds_by_customer_marketplace.n_mfn_diff_refunds_order_count_last_365_days', 'NUMERIC'], ['Abuse.mfn_categorized_refunds_by_customer_marketplace.n_mfn_diff_refunds_unit_amount_last_365_days', 'NUMERIC'], ['Abuse.mfn_categorized_refunds_by_customer_marketplace.n_mfn_diff_refunds_unit_count_last_365_days', 'NUMERIC'], ['Abuse.mfn_categorized_refunds_by_customer_marketplace.n_mfn_notr_refunds_order_count_last_365_days', 'NUMERIC'], ['Abuse.mfn_categorized_refunds_by_customer_marketplace.n_mfn_notr_refunds_unit_amount_last_365_days', 'NUMERIC'], ['Abuse.mfn_categorized_refunds_by_customer_marketplace.n_mfn_notr_refunds_unit_count_last_365_days', 'NUMERIC'], ['Abuse.mfn_categorized_refunds_si_by_customer_marketplace.n_mfn_diff_refunds_si_365_days', 'NUMERIC'], ['Abuse.mfn_categorized_refunds_si_by_customer_marketplace.n_mfn_notr_refunds_si_365_days', 'NUMERIC'], ['Abuse.mfn_refunds_by_customer_marketplace.n_mfn_refund_order_count_last_365_days', 'NUMERIC'], ['Abuse.mfn_refunds_by_customer_marketplace.n_mfn_refund_unit_amount_last_365_days', 'NUMERIC'], ['Abuse.mfn_refunds_by_customer_marketplace.n_mfn_refund_unit_count_last_365_days', 'NUMERIC'], ['Abuse.mfn_refunds_si_by_customer_marketplace.n_mfn_refund_amount_si_last_365_days', 'NUMERIC'], ['Abuse.order_to_execution_time_from_eventvariables.n_order_to_execution', 'NUMERIC'], ['Abuse.shiptrack_flag_by_order.n_any_delivered', 'NUMERIC'], ['Abuse.shiptrack_flag_by_order.n_any_available_for_pickup', 'NUMERIC'], ['Abuse.shiptrack_flag_by_order.n_any_partial_delivered', 'NUMERIC'], ['Abuse.shiptrack_flag_by_order.n_any_undeliverable', 'NUMERIC'], ['Abuse.shiptrack_flag_by_order.n_any_returning', 'NUMERIC'], ['Abuse.shiptrack_flag_by_order.n_any_returned', 'NUMERIC'], ['COMP_DAYOB', 'NUMERIC'], ['claimAmount_value', 'NUMERIC'], ['claimantInfo_allClaimCount365day', 'NUMERIC'], ['claimantInfo_lifetimeClaimCount', 'NUMERIC'], ['claimantInfo_pendingClaimCount', 'NUMERIC'], ['PAYMETH', 'TEXT'], ['claim_reason', 'TEXT'], ['claimantInfo_status', 'TEXT'], ['shipments_status', 'TEXT']], inference_instance_type='ml.m5.large', source_model_inference_content_types=['text/csv'], source_model_inference_response_types=['application/json'], source_model_inference_output_variable_list={'legacy-score': 'NUMERIC', 'calibrated-score': 'NUMERIC', 'custom-output-label': 'TEXT'})"
      ]
     },
     "execution_count": 173,
     "metadata": {},
     "output_type": "execute_result"
    }
   ],
   "source": [
    "model_registration_config"
   ]
  },
  {
   "cell_type": "code",
   "execution_count": 174,
   "id": "32f4ab48-e97d-45a5-8ebe-5371dcb8c72e",
   "metadata": {
    "scrolled": true,
    "tags": []
   },
   "outputs": [
    {
     "name": "stderr",
     "output_type": "stream",
     "text": [
      "2025-09-21 19:10:56,955 - WARNING - No contract found for step: Registration\n",
      "2025-09-21 19:10:56,955 - WARNING - No contract found for step: Registration\n"
     ]
    },
    {
     "name": "stdout",
     "output_type": "stream",
     "text": [
      "=== RegistrationConfig ===\n",
      "\n",
      "- Essential User Inputs -\n",
      "author: lukexie\n",
      "bucket: sandboxdependency-abuse-secureaisandboxteamshare-1l77v9am252um\n",
      "framework: xgboost\n",
      "inference_entry_point: xgboost_inference.py\n",
      "model_domain: AtoZ\n",
      "model_objective: AtoZ_Claims_SM_Model_NA\n",
      "model_owner: amzn1.abacus.team.djmdvixm5abr3p75c5ca\n",
      "pipeline_version: 1.3.1\n",
      "region: NA\n",
      "role: arn:aws:iam::601857636239:role/SandboxRole-lukexie-us-east-1\n",
      "service_name: AtoZ\n",
      "\n",
      "- System Inputs -\n",
      "current_date: 2025-09-21\n",
      "framework_version: 1.7-1\n",
      "inference_instance_type: ml.m5.large\n",
      "model_class: xgboost\n",
      "py_version: py3\n",
      "source_dir: /home/ec2-user/SageMaker/Cursus/dockers/xgboost_atoz\n",
      "source_model_inference_content_types: ['text/csv']\n",
      "source_model_inference_input_variable_list: [['Abuse.abuse_fap_action_by_customer_inline_transform_na.n_claims_solicit_count_last_365_days', 'NUMERIC'], ['Abuse.abuse_fap_action_by_customer_inline_transform_na.n_claims_warn_count_last_365_days', 'NUMERIC'], ['Abuse.abuse_fap_action_by_customer_inline_transform_na.n_concession_solicit_count_last_365_days', 'NUMERIC'], ['Abuse.abuse_fap_action_by_customer_inline_transform_na.n_concession_warn_count_last_365_days', 'NUMERIC'], ['Abuse.bsm_stats_for_evaluated_mfn_concessions_by_customer_na.n_max_buyer_order_message_time_gap', 'NUMERIC'], ['Abuse.bsm_stats_for_evaluated_mfn_concessions_by_customer_na.n_max_order_message_time_gap', 'NUMERIC'], ['Abuse.bsm_stats_for_evaluated_mfn_concessions_by_customer_na.n_max_seller_order_message_time_gap', 'NUMERIC'], ['Abuse.bsm_stats_for_evaluated_mfn_concessions_by_customer_na.n_message_count_with_diff_topic_si', 'NUMERIC'], ['Abuse.bsm_stats_for_evaluated_mfn_concessions_by_customer_na.n_message_count_with_notr_topic_si', 'NUMERIC'], ['Abuse.bsm_stats_for_evaluated_mfn_concessions_by_customer_na.n_message_count_with_return_keywords_si', 'NUMERIC'], ['Abuse.bsm_stats_for_evaluated_mfn_concessions_by_customer_na.n_min_buyer_message_count', 'NUMERIC'], ['Abuse.bsm_stats_for_evaluated_mfn_concessions_by_customer_na.n_min_buyer_order_message_time_gap', 'NUMERIC'], ['Abuse.bsm_stats_for_evaluated_mfn_concessions_by_customer_na.n_min_message_count', 'NUMERIC'], ['Abuse.bsm_stats_for_evaluated_mfn_concessions_by_customer_na.n_min_order_message_time_gap', 'NUMERIC'], ['Abuse.bsm_stats_for_evaluated_mfn_concessions_by_customer_na.n_min_seller_message_count', 'NUMERIC'], ['Abuse.bsm_stats_for_evaluated_mfn_concessions_by_customer_na.n_min_seller_order_message_time_gap', 'NUMERIC'], ['Abuse.bsm_stats_for_evaluated_mfn_concessions_by_customer_na.n_total_buyer_message_count', 'NUMERIC'], ['Abuse.bsm_stats_for_evaluated_mfn_concessions_by_customer_na.n_total_message_count', 'NUMERIC'], ['Abuse.bsm_stats_for_evaluated_mfn_concessions_by_customer_na.n_total_seller_message_count', 'NUMERIC'], ['Abuse.bsm_stats_for_evaluated_mfn_concessions_by_customer_na.n_total_topic_count', 'NUMERIC'], ['Abuse.completed_afn_orders_by_customer_marketplace.n_afn_order_count_last_365_days', 'NUMERIC'], ['Abuse.completed_afn_orders_by_customer_marketplace.n_afn_unit_amount_last_365_days', 'NUMERIC'], ['Abuse.completed_afn_orders_by_customer_marketplace.n_afn_unit_count_last_365_days', 'NUMERIC'], ['Abuse.completed_mfn_orders_by_customer_marketplace.n_mfn_order_count_last_365_days', 'NUMERIC'], ['Abuse.completed_mfn_orders_by_customer_marketplace.n_mfn_unit_amount_last_365_days', 'NUMERIC'], ['Abuse.completed_mfn_orders_by_customer_marketplace.n_mfn_unit_count_last_365_days', 'NUMERIC'], ['Abuse.dnr_by_customer_marketplace.n_dnr_amount_si_last_365_days', 'NUMERIC'], ['Abuse.dnr_by_customer_marketplace.n_dnr_order_count_last_365_days', 'NUMERIC'], ['Abuse.dnr_by_customer_marketplace.n_dnr_unit_amount_last_365_days', 'NUMERIC'], ['Abuse.dnr_by_customer_marketplace.n_dnr_unit_count_last_365_days', 'NUMERIC'], ['Abuse.mfn_a2z_claims_by_customer_na.n_mfn_claims_amount_last_365_days', 'NUMERIC'], ['Abuse.mfn_a2z_claims_by_customer_na.n_mfn_claims_count_last_365_days', 'NUMERIC'], ['Abuse.mfn_a2z_claims_by_customer_na.n_mfn_diff_claims_amount_last_365_days', 'NUMERIC'], ['Abuse.mfn_a2z_claims_by_customer_na.n_mfn_diff_claims_count_last_365_days', 'NUMERIC'], ['Abuse.mfn_a2z_claims_by_customer_na.n_mfn_notr_claims_amount_last_365_days', 'NUMERIC'], ['Abuse.mfn_a2z_claims_by_customer_na.n_mfn_notr_claims_count_last_365_days', 'NUMERIC'], ['Abuse.mfn_categorized_refunds_by_customer_marketplace.n_mfn_diff_refunds_order_count_last_365_days', 'NUMERIC'], ['Abuse.mfn_categorized_refunds_by_customer_marketplace.n_mfn_diff_refunds_unit_amount_last_365_days', 'NUMERIC'], ['Abuse.mfn_categorized_refunds_by_customer_marketplace.n_mfn_diff_refunds_unit_count_last_365_days', 'NUMERIC'], ['Abuse.mfn_categorized_refunds_by_customer_marketplace.n_mfn_notr_refunds_order_count_last_365_days', 'NUMERIC'], ['Abuse.mfn_categorized_refunds_by_customer_marketplace.n_mfn_notr_refunds_unit_amount_last_365_days', 'NUMERIC'], ['Abuse.mfn_categorized_refunds_by_customer_marketplace.n_mfn_notr_refunds_unit_count_last_365_days', 'NUMERIC'], ['Abuse.mfn_categorized_refunds_si_by_customer_marketplace.n_mfn_diff_refunds_si_365_days', 'NUMERIC'], ['Abuse.mfn_categorized_refunds_si_by_customer_marketplace.n_mfn_notr_refunds_si_365_days', 'NUMERIC'], ['Abuse.mfn_refunds_by_customer_marketplace.n_mfn_refund_order_count_last_365_days', 'NUMERIC'], ['Abuse.mfn_refunds_by_customer_marketplace.n_mfn_refund_unit_amount_last_365_days', 'NUMERIC'], ['Abuse.mfn_refunds_by_customer_marketplace.n_mfn_refund_unit_count_last_365_days', 'NUMERIC'], ['Abuse.mfn_refunds_si_by_customer_marketplace.n_mfn_refund_amount_si_last_365_days', 'NUMERIC'], ['Abuse.order_to_execution_time_from_eventvariables.n_order_to_execution', 'NUMERIC'], ['Abuse.shiptrack_flag_by_order.n_any_delivered', 'NUMERIC'], ['Abuse.shiptrack_flag_by_order.n_any_available_for_pickup', 'NUMERIC'], ['Abuse.shiptrack_flag_by_order.n_any_partial_delivered', 'NUMERIC'], ['Abuse.shiptrack_flag_by_order.n_any_undeliverable', 'NUMERIC'], ['Abuse.shiptrack_flag_by_order.n_any_returning', 'NUMERIC'], ['Abuse.shiptrack_flag_by_order.n_any_returned', 'NUMERIC'], ['COMP_DAYOB', 'NUMERIC'], ['claimAmount_value', 'NUMERIC'], ['claimantInfo_allClaimCount365day', 'NUMERIC'], ['claimantInfo_lifetimeClaimCount', 'NUMERIC'], ['claimantInfo_pendingClaimCount', 'NUMERIC'], ['PAYMETH', 'TEXT'], ['claim_reason', 'TEXT'], ['claimantInfo_status', 'TEXT'], ['shipments_status', 'TEXT']]\n",
      "source_model_inference_output_variable_list: {'legacy-score': 'NUMERIC', 'calibrated-score': 'NUMERIC', 'custom-output-label': 'TEXT'}\n",
      "source_model_inference_response_types: ['application/json']\n",
      "\n",
      "- Derived Fields -\n",
      "aws_region: us-east-1\n",
      "model_extra: {}\n",
      "model_fields_set: {'source_model_inference_input_variable_list', 'model_domain', 'source_model_inference_output_variable_list', 'region', 'role', 'model_owner', 'inference_entry_point', 'model_class', 'pipeline_version', 'framework_version', 'bucket', 'current_date', 'py_version', 'model_objective', 'framework', 'source_dir', 'author', 'service_name'}\n",
      "pipeline_description: AtoZ xgboost Model NA\n",
      "pipeline_name: lukexie-AtoZ-xgboost-NA\n",
      "pipeline_s3_loc: s3://sandboxdependency-abuse-secureaisandboxteamshare-1l77v9am252um/MODS/lukexie-AtoZ-xgboost-NA_1.3.1\n",
      "portable_source_dir: dockers/xgboost_atoz\n",
      "script_contract: None\n",
      "step_catalog: <cursus.step_catalog.step_catalog.StepCatalog object at 0x7f89532fdab0>\n",
      "variable_schema: {'input': {'variables': [{'name': 'Abuse.abuse_fap_action_by_customer_inline_transform_na.n_claims_solicit_count_last_365_days', 'type': 'NUMERIC'}, {'name': 'Abuse.abuse_fap_action_by_customer_inline_transform_na.n_claims_warn_count_last_365_days', 'type': 'NUMERIC'}, {'name': 'Abuse.abuse_fap_action_by_customer_inline_transform_na.n_concession_solicit_count_last_365_days', 'type': 'NUMERIC'}, {'name': 'Abuse.abuse_fap_action_by_customer_inline_transform_na.n_concession_warn_count_last_365_days', 'type': 'NUMERIC'}, {'name': 'Abuse.bsm_stats_for_evaluated_mfn_concessions_by_customer_na.n_max_buyer_order_message_time_gap', 'type': 'NUMERIC'}, {'name': 'Abuse.bsm_stats_for_evaluated_mfn_concessions_by_customer_na.n_max_order_message_time_gap', 'type': 'NUMERIC'}, {'name': 'Abuse.bsm_stats_for_evaluated_mfn_concessions_by_customer_na.n_max_seller_order_message_time_gap', 'type': 'NUMERIC'}, {'name': 'Abuse.bsm_stats_for_evaluated_mfn_concessions_by_customer_na.n_message_count_with_diff_topic_si', 'type': 'NUMERIC'}, {'name': 'Abuse.bsm_stats_for_evaluated_mfn_concessions_by_customer_na.n_message_count_with_notr_topic_si', 'type': 'NUMERIC'}, {'name': 'Abuse.bsm_stats_for_evaluated_mfn_concessions_by_customer_na.n_message_count_with_return_keywords_si', 'type': 'NUMERIC'}, {'name': 'Abuse.bsm_stats_for_evaluated_mfn_concessions_by_customer_na.n_min_buyer_message_count', 'type': 'NUMERIC'}, {'name': 'Abuse.bsm_stats_for_evaluated_mfn_concessions_by_customer_na.n_min_buyer_order_message_time_gap', 'type': 'NUMERIC'}, {'name': 'Abuse.bsm_stats_for_evaluated_mfn_concessions_by_customer_na.n_min_message_count', 'type': 'NUMERIC'}, {'name': 'Abuse.bsm_stats_for_evaluated_mfn_concessions_by_customer_na.n_min_order_message_time_gap', 'type': 'NUMERIC'}, {'name': 'Abuse.bsm_stats_for_evaluated_mfn_concessions_by_customer_na.n_min_seller_message_count', 'type': 'NUMERIC'}, {'name': 'Abuse.bsm_stats_for_evaluated_mfn_concessions_by_customer_na.n_min_seller_order_message_time_gap', 'type': 'NUMERIC'}, {'name': 'Abuse.bsm_stats_for_evaluated_mfn_concessions_by_customer_na.n_total_buyer_message_count', 'type': 'NUMERIC'}, {'name': 'Abuse.bsm_stats_for_evaluated_mfn_concessions_by_customer_na.n_total_message_count', 'type': 'NUMERIC'}, {'name': 'Abuse.bsm_stats_for_evaluated_mfn_concessions_by_customer_na.n_total_seller_message_count', 'type': 'NUMERIC'}, {'name': 'Abuse.bsm_stats_for_evaluated_mfn_concessions_by_customer_na.n_total_topic_count', 'type': 'NUMERIC'}, {'name': 'Abuse.completed_afn_orders_by_customer_marketplace.n_afn_order_count_last_365_days', 'type': 'NUMERIC'}, {'name': 'Abuse.completed_afn_orders_by_customer_marketplace.n_afn_unit_amount_last_365_days', 'type': 'NUMERIC'}, {'name': 'Abuse.completed_afn_orders_by_customer_marketplace.n_afn_unit_count_last_365_days', 'type': 'NUMERIC'}, {'name': 'Abuse.completed_mfn_orders_by_customer_marketplace.n_mfn_order_count_last_365_days', 'type': 'NUMERIC'}, {'name': 'Abuse.completed_mfn_orders_by_customer_marketplace.n_mfn_unit_amount_last_365_days', 'type': 'NUMERIC'}, {'name': 'Abuse.completed_mfn_orders_by_customer_marketplace.n_mfn_unit_count_last_365_days', 'type': 'NUMERIC'}, {'name': 'Abuse.dnr_by_customer_marketplace.n_dnr_amount_si_last_365_days', 'type': 'NUMERIC'}, {'name': 'Abuse.dnr_by_customer_marketplace.n_dnr_order_count_last_365_days', 'type': 'NUMERIC'}, {'name': 'Abuse.dnr_by_customer_marketplace.n_dnr_unit_amount_last_365_days', 'type': 'NUMERIC'}, {'name': 'Abuse.dnr_by_customer_marketplace.n_dnr_unit_count_last_365_days', 'type': 'NUMERIC'}, {'name': 'Abuse.mfn_a2z_claims_by_customer_na.n_mfn_claims_amount_last_365_days', 'type': 'NUMERIC'}, {'name': 'Abuse.mfn_a2z_claims_by_customer_na.n_mfn_claims_count_last_365_days', 'type': 'NUMERIC'}, {'name': 'Abuse.mfn_a2z_claims_by_customer_na.n_mfn_diff_claims_amount_last_365_days', 'type': 'NUMERIC'}, {'name': 'Abuse.mfn_a2z_claims_by_customer_na.n_mfn_diff_claims_count_last_365_days', 'type': 'NUMERIC'}, {'name': 'Abuse.mfn_a2z_claims_by_customer_na.n_mfn_notr_claims_amount_last_365_days', 'type': 'NUMERIC'}, {'name': 'Abuse.mfn_a2z_claims_by_customer_na.n_mfn_notr_claims_count_last_365_days', 'type': 'NUMERIC'}, {'name': 'Abuse.mfn_categorized_refunds_by_customer_marketplace.n_mfn_diff_refunds_order_count_last_365_days', 'type': 'NUMERIC'}, {'name': 'Abuse.mfn_categorized_refunds_by_customer_marketplace.n_mfn_diff_refunds_unit_amount_last_365_days', 'type': 'NUMERIC'}, {'name': 'Abuse.mfn_categorized_refunds_by_customer_marketplace.n_mfn_diff_refunds_unit_count_last_365_days', 'type': 'NUMERIC'}, {'name': 'Abuse.mfn_categorized_refunds_by_customer_marketplace.n_mfn_notr_refunds_order_count_last_365_days', 'type': 'NUMERIC'}, {'name': 'Abuse.mfn_categorized_refunds_by_customer_marketplace.n_mfn_notr_refunds_unit_amount_last_365_days', 'type': 'NUMERIC'}, {'name': 'Abuse.mfn_categorized_refunds_by_customer_marketplace.n_mfn_notr_refunds_unit_count_last_365_days', 'type': 'NUMERIC'}, {'name': 'Abuse.mfn_categorized_refunds_si_by_customer_marketplace.n_mfn_diff_refunds_si_365_days', 'type': 'NUMERIC'}, {'name': 'Abuse.mfn_categorized_refunds_si_by_customer_marketplace.n_mfn_notr_refunds_si_365_days', 'type': 'NUMERIC'}, {'name': 'Abuse.mfn_refunds_by_customer_marketplace.n_mfn_refund_order_count_last_365_days', 'type': 'NUMERIC'}, {'name': 'Abuse.mfn_refunds_by_customer_marketplace.n_mfn_refund_unit_amount_last_365_days', 'type': 'NUMERIC'}, {'name': 'Abuse.mfn_refunds_by_customer_marketplace.n_mfn_refund_unit_count_last_365_days', 'type': 'NUMERIC'}, {'name': 'Abuse.mfn_refunds_si_by_customer_marketplace.n_mfn_refund_amount_si_last_365_days', 'type': 'NUMERIC'}, {'name': 'Abuse.order_to_execution_time_from_eventvariables.n_order_to_execution', 'type': 'NUMERIC'}, {'name': 'Abuse.shiptrack_flag_by_order.n_any_delivered', 'type': 'NUMERIC'}, {'name': 'Abuse.shiptrack_flag_by_order.n_any_available_for_pickup', 'type': 'NUMERIC'}, {'name': 'Abuse.shiptrack_flag_by_order.n_any_partial_delivered', 'type': 'NUMERIC'}, {'name': 'Abuse.shiptrack_flag_by_order.n_any_undeliverable', 'type': 'NUMERIC'}, {'name': 'Abuse.shiptrack_flag_by_order.n_any_returning', 'type': 'NUMERIC'}, {'name': 'Abuse.shiptrack_flag_by_order.n_any_returned', 'type': 'NUMERIC'}, {'name': 'COMP_DAYOB', 'type': 'NUMERIC'}, {'name': 'claimAmount_value', 'type': 'NUMERIC'}, {'name': 'claimantInfo_allClaimCount365day', 'type': 'NUMERIC'}, {'name': 'claimantInfo_lifetimeClaimCount', 'type': 'NUMERIC'}, {'name': 'claimantInfo_pendingClaimCount', 'type': 'NUMERIC'}, {'name': 'PAYMETH', 'type': 'TEXT'}, {'name': 'claim_reason', 'type': 'TEXT'}, {'name': 'claimantInfo_status', 'type': 'TEXT'}, {'name': 'shipments_status', 'type': 'TEXT'}]}, 'output': {'variables': [{'name': 'legacy-score', 'type': 'NUMERIC'}, {'name': 'calibrated-score', 'type': 'NUMERIC'}, {'name': 'custom-output-label', 'type': 'TEXT'}]}}\n",
      "\n"
     ]
    }
   ],
   "source": [
    "print(str(model_registration_config))"
   ]
  },
  {
   "cell_type": "markdown",
   "id": "69863cab-e49d-4583-acc7-c5fe050627cf",
   "metadata": {},
   "source": [
    "#### Save to Config List"
   ]
  },
  {
   "cell_type": "code",
   "execution_count": 175,
   "id": "6093760a-8450-4898-8aaf-d47fa09a4a71",
   "metadata": {
    "tags": []
   },
   "outputs": [],
   "source": [
    "# Save to config list\n",
    "config_list.append(model_registration_config)"
   ]
  },
  {
   "cell_type": "code",
   "execution_count": null,
   "id": "a376baab-40c7-41c2-b3cc-4f878bab818a",
   "metadata": {},
   "outputs": [],
   "source": []
  },
  {
   "cell_type": "markdown",
   "id": "616a4bc9-d6b1-43b6-97d5-03b2519a6ddd",
   "metadata": {},
   "source": [
    "### [STEP 8.0] Payload Sample Generation and Payload Config\n",
    "\n",
    "The task of **Payload Step** is to generate the payload sample for **MIMS Model Registration.**\n",
    "* This step is completely **optional**.\n"
   ]
  },
  {
   "cell_type": "code",
   "execution_count": 176,
   "id": "7597d26e-7fc8-494e-9a16-19fe6ccf26af",
   "metadata": {
    "tags": []
   },
   "outputs": [],
   "source": [
    "from io import BytesIO\n",
    "import boto3\n",
    "import tarfile"
   ]
  },
  {
   "cell_type": "code",
   "execution_count": 177,
   "id": "016da27e-8e11-4605-8f10-dcd65f11bad7",
   "metadata": {
    "tags": []
   },
   "outputs": [],
   "source": [
    "from cursus.steps.configs.config_payload_step import PayloadConfig"
   ]
  },
  {
   "cell_type": "code",
   "execution_count": 178,
   "id": "ea4737c1-a84b-4512-a1b9-b3a179f7df6e",
   "metadata": {},
   "outputs": [
    {
     "data": {
      "text/plain": [
       "{'author': 'lukexie',\n",
       " 'bucket': 'sandboxdependency-abuse-secureaisandboxteamshare-1l77v9am252um',\n",
       " 'role': 'arn:aws:iam::601857636239:role/SandboxRole-lukexie-us-east-1',\n",
       " 'region': 'NA',\n",
       " 'service_name': 'AtoZ',\n",
       " 'pipeline_version': '1.3.1',\n",
       " 'model_class': 'xgboost',\n",
       " 'current_date': '2025-09-21',\n",
       " 'framework_version': '1.7-1',\n",
       " 'py_version': 'py3',\n",
       " 'source_dir': '/home/ec2-user/SageMaker/Cursus/dockers/xgboost_atoz',\n",
       " 'processing_instance_count': 1,\n",
       " 'processing_volume_size': 500,\n",
       " 'processing_instance_type_large': 'ml.m5.12xlarge',\n",
       " 'processing_instance_type_small': 'ml.m5.4xlarge',\n",
       " 'use_large_processing_instance': False,\n",
       " 'processing_source_dir': '/home/ec2-user/SageMaker/Cursus/dockers/xgboost_atoz/scripts',\n",
       " 'processing_entry_point': None,\n",
       " 'processing_script_arguments': None,\n",
       " 'processing_framework_version': '1.2-1',\n",
       " 'aws_region': 'us-east-1',\n",
       " 'pipeline_name': 'lukexie-AtoZ-xgboost-NA',\n",
       " 'pipeline_description': 'AtoZ xgboost Model NA',\n",
       " 'pipeline_s3_loc': 's3://sandboxdependency-abuse-secureaisandboxteamshare-1l77v9am252um/MODS/lukexie-AtoZ-xgboost-NA_1.3.1',\n",
       " 'portable_source_dir': 'dockers/xgboost_atoz',\n",
       " 'effective_source_dir': 'dockers/xgboost_atoz/scripts',\n",
       " 'effective_instance_type': 'ml.m5.4xlarge',\n",
       " 'portable_processing_source_dir': 'dockers/xgboost_atoz/scripts'}"
      ]
     },
     "execution_count": 178,
     "metadata": {},
     "output_type": "execute_result"
    }
   ],
   "source": [
    "processing_base_dict = processing_step_config.model_dump()\n",
    "processing_base_dict"
   ]
  },
  {
   "cell_type": "code",
   "execution_count": 179,
   "id": "4f446750-34c3-4e6c-b298-4168ad44b243",
   "metadata": {
    "tags": []
   },
   "outputs": [],
   "source": [
    "expected_tps = 2\n",
    "max_latency_in_millisecond = 800"
   ]
  },
  {
   "cell_type": "code",
   "execution_count": 180,
   "id": "ec80a42e-3c50-45e4-a747-11f8e8a6f765",
   "metadata": {
    "scrolled": true,
    "tags": []
   },
   "outputs": [],
   "source": [
    "payload_config = PayloadConfig.from_base_config(\n",
    "    processing_step_config,\n",
    "    model_owner=model_owner,\n",
    "    model_domain=model_domain,\n",
    "    model_objective=model_objective,\n",
    "    source_model_inference_output_variable_list=source_model_inference_output_variable_list,\n",
    "    source_model_inference_input_variable_list=source_model_inference_input_variable_list,\n",
    "    expected_tps=expected_tps,\n",
    "    max_latency_in_millisecond=max_latency_in_millisecond\n",
    ")"
   ]
  },
  {
   "cell_type": "code",
   "execution_count": 181,
   "id": "e37b5f53-210e-46d3-8ec0-6d7232378f2c",
   "metadata": {
    "tags": []
   },
   "outputs": [
    {
     "data": {
      "text/plain": [
       "'payload.py'"
      ]
     },
     "execution_count": 181,
     "metadata": {},
     "output_type": "execute_result"
    }
   ],
   "source": [
    "payload_config.processing_entry_point"
   ]
  },
  {
   "cell_type": "code",
   "execution_count": 182,
   "id": "f0e1f44a-4e37-4e3c-9991-1a33db9f907e",
   "metadata": {
    "scrolled": true,
    "tags": []
   },
   "outputs": [
    {
     "name": "stdout",
     "output_type": "stream",
     "text": [
      "[['Abuse.abuse_fap_action_by_customer_inline_transform_na.n_claims_solicit_count_last_365_days', 'NUMERIC'], ['Abuse.abuse_fap_action_by_customer_inline_transform_na.n_claims_warn_count_last_365_days', 'NUMERIC'], ['Abuse.abuse_fap_action_by_customer_inline_transform_na.n_concession_solicit_count_last_365_days', 'NUMERIC'], ['Abuse.abuse_fap_action_by_customer_inline_transform_na.n_concession_warn_count_last_365_days', 'NUMERIC'], ['Abuse.bsm_stats_for_evaluated_mfn_concessions_by_customer_na.n_max_buyer_order_message_time_gap', 'NUMERIC'], ['Abuse.bsm_stats_for_evaluated_mfn_concessions_by_customer_na.n_max_order_message_time_gap', 'NUMERIC'], ['Abuse.bsm_stats_for_evaluated_mfn_concessions_by_customer_na.n_max_seller_order_message_time_gap', 'NUMERIC'], ['Abuse.bsm_stats_for_evaluated_mfn_concessions_by_customer_na.n_message_count_with_diff_topic_si', 'NUMERIC'], ['Abuse.bsm_stats_for_evaluated_mfn_concessions_by_customer_na.n_message_count_with_notr_topic_si', 'NUMERIC'], ['Abuse.bsm_stats_for_evaluated_mfn_concessions_by_customer_na.n_message_count_with_return_keywords_si', 'NUMERIC'], ['Abuse.bsm_stats_for_evaluated_mfn_concessions_by_customer_na.n_min_buyer_message_count', 'NUMERIC'], ['Abuse.bsm_stats_for_evaluated_mfn_concessions_by_customer_na.n_min_buyer_order_message_time_gap', 'NUMERIC'], ['Abuse.bsm_stats_for_evaluated_mfn_concessions_by_customer_na.n_min_message_count', 'NUMERIC'], ['Abuse.bsm_stats_for_evaluated_mfn_concessions_by_customer_na.n_min_order_message_time_gap', 'NUMERIC'], ['Abuse.bsm_stats_for_evaluated_mfn_concessions_by_customer_na.n_min_seller_message_count', 'NUMERIC'], ['Abuse.bsm_stats_for_evaluated_mfn_concessions_by_customer_na.n_min_seller_order_message_time_gap', 'NUMERIC'], ['Abuse.bsm_stats_for_evaluated_mfn_concessions_by_customer_na.n_total_buyer_message_count', 'NUMERIC'], ['Abuse.bsm_stats_for_evaluated_mfn_concessions_by_customer_na.n_total_message_count', 'NUMERIC'], ['Abuse.bsm_stats_for_evaluated_mfn_concessions_by_customer_na.n_total_seller_message_count', 'NUMERIC'], ['Abuse.bsm_stats_for_evaluated_mfn_concessions_by_customer_na.n_total_topic_count', 'NUMERIC'], ['Abuse.completed_afn_orders_by_customer_marketplace.n_afn_order_count_last_365_days', 'NUMERIC'], ['Abuse.completed_afn_orders_by_customer_marketplace.n_afn_unit_amount_last_365_days', 'NUMERIC'], ['Abuse.completed_afn_orders_by_customer_marketplace.n_afn_unit_count_last_365_days', 'NUMERIC'], ['Abuse.completed_mfn_orders_by_customer_marketplace.n_mfn_order_count_last_365_days', 'NUMERIC'], ['Abuse.completed_mfn_orders_by_customer_marketplace.n_mfn_unit_amount_last_365_days', 'NUMERIC'], ['Abuse.completed_mfn_orders_by_customer_marketplace.n_mfn_unit_count_last_365_days', 'NUMERIC'], ['Abuse.dnr_by_customer_marketplace.n_dnr_amount_si_last_365_days', 'NUMERIC'], ['Abuse.dnr_by_customer_marketplace.n_dnr_order_count_last_365_days', 'NUMERIC'], ['Abuse.dnr_by_customer_marketplace.n_dnr_unit_amount_last_365_days', 'NUMERIC'], ['Abuse.dnr_by_customer_marketplace.n_dnr_unit_count_last_365_days', 'NUMERIC'], ['Abuse.mfn_a2z_claims_by_customer_na.n_mfn_claims_amount_last_365_days', 'NUMERIC'], ['Abuse.mfn_a2z_claims_by_customer_na.n_mfn_claims_count_last_365_days', 'NUMERIC'], ['Abuse.mfn_a2z_claims_by_customer_na.n_mfn_diff_claims_amount_last_365_days', 'NUMERIC'], ['Abuse.mfn_a2z_claims_by_customer_na.n_mfn_diff_claims_count_last_365_days', 'NUMERIC'], ['Abuse.mfn_a2z_claims_by_customer_na.n_mfn_notr_claims_amount_last_365_days', 'NUMERIC'], ['Abuse.mfn_a2z_claims_by_customer_na.n_mfn_notr_claims_count_last_365_days', 'NUMERIC'], ['Abuse.mfn_categorized_refunds_by_customer_marketplace.n_mfn_diff_refunds_order_count_last_365_days', 'NUMERIC'], ['Abuse.mfn_categorized_refunds_by_customer_marketplace.n_mfn_diff_refunds_unit_amount_last_365_days', 'NUMERIC'], ['Abuse.mfn_categorized_refunds_by_customer_marketplace.n_mfn_diff_refunds_unit_count_last_365_days', 'NUMERIC'], ['Abuse.mfn_categorized_refunds_by_customer_marketplace.n_mfn_notr_refunds_order_count_last_365_days', 'NUMERIC'], ['Abuse.mfn_categorized_refunds_by_customer_marketplace.n_mfn_notr_refunds_unit_amount_last_365_days', 'NUMERIC'], ['Abuse.mfn_categorized_refunds_by_customer_marketplace.n_mfn_notr_refunds_unit_count_last_365_days', 'NUMERIC'], ['Abuse.mfn_categorized_refunds_si_by_customer_marketplace.n_mfn_diff_refunds_si_365_days', 'NUMERIC'], ['Abuse.mfn_categorized_refunds_si_by_customer_marketplace.n_mfn_notr_refunds_si_365_days', 'NUMERIC'], ['Abuse.mfn_refunds_by_customer_marketplace.n_mfn_refund_order_count_last_365_days', 'NUMERIC'], ['Abuse.mfn_refunds_by_customer_marketplace.n_mfn_refund_unit_amount_last_365_days', 'NUMERIC'], ['Abuse.mfn_refunds_by_customer_marketplace.n_mfn_refund_unit_count_last_365_days', 'NUMERIC'], ['Abuse.mfn_refunds_si_by_customer_marketplace.n_mfn_refund_amount_si_last_365_days', 'NUMERIC'], ['Abuse.order_to_execution_time_from_eventvariables.n_order_to_execution', 'NUMERIC'], ['Abuse.shiptrack_flag_by_order.n_any_delivered', 'NUMERIC'], ['Abuse.shiptrack_flag_by_order.n_any_available_for_pickup', 'NUMERIC'], ['Abuse.shiptrack_flag_by_order.n_any_partial_delivered', 'NUMERIC'], ['Abuse.shiptrack_flag_by_order.n_any_undeliverable', 'NUMERIC'], ['Abuse.shiptrack_flag_by_order.n_any_returning', 'NUMERIC'], ['Abuse.shiptrack_flag_by_order.n_any_returned', 'NUMERIC'], ['COMP_DAYOB', 'NUMERIC'], ['claimAmount_value', 'NUMERIC'], ['claimantInfo_allClaimCount365day', 'NUMERIC'], ['claimantInfo_lifetimeClaimCount', 'NUMERIC'], ['claimantInfo_pendingClaimCount', 'NUMERIC'], ['PAYMETH', 'TEXT'], ['claim_reason', 'TEXT'], ['claimantInfo_status', 'TEXT'], ['shipments_status', 'TEXT']]\n"
     ]
    }
   ],
   "source": [
    "# The variable types will be properly handled in both configs\n",
    "print(payload_config.source_model_inference_input_variable_list)"
   ]
  },
  {
   "cell_type": "code",
   "execution_count": 183,
   "id": "b842a232-c3d0-4a28-99e1-b3a84ecc25ed",
   "metadata": {
    "scrolled": true,
    "tags": []
   },
   "outputs": [
    {
     "data": {
      "text/plain": [
       "PayloadConfig(author='lukexie', bucket='sandboxdependency-abuse-secureaisandboxteamshare-1l77v9am252um', role='arn:aws:iam::601857636239:role/SandboxRole-lukexie-us-east-1', region='NA', service_name='AtoZ', pipeline_version='1.3.1', model_class='xgboost', current_date='2025-09-21', framework_version='1.7-1', py_version='py3', source_dir='/home/ec2-user/SageMaker/Cursus/dockers/xgboost_atoz', processing_instance_count=1, processing_volume_size=500, processing_instance_type_large='ml.m5.12xlarge', processing_instance_type_small='ml.m5.4xlarge', use_large_processing_instance=False, processing_source_dir='/home/ec2-user/SageMaker/Cursus/dockers/xgboost_atoz/scripts', processing_entry_point='payload.py', processing_script_arguments=None, processing_framework_version='1.2-1', model_owner='amzn1.abacus.team.djmdvixm5abr3p75c5ca', model_domain='AtoZ', model_objective='AtoZ_Claims_SM_Model_NA', source_model_inference_output_variable_list={'legacy-score': 'NUMERIC', 'calibrated-score': 'NUMERIC', 'custom-output-label': 'TEXT'}, source_model_inference_input_variable_list=[['Abuse.abuse_fap_action_by_customer_inline_transform_na.n_claims_solicit_count_last_365_days', 'NUMERIC'], ['Abuse.abuse_fap_action_by_customer_inline_transform_na.n_claims_warn_count_last_365_days', 'NUMERIC'], ['Abuse.abuse_fap_action_by_customer_inline_transform_na.n_concession_solicit_count_last_365_days', 'NUMERIC'], ['Abuse.abuse_fap_action_by_customer_inline_transform_na.n_concession_warn_count_last_365_days', 'NUMERIC'], ['Abuse.bsm_stats_for_evaluated_mfn_concessions_by_customer_na.n_max_buyer_order_message_time_gap', 'NUMERIC'], ['Abuse.bsm_stats_for_evaluated_mfn_concessions_by_customer_na.n_max_order_message_time_gap', 'NUMERIC'], ['Abuse.bsm_stats_for_evaluated_mfn_concessions_by_customer_na.n_max_seller_order_message_time_gap', 'NUMERIC'], ['Abuse.bsm_stats_for_evaluated_mfn_concessions_by_customer_na.n_message_count_with_diff_topic_si', 'NUMERIC'], ['Abuse.bsm_stats_for_evaluated_mfn_concessions_by_customer_na.n_message_count_with_notr_topic_si', 'NUMERIC'], ['Abuse.bsm_stats_for_evaluated_mfn_concessions_by_customer_na.n_message_count_with_return_keywords_si', 'NUMERIC'], ['Abuse.bsm_stats_for_evaluated_mfn_concessions_by_customer_na.n_min_buyer_message_count', 'NUMERIC'], ['Abuse.bsm_stats_for_evaluated_mfn_concessions_by_customer_na.n_min_buyer_order_message_time_gap', 'NUMERIC'], ['Abuse.bsm_stats_for_evaluated_mfn_concessions_by_customer_na.n_min_message_count', 'NUMERIC'], ['Abuse.bsm_stats_for_evaluated_mfn_concessions_by_customer_na.n_min_order_message_time_gap', 'NUMERIC'], ['Abuse.bsm_stats_for_evaluated_mfn_concessions_by_customer_na.n_min_seller_message_count', 'NUMERIC'], ['Abuse.bsm_stats_for_evaluated_mfn_concessions_by_customer_na.n_min_seller_order_message_time_gap', 'NUMERIC'], ['Abuse.bsm_stats_for_evaluated_mfn_concessions_by_customer_na.n_total_buyer_message_count', 'NUMERIC'], ['Abuse.bsm_stats_for_evaluated_mfn_concessions_by_customer_na.n_total_message_count', 'NUMERIC'], ['Abuse.bsm_stats_for_evaluated_mfn_concessions_by_customer_na.n_total_seller_message_count', 'NUMERIC'], ['Abuse.bsm_stats_for_evaluated_mfn_concessions_by_customer_na.n_total_topic_count', 'NUMERIC'], ['Abuse.completed_afn_orders_by_customer_marketplace.n_afn_order_count_last_365_days', 'NUMERIC'], ['Abuse.completed_afn_orders_by_customer_marketplace.n_afn_unit_amount_last_365_days', 'NUMERIC'], ['Abuse.completed_afn_orders_by_customer_marketplace.n_afn_unit_count_last_365_days', 'NUMERIC'], ['Abuse.completed_mfn_orders_by_customer_marketplace.n_mfn_order_count_last_365_days', 'NUMERIC'], ['Abuse.completed_mfn_orders_by_customer_marketplace.n_mfn_unit_amount_last_365_days', 'NUMERIC'], ['Abuse.completed_mfn_orders_by_customer_marketplace.n_mfn_unit_count_last_365_days', 'NUMERIC'], ['Abuse.dnr_by_customer_marketplace.n_dnr_amount_si_last_365_days', 'NUMERIC'], ['Abuse.dnr_by_customer_marketplace.n_dnr_order_count_last_365_days', 'NUMERIC'], ['Abuse.dnr_by_customer_marketplace.n_dnr_unit_amount_last_365_days', 'NUMERIC'], ['Abuse.dnr_by_customer_marketplace.n_dnr_unit_count_last_365_days', 'NUMERIC'], ['Abuse.mfn_a2z_claims_by_customer_na.n_mfn_claims_amount_last_365_days', 'NUMERIC'], ['Abuse.mfn_a2z_claims_by_customer_na.n_mfn_claims_count_last_365_days', 'NUMERIC'], ['Abuse.mfn_a2z_claims_by_customer_na.n_mfn_diff_claims_amount_last_365_days', 'NUMERIC'], ['Abuse.mfn_a2z_claims_by_customer_na.n_mfn_diff_claims_count_last_365_days', 'NUMERIC'], ['Abuse.mfn_a2z_claims_by_customer_na.n_mfn_notr_claims_amount_last_365_days', 'NUMERIC'], ['Abuse.mfn_a2z_claims_by_customer_na.n_mfn_notr_claims_count_last_365_days', 'NUMERIC'], ['Abuse.mfn_categorized_refunds_by_customer_marketplace.n_mfn_diff_refunds_order_count_last_365_days', 'NUMERIC'], ['Abuse.mfn_categorized_refunds_by_customer_marketplace.n_mfn_diff_refunds_unit_amount_last_365_days', 'NUMERIC'], ['Abuse.mfn_categorized_refunds_by_customer_marketplace.n_mfn_diff_refunds_unit_count_last_365_days', 'NUMERIC'], ['Abuse.mfn_categorized_refunds_by_customer_marketplace.n_mfn_notr_refunds_order_count_last_365_days', 'NUMERIC'], ['Abuse.mfn_categorized_refunds_by_customer_marketplace.n_mfn_notr_refunds_unit_amount_last_365_days', 'NUMERIC'], ['Abuse.mfn_categorized_refunds_by_customer_marketplace.n_mfn_notr_refunds_unit_count_last_365_days', 'NUMERIC'], ['Abuse.mfn_categorized_refunds_si_by_customer_marketplace.n_mfn_diff_refunds_si_365_days', 'NUMERIC'], ['Abuse.mfn_categorized_refunds_si_by_customer_marketplace.n_mfn_notr_refunds_si_365_days', 'NUMERIC'], ['Abuse.mfn_refunds_by_customer_marketplace.n_mfn_refund_order_count_last_365_days', 'NUMERIC'], ['Abuse.mfn_refunds_by_customer_marketplace.n_mfn_refund_unit_amount_last_365_days', 'NUMERIC'], ['Abuse.mfn_refunds_by_customer_marketplace.n_mfn_refund_unit_count_last_365_days', 'NUMERIC'], ['Abuse.mfn_refunds_si_by_customer_marketplace.n_mfn_refund_amount_si_last_365_days', 'NUMERIC'], ['Abuse.order_to_execution_time_from_eventvariables.n_order_to_execution', 'NUMERIC'], ['Abuse.shiptrack_flag_by_order.n_any_delivered', 'NUMERIC'], ['Abuse.shiptrack_flag_by_order.n_any_available_for_pickup', 'NUMERIC'], ['Abuse.shiptrack_flag_by_order.n_any_partial_delivered', 'NUMERIC'], ['Abuse.shiptrack_flag_by_order.n_any_undeliverable', 'NUMERIC'], ['Abuse.shiptrack_flag_by_order.n_any_returning', 'NUMERIC'], ['Abuse.shiptrack_flag_by_order.n_any_returned', 'NUMERIC'], ['COMP_DAYOB', 'NUMERIC'], ['claimAmount_value', 'NUMERIC'], ['claimantInfo_allClaimCount365day', 'NUMERIC'], ['claimantInfo_lifetimeClaimCount', 'NUMERIC'], ['claimantInfo_pendingClaimCount', 'NUMERIC'], ['PAYMETH', 'TEXT'], ['claim_reason', 'TEXT'], ['claimantInfo_status', 'TEXT'], ['shipments_status', 'TEXT']], expected_tps=2, max_latency_in_millisecond=800, framework='xgboost', source_model_inference_content_types=['text/csv'], source_model_inference_response_types=['application/json'], max_acceptable_error_rate=0.2, default_numeric_value=0.0, default_text_value='DEFAULT_TEXT', special_field_values=None)"
      ]
     },
     "execution_count": 183,
     "metadata": {},
     "output_type": "execute_result"
    }
   ],
   "source": [
    "payload_config"
   ]
  },
  {
   "cell_type": "code",
   "execution_count": 184,
   "id": "043b6dee-d9b0-4f8b-8d25-6267450414b7",
   "metadata": {
    "tags": []
   },
   "outputs": [
    {
     "data": {
      "text/plain": [
       "'dockers/xgboost_atoz/scripts'"
      ]
     },
     "execution_count": 184,
     "metadata": {},
     "output_type": "execute_result"
    }
   ],
   "source": [
    "payload_config.portable_processing_source_dir"
   ]
  },
  {
   "cell_type": "code",
   "execution_count": null,
   "id": "2c558919-1cb8-4a2a-b373-6e850cfc92a5",
   "metadata": {},
   "outputs": [],
   "source": []
  },
  {
   "cell_type": "markdown",
   "id": "0ffe4837-de89-4b1d-a327-4e136a617489",
   "metadata": {},
   "source": [
    "#### Save to Config List"
   ]
  },
  {
   "cell_type": "code",
   "execution_count": 185,
   "id": "71f43989-6314-45b3-bd39-5a9c4e172f4b",
   "metadata": {
    "tags": []
   },
   "outputs": [],
   "source": [
    "# Save to config list\n",
    "payload_s3_key_out = config_list.append(payload_config)"
   ]
  },
  {
   "cell_type": "markdown",
   "id": "400b7253-ccf4-499a-b20f-69f4d9416bc7",
   "metadata": {},
   "source": [
    "## Merge and Save Config List to JSON\n",
    "\n",
    "In order to better organize the user input data, and reduce the redundancy in storage (due to config class inheritance), we develop a systematic rule to save them into one JSON\n",
    "\n",
    "The JSON has the hierarchical structure as ![config_NA_xgboost](config_NA_xgboost.png)\n",
    "* We split the fields into **shared** vs. **specific**\n",
    "    * **shared**: since it is common for all configs, we only keep one copy\n",
    "    * **specific**: each fields is associated with a *step* \n",
    "* We also have **processing step** and they have **processing_shared** vs. **processing_specific**\n",
    "* This JSON also provides **inverted list**: For given *field name query*, it *retrieve steps* that use it\n",
    "* This JSON provides a **list of all steps** involved"
   ]
  },
  {
   "cell_type": "markdown",
   "id": "82d51502-3b92-48ad-9c3c-272afc017695",
   "metadata": {},
   "source": [
    "### List of Configs"
   ]
  },
  {
   "cell_type": "code",
   "execution_count": 186,
   "id": "1a0863c9-3671-46e3-bbab-6a78f73f8596",
   "metadata": {
    "scrolled": true,
    "tags": []
   },
   "outputs": [
    {
     "data": {
      "text/plain": [
       "[BasePipelineConfig(author='lukexie', bucket='sandboxdependency-abuse-secureaisandboxteamshare-1l77v9am252um', role='arn:aws:iam::601857636239:role/SandboxRole-lukexie-us-east-1', region='NA', service_name='AtoZ', pipeline_version='1.3.1', model_class='xgboost', current_date='2025-09-21', framework_version='1.7-1', py_version='py3', source_dir='/home/ec2-user/SageMaker/Cursus/dockers/xgboost_atoz', aws_region='us-east-1'),\n",
       " ProcessingStepConfigBase(author='lukexie', bucket='sandboxdependency-abuse-secureaisandboxteamshare-1l77v9am252um', role='arn:aws:iam::601857636239:role/SandboxRole-lukexie-us-east-1', region='NA', service_name='AtoZ', pipeline_version='1.3.1', model_class='xgboost', current_date='2025-09-21', framework_version='1.7-1', py_version='py3', source_dir='/home/ec2-user/SageMaker/Cursus/dockers/xgboost_atoz', processing_instance_count=1, processing_volume_size=500, processing_instance_type_large='ml.m5.12xlarge', processing_instance_type_small='ml.m5.4xlarge', use_large_processing_instance=False, processing_source_dir='/home/ec2-user/SageMaker/Cursus/dockers/xgboost_atoz/scripts', processing_entry_point=None, processing_script_arguments=None, processing_framework_version='1.2-1'),\n",
       " CradleDataLoadConfig(author='lukexie', bucket='sandboxdependency-abuse-secureaisandboxteamshare-1l77v9am252um', role='arn:aws:iam::601857636239:role/SandboxRole-lukexie-us-east-1', region='NA', service_name='AtoZ', pipeline_version='1.3.1', model_class='xgboost', current_date='2025-09-21', framework_version='1.7-1', py_version='py3', source_dir='/home/ec2-user/SageMaker/Cursus/dockers/xgboost_atoz', job_type='training', data_sources_spec=DataSourcesSpecificationConfig(start_date='2025-01-01T00:00:00', end_date='2025-04-17T00:00:00', data_sources=[DataSourceConfig(data_source_name='RAW_MDS_NA', data_source_type='MDS', mds_data_source_properties=MdsDataSourceConfig(service_name='AtoZ', region='NA', output_schema=[{'field_name': 'Abuse.completed_mfn_orders_by_customer_marketplace.n_mfn_unit_count_last_365_days', 'field_type': 'STRING'}, {'field_name': 'Abuse.bsm_stats_for_evaluated_mfn_concessions_by_customer_na.n_min_buyer_message_count', 'field_type': 'STRING'}, {'field_name': 'Abuse.shiptrack_flag_by_order.n_any_returned', 'field_type': 'STRING'}, {'field_name': 'Abuse.completed_afn_orders_by_customer_marketplace.n_afn_unit_count_last_365_days', 'field_type': 'STRING'}, {'field_name': 'Abuse.bsm_stats_for_evaluated_mfn_concessions_by_customer_na.n_max_order_message_time_gap', 'field_type': 'STRING'}, {'field_name': 'Abuse.shiptrack_flag_by_order.n_any_available_for_pickup', 'field_type': 'STRING'}, {'field_name': 'transactionDate', 'field_type': 'STRING'}, {'field_name': 'Abuse.abuse_fap_action_by_customer_inline_transform_na.n_concession_solicit_count_last_365_days', 'field_type': 'STRING'}, {'field_name': 'Abuse.mfn_categorized_refunds_by_customer_marketplace.n_mfn_diff_refunds_order_count_last_365_days', 'field_type': 'STRING'}, {'field_name': 'Abuse.mfn_categorized_refunds_si_by_customer_marketplace.n_mfn_notr_refunds_si_365_days', 'field_type': 'STRING'}, {'field_name': 'Abuse.bsm_stats_for_evaluated_mfn_concessions_by_customer_na.n_total_topic_count', 'field_type': 'STRING'}, {'field_name': 'claimantInfo_status', 'field_type': 'STRING'}, {'field_name': 'Abuse.completed_afn_orders_by_customer_marketplace.n_afn_order_count_last_365_days', 'field_type': 'STRING'}, {'field_name': 'Abuse.mfn_categorized_refunds_si_by_customer_marketplace.n_mfn_diff_refunds_si_365_days', 'field_type': 'STRING'}, {'field_name': 'Abuse.abuse_fap_action_by_customer_inline_transform_na.n_concession_warn_count_last_365_days', 'field_type': 'STRING'}, {'field_name': 'Abuse.mfn_refunds_by_customer_marketplace.n_mfn_refund_unit_amount_last_365_days', 'field_type': 'STRING'}, {'field_name': 'Abuse.bsm_stats_for_evaluated_mfn_concessions_by_customer_na.n_min_buyer_order_message_time_gap', 'field_type': 'STRING'}, {'field_name': 'Abuse.bsm_stats_for_evaluated_mfn_concessions_by_customer_na.n_total_seller_message_count', 'field_type': 'STRING'}, {'field_name': 'Abuse.mfn_a2z_claims_by_customer_na.n_mfn_claims_count_last_365_days', 'field_type': 'STRING'}, {'field_name': 'Abuse.mfn_refunds_by_customer_marketplace.n_mfn_refund_order_count_last_365_days', 'field_type': 'STRING'}, {'field_name': 'Abuse.bsm_stats_for_evaluated_mfn_concessions_by_customer_na.n_max_buyer_order_message_time_gap', 'field_type': 'STRING'}, {'field_name': 'Abuse.completed_afn_orders_by_customer_marketplace.n_afn_unit_amount_last_365_days', 'field_type': 'STRING'}, {'field_name': 'Abuse.completed_mfn_orders_by_customer_marketplace.n_mfn_order_count_last_365_days', 'field_type': 'STRING'}, {'field_name': 'Abuse.mfn_a2z_claims_by_customer_na.n_mfn_notr_claims_amount_last_365_days', 'field_type': 'STRING'}, {'field_name': 'COMP_DAYOB', 'field_type': 'STRING'}, {'field_name': 'Abuse.mfn_categorized_refunds_by_customer_marketplace.n_mfn_notr_refunds_unit_amount_last_365_days', 'field_type': 'STRING'}, {'field_name': 'Abuse.dnr_by_customer_marketplace.n_dnr_amount_si_last_365_days', 'field_type': 'STRING'}, {'field_name': 'Abuse.mfn_categorized_refunds_by_customer_marketplace.n_mfn_notr_refunds_order_count_last_365_days', 'field_type': 'STRING'}, {'field_name': 'Abuse.mfn_refunds_si_by_customer_marketplace.n_mfn_refund_amount_si_last_365_days', 'field_type': 'STRING'}, {'field_name': 'Abuse.bsm_stats_for_evaluated_mfn_concessions_by_customer_na.n_total_message_count', 'field_type': 'STRING'}, {'field_name': 'shipments_status', 'field_type': 'STRING'}, {'field_name': 'Abuse.completed_mfn_orders_by_customer_marketplace.n_mfn_unit_amount_last_365_days', 'field_type': 'STRING'}, {'field_name': 'Abuse.bsm_stats_for_evaluated_mfn_concessions_by_customer_na.n_max_seller_order_message_time_gap', 'field_type': 'STRING'}, {'field_name': 'claimantInfo_allClaimCount365day', 'field_type': 'STRING'}, {'field_name': 'Abuse.bsm_stats_for_evaluated_mfn_concessions_by_customer_na.n_message_count_with_return_keywords_si', 'field_type': 'STRING'}, {'field_name': 'Abuse.dnr_by_customer_marketplace.n_dnr_unit_count_last_365_days', 'field_type': 'STRING'}, {'field_name': 'Abuse.shiptrack_flag_by_order.n_any_undeliverable', 'field_type': 'STRING'}, {'field_name': 'Abuse.mfn_a2z_claims_by_customer_na.n_mfn_diff_claims_count_last_365_days', 'field_type': 'STRING'}, {'field_name': 'Abuse.bsm_stats_for_evaluated_mfn_concessions_by_customer_na.n_min_seller_order_message_time_gap', 'field_type': 'STRING'}, {'field_name': 'Abuse.mfn_refunds_by_customer_marketplace.n_mfn_refund_unit_count_last_365_days', 'field_type': 'STRING'}, {'field_name': 'Abuse.order_to_execution_time_from_eventvariables.n_order_to_execution', 'field_type': 'STRING'}, {'field_name': 'claim_reason', 'field_type': 'STRING'}, {'field_name': 'Abuse.mfn_a2z_claims_by_customer_na.n_mfn_diff_claims_amount_last_365_days', 'field_type': 'STRING'}, {'field_name': 'Abuse.shiptrack_flag_by_order.n_any_partial_delivered', 'field_type': 'STRING'}, {'field_name': 'claimantInfo_pendingClaimCount', 'field_type': 'STRING'}, {'field_name': 'Abuse.dnr_by_customer_marketplace.n_dnr_order_count_last_365_days', 'field_type': 'STRING'}, {'field_name': 'claimAmount_value', 'field_type': 'STRING'}, {'field_name': 'Abuse.shiptrack_flag_by_order.n_any_returning', 'field_type': 'STRING'}, {'field_name': 'Abuse.mfn_categorized_refunds_by_customer_marketplace.n_mfn_diff_refunds_unit_count_last_365_days', 'field_type': 'STRING'}, {'field_name': 'Abuse.abuse_fap_action_by_customer_inline_transform_na.n_claims_solicit_count_last_365_days', 'field_type': 'STRING'}, {'field_name': 'Abuse.bsm_stats_for_evaluated_mfn_concessions_by_customer_na.n_total_buyer_message_count', 'field_type': 'STRING'}, {'field_name': 'Abuse.dnr_by_customer_marketplace.n_dnr_unit_amount_last_365_days', 'field_type': 'STRING'}, {'field_name': 'Abuse.bsm_stats_for_evaluated_mfn_concessions_by_customer_na.n_message_count_with_diff_topic_si', 'field_type': 'STRING'}, {'field_name': 'Abuse.mfn_a2z_claims_by_customer_na.n_mfn_notr_claims_count_last_365_days', 'field_type': 'STRING'}, {'field_name': 'Abuse.mfn_a2z_claims_by_customer_na.n_mfn_claims_amount_last_365_days', 'field_type': 'STRING'}, {'field_name': 'Abuse.bsm_stats_for_evaluated_mfn_concessions_by_customer_na.n_min_seller_message_count', 'field_type': 'STRING'}, {'field_name': 'Abuse.bsm_stats_for_evaluated_mfn_concessions_by_customer_na.n_message_count_with_notr_topic_si', 'field_type': 'STRING'}, {'field_name': 'Abuse.mfn_categorized_refunds_by_customer_marketplace.n_mfn_diff_refunds_unit_amount_last_365_days', 'field_type': 'STRING'}, {'field_name': 'Abuse.mfn_categorized_refunds_by_customer_marketplace.n_mfn_notr_refunds_unit_count_last_365_days', 'field_type': 'STRING'}, {'field_name': 'Abuse.bsm_stats_for_evaluated_mfn_concessions_by_customer_na.n_min_message_count', 'field_type': 'STRING'}, {'field_name': 'Abuse.bsm_stats_for_evaluated_mfn_concessions_by_customer_na.n_min_order_message_time_gap', 'field_type': 'STRING'}, {'field_name': 'PAYMETH', 'field_type': 'STRING'}, {'field_name': 'claimantInfo_lifetimeClaimCount', 'field_type': 'STRING'}, {'field_name': 'objectId', 'field_type': 'STRING'}, {'field_name': 'Abuse.abuse_fap_action_by_customer_inline_transform_na.n_claims_warn_count_last_365_days', 'field_type': 'STRING'}, {'field_name': 'Abuse.shiptrack_flag_by_order.n_any_delivered', 'field_type': 'STRING'}], org_id=0, use_hourly_edx_data_set=False), edx_data_source_properties=None, andes_data_source_properties=None), DataSourceConfig(data_source_name='TAGS', data_source_type='EDX', mds_data_source_properties=None, edx_data_source_properties=EdxDataSourceConfig(edx_provider='trms-abuse-analytics', edx_subject='qingyuye-notr-exp', edx_dataset='atoz-tag', edx_manifest_key='[\"24292902\",2025-01-01T00:00:00Z,2025-04-17T00:00:00Z,\"NA\"]', schema_overrides=[{'field_name': 'order_id', 'field_type': 'STRING'}, {'field_name': 'marketplace_id', 'field_type': 'STRING'}, {'field_name': 'tag_date', 'field_type': 'STRING'}, {'field_name': 'is_abuse', 'field_type': 'STRING'}, {'field_name': 'abuse_type', 'field_type': 'STRING'}, {'field_name': 'concession_type', 'field_type': 'STRING'}]), andes_data_source_properties=None)]), transform_spec=TransformSpecificationConfig(transform_sql='\\nSELECT\\n    Abuse__DOT__abuse_fap_action_by_customer_inline_transform_na__DOT__n_claims_solicit_count_last_365_days,\\n    Abuse__DOT__abuse_fap_action_by_customer_inline_transform_na__DOT__n_claims_warn_count_last_365_days,\\n    Abuse__DOT__abuse_fap_action_by_customer_inline_transform_na__DOT__n_concession_solicit_count_last_365_days,\\n    Abuse__DOT__abuse_fap_action_by_customer_inline_transform_na__DOT__n_concession_warn_count_last_365_days,\\n    Abuse__DOT__bsm_stats_for_evaluated_mfn_concessions_by_customer_na__DOT__n_max_buyer_order_message_time_gap,\\n    Abuse__DOT__bsm_stats_for_evaluated_mfn_concessions_by_customer_na__DOT__n_max_order_message_time_gap,\\n    Abuse__DOT__bsm_stats_for_evaluated_mfn_concessions_by_customer_na__DOT__n_max_seller_order_message_time_gap,\\n    Abuse__DOT__bsm_stats_for_evaluated_mfn_concessions_by_customer_na__DOT__n_message_count_with_diff_topic_si,\\n    Abuse__DOT__bsm_stats_for_evaluated_mfn_concessions_by_customer_na__DOT__n_message_count_with_notr_topic_si,\\n    Abuse__DOT__bsm_stats_for_evaluated_mfn_concessions_by_customer_na__DOT__n_message_count_with_return_keywords_si,\\n    Abuse__DOT__bsm_stats_for_evaluated_mfn_concessions_by_customer_na__DOT__n_min_buyer_message_count,\\n    Abuse__DOT__bsm_stats_for_evaluated_mfn_concessions_by_customer_na__DOT__n_min_buyer_order_message_time_gap,\\n    Abuse__DOT__bsm_stats_for_evaluated_mfn_concessions_by_customer_na__DOT__n_min_message_count,\\n    Abuse__DOT__bsm_stats_for_evaluated_mfn_concessions_by_customer_na__DOT__n_min_order_message_time_gap,\\n    Abuse__DOT__bsm_stats_for_evaluated_mfn_concessions_by_customer_na__DOT__n_min_seller_message_count,\\n    Abuse__DOT__bsm_stats_for_evaluated_mfn_concessions_by_customer_na__DOT__n_min_seller_order_message_time_gap,\\n    Abuse__DOT__bsm_stats_for_evaluated_mfn_concessions_by_customer_na__DOT__n_total_buyer_message_count,\\n    Abuse__DOT__bsm_stats_for_evaluated_mfn_concessions_by_customer_na__DOT__n_total_message_count,\\n    Abuse__DOT__bsm_stats_for_evaluated_mfn_concessions_by_customer_na__DOT__n_total_seller_message_count,\\n    Abuse__DOT__bsm_stats_for_evaluated_mfn_concessions_by_customer_na__DOT__n_total_topic_count,\\n    Abuse__DOT__completed_afn_orders_by_customer_marketplace__DOT__n_afn_order_count_last_365_days,\\n    Abuse__DOT__completed_afn_orders_by_customer_marketplace__DOT__n_afn_unit_amount_last_365_days,\\n    Abuse__DOT__completed_afn_orders_by_customer_marketplace__DOT__n_afn_unit_count_last_365_days,\\n    Abuse__DOT__completed_mfn_orders_by_customer_marketplace__DOT__n_mfn_order_count_last_365_days,\\n    Abuse__DOT__completed_mfn_orders_by_customer_marketplace__DOT__n_mfn_unit_amount_last_365_days,\\n    Abuse__DOT__completed_mfn_orders_by_customer_marketplace__DOT__n_mfn_unit_count_last_365_days,\\n    Abuse__DOT__dnr_by_customer_marketplace__DOT__n_dnr_amount_si_last_365_days,\\n    Abuse__DOT__dnr_by_customer_marketplace__DOT__n_dnr_order_count_last_365_days,\\n    Abuse__DOT__dnr_by_customer_marketplace__DOT__n_dnr_unit_amount_last_365_days,\\n    Abuse__DOT__dnr_by_customer_marketplace__DOT__n_dnr_unit_count_last_365_days,\\n    Abuse__DOT__mfn_a2z_claims_by_customer_na__DOT__n_mfn_claims_amount_last_365_days,\\n    Abuse__DOT__mfn_a2z_claims_by_customer_na__DOT__n_mfn_claims_count_last_365_days,\\n    Abuse__DOT__mfn_a2z_claims_by_customer_na__DOT__n_mfn_diff_claims_amount_last_365_days,\\n    Abuse__DOT__mfn_a2z_claims_by_customer_na__DOT__n_mfn_diff_claims_count_last_365_days,\\n    Abuse__DOT__mfn_a2z_claims_by_customer_na__DOT__n_mfn_notr_claims_amount_last_365_days,\\n    Abuse__DOT__mfn_a2z_claims_by_customer_na__DOT__n_mfn_notr_claims_count_last_365_days,\\n    Abuse__DOT__mfn_categorized_refunds_by_customer_marketplace__DOT__n_mfn_diff_refunds_order_count_last_365_days,\\n    Abuse__DOT__mfn_categorized_refunds_by_customer_marketplace__DOT__n_mfn_diff_refunds_unit_amount_last_365_days,\\n    Abuse__DOT__mfn_categorized_refunds_by_customer_marketplace__DOT__n_mfn_diff_refunds_unit_count_last_365_days,\\n    Abuse__DOT__mfn_categorized_refunds_by_customer_marketplace__DOT__n_mfn_notr_refunds_order_count_last_365_days,\\n    Abuse__DOT__mfn_categorized_refunds_by_customer_marketplace__DOT__n_mfn_notr_refunds_unit_amount_last_365_days,\\n    Abuse__DOT__mfn_categorized_refunds_by_customer_marketplace__DOT__n_mfn_notr_refunds_unit_count_last_365_days,\\n    Abuse__DOT__mfn_categorized_refunds_si_by_customer_marketplace__DOT__n_mfn_diff_refunds_si_365_days,\\n    Abuse__DOT__mfn_categorized_refunds_si_by_customer_marketplace__DOT__n_mfn_notr_refunds_si_365_days,\\n    Abuse__DOT__mfn_refunds_by_customer_marketplace__DOT__n_mfn_refund_order_count_last_365_days,\\n    Abuse__DOT__mfn_refunds_by_customer_marketplace__DOT__n_mfn_refund_unit_amount_last_365_days,\\n    Abuse__DOT__mfn_refunds_by_customer_marketplace__DOT__n_mfn_refund_unit_count_last_365_days,\\n    Abuse__DOT__mfn_refunds_si_by_customer_marketplace__DOT__n_mfn_refund_amount_si_last_365_days,\\n    Abuse__DOT__order_to_execution_time_from_eventvariables__DOT__n_order_to_execution,\\n    Abuse__DOT__shiptrack_flag_by_order__DOT__n_any_available_for_pickup,\\n    Abuse__DOT__shiptrack_flag_by_order__DOT__n_any_delivered,\\n    Abuse__DOT__shiptrack_flag_by_order__DOT__n_any_partial_delivered,\\n    Abuse__DOT__shiptrack_flag_by_order__DOT__n_any_returned,\\n    Abuse__DOT__shiptrack_flag_by_order__DOT__n_any_returning,\\n    Abuse__DOT__shiptrack_flag_by_order__DOT__n_any_undeliverable,\\n    COMP_DAYOB,\\n    PAYMETH,\\n    abuse_type,\\n    claimAmount_value,\\n    claim_reason,\\n    claimantInfo_allClaimCount365day,\\n    claimantInfo_lifetimeClaimCount,\\n    claimantInfo_pendingClaimCount,\\n    claimantInfo_status,\\n    concession_type,\\n    is_abuse,\\n    marketplace_id,\\n    objectId,\\n    order_id,\\n    shipments_status,\\n    tag_date,\\n    transactionDate\\nFROM (\\n    SELECT\\n        RAW_MDS_NA.Abuse__DOT__abuse_fap_action_by_customer_inline_transform_na__DOT__n_claims_solicit_count_last_365_days,\\n        RAW_MDS_NA.Abuse__DOT__abuse_fap_action_by_customer_inline_transform_na__DOT__n_claims_warn_count_last_365_days,\\n        RAW_MDS_NA.Abuse__DOT__abuse_fap_action_by_customer_inline_transform_na__DOT__n_concession_solicit_count_last_365_days,\\n        RAW_MDS_NA.Abuse__DOT__abuse_fap_action_by_customer_inline_transform_na__DOT__n_concession_warn_count_last_365_days,\\n        RAW_MDS_NA.Abuse__DOT__bsm_stats_for_evaluated_mfn_concessions_by_customer_na__DOT__n_max_buyer_order_message_time_gap,\\n        RAW_MDS_NA.Abuse__DOT__bsm_stats_for_evaluated_mfn_concessions_by_customer_na__DOT__n_max_order_message_time_gap,\\n        RAW_MDS_NA.Abuse__DOT__bsm_stats_for_evaluated_mfn_concessions_by_customer_na__DOT__n_max_seller_order_message_time_gap,\\n        RAW_MDS_NA.Abuse__DOT__bsm_stats_for_evaluated_mfn_concessions_by_customer_na__DOT__n_message_count_with_diff_topic_si,\\n        RAW_MDS_NA.Abuse__DOT__bsm_stats_for_evaluated_mfn_concessions_by_customer_na__DOT__n_message_count_with_notr_topic_si,\\n        RAW_MDS_NA.Abuse__DOT__bsm_stats_for_evaluated_mfn_concessions_by_customer_na__DOT__n_message_count_with_return_keywords_si,\\n        RAW_MDS_NA.Abuse__DOT__bsm_stats_for_evaluated_mfn_concessions_by_customer_na__DOT__n_min_buyer_message_count,\\n        RAW_MDS_NA.Abuse__DOT__bsm_stats_for_evaluated_mfn_concessions_by_customer_na__DOT__n_min_buyer_order_message_time_gap,\\n        RAW_MDS_NA.Abuse__DOT__bsm_stats_for_evaluated_mfn_concessions_by_customer_na__DOT__n_min_message_count,\\n        RAW_MDS_NA.Abuse__DOT__bsm_stats_for_evaluated_mfn_concessions_by_customer_na__DOT__n_min_order_message_time_gap,\\n        RAW_MDS_NA.Abuse__DOT__bsm_stats_for_evaluated_mfn_concessions_by_customer_na__DOT__n_min_seller_message_count,\\n        RAW_MDS_NA.Abuse__DOT__bsm_stats_for_evaluated_mfn_concessions_by_customer_na__DOT__n_min_seller_order_message_time_gap,\\n        RAW_MDS_NA.Abuse__DOT__bsm_stats_for_evaluated_mfn_concessions_by_customer_na__DOT__n_total_buyer_message_count,\\n        RAW_MDS_NA.Abuse__DOT__bsm_stats_for_evaluated_mfn_concessions_by_customer_na__DOT__n_total_message_count,\\n        RAW_MDS_NA.Abuse__DOT__bsm_stats_for_evaluated_mfn_concessions_by_customer_na__DOT__n_total_seller_message_count,\\n        RAW_MDS_NA.Abuse__DOT__bsm_stats_for_evaluated_mfn_concessions_by_customer_na__DOT__n_total_topic_count,\\n        RAW_MDS_NA.Abuse__DOT__completed_afn_orders_by_customer_marketplace__DOT__n_afn_order_count_last_365_days,\\n        RAW_MDS_NA.Abuse__DOT__completed_afn_orders_by_customer_marketplace__DOT__n_afn_unit_amount_last_365_days,\\n        RAW_MDS_NA.Abuse__DOT__completed_afn_orders_by_customer_marketplace__DOT__n_afn_unit_count_last_365_days,\\n        RAW_MDS_NA.Abuse__DOT__completed_mfn_orders_by_customer_marketplace__DOT__n_mfn_order_count_last_365_days,\\n        RAW_MDS_NA.Abuse__DOT__completed_mfn_orders_by_customer_marketplace__DOT__n_mfn_unit_amount_last_365_days,\\n        RAW_MDS_NA.Abuse__DOT__completed_mfn_orders_by_customer_marketplace__DOT__n_mfn_unit_count_last_365_days,\\n        RAW_MDS_NA.Abuse__DOT__dnr_by_customer_marketplace__DOT__n_dnr_amount_si_last_365_days,\\n        RAW_MDS_NA.Abuse__DOT__dnr_by_customer_marketplace__DOT__n_dnr_order_count_last_365_days,\\n        RAW_MDS_NA.Abuse__DOT__dnr_by_customer_marketplace__DOT__n_dnr_unit_amount_last_365_days,\\n        RAW_MDS_NA.Abuse__DOT__dnr_by_customer_marketplace__DOT__n_dnr_unit_count_last_365_days,\\n        RAW_MDS_NA.Abuse__DOT__mfn_a2z_claims_by_customer_na__DOT__n_mfn_claims_amount_last_365_days,\\n        RAW_MDS_NA.Abuse__DOT__mfn_a2z_claims_by_customer_na__DOT__n_mfn_claims_count_last_365_days,\\n        RAW_MDS_NA.Abuse__DOT__mfn_a2z_claims_by_customer_na__DOT__n_mfn_diff_claims_amount_last_365_days,\\n        RAW_MDS_NA.Abuse__DOT__mfn_a2z_claims_by_customer_na__DOT__n_mfn_diff_claims_count_last_365_days,\\n        RAW_MDS_NA.Abuse__DOT__mfn_a2z_claims_by_customer_na__DOT__n_mfn_notr_claims_amount_last_365_days,\\n        RAW_MDS_NA.Abuse__DOT__mfn_a2z_claims_by_customer_na__DOT__n_mfn_notr_claims_count_last_365_days,\\n        RAW_MDS_NA.Abuse__DOT__mfn_categorized_refunds_by_customer_marketplace__DOT__n_mfn_diff_refunds_order_count_last_365_days,\\n        RAW_MDS_NA.Abuse__DOT__mfn_categorized_refunds_by_customer_marketplace__DOT__n_mfn_diff_refunds_unit_amount_last_365_days,\\n        RAW_MDS_NA.Abuse__DOT__mfn_categorized_refunds_by_customer_marketplace__DOT__n_mfn_diff_refunds_unit_count_last_365_days,\\n        RAW_MDS_NA.Abuse__DOT__mfn_categorized_refunds_by_customer_marketplace__DOT__n_mfn_notr_refunds_order_count_last_365_days,\\n        RAW_MDS_NA.Abuse__DOT__mfn_categorized_refunds_by_customer_marketplace__DOT__n_mfn_notr_refunds_unit_amount_last_365_days,\\n        RAW_MDS_NA.Abuse__DOT__mfn_categorized_refunds_by_customer_marketplace__DOT__n_mfn_notr_refunds_unit_count_last_365_days,\\n        RAW_MDS_NA.Abuse__DOT__mfn_categorized_refunds_si_by_customer_marketplace__DOT__n_mfn_diff_refunds_si_365_days,\\n        RAW_MDS_NA.Abuse__DOT__mfn_categorized_refunds_si_by_customer_marketplace__DOT__n_mfn_notr_refunds_si_365_days,\\n        RAW_MDS_NA.Abuse__DOT__mfn_refunds_by_customer_marketplace__DOT__n_mfn_refund_order_count_last_365_days,\\n        RAW_MDS_NA.Abuse__DOT__mfn_refunds_by_customer_marketplace__DOT__n_mfn_refund_unit_amount_last_365_days,\\n        RAW_MDS_NA.Abuse__DOT__mfn_refunds_by_customer_marketplace__DOT__n_mfn_refund_unit_count_last_365_days,\\n        RAW_MDS_NA.Abuse__DOT__mfn_refunds_si_by_customer_marketplace__DOT__n_mfn_refund_amount_si_last_365_days,\\n        RAW_MDS_NA.Abuse__DOT__order_to_execution_time_from_eventvariables__DOT__n_order_to_execution,\\n        RAW_MDS_NA.Abuse__DOT__shiptrack_flag_by_order__DOT__n_any_available_for_pickup,\\n        RAW_MDS_NA.Abuse__DOT__shiptrack_flag_by_order__DOT__n_any_delivered,\\n        RAW_MDS_NA.Abuse__DOT__shiptrack_flag_by_order__DOT__n_any_partial_delivered,\\n        RAW_MDS_NA.Abuse__DOT__shiptrack_flag_by_order__DOT__n_any_returned,\\n        RAW_MDS_NA.Abuse__DOT__shiptrack_flag_by_order__DOT__n_any_returning,\\n        RAW_MDS_NA.Abuse__DOT__shiptrack_flag_by_order__DOT__n_any_undeliverable,\\n        RAW_MDS_NA.COMP_DAYOB,\\n        RAW_MDS_NA.PAYMETH,\\n        RAW_MDS_NA.claimAmount_value,\\n        RAW_MDS_NA.claim_reason,\\n        RAW_MDS_NA.claimantInfo_allClaimCount365day,\\n        RAW_MDS_NA.claimantInfo_lifetimeClaimCount,\\n        RAW_MDS_NA.claimantInfo_pendingClaimCount,\\n        RAW_MDS_NA.claimantInfo_status,\\n        RAW_MDS_NA.objectId,\\n        RAW_MDS_NA.shipments_status,\\n        RAW_MDS_NA.transactionDate,\\n        TAGS.abuse_type,\\n        TAGS.concession_type,\\n        TAGS.is_abuse,\\n        TAGS.marketplace_id,\\n        TAGS.order_id,\\n        TAGS.tag_date,\\n        ROW_NUMBER() OVER (PARTITION BY RAW_MDS_NA.objectId, TAGS.order_id ORDER BY RAW_MDS_NA.transactionDate DESC) as row_num\\n    FROM RAW_MDS_NA\\n    JOIN TAGS ON RAW_MDS_NA.objectId = TAGS.order_id\\n)\\nWHERE row_num = 1\\n', job_split_options=JobSplitOptionsConfig(merge_sql=None, split_job=False, days_per_split=7)), output_spec=OutputSpecificationConfig(output_schema=['Abuse.abuse_fap_action_by_customer_inline_transform_na.n_claims_solicit_count_last_365_days', 'Abuse.abuse_fap_action_by_customer_inline_transform_na.n_claims_warn_count_last_365_days', 'Abuse.abuse_fap_action_by_customer_inline_transform_na.n_concession_solicit_count_last_365_days', 'Abuse.abuse_fap_action_by_customer_inline_transform_na.n_concession_warn_count_last_365_days', 'Abuse.bsm_stats_for_evaluated_mfn_concessions_by_customer_na.n_max_buyer_order_message_time_gap', 'Abuse.bsm_stats_for_evaluated_mfn_concessions_by_customer_na.n_max_order_message_time_gap', 'Abuse.bsm_stats_for_evaluated_mfn_concessions_by_customer_na.n_max_seller_order_message_time_gap', 'Abuse.bsm_stats_for_evaluated_mfn_concessions_by_customer_na.n_message_count_with_diff_topic_si', 'Abuse.bsm_stats_for_evaluated_mfn_concessions_by_customer_na.n_message_count_with_notr_topic_si', 'Abuse.bsm_stats_for_evaluated_mfn_concessions_by_customer_na.n_message_count_with_return_keywords_si', 'Abuse.bsm_stats_for_evaluated_mfn_concessions_by_customer_na.n_min_buyer_message_count', 'Abuse.bsm_stats_for_evaluated_mfn_concessions_by_customer_na.n_min_buyer_order_message_time_gap', 'Abuse.bsm_stats_for_evaluated_mfn_concessions_by_customer_na.n_min_message_count', 'Abuse.bsm_stats_for_evaluated_mfn_concessions_by_customer_na.n_min_order_message_time_gap', 'Abuse.bsm_stats_for_evaluated_mfn_concessions_by_customer_na.n_min_seller_message_count', 'Abuse.bsm_stats_for_evaluated_mfn_concessions_by_customer_na.n_min_seller_order_message_time_gap', 'Abuse.bsm_stats_for_evaluated_mfn_concessions_by_customer_na.n_total_buyer_message_count', 'Abuse.bsm_stats_for_evaluated_mfn_concessions_by_customer_na.n_total_message_count', 'Abuse.bsm_stats_for_evaluated_mfn_concessions_by_customer_na.n_total_seller_message_count', 'Abuse.bsm_stats_for_evaluated_mfn_concessions_by_customer_na.n_total_topic_count', 'Abuse.completed_afn_orders_by_customer_marketplace.n_afn_order_count_last_365_days', 'Abuse.completed_afn_orders_by_customer_marketplace.n_afn_unit_amount_last_365_days', 'Abuse.completed_afn_orders_by_customer_marketplace.n_afn_unit_count_last_365_days', 'Abuse.completed_mfn_orders_by_customer_marketplace.n_mfn_order_count_last_365_days', 'Abuse.completed_mfn_orders_by_customer_marketplace.n_mfn_unit_amount_last_365_days', 'Abuse.completed_mfn_orders_by_customer_marketplace.n_mfn_unit_count_last_365_days', 'Abuse.dnr_by_customer_marketplace.n_dnr_amount_si_last_365_days', 'Abuse.dnr_by_customer_marketplace.n_dnr_order_count_last_365_days', 'Abuse.dnr_by_customer_marketplace.n_dnr_unit_amount_last_365_days', 'Abuse.dnr_by_customer_marketplace.n_dnr_unit_count_last_365_days', 'Abuse.mfn_a2z_claims_by_customer_na.n_mfn_claims_amount_last_365_days', 'Abuse.mfn_a2z_claims_by_customer_na.n_mfn_claims_count_last_365_days', 'Abuse.mfn_a2z_claims_by_customer_na.n_mfn_diff_claims_amount_last_365_days', 'Abuse.mfn_a2z_claims_by_customer_na.n_mfn_diff_claims_count_last_365_days', 'Abuse.mfn_a2z_claims_by_customer_na.n_mfn_notr_claims_amount_last_365_days', 'Abuse.mfn_a2z_claims_by_customer_na.n_mfn_notr_claims_count_last_365_days', 'Abuse.mfn_categorized_refunds_by_customer_marketplace.n_mfn_diff_refunds_order_count_last_365_days', 'Abuse.mfn_categorized_refunds_by_customer_marketplace.n_mfn_diff_refunds_unit_amount_last_365_days', 'Abuse.mfn_categorized_refunds_by_customer_marketplace.n_mfn_diff_refunds_unit_count_last_365_days', 'Abuse.mfn_categorized_refunds_by_customer_marketplace.n_mfn_notr_refunds_order_count_last_365_days', 'Abuse.mfn_categorized_refunds_by_customer_marketplace.n_mfn_notr_refunds_unit_amount_last_365_days', 'Abuse.mfn_categorized_refunds_by_customer_marketplace.n_mfn_notr_refunds_unit_count_last_365_days', 'Abuse.mfn_categorized_refunds_si_by_customer_marketplace.n_mfn_diff_refunds_si_365_days', 'Abuse.mfn_categorized_refunds_si_by_customer_marketplace.n_mfn_notr_refunds_si_365_days', 'Abuse.mfn_refunds_by_customer_marketplace.n_mfn_refund_order_count_last_365_days', 'Abuse.mfn_refunds_by_customer_marketplace.n_mfn_refund_unit_amount_last_365_days', 'Abuse.mfn_refunds_by_customer_marketplace.n_mfn_refund_unit_count_last_365_days', 'Abuse.mfn_refunds_si_by_customer_marketplace.n_mfn_refund_amount_si_last_365_days', 'Abuse.order_to_execution_time_from_eventvariables.n_order_to_execution', 'Abuse.shiptrack_flag_by_order.n_any_available_for_pickup', 'Abuse.shiptrack_flag_by_order.n_any_delivered', 'Abuse.shiptrack_flag_by_order.n_any_partial_delivered', 'Abuse.shiptrack_flag_by_order.n_any_returned', 'Abuse.shiptrack_flag_by_order.n_any_returning', 'Abuse.shiptrack_flag_by_order.n_any_undeliverable', 'COMP_DAYOB', 'PAYMETH', 'abuse_type', 'claimAmount_value', 'claim_reason', 'claimantInfo_allClaimCount365day', 'claimantInfo_lifetimeClaimCount', 'claimantInfo_pendingClaimCount', 'claimantInfo_status', 'concession_type', 'is_abuse', 'marketplace_id', 'objectId', 'order_id', 'shipments_status', 'tag_date', 'transactionDate'], job_type='training', pipeline_s3_loc='s3://sandboxdependency-abuse-secureaisandboxteamshare-1l77v9am252um/MODS/lukexie-AtoZ-xgboost-NA_1.3.1', output_format='PARQUET', output_save_mode='ERRORIFEXISTS', output_file_count=0, keep_dot_in_output_schema=False, include_header_in_s3_output=True), cradle_job_spec=CradleJobSpecificationConfig(cradle_account='Buyer-Abuse-RnD-Dev', cluster_type='MEDIUM', extra_spark_job_arguments='', job_retry_count=4), s3_input_override=None),\n",
       " CradleDataLoadConfig(author='lukexie', bucket='sandboxdependency-abuse-secureaisandboxteamshare-1l77v9am252um', role='arn:aws:iam::601857636239:role/SandboxRole-lukexie-us-east-1', region='NA', service_name='AtoZ', pipeline_version='1.3.1', model_class='xgboost', current_date='2025-09-21', framework_version='1.7-1', py_version='py3', source_dir='/home/ec2-user/SageMaker/Cursus/dockers/xgboost_atoz', job_type='calibration', data_sources_spec=DataSourcesSpecificationConfig(start_date='2025-04-17T00:00:00', end_date='2025-04-28T00:00:00', data_sources=[DataSourceConfig(data_source_name='RAW_MDS_NA', data_source_type='MDS', mds_data_source_properties=MdsDataSourceConfig(service_name='AtoZ', region='NA', output_schema=[{'field_name': 'Abuse.completed_mfn_orders_by_customer_marketplace.n_mfn_unit_count_last_365_days', 'field_type': 'STRING'}, {'field_name': 'Abuse.bsm_stats_for_evaluated_mfn_concessions_by_customer_na.n_min_buyer_message_count', 'field_type': 'STRING'}, {'field_name': 'Abuse.shiptrack_flag_by_order.n_any_returned', 'field_type': 'STRING'}, {'field_name': 'Abuse.completed_afn_orders_by_customer_marketplace.n_afn_unit_count_last_365_days', 'field_type': 'STRING'}, {'field_name': 'Abuse.bsm_stats_for_evaluated_mfn_concessions_by_customer_na.n_max_order_message_time_gap', 'field_type': 'STRING'}, {'field_name': 'Abuse.shiptrack_flag_by_order.n_any_available_for_pickup', 'field_type': 'STRING'}, {'field_name': 'transactionDate', 'field_type': 'STRING'}, {'field_name': 'Abuse.abuse_fap_action_by_customer_inline_transform_na.n_concession_solicit_count_last_365_days', 'field_type': 'STRING'}, {'field_name': 'Abuse.mfn_categorized_refunds_by_customer_marketplace.n_mfn_diff_refunds_order_count_last_365_days', 'field_type': 'STRING'}, {'field_name': 'Abuse.mfn_categorized_refunds_si_by_customer_marketplace.n_mfn_notr_refunds_si_365_days', 'field_type': 'STRING'}, {'field_name': 'Abuse.bsm_stats_for_evaluated_mfn_concessions_by_customer_na.n_total_topic_count', 'field_type': 'STRING'}, {'field_name': 'claimantInfo_status', 'field_type': 'STRING'}, {'field_name': 'Abuse.completed_afn_orders_by_customer_marketplace.n_afn_order_count_last_365_days', 'field_type': 'STRING'}, {'field_name': 'Abuse.mfn_categorized_refunds_si_by_customer_marketplace.n_mfn_diff_refunds_si_365_days', 'field_type': 'STRING'}, {'field_name': 'Abuse.abuse_fap_action_by_customer_inline_transform_na.n_concession_warn_count_last_365_days', 'field_type': 'STRING'}, {'field_name': 'Abuse.mfn_refunds_by_customer_marketplace.n_mfn_refund_unit_amount_last_365_days', 'field_type': 'STRING'}, {'field_name': 'Abuse.bsm_stats_for_evaluated_mfn_concessions_by_customer_na.n_min_buyer_order_message_time_gap', 'field_type': 'STRING'}, {'field_name': 'Abuse.bsm_stats_for_evaluated_mfn_concessions_by_customer_na.n_total_seller_message_count', 'field_type': 'STRING'}, {'field_name': 'Abuse.mfn_a2z_claims_by_customer_na.n_mfn_claims_count_last_365_days', 'field_type': 'STRING'}, {'field_name': 'Abuse.mfn_refunds_by_customer_marketplace.n_mfn_refund_order_count_last_365_days', 'field_type': 'STRING'}, {'field_name': 'Abuse.bsm_stats_for_evaluated_mfn_concessions_by_customer_na.n_max_buyer_order_message_time_gap', 'field_type': 'STRING'}, {'field_name': 'Abuse.completed_afn_orders_by_customer_marketplace.n_afn_unit_amount_last_365_days', 'field_type': 'STRING'}, {'field_name': 'Abuse.completed_mfn_orders_by_customer_marketplace.n_mfn_order_count_last_365_days', 'field_type': 'STRING'}, {'field_name': 'Abuse.mfn_a2z_claims_by_customer_na.n_mfn_notr_claims_amount_last_365_days', 'field_type': 'STRING'}, {'field_name': 'COMP_DAYOB', 'field_type': 'STRING'}, {'field_name': 'Abuse.mfn_categorized_refunds_by_customer_marketplace.n_mfn_notr_refunds_unit_amount_last_365_days', 'field_type': 'STRING'}, {'field_name': 'Abuse.dnr_by_customer_marketplace.n_dnr_amount_si_last_365_days', 'field_type': 'STRING'}, {'field_name': 'Abuse.mfn_categorized_refunds_by_customer_marketplace.n_mfn_notr_refunds_order_count_last_365_days', 'field_type': 'STRING'}, {'field_name': 'Abuse.mfn_refunds_si_by_customer_marketplace.n_mfn_refund_amount_si_last_365_days', 'field_type': 'STRING'}, {'field_name': 'Abuse.bsm_stats_for_evaluated_mfn_concessions_by_customer_na.n_total_message_count', 'field_type': 'STRING'}, {'field_name': 'shipments_status', 'field_type': 'STRING'}, {'field_name': 'Abuse.completed_mfn_orders_by_customer_marketplace.n_mfn_unit_amount_last_365_days', 'field_type': 'STRING'}, {'field_name': 'Abuse.bsm_stats_for_evaluated_mfn_concessions_by_customer_na.n_max_seller_order_message_time_gap', 'field_type': 'STRING'}, {'field_name': 'claimantInfo_allClaimCount365day', 'field_type': 'STRING'}, {'field_name': 'Abuse.bsm_stats_for_evaluated_mfn_concessions_by_customer_na.n_message_count_with_return_keywords_si', 'field_type': 'STRING'}, {'field_name': 'Abuse.dnr_by_customer_marketplace.n_dnr_unit_count_last_365_days', 'field_type': 'STRING'}, {'field_name': 'Abuse.shiptrack_flag_by_order.n_any_undeliverable', 'field_type': 'STRING'}, {'field_name': 'Abuse.mfn_a2z_claims_by_customer_na.n_mfn_diff_claims_count_last_365_days', 'field_type': 'STRING'}, {'field_name': 'Abuse.bsm_stats_for_evaluated_mfn_concessions_by_customer_na.n_min_seller_order_message_time_gap', 'field_type': 'STRING'}, {'field_name': 'Abuse.mfn_refunds_by_customer_marketplace.n_mfn_refund_unit_count_last_365_days', 'field_type': 'STRING'}, {'field_name': 'Abuse.order_to_execution_time_from_eventvariables.n_order_to_execution', 'field_type': 'STRING'}, {'field_name': 'claim_reason', 'field_type': 'STRING'}, {'field_name': 'Abuse.mfn_a2z_claims_by_customer_na.n_mfn_diff_claims_amount_last_365_days', 'field_type': 'STRING'}, {'field_name': 'Abuse.shiptrack_flag_by_order.n_any_partial_delivered', 'field_type': 'STRING'}, {'field_name': 'claimantInfo_pendingClaimCount', 'field_type': 'STRING'}, {'field_name': 'Abuse.dnr_by_customer_marketplace.n_dnr_order_count_last_365_days', 'field_type': 'STRING'}, {'field_name': 'claimAmount_value', 'field_type': 'STRING'}, {'field_name': 'Abuse.shiptrack_flag_by_order.n_any_returning', 'field_type': 'STRING'}, {'field_name': 'Abuse.mfn_categorized_refunds_by_customer_marketplace.n_mfn_diff_refunds_unit_count_last_365_days', 'field_type': 'STRING'}, {'field_name': 'Abuse.abuse_fap_action_by_customer_inline_transform_na.n_claims_solicit_count_last_365_days', 'field_type': 'STRING'}, {'field_name': 'Abuse.bsm_stats_for_evaluated_mfn_concessions_by_customer_na.n_total_buyer_message_count', 'field_type': 'STRING'}, {'field_name': 'Abuse.dnr_by_customer_marketplace.n_dnr_unit_amount_last_365_days', 'field_type': 'STRING'}, {'field_name': 'Abuse.bsm_stats_for_evaluated_mfn_concessions_by_customer_na.n_message_count_with_diff_topic_si', 'field_type': 'STRING'}, {'field_name': 'Abuse.mfn_a2z_claims_by_customer_na.n_mfn_notr_claims_count_last_365_days', 'field_type': 'STRING'}, {'field_name': 'Abuse.mfn_a2z_claims_by_customer_na.n_mfn_claims_amount_last_365_days', 'field_type': 'STRING'}, {'field_name': 'Abuse.bsm_stats_for_evaluated_mfn_concessions_by_customer_na.n_min_seller_message_count', 'field_type': 'STRING'}, {'field_name': 'Abuse.bsm_stats_for_evaluated_mfn_concessions_by_customer_na.n_message_count_with_notr_topic_si', 'field_type': 'STRING'}, {'field_name': 'Abuse.mfn_categorized_refunds_by_customer_marketplace.n_mfn_diff_refunds_unit_amount_last_365_days', 'field_type': 'STRING'}, {'field_name': 'Abuse.mfn_categorized_refunds_by_customer_marketplace.n_mfn_notr_refunds_unit_count_last_365_days', 'field_type': 'STRING'}, {'field_name': 'Abuse.bsm_stats_for_evaluated_mfn_concessions_by_customer_na.n_min_message_count', 'field_type': 'STRING'}, {'field_name': 'Abuse.bsm_stats_for_evaluated_mfn_concessions_by_customer_na.n_min_order_message_time_gap', 'field_type': 'STRING'}, {'field_name': 'PAYMETH', 'field_type': 'STRING'}, {'field_name': 'claimantInfo_lifetimeClaimCount', 'field_type': 'STRING'}, {'field_name': 'objectId', 'field_type': 'STRING'}, {'field_name': 'Abuse.abuse_fap_action_by_customer_inline_transform_na.n_claims_warn_count_last_365_days', 'field_type': 'STRING'}, {'field_name': 'Abuse.shiptrack_flag_by_order.n_any_delivered', 'field_type': 'STRING'}], org_id=0, use_hourly_edx_data_set=False), edx_data_source_properties=None, andes_data_source_properties=None), DataSourceConfig(data_source_name='TAGS', data_source_type='EDX', mds_data_source_properties=None, edx_data_source_properties=EdxDataSourceConfig(edx_provider='trms-abuse-analytics', edx_subject='qingyuye-notr-exp', edx_dataset='atoz-tag', edx_manifest_key='[\"24292902\",2025-04-17T00:00:00Z,2025-04-28T00:00:00Z,\"NA\"]', schema_overrides=[{'field_name': 'order_id', 'field_type': 'STRING'}, {'field_name': 'marketplace_id', 'field_type': 'STRING'}, {'field_name': 'tag_date', 'field_type': 'STRING'}, {'field_name': 'is_abuse', 'field_type': 'STRING'}, {'field_name': 'abuse_type', 'field_type': 'STRING'}, {'field_name': 'concession_type', 'field_type': 'STRING'}]), andes_data_source_properties=None)]), transform_spec=TransformSpecificationConfig(transform_sql='\\nSELECT\\n    Abuse__DOT__abuse_fap_action_by_customer_inline_transform_na__DOT__n_claims_solicit_count_last_365_days,\\n    Abuse__DOT__abuse_fap_action_by_customer_inline_transform_na__DOT__n_claims_warn_count_last_365_days,\\n    Abuse__DOT__abuse_fap_action_by_customer_inline_transform_na__DOT__n_concession_solicit_count_last_365_days,\\n    Abuse__DOT__abuse_fap_action_by_customer_inline_transform_na__DOT__n_concession_warn_count_last_365_days,\\n    Abuse__DOT__bsm_stats_for_evaluated_mfn_concessions_by_customer_na__DOT__n_max_buyer_order_message_time_gap,\\n    Abuse__DOT__bsm_stats_for_evaluated_mfn_concessions_by_customer_na__DOT__n_max_order_message_time_gap,\\n    Abuse__DOT__bsm_stats_for_evaluated_mfn_concessions_by_customer_na__DOT__n_max_seller_order_message_time_gap,\\n    Abuse__DOT__bsm_stats_for_evaluated_mfn_concessions_by_customer_na__DOT__n_message_count_with_diff_topic_si,\\n    Abuse__DOT__bsm_stats_for_evaluated_mfn_concessions_by_customer_na__DOT__n_message_count_with_notr_topic_si,\\n    Abuse__DOT__bsm_stats_for_evaluated_mfn_concessions_by_customer_na__DOT__n_message_count_with_return_keywords_si,\\n    Abuse__DOT__bsm_stats_for_evaluated_mfn_concessions_by_customer_na__DOT__n_min_buyer_message_count,\\n    Abuse__DOT__bsm_stats_for_evaluated_mfn_concessions_by_customer_na__DOT__n_min_buyer_order_message_time_gap,\\n    Abuse__DOT__bsm_stats_for_evaluated_mfn_concessions_by_customer_na__DOT__n_min_message_count,\\n    Abuse__DOT__bsm_stats_for_evaluated_mfn_concessions_by_customer_na__DOT__n_min_order_message_time_gap,\\n    Abuse__DOT__bsm_stats_for_evaluated_mfn_concessions_by_customer_na__DOT__n_min_seller_message_count,\\n    Abuse__DOT__bsm_stats_for_evaluated_mfn_concessions_by_customer_na__DOT__n_min_seller_order_message_time_gap,\\n    Abuse__DOT__bsm_stats_for_evaluated_mfn_concessions_by_customer_na__DOT__n_total_buyer_message_count,\\n    Abuse__DOT__bsm_stats_for_evaluated_mfn_concessions_by_customer_na__DOT__n_total_message_count,\\n    Abuse__DOT__bsm_stats_for_evaluated_mfn_concessions_by_customer_na__DOT__n_total_seller_message_count,\\n    Abuse__DOT__bsm_stats_for_evaluated_mfn_concessions_by_customer_na__DOT__n_total_topic_count,\\n    Abuse__DOT__completed_afn_orders_by_customer_marketplace__DOT__n_afn_order_count_last_365_days,\\n    Abuse__DOT__completed_afn_orders_by_customer_marketplace__DOT__n_afn_unit_amount_last_365_days,\\n    Abuse__DOT__completed_afn_orders_by_customer_marketplace__DOT__n_afn_unit_count_last_365_days,\\n    Abuse__DOT__completed_mfn_orders_by_customer_marketplace__DOT__n_mfn_order_count_last_365_days,\\n    Abuse__DOT__completed_mfn_orders_by_customer_marketplace__DOT__n_mfn_unit_amount_last_365_days,\\n    Abuse__DOT__completed_mfn_orders_by_customer_marketplace__DOT__n_mfn_unit_count_last_365_days,\\n    Abuse__DOT__dnr_by_customer_marketplace__DOT__n_dnr_amount_si_last_365_days,\\n    Abuse__DOT__dnr_by_customer_marketplace__DOT__n_dnr_order_count_last_365_days,\\n    Abuse__DOT__dnr_by_customer_marketplace__DOT__n_dnr_unit_amount_last_365_days,\\n    Abuse__DOT__dnr_by_customer_marketplace__DOT__n_dnr_unit_count_last_365_days,\\n    Abuse__DOT__mfn_a2z_claims_by_customer_na__DOT__n_mfn_claims_amount_last_365_days,\\n    Abuse__DOT__mfn_a2z_claims_by_customer_na__DOT__n_mfn_claims_count_last_365_days,\\n    Abuse__DOT__mfn_a2z_claims_by_customer_na__DOT__n_mfn_diff_claims_amount_last_365_days,\\n    Abuse__DOT__mfn_a2z_claims_by_customer_na__DOT__n_mfn_diff_claims_count_last_365_days,\\n    Abuse__DOT__mfn_a2z_claims_by_customer_na__DOT__n_mfn_notr_claims_amount_last_365_days,\\n    Abuse__DOT__mfn_a2z_claims_by_customer_na__DOT__n_mfn_notr_claims_count_last_365_days,\\n    Abuse__DOT__mfn_categorized_refunds_by_customer_marketplace__DOT__n_mfn_diff_refunds_order_count_last_365_days,\\n    Abuse__DOT__mfn_categorized_refunds_by_customer_marketplace__DOT__n_mfn_diff_refunds_unit_amount_last_365_days,\\n    Abuse__DOT__mfn_categorized_refunds_by_customer_marketplace__DOT__n_mfn_diff_refunds_unit_count_last_365_days,\\n    Abuse__DOT__mfn_categorized_refunds_by_customer_marketplace__DOT__n_mfn_notr_refunds_order_count_last_365_days,\\n    Abuse__DOT__mfn_categorized_refunds_by_customer_marketplace__DOT__n_mfn_notr_refunds_unit_amount_last_365_days,\\n    Abuse__DOT__mfn_categorized_refunds_by_customer_marketplace__DOT__n_mfn_notr_refunds_unit_count_last_365_days,\\n    Abuse__DOT__mfn_categorized_refunds_si_by_customer_marketplace__DOT__n_mfn_diff_refunds_si_365_days,\\n    Abuse__DOT__mfn_categorized_refunds_si_by_customer_marketplace__DOT__n_mfn_notr_refunds_si_365_days,\\n    Abuse__DOT__mfn_refunds_by_customer_marketplace__DOT__n_mfn_refund_order_count_last_365_days,\\n    Abuse__DOT__mfn_refunds_by_customer_marketplace__DOT__n_mfn_refund_unit_amount_last_365_days,\\n    Abuse__DOT__mfn_refunds_by_customer_marketplace__DOT__n_mfn_refund_unit_count_last_365_days,\\n    Abuse__DOT__mfn_refunds_si_by_customer_marketplace__DOT__n_mfn_refund_amount_si_last_365_days,\\n    Abuse__DOT__order_to_execution_time_from_eventvariables__DOT__n_order_to_execution,\\n    Abuse__DOT__shiptrack_flag_by_order__DOT__n_any_available_for_pickup,\\n    Abuse__DOT__shiptrack_flag_by_order__DOT__n_any_delivered,\\n    Abuse__DOT__shiptrack_flag_by_order__DOT__n_any_partial_delivered,\\n    Abuse__DOT__shiptrack_flag_by_order__DOT__n_any_returned,\\n    Abuse__DOT__shiptrack_flag_by_order__DOT__n_any_returning,\\n    Abuse__DOT__shiptrack_flag_by_order__DOT__n_any_undeliverable,\\n    COMP_DAYOB,\\n    PAYMETH,\\n    abuse_type,\\n    claimAmount_value,\\n    claim_reason,\\n    claimantInfo_allClaimCount365day,\\n    claimantInfo_lifetimeClaimCount,\\n    claimantInfo_pendingClaimCount,\\n    claimantInfo_status,\\n    concession_type,\\n    is_abuse,\\n    marketplace_id,\\n    objectId,\\n    order_id,\\n    shipments_status,\\n    tag_date,\\n    transactionDate\\nFROM (\\n    SELECT\\n        RAW_MDS_NA.Abuse__DOT__abuse_fap_action_by_customer_inline_transform_na__DOT__n_claims_solicit_count_last_365_days,\\n        RAW_MDS_NA.Abuse__DOT__abuse_fap_action_by_customer_inline_transform_na__DOT__n_claims_warn_count_last_365_days,\\n        RAW_MDS_NA.Abuse__DOT__abuse_fap_action_by_customer_inline_transform_na__DOT__n_concession_solicit_count_last_365_days,\\n        RAW_MDS_NA.Abuse__DOT__abuse_fap_action_by_customer_inline_transform_na__DOT__n_concession_warn_count_last_365_days,\\n        RAW_MDS_NA.Abuse__DOT__bsm_stats_for_evaluated_mfn_concessions_by_customer_na__DOT__n_max_buyer_order_message_time_gap,\\n        RAW_MDS_NA.Abuse__DOT__bsm_stats_for_evaluated_mfn_concessions_by_customer_na__DOT__n_max_order_message_time_gap,\\n        RAW_MDS_NA.Abuse__DOT__bsm_stats_for_evaluated_mfn_concessions_by_customer_na__DOT__n_max_seller_order_message_time_gap,\\n        RAW_MDS_NA.Abuse__DOT__bsm_stats_for_evaluated_mfn_concessions_by_customer_na__DOT__n_message_count_with_diff_topic_si,\\n        RAW_MDS_NA.Abuse__DOT__bsm_stats_for_evaluated_mfn_concessions_by_customer_na__DOT__n_message_count_with_notr_topic_si,\\n        RAW_MDS_NA.Abuse__DOT__bsm_stats_for_evaluated_mfn_concessions_by_customer_na__DOT__n_message_count_with_return_keywords_si,\\n        RAW_MDS_NA.Abuse__DOT__bsm_stats_for_evaluated_mfn_concessions_by_customer_na__DOT__n_min_buyer_message_count,\\n        RAW_MDS_NA.Abuse__DOT__bsm_stats_for_evaluated_mfn_concessions_by_customer_na__DOT__n_min_buyer_order_message_time_gap,\\n        RAW_MDS_NA.Abuse__DOT__bsm_stats_for_evaluated_mfn_concessions_by_customer_na__DOT__n_min_message_count,\\n        RAW_MDS_NA.Abuse__DOT__bsm_stats_for_evaluated_mfn_concessions_by_customer_na__DOT__n_min_order_message_time_gap,\\n        RAW_MDS_NA.Abuse__DOT__bsm_stats_for_evaluated_mfn_concessions_by_customer_na__DOT__n_min_seller_message_count,\\n        RAW_MDS_NA.Abuse__DOT__bsm_stats_for_evaluated_mfn_concessions_by_customer_na__DOT__n_min_seller_order_message_time_gap,\\n        RAW_MDS_NA.Abuse__DOT__bsm_stats_for_evaluated_mfn_concessions_by_customer_na__DOT__n_total_buyer_message_count,\\n        RAW_MDS_NA.Abuse__DOT__bsm_stats_for_evaluated_mfn_concessions_by_customer_na__DOT__n_total_message_count,\\n        RAW_MDS_NA.Abuse__DOT__bsm_stats_for_evaluated_mfn_concessions_by_customer_na__DOT__n_total_seller_message_count,\\n        RAW_MDS_NA.Abuse__DOT__bsm_stats_for_evaluated_mfn_concessions_by_customer_na__DOT__n_total_topic_count,\\n        RAW_MDS_NA.Abuse__DOT__completed_afn_orders_by_customer_marketplace__DOT__n_afn_order_count_last_365_days,\\n        RAW_MDS_NA.Abuse__DOT__completed_afn_orders_by_customer_marketplace__DOT__n_afn_unit_amount_last_365_days,\\n        RAW_MDS_NA.Abuse__DOT__completed_afn_orders_by_customer_marketplace__DOT__n_afn_unit_count_last_365_days,\\n        RAW_MDS_NA.Abuse__DOT__completed_mfn_orders_by_customer_marketplace__DOT__n_mfn_order_count_last_365_days,\\n        RAW_MDS_NA.Abuse__DOT__completed_mfn_orders_by_customer_marketplace__DOT__n_mfn_unit_amount_last_365_days,\\n        RAW_MDS_NA.Abuse__DOT__completed_mfn_orders_by_customer_marketplace__DOT__n_mfn_unit_count_last_365_days,\\n        RAW_MDS_NA.Abuse__DOT__dnr_by_customer_marketplace__DOT__n_dnr_amount_si_last_365_days,\\n        RAW_MDS_NA.Abuse__DOT__dnr_by_customer_marketplace__DOT__n_dnr_order_count_last_365_days,\\n        RAW_MDS_NA.Abuse__DOT__dnr_by_customer_marketplace__DOT__n_dnr_unit_amount_last_365_days,\\n        RAW_MDS_NA.Abuse__DOT__dnr_by_customer_marketplace__DOT__n_dnr_unit_count_last_365_days,\\n        RAW_MDS_NA.Abuse__DOT__mfn_a2z_claims_by_customer_na__DOT__n_mfn_claims_amount_last_365_days,\\n        RAW_MDS_NA.Abuse__DOT__mfn_a2z_claims_by_customer_na__DOT__n_mfn_claims_count_last_365_days,\\n        RAW_MDS_NA.Abuse__DOT__mfn_a2z_claims_by_customer_na__DOT__n_mfn_diff_claims_amount_last_365_days,\\n        RAW_MDS_NA.Abuse__DOT__mfn_a2z_claims_by_customer_na__DOT__n_mfn_diff_claims_count_last_365_days,\\n        RAW_MDS_NA.Abuse__DOT__mfn_a2z_claims_by_customer_na__DOT__n_mfn_notr_claims_amount_last_365_days,\\n        RAW_MDS_NA.Abuse__DOT__mfn_a2z_claims_by_customer_na__DOT__n_mfn_notr_claims_count_last_365_days,\\n        RAW_MDS_NA.Abuse__DOT__mfn_categorized_refunds_by_customer_marketplace__DOT__n_mfn_diff_refunds_order_count_last_365_days,\\n        RAW_MDS_NA.Abuse__DOT__mfn_categorized_refunds_by_customer_marketplace__DOT__n_mfn_diff_refunds_unit_amount_last_365_days,\\n        RAW_MDS_NA.Abuse__DOT__mfn_categorized_refunds_by_customer_marketplace__DOT__n_mfn_diff_refunds_unit_count_last_365_days,\\n        RAW_MDS_NA.Abuse__DOT__mfn_categorized_refunds_by_customer_marketplace__DOT__n_mfn_notr_refunds_order_count_last_365_days,\\n        RAW_MDS_NA.Abuse__DOT__mfn_categorized_refunds_by_customer_marketplace__DOT__n_mfn_notr_refunds_unit_amount_last_365_days,\\n        RAW_MDS_NA.Abuse__DOT__mfn_categorized_refunds_by_customer_marketplace__DOT__n_mfn_notr_refunds_unit_count_last_365_days,\\n        RAW_MDS_NA.Abuse__DOT__mfn_categorized_refunds_si_by_customer_marketplace__DOT__n_mfn_diff_refunds_si_365_days,\\n        RAW_MDS_NA.Abuse__DOT__mfn_categorized_refunds_si_by_customer_marketplace__DOT__n_mfn_notr_refunds_si_365_days,\\n        RAW_MDS_NA.Abuse__DOT__mfn_refunds_by_customer_marketplace__DOT__n_mfn_refund_order_count_last_365_days,\\n        RAW_MDS_NA.Abuse__DOT__mfn_refunds_by_customer_marketplace__DOT__n_mfn_refund_unit_amount_last_365_days,\\n        RAW_MDS_NA.Abuse__DOT__mfn_refunds_by_customer_marketplace__DOT__n_mfn_refund_unit_count_last_365_days,\\n        RAW_MDS_NA.Abuse__DOT__mfn_refunds_si_by_customer_marketplace__DOT__n_mfn_refund_amount_si_last_365_days,\\n        RAW_MDS_NA.Abuse__DOT__order_to_execution_time_from_eventvariables__DOT__n_order_to_execution,\\n        RAW_MDS_NA.Abuse__DOT__shiptrack_flag_by_order__DOT__n_any_available_for_pickup,\\n        RAW_MDS_NA.Abuse__DOT__shiptrack_flag_by_order__DOT__n_any_delivered,\\n        RAW_MDS_NA.Abuse__DOT__shiptrack_flag_by_order__DOT__n_any_partial_delivered,\\n        RAW_MDS_NA.Abuse__DOT__shiptrack_flag_by_order__DOT__n_any_returned,\\n        RAW_MDS_NA.Abuse__DOT__shiptrack_flag_by_order__DOT__n_any_returning,\\n        RAW_MDS_NA.Abuse__DOT__shiptrack_flag_by_order__DOT__n_any_undeliverable,\\n        RAW_MDS_NA.COMP_DAYOB,\\n        RAW_MDS_NA.PAYMETH,\\n        RAW_MDS_NA.claimAmount_value,\\n        RAW_MDS_NA.claim_reason,\\n        RAW_MDS_NA.claimantInfo_allClaimCount365day,\\n        RAW_MDS_NA.claimantInfo_lifetimeClaimCount,\\n        RAW_MDS_NA.claimantInfo_pendingClaimCount,\\n        RAW_MDS_NA.claimantInfo_status,\\n        RAW_MDS_NA.objectId,\\n        RAW_MDS_NA.shipments_status,\\n        RAW_MDS_NA.transactionDate,\\n        TAGS.abuse_type,\\n        TAGS.concession_type,\\n        TAGS.is_abuse,\\n        TAGS.marketplace_id,\\n        TAGS.order_id,\\n        TAGS.tag_date,\\n        ROW_NUMBER() OVER (PARTITION BY RAW_MDS_NA.objectId, TAGS.order_id ORDER BY RAW_MDS_NA.transactionDate DESC) as row_num\\n    FROM RAW_MDS_NA\\n    JOIN TAGS ON RAW_MDS_NA.objectId = TAGS.order_id\\n)\\nWHERE row_num = 1\\n', job_split_options=JobSplitOptionsConfig(merge_sql=None, split_job=False, days_per_split=7)), output_spec=OutputSpecificationConfig(output_schema=['Abuse.abuse_fap_action_by_customer_inline_transform_na.n_claims_solicit_count_last_365_days', 'Abuse.abuse_fap_action_by_customer_inline_transform_na.n_claims_warn_count_last_365_days', 'Abuse.abuse_fap_action_by_customer_inline_transform_na.n_concession_solicit_count_last_365_days', 'Abuse.abuse_fap_action_by_customer_inline_transform_na.n_concession_warn_count_last_365_days', 'Abuse.bsm_stats_for_evaluated_mfn_concessions_by_customer_na.n_max_buyer_order_message_time_gap', 'Abuse.bsm_stats_for_evaluated_mfn_concessions_by_customer_na.n_max_order_message_time_gap', 'Abuse.bsm_stats_for_evaluated_mfn_concessions_by_customer_na.n_max_seller_order_message_time_gap', 'Abuse.bsm_stats_for_evaluated_mfn_concessions_by_customer_na.n_message_count_with_diff_topic_si', 'Abuse.bsm_stats_for_evaluated_mfn_concessions_by_customer_na.n_message_count_with_notr_topic_si', 'Abuse.bsm_stats_for_evaluated_mfn_concessions_by_customer_na.n_message_count_with_return_keywords_si', 'Abuse.bsm_stats_for_evaluated_mfn_concessions_by_customer_na.n_min_buyer_message_count', 'Abuse.bsm_stats_for_evaluated_mfn_concessions_by_customer_na.n_min_buyer_order_message_time_gap', 'Abuse.bsm_stats_for_evaluated_mfn_concessions_by_customer_na.n_min_message_count', 'Abuse.bsm_stats_for_evaluated_mfn_concessions_by_customer_na.n_min_order_message_time_gap', 'Abuse.bsm_stats_for_evaluated_mfn_concessions_by_customer_na.n_min_seller_message_count', 'Abuse.bsm_stats_for_evaluated_mfn_concessions_by_customer_na.n_min_seller_order_message_time_gap', 'Abuse.bsm_stats_for_evaluated_mfn_concessions_by_customer_na.n_total_buyer_message_count', 'Abuse.bsm_stats_for_evaluated_mfn_concessions_by_customer_na.n_total_message_count', 'Abuse.bsm_stats_for_evaluated_mfn_concessions_by_customer_na.n_total_seller_message_count', 'Abuse.bsm_stats_for_evaluated_mfn_concessions_by_customer_na.n_total_topic_count', 'Abuse.completed_afn_orders_by_customer_marketplace.n_afn_order_count_last_365_days', 'Abuse.completed_afn_orders_by_customer_marketplace.n_afn_unit_amount_last_365_days', 'Abuse.completed_afn_orders_by_customer_marketplace.n_afn_unit_count_last_365_days', 'Abuse.completed_mfn_orders_by_customer_marketplace.n_mfn_order_count_last_365_days', 'Abuse.completed_mfn_orders_by_customer_marketplace.n_mfn_unit_amount_last_365_days', 'Abuse.completed_mfn_orders_by_customer_marketplace.n_mfn_unit_count_last_365_days', 'Abuse.dnr_by_customer_marketplace.n_dnr_amount_si_last_365_days', 'Abuse.dnr_by_customer_marketplace.n_dnr_order_count_last_365_days', 'Abuse.dnr_by_customer_marketplace.n_dnr_unit_amount_last_365_days', 'Abuse.dnr_by_customer_marketplace.n_dnr_unit_count_last_365_days', 'Abuse.mfn_a2z_claims_by_customer_na.n_mfn_claims_amount_last_365_days', 'Abuse.mfn_a2z_claims_by_customer_na.n_mfn_claims_count_last_365_days', 'Abuse.mfn_a2z_claims_by_customer_na.n_mfn_diff_claims_amount_last_365_days', 'Abuse.mfn_a2z_claims_by_customer_na.n_mfn_diff_claims_count_last_365_days', 'Abuse.mfn_a2z_claims_by_customer_na.n_mfn_notr_claims_amount_last_365_days', 'Abuse.mfn_a2z_claims_by_customer_na.n_mfn_notr_claims_count_last_365_days', 'Abuse.mfn_categorized_refunds_by_customer_marketplace.n_mfn_diff_refunds_order_count_last_365_days', 'Abuse.mfn_categorized_refunds_by_customer_marketplace.n_mfn_diff_refunds_unit_amount_last_365_days', 'Abuse.mfn_categorized_refunds_by_customer_marketplace.n_mfn_diff_refunds_unit_count_last_365_days', 'Abuse.mfn_categorized_refunds_by_customer_marketplace.n_mfn_notr_refunds_order_count_last_365_days', 'Abuse.mfn_categorized_refunds_by_customer_marketplace.n_mfn_notr_refunds_unit_amount_last_365_days', 'Abuse.mfn_categorized_refunds_by_customer_marketplace.n_mfn_notr_refunds_unit_count_last_365_days', 'Abuse.mfn_categorized_refunds_si_by_customer_marketplace.n_mfn_diff_refunds_si_365_days', 'Abuse.mfn_categorized_refunds_si_by_customer_marketplace.n_mfn_notr_refunds_si_365_days', 'Abuse.mfn_refunds_by_customer_marketplace.n_mfn_refund_order_count_last_365_days', 'Abuse.mfn_refunds_by_customer_marketplace.n_mfn_refund_unit_amount_last_365_days', 'Abuse.mfn_refunds_by_customer_marketplace.n_mfn_refund_unit_count_last_365_days', 'Abuse.mfn_refunds_si_by_customer_marketplace.n_mfn_refund_amount_si_last_365_days', 'Abuse.order_to_execution_time_from_eventvariables.n_order_to_execution', 'Abuse.shiptrack_flag_by_order.n_any_available_for_pickup', 'Abuse.shiptrack_flag_by_order.n_any_delivered', 'Abuse.shiptrack_flag_by_order.n_any_partial_delivered', 'Abuse.shiptrack_flag_by_order.n_any_returned', 'Abuse.shiptrack_flag_by_order.n_any_returning', 'Abuse.shiptrack_flag_by_order.n_any_undeliverable', 'COMP_DAYOB', 'PAYMETH', 'abuse_type', 'claimAmount_value', 'claim_reason', 'claimantInfo_allClaimCount365day', 'claimantInfo_lifetimeClaimCount', 'claimantInfo_pendingClaimCount', 'claimantInfo_status', 'concession_type', 'is_abuse', 'marketplace_id', 'objectId', 'order_id', 'shipments_status', 'tag_date', 'transactionDate'], job_type='calibration', pipeline_s3_loc='s3://sandboxdependency-abuse-secureaisandboxteamshare-1l77v9am252um/MODS/lukexie-AtoZ-xgboost-NA_1.3.1', output_format='PARQUET', output_save_mode='ERRORIFEXISTS', output_file_count=0, keep_dot_in_output_schema=False, include_header_in_s3_output=True), cradle_job_spec=CradleJobSpecificationConfig(cradle_account='Buyer-Abuse-RnD-Dev', cluster_type='MEDIUM', extra_spark_job_arguments='', job_retry_count=4), s3_input_override=None),\n",
       " TabularPreprocessingConfig(author='lukexie', bucket='sandboxdependency-abuse-secureaisandboxteamshare-1l77v9am252um', role='arn:aws:iam::601857636239:role/SandboxRole-lukexie-us-east-1', region='NA', service_name='AtoZ', pipeline_version='1.3.1', model_class='xgboost', current_date='2025-09-21', framework_version='1.7-1', py_version='py3', source_dir='/home/ec2-user/SageMaker/Cursus/dockers/xgboost_atoz', processing_instance_count=1, processing_volume_size=500, processing_instance_type_large='ml.m5.12xlarge', processing_instance_type_small='ml.m5.4xlarge', use_large_processing_instance=True, processing_source_dir='/home/ec2-user/SageMaker/Cursus/dockers/xgboost_atoz/scripts', processing_entry_point='tabular_preprocessing.py', processing_script_arguments=None, processing_framework_version='1.2-1', label_name='is_abuse', job_type='training', train_ratio=0.7, test_val_ratio=0.5),\n",
       " TabularPreprocessingConfig(author='lukexie', bucket='sandboxdependency-abuse-secureaisandboxteamshare-1l77v9am252um', role='arn:aws:iam::601857636239:role/SandboxRole-lukexie-us-east-1', region='NA', service_name='AtoZ', pipeline_version='1.3.1', model_class='xgboost', current_date='2025-09-21', framework_version='1.7-1', py_version='py3', source_dir='/home/ec2-user/SageMaker/Cursus/dockers/xgboost_atoz', processing_instance_count=1, processing_volume_size=500, processing_instance_type_large='ml.m5.12xlarge', processing_instance_type_small='ml.m5.4xlarge', use_large_processing_instance=False, processing_source_dir='/home/ec2-user/SageMaker/Cursus/dockers/xgboost_atoz/scripts', processing_entry_point='tabular_preprocessing.py', processing_script_arguments=None, processing_framework_version='1.2-1', label_name='is_abuse', job_type='calibration', train_ratio=0.7, test_val_ratio=0.5),\n",
       " XGBoostTrainingConfig(author='lukexie', bucket='sandboxdependency-abuse-secureaisandboxteamshare-1l77v9am252um', role='arn:aws:iam::601857636239:role/SandboxRole-lukexie-us-east-1', region='NA', service_name='AtoZ', pipeline_version='1.3.1', model_class='xgboost', current_date='2025-09-21', framework_version='1.7-1', py_version='py3', source_dir='/home/ec2-user/SageMaker/Cursus/dockers/xgboost_atoz', training_entry_point='xgboost_training.py', hyperparameters=XGBoostModelHyperparameters(full_field_list=['Abuse.abuse_fap_action_by_customer_inline_transform_na.n_claims_solicit_count_last_365_days', 'Abuse.abuse_fap_action_by_customer_inline_transform_na.n_claims_warn_count_last_365_days', 'Abuse.abuse_fap_action_by_customer_inline_transform_na.n_concession_solicit_count_last_365_days', 'Abuse.abuse_fap_action_by_customer_inline_transform_na.n_concession_warn_count_last_365_days', 'Abuse.bsm_stats_for_evaluated_mfn_concessions_by_customer_na.n_max_buyer_order_message_time_gap', 'Abuse.bsm_stats_for_evaluated_mfn_concessions_by_customer_na.n_max_order_message_time_gap', 'Abuse.bsm_stats_for_evaluated_mfn_concessions_by_customer_na.n_max_seller_order_message_time_gap', 'Abuse.bsm_stats_for_evaluated_mfn_concessions_by_customer_na.n_message_count_with_diff_topic_si', 'Abuse.bsm_stats_for_evaluated_mfn_concessions_by_customer_na.n_message_count_with_notr_topic_si', 'Abuse.bsm_stats_for_evaluated_mfn_concessions_by_customer_na.n_message_count_with_return_keywords_si', 'Abuse.bsm_stats_for_evaluated_mfn_concessions_by_customer_na.n_min_buyer_message_count', 'Abuse.bsm_stats_for_evaluated_mfn_concessions_by_customer_na.n_min_buyer_order_message_time_gap', 'Abuse.bsm_stats_for_evaluated_mfn_concessions_by_customer_na.n_min_message_count', 'Abuse.bsm_stats_for_evaluated_mfn_concessions_by_customer_na.n_min_order_message_time_gap', 'Abuse.bsm_stats_for_evaluated_mfn_concessions_by_customer_na.n_min_seller_message_count', 'Abuse.bsm_stats_for_evaluated_mfn_concessions_by_customer_na.n_min_seller_order_message_time_gap', 'Abuse.bsm_stats_for_evaluated_mfn_concessions_by_customer_na.n_total_buyer_message_count', 'Abuse.bsm_stats_for_evaluated_mfn_concessions_by_customer_na.n_total_message_count', 'Abuse.bsm_stats_for_evaluated_mfn_concessions_by_customer_na.n_total_seller_message_count', 'Abuse.bsm_stats_for_evaluated_mfn_concessions_by_customer_na.n_total_topic_count', 'Abuse.completed_afn_orders_by_customer_marketplace.n_afn_order_count_last_365_days', 'Abuse.completed_afn_orders_by_customer_marketplace.n_afn_unit_amount_last_365_days', 'Abuse.completed_afn_orders_by_customer_marketplace.n_afn_unit_count_last_365_days', 'Abuse.completed_mfn_orders_by_customer_marketplace.n_mfn_order_count_last_365_days', 'Abuse.completed_mfn_orders_by_customer_marketplace.n_mfn_unit_amount_last_365_days', 'Abuse.completed_mfn_orders_by_customer_marketplace.n_mfn_unit_count_last_365_days', 'Abuse.dnr_by_customer_marketplace.n_dnr_amount_si_last_365_days', 'Abuse.dnr_by_customer_marketplace.n_dnr_order_count_last_365_days', 'Abuse.dnr_by_customer_marketplace.n_dnr_unit_amount_last_365_days', 'Abuse.dnr_by_customer_marketplace.n_dnr_unit_count_last_365_days', 'Abuse.mfn_a2z_claims_by_customer_na.n_mfn_claims_amount_last_365_days', 'Abuse.mfn_a2z_claims_by_customer_na.n_mfn_claims_count_last_365_days', 'Abuse.mfn_a2z_claims_by_customer_na.n_mfn_diff_claims_amount_last_365_days', 'Abuse.mfn_a2z_claims_by_customer_na.n_mfn_diff_claims_count_last_365_days', 'Abuse.mfn_a2z_claims_by_customer_na.n_mfn_notr_claims_amount_last_365_days', 'Abuse.mfn_a2z_claims_by_customer_na.n_mfn_notr_claims_count_last_365_days', 'Abuse.mfn_categorized_refunds_by_customer_marketplace.n_mfn_diff_refunds_order_count_last_365_days', 'Abuse.mfn_categorized_refunds_by_customer_marketplace.n_mfn_diff_refunds_unit_amount_last_365_days', 'Abuse.mfn_categorized_refunds_by_customer_marketplace.n_mfn_diff_refunds_unit_count_last_365_days', 'Abuse.mfn_categorized_refunds_by_customer_marketplace.n_mfn_notr_refunds_order_count_last_365_days', 'Abuse.mfn_categorized_refunds_by_customer_marketplace.n_mfn_notr_refunds_unit_amount_last_365_days', 'Abuse.mfn_categorized_refunds_by_customer_marketplace.n_mfn_notr_refunds_unit_count_last_365_days', 'Abuse.mfn_categorized_refunds_si_by_customer_marketplace.n_mfn_diff_refunds_si_365_days', 'Abuse.mfn_categorized_refunds_si_by_customer_marketplace.n_mfn_notr_refunds_si_365_days', 'Abuse.mfn_refunds_by_customer_marketplace.n_mfn_refund_order_count_last_365_days', 'Abuse.mfn_refunds_by_customer_marketplace.n_mfn_refund_unit_amount_last_365_days', 'Abuse.mfn_refunds_by_customer_marketplace.n_mfn_refund_unit_count_last_365_days', 'Abuse.mfn_refunds_si_by_customer_marketplace.n_mfn_refund_amount_si_last_365_days', 'Abuse.order_to_execution_time_from_eventvariables.n_order_to_execution', 'Abuse.shiptrack_flag_by_order.n_any_delivered', 'Abuse.shiptrack_flag_by_order.n_any_available_for_pickup', 'Abuse.shiptrack_flag_by_order.n_any_partial_delivered', 'Abuse.shiptrack_flag_by_order.n_any_undeliverable', 'Abuse.shiptrack_flag_by_order.n_any_returning', 'Abuse.shiptrack_flag_by_order.n_any_returned', 'COMP_DAYOB', 'PAYMETH', 'claimAmount_value', 'claim_reason', 'claimantInfo_allClaimCount365day', 'claimantInfo_lifetimeClaimCount', 'claimantInfo_pendingClaimCount', 'claimantInfo_status', 'shipments_status', 'order_id', 'marketplace_id', 'is_abuse'], cat_field_list=['PAYMETH', 'claim_reason', 'claimantInfo_status', 'shipments_status'], tab_field_list=['Abuse.abuse_fap_action_by_customer_inline_transform_na.n_claims_solicit_count_last_365_days', 'Abuse.abuse_fap_action_by_customer_inline_transform_na.n_claims_warn_count_last_365_days', 'Abuse.abuse_fap_action_by_customer_inline_transform_na.n_concession_solicit_count_last_365_days', 'Abuse.abuse_fap_action_by_customer_inline_transform_na.n_concession_warn_count_last_365_days', 'Abuse.bsm_stats_for_evaluated_mfn_concessions_by_customer_na.n_max_buyer_order_message_time_gap', 'Abuse.bsm_stats_for_evaluated_mfn_concessions_by_customer_na.n_max_order_message_time_gap', 'Abuse.bsm_stats_for_evaluated_mfn_concessions_by_customer_na.n_max_seller_order_message_time_gap', 'Abuse.bsm_stats_for_evaluated_mfn_concessions_by_customer_na.n_message_count_with_diff_topic_si', 'Abuse.bsm_stats_for_evaluated_mfn_concessions_by_customer_na.n_message_count_with_notr_topic_si', 'Abuse.bsm_stats_for_evaluated_mfn_concessions_by_customer_na.n_message_count_with_return_keywords_si', 'Abuse.bsm_stats_for_evaluated_mfn_concessions_by_customer_na.n_min_buyer_message_count', 'Abuse.bsm_stats_for_evaluated_mfn_concessions_by_customer_na.n_min_buyer_order_message_time_gap', 'Abuse.bsm_stats_for_evaluated_mfn_concessions_by_customer_na.n_min_message_count', 'Abuse.bsm_stats_for_evaluated_mfn_concessions_by_customer_na.n_min_order_message_time_gap', 'Abuse.bsm_stats_for_evaluated_mfn_concessions_by_customer_na.n_min_seller_message_count', 'Abuse.bsm_stats_for_evaluated_mfn_concessions_by_customer_na.n_min_seller_order_message_time_gap', 'Abuse.bsm_stats_for_evaluated_mfn_concessions_by_customer_na.n_total_buyer_message_count', 'Abuse.bsm_stats_for_evaluated_mfn_concessions_by_customer_na.n_total_message_count', 'Abuse.bsm_stats_for_evaluated_mfn_concessions_by_customer_na.n_total_seller_message_count', 'Abuse.bsm_stats_for_evaluated_mfn_concessions_by_customer_na.n_total_topic_count', 'Abuse.completed_afn_orders_by_customer_marketplace.n_afn_order_count_last_365_days', 'Abuse.completed_afn_orders_by_customer_marketplace.n_afn_unit_amount_last_365_days', 'Abuse.completed_afn_orders_by_customer_marketplace.n_afn_unit_count_last_365_days', 'Abuse.completed_mfn_orders_by_customer_marketplace.n_mfn_order_count_last_365_days', 'Abuse.completed_mfn_orders_by_customer_marketplace.n_mfn_unit_amount_last_365_days', 'Abuse.completed_mfn_orders_by_customer_marketplace.n_mfn_unit_count_last_365_days', 'Abuse.dnr_by_customer_marketplace.n_dnr_amount_si_last_365_days', 'Abuse.dnr_by_customer_marketplace.n_dnr_order_count_last_365_days', 'Abuse.dnr_by_customer_marketplace.n_dnr_unit_amount_last_365_days', 'Abuse.dnr_by_customer_marketplace.n_dnr_unit_count_last_365_days', 'Abuse.mfn_a2z_claims_by_customer_na.n_mfn_claims_amount_last_365_days', 'Abuse.mfn_a2z_claims_by_customer_na.n_mfn_claims_count_last_365_days', 'Abuse.mfn_a2z_claims_by_customer_na.n_mfn_diff_claims_amount_last_365_days', 'Abuse.mfn_a2z_claims_by_customer_na.n_mfn_diff_claims_count_last_365_days', 'Abuse.mfn_a2z_claims_by_customer_na.n_mfn_notr_claims_amount_last_365_days', 'Abuse.mfn_a2z_claims_by_customer_na.n_mfn_notr_claims_count_last_365_days', 'Abuse.mfn_categorized_refunds_by_customer_marketplace.n_mfn_diff_refunds_order_count_last_365_days', 'Abuse.mfn_categorized_refunds_by_customer_marketplace.n_mfn_diff_refunds_unit_amount_last_365_days', 'Abuse.mfn_categorized_refunds_by_customer_marketplace.n_mfn_diff_refunds_unit_count_last_365_days', 'Abuse.mfn_categorized_refunds_by_customer_marketplace.n_mfn_notr_refunds_order_count_last_365_days', 'Abuse.mfn_categorized_refunds_by_customer_marketplace.n_mfn_notr_refunds_unit_amount_last_365_days', 'Abuse.mfn_categorized_refunds_by_customer_marketplace.n_mfn_notr_refunds_unit_count_last_365_days', 'Abuse.mfn_categorized_refunds_si_by_customer_marketplace.n_mfn_diff_refunds_si_365_days', 'Abuse.mfn_categorized_refunds_si_by_customer_marketplace.n_mfn_notr_refunds_si_365_days', 'Abuse.mfn_refunds_by_customer_marketplace.n_mfn_refund_order_count_last_365_days', 'Abuse.mfn_refunds_by_customer_marketplace.n_mfn_refund_unit_amount_last_365_days', 'Abuse.mfn_refunds_by_customer_marketplace.n_mfn_refund_unit_count_last_365_days', 'Abuse.mfn_refunds_si_by_customer_marketplace.n_mfn_refund_amount_si_last_365_days', 'Abuse.order_to_execution_time_from_eventvariables.n_order_to_execution', 'Abuse.shiptrack_flag_by_order.n_any_delivered', 'Abuse.shiptrack_flag_by_order.n_any_available_for_pickup', 'Abuse.shiptrack_flag_by_order.n_any_partial_delivered', 'Abuse.shiptrack_flag_by_order.n_any_undeliverable', 'Abuse.shiptrack_flag_by_order.n_any_returning', 'Abuse.shiptrack_flag_by_order.n_any_returned', 'COMP_DAYOB', 'claimAmount_value', 'claimantInfo_allClaimCount365day', 'claimantInfo_lifetimeClaimCount', 'claimantInfo_pendingClaimCount'], id_name='order_id', label_name='is_abuse', multiclass_categories=[0, 1], categorical_features_to_encode=[], model_class='base_model', device=-1, header=0, lr=3e-05, batch_size=2, max_epochs=3, metric_choices=['f1_score', 'auroc'], optimizer='SGD', class_weights=[1.0, 1.0], num_round=300, max_depth=6, min_child_weight=1.0, booster='gbtree', eta=0.3, gamma=0.0, max_delta_step=0.0, subsample=1.0, colsample_bytree=1.0, colsample_bylevel=1.0, colsample_bynode=1.0, lambda_xgb=1.0, alpha_xgb=0.0, tree_method='auto', sketch_eps=None, scale_pos_weight=1.0, num_parallel_tree=None, base_score=None, seed=None, early_stopping_rounds=None), training_instance_type='ml.m5.12xlarge', training_instance_count=1, training_volume_size=800),\n",
       " ModelCalibrationConfig(author='lukexie', bucket='sandboxdependency-abuse-secureaisandboxteamshare-1l77v9am252um', role='arn:aws:iam::601857636239:role/SandboxRole-lukexie-us-east-1', region='NA', service_name='AtoZ', pipeline_version='1.3.1', model_class='xgboost', current_date='2025-09-21', framework_version='1.7-1', py_version='py3', source_dir='/home/ec2-user/SageMaker/Cursus/dockers/xgboost_atoz', processing_instance_count=1, processing_volume_size=500, processing_instance_type_large='ml.m5.12xlarge', processing_instance_type_small='ml.m5.4xlarge', use_large_processing_instance=False, processing_source_dir='/home/ec2-user/SageMaker/Cursus/dockers/xgboost_atoz/scripts', processing_entry_point='model_calibration.py', processing_script_arguments=None, processing_framework_version='1.2-1', label_field='is_abuse', calibration_method='gam', monotonic_constraint=True, gam_splines=10, error_threshold=0.05, is_binary=True, num_classes=2, score_field='prob_class_1', score_field_prefix='prob_class_', multiclass_categories=[0, 1], job_type='calibration'),\n",
       " XGBoostModelEvalConfig(author='lukexie', bucket='sandboxdependency-abuse-secureaisandboxteamshare-1l77v9am252um', role='arn:aws:iam::601857636239:role/SandboxRole-lukexie-us-east-1', region='NA', service_name='AtoZ', pipeline_version='1.3.1', model_class='xgboost', current_date='2025-09-21', framework_version='1.7-1', py_version='py3', source_dir='/home/ec2-user/SageMaker/Cursus/dockers/xgboost_atoz', processing_instance_count=1, processing_volume_size=500, processing_instance_type_large='ml.m5.12xlarge', processing_instance_type_small='ml.m5.4xlarge', use_large_processing_instance=True, processing_source_dir='/home/ec2-user/SageMaker/Cursus/dockers/xgboost_atoz', processing_entry_point='xgboost_model_evaluation.py', processing_script_arguments=None, processing_framework_version='1.2-1', hyperparameters=XGBoostModelHyperparameters(full_field_list=['Abuse.abuse_fap_action_by_customer_inline_transform_na.n_claims_solicit_count_last_365_days', 'Abuse.abuse_fap_action_by_customer_inline_transform_na.n_claims_warn_count_last_365_days', 'Abuse.abuse_fap_action_by_customer_inline_transform_na.n_concession_solicit_count_last_365_days', 'Abuse.abuse_fap_action_by_customer_inline_transform_na.n_concession_warn_count_last_365_days', 'Abuse.bsm_stats_for_evaluated_mfn_concessions_by_customer_na.n_max_buyer_order_message_time_gap', 'Abuse.bsm_stats_for_evaluated_mfn_concessions_by_customer_na.n_max_order_message_time_gap', 'Abuse.bsm_stats_for_evaluated_mfn_concessions_by_customer_na.n_max_seller_order_message_time_gap', 'Abuse.bsm_stats_for_evaluated_mfn_concessions_by_customer_na.n_message_count_with_diff_topic_si', 'Abuse.bsm_stats_for_evaluated_mfn_concessions_by_customer_na.n_message_count_with_notr_topic_si', 'Abuse.bsm_stats_for_evaluated_mfn_concessions_by_customer_na.n_message_count_with_return_keywords_si', 'Abuse.bsm_stats_for_evaluated_mfn_concessions_by_customer_na.n_min_buyer_message_count', 'Abuse.bsm_stats_for_evaluated_mfn_concessions_by_customer_na.n_min_buyer_order_message_time_gap', 'Abuse.bsm_stats_for_evaluated_mfn_concessions_by_customer_na.n_min_message_count', 'Abuse.bsm_stats_for_evaluated_mfn_concessions_by_customer_na.n_min_order_message_time_gap', 'Abuse.bsm_stats_for_evaluated_mfn_concessions_by_customer_na.n_min_seller_message_count', 'Abuse.bsm_stats_for_evaluated_mfn_concessions_by_customer_na.n_min_seller_order_message_time_gap', 'Abuse.bsm_stats_for_evaluated_mfn_concessions_by_customer_na.n_total_buyer_message_count', 'Abuse.bsm_stats_for_evaluated_mfn_concessions_by_customer_na.n_total_message_count', 'Abuse.bsm_stats_for_evaluated_mfn_concessions_by_customer_na.n_total_seller_message_count', 'Abuse.bsm_stats_for_evaluated_mfn_concessions_by_customer_na.n_total_topic_count', 'Abuse.completed_afn_orders_by_customer_marketplace.n_afn_order_count_last_365_days', 'Abuse.completed_afn_orders_by_customer_marketplace.n_afn_unit_amount_last_365_days', 'Abuse.completed_afn_orders_by_customer_marketplace.n_afn_unit_count_last_365_days', 'Abuse.completed_mfn_orders_by_customer_marketplace.n_mfn_order_count_last_365_days', 'Abuse.completed_mfn_orders_by_customer_marketplace.n_mfn_unit_amount_last_365_days', 'Abuse.completed_mfn_orders_by_customer_marketplace.n_mfn_unit_count_last_365_days', 'Abuse.dnr_by_customer_marketplace.n_dnr_amount_si_last_365_days', 'Abuse.dnr_by_customer_marketplace.n_dnr_order_count_last_365_days', 'Abuse.dnr_by_customer_marketplace.n_dnr_unit_amount_last_365_days', 'Abuse.dnr_by_customer_marketplace.n_dnr_unit_count_last_365_days', 'Abuse.mfn_a2z_claims_by_customer_na.n_mfn_claims_amount_last_365_days', 'Abuse.mfn_a2z_claims_by_customer_na.n_mfn_claims_count_last_365_days', 'Abuse.mfn_a2z_claims_by_customer_na.n_mfn_diff_claims_amount_last_365_days', 'Abuse.mfn_a2z_claims_by_customer_na.n_mfn_diff_claims_count_last_365_days', 'Abuse.mfn_a2z_claims_by_customer_na.n_mfn_notr_claims_amount_last_365_days', 'Abuse.mfn_a2z_claims_by_customer_na.n_mfn_notr_claims_count_last_365_days', 'Abuse.mfn_categorized_refunds_by_customer_marketplace.n_mfn_diff_refunds_order_count_last_365_days', 'Abuse.mfn_categorized_refunds_by_customer_marketplace.n_mfn_diff_refunds_unit_amount_last_365_days', 'Abuse.mfn_categorized_refunds_by_customer_marketplace.n_mfn_diff_refunds_unit_count_last_365_days', 'Abuse.mfn_categorized_refunds_by_customer_marketplace.n_mfn_notr_refunds_order_count_last_365_days', 'Abuse.mfn_categorized_refunds_by_customer_marketplace.n_mfn_notr_refunds_unit_amount_last_365_days', 'Abuse.mfn_categorized_refunds_by_customer_marketplace.n_mfn_notr_refunds_unit_count_last_365_days', 'Abuse.mfn_categorized_refunds_si_by_customer_marketplace.n_mfn_diff_refunds_si_365_days', 'Abuse.mfn_categorized_refunds_si_by_customer_marketplace.n_mfn_notr_refunds_si_365_days', 'Abuse.mfn_refunds_by_customer_marketplace.n_mfn_refund_order_count_last_365_days', 'Abuse.mfn_refunds_by_customer_marketplace.n_mfn_refund_unit_amount_last_365_days', 'Abuse.mfn_refunds_by_customer_marketplace.n_mfn_refund_unit_count_last_365_days', 'Abuse.mfn_refunds_si_by_customer_marketplace.n_mfn_refund_amount_si_last_365_days', 'Abuse.order_to_execution_time_from_eventvariables.n_order_to_execution', 'Abuse.shiptrack_flag_by_order.n_any_delivered', 'Abuse.shiptrack_flag_by_order.n_any_available_for_pickup', 'Abuse.shiptrack_flag_by_order.n_any_partial_delivered', 'Abuse.shiptrack_flag_by_order.n_any_undeliverable', 'Abuse.shiptrack_flag_by_order.n_any_returning', 'Abuse.shiptrack_flag_by_order.n_any_returned', 'COMP_DAYOB', 'PAYMETH', 'claimAmount_value', 'claim_reason', 'claimantInfo_allClaimCount365day', 'claimantInfo_lifetimeClaimCount', 'claimantInfo_pendingClaimCount', 'claimantInfo_status', 'shipments_status', 'order_id', 'marketplace_id', 'is_abuse'], cat_field_list=['PAYMETH', 'claim_reason', 'claimantInfo_status', 'shipments_status'], tab_field_list=['Abuse.abuse_fap_action_by_customer_inline_transform_na.n_claims_solicit_count_last_365_days', 'Abuse.abuse_fap_action_by_customer_inline_transform_na.n_claims_warn_count_last_365_days', 'Abuse.abuse_fap_action_by_customer_inline_transform_na.n_concession_solicit_count_last_365_days', 'Abuse.abuse_fap_action_by_customer_inline_transform_na.n_concession_warn_count_last_365_days', 'Abuse.bsm_stats_for_evaluated_mfn_concessions_by_customer_na.n_max_buyer_order_message_time_gap', 'Abuse.bsm_stats_for_evaluated_mfn_concessions_by_customer_na.n_max_order_message_time_gap', 'Abuse.bsm_stats_for_evaluated_mfn_concessions_by_customer_na.n_max_seller_order_message_time_gap', 'Abuse.bsm_stats_for_evaluated_mfn_concessions_by_customer_na.n_message_count_with_diff_topic_si', 'Abuse.bsm_stats_for_evaluated_mfn_concessions_by_customer_na.n_message_count_with_notr_topic_si', 'Abuse.bsm_stats_for_evaluated_mfn_concessions_by_customer_na.n_message_count_with_return_keywords_si', 'Abuse.bsm_stats_for_evaluated_mfn_concessions_by_customer_na.n_min_buyer_message_count', 'Abuse.bsm_stats_for_evaluated_mfn_concessions_by_customer_na.n_min_buyer_order_message_time_gap', 'Abuse.bsm_stats_for_evaluated_mfn_concessions_by_customer_na.n_min_message_count', 'Abuse.bsm_stats_for_evaluated_mfn_concessions_by_customer_na.n_min_order_message_time_gap', 'Abuse.bsm_stats_for_evaluated_mfn_concessions_by_customer_na.n_min_seller_message_count', 'Abuse.bsm_stats_for_evaluated_mfn_concessions_by_customer_na.n_min_seller_order_message_time_gap', 'Abuse.bsm_stats_for_evaluated_mfn_concessions_by_customer_na.n_total_buyer_message_count', 'Abuse.bsm_stats_for_evaluated_mfn_concessions_by_customer_na.n_total_message_count', 'Abuse.bsm_stats_for_evaluated_mfn_concessions_by_customer_na.n_total_seller_message_count', 'Abuse.bsm_stats_for_evaluated_mfn_concessions_by_customer_na.n_total_topic_count', 'Abuse.completed_afn_orders_by_customer_marketplace.n_afn_order_count_last_365_days', 'Abuse.completed_afn_orders_by_customer_marketplace.n_afn_unit_amount_last_365_days', 'Abuse.completed_afn_orders_by_customer_marketplace.n_afn_unit_count_last_365_days', 'Abuse.completed_mfn_orders_by_customer_marketplace.n_mfn_order_count_last_365_days', 'Abuse.completed_mfn_orders_by_customer_marketplace.n_mfn_unit_amount_last_365_days', 'Abuse.completed_mfn_orders_by_customer_marketplace.n_mfn_unit_count_last_365_days', 'Abuse.dnr_by_customer_marketplace.n_dnr_amount_si_last_365_days', 'Abuse.dnr_by_customer_marketplace.n_dnr_order_count_last_365_days', 'Abuse.dnr_by_customer_marketplace.n_dnr_unit_amount_last_365_days', 'Abuse.dnr_by_customer_marketplace.n_dnr_unit_count_last_365_days', 'Abuse.mfn_a2z_claims_by_customer_na.n_mfn_claims_amount_last_365_days', 'Abuse.mfn_a2z_claims_by_customer_na.n_mfn_claims_count_last_365_days', 'Abuse.mfn_a2z_claims_by_customer_na.n_mfn_diff_claims_amount_last_365_days', 'Abuse.mfn_a2z_claims_by_customer_na.n_mfn_diff_claims_count_last_365_days', 'Abuse.mfn_a2z_claims_by_customer_na.n_mfn_notr_claims_amount_last_365_days', 'Abuse.mfn_a2z_claims_by_customer_na.n_mfn_notr_claims_count_last_365_days', 'Abuse.mfn_categorized_refunds_by_customer_marketplace.n_mfn_diff_refunds_order_count_last_365_days', 'Abuse.mfn_categorized_refunds_by_customer_marketplace.n_mfn_diff_refunds_unit_amount_last_365_days', 'Abuse.mfn_categorized_refunds_by_customer_marketplace.n_mfn_diff_refunds_unit_count_last_365_days', 'Abuse.mfn_categorized_refunds_by_customer_marketplace.n_mfn_notr_refunds_order_count_last_365_days', 'Abuse.mfn_categorized_refunds_by_customer_marketplace.n_mfn_notr_refunds_unit_amount_last_365_days', 'Abuse.mfn_categorized_refunds_by_customer_marketplace.n_mfn_notr_refunds_unit_count_last_365_days', 'Abuse.mfn_categorized_refunds_si_by_customer_marketplace.n_mfn_diff_refunds_si_365_days', 'Abuse.mfn_categorized_refunds_si_by_customer_marketplace.n_mfn_notr_refunds_si_365_days', 'Abuse.mfn_refunds_by_customer_marketplace.n_mfn_refund_order_count_last_365_days', 'Abuse.mfn_refunds_by_customer_marketplace.n_mfn_refund_unit_amount_last_365_days', 'Abuse.mfn_refunds_by_customer_marketplace.n_mfn_refund_unit_count_last_365_days', 'Abuse.mfn_refunds_si_by_customer_marketplace.n_mfn_refund_amount_si_last_365_days', 'Abuse.order_to_execution_time_from_eventvariables.n_order_to_execution', 'Abuse.shiptrack_flag_by_order.n_any_delivered', 'Abuse.shiptrack_flag_by_order.n_any_available_for_pickup', 'Abuse.shiptrack_flag_by_order.n_any_partial_delivered', 'Abuse.shiptrack_flag_by_order.n_any_undeliverable', 'Abuse.shiptrack_flag_by_order.n_any_returning', 'Abuse.shiptrack_flag_by_order.n_any_returned', 'COMP_DAYOB', 'claimAmount_value', 'claimantInfo_allClaimCount365day', 'claimantInfo_lifetimeClaimCount', 'claimantInfo_pendingClaimCount'], id_name='order_id', label_name='is_abuse', multiclass_categories=[0, 1], categorical_features_to_encode=[], model_class='base_model', device=-1, header=0, lr=3e-05, batch_size=2, max_epochs=3, metric_choices=['f1_score', 'auroc'], optimizer='SGD', class_weights=[1.0, 1.0], num_round=300, max_depth=6, min_child_weight=1.0, booster='gbtree', eta=0.3, gamma=0.0, max_delta_step=0.0, subsample=1.0, colsample_bytree=1.0, colsample_bylevel=1.0, colsample_bynode=1.0, lambda_xgb=1.0, alpha_xgb=0.0, tree_method='auto', sketch_eps=None, scale_pos_weight=1.0, num_parallel_tree=None, base_score=None, seed=None, early_stopping_rounds=None), job_type='calibration', eval_metric_choices=['auc', 'average_precision', 'f1_score'], xgboost_framework_version='1.7-1', aws_region='us-east-1', pipeline_name='lukexie-AtoZ-xgboost-NA', pipeline_description='AtoZ xgboost Model NA', pipeline_s3_loc='s3://sandboxdependency-abuse-secureaisandboxteamshare-1l77v9am252um/MODS/lukexie-AtoZ-xgboost-NA_1.3.1', portable_source_dir='dockers/xgboost_atoz', effective_source_dir='dockers/xgboost_atoz/scripts', effective_instance_type='ml.m5.4xlarge', portable_processing_source_dir='dockers/xgboost_atoz/scripts'),\n",
       " PackageConfig(author='lukexie', bucket='sandboxdependency-abuse-secureaisandboxteamshare-1l77v9am252um', role='arn:aws:iam::601857636239:role/SandboxRole-lukexie-us-east-1', region='NA', service_name='AtoZ', pipeline_version='1.3.1', model_class='xgboost', current_date='2025-09-21', framework_version='1.7-1', py_version='py3', source_dir='/home/ec2-user/SageMaker/Cursus/dockers/xgboost_atoz', processing_instance_count=1, processing_volume_size=500, processing_instance_type_large='ml.m5.12xlarge', processing_instance_type_small='ml.m5.4xlarge', use_large_processing_instance=False, processing_source_dir='/home/ec2-user/SageMaker/Cursus/dockers/xgboost_atoz/scripts', processing_entry_point='package.py', processing_script_arguments=None, processing_framework_version='1.2-1'),\n",
       " RegistrationConfig(author='lukexie', bucket='sandboxdependency-abuse-secureaisandboxteamshare-1l77v9am252um', role='arn:aws:iam::601857636239:role/SandboxRole-lukexie-us-east-1', region='NA', service_name='AtoZ', pipeline_version='1.3.1', model_class='xgboost', current_date='2025-09-21', framework_version='1.7-1', py_version='py3', source_dir='/home/ec2-user/SageMaker/Cursus/dockers/xgboost_atoz', model_owner='amzn1.abacus.team.djmdvixm5abr3p75c5ca', model_domain='AtoZ', model_objective='AtoZ_Claims_SM_Model_NA', framework='xgboost', inference_entry_point='xgboost_inference.py', source_model_inference_input_variable_list=[['Abuse.abuse_fap_action_by_customer_inline_transform_na.n_claims_solicit_count_last_365_days', 'NUMERIC'], ['Abuse.abuse_fap_action_by_customer_inline_transform_na.n_claims_warn_count_last_365_days', 'NUMERIC'], ['Abuse.abuse_fap_action_by_customer_inline_transform_na.n_concession_solicit_count_last_365_days', 'NUMERIC'], ['Abuse.abuse_fap_action_by_customer_inline_transform_na.n_concession_warn_count_last_365_days', 'NUMERIC'], ['Abuse.bsm_stats_for_evaluated_mfn_concessions_by_customer_na.n_max_buyer_order_message_time_gap', 'NUMERIC'], ['Abuse.bsm_stats_for_evaluated_mfn_concessions_by_customer_na.n_max_order_message_time_gap', 'NUMERIC'], ['Abuse.bsm_stats_for_evaluated_mfn_concessions_by_customer_na.n_max_seller_order_message_time_gap', 'NUMERIC'], ['Abuse.bsm_stats_for_evaluated_mfn_concessions_by_customer_na.n_message_count_with_diff_topic_si', 'NUMERIC'], ['Abuse.bsm_stats_for_evaluated_mfn_concessions_by_customer_na.n_message_count_with_notr_topic_si', 'NUMERIC'], ['Abuse.bsm_stats_for_evaluated_mfn_concessions_by_customer_na.n_message_count_with_return_keywords_si', 'NUMERIC'], ['Abuse.bsm_stats_for_evaluated_mfn_concessions_by_customer_na.n_min_buyer_message_count', 'NUMERIC'], ['Abuse.bsm_stats_for_evaluated_mfn_concessions_by_customer_na.n_min_buyer_order_message_time_gap', 'NUMERIC'], ['Abuse.bsm_stats_for_evaluated_mfn_concessions_by_customer_na.n_min_message_count', 'NUMERIC'], ['Abuse.bsm_stats_for_evaluated_mfn_concessions_by_customer_na.n_min_order_message_time_gap', 'NUMERIC'], ['Abuse.bsm_stats_for_evaluated_mfn_concessions_by_customer_na.n_min_seller_message_count', 'NUMERIC'], ['Abuse.bsm_stats_for_evaluated_mfn_concessions_by_customer_na.n_min_seller_order_message_time_gap', 'NUMERIC'], ['Abuse.bsm_stats_for_evaluated_mfn_concessions_by_customer_na.n_total_buyer_message_count', 'NUMERIC'], ['Abuse.bsm_stats_for_evaluated_mfn_concessions_by_customer_na.n_total_message_count', 'NUMERIC'], ['Abuse.bsm_stats_for_evaluated_mfn_concessions_by_customer_na.n_total_seller_message_count', 'NUMERIC'], ['Abuse.bsm_stats_for_evaluated_mfn_concessions_by_customer_na.n_total_topic_count', 'NUMERIC'], ['Abuse.completed_afn_orders_by_customer_marketplace.n_afn_order_count_last_365_days', 'NUMERIC'], ['Abuse.completed_afn_orders_by_customer_marketplace.n_afn_unit_amount_last_365_days', 'NUMERIC'], ['Abuse.completed_afn_orders_by_customer_marketplace.n_afn_unit_count_last_365_days', 'NUMERIC'], ['Abuse.completed_mfn_orders_by_customer_marketplace.n_mfn_order_count_last_365_days', 'NUMERIC'], ['Abuse.completed_mfn_orders_by_customer_marketplace.n_mfn_unit_amount_last_365_days', 'NUMERIC'], ['Abuse.completed_mfn_orders_by_customer_marketplace.n_mfn_unit_count_last_365_days', 'NUMERIC'], ['Abuse.dnr_by_customer_marketplace.n_dnr_amount_si_last_365_days', 'NUMERIC'], ['Abuse.dnr_by_customer_marketplace.n_dnr_order_count_last_365_days', 'NUMERIC'], ['Abuse.dnr_by_customer_marketplace.n_dnr_unit_amount_last_365_days', 'NUMERIC'], ['Abuse.dnr_by_customer_marketplace.n_dnr_unit_count_last_365_days', 'NUMERIC'], ['Abuse.mfn_a2z_claims_by_customer_na.n_mfn_claims_amount_last_365_days', 'NUMERIC'], ['Abuse.mfn_a2z_claims_by_customer_na.n_mfn_claims_count_last_365_days', 'NUMERIC'], ['Abuse.mfn_a2z_claims_by_customer_na.n_mfn_diff_claims_amount_last_365_days', 'NUMERIC'], ['Abuse.mfn_a2z_claims_by_customer_na.n_mfn_diff_claims_count_last_365_days', 'NUMERIC'], ['Abuse.mfn_a2z_claims_by_customer_na.n_mfn_notr_claims_amount_last_365_days', 'NUMERIC'], ['Abuse.mfn_a2z_claims_by_customer_na.n_mfn_notr_claims_count_last_365_days', 'NUMERIC'], ['Abuse.mfn_categorized_refunds_by_customer_marketplace.n_mfn_diff_refunds_order_count_last_365_days', 'NUMERIC'], ['Abuse.mfn_categorized_refunds_by_customer_marketplace.n_mfn_diff_refunds_unit_amount_last_365_days', 'NUMERIC'], ['Abuse.mfn_categorized_refunds_by_customer_marketplace.n_mfn_diff_refunds_unit_count_last_365_days', 'NUMERIC'], ['Abuse.mfn_categorized_refunds_by_customer_marketplace.n_mfn_notr_refunds_order_count_last_365_days', 'NUMERIC'], ['Abuse.mfn_categorized_refunds_by_customer_marketplace.n_mfn_notr_refunds_unit_amount_last_365_days', 'NUMERIC'], ['Abuse.mfn_categorized_refunds_by_customer_marketplace.n_mfn_notr_refunds_unit_count_last_365_days', 'NUMERIC'], ['Abuse.mfn_categorized_refunds_si_by_customer_marketplace.n_mfn_diff_refunds_si_365_days', 'NUMERIC'], ['Abuse.mfn_categorized_refunds_si_by_customer_marketplace.n_mfn_notr_refunds_si_365_days', 'NUMERIC'], ['Abuse.mfn_refunds_by_customer_marketplace.n_mfn_refund_order_count_last_365_days', 'NUMERIC'], ['Abuse.mfn_refunds_by_customer_marketplace.n_mfn_refund_unit_amount_last_365_days', 'NUMERIC'], ['Abuse.mfn_refunds_by_customer_marketplace.n_mfn_refund_unit_count_last_365_days', 'NUMERIC'], ['Abuse.mfn_refunds_si_by_customer_marketplace.n_mfn_refund_amount_si_last_365_days', 'NUMERIC'], ['Abuse.order_to_execution_time_from_eventvariables.n_order_to_execution', 'NUMERIC'], ['Abuse.shiptrack_flag_by_order.n_any_delivered', 'NUMERIC'], ['Abuse.shiptrack_flag_by_order.n_any_available_for_pickup', 'NUMERIC'], ['Abuse.shiptrack_flag_by_order.n_any_partial_delivered', 'NUMERIC'], ['Abuse.shiptrack_flag_by_order.n_any_undeliverable', 'NUMERIC'], ['Abuse.shiptrack_flag_by_order.n_any_returning', 'NUMERIC'], ['Abuse.shiptrack_flag_by_order.n_any_returned', 'NUMERIC'], ['COMP_DAYOB', 'NUMERIC'], ['claimAmount_value', 'NUMERIC'], ['claimantInfo_allClaimCount365day', 'NUMERIC'], ['claimantInfo_lifetimeClaimCount', 'NUMERIC'], ['claimantInfo_pendingClaimCount', 'NUMERIC'], ['PAYMETH', 'TEXT'], ['claim_reason', 'TEXT'], ['claimantInfo_status', 'TEXT'], ['shipments_status', 'TEXT']], inference_instance_type='ml.m5.large', source_model_inference_content_types=['text/csv'], source_model_inference_response_types=['application/json'], source_model_inference_output_variable_list={'legacy-score': 'NUMERIC', 'calibrated-score': 'NUMERIC', 'custom-output-label': 'TEXT'}),\n",
       " PayloadConfig(author='lukexie', bucket='sandboxdependency-abuse-secureaisandboxteamshare-1l77v9am252um', role='arn:aws:iam::601857636239:role/SandboxRole-lukexie-us-east-1', region='NA', service_name='AtoZ', pipeline_version='1.3.1', model_class='xgboost', current_date='2025-09-21', framework_version='1.7-1', py_version='py3', source_dir='/home/ec2-user/SageMaker/Cursus/dockers/xgboost_atoz', processing_instance_count=1, processing_volume_size=500, processing_instance_type_large='ml.m5.12xlarge', processing_instance_type_small='ml.m5.4xlarge', use_large_processing_instance=False, processing_source_dir='/home/ec2-user/SageMaker/Cursus/dockers/xgboost_atoz/scripts', processing_entry_point='payload.py', processing_script_arguments=None, processing_framework_version='1.2-1', model_owner='amzn1.abacus.team.djmdvixm5abr3p75c5ca', model_domain='AtoZ', model_objective='AtoZ_Claims_SM_Model_NA', source_model_inference_output_variable_list={'legacy-score': 'NUMERIC', 'calibrated-score': 'NUMERIC', 'custom-output-label': 'TEXT'}, source_model_inference_input_variable_list=[['Abuse.abuse_fap_action_by_customer_inline_transform_na.n_claims_solicit_count_last_365_days', 'NUMERIC'], ['Abuse.abuse_fap_action_by_customer_inline_transform_na.n_claims_warn_count_last_365_days', 'NUMERIC'], ['Abuse.abuse_fap_action_by_customer_inline_transform_na.n_concession_solicit_count_last_365_days', 'NUMERIC'], ['Abuse.abuse_fap_action_by_customer_inline_transform_na.n_concession_warn_count_last_365_days', 'NUMERIC'], ['Abuse.bsm_stats_for_evaluated_mfn_concessions_by_customer_na.n_max_buyer_order_message_time_gap', 'NUMERIC'], ['Abuse.bsm_stats_for_evaluated_mfn_concessions_by_customer_na.n_max_order_message_time_gap', 'NUMERIC'], ['Abuse.bsm_stats_for_evaluated_mfn_concessions_by_customer_na.n_max_seller_order_message_time_gap', 'NUMERIC'], ['Abuse.bsm_stats_for_evaluated_mfn_concessions_by_customer_na.n_message_count_with_diff_topic_si', 'NUMERIC'], ['Abuse.bsm_stats_for_evaluated_mfn_concessions_by_customer_na.n_message_count_with_notr_topic_si', 'NUMERIC'], ['Abuse.bsm_stats_for_evaluated_mfn_concessions_by_customer_na.n_message_count_with_return_keywords_si', 'NUMERIC'], ['Abuse.bsm_stats_for_evaluated_mfn_concessions_by_customer_na.n_min_buyer_message_count', 'NUMERIC'], ['Abuse.bsm_stats_for_evaluated_mfn_concessions_by_customer_na.n_min_buyer_order_message_time_gap', 'NUMERIC'], ['Abuse.bsm_stats_for_evaluated_mfn_concessions_by_customer_na.n_min_message_count', 'NUMERIC'], ['Abuse.bsm_stats_for_evaluated_mfn_concessions_by_customer_na.n_min_order_message_time_gap', 'NUMERIC'], ['Abuse.bsm_stats_for_evaluated_mfn_concessions_by_customer_na.n_min_seller_message_count', 'NUMERIC'], ['Abuse.bsm_stats_for_evaluated_mfn_concessions_by_customer_na.n_min_seller_order_message_time_gap', 'NUMERIC'], ['Abuse.bsm_stats_for_evaluated_mfn_concessions_by_customer_na.n_total_buyer_message_count', 'NUMERIC'], ['Abuse.bsm_stats_for_evaluated_mfn_concessions_by_customer_na.n_total_message_count', 'NUMERIC'], ['Abuse.bsm_stats_for_evaluated_mfn_concessions_by_customer_na.n_total_seller_message_count', 'NUMERIC'], ['Abuse.bsm_stats_for_evaluated_mfn_concessions_by_customer_na.n_total_topic_count', 'NUMERIC'], ['Abuse.completed_afn_orders_by_customer_marketplace.n_afn_order_count_last_365_days', 'NUMERIC'], ['Abuse.completed_afn_orders_by_customer_marketplace.n_afn_unit_amount_last_365_days', 'NUMERIC'], ['Abuse.completed_afn_orders_by_customer_marketplace.n_afn_unit_count_last_365_days', 'NUMERIC'], ['Abuse.completed_mfn_orders_by_customer_marketplace.n_mfn_order_count_last_365_days', 'NUMERIC'], ['Abuse.completed_mfn_orders_by_customer_marketplace.n_mfn_unit_amount_last_365_days', 'NUMERIC'], ['Abuse.completed_mfn_orders_by_customer_marketplace.n_mfn_unit_count_last_365_days', 'NUMERIC'], ['Abuse.dnr_by_customer_marketplace.n_dnr_amount_si_last_365_days', 'NUMERIC'], ['Abuse.dnr_by_customer_marketplace.n_dnr_order_count_last_365_days', 'NUMERIC'], ['Abuse.dnr_by_customer_marketplace.n_dnr_unit_amount_last_365_days', 'NUMERIC'], ['Abuse.dnr_by_customer_marketplace.n_dnr_unit_count_last_365_days', 'NUMERIC'], ['Abuse.mfn_a2z_claims_by_customer_na.n_mfn_claims_amount_last_365_days', 'NUMERIC'], ['Abuse.mfn_a2z_claims_by_customer_na.n_mfn_claims_count_last_365_days', 'NUMERIC'], ['Abuse.mfn_a2z_claims_by_customer_na.n_mfn_diff_claims_amount_last_365_days', 'NUMERIC'], ['Abuse.mfn_a2z_claims_by_customer_na.n_mfn_diff_claims_count_last_365_days', 'NUMERIC'], ['Abuse.mfn_a2z_claims_by_customer_na.n_mfn_notr_claims_amount_last_365_days', 'NUMERIC'], ['Abuse.mfn_a2z_claims_by_customer_na.n_mfn_notr_claims_count_last_365_days', 'NUMERIC'], ['Abuse.mfn_categorized_refunds_by_customer_marketplace.n_mfn_diff_refunds_order_count_last_365_days', 'NUMERIC'], ['Abuse.mfn_categorized_refunds_by_customer_marketplace.n_mfn_diff_refunds_unit_amount_last_365_days', 'NUMERIC'], ['Abuse.mfn_categorized_refunds_by_customer_marketplace.n_mfn_diff_refunds_unit_count_last_365_days', 'NUMERIC'], ['Abuse.mfn_categorized_refunds_by_customer_marketplace.n_mfn_notr_refunds_order_count_last_365_days', 'NUMERIC'], ['Abuse.mfn_categorized_refunds_by_customer_marketplace.n_mfn_notr_refunds_unit_amount_last_365_days', 'NUMERIC'], ['Abuse.mfn_categorized_refunds_by_customer_marketplace.n_mfn_notr_refunds_unit_count_last_365_days', 'NUMERIC'], ['Abuse.mfn_categorized_refunds_si_by_customer_marketplace.n_mfn_diff_refunds_si_365_days', 'NUMERIC'], ['Abuse.mfn_categorized_refunds_si_by_customer_marketplace.n_mfn_notr_refunds_si_365_days', 'NUMERIC'], ['Abuse.mfn_refunds_by_customer_marketplace.n_mfn_refund_order_count_last_365_days', 'NUMERIC'], ['Abuse.mfn_refunds_by_customer_marketplace.n_mfn_refund_unit_amount_last_365_days', 'NUMERIC'], ['Abuse.mfn_refunds_by_customer_marketplace.n_mfn_refund_unit_count_last_365_days', 'NUMERIC'], ['Abuse.mfn_refunds_si_by_customer_marketplace.n_mfn_refund_amount_si_last_365_days', 'NUMERIC'], ['Abuse.order_to_execution_time_from_eventvariables.n_order_to_execution', 'NUMERIC'], ['Abuse.shiptrack_flag_by_order.n_any_delivered', 'NUMERIC'], ['Abuse.shiptrack_flag_by_order.n_any_available_for_pickup', 'NUMERIC'], ['Abuse.shiptrack_flag_by_order.n_any_partial_delivered', 'NUMERIC'], ['Abuse.shiptrack_flag_by_order.n_any_undeliverable', 'NUMERIC'], ['Abuse.shiptrack_flag_by_order.n_any_returning', 'NUMERIC'], ['Abuse.shiptrack_flag_by_order.n_any_returned', 'NUMERIC'], ['COMP_DAYOB', 'NUMERIC'], ['claimAmount_value', 'NUMERIC'], ['claimantInfo_allClaimCount365day', 'NUMERIC'], ['claimantInfo_lifetimeClaimCount', 'NUMERIC'], ['claimantInfo_pendingClaimCount', 'NUMERIC'], ['PAYMETH', 'TEXT'], ['claim_reason', 'TEXT'], ['claimantInfo_status', 'TEXT'], ['shipments_status', 'TEXT']], expected_tps=2, max_latency_in_millisecond=800, framework='xgboost', source_model_inference_content_types=['text/csv'], source_model_inference_response_types=['application/json'], max_acceptable_error_rate=0.2, default_numeric_value=0.0, default_text_value='DEFAULT_TEXT', special_field_values=None)]"
      ]
     },
     "execution_count": 186,
     "metadata": {},
     "output_type": "execute_result"
    }
   ],
   "source": [
    "config_list "
   ]
  },
  {
   "cell_type": "code",
   "execution_count": 187,
   "id": "6c14326e-66a3-44d7-853d-1ab95da47d35",
   "metadata": {
    "tags": []
   },
   "outputs": [
    {
     "data": {
      "text/plain": [
       "12"
      ]
     },
     "execution_count": 187,
     "metadata": {},
     "output_type": "execute_result"
    }
   ],
   "source": [
    "len(config_list)"
   ]
  },
  {
   "cell_type": "code",
   "execution_count": 188,
   "id": "c2c117e0-d9fe-4407-8fd9-05db4762464b",
   "metadata": {
    "scrolled": true,
    "tags": []
   },
   "outputs": [
    {
     "name": "stderr",
     "output_type": "stream",
     "text": [
      "2025-09-21 19:11:08,184 - pipeline_registry.builder_registry - INFO - Registered builder: BatchTransform -> BatchTransformStepBuilder\n",
      "2025-09-21 19:11:08,184 - INFO - Registered builder: BatchTransform -> BatchTransformStepBuilder\n",
      "2025-09-21 19:11:08,186 - pipeline_registry.builder_registry - INFO - Registered builder: CurrencyConversion -> CurrencyConversionStepBuilder\n",
      "2025-09-21 19:11:08,186 - INFO - Registered builder: CurrencyConversion -> CurrencyConversionStepBuilder\n",
      "2025-09-21 19:11:08,187 - pipeline_registry.builder_registry - INFO - Registered builder: DummyTraining -> DummyTrainingStepBuilder\n",
      "2025-09-21 19:11:08,187 - INFO - Registered builder: DummyTraining -> DummyTrainingStepBuilder\n",
      "2025-09-21 19:11:08,190 - pipeline_registry.builder_registry - INFO - Registered builder: ModelCalibration -> ModelCalibrationStepBuilder\n",
      "2025-09-21 19:11:08,190 - INFO - Registered builder: ModelCalibration -> ModelCalibrationStepBuilder\n",
      "2025-09-21 19:11:08,193 - pipeline_registry.builder_registry - INFO - Registered builder: XGBoostModelEval -> XGBoostModelEvalStepBuilder\n",
      "2025-09-21 19:11:08,193 - INFO - Registered builder: XGBoostModelEval -> XGBoostModelEvalStepBuilder\n",
      "2025-09-21 19:11:08,224 - pipeline_registry.builder_registry - INFO - Registered builder: PyTorchModel -> PyTorchModelStepBuilder\n",
      "2025-09-21 19:11:08,224 - INFO - Registered builder: PyTorchModel -> PyTorchModelStepBuilder\n",
      "2025-09-21 19:11:08,225 - pipeline_registry.builder_registry - INFO - Registered builder: XGBoostModel -> XGBoostModelStepBuilder\n",
      "2025-09-21 19:11:08,225 - INFO - Registered builder: XGBoostModel -> XGBoostModelStepBuilder\n",
      "2025-09-21 19:11:08,226 - pipeline_registry.builder_registry - INFO - Registered builder: Package -> PackageStepBuilder\n",
      "2025-09-21 19:11:08,226 - INFO - Registered builder: Package -> PackageStepBuilder\n",
      "2025-09-21 19:11:08,227 - pipeline_registry.builder_registry - INFO - Registered builder: Payload -> PayloadStepBuilder\n",
      "2025-09-21 19:11:08,227 - INFO - Registered builder: Payload -> PayloadStepBuilder\n",
      "2025-09-21 19:11:08,229 - pipeline_registry.builder_registry - INFO - Registered builder: RiskTableMapping -> RiskTableMappingStepBuilder\n",
      "2025-09-21 19:11:08,229 - INFO - Registered builder: RiskTableMapping -> RiskTableMappingStepBuilder\n",
      "2025-09-21 19:11:08,230 - pipeline_registry.builder_registry - INFO - Registered builder: TabularPreprocessing -> TabularPreprocessingStepBuilder\n",
      "2025-09-21 19:11:08,230 - INFO - Registered builder: TabularPreprocessing -> TabularPreprocessingStepBuilder\n",
      "2025-09-21 19:11:08,231 - pipeline_registry.builder_registry - INFO - Registered builder: PyTorchTraining -> PyTorchTrainingStepBuilder\n",
      "2025-09-21 19:11:08,231 - INFO - Registered builder: PyTorchTraining -> PyTorchTrainingStepBuilder\n",
      "2025-09-21 19:11:08,232 - pipeline_registry.builder_registry - INFO - Registered builder: XGBoostTraining -> XGBoostTrainingStepBuilder\n",
      "2025-09-21 19:11:08,232 - INFO - Registered builder: XGBoostTraining -> XGBoostTrainingStepBuilder\n"
     ]
    }
   ],
   "source": [
    "from cursus.steps.configs.utils import serialize_config, merge_and_save_configs, load_configs, verify_configs"
   ]
  },
  {
   "cell_type": "markdown",
   "id": "59b4f62a-12d1-47f2-9d46-c3f7efc3fb95",
   "metadata": {},
   "source": [
    "### Merge and Save Config List into one JSON"
   ]
  },
  {
   "cell_type": "code",
   "execution_count": 189,
   "id": "05971421-784e-4f81-836d-999fe32c5639",
   "metadata": {
    "tags": []
   },
   "outputs": [],
   "source": [
    "MODEL_CLASS = 'xgboost'"
   ]
  },
  {
   "cell_type": "code",
   "execution_count": 190,
   "id": "0da35d64-8862-451e-9510-cf4d95f9cfc5",
   "metadata": {
    "tags": []
   },
   "outputs": [],
   "source": [
    "config_dir = Path(current_dir) / 'pipeline_config' / f'config_{region}_{MODEL_CLASS}_{service_name}_v2'\n",
    "Path(config_dir).mkdir(parents=True, exist_ok=True)"
   ]
  },
  {
   "cell_type": "code",
   "execution_count": 191,
   "id": "ed1fe968-50ea-4779-ac41-67a6de1ef84e",
   "metadata": {
    "tags": []
   },
   "outputs": [
    {
     "data": {
      "text/plain": [
       "PosixPath('/home/ec2-user/SageMaker/Cursus/pipeline_config/config_NA_xgboost_AtoZ_v2')"
      ]
     },
     "execution_count": 191,
     "metadata": {},
     "output_type": "execute_result"
    }
   ],
   "source": [
    "config_dir"
   ]
  },
  {
   "cell_type": "code",
   "execution_count": 192,
   "id": "cb503fe8-be0b-43d7-bdb0-8c2b8232692e",
   "metadata": {
    "tags": []
   },
   "outputs": [],
   "source": [
    "config_file_name = f'config_{region}_{MODEL_CLASS}_{service_name}.json'"
   ]
  },
  {
   "cell_type": "code",
   "execution_count": 193,
   "id": "80b92c0a-5e03-45b8-afe1-d9315fd5eda3",
   "metadata": {
    "scrolled": true,
    "tags": []
   },
   "outputs": [
    {
     "name": "stderr",
     "output_type": "stream",
     "text": [
      "2025-09-21 19:11:17,022 - INFO - Categorizing fields for 12 configs\n",
      "2025-09-21 19:11:17,023 - INFO - Collecting field information for 12 configs (7 processing configs)\n",
      "2025-09-21 19:11:17,033 - INFO - Collected information for 72 unique fields\n",
      "2025-09-21 19:11:17,358 - INFO - Shared fields: 16\n",
      "2025-09-21 19:11:17,358 - INFO - Specific steps: 12\n",
      "2025-09-21 19:11:17,358 - INFO - Field categorization complete\n",
      "2025-09-21 19:11:17,359 - INFO - Merging and saving 12 configs to /home/ec2-user/SageMaker/Cursus/pipeline_config/config_NA_xgboost_AtoZ_v2/config_NA_xgboost_AtoZ.json\n",
      "2025-09-21 19:11:17,359 - INFO - Merged result contains:\n",
      "2025-09-21 19:11:17,360 - INFO -   - 16 shared fields\n",
      "2025-09-21 19:11:17,360 - INFO -   - 12 specific steps with 159 total fields\n",
      "2025-09-21 19:11:17,362 - WARNING - No contract found for step: CradleDataLoading_training\n",
      "2025-09-21 19:11:17,362 - WARNING - No contract found for step: CradleDataLoading_training\n",
      "2025-09-21 19:11:17,364 - WARNING - No contract found for step: CradleDataLoading_calibration\n",
      "2025-09-21 19:11:17,365 - WARNING - No contract found for step: CradleDataLoading_calibration\n",
      "2025-09-21 19:11:17,369 - INFO - Field 'processing_instance_type_small' appears in multiple configs but is in specific section(s): ['Processing', 'TabularPreprocessing_training', 'TabularPreprocessing_calibration', 'ModelCalibration_calibration', 'XGBoostModelEval_calibration', 'Package', 'Payload']\n",
      "2025-09-21 19:11:17,370 - INFO - Field 'processing_framework_version' appears in multiple configs but is in specific section(s): ['Processing', 'TabularPreprocessing_training', 'TabularPreprocessing_calibration', 'ModelCalibration_calibration', 'XGBoostModelEval_calibration', 'Package', 'Payload']\n",
      "2025-09-21 19:11:17,370 - INFO - Field 'processing_source_dir' appears in multiple configs but is in specific section(s): ['Processing', 'TabularPreprocessing_training', 'TabularPreprocessing_calibration', 'ModelCalibration_calibration', 'XGBoostModelEval_calibration', 'Package', 'Payload']\n",
      "2025-09-21 19:11:17,370 - INFO - Field 'portable_processing_source_dir' appears in multiple configs but is in specific section(s): ['Processing', 'TabularPreprocessing_training', 'TabularPreprocessing_calibration', 'ModelCalibration_calibration', 'XGBoostModelEval_calibration', 'Package', 'Payload']\n",
      "2025-09-21 19:11:17,371 - INFO - Field 'processing_volume_size' appears in multiple configs but is in specific section(s): ['Processing', 'TabularPreprocessing_training', 'TabularPreprocessing_calibration', 'ModelCalibration_calibration', 'XGBoostModelEval_calibration', 'Package', 'Payload']\n",
      "2025-09-21 19:11:17,371 - INFO - Field 'use_large_processing_instance' appears in multiple configs but is in specific section(s): ['Processing', 'TabularPreprocessing_training', 'TabularPreprocessing_calibration', 'ModelCalibration_calibration', 'XGBoostModelEval_calibration', 'Package', 'Payload']\n",
      "2025-09-21 19:11:17,371 - INFO - Field 'effective_instance_type' appears in multiple configs but is in specific section(s): ['Processing', 'TabularPreprocessing_training', 'TabularPreprocessing_calibration', 'ModelCalibration_calibration', 'XGBoostModelEval_calibration', 'Package', 'Payload']\n",
      "2025-09-21 19:11:17,372 - INFO - Field 'effective_source_dir' appears in multiple configs but is in specific section(s): ['Processing', 'TabularPreprocessing_training', 'TabularPreprocessing_calibration', 'ModelCalibration_calibration', 'XGBoostModelEval_calibration', 'Package', 'Payload']\n",
      "2025-09-21 19:11:17,372 - INFO - Field 'processing_instance_type_large' appears in multiple configs but is in specific section(s): ['Processing', 'TabularPreprocessing_training', 'TabularPreprocessing_calibration', 'ModelCalibration_calibration', 'XGBoostModelEval_calibration', 'Package', 'Payload']\n",
      "2025-09-21 19:11:17,372 - INFO - Field 'processing_instance_count' appears in multiple configs but is in specific section(s): ['Processing', 'TabularPreprocessing_training', 'TabularPreprocessing_calibration', 'ModelCalibration_calibration', 'XGBoostModelEval_calibration', 'Package', 'Payload']\n",
      "2025-09-21 19:11:17,372 - INFO - Field 'transform_spec' appears in multiple configs but is in specific section(s): ['CradleDataLoading_training', 'CradleDataLoading_calibration']\n",
      "2025-09-21 19:11:17,373 - INFO - Field 'output_spec' appears in multiple configs but is in specific section(s): ['CradleDataLoading_training', 'CradleDataLoading_calibration']\n",
      "2025-09-21 19:11:17,373 - INFO - Field 'job_type' appears in multiple configs but is in specific section(s): ['CradleDataLoading_training', 'CradleDataLoading_calibration', 'TabularPreprocessing_training', 'TabularPreprocessing_calibration', 'ModelCalibration_calibration', 'XGBoostModelEval_calibration']\n",
      "2025-09-21 19:11:17,373 - INFO - Field 'cradle_job_spec' appears in multiple configs but is in specific section(s): ['CradleDataLoading_training', 'CradleDataLoading_calibration']\n",
      "2025-09-21 19:11:17,374 - INFO - Field 'data_sources_spec' appears in multiple configs but is in specific section(s): ['CradleDataLoading_training', 'CradleDataLoading_calibration']\n",
      "2025-09-21 19:11:17,374 - INFO - Field 'train_ratio' appears in multiple configs but is in specific section(s): ['TabularPreprocessing_training', 'TabularPreprocessing_calibration']\n",
      "2025-09-21 19:11:17,374 - INFO - Field 'test_val_ratio' appears in multiple configs but is in specific section(s): ['TabularPreprocessing_training', 'TabularPreprocessing_calibration']\n",
      "2025-09-21 19:11:17,375 - INFO - Field 'full_script_path' appears in multiple configs but is in specific section(s): ['TabularPreprocessing_training', 'TabularPreprocessing_calibration']\n",
      "2025-09-21 19:11:17,375 - INFO - Field 'label_name' appears in multiple configs but is in specific section(s): ['TabularPreprocessing_training', 'TabularPreprocessing_calibration']\n",
      "2025-09-21 19:11:17,375 - INFO - Field 'processing_entry_point' appears in multiple configs but is in specific section(s): ['TabularPreprocessing_training', 'TabularPreprocessing_calibration', 'ModelCalibration_calibration', 'XGBoostModelEval_calibration', 'Package', 'Payload']\n",
      "2025-09-21 19:11:17,376 - INFO - Field 'script_path' appears in multiple configs but is in specific section(s): ['TabularPreprocessing_training', 'TabularPreprocessing_calibration', 'ModelCalibration_calibration', 'XGBoostModelEval_calibration', 'Package', 'Payload']\n",
      "2025-09-21 19:11:17,377 - INFO - Field 'model_objective' appears in multiple configs but is in specific section(s): ['Registration', 'Payload']\n",
      "2025-09-21 19:11:17,378 - INFO - Field 'source_model_inference_response_types' appears in multiple configs but is in specific section(s): ['Registration', 'Payload']\n",
      "2025-09-21 19:11:17,378 - INFO - Field 'model_domain' appears in multiple configs but is in specific section(s): ['Registration', 'Payload']\n",
      "2025-09-21 19:11:17,378 - INFO - Field 'model_owner' appears in multiple configs but is in specific section(s): ['Registration', 'Payload']\n",
      "2025-09-21 19:11:17,379 - INFO - Field 'source_model_inference_input_variable_list' appears in multiple configs but is in specific section(s): ['Registration', 'Payload']\n",
      "2025-09-21 19:11:17,379 - INFO - Field 'source_model_inference_content_types' appears in multiple configs but is in specific section(s): ['Registration', 'Payload']\n",
      "2025-09-21 19:11:17,379 - INFO - Field 'source_model_inference_output_variable_list' appears in multiple configs but is in specific section(s): ['Registration', 'Payload']\n",
      "2025-09-21 19:11:17,380 - INFO - Field 'framework' appears in multiple configs but is in specific section(s): ['Registration', 'Payload']\n",
      "2025-09-21 19:11:17,380 - INFO - Saving merged configuration to /home/ec2-user/SageMaker/Cursus/pipeline_config/config_NA_xgboost_AtoZ_v2/config_NA_xgboost_AtoZ.json\n",
      "2025-09-21 19:11:17,385 - INFO - Successfully saved merged configuration to /home/ec2-user/SageMaker/Cursus/pipeline_config/config_NA_xgboost_AtoZ_v2/config_NA_xgboost_AtoZ.json\n",
      "2025-09-21 19:11:17,386 - INFO - Successfully saved merged configs to /home/ec2-user/SageMaker/Cursus/pipeline_config/config_NA_xgboost_AtoZ_v2/config_NA_xgboost_AtoZ.json\n"
     ]
    }
   ],
   "source": [
    "merged_config = merge_and_save_configs(config_list, \n",
    "                                       str(config_dir / config_file_name)\n",
    "                                      )"
   ]
  },
  {
   "cell_type": "code",
   "execution_count": 194,
   "id": "91dd6adf-7253-4891-a2eb-45061cbfd8bc",
   "metadata": {
    "scrolled": true,
    "tags": []
   },
   "outputs": [
    {
     "data": {
      "text/plain": [
       "{'shared': {'author': 'lukexie',\n",
       "  'bucket': 'sandboxdependency-abuse-secureaisandboxteamshare-1l77v9am252um',\n",
       "  'role': 'arn:aws:iam::601857636239:role/SandboxRole-lukexie-us-east-1',\n",
       "  'region': 'NA',\n",
       "  'service_name': 'AtoZ',\n",
       "  'pipeline_version': '1.3.1',\n",
       "  'model_class': 'xgboost',\n",
       "  'current_date': '2025-09-21',\n",
       "  'framework_version': '1.7-1',\n",
       "  'py_version': 'py3',\n",
       "  'source_dir': '/home/ec2-user/SageMaker/Cursus/dockers/xgboost_atoz',\n",
       "  'aws_region': 'us-east-1',\n",
       "  'pipeline_name': 'lukexie-AtoZ-xgboost-NA',\n",
       "  'pipeline_description': 'AtoZ xgboost Model NA',\n",
       "  'pipeline_s3_loc': 's3://sandboxdependency-abuse-secureaisandboxteamshare-1l77v9am252um/MODS/lukexie-AtoZ-xgboost-NA_1.3.1',\n",
       "  'portable_source_dir': 'dockers/xgboost_atoz'},\n",
       " 'specific': defaultdict(dict,\n",
       "             {'Base': {'__model_type__': 'BasePipelineConfig'},\n",
       "              'Processing': {'__model_type__': 'ProcessingStepConfigBase',\n",
       "               'processing_instance_count': 1,\n",
       "               'processing_volume_size': 500,\n",
       "               'processing_instance_type_large': 'ml.m5.12xlarge',\n",
       "               'processing_instance_type_small': 'ml.m5.4xlarge',\n",
       "               'use_large_processing_instance': False,\n",
       "               'processing_source_dir': '/home/ec2-user/SageMaker/Cursus/dockers/xgboost_atoz/scripts',\n",
       "               'processing_framework_version': '1.2-1',\n",
       "               'effective_source_dir': 'dockers/xgboost_atoz/scripts',\n",
       "               'effective_instance_type': 'ml.m5.4xlarge',\n",
       "               'portable_processing_source_dir': 'dockers/xgboost_atoz/scripts'},\n",
       "              'CradleDataLoading_training': {'__model_type__': 'CradleDataLoadConfig',\n",
       "               'job_type': 'training',\n",
       "               'data_sources_spec': {'__model_type__': 'DataSourcesSpecificationConfig',\n",
       "                'start_date': '2025-01-01T00:00:00',\n",
       "                'end_date': '2025-04-17T00:00:00',\n",
       "                'data_sources': {'__type_info__': 'list',\n",
       "                 'value': [{'__model_type__': 'DataSourceConfig',\n",
       "                   'data_source_name': 'RAW_MDS_NA',\n",
       "                   'data_source_type': 'MDS',\n",
       "                   'mds_data_source_properties': {'__model_type__': 'MdsDataSourceConfig',\n",
       "                    'service_name': 'AtoZ',\n",
       "                    'region': 'NA',\n",
       "                    'output_schema': [{'field_name': 'Abuse.completed_mfn_orders_by_customer_marketplace.n_mfn_unit_count_last_365_days',\n",
       "                      'field_type': 'STRING'},\n",
       "                     {'field_name': 'Abuse.bsm_stats_for_evaluated_mfn_concessions_by_customer_na.n_min_buyer_message_count',\n",
       "                      'field_type': 'STRING'},\n",
       "                     {'field_name': 'Abuse.shiptrack_flag_by_order.n_any_returned',\n",
       "                      'field_type': 'STRING'},\n",
       "                     {'field_name': 'Abuse.completed_afn_orders_by_customer_marketplace.n_afn_unit_count_last_365_days',\n",
       "                      'field_type': 'STRING'},\n",
       "                     {'field_name': 'Abuse.bsm_stats_for_evaluated_mfn_concessions_by_customer_na.n_max_order_message_time_gap',\n",
       "                      'field_type': 'STRING'},\n",
       "                     {'field_name': 'Abuse.shiptrack_flag_by_order.n_any_available_for_pickup',\n",
       "                      'field_type': 'STRING'},\n",
       "                     {'field_name': 'transactionDate', 'field_type': 'STRING'},\n",
       "                     {'field_name': 'Abuse.abuse_fap_action_by_customer_inline_transform_na.n_concession_solicit_count_last_365_days',\n",
       "                      'field_type': 'STRING'},\n",
       "                     {'field_name': 'Abuse.mfn_categorized_refunds_by_customer_marketplace.n_mfn_diff_refunds_order_count_last_365_days',\n",
       "                      'field_type': 'STRING'},\n",
       "                     {'field_name': 'Abuse.mfn_categorized_refunds_si_by_customer_marketplace.n_mfn_notr_refunds_si_365_days',\n",
       "                      'field_type': 'STRING'},\n",
       "                     {'field_name': 'Abuse.bsm_stats_for_evaluated_mfn_concessions_by_customer_na.n_total_topic_count',\n",
       "                      'field_type': 'STRING'},\n",
       "                     {'field_name': 'claimantInfo_status',\n",
       "                      'field_type': 'STRING'},\n",
       "                     {'field_name': 'Abuse.completed_afn_orders_by_customer_marketplace.n_afn_order_count_last_365_days',\n",
       "                      'field_type': 'STRING'},\n",
       "                     {'field_name': 'Abuse.mfn_categorized_refunds_si_by_customer_marketplace.n_mfn_diff_refunds_si_365_days',\n",
       "                      'field_type': 'STRING'},\n",
       "                     {'field_name': 'Abuse.abuse_fap_action_by_customer_inline_transform_na.n_concession_warn_count_last_365_days',\n",
       "                      'field_type': 'STRING'},\n",
       "                     {'field_name': 'Abuse.mfn_refunds_by_customer_marketplace.n_mfn_refund_unit_amount_last_365_days',\n",
       "                      'field_type': 'STRING'},\n",
       "                     {'field_name': 'Abuse.bsm_stats_for_evaluated_mfn_concessions_by_customer_na.n_min_buyer_order_message_time_gap',\n",
       "                      'field_type': 'STRING'},\n",
       "                     {'field_name': 'Abuse.bsm_stats_for_evaluated_mfn_concessions_by_customer_na.n_total_seller_message_count',\n",
       "                      'field_type': 'STRING'},\n",
       "                     {'field_name': 'Abuse.mfn_a2z_claims_by_customer_na.n_mfn_claims_count_last_365_days',\n",
       "                      'field_type': 'STRING'},\n",
       "                     {'field_name': 'Abuse.mfn_refunds_by_customer_marketplace.n_mfn_refund_order_count_last_365_days',\n",
       "                      'field_type': 'STRING'},\n",
       "                     {'field_name': 'Abuse.bsm_stats_for_evaluated_mfn_concessions_by_customer_na.n_max_buyer_order_message_time_gap',\n",
       "                      'field_type': 'STRING'},\n",
       "                     {'field_name': 'Abuse.completed_afn_orders_by_customer_marketplace.n_afn_unit_amount_last_365_days',\n",
       "                      'field_type': 'STRING'},\n",
       "                     {'field_name': 'Abuse.completed_mfn_orders_by_customer_marketplace.n_mfn_order_count_last_365_days',\n",
       "                      'field_type': 'STRING'},\n",
       "                     {'field_name': 'Abuse.mfn_a2z_claims_by_customer_na.n_mfn_notr_claims_amount_last_365_days',\n",
       "                      'field_type': 'STRING'},\n",
       "                     {'field_name': 'COMP_DAYOB', 'field_type': 'STRING'},\n",
       "                     {'field_name': 'Abuse.mfn_categorized_refunds_by_customer_marketplace.n_mfn_notr_refunds_unit_amount_last_365_days',\n",
       "                      'field_type': 'STRING'},\n",
       "                     {'field_name': 'Abuse.dnr_by_customer_marketplace.n_dnr_amount_si_last_365_days',\n",
       "                      'field_type': 'STRING'},\n",
       "                     {'field_name': 'Abuse.mfn_categorized_refunds_by_customer_marketplace.n_mfn_notr_refunds_order_count_last_365_days',\n",
       "                      'field_type': 'STRING'},\n",
       "                     {'field_name': 'Abuse.mfn_refunds_si_by_customer_marketplace.n_mfn_refund_amount_si_last_365_days',\n",
       "                      'field_type': 'STRING'},\n",
       "                     {'field_name': 'Abuse.bsm_stats_for_evaluated_mfn_concessions_by_customer_na.n_total_message_count',\n",
       "                      'field_type': 'STRING'},\n",
       "                     {'field_name': 'shipments_status',\n",
       "                      'field_type': 'STRING'},\n",
       "                     {'field_name': 'Abuse.completed_mfn_orders_by_customer_marketplace.n_mfn_unit_amount_last_365_days',\n",
       "                      'field_type': 'STRING'},\n",
       "                     {'field_name': 'Abuse.bsm_stats_for_evaluated_mfn_concessions_by_customer_na.n_max_seller_order_message_time_gap',\n",
       "                      'field_type': 'STRING'},\n",
       "                     {'field_name': 'claimantInfo_allClaimCount365day',\n",
       "                      'field_type': 'STRING'},\n",
       "                     {'field_name': 'Abuse.bsm_stats_for_evaluated_mfn_concessions_by_customer_na.n_message_count_with_return_keywords_si',\n",
       "                      'field_type': 'STRING'},\n",
       "                     {'field_name': 'Abuse.dnr_by_customer_marketplace.n_dnr_unit_count_last_365_days',\n",
       "                      'field_type': 'STRING'},\n",
       "                     {'field_name': 'Abuse.shiptrack_flag_by_order.n_any_undeliverable',\n",
       "                      'field_type': 'STRING'},\n",
       "                     {'field_name': 'Abuse.mfn_a2z_claims_by_customer_na.n_mfn_diff_claims_count_last_365_days',\n",
       "                      'field_type': 'STRING'},\n",
       "                     {'field_name': 'Abuse.bsm_stats_for_evaluated_mfn_concessions_by_customer_na.n_min_seller_order_message_time_gap',\n",
       "                      'field_type': 'STRING'},\n",
       "                     {'field_name': 'Abuse.mfn_refunds_by_customer_marketplace.n_mfn_refund_unit_count_last_365_days',\n",
       "                      'field_type': 'STRING'},\n",
       "                     {'field_name': 'Abuse.order_to_execution_time_from_eventvariables.n_order_to_execution',\n",
       "                      'field_type': 'STRING'},\n",
       "                     {'field_name': 'claim_reason', 'field_type': 'STRING'},\n",
       "                     {'field_name': 'Abuse.mfn_a2z_claims_by_customer_na.n_mfn_diff_claims_amount_last_365_days',\n",
       "                      'field_type': 'STRING'},\n",
       "                     {'field_name': 'Abuse.shiptrack_flag_by_order.n_any_partial_delivered',\n",
       "                      'field_type': 'STRING'},\n",
       "                     {'field_name': 'claimantInfo_pendingClaimCount',\n",
       "                      'field_type': 'STRING'},\n",
       "                     {'field_name': 'Abuse.dnr_by_customer_marketplace.n_dnr_order_count_last_365_days',\n",
       "                      'field_type': 'STRING'},\n",
       "                     {'field_name': 'claimAmount_value',\n",
       "                      'field_type': 'STRING'},\n",
       "                     {'field_name': 'Abuse.shiptrack_flag_by_order.n_any_returning',\n",
       "                      'field_type': 'STRING'},\n",
       "                     {'field_name': 'Abuse.mfn_categorized_refunds_by_customer_marketplace.n_mfn_diff_refunds_unit_count_last_365_days',\n",
       "                      'field_type': 'STRING'},\n",
       "                     {'field_name': 'Abuse.abuse_fap_action_by_customer_inline_transform_na.n_claims_solicit_count_last_365_days',\n",
       "                      'field_type': 'STRING'},\n",
       "                     {'field_name': 'Abuse.bsm_stats_for_evaluated_mfn_concessions_by_customer_na.n_total_buyer_message_count',\n",
       "                      'field_type': 'STRING'},\n",
       "                     {'field_name': 'Abuse.dnr_by_customer_marketplace.n_dnr_unit_amount_last_365_days',\n",
       "                      'field_type': 'STRING'},\n",
       "                     {'field_name': 'Abuse.bsm_stats_for_evaluated_mfn_concessions_by_customer_na.n_message_count_with_diff_topic_si',\n",
       "                      'field_type': 'STRING'},\n",
       "                     {'field_name': 'Abuse.mfn_a2z_claims_by_customer_na.n_mfn_notr_claims_count_last_365_days',\n",
       "                      'field_type': 'STRING'},\n",
       "                     {'field_name': 'Abuse.mfn_a2z_claims_by_customer_na.n_mfn_claims_amount_last_365_days',\n",
       "                      'field_type': 'STRING'},\n",
       "                     {'field_name': 'Abuse.bsm_stats_for_evaluated_mfn_concessions_by_customer_na.n_min_seller_message_count',\n",
       "                      'field_type': 'STRING'},\n",
       "                     {'field_name': 'Abuse.bsm_stats_for_evaluated_mfn_concessions_by_customer_na.n_message_count_with_notr_topic_si',\n",
       "                      'field_type': 'STRING'},\n",
       "                     {'field_name': 'Abuse.mfn_categorized_refunds_by_customer_marketplace.n_mfn_diff_refunds_unit_amount_last_365_days',\n",
       "                      'field_type': 'STRING'},\n",
       "                     {'field_name': 'Abuse.mfn_categorized_refunds_by_customer_marketplace.n_mfn_notr_refunds_unit_count_last_365_days',\n",
       "                      'field_type': 'STRING'},\n",
       "                     {'field_name': 'Abuse.bsm_stats_for_evaluated_mfn_concessions_by_customer_na.n_min_message_count',\n",
       "                      'field_type': 'STRING'},\n",
       "                     {'field_name': 'Abuse.bsm_stats_for_evaluated_mfn_concessions_by_customer_na.n_min_order_message_time_gap',\n",
       "                      'field_type': 'STRING'},\n",
       "                     {'field_name': 'PAYMETH', 'field_type': 'STRING'},\n",
       "                     {'field_name': 'claimantInfo_lifetimeClaimCount',\n",
       "                      'field_type': 'STRING'},\n",
       "                     {'field_name': 'objectId', 'field_type': 'STRING'},\n",
       "                     {'field_name': 'Abuse.abuse_fap_action_by_customer_inline_transform_na.n_claims_warn_count_last_365_days',\n",
       "                      'field_type': 'STRING'},\n",
       "                     {'field_name': 'Abuse.shiptrack_flag_by_order.n_any_delivered',\n",
       "                      'field_type': 'STRING'}],\n",
       "                    'org_id': 0,\n",
       "                    'use_hourly_edx_data_set': False}},\n",
       "                  {'__model_type__': 'DataSourceConfig',\n",
       "                   'data_source_name': 'TAGS',\n",
       "                   'data_source_type': 'EDX',\n",
       "                   'edx_data_source_properties': {'__model_type__': 'EdxDataSourceConfig',\n",
       "                    'edx_provider': 'trms-abuse-analytics',\n",
       "                    'edx_subject': 'qingyuye-notr-exp',\n",
       "                    'edx_dataset': 'atoz-tag',\n",
       "                    'edx_manifest_key': '[\"24292902\",2025-01-01T00:00:00Z,2025-04-17T00:00:00Z,\"NA\"]',\n",
       "                    'schema_overrides': [{'field_name': 'order_id',\n",
       "                      'field_type': 'STRING'},\n",
       "                     {'field_name': 'marketplace_id', 'field_type': 'STRING'},\n",
       "                     {'field_name': 'tag_date', 'field_type': 'STRING'},\n",
       "                     {'field_name': 'is_abuse', 'field_type': 'STRING'},\n",
       "                     {'field_name': 'abuse_type', 'field_type': 'STRING'},\n",
       "                     {'field_name': 'concession_type',\n",
       "                      'field_type': 'STRING'}]}}]}},\n",
       "               'transform_spec': {'__model_type__': 'TransformSpecificationConfig',\n",
       "                'transform_sql': '\\nSELECT\\n    Abuse__DOT__abuse_fap_action_by_customer_inline_transform_na__DOT__n_claims_solicit_count_last_365_days,\\n    Abuse__DOT__abuse_fap_action_by_customer_inline_transform_na__DOT__n_claims_warn_count_last_365_days,\\n    Abuse__DOT__abuse_fap_action_by_customer_inline_transform_na__DOT__n_concession_solicit_count_last_365_days,\\n    Abuse__DOT__abuse_fap_action_by_customer_inline_transform_na__DOT__n_concession_warn_count_last_365_days,\\n    Abuse__DOT__bsm_stats_for_evaluated_mfn_concessions_by_customer_na__DOT__n_max_buyer_order_message_time_gap,\\n    Abuse__DOT__bsm_stats_for_evaluated_mfn_concessions_by_customer_na__DOT__n_max_order_message_time_gap,\\n    Abuse__DOT__bsm_stats_for_evaluated_mfn_concessions_by_customer_na__DOT__n_max_seller_order_message_time_gap,\\n    Abuse__DOT__bsm_stats_for_evaluated_mfn_concessions_by_customer_na__DOT__n_message_count_with_diff_topic_si,\\n    Abuse__DOT__bsm_stats_for_evaluated_mfn_concessions_by_customer_na__DOT__n_message_count_with_notr_topic_si,\\n    Abuse__DOT__bsm_stats_for_evaluated_mfn_concessions_by_customer_na__DOT__n_message_count_with_return_keywords_si,\\n    Abuse__DOT__bsm_stats_for_evaluated_mfn_concessions_by_customer_na__DOT__n_min_buyer_message_count,\\n    Abuse__DOT__bsm_stats_for_evaluated_mfn_concessions_by_customer_na__DOT__n_min_buyer_order_message_time_gap,\\n    Abuse__DOT__bsm_stats_for_evaluated_mfn_concessions_by_customer_na__DOT__n_min_message_count,\\n    Abuse__DOT__bsm_stats_for_evaluated_mfn_concessions_by_customer_na__DOT__n_min_order_message_time_gap,\\n    Abuse__DOT__bsm_stats_for_evaluated_mfn_concessions_by_customer_na__DOT__n_min_seller_message_count,\\n    Abuse__DOT__bsm_stats_for_evaluated_mfn_concessions_by_customer_na__DOT__n_min_seller_order_message_time_gap,\\n    Abuse__DOT__bsm_stats_for_evaluated_mfn_concessions_by_customer_na__DOT__n_total_buyer_message_count,\\n    Abuse__DOT__bsm_stats_for_evaluated_mfn_concessions_by_customer_na__DOT__n_total_message_count,\\n    Abuse__DOT__bsm_stats_for_evaluated_mfn_concessions_by_customer_na__DOT__n_total_seller_message_count,\\n    Abuse__DOT__bsm_stats_for_evaluated_mfn_concessions_by_customer_na__DOT__n_total_topic_count,\\n    Abuse__DOT__completed_afn_orders_by_customer_marketplace__DOT__n_afn_order_count_last_365_days,\\n    Abuse__DOT__completed_afn_orders_by_customer_marketplace__DOT__n_afn_unit_amount_last_365_days,\\n    Abuse__DOT__completed_afn_orders_by_customer_marketplace__DOT__n_afn_unit_count_last_365_days,\\n    Abuse__DOT__completed_mfn_orders_by_customer_marketplace__DOT__n_mfn_order_count_last_365_days,\\n    Abuse__DOT__completed_mfn_orders_by_customer_marketplace__DOT__n_mfn_unit_amount_last_365_days,\\n    Abuse__DOT__completed_mfn_orders_by_customer_marketplace__DOT__n_mfn_unit_count_last_365_days,\\n    Abuse__DOT__dnr_by_customer_marketplace__DOT__n_dnr_amount_si_last_365_days,\\n    Abuse__DOT__dnr_by_customer_marketplace__DOT__n_dnr_order_count_last_365_days,\\n    Abuse__DOT__dnr_by_customer_marketplace__DOT__n_dnr_unit_amount_last_365_days,\\n    Abuse__DOT__dnr_by_customer_marketplace__DOT__n_dnr_unit_count_last_365_days,\\n    Abuse__DOT__mfn_a2z_claims_by_customer_na__DOT__n_mfn_claims_amount_last_365_days,\\n    Abuse__DOT__mfn_a2z_claims_by_customer_na__DOT__n_mfn_claims_count_last_365_days,\\n    Abuse__DOT__mfn_a2z_claims_by_customer_na__DOT__n_mfn_diff_claims_amount_last_365_days,\\n    Abuse__DOT__mfn_a2z_claims_by_customer_na__DOT__n_mfn_diff_claims_count_last_365_days,\\n    Abuse__DOT__mfn_a2z_claims_by_customer_na__DOT__n_mfn_notr_claims_amount_last_365_days,\\n    Abuse__DOT__mfn_a2z_claims_by_customer_na__DOT__n_mfn_notr_claims_count_last_365_days,\\n    Abuse__DOT__mfn_categorized_refunds_by_customer_marketplace__DOT__n_mfn_diff_refunds_order_count_last_365_days,\\n    Abuse__DOT__mfn_categorized_refunds_by_customer_marketplace__DOT__n_mfn_diff_refunds_unit_amount_last_365_days,\\n    Abuse__DOT__mfn_categorized_refunds_by_customer_marketplace__DOT__n_mfn_diff_refunds_unit_count_last_365_days,\\n    Abuse__DOT__mfn_categorized_refunds_by_customer_marketplace__DOT__n_mfn_notr_refunds_order_count_last_365_days,\\n    Abuse__DOT__mfn_categorized_refunds_by_customer_marketplace__DOT__n_mfn_notr_refunds_unit_amount_last_365_days,\\n    Abuse__DOT__mfn_categorized_refunds_by_customer_marketplace__DOT__n_mfn_notr_refunds_unit_count_last_365_days,\\n    Abuse__DOT__mfn_categorized_refunds_si_by_customer_marketplace__DOT__n_mfn_diff_refunds_si_365_days,\\n    Abuse__DOT__mfn_categorized_refunds_si_by_customer_marketplace__DOT__n_mfn_notr_refunds_si_365_days,\\n    Abuse__DOT__mfn_refunds_by_customer_marketplace__DOT__n_mfn_refund_order_count_last_365_days,\\n    Abuse__DOT__mfn_refunds_by_customer_marketplace__DOT__n_mfn_refund_unit_amount_last_365_days,\\n    Abuse__DOT__mfn_refunds_by_customer_marketplace__DOT__n_mfn_refund_unit_count_last_365_days,\\n    Abuse__DOT__mfn_refunds_si_by_customer_marketplace__DOT__n_mfn_refund_amount_si_last_365_days,\\n    Abuse__DOT__order_to_execution_time_from_eventvariables__DOT__n_order_to_execution,\\n    Abuse__DOT__shiptrack_flag_by_order__DOT__n_any_available_for_pickup,\\n    Abuse__DOT__shiptrack_flag_by_order__DOT__n_any_delivered,\\n    Abuse__DOT__shiptrack_flag_by_order__DOT__n_any_partial_delivered,\\n    Abuse__DOT__shiptrack_flag_by_order__DOT__n_any_returned,\\n    Abuse__DOT__shiptrack_flag_by_order__DOT__n_any_returning,\\n    Abuse__DOT__shiptrack_flag_by_order__DOT__n_any_undeliverable,\\n    COMP_DAYOB,\\n    PAYMETH,\\n    abuse_type,\\n    claimAmount_value,\\n    claim_reason,\\n    claimantInfo_allClaimCount365day,\\n    claimantInfo_lifetimeClaimCount,\\n    claimantInfo_pendingClaimCount,\\n    claimantInfo_status,\\n    concession_type,\\n    is_abuse,\\n    marketplace_id,\\n    objectId,\\n    order_id,\\n    shipments_status,\\n    tag_date,\\n    transactionDate\\nFROM (\\n    SELECT\\n        RAW_MDS_NA.Abuse__DOT__abuse_fap_action_by_customer_inline_transform_na__DOT__n_claims_solicit_count_last_365_days,\\n        RAW_MDS_NA.Abuse__DOT__abuse_fap_action_by_customer_inline_transform_na__DOT__n_claims_warn_count_last_365_days,\\n        RAW_MDS_NA.Abuse__DOT__abuse_fap_action_by_customer_inline_transform_na__DOT__n_concession_solicit_count_last_365_days,\\n        RAW_MDS_NA.Abuse__DOT__abuse_fap_action_by_customer_inline_transform_na__DOT__n_concession_warn_count_last_365_days,\\n        RAW_MDS_NA.Abuse__DOT__bsm_stats_for_evaluated_mfn_concessions_by_customer_na__DOT__n_max_buyer_order_message_time_gap,\\n        RAW_MDS_NA.Abuse__DOT__bsm_stats_for_evaluated_mfn_concessions_by_customer_na__DOT__n_max_order_message_time_gap,\\n        RAW_MDS_NA.Abuse__DOT__bsm_stats_for_evaluated_mfn_concessions_by_customer_na__DOT__n_max_seller_order_message_time_gap,\\n        RAW_MDS_NA.Abuse__DOT__bsm_stats_for_evaluated_mfn_concessions_by_customer_na__DOT__n_message_count_with_diff_topic_si,\\n        RAW_MDS_NA.Abuse__DOT__bsm_stats_for_evaluated_mfn_concessions_by_customer_na__DOT__n_message_count_with_notr_topic_si,\\n        RAW_MDS_NA.Abuse__DOT__bsm_stats_for_evaluated_mfn_concessions_by_customer_na__DOT__n_message_count_with_return_keywords_si,\\n        RAW_MDS_NA.Abuse__DOT__bsm_stats_for_evaluated_mfn_concessions_by_customer_na__DOT__n_min_buyer_message_count,\\n        RAW_MDS_NA.Abuse__DOT__bsm_stats_for_evaluated_mfn_concessions_by_customer_na__DOT__n_min_buyer_order_message_time_gap,\\n        RAW_MDS_NA.Abuse__DOT__bsm_stats_for_evaluated_mfn_concessions_by_customer_na__DOT__n_min_message_count,\\n        RAW_MDS_NA.Abuse__DOT__bsm_stats_for_evaluated_mfn_concessions_by_customer_na__DOT__n_min_order_message_time_gap,\\n        RAW_MDS_NA.Abuse__DOT__bsm_stats_for_evaluated_mfn_concessions_by_customer_na__DOT__n_min_seller_message_count,\\n        RAW_MDS_NA.Abuse__DOT__bsm_stats_for_evaluated_mfn_concessions_by_customer_na__DOT__n_min_seller_order_message_time_gap,\\n        RAW_MDS_NA.Abuse__DOT__bsm_stats_for_evaluated_mfn_concessions_by_customer_na__DOT__n_total_buyer_message_count,\\n        RAW_MDS_NA.Abuse__DOT__bsm_stats_for_evaluated_mfn_concessions_by_customer_na__DOT__n_total_message_count,\\n        RAW_MDS_NA.Abuse__DOT__bsm_stats_for_evaluated_mfn_concessions_by_customer_na__DOT__n_total_seller_message_count,\\n        RAW_MDS_NA.Abuse__DOT__bsm_stats_for_evaluated_mfn_concessions_by_customer_na__DOT__n_total_topic_count,\\n        RAW_MDS_NA.Abuse__DOT__completed_afn_orders_by_customer_marketplace__DOT__n_afn_order_count_last_365_days,\\n        RAW_MDS_NA.Abuse__DOT__completed_afn_orders_by_customer_marketplace__DOT__n_afn_unit_amount_last_365_days,\\n        RAW_MDS_NA.Abuse__DOT__completed_afn_orders_by_customer_marketplace__DOT__n_afn_unit_count_last_365_days,\\n        RAW_MDS_NA.Abuse__DOT__completed_mfn_orders_by_customer_marketplace__DOT__n_mfn_order_count_last_365_days,\\n        RAW_MDS_NA.Abuse__DOT__completed_mfn_orders_by_customer_marketplace__DOT__n_mfn_unit_amount_last_365_days,\\n        RAW_MDS_NA.Abuse__DOT__completed_mfn_orders_by_customer_marketplace__DOT__n_mfn_unit_count_last_365_days,\\n        RAW_MDS_NA.Abuse__DOT__dnr_by_customer_marketplace__DOT__n_dnr_amount_si_last_365_days,\\n        RAW_MDS_NA.Abuse__DOT__dnr_by_customer_marketplace__DOT__n_dnr_order_count_last_365_days,\\n        RAW_MDS_NA.Abuse__DOT__dnr_by_customer_marketplace__DOT__n_dnr_unit_amount_last_365_days,\\n        RAW_MDS_NA.Abuse__DOT__dnr_by_customer_marketplace__DOT__n_dnr_unit_count_last_365_days,\\n        RAW_MDS_NA.Abuse__DOT__mfn_a2z_claims_by_customer_na__DOT__n_mfn_claims_amount_last_365_days,\\n        RAW_MDS_NA.Abuse__DOT__mfn_a2z_claims_by_customer_na__DOT__n_mfn_claims_count_last_365_days,\\n        RAW_MDS_NA.Abuse__DOT__mfn_a2z_claims_by_customer_na__DOT__n_mfn_diff_claims_amount_last_365_days,\\n        RAW_MDS_NA.Abuse__DOT__mfn_a2z_claims_by_customer_na__DOT__n_mfn_diff_claims_count_last_365_days,\\n        RAW_MDS_NA.Abuse__DOT__mfn_a2z_claims_by_customer_na__DOT__n_mfn_notr_claims_amount_last_365_days,\\n        RAW_MDS_NA.Abuse__DOT__mfn_a2z_claims_by_customer_na__DOT__n_mfn_notr_claims_count_last_365_days,\\n        RAW_MDS_NA.Abuse__DOT__mfn_categorized_refunds_by_customer_marketplace__DOT__n_mfn_diff_refunds_order_count_last_365_days,\\n        RAW_MDS_NA.Abuse__DOT__mfn_categorized_refunds_by_customer_marketplace__DOT__n_mfn_diff_refunds_unit_amount_last_365_days,\\n        RAW_MDS_NA.Abuse__DOT__mfn_categorized_refunds_by_customer_marketplace__DOT__n_mfn_diff_refunds_unit_count_last_365_days,\\n        RAW_MDS_NA.Abuse__DOT__mfn_categorized_refunds_by_customer_marketplace__DOT__n_mfn_notr_refunds_order_count_last_365_days,\\n        RAW_MDS_NA.Abuse__DOT__mfn_categorized_refunds_by_customer_marketplace__DOT__n_mfn_notr_refunds_unit_amount_last_365_days,\\n        RAW_MDS_NA.Abuse__DOT__mfn_categorized_refunds_by_customer_marketplace__DOT__n_mfn_notr_refunds_unit_count_last_365_days,\\n        RAW_MDS_NA.Abuse__DOT__mfn_categorized_refunds_si_by_customer_marketplace__DOT__n_mfn_diff_refunds_si_365_days,\\n        RAW_MDS_NA.Abuse__DOT__mfn_categorized_refunds_si_by_customer_marketplace__DOT__n_mfn_notr_refunds_si_365_days,\\n        RAW_MDS_NA.Abuse__DOT__mfn_refunds_by_customer_marketplace__DOT__n_mfn_refund_order_count_last_365_days,\\n        RAW_MDS_NA.Abuse__DOT__mfn_refunds_by_customer_marketplace__DOT__n_mfn_refund_unit_amount_last_365_days,\\n        RAW_MDS_NA.Abuse__DOT__mfn_refunds_by_customer_marketplace__DOT__n_mfn_refund_unit_count_last_365_days,\\n        RAW_MDS_NA.Abuse__DOT__mfn_refunds_si_by_customer_marketplace__DOT__n_mfn_refund_amount_si_last_365_days,\\n        RAW_MDS_NA.Abuse__DOT__order_to_execution_time_from_eventvariables__DOT__n_order_to_execution,\\n        RAW_MDS_NA.Abuse__DOT__shiptrack_flag_by_order__DOT__n_any_available_for_pickup,\\n        RAW_MDS_NA.Abuse__DOT__shiptrack_flag_by_order__DOT__n_any_delivered,\\n        RAW_MDS_NA.Abuse__DOT__shiptrack_flag_by_order__DOT__n_any_partial_delivered,\\n        RAW_MDS_NA.Abuse__DOT__shiptrack_flag_by_order__DOT__n_any_returned,\\n        RAW_MDS_NA.Abuse__DOT__shiptrack_flag_by_order__DOT__n_any_returning,\\n        RAW_MDS_NA.Abuse__DOT__shiptrack_flag_by_order__DOT__n_any_undeliverable,\\n        RAW_MDS_NA.COMP_DAYOB,\\n        RAW_MDS_NA.PAYMETH,\\n        RAW_MDS_NA.claimAmount_value,\\n        RAW_MDS_NA.claim_reason,\\n        RAW_MDS_NA.claimantInfo_allClaimCount365day,\\n        RAW_MDS_NA.claimantInfo_lifetimeClaimCount,\\n        RAW_MDS_NA.claimantInfo_pendingClaimCount,\\n        RAW_MDS_NA.claimantInfo_status,\\n        RAW_MDS_NA.objectId,\\n        RAW_MDS_NA.shipments_status,\\n        RAW_MDS_NA.transactionDate,\\n        TAGS.abuse_type,\\n        TAGS.concession_type,\\n        TAGS.is_abuse,\\n        TAGS.marketplace_id,\\n        TAGS.order_id,\\n        TAGS.tag_date,\\n        ROW_NUMBER() OVER (PARTITION BY RAW_MDS_NA.objectId, TAGS.order_id ORDER BY RAW_MDS_NA.transactionDate DESC) as row_num\\n    FROM RAW_MDS_NA\\n    JOIN TAGS ON RAW_MDS_NA.objectId = TAGS.order_id\\n)\\nWHERE row_num = 1\\n',\n",
       "                'job_split_options': {'__model_type__': 'JobSplitOptionsConfig',\n",
       "                 'split_job': False,\n",
       "                 'days_per_split': 7}},\n",
       "               'output_spec': {'__model_type__': 'OutputSpecificationConfig',\n",
       "                'output_schema': ['Abuse.abuse_fap_action_by_customer_inline_transform_na.n_claims_solicit_count_last_365_days',\n",
       "                 'Abuse.abuse_fap_action_by_customer_inline_transform_na.n_claims_warn_count_last_365_days',\n",
       "                 'Abuse.abuse_fap_action_by_customer_inline_transform_na.n_concession_solicit_count_last_365_days',\n",
       "                 'Abuse.abuse_fap_action_by_customer_inline_transform_na.n_concession_warn_count_last_365_days',\n",
       "                 'Abuse.bsm_stats_for_evaluated_mfn_concessions_by_customer_na.n_max_buyer_order_message_time_gap',\n",
       "                 'Abuse.bsm_stats_for_evaluated_mfn_concessions_by_customer_na.n_max_order_message_time_gap',\n",
       "                 'Abuse.bsm_stats_for_evaluated_mfn_concessions_by_customer_na.n_max_seller_order_message_time_gap',\n",
       "                 'Abuse.bsm_stats_for_evaluated_mfn_concessions_by_customer_na.n_message_count_with_diff_topic_si',\n",
       "                 'Abuse.bsm_stats_for_evaluated_mfn_concessions_by_customer_na.n_message_count_with_notr_topic_si',\n",
       "                 'Abuse.bsm_stats_for_evaluated_mfn_concessions_by_customer_na.n_message_count_with_return_keywords_si',\n",
       "                 'Abuse.bsm_stats_for_evaluated_mfn_concessions_by_customer_na.n_min_buyer_message_count',\n",
       "                 'Abuse.bsm_stats_for_evaluated_mfn_concessions_by_customer_na.n_min_buyer_order_message_time_gap',\n",
       "                 'Abuse.bsm_stats_for_evaluated_mfn_concessions_by_customer_na.n_min_message_count',\n",
       "                 'Abuse.bsm_stats_for_evaluated_mfn_concessions_by_customer_na.n_min_order_message_time_gap',\n",
       "                 'Abuse.bsm_stats_for_evaluated_mfn_concessions_by_customer_na.n_min_seller_message_count',\n",
       "                 'Abuse.bsm_stats_for_evaluated_mfn_concessions_by_customer_na.n_min_seller_order_message_time_gap',\n",
       "                 'Abuse.bsm_stats_for_evaluated_mfn_concessions_by_customer_na.n_total_buyer_message_count',\n",
       "                 'Abuse.bsm_stats_for_evaluated_mfn_concessions_by_customer_na.n_total_message_count',\n",
       "                 'Abuse.bsm_stats_for_evaluated_mfn_concessions_by_customer_na.n_total_seller_message_count',\n",
       "                 'Abuse.bsm_stats_for_evaluated_mfn_concessions_by_customer_na.n_total_topic_count',\n",
       "                 'Abuse.completed_afn_orders_by_customer_marketplace.n_afn_order_count_last_365_days',\n",
       "                 'Abuse.completed_afn_orders_by_customer_marketplace.n_afn_unit_amount_last_365_days',\n",
       "                 'Abuse.completed_afn_orders_by_customer_marketplace.n_afn_unit_count_last_365_days',\n",
       "                 'Abuse.completed_mfn_orders_by_customer_marketplace.n_mfn_order_count_last_365_days',\n",
       "                 'Abuse.completed_mfn_orders_by_customer_marketplace.n_mfn_unit_amount_last_365_days',\n",
       "                 'Abuse.completed_mfn_orders_by_customer_marketplace.n_mfn_unit_count_last_365_days',\n",
       "                 'Abuse.dnr_by_customer_marketplace.n_dnr_amount_si_last_365_days',\n",
       "                 'Abuse.dnr_by_customer_marketplace.n_dnr_order_count_last_365_days',\n",
       "                 'Abuse.dnr_by_customer_marketplace.n_dnr_unit_amount_last_365_days',\n",
       "                 'Abuse.dnr_by_customer_marketplace.n_dnr_unit_count_last_365_days',\n",
       "                 'Abuse.mfn_a2z_claims_by_customer_na.n_mfn_claims_amount_last_365_days',\n",
       "                 'Abuse.mfn_a2z_claims_by_customer_na.n_mfn_claims_count_last_365_days',\n",
       "                 'Abuse.mfn_a2z_claims_by_customer_na.n_mfn_diff_claims_amount_last_365_days',\n",
       "                 'Abuse.mfn_a2z_claims_by_customer_na.n_mfn_diff_claims_count_last_365_days',\n",
       "                 'Abuse.mfn_a2z_claims_by_customer_na.n_mfn_notr_claims_amount_last_365_days',\n",
       "                 'Abuse.mfn_a2z_claims_by_customer_na.n_mfn_notr_claims_count_last_365_days',\n",
       "                 'Abuse.mfn_categorized_refunds_by_customer_marketplace.n_mfn_diff_refunds_order_count_last_365_days',\n",
       "                 'Abuse.mfn_categorized_refunds_by_customer_marketplace.n_mfn_diff_refunds_unit_amount_last_365_days',\n",
       "                 'Abuse.mfn_categorized_refunds_by_customer_marketplace.n_mfn_diff_refunds_unit_count_last_365_days',\n",
       "                 'Abuse.mfn_categorized_refunds_by_customer_marketplace.n_mfn_notr_refunds_order_count_last_365_days',\n",
       "                 'Abuse.mfn_categorized_refunds_by_customer_marketplace.n_mfn_notr_refunds_unit_amount_last_365_days',\n",
       "                 'Abuse.mfn_categorized_refunds_by_customer_marketplace.n_mfn_notr_refunds_unit_count_last_365_days',\n",
       "                 'Abuse.mfn_categorized_refunds_si_by_customer_marketplace.n_mfn_diff_refunds_si_365_days',\n",
       "                 'Abuse.mfn_categorized_refunds_si_by_customer_marketplace.n_mfn_notr_refunds_si_365_days',\n",
       "                 'Abuse.mfn_refunds_by_customer_marketplace.n_mfn_refund_order_count_last_365_days',\n",
       "                 'Abuse.mfn_refunds_by_customer_marketplace.n_mfn_refund_unit_amount_last_365_days',\n",
       "                 'Abuse.mfn_refunds_by_customer_marketplace.n_mfn_refund_unit_count_last_365_days',\n",
       "                 'Abuse.mfn_refunds_si_by_customer_marketplace.n_mfn_refund_amount_si_last_365_days',\n",
       "                 'Abuse.order_to_execution_time_from_eventvariables.n_order_to_execution',\n",
       "                 'Abuse.shiptrack_flag_by_order.n_any_available_for_pickup',\n",
       "                 'Abuse.shiptrack_flag_by_order.n_any_delivered',\n",
       "                 'Abuse.shiptrack_flag_by_order.n_any_partial_delivered',\n",
       "                 'Abuse.shiptrack_flag_by_order.n_any_returned',\n",
       "                 'Abuse.shiptrack_flag_by_order.n_any_returning',\n",
       "                 'Abuse.shiptrack_flag_by_order.n_any_undeliverable',\n",
       "                 'COMP_DAYOB',\n",
       "                 'PAYMETH',\n",
       "                 'abuse_type',\n",
       "                 'claimAmount_value',\n",
       "                 'claim_reason',\n",
       "                 'claimantInfo_allClaimCount365day',\n",
       "                 'claimantInfo_lifetimeClaimCount',\n",
       "                 'claimantInfo_pendingClaimCount',\n",
       "                 'claimantInfo_status',\n",
       "                 'concession_type',\n",
       "                 'is_abuse',\n",
       "                 'marketplace_id',\n",
       "                 'objectId',\n",
       "                 'order_id',\n",
       "                 'shipments_status',\n",
       "                 'tag_date',\n",
       "                 'transactionDate'],\n",
       "                'job_type': 'training',\n",
       "                'pipeline_s3_loc': 's3://sandboxdependency-abuse-secureaisandboxteamshare-1l77v9am252um/MODS/lukexie-AtoZ-xgboost-NA_1.3.1',\n",
       "                'output_format': 'PARQUET',\n",
       "                'output_save_mode': 'ERRORIFEXISTS',\n",
       "                'output_file_count': 0,\n",
       "                'keep_dot_in_output_schema': False,\n",
       "                'include_header_in_s3_output': True},\n",
       "               'cradle_job_spec': {'__model_type__': 'CradleJobSpecificationConfig',\n",
       "                'cradle_account': 'Buyer-Abuse-RnD-Dev',\n",
       "                'cluster_type': 'MEDIUM',\n",
       "                'extra_spark_job_arguments': '',\n",
       "                'job_retry_count': 4}},\n",
       "              'CradleDataLoading_calibration': {'__model_type__': 'CradleDataLoadConfig',\n",
       "               'job_type': 'calibration',\n",
       "               'data_sources_spec': {'__model_type__': 'DataSourcesSpecificationConfig',\n",
       "                'start_date': '2025-04-17T00:00:00',\n",
       "                'end_date': '2025-04-28T00:00:00',\n",
       "                'data_sources': {'__type_info__': 'list',\n",
       "                 'value': [{'__model_type__': 'DataSourceConfig',\n",
       "                   'data_source_name': 'RAW_MDS_NA',\n",
       "                   'data_source_type': 'MDS',\n",
       "                   'mds_data_source_properties': {'__model_type__': 'MdsDataSourceConfig',\n",
       "                    'service_name': 'AtoZ',\n",
       "                    'region': 'NA',\n",
       "                    'output_schema': [{'field_name': 'Abuse.completed_mfn_orders_by_customer_marketplace.n_mfn_unit_count_last_365_days',\n",
       "                      'field_type': 'STRING'},\n",
       "                     {'field_name': 'Abuse.bsm_stats_for_evaluated_mfn_concessions_by_customer_na.n_min_buyer_message_count',\n",
       "                      'field_type': 'STRING'},\n",
       "                     {'field_name': 'Abuse.shiptrack_flag_by_order.n_any_returned',\n",
       "                      'field_type': 'STRING'},\n",
       "                     {'field_name': 'Abuse.completed_afn_orders_by_customer_marketplace.n_afn_unit_count_last_365_days',\n",
       "                      'field_type': 'STRING'},\n",
       "                     {'field_name': 'Abuse.bsm_stats_for_evaluated_mfn_concessions_by_customer_na.n_max_order_message_time_gap',\n",
       "                      'field_type': 'STRING'},\n",
       "                     {'field_name': 'Abuse.shiptrack_flag_by_order.n_any_available_for_pickup',\n",
       "                      'field_type': 'STRING'},\n",
       "                     {'field_name': 'transactionDate', 'field_type': 'STRING'},\n",
       "                     {'field_name': 'Abuse.abuse_fap_action_by_customer_inline_transform_na.n_concession_solicit_count_last_365_days',\n",
       "                      'field_type': 'STRING'},\n",
       "                     {'field_name': 'Abuse.mfn_categorized_refunds_by_customer_marketplace.n_mfn_diff_refunds_order_count_last_365_days',\n",
       "                      'field_type': 'STRING'},\n",
       "                     {'field_name': 'Abuse.mfn_categorized_refunds_si_by_customer_marketplace.n_mfn_notr_refunds_si_365_days',\n",
       "                      'field_type': 'STRING'},\n",
       "                     {'field_name': 'Abuse.bsm_stats_for_evaluated_mfn_concessions_by_customer_na.n_total_topic_count',\n",
       "                      'field_type': 'STRING'},\n",
       "                     {'field_name': 'claimantInfo_status',\n",
       "                      'field_type': 'STRING'},\n",
       "                     {'field_name': 'Abuse.completed_afn_orders_by_customer_marketplace.n_afn_order_count_last_365_days',\n",
       "                      'field_type': 'STRING'},\n",
       "                     {'field_name': 'Abuse.mfn_categorized_refunds_si_by_customer_marketplace.n_mfn_diff_refunds_si_365_days',\n",
       "                      'field_type': 'STRING'},\n",
       "                     {'field_name': 'Abuse.abuse_fap_action_by_customer_inline_transform_na.n_concession_warn_count_last_365_days',\n",
       "                      'field_type': 'STRING'},\n",
       "                     {'field_name': 'Abuse.mfn_refunds_by_customer_marketplace.n_mfn_refund_unit_amount_last_365_days',\n",
       "                      'field_type': 'STRING'},\n",
       "                     {'field_name': 'Abuse.bsm_stats_for_evaluated_mfn_concessions_by_customer_na.n_min_buyer_order_message_time_gap',\n",
       "                      'field_type': 'STRING'},\n",
       "                     {'field_name': 'Abuse.bsm_stats_for_evaluated_mfn_concessions_by_customer_na.n_total_seller_message_count',\n",
       "                      'field_type': 'STRING'},\n",
       "                     {'field_name': 'Abuse.mfn_a2z_claims_by_customer_na.n_mfn_claims_count_last_365_days',\n",
       "                      'field_type': 'STRING'},\n",
       "                     {'field_name': 'Abuse.mfn_refunds_by_customer_marketplace.n_mfn_refund_order_count_last_365_days',\n",
       "                      'field_type': 'STRING'},\n",
       "                     {'field_name': 'Abuse.bsm_stats_for_evaluated_mfn_concessions_by_customer_na.n_max_buyer_order_message_time_gap',\n",
       "                      'field_type': 'STRING'},\n",
       "                     {'field_name': 'Abuse.completed_afn_orders_by_customer_marketplace.n_afn_unit_amount_last_365_days',\n",
       "                      'field_type': 'STRING'},\n",
       "                     {'field_name': 'Abuse.completed_mfn_orders_by_customer_marketplace.n_mfn_order_count_last_365_days',\n",
       "                      'field_type': 'STRING'},\n",
       "                     {'field_name': 'Abuse.mfn_a2z_claims_by_customer_na.n_mfn_notr_claims_amount_last_365_days',\n",
       "                      'field_type': 'STRING'},\n",
       "                     {'field_name': 'COMP_DAYOB', 'field_type': 'STRING'},\n",
       "                     {'field_name': 'Abuse.mfn_categorized_refunds_by_customer_marketplace.n_mfn_notr_refunds_unit_amount_last_365_days',\n",
       "                      'field_type': 'STRING'},\n",
       "                     {'field_name': 'Abuse.dnr_by_customer_marketplace.n_dnr_amount_si_last_365_days',\n",
       "                      'field_type': 'STRING'},\n",
       "                     {'field_name': 'Abuse.mfn_categorized_refunds_by_customer_marketplace.n_mfn_notr_refunds_order_count_last_365_days',\n",
       "                      'field_type': 'STRING'},\n",
       "                     {'field_name': 'Abuse.mfn_refunds_si_by_customer_marketplace.n_mfn_refund_amount_si_last_365_days',\n",
       "                      'field_type': 'STRING'},\n",
       "                     {'field_name': 'Abuse.bsm_stats_for_evaluated_mfn_concessions_by_customer_na.n_total_message_count',\n",
       "                      'field_type': 'STRING'},\n",
       "                     {'field_name': 'shipments_status',\n",
       "                      'field_type': 'STRING'},\n",
       "                     {'field_name': 'Abuse.completed_mfn_orders_by_customer_marketplace.n_mfn_unit_amount_last_365_days',\n",
       "                      'field_type': 'STRING'},\n",
       "                     {'field_name': 'Abuse.bsm_stats_for_evaluated_mfn_concessions_by_customer_na.n_max_seller_order_message_time_gap',\n",
       "                      'field_type': 'STRING'},\n",
       "                     {'field_name': 'claimantInfo_allClaimCount365day',\n",
       "                      'field_type': 'STRING'},\n",
       "                     {'field_name': 'Abuse.bsm_stats_for_evaluated_mfn_concessions_by_customer_na.n_message_count_with_return_keywords_si',\n",
       "                      'field_type': 'STRING'},\n",
       "                     {'field_name': 'Abuse.dnr_by_customer_marketplace.n_dnr_unit_count_last_365_days',\n",
       "                      'field_type': 'STRING'},\n",
       "                     {'field_name': 'Abuse.shiptrack_flag_by_order.n_any_undeliverable',\n",
       "                      'field_type': 'STRING'},\n",
       "                     {'field_name': 'Abuse.mfn_a2z_claims_by_customer_na.n_mfn_diff_claims_count_last_365_days',\n",
       "                      'field_type': 'STRING'},\n",
       "                     {'field_name': 'Abuse.bsm_stats_for_evaluated_mfn_concessions_by_customer_na.n_min_seller_order_message_time_gap',\n",
       "                      'field_type': 'STRING'},\n",
       "                     {'field_name': 'Abuse.mfn_refunds_by_customer_marketplace.n_mfn_refund_unit_count_last_365_days',\n",
       "                      'field_type': 'STRING'},\n",
       "                     {'field_name': 'Abuse.order_to_execution_time_from_eventvariables.n_order_to_execution',\n",
       "                      'field_type': 'STRING'},\n",
       "                     {'field_name': 'claim_reason', 'field_type': 'STRING'},\n",
       "                     {'field_name': 'Abuse.mfn_a2z_claims_by_customer_na.n_mfn_diff_claims_amount_last_365_days',\n",
       "                      'field_type': 'STRING'},\n",
       "                     {'field_name': 'Abuse.shiptrack_flag_by_order.n_any_partial_delivered',\n",
       "                      'field_type': 'STRING'},\n",
       "                     {'field_name': 'claimantInfo_pendingClaimCount',\n",
       "                      'field_type': 'STRING'},\n",
       "                     {'field_name': 'Abuse.dnr_by_customer_marketplace.n_dnr_order_count_last_365_days',\n",
       "                      'field_type': 'STRING'},\n",
       "                     {'field_name': 'claimAmount_value',\n",
       "                      'field_type': 'STRING'},\n",
       "                     {'field_name': 'Abuse.shiptrack_flag_by_order.n_any_returning',\n",
       "                      'field_type': 'STRING'},\n",
       "                     {'field_name': 'Abuse.mfn_categorized_refunds_by_customer_marketplace.n_mfn_diff_refunds_unit_count_last_365_days',\n",
       "                      'field_type': 'STRING'},\n",
       "                     {'field_name': 'Abuse.abuse_fap_action_by_customer_inline_transform_na.n_claims_solicit_count_last_365_days',\n",
       "                      'field_type': 'STRING'},\n",
       "                     {'field_name': 'Abuse.bsm_stats_for_evaluated_mfn_concessions_by_customer_na.n_total_buyer_message_count',\n",
       "                      'field_type': 'STRING'},\n",
       "                     {'field_name': 'Abuse.dnr_by_customer_marketplace.n_dnr_unit_amount_last_365_days',\n",
       "                      'field_type': 'STRING'},\n",
       "                     {'field_name': 'Abuse.bsm_stats_for_evaluated_mfn_concessions_by_customer_na.n_message_count_with_diff_topic_si',\n",
       "                      'field_type': 'STRING'},\n",
       "                     {'field_name': 'Abuse.mfn_a2z_claims_by_customer_na.n_mfn_notr_claims_count_last_365_days',\n",
       "                      'field_type': 'STRING'},\n",
       "                     {'field_name': 'Abuse.mfn_a2z_claims_by_customer_na.n_mfn_claims_amount_last_365_days',\n",
       "                      'field_type': 'STRING'},\n",
       "                     {'field_name': 'Abuse.bsm_stats_for_evaluated_mfn_concessions_by_customer_na.n_min_seller_message_count',\n",
       "                      'field_type': 'STRING'},\n",
       "                     {'field_name': 'Abuse.bsm_stats_for_evaluated_mfn_concessions_by_customer_na.n_message_count_with_notr_topic_si',\n",
       "                      'field_type': 'STRING'},\n",
       "                     {'field_name': 'Abuse.mfn_categorized_refunds_by_customer_marketplace.n_mfn_diff_refunds_unit_amount_last_365_days',\n",
       "                      'field_type': 'STRING'},\n",
       "                     {'field_name': 'Abuse.mfn_categorized_refunds_by_customer_marketplace.n_mfn_notr_refunds_unit_count_last_365_days',\n",
       "                      'field_type': 'STRING'},\n",
       "                     {'field_name': 'Abuse.bsm_stats_for_evaluated_mfn_concessions_by_customer_na.n_min_message_count',\n",
       "                      'field_type': 'STRING'},\n",
       "                     {'field_name': 'Abuse.bsm_stats_for_evaluated_mfn_concessions_by_customer_na.n_min_order_message_time_gap',\n",
       "                      'field_type': 'STRING'},\n",
       "                     {'field_name': 'PAYMETH', 'field_type': 'STRING'},\n",
       "                     {'field_name': 'claimantInfo_lifetimeClaimCount',\n",
       "                      'field_type': 'STRING'},\n",
       "                     {'field_name': 'objectId', 'field_type': 'STRING'},\n",
       "                     {'field_name': 'Abuse.abuse_fap_action_by_customer_inline_transform_na.n_claims_warn_count_last_365_days',\n",
       "                      'field_type': 'STRING'},\n",
       "                     {'field_name': 'Abuse.shiptrack_flag_by_order.n_any_delivered',\n",
       "                      'field_type': 'STRING'}],\n",
       "                    'org_id': 0,\n",
       "                    'use_hourly_edx_data_set': False}},\n",
       "                  {'__model_type__': 'DataSourceConfig',\n",
       "                   'data_source_name': 'TAGS',\n",
       "                   'data_source_type': 'EDX',\n",
       "                   'edx_data_source_properties': {'__model_type__': 'EdxDataSourceConfig',\n",
       "                    'edx_provider': 'trms-abuse-analytics',\n",
       "                    'edx_subject': 'qingyuye-notr-exp',\n",
       "                    'edx_dataset': 'atoz-tag',\n",
       "                    'edx_manifest_key': '[\"24292902\",2025-04-17T00:00:00Z,2025-04-28T00:00:00Z,\"NA\"]',\n",
       "                    'schema_overrides': [{'field_name': 'order_id',\n",
       "                      'field_type': 'STRING'},\n",
       "                     {'field_name': 'marketplace_id', 'field_type': 'STRING'},\n",
       "                     {'field_name': 'tag_date', 'field_type': 'STRING'},\n",
       "                     {'field_name': 'is_abuse', 'field_type': 'STRING'},\n",
       "                     {'field_name': 'abuse_type', 'field_type': 'STRING'},\n",
       "                     {'field_name': 'concession_type',\n",
       "                      'field_type': 'STRING'}]}}]}},\n",
       "               'transform_spec': {'__model_type__': 'TransformSpecificationConfig',\n",
       "                'transform_sql': '\\nSELECT\\n    Abuse__DOT__abuse_fap_action_by_customer_inline_transform_na__DOT__n_claims_solicit_count_last_365_days,\\n    Abuse__DOT__abuse_fap_action_by_customer_inline_transform_na__DOT__n_claims_warn_count_last_365_days,\\n    Abuse__DOT__abuse_fap_action_by_customer_inline_transform_na__DOT__n_concession_solicit_count_last_365_days,\\n    Abuse__DOT__abuse_fap_action_by_customer_inline_transform_na__DOT__n_concession_warn_count_last_365_days,\\n    Abuse__DOT__bsm_stats_for_evaluated_mfn_concessions_by_customer_na__DOT__n_max_buyer_order_message_time_gap,\\n    Abuse__DOT__bsm_stats_for_evaluated_mfn_concessions_by_customer_na__DOT__n_max_order_message_time_gap,\\n    Abuse__DOT__bsm_stats_for_evaluated_mfn_concessions_by_customer_na__DOT__n_max_seller_order_message_time_gap,\\n    Abuse__DOT__bsm_stats_for_evaluated_mfn_concessions_by_customer_na__DOT__n_message_count_with_diff_topic_si,\\n    Abuse__DOT__bsm_stats_for_evaluated_mfn_concessions_by_customer_na__DOT__n_message_count_with_notr_topic_si,\\n    Abuse__DOT__bsm_stats_for_evaluated_mfn_concessions_by_customer_na__DOT__n_message_count_with_return_keywords_si,\\n    Abuse__DOT__bsm_stats_for_evaluated_mfn_concessions_by_customer_na__DOT__n_min_buyer_message_count,\\n    Abuse__DOT__bsm_stats_for_evaluated_mfn_concessions_by_customer_na__DOT__n_min_buyer_order_message_time_gap,\\n    Abuse__DOT__bsm_stats_for_evaluated_mfn_concessions_by_customer_na__DOT__n_min_message_count,\\n    Abuse__DOT__bsm_stats_for_evaluated_mfn_concessions_by_customer_na__DOT__n_min_order_message_time_gap,\\n    Abuse__DOT__bsm_stats_for_evaluated_mfn_concessions_by_customer_na__DOT__n_min_seller_message_count,\\n    Abuse__DOT__bsm_stats_for_evaluated_mfn_concessions_by_customer_na__DOT__n_min_seller_order_message_time_gap,\\n    Abuse__DOT__bsm_stats_for_evaluated_mfn_concessions_by_customer_na__DOT__n_total_buyer_message_count,\\n    Abuse__DOT__bsm_stats_for_evaluated_mfn_concessions_by_customer_na__DOT__n_total_message_count,\\n    Abuse__DOT__bsm_stats_for_evaluated_mfn_concessions_by_customer_na__DOT__n_total_seller_message_count,\\n    Abuse__DOT__bsm_stats_for_evaluated_mfn_concessions_by_customer_na__DOT__n_total_topic_count,\\n    Abuse__DOT__completed_afn_orders_by_customer_marketplace__DOT__n_afn_order_count_last_365_days,\\n    Abuse__DOT__completed_afn_orders_by_customer_marketplace__DOT__n_afn_unit_amount_last_365_days,\\n    Abuse__DOT__completed_afn_orders_by_customer_marketplace__DOT__n_afn_unit_count_last_365_days,\\n    Abuse__DOT__completed_mfn_orders_by_customer_marketplace__DOT__n_mfn_order_count_last_365_days,\\n    Abuse__DOT__completed_mfn_orders_by_customer_marketplace__DOT__n_mfn_unit_amount_last_365_days,\\n    Abuse__DOT__completed_mfn_orders_by_customer_marketplace__DOT__n_mfn_unit_count_last_365_days,\\n    Abuse__DOT__dnr_by_customer_marketplace__DOT__n_dnr_amount_si_last_365_days,\\n    Abuse__DOT__dnr_by_customer_marketplace__DOT__n_dnr_order_count_last_365_days,\\n    Abuse__DOT__dnr_by_customer_marketplace__DOT__n_dnr_unit_amount_last_365_days,\\n    Abuse__DOT__dnr_by_customer_marketplace__DOT__n_dnr_unit_count_last_365_days,\\n    Abuse__DOT__mfn_a2z_claims_by_customer_na__DOT__n_mfn_claims_amount_last_365_days,\\n    Abuse__DOT__mfn_a2z_claims_by_customer_na__DOT__n_mfn_claims_count_last_365_days,\\n    Abuse__DOT__mfn_a2z_claims_by_customer_na__DOT__n_mfn_diff_claims_amount_last_365_days,\\n    Abuse__DOT__mfn_a2z_claims_by_customer_na__DOT__n_mfn_diff_claims_count_last_365_days,\\n    Abuse__DOT__mfn_a2z_claims_by_customer_na__DOT__n_mfn_notr_claims_amount_last_365_days,\\n    Abuse__DOT__mfn_a2z_claims_by_customer_na__DOT__n_mfn_notr_claims_count_last_365_days,\\n    Abuse__DOT__mfn_categorized_refunds_by_customer_marketplace__DOT__n_mfn_diff_refunds_order_count_last_365_days,\\n    Abuse__DOT__mfn_categorized_refunds_by_customer_marketplace__DOT__n_mfn_diff_refunds_unit_amount_last_365_days,\\n    Abuse__DOT__mfn_categorized_refunds_by_customer_marketplace__DOT__n_mfn_diff_refunds_unit_count_last_365_days,\\n    Abuse__DOT__mfn_categorized_refunds_by_customer_marketplace__DOT__n_mfn_notr_refunds_order_count_last_365_days,\\n    Abuse__DOT__mfn_categorized_refunds_by_customer_marketplace__DOT__n_mfn_notr_refunds_unit_amount_last_365_days,\\n    Abuse__DOT__mfn_categorized_refunds_by_customer_marketplace__DOT__n_mfn_notr_refunds_unit_count_last_365_days,\\n    Abuse__DOT__mfn_categorized_refunds_si_by_customer_marketplace__DOT__n_mfn_diff_refunds_si_365_days,\\n    Abuse__DOT__mfn_categorized_refunds_si_by_customer_marketplace__DOT__n_mfn_notr_refunds_si_365_days,\\n    Abuse__DOT__mfn_refunds_by_customer_marketplace__DOT__n_mfn_refund_order_count_last_365_days,\\n    Abuse__DOT__mfn_refunds_by_customer_marketplace__DOT__n_mfn_refund_unit_amount_last_365_days,\\n    Abuse__DOT__mfn_refunds_by_customer_marketplace__DOT__n_mfn_refund_unit_count_last_365_days,\\n    Abuse__DOT__mfn_refunds_si_by_customer_marketplace__DOT__n_mfn_refund_amount_si_last_365_days,\\n    Abuse__DOT__order_to_execution_time_from_eventvariables__DOT__n_order_to_execution,\\n    Abuse__DOT__shiptrack_flag_by_order__DOT__n_any_available_for_pickup,\\n    Abuse__DOT__shiptrack_flag_by_order__DOT__n_any_delivered,\\n    Abuse__DOT__shiptrack_flag_by_order__DOT__n_any_partial_delivered,\\n    Abuse__DOT__shiptrack_flag_by_order__DOT__n_any_returned,\\n    Abuse__DOT__shiptrack_flag_by_order__DOT__n_any_returning,\\n    Abuse__DOT__shiptrack_flag_by_order__DOT__n_any_undeliverable,\\n    COMP_DAYOB,\\n    PAYMETH,\\n    abuse_type,\\n    claimAmount_value,\\n    claim_reason,\\n    claimantInfo_allClaimCount365day,\\n    claimantInfo_lifetimeClaimCount,\\n    claimantInfo_pendingClaimCount,\\n    claimantInfo_status,\\n    concession_type,\\n    is_abuse,\\n    marketplace_id,\\n    objectId,\\n    order_id,\\n    shipments_status,\\n    tag_date,\\n    transactionDate\\nFROM (\\n    SELECT\\n        RAW_MDS_NA.Abuse__DOT__abuse_fap_action_by_customer_inline_transform_na__DOT__n_claims_solicit_count_last_365_days,\\n        RAW_MDS_NA.Abuse__DOT__abuse_fap_action_by_customer_inline_transform_na__DOT__n_claims_warn_count_last_365_days,\\n        RAW_MDS_NA.Abuse__DOT__abuse_fap_action_by_customer_inline_transform_na__DOT__n_concession_solicit_count_last_365_days,\\n        RAW_MDS_NA.Abuse__DOT__abuse_fap_action_by_customer_inline_transform_na__DOT__n_concession_warn_count_last_365_days,\\n        RAW_MDS_NA.Abuse__DOT__bsm_stats_for_evaluated_mfn_concessions_by_customer_na__DOT__n_max_buyer_order_message_time_gap,\\n        RAW_MDS_NA.Abuse__DOT__bsm_stats_for_evaluated_mfn_concessions_by_customer_na__DOT__n_max_order_message_time_gap,\\n        RAW_MDS_NA.Abuse__DOT__bsm_stats_for_evaluated_mfn_concessions_by_customer_na__DOT__n_max_seller_order_message_time_gap,\\n        RAW_MDS_NA.Abuse__DOT__bsm_stats_for_evaluated_mfn_concessions_by_customer_na__DOT__n_message_count_with_diff_topic_si,\\n        RAW_MDS_NA.Abuse__DOT__bsm_stats_for_evaluated_mfn_concessions_by_customer_na__DOT__n_message_count_with_notr_topic_si,\\n        RAW_MDS_NA.Abuse__DOT__bsm_stats_for_evaluated_mfn_concessions_by_customer_na__DOT__n_message_count_with_return_keywords_si,\\n        RAW_MDS_NA.Abuse__DOT__bsm_stats_for_evaluated_mfn_concessions_by_customer_na__DOT__n_min_buyer_message_count,\\n        RAW_MDS_NA.Abuse__DOT__bsm_stats_for_evaluated_mfn_concessions_by_customer_na__DOT__n_min_buyer_order_message_time_gap,\\n        RAW_MDS_NA.Abuse__DOT__bsm_stats_for_evaluated_mfn_concessions_by_customer_na__DOT__n_min_message_count,\\n        RAW_MDS_NA.Abuse__DOT__bsm_stats_for_evaluated_mfn_concessions_by_customer_na__DOT__n_min_order_message_time_gap,\\n        RAW_MDS_NA.Abuse__DOT__bsm_stats_for_evaluated_mfn_concessions_by_customer_na__DOT__n_min_seller_message_count,\\n        RAW_MDS_NA.Abuse__DOT__bsm_stats_for_evaluated_mfn_concessions_by_customer_na__DOT__n_min_seller_order_message_time_gap,\\n        RAW_MDS_NA.Abuse__DOT__bsm_stats_for_evaluated_mfn_concessions_by_customer_na__DOT__n_total_buyer_message_count,\\n        RAW_MDS_NA.Abuse__DOT__bsm_stats_for_evaluated_mfn_concessions_by_customer_na__DOT__n_total_message_count,\\n        RAW_MDS_NA.Abuse__DOT__bsm_stats_for_evaluated_mfn_concessions_by_customer_na__DOT__n_total_seller_message_count,\\n        RAW_MDS_NA.Abuse__DOT__bsm_stats_for_evaluated_mfn_concessions_by_customer_na__DOT__n_total_topic_count,\\n        RAW_MDS_NA.Abuse__DOT__completed_afn_orders_by_customer_marketplace__DOT__n_afn_order_count_last_365_days,\\n        RAW_MDS_NA.Abuse__DOT__completed_afn_orders_by_customer_marketplace__DOT__n_afn_unit_amount_last_365_days,\\n        RAW_MDS_NA.Abuse__DOT__completed_afn_orders_by_customer_marketplace__DOT__n_afn_unit_count_last_365_days,\\n        RAW_MDS_NA.Abuse__DOT__completed_mfn_orders_by_customer_marketplace__DOT__n_mfn_order_count_last_365_days,\\n        RAW_MDS_NA.Abuse__DOT__completed_mfn_orders_by_customer_marketplace__DOT__n_mfn_unit_amount_last_365_days,\\n        RAW_MDS_NA.Abuse__DOT__completed_mfn_orders_by_customer_marketplace__DOT__n_mfn_unit_count_last_365_days,\\n        RAW_MDS_NA.Abuse__DOT__dnr_by_customer_marketplace__DOT__n_dnr_amount_si_last_365_days,\\n        RAW_MDS_NA.Abuse__DOT__dnr_by_customer_marketplace__DOT__n_dnr_order_count_last_365_days,\\n        RAW_MDS_NA.Abuse__DOT__dnr_by_customer_marketplace__DOT__n_dnr_unit_amount_last_365_days,\\n        RAW_MDS_NA.Abuse__DOT__dnr_by_customer_marketplace__DOT__n_dnr_unit_count_last_365_days,\\n        RAW_MDS_NA.Abuse__DOT__mfn_a2z_claims_by_customer_na__DOT__n_mfn_claims_amount_last_365_days,\\n        RAW_MDS_NA.Abuse__DOT__mfn_a2z_claims_by_customer_na__DOT__n_mfn_claims_count_last_365_days,\\n        RAW_MDS_NA.Abuse__DOT__mfn_a2z_claims_by_customer_na__DOT__n_mfn_diff_claims_amount_last_365_days,\\n        RAW_MDS_NA.Abuse__DOT__mfn_a2z_claims_by_customer_na__DOT__n_mfn_diff_claims_count_last_365_days,\\n        RAW_MDS_NA.Abuse__DOT__mfn_a2z_claims_by_customer_na__DOT__n_mfn_notr_claims_amount_last_365_days,\\n        RAW_MDS_NA.Abuse__DOT__mfn_a2z_claims_by_customer_na__DOT__n_mfn_notr_claims_count_last_365_days,\\n        RAW_MDS_NA.Abuse__DOT__mfn_categorized_refunds_by_customer_marketplace__DOT__n_mfn_diff_refunds_order_count_last_365_days,\\n        RAW_MDS_NA.Abuse__DOT__mfn_categorized_refunds_by_customer_marketplace__DOT__n_mfn_diff_refunds_unit_amount_last_365_days,\\n        RAW_MDS_NA.Abuse__DOT__mfn_categorized_refunds_by_customer_marketplace__DOT__n_mfn_diff_refunds_unit_count_last_365_days,\\n        RAW_MDS_NA.Abuse__DOT__mfn_categorized_refunds_by_customer_marketplace__DOT__n_mfn_notr_refunds_order_count_last_365_days,\\n        RAW_MDS_NA.Abuse__DOT__mfn_categorized_refunds_by_customer_marketplace__DOT__n_mfn_notr_refunds_unit_amount_last_365_days,\\n        RAW_MDS_NA.Abuse__DOT__mfn_categorized_refunds_by_customer_marketplace__DOT__n_mfn_notr_refunds_unit_count_last_365_days,\\n        RAW_MDS_NA.Abuse__DOT__mfn_categorized_refunds_si_by_customer_marketplace__DOT__n_mfn_diff_refunds_si_365_days,\\n        RAW_MDS_NA.Abuse__DOT__mfn_categorized_refunds_si_by_customer_marketplace__DOT__n_mfn_notr_refunds_si_365_days,\\n        RAW_MDS_NA.Abuse__DOT__mfn_refunds_by_customer_marketplace__DOT__n_mfn_refund_order_count_last_365_days,\\n        RAW_MDS_NA.Abuse__DOT__mfn_refunds_by_customer_marketplace__DOT__n_mfn_refund_unit_amount_last_365_days,\\n        RAW_MDS_NA.Abuse__DOT__mfn_refunds_by_customer_marketplace__DOT__n_mfn_refund_unit_count_last_365_days,\\n        RAW_MDS_NA.Abuse__DOT__mfn_refunds_si_by_customer_marketplace__DOT__n_mfn_refund_amount_si_last_365_days,\\n        RAW_MDS_NA.Abuse__DOT__order_to_execution_time_from_eventvariables__DOT__n_order_to_execution,\\n        RAW_MDS_NA.Abuse__DOT__shiptrack_flag_by_order__DOT__n_any_available_for_pickup,\\n        RAW_MDS_NA.Abuse__DOT__shiptrack_flag_by_order__DOT__n_any_delivered,\\n        RAW_MDS_NA.Abuse__DOT__shiptrack_flag_by_order__DOT__n_any_partial_delivered,\\n        RAW_MDS_NA.Abuse__DOT__shiptrack_flag_by_order__DOT__n_any_returned,\\n        RAW_MDS_NA.Abuse__DOT__shiptrack_flag_by_order__DOT__n_any_returning,\\n        RAW_MDS_NA.Abuse__DOT__shiptrack_flag_by_order__DOT__n_any_undeliverable,\\n        RAW_MDS_NA.COMP_DAYOB,\\n        RAW_MDS_NA.PAYMETH,\\n        RAW_MDS_NA.claimAmount_value,\\n        RAW_MDS_NA.claim_reason,\\n        RAW_MDS_NA.claimantInfo_allClaimCount365day,\\n        RAW_MDS_NA.claimantInfo_lifetimeClaimCount,\\n        RAW_MDS_NA.claimantInfo_pendingClaimCount,\\n        RAW_MDS_NA.claimantInfo_status,\\n        RAW_MDS_NA.objectId,\\n        RAW_MDS_NA.shipments_status,\\n        RAW_MDS_NA.transactionDate,\\n        TAGS.abuse_type,\\n        TAGS.concession_type,\\n        TAGS.is_abuse,\\n        TAGS.marketplace_id,\\n        TAGS.order_id,\\n        TAGS.tag_date,\\n        ROW_NUMBER() OVER (PARTITION BY RAW_MDS_NA.objectId, TAGS.order_id ORDER BY RAW_MDS_NA.transactionDate DESC) as row_num\\n    FROM RAW_MDS_NA\\n    JOIN TAGS ON RAW_MDS_NA.objectId = TAGS.order_id\\n)\\nWHERE row_num = 1\\n',\n",
       "                'job_split_options': {'__model_type__': 'JobSplitOptionsConfig',\n",
       "                 'split_job': False,\n",
       "                 'days_per_split': 7}},\n",
       "               'output_spec': {'__model_type__': 'OutputSpecificationConfig',\n",
       "                'output_schema': ['Abuse.abuse_fap_action_by_customer_inline_transform_na.n_claims_solicit_count_last_365_days',\n",
       "                 'Abuse.abuse_fap_action_by_customer_inline_transform_na.n_claims_warn_count_last_365_days',\n",
       "                 'Abuse.abuse_fap_action_by_customer_inline_transform_na.n_concession_solicit_count_last_365_days',\n",
       "                 'Abuse.abuse_fap_action_by_customer_inline_transform_na.n_concession_warn_count_last_365_days',\n",
       "                 'Abuse.bsm_stats_for_evaluated_mfn_concessions_by_customer_na.n_max_buyer_order_message_time_gap',\n",
       "                 'Abuse.bsm_stats_for_evaluated_mfn_concessions_by_customer_na.n_max_order_message_time_gap',\n",
       "                 'Abuse.bsm_stats_for_evaluated_mfn_concessions_by_customer_na.n_max_seller_order_message_time_gap',\n",
       "                 'Abuse.bsm_stats_for_evaluated_mfn_concessions_by_customer_na.n_message_count_with_diff_topic_si',\n",
       "                 'Abuse.bsm_stats_for_evaluated_mfn_concessions_by_customer_na.n_message_count_with_notr_topic_si',\n",
       "                 'Abuse.bsm_stats_for_evaluated_mfn_concessions_by_customer_na.n_message_count_with_return_keywords_si',\n",
       "                 'Abuse.bsm_stats_for_evaluated_mfn_concessions_by_customer_na.n_min_buyer_message_count',\n",
       "                 'Abuse.bsm_stats_for_evaluated_mfn_concessions_by_customer_na.n_min_buyer_order_message_time_gap',\n",
       "                 'Abuse.bsm_stats_for_evaluated_mfn_concessions_by_customer_na.n_min_message_count',\n",
       "                 'Abuse.bsm_stats_for_evaluated_mfn_concessions_by_customer_na.n_min_order_message_time_gap',\n",
       "                 'Abuse.bsm_stats_for_evaluated_mfn_concessions_by_customer_na.n_min_seller_message_count',\n",
       "                 'Abuse.bsm_stats_for_evaluated_mfn_concessions_by_customer_na.n_min_seller_order_message_time_gap',\n",
       "                 'Abuse.bsm_stats_for_evaluated_mfn_concessions_by_customer_na.n_total_buyer_message_count',\n",
       "                 'Abuse.bsm_stats_for_evaluated_mfn_concessions_by_customer_na.n_total_message_count',\n",
       "                 'Abuse.bsm_stats_for_evaluated_mfn_concessions_by_customer_na.n_total_seller_message_count',\n",
       "                 'Abuse.bsm_stats_for_evaluated_mfn_concessions_by_customer_na.n_total_topic_count',\n",
       "                 'Abuse.completed_afn_orders_by_customer_marketplace.n_afn_order_count_last_365_days',\n",
       "                 'Abuse.completed_afn_orders_by_customer_marketplace.n_afn_unit_amount_last_365_days',\n",
       "                 'Abuse.completed_afn_orders_by_customer_marketplace.n_afn_unit_count_last_365_days',\n",
       "                 'Abuse.completed_mfn_orders_by_customer_marketplace.n_mfn_order_count_last_365_days',\n",
       "                 'Abuse.completed_mfn_orders_by_customer_marketplace.n_mfn_unit_amount_last_365_days',\n",
       "                 'Abuse.completed_mfn_orders_by_customer_marketplace.n_mfn_unit_count_last_365_days',\n",
       "                 'Abuse.dnr_by_customer_marketplace.n_dnr_amount_si_last_365_days',\n",
       "                 'Abuse.dnr_by_customer_marketplace.n_dnr_order_count_last_365_days',\n",
       "                 'Abuse.dnr_by_customer_marketplace.n_dnr_unit_amount_last_365_days',\n",
       "                 'Abuse.dnr_by_customer_marketplace.n_dnr_unit_count_last_365_days',\n",
       "                 'Abuse.mfn_a2z_claims_by_customer_na.n_mfn_claims_amount_last_365_days',\n",
       "                 'Abuse.mfn_a2z_claims_by_customer_na.n_mfn_claims_count_last_365_days',\n",
       "                 'Abuse.mfn_a2z_claims_by_customer_na.n_mfn_diff_claims_amount_last_365_days',\n",
       "                 'Abuse.mfn_a2z_claims_by_customer_na.n_mfn_diff_claims_count_last_365_days',\n",
       "                 'Abuse.mfn_a2z_claims_by_customer_na.n_mfn_notr_claims_amount_last_365_days',\n",
       "                 'Abuse.mfn_a2z_claims_by_customer_na.n_mfn_notr_claims_count_last_365_days',\n",
       "                 'Abuse.mfn_categorized_refunds_by_customer_marketplace.n_mfn_diff_refunds_order_count_last_365_days',\n",
       "                 'Abuse.mfn_categorized_refunds_by_customer_marketplace.n_mfn_diff_refunds_unit_amount_last_365_days',\n",
       "                 'Abuse.mfn_categorized_refunds_by_customer_marketplace.n_mfn_diff_refunds_unit_count_last_365_days',\n",
       "                 'Abuse.mfn_categorized_refunds_by_customer_marketplace.n_mfn_notr_refunds_order_count_last_365_days',\n",
       "                 'Abuse.mfn_categorized_refunds_by_customer_marketplace.n_mfn_notr_refunds_unit_amount_last_365_days',\n",
       "                 'Abuse.mfn_categorized_refunds_by_customer_marketplace.n_mfn_notr_refunds_unit_count_last_365_days',\n",
       "                 'Abuse.mfn_categorized_refunds_si_by_customer_marketplace.n_mfn_diff_refunds_si_365_days',\n",
       "                 'Abuse.mfn_categorized_refunds_si_by_customer_marketplace.n_mfn_notr_refunds_si_365_days',\n",
       "                 'Abuse.mfn_refunds_by_customer_marketplace.n_mfn_refund_order_count_last_365_days',\n",
       "                 'Abuse.mfn_refunds_by_customer_marketplace.n_mfn_refund_unit_amount_last_365_days',\n",
       "                 'Abuse.mfn_refunds_by_customer_marketplace.n_mfn_refund_unit_count_last_365_days',\n",
       "                 'Abuse.mfn_refunds_si_by_customer_marketplace.n_mfn_refund_amount_si_last_365_days',\n",
       "                 'Abuse.order_to_execution_time_from_eventvariables.n_order_to_execution',\n",
       "                 'Abuse.shiptrack_flag_by_order.n_any_available_for_pickup',\n",
       "                 'Abuse.shiptrack_flag_by_order.n_any_delivered',\n",
       "                 'Abuse.shiptrack_flag_by_order.n_any_partial_delivered',\n",
       "                 'Abuse.shiptrack_flag_by_order.n_any_returned',\n",
       "                 'Abuse.shiptrack_flag_by_order.n_any_returning',\n",
       "                 'Abuse.shiptrack_flag_by_order.n_any_undeliverable',\n",
       "                 'COMP_DAYOB',\n",
       "                 'PAYMETH',\n",
       "                 'abuse_type',\n",
       "                 'claimAmount_value',\n",
       "                 'claim_reason',\n",
       "                 'claimantInfo_allClaimCount365day',\n",
       "                 'claimantInfo_lifetimeClaimCount',\n",
       "                 'claimantInfo_pendingClaimCount',\n",
       "                 'claimantInfo_status',\n",
       "                 'concession_type',\n",
       "                 'is_abuse',\n",
       "                 'marketplace_id',\n",
       "                 'objectId',\n",
       "                 'order_id',\n",
       "                 'shipments_status',\n",
       "                 'tag_date',\n",
       "                 'transactionDate'],\n",
       "                'job_type': 'calibration',\n",
       "                'pipeline_s3_loc': 's3://sandboxdependency-abuse-secureaisandboxteamshare-1l77v9am252um/MODS/lukexie-AtoZ-xgboost-NA_1.3.1',\n",
       "                'output_format': 'PARQUET',\n",
       "                'output_save_mode': 'ERRORIFEXISTS',\n",
       "                'output_file_count': 0,\n",
       "                'keep_dot_in_output_schema': False,\n",
       "                'include_header_in_s3_output': True},\n",
       "               'cradle_job_spec': {'__model_type__': 'CradleJobSpecificationConfig',\n",
       "                'cradle_account': 'Buyer-Abuse-RnD-Dev',\n",
       "                'cluster_type': 'MEDIUM',\n",
       "                'extra_spark_job_arguments': '',\n",
       "                'job_retry_count': 4}},\n",
       "              'TabularPreprocessing_training': {'__model_type__': 'TabularPreprocessingConfig',\n",
       "               'processing_instance_count': 1,\n",
       "               'processing_volume_size': 500,\n",
       "               'processing_instance_type_large': 'ml.m5.12xlarge',\n",
       "               'processing_instance_type_small': 'ml.m5.4xlarge',\n",
       "               'use_large_processing_instance': True,\n",
       "               'processing_source_dir': '/home/ec2-user/SageMaker/Cursus/dockers/xgboost_atoz/scripts',\n",
       "               'processing_framework_version': '1.2-1',\n",
       "               'effective_source_dir': 'dockers/xgboost_atoz/scripts',\n",
       "               'effective_instance_type': 'ml.m5.12xlarge',\n",
       "               'portable_processing_source_dir': 'dockers/xgboost_atoz/scripts',\n",
       "               'job_type': 'training',\n",
       "               'label_name': 'is_abuse',\n",
       "               'processing_entry_point': 'tabular_preprocessing.py',\n",
       "               'train_ratio': 0.7,\n",
       "               'test_val_ratio': 0.5,\n",
       "               'script_path': 'dockers/xgboost_atoz/scripts/tabular_preprocessing.py',\n",
       "               'full_script_path': 'dockers/xgboost_atoz/scripts/tabular_preprocessing.py'},\n",
       "              'TabularPreprocessing_calibration': {'__model_type__': 'TabularPreprocessingConfig',\n",
       "               'processing_instance_count': 1,\n",
       "               'processing_volume_size': 500,\n",
       "               'processing_instance_type_large': 'ml.m5.12xlarge',\n",
       "               'processing_instance_type_small': 'ml.m5.4xlarge',\n",
       "               'use_large_processing_instance': False,\n",
       "               'processing_source_dir': '/home/ec2-user/SageMaker/Cursus/dockers/xgboost_atoz/scripts',\n",
       "               'processing_framework_version': '1.2-1',\n",
       "               'effective_source_dir': 'dockers/xgboost_atoz/scripts',\n",
       "               'effective_instance_type': 'ml.m5.4xlarge',\n",
       "               'portable_processing_source_dir': 'dockers/xgboost_atoz/scripts',\n",
       "               'job_type': 'calibration',\n",
       "               'label_name': 'is_abuse',\n",
       "               'processing_entry_point': 'tabular_preprocessing.py',\n",
       "               'train_ratio': 0.7,\n",
       "               'test_val_ratio': 0.5,\n",
       "               'script_path': 'dockers/xgboost_atoz/scripts/tabular_preprocessing.py',\n",
       "               'full_script_path': 'dockers/xgboost_atoz/scripts/tabular_preprocessing.py'},\n",
       "              'XGBoostTraining': {'__model_type__': 'XGBoostTrainingConfig',\n",
       "               'training_entry_point': 'xgboost_training.py',\n",
       "               'hyperparameters': {'__model_type__': 'XGBoostModelHyperparameters',\n",
       "                'full_field_list': ['Abuse.abuse_fap_action_by_customer_inline_transform_na.n_claims_solicit_count_last_365_days',\n",
       "                 'Abuse.abuse_fap_action_by_customer_inline_transform_na.n_claims_warn_count_last_365_days',\n",
       "                 'Abuse.abuse_fap_action_by_customer_inline_transform_na.n_concession_solicit_count_last_365_days',\n",
       "                 'Abuse.abuse_fap_action_by_customer_inline_transform_na.n_concession_warn_count_last_365_days',\n",
       "                 'Abuse.bsm_stats_for_evaluated_mfn_concessions_by_customer_na.n_max_buyer_order_message_time_gap',\n",
       "                 'Abuse.bsm_stats_for_evaluated_mfn_concessions_by_customer_na.n_max_order_message_time_gap',\n",
       "                 'Abuse.bsm_stats_for_evaluated_mfn_concessions_by_customer_na.n_max_seller_order_message_time_gap',\n",
       "                 'Abuse.bsm_stats_for_evaluated_mfn_concessions_by_customer_na.n_message_count_with_diff_topic_si',\n",
       "                 'Abuse.bsm_stats_for_evaluated_mfn_concessions_by_customer_na.n_message_count_with_notr_topic_si',\n",
       "                 'Abuse.bsm_stats_for_evaluated_mfn_concessions_by_customer_na.n_message_count_with_return_keywords_si',\n",
       "                 'Abuse.bsm_stats_for_evaluated_mfn_concessions_by_customer_na.n_min_buyer_message_count',\n",
       "                 'Abuse.bsm_stats_for_evaluated_mfn_concessions_by_customer_na.n_min_buyer_order_message_time_gap',\n",
       "                 'Abuse.bsm_stats_for_evaluated_mfn_concessions_by_customer_na.n_min_message_count',\n",
       "                 'Abuse.bsm_stats_for_evaluated_mfn_concessions_by_customer_na.n_min_order_message_time_gap',\n",
       "                 'Abuse.bsm_stats_for_evaluated_mfn_concessions_by_customer_na.n_min_seller_message_count',\n",
       "                 'Abuse.bsm_stats_for_evaluated_mfn_concessions_by_customer_na.n_min_seller_order_message_time_gap',\n",
       "                 'Abuse.bsm_stats_for_evaluated_mfn_concessions_by_customer_na.n_total_buyer_message_count',\n",
       "                 'Abuse.bsm_stats_for_evaluated_mfn_concessions_by_customer_na.n_total_message_count',\n",
       "                 'Abuse.bsm_stats_for_evaluated_mfn_concessions_by_customer_na.n_total_seller_message_count',\n",
       "                 'Abuse.bsm_stats_for_evaluated_mfn_concessions_by_customer_na.n_total_topic_count',\n",
       "                 'Abuse.completed_afn_orders_by_customer_marketplace.n_afn_order_count_last_365_days',\n",
       "                 'Abuse.completed_afn_orders_by_customer_marketplace.n_afn_unit_amount_last_365_days',\n",
       "                 'Abuse.completed_afn_orders_by_customer_marketplace.n_afn_unit_count_last_365_days',\n",
       "                 'Abuse.completed_mfn_orders_by_customer_marketplace.n_mfn_order_count_last_365_days',\n",
       "                 'Abuse.completed_mfn_orders_by_customer_marketplace.n_mfn_unit_amount_last_365_days',\n",
       "                 'Abuse.completed_mfn_orders_by_customer_marketplace.n_mfn_unit_count_last_365_days',\n",
       "                 'Abuse.dnr_by_customer_marketplace.n_dnr_amount_si_last_365_days',\n",
       "                 'Abuse.dnr_by_customer_marketplace.n_dnr_order_count_last_365_days',\n",
       "                 'Abuse.dnr_by_customer_marketplace.n_dnr_unit_amount_last_365_days',\n",
       "                 'Abuse.dnr_by_customer_marketplace.n_dnr_unit_count_last_365_days',\n",
       "                 'Abuse.mfn_a2z_claims_by_customer_na.n_mfn_claims_amount_last_365_days',\n",
       "                 'Abuse.mfn_a2z_claims_by_customer_na.n_mfn_claims_count_last_365_days',\n",
       "                 'Abuse.mfn_a2z_claims_by_customer_na.n_mfn_diff_claims_amount_last_365_days',\n",
       "                 'Abuse.mfn_a2z_claims_by_customer_na.n_mfn_diff_claims_count_last_365_days',\n",
       "                 'Abuse.mfn_a2z_claims_by_customer_na.n_mfn_notr_claims_amount_last_365_days',\n",
       "                 'Abuse.mfn_a2z_claims_by_customer_na.n_mfn_notr_claims_count_last_365_days',\n",
       "                 'Abuse.mfn_categorized_refunds_by_customer_marketplace.n_mfn_diff_refunds_order_count_last_365_days',\n",
       "                 'Abuse.mfn_categorized_refunds_by_customer_marketplace.n_mfn_diff_refunds_unit_amount_last_365_days',\n",
       "                 'Abuse.mfn_categorized_refunds_by_customer_marketplace.n_mfn_diff_refunds_unit_count_last_365_days',\n",
       "                 'Abuse.mfn_categorized_refunds_by_customer_marketplace.n_mfn_notr_refunds_order_count_last_365_days',\n",
       "                 'Abuse.mfn_categorized_refunds_by_customer_marketplace.n_mfn_notr_refunds_unit_amount_last_365_days',\n",
       "                 'Abuse.mfn_categorized_refunds_by_customer_marketplace.n_mfn_notr_refunds_unit_count_last_365_days',\n",
       "                 'Abuse.mfn_categorized_refunds_si_by_customer_marketplace.n_mfn_diff_refunds_si_365_days',\n",
       "                 'Abuse.mfn_categorized_refunds_si_by_customer_marketplace.n_mfn_notr_refunds_si_365_days',\n",
       "                 'Abuse.mfn_refunds_by_customer_marketplace.n_mfn_refund_order_count_last_365_days',\n",
       "                 'Abuse.mfn_refunds_by_customer_marketplace.n_mfn_refund_unit_amount_last_365_days',\n",
       "                 'Abuse.mfn_refunds_by_customer_marketplace.n_mfn_refund_unit_count_last_365_days',\n",
       "                 'Abuse.mfn_refunds_si_by_customer_marketplace.n_mfn_refund_amount_si_last_365_days',\n",
       "                 'Abuse.order_to_execution_time_from_eventvariables.n_order_to_execution',\n",
       "                 'Abuse.shiptrack_flag_by_order.n_any_delivered',\n",
       "                 'Abuse.shiptrack_flag_by_order.n_any_available_for_pickup',\n",
       "                 'Abuse.shiptrack_flag_by_order.n_any_partial_delivered',\n",
       "                 'Abuse.shiptrack_flag_by_order.n_any_undeliverable',\n",
       "                 'Abuse.shiptrack_flag_by_order.n_any_returning',\n",
       "                 'Abuse.shiptrack_flag_by_order.n_any_returned',\n",
       "                 'COMP_DAYOB',\n",
       "                 'PAYMETH',\n",
       "                 'claimAmount_value',\n",
       "                 'claim_reason',\n",
       "                 'claimantInfo_allClaimCount365day',\n",
       "                 'claimantInfo_lifetimeClaimCount',\n",
       "                 'claimantInfo_pendingClaimCount',\n",
       "                 'claimantInfo_status',\n",
       "                 'shipments_status',\n",
       "                 'order_id',\n",
       "                 'marketplace_id',\n",
       "                 'is_abuse'],\n",
       "                'cat_field_list': ['PAYMETH',\n",
       "                 'claim_reason',\n",
       "                 'claimantInfo_status',\n",
       "                 'shipments_status'],\n",
       "                'tab_field_list': ['Abuse.abuse_fap_action_by_customer_inline_transform_na.n_claims_solicit_count_last_365_days',\n",
       "                 'Abuse.abuse_fap_action_by_customer_inline_transform_na.n_claims_warn_count_last_365_days',\n",
       "                 'Abuse.abuse_fap_action_by_customer_inline_transform_na.n_concession_solicit_count_last_365_days',\n",
       "                 'Abuse.abuse_fap_action_by_customer_inline_transform_na.n_concession_warn_count_last_365_days',\n",
       "                 'Abuse.bsm_stats_for_evaluated_mfn_concessions_by_customer_na.n_max_buyer_order_message_time_gap',\n",
       "                 'Abuse.bsm_stats_for_evaluated_mfn_concessions_by_customer_na.n_max_order_message_time_gap',\n",
       "                 'Abuse.bsm_stats_for_evaluated_mfn_concessions_by_customer_na.n_max_seller_order_message_time_gap',\n",
       "                 'Abuse.bsm_stats_for_evaluated_mfn_concessions_by_customer_na.n_message_count_with_diff_topic_si',\n",
       "                 'Abuse.bsm_stats_for_evaluated_mfn_concessions_by_customer_na.n_message_count_with_notr_topic_si',\n",
       "                 'Abuse.bsm_stats_for_evaluated_mfn_concessions_by_customer_na.n_message_count_with_return_keywords_si',\n",
       "                 'Abuse.bsm_stats_for_evaluated_mfn_concessions_by_customer_na.n_min_buyer_message_count',\n",
       "                 'Abuse.bsm_stats_for_evaluated_mfn_concessions_by_customer_na.n_min_buyer_order_message_time_gap',\n",
       "                 'Abuse.bsm_stats_for_evaluated_mfn_concessions_by_customer_na.n_min_message_count',\n",
       "                 'Abuse.bsm_stats_for_evaluated_mfn_concessions_by_customer_na.n_min_order_message_time_gap',\n",
       "                 'Abuse.bsm_stats_for_evaluated_mfn_concessions_by_customer_na.n_min_seller_message_count',\n",
       "                 'Abuse.bsm_stats_for_evaluated_mfn_concessions_by_customer_na.n_min_seller_order_message_time_gap',\n",
       "                 'Abuse.bsm_stats_for_evaluated_mfn_concessions_by_customer_na.n_total_buyer_message_count',\n",
       "                 'Abuse.bsm_stats_for_evaluated_mfn_concessions_by_customer_na.n_total_message_count',\n",
       "                 'Abuse.bsm_stats_for_evaluated_mfn_concessions_by_customer_na.n_total_seller_message_count',\n",
       "                 'Abuse.bsm_stats_for_evaluated_mfn_concessions_by_customer_na.n_total_topic_count',\n",
       "                 'Abuse.completed_afn_orders_by_customer_marketplace.n_afn_order_count_last_365_days',\n",
       "                 'Abuse.completed_afn_orders_by_customer_marketplace.n_afn_unit_amount_last_365_days',\n",
       "                 'Abuse.completed_afn_orders_by_customer_marketplace.n_afn_unit_count_last_365_days',\n",
       "                 'Abuse.completed_mfn_orders_by_customer_marketplace.n_mfn_order_count_last_365_days',\n",
       "                 'Abuse.completed_mfn_orders_by_customer_marketplace.n_mfn_unit_amount_last_365_days',\n",
       "                 'Abuse.completed_mfn_orders_by_customer_marketplace.n_mfn_unit_count_last_365_days',\n",
       "                 'Abuse.dnr_by_customer_marketplace.n_dnr_amount_si_last_365_days',\n",
       "                 'Abuse.dnr_by_customer_marketplace.n_dnr_order_count_last_365_days',\n",
       "                 'Abuse.dnr_by_customer_marketplace.n_dnr_unit_amount_last_365_days',\n",
       "                 'Abuse.dnr_by_customer_marketplace.n_dnr_unit_count_last_365_days',\n",
       "                 'Abuse.mfn_a2z_claims_by_customer_na.n_mfn_claims_amount_last_365_days',\n",
       "                 'Abuse.mfn_a2z_claims_by_customer_na.n_mfn_claims_count_last_365_days',\n",
       "                 'Abuse.mfn_a2z_claims_by_customer_na.n_mfn_diff_claims_amount_last_365_days',\n",
       "                 'Abuse.mfn_a2z_claims_by_customer_na.n_mfn_diff_claims_count_last_365_days',\n",
       "                 'Abuse.mfn_a2z_claims_by_customer_na.n_mfn_notr_claims_amount_last_365_days',\n",
       "                 'Abuse.mfn_a2z_claims_by_customer_na.n_mfn_notr_claims_count_last_365_days',\n",
       "                 'Abuse.mfn_categorized_refunds_by_customer_marketplace.n_mfn_diff_refunds_order_count_last_365_days',\n",
       "                 'Abuse.mfn_categorized_refunds_by_customer_marketplace.n_mfn_diff_refunds_unit_amount_last_365_days',\n",
       "                 'Abuse.mfn_categorized_refunds_by_customer_marketplace.n_mfn_diff_refunds_unit_count_last_365_days',\n",
       "                 'Abuse.mfn_categorized_refunds_by_customer_marketplace.n_mfn_notr_refunds_order_count_last_365_days',\n",
       "                 'Abuse.mfn_categorized_refunds_by_customer_marketplace.n_mfn_notr_refunds_unit_amount_last_365_days',\n",
       "                 'Abuse.mfn_categorized_refunds_by_customer_marketplace.n_mfn_notr_refunds_unit_count_last_365_days',\n",
       "                 'Abuse.mfn_categorized_refunds_si_by_customer_marketplace.n_mfn_diff_refunds_si_365_days',\n",
       "                 'Abuse.mfn_categorized_refunds_si_by_customer_marketplace.n_mfn_notr_refunds_si_365_days',\n",
       "                 'Abuse.mfn_refunds_by_customer_marketplace.n_mfn_refund_order_count_last_365_days',\n",
       "                 'Abuse.mfn_refunds_by_customer_marketplace.n_mfn_refund_unit_amount_last_365_days',\n",
       "                 'Abuse.mfn_refunds_by_customer_marketplace.n_mfn_refund_unit_count_last_365_days',\n",
       "                 'Abuse.mfn_refunds_si_by_customer_marketplace.n_mfn_refund_amount_si_last_365_days',\n",
       "                 'Abuse.order_to_execution_time_from_eventvariables.n_order_to_execution',\n",
       "                 'Abuse.shiptrack_flag_by_order.n_any_delivered',\n",
       "                 'Abuse.shiptrack_flag_by_order.n_any_available_for_pickup',\n",
       "                 'Abuse.shiptrack_flag_by_order.n_any_partial_delivered',\n",
       "                 'Abuse.shiptrack_flag_by_order.n_any_undeliverable',\n",
       "                 'Abuse.shiptrack_flag_by_order.n_any_returning',\n",
       "                 'Abuse.shiptrack_flag_by_order.n_any_returned',\n",
       "                 'COMP_DAYOB',\n",
       "                 'claimAmount_value',\n",
       "                 'claimantInfo_allClaimCount365day',\n",
       "                 'claimantInfo_lifetimeClaimCount',\n",
       "                 'claimantInfo_pendingClaimCount'],\n",
       "                'id_name': 'order_id',\n",
       "                'label_name': 'is_abuse',\n",
       "                'multiclass_categories': [0, 1],\n",
       "                'num_round': 300,\n",
       "                'max_depth': 6,\n",
       "                'categorical_features_to_encode': [],\n",
       "                'model_class': 'base_model',\n",
       "                'device': -1,\n",
       "                'header': 0,\n",
       "                'lr': 3e-05,\n",
       "                'batch_size': 2,\n",
       "                'max_epochs': 3,\n",
       "                'metric_choices': ['f1_score', 'auroc'],\n",
       "                'optimizer': 'SGD',\n",
       "                'class_weights': [1.0, 1.0],\n",
       "                'min_child_weight': 1.0,\n",
       "                'booster': 'gbtree',\n",
       "                'eta': 0.3,\n",
       "                'gamma': 0.0,\n",
       "                'max_delta_step': 0.0,\n",
       "                'subsample': 1.0,\n",
       "                'colsample_bytree': 1.0,\n",
       "                'colsample_bylevel': 1.0,\n",
       "                'colsample_bynode': 1.0,\n",
       "                'lambda_xgb': 1.0,\n",
       "                'alpha_xgb': 0.0,\n",
       "                'tree_method': 'auto',\n",
       "                'scale_pos_weight': 1.0},\n",
       "               'training_instance_type': 'ml.m5.12xlarge',\n",
       "               'training_instance_count': 1,\n",
       "               'training_volume_size': 800,\n",
       "               'hyperparameter_file': 's3://sandboxdependency-abuse-secureaisandboxteamshare-1l77v9am252um/MODS/lukexie-AtoZ-xgboost-NA_1.3.1/hyperparameters/NA_hyperparameters.json'},\n",
       "              'ModelCalibration_calibration': {'__model_type__': 'ModelCalibrationConfig',\n",
       "               'processing_instance_count': 1,\n",
       "               'processing_volume_size': 500,\n",
       "               'processing_instance_type_large': 'ml.m5.12xlarge',\n",
       "               'processing_instance_type_small': 'ml.m5.4xlarge',\n",
       "               'use_large_processing_instance': False,\n",
       "               'processing_source_dir': '/home/ec2-user/SageMaker/Cursus/dockers/xgboost_atoz/scripts',\n",
       "               'processing_framework_version': '1.2-1',\n",
       "               'effective_source_dir': 'dockers/xgboost_atoz/scripts',\n",
       "               'effective_instance_type': 'ml.m5.4xlarge',\n",
       "               'portable_processing_source_dir': 'dockers/xgboost_atoz/scripts',\n",
       "               'job_type': 'calibration',\n",
       "               'processing_entry_point': 'model_calibration.py',\n",
       "               'script_path': 'dockers/xgboost_atoz/scripts/model_calibration.py',\n",
       "               'label_field': 'is_abuse',\n",
       "               'calibration_method': 'gam',\n",
       "               'monotonic_constraint': True,\n",
       "               'gam_splines': 10,\n",
       "               'error_threshold': 0.05,\n",
       "               'is_binary': True,\n",
       "               'num_classes': 2,\n",
       "               'score_field': 'prob_class_1',\n",
       "               'score_field_prefix': 'prob_class_',\n",
       "               'multiclass_categories': [0, 1]},\n",
       "              'XGBoostModelEval_calibration': {'__model_type__': 'XGBoostModelEvalConfig',\n",
       "               'processing_instance_count': 1,\n",
       "               'processing_volume_size': 500,\n",
       "               'processing_instance_type_large': 'ml.m5.12xlarge',\n",
       "               'processing_instance_type_small': 'ml.m5.4xlarge',\n",
       "               'use_large_processing_instance': True,\n",
       "               'processing_source_dir': '/home/ec2-user/SageMaker/Cursus/dockers/xgboost_atoz',\n",
       "               'processing_framework_version': '1.2-1',\n",
       "               'effective_source_dir': 'dockers/xgboost_atoz',\n",
       "               'effective_instance_type': 'ml.m5.12xlarge',\n",
       "               'portable_processing_source_dir': 'dockers/xgboost_atoz',\n",
       "               'job_type': 'calibration',\n",
       "               'processing_entry_point': 'xgboost_model_evaluation.py',\n",
       "               'script_path': 'dockers/xgboost_atoz/xgboost_model_evaluation.py',\n",
       "               'hyperparameters': {'__model_type__': 'XGBoostModelHyperparameters',\n",
       "                'full_field_list': ['Abuse.abuse_fap_action_by_customer_inline_transform_na.n_claims_solicit_count_last_365_days',\n",
       "                 'Abuse.abuse_fap_action_by_customer_inline_transform_na.n_claims_warn_count_last_365_days',\n",
       "                 'Abuse.abuse_fap_action_by_customer_inline_transform_na.n_concession_solicit_count_last_365_days',\n",
       "                 'Abuse.abuse_fap_action_by_customer_inline_transform_na.n_concession_warn_count_last_365_days',\n",
       "                 'Abuse.bsm_stats_for_evaluated_mfn_concessions_by_customer_na.n_max_buyer_order_message_time_gap',\n",
       "                 'Abuse.bsm_stats_for_evaluated_mfn_concessions_by_customer_na.n_max_order_message_time_gap',\n",
       "                 'Abuse.bsm_stats_for_evaluated_mfn_concessions_by_customer_na.n_max_seller_order_message_time_gap',\n",
       "                 'Abuse.bsm_stats_for_evaluated_mfn_concessions_by_customer_na.n_message_count_with_diff_topic_si',\n",
       "                 'Abuse.bsm_stats_for_evaluated_mfn_concessions_by_customer_na.n_message_count_with_notr_topic_si',\n",
       "                 'Abuse.bsm_stats_for_evaluated_mfn_concessions_by_customer_na.n_message_count_with_return_keywords_si',\n",
       "                 'Abuse.bsm_stats_for_evaluated_mfn_concessions_by_customer_na.n_min_buyer_message_count',\n",
       "                 'Abuse.bsm_stats_for_evaluated_mfn_concessions_by_customer_na.n_min_buyer_order_message_time_gap',\n",
       "                 'Abuse.bsm_stats_for_evaluated_mfn_concessions_by_customer_na.n_min_message_count',\n",
       "                 'Abuse.bsm_stats_for_evaluated_mfn_concessions_by_customer_na.n_min_order_message_time_gap',\n",
       "                 'Abuse.bsm_stats_for_evaluated_mfn_concessions_by_customer_na.n_min_seller_message_count',\n",
       "                 'Abuse.bsm_stats_for_evaluated_mfn_concessions_by_customer_na.n_min_seller_order_message_time_gap',\n",
       "                 'Abuse.bsm_stats_for_evaluated_mfn_concessions_by_customer_na.n_total_buyer_message_count',\n",
       "                 'Abuse.bsm_stats_for_evaluated_mfn_concessions_by_customer_na.n_total_message_count',\n",
       "                 'Abuse.bsm_stats_for_evaluated_mfn_concessions_by_customer_na.n_total_seller_message_count',\n",
       "                 'Abuse.bsm_stats_for_evaluated_mfn_concessions_by_customer_na.n_total_topic_count',\n",
       "                 'Abuse.completed_afn_orders_by_customer_marketplace.n_afn_order_count_last_365_days',\n",
       "                 'Abuse.completed_afn_orders_by_customer_marketplace.n_afn_unit_amount_last_365_days',\n",
       "                 'Abuse.completed_afn_orders_by_customer_marketplace.n_afn_unit_count_last_365_days',\n",
       "                 'Abuse.completed_mfn_orders_by_customer_marketplace.n_mfn_order_count_last_365_days',\n",
       "                 'Abuse.completed_mfn_orders_by_customer_marketplace.n_mfn_unit_amount_last_365_days',\n",
       "                 'Abuse.completed_mfn_orders_by_customer_marketplace.n_mfn_unit_count_last_365_days',\n",
       "                 'Abuse.dnr_by_customer_marketplace.n_dnr_amount_si_last_365_days',\n",
       "                 'Abuse.dnr_by_customer_marketplace.n_dnr_order_count_last_365_days',\n",
       "                 'Abuse.dnr_by_customer_marketplace.n_dnr_unit_amount_last_365_days',\n",
       "                 'Abuse.dnr_by_customer_marketplace.n_dnr_unit_count_last_365_days',\n",
       "                 'Abuse.mfn_a2z_claims_by_customer_na.n_mfn_claims_amount_last_365_days',\n",
       "                 'Abuse.mfn_a2z_claims_by_customer_na.n_mfn_claims_count_last_365_days',\n",
       "                 'Abuse.mfn_a2z_claims_by_customer_na.n_mfn_diff_claims_amount_last_365_days',\n",
       "                 'Abuse.mfn_a2z_claims_by_customer_na.n_mfn_diff_claims_count_last_365_days',\n",
       "                 'Abuse.mfn_a2z_claims_by_customer_na.n_mfn_notr_claims_amount_last_365_days',\n",
       "                 'Abuse.mfn_a2z_claims_by_customer_na.n_mfn_notr_claims_count_last_365_days',\n",
       "                 'Abuse.mfn_categorized_refunds_by_customer_marketplace.n_mfn_diff_refunds_order_count_last_365_days',\n",
       "                 'Abuse.mfn_categorized_refunds_by_customer_marketplace.n_mfn_diff_refunds_unit_amount_last_365_days',\n",
       "                 'Abuse.mfn_categorized_refunds_by_customer_marketplace.n_mfn_diff_refunds_unit_count_last_365_days',\n",
       "                 'Abuse.mfn_categorized_refunds_by_customer_marketplace.n_mfn_notr_refunds_order_count_last_365_days',\n",
       "                 'Abuse.mfn_categorized_refunds_by_customer_marketplace.n_mfn_notr_refunds_unit_amount_last_365_days',\n",
       "                 'Abuse.mfn_categorized_refunds_by_customer_marketplace.n_mfn_notr_refunds_unit_count_last_365_days',\n",
       "                 'Abuse.mfn_categorized_refunds_si_by_customer_marketplace.n_mfn_diff_refunds_si_365_days',\n",
       "                 'Abuse.mfn_categorized_refunds_si_by_customer_marketplace.n_mfn_notr_refunds_si_365_days',\n",
       "                 'Abuse.mfn_refunds_by_customer_marketplace.n_mfn_refund_order_count_last_365_days',\n",
       "                 'Abuse.mfn_refunds_by_customer_marketplace.n_mfn_refund_unit_amount_last_365_days',\n",
       "                 'Abuse.mfn_refunds_by_customer_marketplace.n_mfn_refund_unit_count_last_365_days',\n",
       "                 'Abuse.mfn_refunds_si_by_customer_marketplace.n_mfn_refund_amount_si_last_365_days',\n",
       "                 'Abuse.order_to_execution_time_from_eventvariables.n_order_to_execution',\n",
       "                 'Abuse.shiptrack_flag_by_order.n_any_delivered',\n",
       "                 'Abuse.shiptrack_flag_by_order.n_any_available_for_pickup',\n",
       "                 'Abuse.shiptrack_flag_by_order.n_any_partial_delivered',\n",
       "                 'Abuse.shiptrack_flag_by_order.n_any_undeliverable',\n",
       "                 'Abuse.shiptrack_flag_by_order.n_any_returning',\n",
       "                 'Abuse.shiptrack_flag_by_order.n_any_returned',\n",
       "                 'COMP_DAYOB',\n",
       "                 'PAYMETH',\n",
       "                 'claimAmount_value',\n",
       "                 'claim_reason',\n",
       "                 'claimantInfo_allClaimCount365day',\n",
       "                 'claimantInfo_lifetimeClaimCount',\n",
       "                 'claimantInfo_pendingClaimCount',\n",
       "                 'claimantInfo_status',\n",
       "                 'shipments_status',\n",
       "                 'order_id',\n",
       "                 'marketplace_id',\n",
       "                 'is_abuse'],\n",
       "                'cat_field_list': ['PAYMETH',\n",
       "                 'claim_reason',\n",
       "                 'claimantInfo_status',\n",
       "                 'shipments_status'],\n",
       "                'tab_field_list': ['Abuse.abuse_fap_action_by_customer_inline_transform_na.n_claims_solicit_count_last_365_days',\n",
       "                 'Abuse.abuse_fap_action_by_customer_inline_transform_na.n_claims_warn_count_last_365_days',\n",
       "                 'Abuse.abuse_fap_action_by_customer_inline_transform_na.n_concession_solicit_count_last_365_days',\n",
       "                 'Abuse.abuse_fap_action_by_customer_inline_transform_na.n_concession_warn_count_last_365_days',\n",
       "                 'Abuse.bsm_stats_for_evaluated_mfn_concessions_by_customer_na.n_max_buyer_order_message_time_gap',\n",
       "                 'Abuse.bsm_stats_for_evaluated_mfn_concessions_by_customer_na.n_max_order_message_time_gap',\n",
       "                 'Abuse.bsm_stats_for_evaluated_mfn_concessions_by_customer_na.n_max_seller_order_message_time_gap',\n",
       "                 'Abuse.bsm_stats_for_evaluated_mfn_concessions_by_customer_na.n_message_count_with_diff_topic_si',\n",
       "                 'Abuse.bsm_stats_for_evaluated_mfn_concessions_by_customer_na.n_message_count_with_notr_topic_si',\n",
       "                 'Abuse.bsm_stats_for_evaluated_mfn_concessions_by_customer_na.n_message_count_with_return_keywords_si',\n",
       "                 'Abuse.bsm_stats_for_evaluated_mfn_concessions_by_customer_na.n_min_buyer_message_count',\n",
       "                 'Abuse.bsm_stats_for_evaluated_mfn_concessions_by_customer_na.n_min_buyer_order_message_time_gap',\n",
       "                 'Abuse.bsm_stats_for_evaluated_mfn_concessions_by_customer_na.n_min_message_count',\n",
       "                 'Abuse.bsm_stats_for_evaluated_mfn_concessions_by_customer_na.n_min_order_message_time_gap',\n",
       "                 'Abuse.bsm_stats_for_evaluated_mfn_concessions_by_customer_na.n_min_seller_message_count',\n",
       "                 'Abuse.bsm_stats_for_evaluated_mfn_concessions_by_customer_na.n_min_seller_order_message_time_gap',\n",
       "                 'Abuse.bsm_stats_for_evaluated_mfn_concessions_by_customer_na.n_total_buyer_message_count',\n",
       "                 'Abuse.bsm_stats_for_evaluated_mfn_concessions_by_customer_na.n_total_message_count',\n",
       "                 'Abuse.bsm_stats_for_evaluated_mfn_concessions_by_customer_na.n_total_seller_message_count',\n",
       "                 'Abuse.bsm_stats_for_evaluated_mfn_concessions_by_customer_na.n_total_topic_count',\n",
       "                 'Abuse.completed_afn_orders_by_customer_marketplace.n_afn_order_count_last_365_days',\n",
       "                 'Abuse.completed_afn_orders_by_customer_marketplace.n_afn_unit_amount_last_365_days',\n",
       "                 'Abuse.completed_afn_orders_by_customer_marketplace.n_afn_unit_count_last_365_days',\n",
       "                 'Abuse.completed_mfn_orders_by_customer_marketplace.n_mfn_order_count_last_365_days',\n",
       "                 'Abuse.completed_mfn_orders_by_customer_marketplace.n_mfn_unit_amount_last_365_days',\n",
       "                 'Abuse.completed_mfn_orders_by_customer_marketplace.n_mfn_unit_count_last_365_days',\n",
       "                 'Abuse.dnr_by_customer_marketplace.n_dnr_amount_si_last_365_days',\n",
       "                 'Abuse.dnr_by_customer_marketplace.n_dnr_order_count_last_365_days',\n",
       "                 'Abuse.dnr_by_customer_marketplace.n_dnr_unit_amount_last_365_days',\n",
       "                 'Abuse.dnr_by_customer_marketplace.n_dnr_unit_count_last_365_days',\n",
       "                 'Abuse.mfn_a2z_claims_by_customer_na.n_mfn_claims_amount_last_365_days',\n",
       "                 'Abuse.mfn_a2z_claims_by_customer_na.n_mfn_claims_count_last_365_days',\n",
       "                 'Abuse.mfn_a2z_claims_by_customer_na.n_mfn_diff_claims_amount_last_365_days',\n",
       "                 'Abuse.mfn_a2z_claims_by_customer_na.n_mfn_diff_claims_count_last_365_days',\n",
       "                 'Abuse.mfn_a2z_claims_by_customer_na.n_mfn_notr_claims_amount_last_365_days',\n",
       "                 'Abuse.mfn_a2z_claims_by_customer_na.n_mfn_notr_claims_count_last_365_days',\n",
       "                 'Abuse.mfn_categorized_refunds_by_customer_marketplace.n_mfn_diff_refunds_order_count_last_365_days',\n",
       "                 'Abuse.mfn_categorized_refunds_by_customer_marketplace.n_mfn_diff_refunds_unit_amount_last_365_days',\n",
       "                 'Abuse.mfn_categorized_refunds_by_customer_marketplace.n_mfn_diff_refunds_unit_count_last_365_days',\n",
       "                 'Abuse.mfn_categorized_refunds_by_customer_marketplace.n_mfn_notr_refunds_order_count_last_365_days',\n",
       "                 'Abuse.mfn_categorized_refunds_by_customer_marketplace.n_mfn_notr_refunds_unit_amount_last_365_days',\n",
       "                 'Abuse.mfn_categorized_refunds_by_customer_marketplace.n_mfn_notr_refunds_unit_count_last_365_days',\n",
       "                 'Abuse.mfn_categorized_refunds_si_by_customer_marketplace.n_mfn_diff_refunds_si_365_days',\n",
       "                 'Abuse.mfn_categorized_refunds_si_by_customer_marketplace.n_mfn_notr_refunds_si_365_days',\n",
       "                 'Abuse.mfn_refunds_by_customer_marketplace.n_mfn_refund_order_count_last_365_days',\n",
       "                 'Abuse.mfn_refunds_by_customer_marketplace.n_mfn_refund_unit_amount_last_365_days',\n",
       "                 'Abuse.mfn_refunds_by_customer_marketplace.n_mfn_refund_unit_count_last_365_days',\n",
       "                 'Abuse.mfn_refunds_si_by_customer_marketplace.n_mfn_refund_amount_si_last_365_days',\n",
       "                 'Abuse.order_to_execution_time_from_eventvariables.n_order_to_execution',\n",
       "                 'Abuse.shiptrack_flag_by_order.n_any_delivered',\n",
       "                 'Abuse.shiptrack_flag_by_order.n_any_available_for_pickup',\n",
       "                 'Abuse.shiptrack_flag_by_order.n_any_partial_delivered',\n",
       "                 'Abuse.shiptrack_flag_by_order.n_any_undeliverable',\n",
       "                 'Abuse.shiptrack_flag_by_order.n_any_returning',\n",
       "                 'Abuse.shiptrack_flag_by_order.n_any_returned',\n",
       "                 'COMP_DAYOB',\n",
       "                 'claimAmount_value',\n",
       "                 'claimantInfo_allClaimCount365day',\n",
       "                 'claimantInfo_lifetimeClaimCount',\n",
       "                 'claimantInfo_pendingClaimCount'],\n",
       "                'id_name': 'order_id',\n",
       "                'label_name': 'is_abuse',\n",
       "                'multiclass_categories': [0, 1],\n",
       "                'num_round': 300,\n",
       "                'max_depth': 6,\n",
       "                'categorical_features_to_encode': [],\n",
       "                'model_class': 'base_model',\n",
       "                'device': -1,\n",
       "                'header': 0,\n",
       "                'lr': 3e-05,\n",
       "                'batch_size': 2,\n",
       "                'max_epochs': 3,\n",
       "                'metric_choices': ['f1_score', 'auroc'],\n",
       "                'optimizer': 'SGD',\n",
       "                'class_weights': [1.0, 1.0],\n",
       "                'min_child_weight': 1.0,\n",
       "                'booster': 'gbtree',\n",
       "                'eta': 0.3,\n",
       "                'gamma': 0.0,\n",
       "                'max_delta_step': 0.0,\n",
       "                'subsample': 1.0,\n",
       "                'colsample_bytree': 1.0,\n",
       "                'colsample_bylevel': 1.0,\n",
       "                'colsample_bynode': 1.0,\n",
       "                'lambda_xgb': 1.0,\n",
       "                'alpha_xgb': 0.0,\n",
       "                'tree_method': 'auto',\n",
       "                'scale_pos_weight': 1.0},\n",
       "               'eval_metric_choices': ['auc', 'average_precision', 'f1_score'],\n",
       "               'xgboost_framework_version': '1.7-1'},\n",
       "              'Package': {'__model_type__': 'PackageConfig',\n",
       "               'processing_instance_count': 1,\n",
       "               'processing_volume_size': 500,\n",
       "               'processing_instance_type_large': 'ml.m5.12xlarge',\n",
       "               'processing_instance_type_small': 'ml.m5.4xlarge',\n",
       "               'use_large_processing_instance': False,\n",
       "               'processing_source_dir': '/home/ec2-user/SageMaker/Cursus/dockers/xgboost_atoz/scripts',\n",
       "               'processing_framework_version': '1.2-1',\n",
       "               'effective_source_dir': 'dockers/xgboost_atoz/scripts',\n",
       "               'effective_instance_type': 'ml.m5.4xlarge',\n",
       "               'portable_processing_source_dir': 'dockers/xgboost_atoz/scripts',\n",
       "               'processing_entry_point': 'package.py',\n",
       "               'script_path': 'dockers/xgboost_atoz/scripts/package.py'},\n",
       "              'Registration': {'__model_type__': 'RegistrationConfig',\n",
       "               'model_owner': 'amzn1.abacus.team.djmdvixm5abr3p75c5ca',\n",
       "               'model_domain': 'AtoZ',\n",
       "               'model_objective': 'AtoZ_Claims_SM_Model_NA',\n",
       "               'framework': 'xgboost',\n",
       "               'inference_entry_point': 'xgboost_inference.py',\n",
       "               'source_model_inference_input_variable_list': [['Abuse.abuse_fap_action_by_customer_inline_transform_na.n_claims_solicit_count_last_365_days',\n",
       "                 'NUMERIC'],\n",
       "                ['Abuse.abuse_fap_action_by_customer_inline_transform_na.n_claims_warn_count_last_365_days',\n",
       "                 'NUMERIC'],\n",
       "                ['Abuse.abuse_fap_action_by_customer_inline_transform_na.n_concession_solicit_count_last_365_days',\n",
       "                 'NUMERIC'],\n",
       "                ['Abuse.abuse_fap_action_by_customer_inline_transform_na.n_concession_warn_count_last_365_days',\n",
       "                 'NUMERIC'],\n",
       "                ['Abuse.bsm_stats_for_evaluated_mfn_concessions_by_customer_na.n_max_buyer_order_message_time_gap',\n",
       "                 'NUMERIC'],\n",
       "                ['Abuse.bsm_stats_for_evaluated_mfn_concessions_by_customer_na.n_max_order_message_time_gap',\n",
       "                 'NUMERIC'],\n",
       "                ['Abuse.bsm_stats_for_evaluated_mfn_concessions_by_customer_na.n_max_seller_order_message_time_gap',\n",
       "                 'NUMERIC'],\n",
       "                ['Abuse.bsm_stats_for_evaluated_mfn_concessions_by_customer_na.n_message_count_with_diff_topic_si',\n",
       "                 'NUMERIC'],\n",
       "                ['Abuse.bsm_stats_for_evaluated_mfn_concessions_by_customer_na.n_message_count_with_notr_topic_si',\n",
       "                 'NUMERIC'],\n",
       "                ['Abuse.bsm_stats_for_evaluated_mfn_concessions_by_customer_na.n_message_count_with_return_keywords_si',\n",
       "                 'NUMERIC'],\n",
       "                ['Abuse.bsm_stats_for_evaluated_mfn_concessions_by_customer_na.n_min_buyer_message_count',\n",
       "                 'NUMERIC'],\n",
       "                ['Abuse.bsm_stats_for_evaluated_mfn_concessions_by_customer_na.n_min_buyer_order_message_time_gap',\n",
       "                 'NUMERIC'],\n",
       "                ['Abuse.bsm_stats_for_evaluated_mfn_concessions_by_customer_na.n_min_message_count',\n",
       "                 'NUMERIC'],\n",
       "                ['Abuse.bsm_stats_for_evaluated_mfn_concessions_by_customer_na.n_min_order_message_time_gap',\n",
       "                 'NUMERIC'],\n",
       "                ['Abuse.bsm_stats_for_evaluated_mfn_concessions_by_customer_na.n_min_seller_message_count',\n",
       "                 'NUMERIC'],\n",
       "                ['Abuse.bsm_stats_for_evaluated_mfn_concessions_by_customer_na.n_min_seller_order_message_time_gap',\n",
       "                 'NUMERIC'],\n",
       "                ['Abuse.bsm_stats_for_evaluated_mfn_concessions_by_customer_na.n_total_buyer_message_count',\n",
       "                 'NUMERIC'],\n",
       "                ['Abuse.bsm_stats_for_evaluated_mfn_concessions_by_customer_na.n_total_message_count',\n",
       "                 'NUMERIC'],\n",
       "                ['Abuse.bsm_stats_for_evaluated_mfn_concessions_by_customer_na.n_total_seller_message_count',\n",
       "                 'NUMERIC'],\n",
       "                ['Abuse.bsm_stats_for_evaluated_mfn_concessions_by_customer_na.n_total_topic_count',\n",
       "                 'NUMERIC'],\n",
       "                ['Abuse.completed_afn_orders_by_customer_marketplace.n_afn_order_count_last_365_days',\n",
       "                 'NUMERIC'],\n",
       "                ['Abuse.completed_afn_orders_by_customer_marketplace.n_afn_unit_amount_last_365_days',\n",
       "                 'NUMERIC'],\n",
       "                ['Abuse.completed_afn_orders_by_customer_marketplace.n_afn_unit_count_last_365_days',\n",
       "                 'NUMERIC'],\n",
       "                ['Abuse.completed_mfn_orders_by_customer_marketplace.n_mfn_order_count_last_365_days',\n",
       "                 'NUMERIC'],\n",
       "                ['Abuse.completed_mfn_orders_by_customer_marketplace.n_mfn_unit_amount_last_365_days',\n",
       "                 'NUMERIC'],\n",
       "                ['Abuse.completed_mfn_orders_by_customer_marketplace.n_mfn_unit_count_last_365_days',\n",
       "                 'NUMERIC'],\n",
       "                ['Abuse.dnr_by_customer_marketplace.n_dnr_amount_si_last_365_days',\n",
       "                 'NUMERIC'],\n",
       "                ['Abuse.dnr_by_customer_marketplace.n_dnr_order_count_last_365_days',\n",
       "                 'NUMERIC'],\n",
       "                ['Abuse.dnr_by_customer_marketplace.n_dnr_unit_amount_last_365_days',\n",
       "                 'NUMERIC'],\n",
       "                ['Abuse.dnr_by_customer_marketplace.n_dnr_unit_count_last_365_days',\n",
       "                 'NUMERIC'],\n",
       "                ['Abuse.mfn_a2z_claims_by_customer_na.n_mfn_claims_amount_last_365_days',\n",
       "                 'NUMERIC'],\n",
       "                ['Abuse.mfn_a2z_claims_by_customer_na.n_mfn_claims_count_last_365_days',\n",
       "                 'NUMERIC'],\n",
       "                ['Abuse.mfn_a2z_claims_by_customer_na.n_mfn_diff_claims_amount_last_365_days',\n",
       "                 'NUMERIC'],\n",
       "                ['Abuse.mfn_a2z_claims_by_customer_na.n_mfn_diff_claims_count_last_365_days',\n",
       "                 'NUMERIC'],\n",
       "                ['Abuse.mfn_a2z_claims_by_customer_na.n_mfn_notr_claims_amount_last_365_days',\n",
       "                 'NUMERIC'],\n",
       "                ['Abuse.mfn_a2z_claims_by_customer_na.n_mfn_notr_claims_count_last_365_days',\n",
       "                 'NUMERIC'],\n",
       "                ['Abuse.mfn_categorized_refunds_by_customer_marketplace.n_mfn_diff_refunds_order_count_last_365_days',\n",
       "                 'NUMERIC'],\n",
       "                ['Abuse.mfn_categorized_refunds_by_customer_marketplace.n_mfn_diff_refunds_unit_amount_last_365_days',\n",
       "                 'NUMERIC'],\n",
       "                ['Abuse.mfn_categorized_refunds_by_customer_marketplace.n_mfn_diff_refunds_unit_count_last_365_days',\n",
       "                 'NUMERIC'],\n",
       "                ['Abuse.mfn_categorized_refunds_by_customer_marketplace.n_mfn_notr_refunds_order_count_last_365_days',\n",
       "                 'NUMERIC'],\n",
       "                ['Abuse.mfn_categorized_refunds_by_customer_marketplace.n_mfn_notr_refunds_unit_amount_last_365_days',\n",
       "                 'NUMERIC'],\n",
       "                ['Abuse.mfn_categorized_refunds_by_customer_marketplace.n_mfn_notr_refunds_unit_count_last_365_days',\n",
       "                 'NUMERIC'],\n",
       "                ['Abuse.mfn_categorized_refunds_si_by_customer_marketplace.n_mfn_diff_refunds_si_365_days',\n",
       "                 'NUMERIC'],\n",
       "                ['Abuse.mfn_categorized_refunds_si_by_customer_marketplace.n_mfn_notr_refunds_si_365_days',\n",
       "                 'NUMERIC'],\n",
       "                ['Abuse.mfn_refunds_by_customer_marketplace.n_mfn_refund_order_count_last_365_days',\n",
       "                 'NUMERIC'],\n",
       "                ['Abuse.mfn_refunds_by_customer_marketplace.n_mfn_refund_unit_amount_last_365_days',\n",
       "                 'NUMERIC'],\n",
       "                ['Abuse.mfn_refunds_by_customer_marketplace.n_mfn_refund_unit_count_last_365_days',\n",
       "                 'NUMERIC'],\n",
       "                ['Abuse.mfn_refunds_si_by_customer_marketplace.n_mfn_refund_amount_si_last_365_days',\n",
       "                 'NUMERIC'],\n",
       "                ['Abuse.order_to_execution_time_from_eventvariables.n_order_to_execution',\n",
       "                 'NUMERIC'],\n",
       "                ['Abuse.shiptrack_flag_by_order.n_any_delivered', 'NUMERIC'],\n",
       "                ['Abuse.shiptrack_flag_by_order.n_any_available_for_pickup',\n",
       "                 'NUMERIC'],\n",
       "                ['Abuse.shiptrack_flag_by_order.n_any_partial_delivered',\n",
       "                 'NUMERIC'],\n",
       "                ['Abuse.shiptrack_flag_by_order.n_any_undeliverable',\n",
       "                 'NUMERIC'],\n",
       "                ['Abuse.shiptrack_flag_by_order.n_any_returning', 'NUMERIC'],\n",
       "                ['Abuse.shiptrack_flag_by_order.n_any_returned', 'NUMERIC'],\n",
       "                ['COMP_DAYOB', 'NUMERIC'],\n",
       "                ['claimAmount_value', 'NUMERIC'],\n",
       "                ['claimantInfo_allClaimCount365day', 'NUMERIC'],\n",
       "                ['claimantInfo_lifetimeClaimCount', 'NUMERIC'],\n",
       "                ['claimantInfo_pendingClaimCount', 'NUMERIC'],\n",
       "                ['PAYMETH', 'TEXT'],\n",
       "                ['claim_reason', 'TEXT'],\n",
       "                ['claimantInfo_status', 'TEXT'],\n",
       "                ['shipments_status', 'TEXT']],\n",
       "               'inference_instance_type': 'ml.m5.large',\n",
       "               'source_model_inference_content_types': ['text/csv'],\n",
       "               'source_model_inference_response_types': ['application/json'],\n",
       "               'source_model_inference_output_variable_list': {'legacy-score': 'NUMERIC',\n",
       "                'calibrated-score': 'NUMERIC',\n",
       "                'custom-output-label': 'TEXT'},\n",
       "               'variable_schema': {'input': {'variables': [{'name': 'Abuse.abuse_fap_action_by_customer_inline_transform_na.n_claims_solicit_count_last_365_days',\n",
       "                   'type': 'NUMERIC'},\n",
       "                  {'name': 'Abuse.abuse_fap_action_by_customer_inline_transform_na.n_claims_warn_count_last_365_days',\n",
       "                   'type': 'NUMERIC'},\n",
       "                  {'name': 'Abuse.abuse_fap_action_by_customer_inline_transform_na.n_concession_solicit_count_last_365_days',\n",
       "                   'type': 'NUMERIC'},\n",
       "                  {'name': 'Abuse.abuse_fap_action_by_customer_inline_transform_na.n_concession_warn_count_last_365_days',\n",
       "                   'type': 'NUMERIC'},\n",
       "                  {'name': 'Abuse.bsm_stats_for_evaluated_mfn_concessions_by_customer_na.n_max_buyer_order_message_time_gap',\n",
       "                   'type': 'NUMERIC'},\n",
       "                  {'name': 'Abuse.bsm_stats_for_evaluated_mfn_concessions_by_customer_na.n_max_order_message_time_gap',\n",
       "                   'type': 'NUMERIC'},\n",
       "                  {'name': 'Abuse.bsm_stats_for_evaluated_mfn_concessions_by_customer_na.n_max_seller_order_message_time_gap',\n",
       "                   'type': 'NUMERIC'},\n",
       "                  {'name': 'Abuse.bsm_stats_for_evaluated_mfn_concessions_by_customer_na.n_message_count_with_diff_topic_si',\n",
       "                   'type': 'NUMERIC'},\n",
       "                  {'name': 'Abuse.bsm_stats_for_evaluated_mfn_concessions_by_customer_na.n_message_count_with_notr_topic_si',\n",
       "                   'type': 'NUMERIC'},\n",
       "                  {'name': 'Abuse.bsm_stats_for_evaluated_mfn_concessions_by_customer_na.n_message_count_with_return_keywords_si',\n",
       "                   'type': 'NUMERIC'},\n",
       "                  {'name': 'Abuse.bsm_stats_for_evaluated_mfn_concessions_by_customer_na.n_min_buyer_message_count',\n",
       "                   'type': 'NUMERIC'},\n",
       "                  {'name': 'Abuse.bsm_stats_for_evaluated_mfn_concessions_by_customer_na.n_min_buyer_order_message_time_gap',\n",
       "                   'type': 'NUMERIC'},\n",
       "                  {'name': 'Abuse.bsm_stats_for_evaluated_mfn_concessions_by_customer_na.n_min_message_count',\n",
       "                   'type': 'NUMERIC'},\n",
       "                  {'name': 'Abuse.bsm_stats_for_evaluated_mfn_concessions_by_customer_na.n_min_order_message_time_gap',\n",
       "                   'type': 'NUMERIC'},\n",
       "                  {'name': 'Abuse.bsm_stats_for_evaluated_mfn_concessions_by_customer_na.n_min_seller_message_count',\n",
       "                   'type': 'NUMERIC'},\n",
       "                  {'name': 'Abuse.bsm_stats_for_evaluated_mfn_concessions_by_customer_na.n_min_seller_order_message_time_gap',\n",
       "                   'type': 'NUMERIC'},\n",
       "                  {'name': 'Abuse.bsm_stats_for_evaluated_mfn_concessions_by_customer_na.n_total_buyer_message_count',\n",
       "                   'type': 'NUMERIC'},\n",
       "                  {'name': 'Abuse.bsm_stats_for_evaluated_mfn_concessions_by_customer_na.n_total_message_count',\n",
       "                   'type': 'NUMERIC'},\n",
       "                  {'name': 'Abuse.bsm_stats_for_evaluated_mfn_concessions_by_customer_na.n_total_seller_message_count',\n",
       "                   'type': 'NUMERIC'},\n",
       "                  {'name': 'Abuse.bsm_stats_for_evaluated_mfn_concessions_by_customer_na.n_total_topic_count',\n",
       "                   'type': 'NUMERIC'},\n",
       "                  {'name': 'Abuse.completed_afn_orders_by_customer_marketplace.n_afn_order_count_last_365_days',\n",
       "                   'type': 'NUMERIC'},\n",
       "                  {'name': 'Abuse.completed_afn_orders_by_customer_marketplace.n_afn_unit_amount_last_365_days',\n",
       "                   'type': 'NUMERIC'},\n",
       "                  {'name': 'Abuse.completed_afn_orders_by_customer_marketplace.n_afn_unit_count_last_365_days',\n",
       "                   'type': 'NUMERIC'},\n",
       "                  {'name': 'Abuse.completed_mfn_orders_by_customer_marketplace.n_mfn_order_count_last_365_days',\n",
       "                   'type': 'NUMERIC'},\n",
       "                  {'name': 'Abuse.completed_mfn_orders_by_customer_marketplace.n_mfn_unit_amount_last_365_days',\n",
       "                   'type': 'NUMERIC'},\n",
       "                  {'name': 'Abuse.completed_mfn_orders_by_customer_marketplace.n_mfn_unit_count_last_365_days',\n",
       "                   'type': 'NUMERIC'},\n",
       "                  {'name': 'Abuse.dnr_by_customer_marketplace.n_dnr_amount_si_last_365_days',\n",
       "                   'type': 'NUMERIC'},\n",
       "                  {'name': 'Abuse.dnr_by_customer_marketplace.n_dnr_order_count_last_365_days',\n",
       "                   'type': 'NUMERIC'},\n",
       "                  {'name': 'Abuse.dnr_by_customer_marketplace.n_dnr_unit_amount_last_365_days',\n",
       "                   'type': 'NUMERIC'},\n",
       "                  {'name': 'Abuse.dnr_by_customer_marketplace.n_dnr_unit_count_last_365_days',\n",
       "                   'type': 'NUMERIC'},\n",
       "                  {'name': 'Abuse.mfn_a2z_claims_by_customer_na.n_mfn_claims_amount_last_365_days',\n",
       "                   'type': 'NUMERIC'},\n",
       "                  {'name': 'Abuse.mfn_a2z_claims_by_customer_na.n_mfn_claims_count_last_365_days',\n",
       "                   'type': 'NUMERIC'},\n",
       "                  {'name': 'Abuse.mfn_a2z_claims_by_customer_na.n_mfn_diff_claims_amount_last_365_days',\n",
       "                   'type': 'NUMERIC'},\n",
       "                  {'name': 'Abuse.mfn_a2z_claims_by_customer_na.n_mfn_diff_claims_count_last_365_days',\n",
       "                   'type': 'NUMERIC'},\n",
       "                  {'name': 'Abuse.mfn_a2z_claims_by_customer_na.n_mfn_notr_claims_amount_last_365_days',\n",
       "                   'type': 'NUMERIC'},\n",
       "                  {'name': 'Abuse.mfn_a2z_claims_by_customer_na.n_mfn_notr_claims_count_last_365_days',\n",
       "                   'type': 'NUMERIC'},\n",
       "                  {'name': 'Abuse.mfn_categorized_refunds_by_customer_marketplace.n_mfn_diff_refunds_order_count_last_365_days',\n",
       "                   'type': 'NUMERIC'},\n",
       "                  {'name': 'Abuse.mfn_categorized_refunds_by_customer_marketplace.n_mfn_diff_refunds_unit_amount_last_365_days',\n",
       "                   'type': 'NUMERIC'},\n",
       "                  {'name': 'Abuse.mfn_categorized_refunds_by_customer_marketplace.n_mfn_diff_refunds_unit_count_last_365_days',\n",
       "                   'type': 'NUMERIC'},\n",
       "                  {'name': 'Abuse.mfn_categorized_refunds_by_customer_marketplace.n_mfn_notr_refunds_order_count_last_365_days',\n",
       "                   'type': 'NUMERIC'},\n",
       "                  {'name': 'Abuse.mfn_categorized_refunds_by_customer_marketplace.n_mfn_notr_refunds_unit_amount_last_365_days',\n",
       "                   'type': 'NUMERIC'},\n",
       "                  {'name': 'Abuse.mfn_categorized_refunds_by_customer_marketplace.n_mfn_notr_refunds_unit_count_last_365_days',\n",
       "                   'type': 'NUMERIC'},\n",
       "                  {'name': 'Abuse.mfn_categorized_refunds_si_by_customer_marketplace.n_mfn_diff_refunds_si_365_days',\n",
       "                   'type': 'NUMERIC'},\n",
       "                  {'name': 'Abuse.mfn_categorized_refunds_si_by_customer_marketplace.n_mfn_notr_refunds_si_365_days',\n",
       "                   'type': 'NUMERIC'},\n",
       "                  {'name': 'Abuse.mfn_refunds_by_customer_marketplace.n_mfn_refund_order_count_last_365_days',\n",
       "                   'type': 'NUMERIC'},\n",
       "                  {'name': 'Abuse.mfn_refunds_by_customer_marketplace.n_mfn_refund_unit_amount_last_365_days',\n",
       "                   'type': 'NUMERIC'},\n",
       "                  {'name': 'Abuse.mfn_refunds_by_customer_marketplace.n_mfn_refund_unit_count_last_365_days',\n",
       "                   'type': 'NUMERIC'},\n",
       "                  {'name': 'Abuse.mfn_refunds_si_by_customer_marketplace.n_mfn_refund_amount_si_last_365_days',\n",
       "                   'type': 'NUMERIC'},\n",
       "                  {'name': 'Abuse.order_to_execution_time_from_eventvariables.n_order_to_execution',\n",
       "                   'type': 'NUMERIC'},\n",
       "                  {'name': 'Abuse.shiptrack_flag_by_order.n_any_delivered',\n",
       "                   'type': 'NUMERIC'},\n",
       "                  {'name': 'Abuse.shiptrack_flag_by_order.n_any_available_for_pickup',\n",
       "                   'type': 'NUMERIC'},\n",
       "                  {'name': 'Abuse.shiptrack_flag_by_order.n_any_partial_delivered',\n",
       "                   'type': 'NUMERIC'},\n",
       "                  {'name': 'Abuse.shiptrack_flag_by_order.n_any_undeliverable',\n",
       "                   'type': 'NUMERIC'},\n",
       "                  {'name': 'Abuse.shiptrack_flag_by_order.n_any_returning',\n",
       "                   'type': 'NUMERIC'},\n",
       "                  {'name': 'Abuse.shiptrack_flag_by_order.n_any_returned',\n",
       "                   'type': 'NUMERIC'},\n",
       "                  {'name': 'COMP_DAYOB', 'type': 'NUMERIC'},\n",
       "                  {'name': 'claimAmount_value', 'type': 'NUMERIC'},\n",
       "                  {'name': 'claimantInfo_allClaimCount365day',\n",
       "                   'type': 'NUMERIC'},\n",
       "                  {'name': 'claimantInfo_lifetimeClaimCount',\n",
       "                   'type': 'NUMERIC'},\n",
       "                  {'name': 'claimantInfo_pendingClaimCount',\n",
       "                   'type': 'NUMERIC'},\n",
       "                  {'name': 'PAYMETH', 'type': 'TEXT'},\n",
       "                  {'name': 'claim_reason', 'type': 'TEXT'},\n",
       "                  {'name': 'claimantInfo_status', 'type': 'TEXT'},\n",
       "                  {'name': 'shipments_status', 'type': 'TEXT'}]},\n",
       "                'output': {'variables': [{'name': 'legacy-score',\n",
       "                   'type': 'NUMERIC'},\n",
       "                  {'name': 'calibrated-score', 'type': 'NUMERIC'},\n",
       "                  {'name': 'custom-output-label', 'type': 'TEXT'}]}}},\n",
       "              'Payload': {'__model_type__': 'PayloadConfig',\n",
       "               'processing_instance_count': 1,\n",
       "               'processing_volume_size': 500,\n",
       "               'processing_instance_type_large': 'ml.m5.12xlarge',\n",
       "               'processing_instance_type_small': 'ml.m5.4xlarge',\n",
       "               'use_large_processing_instance': False,\n",
       "               'processing_source_dir': '/home/ec2-user/SageMaker/Cursus/dockers/xgboost_atoz/scripts',\n",
       "               'processing_framework_version': '1.2-1',\n",
       "               'effective_source_dir': 'dockers/xgboost_atoz/scripts',\n",
       "               'effective_instance_type': 'ml.m5.4xlarge',\n",
       "               'portable_processing_source_dir': 'dockers/xgboost_atoz/scripts',\n",
       "               'processing_entry_point': 'payload.py',\n",
       "               'script_path': 'dockers/xgboost_atoz/scripts/payload.py',\n",
       "               'model_owner': 'amzn1.abacus.team.djmdvixm5abr3p75c5ca',\n",
       "               'model_domain': 'AtoZ',\n",
       "               'model_objective': 'AtoZ_Claims_SM_Model_NA',\n",
       "               'framework': 'xgboost',\n",
       "               'source_model_inference_input_variable_list': [['Abuse.abuse_fap_action_by_customer_inline_transform_na.n_claims_solicit_count_last_365_days',\n",
       "                 'NUMERIC'],\n",
       "                ['Abuse.abuse_fap_action_by_customer_inline_transform_na.n_claims_warn_count_last_365_days',\n",
       "                 'NUMERIC'],\n",
       "                ['Abuse.abuse_fap_action_by_customer_inline_transform_na.n_concession_solicit_count_last_365_days',\n",
       "                 'NUMERIC'],\n",
       "                ['Abuse.abuse_fap_action_by_customer_inline_transform_na.n_concession_warn_count_last_365_days',\n",
       "                 'NUMERIC'],\n",
       "                ['Abuse.bsm_stats_for_evaluated_mfn_concessions_by_customer_na.n_max_buyer_order_message_time_gap',\n",
       "                 'NUMERIC'],\n",
       "                ['Abuse.bsm_stats_for_evaluated_mfn_concessions_by_customer_na.n_max_order_message_time_gap',\n",
       "                 'NUMERIC'],\n",
       "                ['Abuse.bsm_stats_for_evaluated_mfn_concessions_by_customer_na.n_max_seller_order_message_time_gap',\n",
       "                 'NUMERIC'],\n",
       "                ['Abuse.bsm_stats_for_evaluated_mfn_concessions_by_customer_na.n_message_count_with_diff_topic_si',\n",
       "                 'NUMERIC'],\n",
       "                ['Abuse.bsm_stats_for_evaluated_mfn_concessions_by_customer_na.n_message_count_with_notr_topic_si',\n",
       "                 'NUMERIC'],\n",
       "                ['Abuse.bsm_stats_for_evaluated_mfn_concessions_by_customer_na.n_message_count_with_return_keywords_si',\n",
       "                 'NUMERIC'],\n",
       "                ['Abuse.bsm_stats_for_evaluated_mfn_concessions_by_customer_na.n_min_buyer_message_count',\n",
       "                 'NUMERIC'],\n",
       "                ['Abuse.bsm_stats_for_evaluated_mfn_concessions_by_customer_na.n_min_buyer_order_message_time_gap',\n",
       "                 'NUMERIC'],\n",
       "                ['Abuse.bsm_stats_for_evaluated_mfn_concessions_by_customer_na.n_min_message_count',\n",
       "                 'NUMERIC'],\n",
       "                ['Abuse.bsm_stats_for_evaluated_mfn_concessions_by_customer_na.n_min_order_message_time_gap',\n",
       "                 'NUMERIC'],\n",
       "                ['Abuse.bsm_stats_for_evaluated_mfn_concessions_by_customer_na.n_min_seller_message_count',\n",
       "                 'NUMERIC'],\n",
       "                ['Abuse.bsm_stats_for_evaluated_mfn_concessions_by_customer_na.n_min_seller_order_message_time_gap',\n",
       "                 'NUMERIC'],\n",
       "                ['Abuse.bsm_stats_for_evaluated_mfn_concessions_by_customer_na.n_total_buyer_message_count',\n",
       "                 'NUMERIC'],\n",
       "                ['Abuse.bsm_stats_for_evaluated_mfn_concessions_by_customer_na.n_total_message_count',\n",
       "                 'NUMERIC'],\n",
       "                ['Abuse.bsm_stats_for_evaluated_mfn_concessions_by_customer_na.n_total_seller_message_count',\n",
       "                 'NUMERIC'],\n",
       "                ['Abuse.bsm_stats_for_evaluated_mfn_concessions_by_customer_na.n_total_topic_count',\n",
       "                 'NUMERIC'],\n",
       "                ['Abuse.completed_afn_orders_by_customer_marketplace.n_afn_order_count_last_365_days',\n",
       "                 'NUMERIC'],\n",
       "                ['Abuse.completed_afn_orders_by_customer_marketplace.n_afn_unit_amount_last_365_days',\n",
       "                 'NUMERIC'],\n",
       "                ['Abuse.completed_afn_orders_by_customer_marketplace.n_afn_unit_count_last_365_days',\n",
       "                 'NUMERIC'],\n",
       "                ['Abuse.completed_mfn_orders_by_customer_marketplace.n_mfn_order_count_last_365_days',\n",
       "                 'NUMERIC'],\n",
       "                ['Abuse.completed_mfn_orders_by_customer_marketplace.n_mfn_unit_amount_last_365_days',\n",
       "                 'NUMERIC'],\n",
       "                ['Abuse.completed_mfn_orders_by_customer_marketplace.n_mfn_unit_count_last_365_days',\n",
       "                 'NUMERIC'],\n",
       "                ['Abuse.dnr_by_customer_marketplace.n_dnr_amount_si_last_365_days',\n",
       "                 'NUMERIC'],\n",
       "                ['Abuse.dnr_by_customer_marketplace.n_dnr_order_count_last_365_days',\n",
       "                 'NUMERIC'],\n",
       "                ['Abuse.dnr_by_customer_marketplace.n_dnr_unit_amount_last_365_days',\n",
       "                 'NUMERIC'],\n",
       "                ['Abuse.dnr_by_customer_marketplace.n_dnr_unit_count_last_365_days',\n",
       "                 'NUMERIC'],\n",
       "                ['Abuse.mfn_a2z_claims_by_customer_na.n_mfn_claims_amount_last_365_days',\n",
       "                 'NUMERIC'],\n",
       "                ['Abuse.mfn_a2z_claims_by_customer_na.n_mfn_claims_count_last_365_days',\n",
       "                 'NUMERIC'],\n",
       "                ['Abuse.mfn_a2z_claims_by_customer_na.n_mfn_diff_claims_amount_last_365_days',\n",
       "                 'NUMERIC'],\n",
       "                ['Abuse.mfn_a2z_claims_by_customer_na.n_mfn_diff_claims_count_last_365_days',\n",
       "                 'NUMERIC'],\n",
       "                ['Abuse.mfn_a2z_claims_by_customer_na.n_mfn_notr_claims_amount_last_365_days',\n",
       "                 'NUMERIC'],\n",
       "                ['Abuse.mfn_a2z_claims_by_customer_na.n_mfn_notr_claims_count_last_365_days',\n",
       "                 'NUMERIC'],\n",
       "                ['Abuse.mfn_categorized_refunds_by_customer_marketplace.n_mfn_diff_refunds_order_count_last_365_days',\n",
       "                 'NUMERIC'],\n",
       "                ['Abuse.mfn_categorized_refunds_by_customer_marketplace.n_mfn_diff_refunds_unit_amount_last_365_days',\n",
       "                 'NUMERIC'],\n",
       "                ['Abuse.mfn_categorized_refunds_by_customer_marketplace.n_mfn_diff_refunds_unit_count_last_365_days',\n",
       "                 'NUMERIC'],\n",
       "                ['Abuse.mfn_categorized_refunds_by_customer_marketplace.n_mfn_notr_refunds_order_count_last_365_days',\n",
       "                 'NUMERIC'],\n",
       "                ['Abuse.mfn_categorized_refunds_by_customer_marketplace.n_mfn_notr_refunds_unit_amount_last_365_days',\n",
       "                 'NUMERIC'],\n",
       "                ['Abuse.mfn_categorized_refunds_by_customer_marketplace.n_mfn_notr_refunds_unit_count_last_365_days',\n",
       "                 'NUMERIC'],\n",
       "                ['Abuse.mfn_categorized_refunds_si_by_customer_marketplace.n_mfn_diff_refunds_si_365_days',\n",
       "                 'NUMERIC'],\n",
       "                ['Abuse.mfn_categorized_refunds_si_by_customer_marketplace.n_mfn_notr_refunds_si_365_days',\n",
       "                 'NUMERIC'],\n",
       "                ['Abuse.mfn_refunds_by_customer_marketplace.n_mfn_refund_order_count_last_365_days',\n",
       "                 'NUMERIC'],\n",
       "                ['Abuse.mfn_refunds_by_customer_marketplace.n_mfn_refund_unit_amount_last_365_days',\n",
       "                 'NUMERIC'],\n",
       "                ['Abuse.mfn_refunds_by_customer_marketplace.n_mfn_refund_unit_count_last_365_days',\n",
       "                 'NUMERIC'],\n",
       "                ['Abuse.mfn_refunds_si_by_customer_marketplace.n_mfn_refund_amount_si_last_365_days',\n",
       "                 'NUMERIC'],\n",
       "                ['Abuse.order_to_execution_time_from_eventvariables.n_order_to_execution',\n",
       "                 'NUMERIC'],\n",
       "                ['Abuse.shiptrack_flag_by_order.n_any_delivered', 'NUMERIC'],\n",
       "                ['Abuse.shiptrack_flag_by_order.n_any_available_for_pickup',\n",
       "                 'NUMERIC'],\n",
       "                ['Abuse.shiptrack_flag_by_order.n_any_partial_delivered',\n",
       "                 'NUMERIC'],\n",
       "                ['Abuse.shiptrack_flag_by_order.n_any_undeliverable',\n",
       "                 'NUMERIC'],\n",
       "                ['Abuse.shiptrack_flag_by_order.n_any_returning', 'NUMERIC'],\n",
       "                ['Abuse.shiptrack_flag_by_order.n_any_returned', 'NUMERIC'],\n",
       "                ['COMP_DAYOB', 'NUMERIC'],\n",
       "                ['claimAmount_value', 'NUMERIC'],\n",
       "                ['claimantInfo_allClaimCount365day', 'NUMERIC'],\n",
       "                ['claimantInfo_lifetimeClaimCount', 'NUMERIC'],\n",
       "                ['claimantInfo_pendingClaimCount', 'NUMERIC'],\n",
       "                ['PAYMETH', 'TEXT'],\n",
       "                ['claim_reason', 'TEXT'],\n",
       "                ['claimantInfo_status', 'TEXT'],\n",
       "                ['shipments_status', 'TEXT']],\n",
       "               'source_model_inference_content_types': ['text/csv'],\n",
       "               'source_model_inference_response_types': ['application/json'],\n",
       "               'source_model_inference_output_variable_list': {'legacy-score': 'NUMERIC',\n",
       "                'calibrated-score': 'NUMERIC',\n",
       "                'custom-output-label': 'TEXT'},\n",
       "               'expected_tps': 2,\n",
       "               'max_latency_in_millisecond': 800,\n",
       "               'max_acceptable_error_rate': 0.2,\n",
       "               'default_numeric_value': 0.0,\n",
       "               'default_text_value': 'DEFAULT_TEXT'}})}"
      ]
     },
     "execution_count": 194,
     "metadata": {},
     "output_type": "execute_result"
    }
   ],
   "source": [
    "merged_config"
   ]
  },
  {
   "cell_type": "code",
   "execution_count": null,
   "id": "b10e5303-3716-4b05-be3f-caee14d202fd",
   "metadata": {},
   "outputs": [],
   "source": []
  },
  {
   "cell_type": "code",
   "execution_count": 195,
   "id": "3e04ebca-4adb-4728-9fd4-84f9311f389b",
   "metadata": {
    "tags": []
   },
   "outputs": [],
   "source": [
    "def save_config_to_json(\n",
    "    config: BaseModel, \n",
    "    config_path: str = \"config/config.json\"\n",
    ") -> Path:\n",
    "    \"\"\"\n",
    "    Save ModelConfig and ModelHyperparameters to JSON file\n",
    "    \n",
    "    Args:\n",
    "        model_config: ModelConfig instance\n",
    "        hyperparams: ModelHyperparameters instance\n",
    "        config_path: Path to save the config file\n",
    "    \n",
    "    Returns:\n",
    "        Path object of the saved config file\n",
    "    \"\"\"\n",
    "    try:\n",
    "        # Convert both models to dictionaries\n",
    "        config_dict = config.model_dump()\n",
    "        \n",
    "        # Create config directory if it doesn't exist\n",
    "        path = Path(config_path)\n",
    "        path.parent.mkdir(parents=True, exist_ok=True)\n",
    "        \n",
    "        # Save to JSON file\n",
    "        with open(path, 'w') as f:\n",
    "            json.dump(config_dict, f, indent=2, sort_keys=True)\n",
    "            \n",
    "        print(f\"Configuration saved to: {path}\")\n",
    "        return path\n",
    "        \n",
    "    except Exception as e:\n",
    "        raise ValueError(f\"Failed to save config: {str(e)}\")"
   ]
  },
  {
   "cell_type": "code",
   "execution_count": 196,
   "id": "a979def1-eb9d-4a3d-95d7-e0d23ac10715",
   "metadata": {
    "tags": []
   },
   "outputs": [
    {
     "name": "stdout",
     "output_type": "stream",
     "text": [
      "Configuration saved to: /home/ec2-user/SageMaker/Cursus/pipeline_config/config_NA_xgboost_AtoZ_v2/hyperparameters_NA_xgboost.json\n"
     ]
    },
    {
     "data": {
      "text/plain": [
       "PosixPath('/home/ec2-user/SageMaker/Cursus/pipeline_config/config_NA_xgboost_AtoZ_v2/hyperparameters_NA_xgboost.json')"
      ]
     },
     "execution_count": 196,
     "metadata": {},
     "output_type": "execute_result"
    }
   ],
   "source": [
    "save_config_to_json(\n",
    "    xgb_hyperparams, \n",
    "    str(config_dir / f'hyperparameters_{region}_{MODEL_CLASS}.json')\n",
    ")"
   ]
  },
  {
   "cell_type": "code",
   "execution_count": 197,
   "id": "74c9a343-fc70-4b35-89d4-3a6abef506be",
   "metadata": {
    "tags": []
   },
   "outputs": [
    {
     "data": {
      "text/plain": [
       "'mds_parquet/NA'"
      ]
     },
     "execution_count": 197,
     "metadata": {},
     "output_type": "execute_result"
    }
   ],
   "source": [
    "data_type = 'mds_parquet'\n",
    "region_alias = region\n",
    "mds_data_dir_suffix = f\"{data_type}/{region_alias}\"\n",
    "mds_data_dir_suffix"
   ]
  },
  {
   "cell_type": "code",
   "execution_count": 198,
   "id": "e51f6ca2-26a1-4943-8dce-392d2a6ce224",
   "metadata": {
    "tags": []
   },
   "outputs": [
    {
     "data": {
      "text/plain": [
       "'sandboxdependency-abuse-secureaisandboxteamshare-1l77v9am252um'"
      ]
     },
     "execution_count": 198,
     "metadata": {},
     "output_type": "execute_result"
    }
   ],
   "source": [
    "bucket"
   ]
  },
  {
   "cell_type": "markdown",
   "id": "72580a12-caff-4b66-b4b9-274b79aeaa70",
   "metadata": {},
   "source": [
    "### Optional: Clean Up S3 and Reupload Configs"
   ]
  },
  {
   "cell_type": "code",
   "execution_count": null,
   "id": "9d6d2226-1314-459c-85cd-68d339d56e25",
   "metadata": {
    "tags": []
   },
   "outputs": [],
   "source": [
    "def sync_with_s3(s3_loc: str, config_dir: Path):\n",
    "    \"\"\"\n",
    "    Synchronize local configurations and data with S3.\n",
    "    \n",
    "    Args:\n",
    "        s3_loc: S3 location base path\n",
    "        config_dir: Local config directory path\n",
    "        prefix: Base prefix for data directory\n",
    "        data_type: Type of data (e.g., 'mds_parquet')\n",
    "        region: Region identifier\n",
    "    \"\"\"\n",
    "    # Clear existing S3 location\n",
    "    subprocess.run([\n",
    "        'aws', 's3', 'rm', '--recursive', s3_loc\n",
    "    ], check=True)\n",
    "\n",
    "    # Upload config files\n",
    "    config_s3_path = os.path.join(s3_loc, 'input', 'config')\n",
    "    subprocess.run([\n",
    "        'aws', 's3', 'cp', '--recursive', str(config_dir), config_s3_path\n",
    "    ], check=True)\n",
    "    print(f\"Config uploaded to s3://{config_s3_path}\")\n",
    "\n",
    "    # Upload data files\n",
    "    #data_dir_suffix = f\"{data_type}/{region}\"\n",
    "    #data_source = os.path.join(prefix, data_dir_suffix)\n",
    "    #data_destination = os.path.join(s3_loc, data_dir_suffix)\n",
    "    #subprocess.run([\n",
    "    #    'aws', 's3', 'cp', '--recursive', data_source, data_destination\n",
    "    #///////], check=True)"
   ]
  },
  {
   "cell_type": "code",
   "execution_count": null,
   "id": "0000b9ca-0846-47fc-8e30-13f7e5cb8e69",
   "metadata": {
    "tags": []
   },
   "outputs": [],
   "source": [
    "pipeline_s3_loc = base_config.pipeline_s3_loc"
   ]
  },
  {
   "cell_type": "code",
   "execution_count": null,
   "id": "34895b86-d60b-4383-b498-1f1561be01c0",
   "metadata": {
    "tags": []
   },
   "outputs": [],
   "source": [
    "config_dir"
   ]
  },
  {
   "cell_type": "code",
   "execution_count": null,
   "id": "350e9607-dd5e-4323-a5f2-f224e145601d",
   "metadata": {
    "scrolled": true,
    "tags": []
   },
   "outputs": [],
   "source": [
    "sync_with_s3(pipeline_s3_loc, config_dir)\n"
   ]
  },
  {
   "cell_type": "markdown",
   "id": "e397346d-214b-482f-b111-c91059972af4",
   "metadata": {},
   "source": [
    "## Optional: Upload Local Model to S3"
   ]
  },
  {
   "cell_type": "code",
   "execution_count": null,
   "id": "70820465-ac70-41c4-a5e4-21a35241f3d7",
   "metadata": {
    "tags": []
   },
   "outputs": [],
   "source": [
    "#model_s3_path = os.path.join(pipeline_s3_loc, 'prod', 'model.tar.gz')\n",
    "#model_s3_path"
   ]
  },
  {
   "cell_type": "code",
   "execution_count": null,
   "id": "b4294593-7ce0-46cf-a673-011c441c7b32",
   "metadata": {
    "tags": []
   },
   "outputs": [],
   "source": [
    "#model_local_path = Path(current_dir) / 'model.tar.gz'\n",
    "#model_local_path"
   ]
  },
  {
   "cell_type": "markdown",
   "id": "d688ee4a-e2d1-42bf-ba06-6aa264bbf140",
   "metadata": {
    "tags": []
   },
   "source": [
    "def upload_model_to_s3(\n",
    "    model_local_path: Path,\n",
    "    model_s3_path: str,\n",
    "    remove_local: bool = True\n",
    ") -> bool:\n",
    "    \"\"\"\n",
    "    Upload model artifact to S3.\n",
    "    \n",
    "    Args:\n",
    "        model_local_path: Local path to model file\n",
    "        model_s3_path: S3 destination path\n",
    "        remove_local: Whether to remove local file after upload\n",
    "    \n",
    "    Returns:\n",
    "        bool: True if successful, False otherwise\n",
    "    \"\"\"\n",
    "    logger = logging.getLogger(__name__)\n",
    "    \n",
    "    try:\n",
    "        # Method 1: Using boto3\n",
    "        s3_client = boto3.client('s3')\n",
    "        \n",
    "        # Extract bucket and key from s3 path\n",
    "        s3_path = model_s3_path.replace('s3://', '')\n",
    "        bucket = s3_path.split('/')[0]\n",
    "        key = '/'.join(s3_path.split('/')[1:])\n",
    "        \n",
    "        logger.info(f\"Uploading model from {model_local_path} to s3://{bucket}/{key}\")\n",
    "        \n",
    "        s3_client.upload_file(\n",
    "            str(model_local_path),\n",
    "            bucket,\n",
    "            key\n",
    "        )\n",
    "        \n",
    "        # Alternative Method 2: Using AWS CLI\n",
    "        # subprocess.run([\n",
    "        #     'aws', 's3', 'cp',\n",
    "        #     str(model_local_path),\n",
    "        #     model_s3_path\n",
    "        # ], check=True)\n",
    "        \n",
    "        if remove_local and model_local_path.exists():\n",
    "            model_local_path.unlink()\n",
    "            logger.info(f\"Removed local file: {model_local_path}\")\n",
    "            \n",
    "        logger.info(\"Model upload completed successfully\")\n",
    "        return True\n",
    "        \n",
    "    except ClientError as e:\n",
    "        logger.error(f\"Failed to upload model to S3: {str(e)}\")\n",
    "        return False\n",
    "    except Exception as e:\n",
    "        logger.error(f\"Unexpected error during model upload: {str(e)}\")\n",
    "        return False"
   ]
  },
  {
   "cell_type": "markdown",
   "id": "8d29f766-918f-400c-a7e0-329e526dcf0e",
   "metadata": {
    "tags": []
   },
   "source": [
    "def ensure_s3_path_exists(s3_path: str) -> bool:\n",
    "    \"\"\"\n",
    "    Ensure the S3 path exists by creating necessary directories.\n",
    "    \n",
    "    Args:\n",
    "        s3_path: S3 path to verify/create\n",
    "    \n",
    "    Returns:\n",
    "        bool: True if path exists or was created successfully\n",
    "    \"\"\"\n",
    "    try:\n",
    "        s3_client = boto3.client('s3')\n",
    "        \n",
    "        # Extract bucket and prefix\n",
    "        s3_path = s3_path.replace('s3://', '')\n",
    "        bucket = s3_path.split('/')[0]\n",
    "        prefix = '/'.join(s3_path.split('/')[1:])\n",
    "        \n",
    "        # Create empty object to ensure path exists\n",
    "        if prefix:\n",
    "            s3_client.put_object(Bucket=bucket, Key=f\"{prefix}/\")\n",
    "        return True\n",
    "    except Exception as e:\n",
    "        logging.error(f\"Failed to create S3 path: {str(e)}\")\n",
    "        return False"
   ]
  },
  {
   "cell_type": "markdown",
   "id": "b365f5e8-2b99-4ed3-b220-37dc1b63392a",
   "metadata": {
    "tags": []
   },
   "source": [
    "if not model_local_path.exists():\n",
    "    raise FileNotFoundError(f\"Model file not found at {model_local_path}\")"
   ]
  },
  {
   "cell_type": "markdown",
   "id": "1fc82fcc-cfc8-487c-865d-ed8baa565063",
   "metadata": {
    "tags": []
   },
   "source": [
    "########## Ensure S3 path exists\n",
    "if not ensure_s3_path_exists(model_s3_path):\n",
    "    raise RuntimeError(f\"Failed to create S3 path: {model_s3_path}\")"
   ]
  },
  {
   "cell_type": "markdown",
   "id": "52c79291-6d97-4b8d-8c51-679fbd2f08c2",
   "metadata": {
    "tags": []
   },
   "source": [
    "######## Upload model\n",
    "if upload_model_to_s3(model_local_path, model_s3_path, remove_local=False):\n",
    "    logging.info(\"Model upload process completed successfully\")\n",
    "else:\n",
    "    raise RuntimeError(\"Failed to upload model to S3\")"
   ]
  },
  {
   "cell_type": "code",
   "execution_count": null,
   "id": "9b44c554-905d-4523-ae35-26959362f86a",
   "metadata": {},
   "outputs": [],
   "source": []
  },
  {
   "cell_type": "code",
   "execution_count": null,
   "id": "29def231-b56d-49f3-9fcb-2825e42c5eca",
   "metadata": {},
   "outputs": [],
   "source": []
  },
  {
   "cell_type": "code",
   "execution_count": null,
   "id": "36e8b711-4158-42d8-b54d-1ddb6ee9eb49",
   "metadata": {},
   "outputs": [],
   "source": []
  },
  {
   "cell_type": "code",
   "execution_count": null,
   "id": "3a7b2277-c539-477d-92df-341926096250",
   "metadata": {},
   "outputs": [],
   "source": []
  },
  {
   "cell_type": "code",
   "execution_count": null,
   "id": "ffe7a57d-45f0-4d2c-863f-9648a1c7c6ec",
   "metadata": {},
   "outputs": [],
   "source": []
  },
  {
   "cell_type": "code",
   "execution_count": null,
   "id": "de989cc3-3d71-466d-a414-bddba386550e",
   "metadata": {},
   "outputs": [],
   "source": []
  }
 ],
 "metadata": {
  "kernelspec": {
   "display_name": "conda_python3",
   "language": "python",
   "name": "conda_python3"
  },
  "language_info": {
   "codemirror_mode": {
    "name": "ipython",
    "version": 3
   },
   "file_extension": ".py",
   "mimetype": "text/x-python",
   "name": "python",
   "nbconvert_exporter": "python",
   "pygments_lexer": "ipython3",
   "version": "3.10.18"
  }
 },
 "nbformat": 4,
 "nbformat_minor": 5
}
