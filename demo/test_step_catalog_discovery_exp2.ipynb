{
 "cells": [
  {
   "cell_type": "markdown",
   "metadata": {},
   "source": [
    "# Step Catalog Discovery Test\n",
    "\n",
    "This notebook tests whether the StepCatalog can successfully discover configuration classes under `src/cursus/steps/configs`.\n",
    "\n",
    "**Expected Results:**\n",
    "- Should find 16+ config classes from `src/cursus/steps/configs/`\n",
    "- Should work in both installed and submodule environments\n",
    "\n",
    "**Test Environments:**\n",
    "1. **Installed Environment**: cursus installed via `pip install -e .`\n",
    "2. **Submodule Environment**: cursus used as submodule with sys.path setup"
   ]
  },
  {
   "cell_type": "markdown",
   "metadata": {},
   "source": [
    "## Setup and Imports"
   ]
  },
  {
   "cell_type": "code",
   "execution_count": 8,
   "metadata": {},
   "outputs": [
    {
     "name": "stdout",
     "output_type": "stream",
     "text": [
      "Project root: /home/ec2-user/SageMaker/Cursus\n",
      "Current working directory: /home/ec2-user/SageMaker/Cursus/demo\n",
      "Python path includes project root: True\n",
      "\n",
      "❌ Cursus is NOT installed as package (pure submodule mode)\n"
     ]
    }
   ],
   "source": [
    "import sys\n",
    "import os\n",
    "from pathlib import Path\n",
    "\n",
    "# Add project root to Python path for submodule usage\n",
    "project_root = Path.cwd().parent\n",
    "if str(project_root) not in sys.path:\n",
    "    sys.path.insert(0, str(project_root))\n",
    "\n",
    "print(f\"Project root: {project_root}\")\n",
    "print(f\"Current working directory: {Path.cwd()}\")\n",
    "print(f\"Python path includes project root: {str(project_root) in sys.path}\")\n",
    "\n",
    "# Check if cursus is installed as a package\n",
    "try:\n",
    "    import cursus\n",
    "    print(f\"\\n✅ Cursus is INSTALLED as package\")\n",
    "    print(f\"Cursus package location: {cursus.__file__}\")\n",
    "    cursus_installed = True\n",
    "except ImportError:\n",
    "    print(f\"\\n❌ Cursus is NOT installed as package (pure submodule mode)\")\n",
    "    cursus_installed = False"
   ]
  },
  {
   "cell_type": "markdown",
   "metadata": {},
   "source": [
    "## Test 1: Basic StepCatalog Import"
   ]
  },
  {
   "cell_type": "code",
   "execution_count": 9,
   "metadata": {},
   "outputs": [
    {
     "name": "stdout",
     "output_type": "stream",
     "text": [
      "✅ Successfully imported StepCatalog\n"
     ]
    }
   ],
   "source": [
    "try:\n",
    "    from src.cursus.step_catalog.step_catalog import StepCatalog\n",
    "    print(\"✅ Successfully imported StepCatalog\")\n",
    "    import_success = True\n",
    "except ImportError as e:\n",
    "    print(f\"❌ Failed to import StepCatalog: {e}\")\n",
    "    import_success = False"
   ]
  },
  {
   "cell_type": "markdown",
   "metadata": {},
   "source": [
    "## Test 2: StepCatalog Initialization"
   ]
  },
  {
   "cell_type": "code",
   "execution_count": 10,
   "metadata": {},
   "outputs": [
    {
     "name": "stdout",
     "output_type": "stream",
     "text": [
      "✅ Successfully initialized StepCatalog\n",
      "Package root detected: /home/ec2-user/SageMaker/Cursus/src/cursus\n",
      "Package root exists: True\n",
      "Configs directory: /home/ec2-user/SageMaker/Cursus/src/cursus/steps/configs\n",
      "Configs directory exists: True\n",
      "Found 18 Python files in configs directory\n",
      "  - config_package_step.py\n",
      "  - config_dummy_training_step.py\n",
      "  - __init__.py\n",
      "  - config_xgboost_model_eval_step.py\n",
      "  - config_pytorch_training_step.py\n",
      "  ... and 13 more\n"
     ]
    }
   ],
   "source": [
    "if import_success:\n",
    "    try:\n",
    "        # Initialize StepCatalog\n",
    "        catalog = StepCatalog()\n",
    "        print(\"✅ Successfully initialized StepCatalog\")\n",
    "        \n",
    "        # Check package root detection\n",
    "        print(f\"Package root detected: {catalog.package_root}\")\n",
    "        print(f\"Package root exists: {catalog.package_root.exists()}\")\n",
    "        \n",
    "        # Check if steps/configs directory is found\n",
    "        configs_dir = catalog.package_root / \"steps\" / \"configs\"\n",
    "        print(f\"Configs directory: {configs_dir}\")\n",
    "        print(f\"Configs directory exists: {configs_dir.exists()}\")\n",
    "        \n",
    "        if configs_dir.exists():\n",
    "            config_files = list(configs_dir.glob(\"*.py\"))\n",
    "            print(f\"Found {len(config_files)} Python files in configs directory\")\n",
    "            for f in config_files[:5]:  # Show first 5\n",
    "                print(f\"  - {f.name}\")\n",
    "            if len(config_files) > 5:\n",
    "                print(f\"  ... and {len(config_files) - 5} more\")\n",
    "        \n",
    "        catalog_success = True\n",
    "    except Exception as e:\n",
    "        print(f\"❌ Failed to initialize StepCatalog: {e}\")\n",
    "        catalog_success = False\n",
    "else:\n",
    "    catalog_success = False"
   ]
  },
  {
   "cell_type": "markdown",
   "metadata": {},
   "source": [
    "## Test 3: Configuration Class Discovery"
   ]
  },
  {
   "cell_type": "code",
   "execution_count": 11,
   "metadata": {},
   "outputs": [
    {
     "name": "stderr",
     "output_type": "stream",
     "text": [
      "ERROR:src.cursus.step_catalog.config_discovery:Failed to import ConfigClassStore: No module named 'src.cursus.core.config_fields.config_class_store'\n",
      "WARNING:src.cursus.step_catalog.config_discovery:Error importing config class PackageConfig from /home/ec2-user/SageMaker/Cursus/src/cursus/steps/configs/config_package_step.py: No module named 'cursus'\n",
      "WARNING:src.cursus.step_catalog.config_discovery:Error importing config class DummyTrainingConfig from /home/ec2-user/SageMaker/Cursus/src/cursus/steps/configs/config_dummy_training_step.py: No module named 'cursus'\n",
      "WARNING:src.cursus.step_catalog.config_discovery:Error importing config class XGBoostModelEvalConfig from /home/ec2-user/SageMaker/Cursus/src/cursus/steps/configs/config_xgboost_model_eval_step.py: No module named 'cursus'\n",
      "WARNING:src.cursus.step_catalog.config_discovery:Error importing config class PyTorchTrainingConfig from /home/ec2-user/SageMaker/Cursus/src/cursus/steps/configs/config_pytorch_training_step.py: No module named 'cursus'\n",
      "WARNING:src.cursus.step_catalog.config_discovery:Error importing config class PyTorchModelStepConfig from /home/ec2-user/SageMaker/Cursus/src/cursus/steps/configs/config_pytorch_model_step.py: No module named 'cursus'\n",
      "WARNING:src.cursus.step_catalog.config_discovery:Error importing config class BaseCradleComponentConfig from /home/ec2-user/SageMaker/Cursus/src/cursus/steps/configs/config_cradle_data_loading_step.py: No module named 'cursus'\n",
      "WARNING:src.cursus.step_catalog.config_discovery:Error importing config class MdsDataSourceConfig from /home/ec2-user/SageMaker/Cursus/src/cursus/steps/configs/config_cradle_data_loading_step.py: No module named 'cursus'\n",
      "WARNING:src.cursus.step_catalog.config_discovery:Error importing config class EdxDataSourceConfig from /home/ec2-user/SageMaker/Cursus/src/cursus/steps/configs/config_cradle_data_loading_step.py: No module named 'cursus'\n",
      "WARNING:src.cursus.step_catalog.config_discovery:Error importing config class AndesDataSourceConfig from /home/ec2-user/SageMaker/Cursus/src/cursus/steps/configs/config_cradle_data_loading_step.py: No module named 'cursus'\n",
      "WARNING:src.cursus.step_catalog.config_discovery:Error importing config class DataSourceConfig from /home/ec2-user/SageMaker/Cursus/src/cursus/steps/configs/config_cradle_data_loading_step.py: No module named 'cursus'\n",
      "WARNING:src.cursus.step_catalog.config_discovery:Error importing config class DataSourcesSpecificationConfig from /home/ec2-user/SageMaker/Cursus/src/cursus/steps/configs/config_cradle_data_loading_step.py: No module named 'cursus'\n",
      "WARNING:src.cursus.step_catalog.config_discovery:Error importing config class JobSplitOptionsConfig from /home/ec2-user/SageMaker/Cursus/src/cursus/steps/configs/config_cradle_data_loading_step.py: No module named 'cursus'\n",
      "WARNING:src.cursus.step_catalog.config_discovery:Error importing config class TransformSpecificationConfig from /home/ec2-user/SageMaker/Cursus/src/cursus/steps/configs/config_cradle_data_loading_step.py: No module named 'cursus'\n",
      "WARNING:src.cursus.step_catalog.config_discovery:Error importing config class OutputSpecificationConfig from /home/ec2-user/SageMaker/Cursus/src/cursus/steps/configs/config_cradle_data_loading_step.py: No module named 'cursus'\n",
      "WARNING:src.cursus.step_catalog.config_discovery:Error importing config class CradleJobSpecificationConfig from /home/ec2-user/SageMaker/Cursus/src/cursus/steps/configs/config_cradle_data_loading_step.py: No module named 'cursus'\n",
      "WARNING:src.cursus.step_catalog.config_discovery:Error importing config class CradleDataLoadConfig from /home/ec2-user/SageMaker/Cursus/src/cursus/steps/configs/config_cradle_data_loading_step.py: No module named 'cursus'\n",
      "WARNING:src.cursus.step_catalog.config_discovery:Error importing config class CurrencyConversionConfig from /home/ec2-user/SageMaker/Cursus/src/cursus/steps/configs/config_currency_conversion_step.py: No module named 'cursus'\n",
      "WARNING:src.cursus.step_catalog.config_discovery:Error importing config class RegistrationConfig from /home/ec2-user/SageMaker/Cursus/src/cursus/steps/configs/config_registration_step.py: No module named 'cursus'\n",
      "WARNING:src.cursus.step_catalog.config_discovery:Error importing config class PayloadConfig from /home/ec2-user/SageMaker/Cursus/src/cursus/steps/configs/config_payload_step.py: No module named 'cursus'\n",
      "WARNING:src.cursus.step_catalog.config_discovery:Error importing config class RiskTableMappingConfig from /home/ec2-user/SageMaker/Cursus/src/cursus/steps/configs/config_risk_table_mapping_step.py: No module named 'cursus'\n",
      "WARNING:src.cursus.step_catalog.config_discovery:Error importing config class XGBoostTrainingConfig from /home/ec2-user/SageMaker/Cursus/src/cursus/steps/configs/config_xgboost_training_step.py: No module named 'cursus'\n",
      "WARNING:src.cursus.step_catalog.config_discovery:Error importing config class TabularPreprocessingConfig from /home/ec2-user/SageMaker/Cursus/src/cursus/steps/configs/config_tabular_preprocessing_step.py: No module named 'cursus'\n",
      "WARNING:src.cursus.step_catalog.config_discovery:Error importing config class XGBoostModelStepConfig from /home/ec2-user/SageMaker/Cursus/src/cursus/steps/configs/config_xgboost_model_step.py: No module named 'cursus'\n",
      "WARNING:src.cursus.step_catalog.config_discovery:Error importing config class BatchTransformStepConfig from /home/ec2-user/SageMaker/Cursus/src/cursus/steps/configs/config_batch_transform_step.py: No module named 'cursus'\n",
      "WARNING:src.cursus.step_catalog.config_discovery:Error importing config class ProcessingStepConfigBase from /home/ec2-user/SageMaker/Cursus/src/cursus/steps/configs/config_processing_step_base.py: No module named 'cursus'\n",
      "WARNING:src.cursus.step_catalog.config_discovery:Error importing config class ModelCalibrationConfig from /home/ec2-user/SageMaker/Cursus/src/cursus/steps/configs/config_model_calibration_step.py: No module named 'cursus'\n",
      "INFO:src.cursus.step_catalog.config_discovery:Discovered 0 core config classes\n",
      "WARNING:src.cursus.step_catalog.config_discovery:Error importing hyperparameter class BSMModelHyperparameters from /home/ec2-user/SageMaker/Cursus/src/cursus/steps/hyperparams/hyperparameters_bsm.py: No module named 'cursus'\n",
      "WARNING:src.cursus.step_catalog.config_discovery:Error importing hyperparameter class XGBoostModelHyperparameters from /home/ec2-user/SageMaker/Cursus/src/cursus/steps/hyperparams/hyperparameters_xgboost.py: No module named 'cursus'\n",
      "INFO:src.cursus.step_catalog.config_discovery:Discovered 0 core hyperparameter classes\n"
     ]
    },
    {
     "name": "stdout",
     "output_type": "stream",
     "text": [
      "Testing configuration class discovery...\n",
      "\n",
      "✅ Successfully discovered 1 config classes:\n",
      "  - ModelHyperparameters (from src.cursus.core.base.hyperparameters_base)\n"
     ]
    }
   ],
   "source": [
    "if catalog_success:\n",
    "    try:\n",
    "        # Test configuration class discovery\n",
    "        print(\"Testing configuration class discovery...\")\n",
    "        \n",
    "        # Get all discovered config classes using the correct method\n",
    "        config_classes = catalog.build_complete_config_classes()\n",
    "        print(f\"\\n✅ Successfully discovered {len(config_classes)} config classes:\")\n",
    "        \n",
    "        # Display discovered classes\n",
    "        for class_name, class_type in sorted(config_classes.items()):\n",
    "            module_name = getattr(class_type, '__module__', 'unknown')\n",
    "            print(f\"  - {class_name} (from {module_name})\")\n",
    "        \n",
    "        discovery_success = True\n",
    "        \n",
    "    except Exception as e:\n",
    "        print(f\"❌ Failed to discover config classes: {e}\")\n",
    "        print(f\"Error type: {type(e).__name__}\")\n",
    "        import traceback\n",
    "        print(\"\\nFull traceback:\")\n",
    "        traceback.print_exc()\n",
    "        discovery_success = False\n",
    "else:\n",
    "    discovery_success = False"
   ]
  },
  {
   "cell_type": "markdown",
   "metadata": {},
   "source": [
    "## Test 4: Specific Config Class Access"
   ]
  },
  {
   "cell_type": "code",
   "execution_count": 12,
   "metadata": {},
   "outputs": [
    {
     "name": "stdout",
     "output_type": "stream",
     "text": [
      "Testing access to specific config classes:\n",
      "  ❌ XGBoostTrainingConfig: Not found\n",
      "  ❌ TabularPreprocessingConfig: Not found\n",
      "  ❌ ProcessingStepConfigBase: Not found\n",
      "  ✅ ModelHyperparameters: <class 'src.cursus.core.base.hyperparameters_base.ModelHyperparameters'>\n",
      "     Fields: 16 defined\n",
      "  ❌ XGBoostModelHyperparameters: Not found\n"
     ]
    },
    {
     "name": "stderr",
     "output_type": "stream",
     "text": [
      "/tmp/ipykernel_13770/4091581072.py:21: PydanticDeprecatedSince20: The `__fields__` attribute is deprecated, use `model_fields` instead. Deprecated in Pydantic V2.0 to be removed in V3.0. See Pydantic V2 Migration Guide at https://errors.pydantic.dev/2.11/migration/\n",
      "  fields = getattr(class_type, 'model_fields', getattr(class_type, '__fields__', {}))\n"
     ]
    }
   ],
   "source": [
    "if discovery_success:\n",
    "    try:\n",
    "        # Test accessing specific config classes (updated with correct names)\n",
    "        test_classes = [\n",
    "            'XGBoostTrainingConfig',  # Correct name (not XGBoostTrainingStepConfig)\n",
    "            'TabularPreprocessingConfig',  # Correct name (not TabularPreprocessingStepConfig)\n",
    "            'ProcessingStepConfigBase',  # This one was correct\n",
    "            'ModelHyperparameters',  # Base hyperparameter class that was discovered\n",
    "            'XGBoostModelHyperparameters'  # Derived hyperparameter class (has relative imports)\n",
    "        ]\n",
    "        \n",
    "        print(\"Testing access to specific config classes:\")\n",
    "        for class_name in test_classes:\n",
    "            if class_name in config_classes:\n",
    "                class_type = config_classes[class_name]\n",
    "                print(f\"  ✅ {class_name}: {class_type}\")\n",
    "                \n",
    "                # Try to inspect the class\n",
    "                try:\n",
    "                    # Use model_fields for Pydantic v2 compatibility\n",
    "                    fields = getattr(class_type, 'model_fields', getattr(class_type, '__fields__', {}))\n",
    "                    print(f\"     Fields: {len(fields)} defined\")\n",
    "                except:\n",
    "                    print(f\"     Could not inspect fields\")\n",
    "            else:\n",
    "                print(f\"  ❌ {class_name}: Not found\")\n",
    "        \n",
    "        access_success = True\n",
    "        \n",
    "    except Exception as e:\n",
    "        print(f\"❌ Failed to access specific config classes: {e}\")\n",
    "        access_success = False\n",
    "else:\n",
    "    access_success = False"
   ]
  },
  {
   "cell_type": "markdown",
   "metadata": {},
   "source": [
    "## Test 5: Import Strategy Analysis"
   ]
  },
  {
   "cell_type": "code",
   "execution_count": 13,
   "metadata": {},
   "outputs": [
    {
     "name": "stdout",
     "output_type": "stream",
     "text": [
      "Testing different import strategies:\n",
      "  ❌ Strategy 1 (src.cursus.core...): FAILED - No module named 'src.cursus.core.config_fields.config_class_store'\n",
      "  ❌ Strategy 2 (cursus.core...): FAILED - No module named 'cursus'\n",
      "\n",
      "Cursus-related modules in sys.modules: 214\n",
      "  - src.cursus\n",
      "  - src.cursus.api\n",
      "  - src.cursus.api.dag\n",
      "  - src.cursus.api.dag.base_dag\n",
      "  - src.cursus.api.dag.edge_types\n",
      "  - src.cursus.api.dag.enhanced_dag\n",
      "  - src.cursus.api.dag.workspace_dag\n",
      "  - src.cursus.core\n",
      "  - src.cursus.core.assembler\n",
      "  - src.cursus.core.assembler.pipeline_assembler\n",
      "  ... and 204 more\n"
     ]
    }
   ],
   "source": [
    "# Test different import strategies to understand what works\n",
    "print(\"Testing different import strategies:\")\n",
    "\n",
    "# Strategy 1: Direct relative import (what currently fails)\n",
    "try:\n",
    "    from src.cursus.core.config_fields.config_class_store import ConfigClassStore\n",
    "    print(\"  ✅ Strategy 1 (src.cursus.core...): SUCCESS\")\n",
    "except ImportError as e:\n",
    "    print(f\"  ❌ Strategy 1 (src.cursus.core...): FAILED - {e}\")\n",
    "\n",
    "# Strategy 2: Package-style import\n",
    "try:\n",
    "    from cursus.core.config_fields.config_class_store import ConfigClassStore\n",
    "    print(\"  ✅ Strategy 2 (cursus.core...): SUCCESS\")\n",
    "except ImportError as e:\n",
    "    print(f\"  ❌ Strategy 2 (cursus.core...): FAILED - {e}\")\n",
    "\n",
    "# Strategy 3: Check if cursus is in sys.modules\n",
    "cursus_modules = [name for name in sys.modules.keys() if 'cursus' in name]\n",
    "print(f\"\\nCursus-related modules in sys.modules: {len(cursus_modules)}\")\n",
    "for module in sorted(cursus_modules)[:10]:  # Show first 10\n",
    "    print(f\"  - {module}\")\n",
    "if len(cursus_modules) > 10:\n",
    "    print(f\"  ... and {len(cursus_modules) - 10} more\")"
   ]
  },
  {
   "cell_type": "markdown",
   "metadata": {},
   "source": [
    "## Test Summary"
   ]
  },
  {
   "cell_type": "code",
   "execution_count": 14,
   "metadata": {},
   "outputs": [
    {
     "name": "stdout",
     "output_type": "stream",
     "text": [
      "============================================================\n",
      "TEST SUMMARY\n",
      "============================================================\n",
      "StepCatalog Import............ ✅ SUCCESS\n",
      "StepCatalog Initialization.... ✅ SUCCESS\n",
      "Config Class Discovery........ ✅ SUCCESS\n",
      "Specific Class Access......... ✅ SUCCESS\n",
      "\n",
      "Total config classes discovered: 1\n",
      "Expected: 16+ (from src/cursus/steps/configs/)\n",
      "⚠️  DISCOVERY COUNT: PARTIAL (significant classes missing)\n",
      "\n",
      "============================================================\n",
      "Environment Info:\n",
      "Python version: 3.10.18 | packaged by conda-forge | (main, Jun  4 2025, 14:45:41) [GCC 13.3.0]\n",
      "Working directory: /home/ec2-user/SageMaker/Cursus/demo\n",
      "Project root in sys.path: True\n",
      "\n",
      "============================================================\n",
      "ANALYSIS: Root Cause Validation\n",
      "============================================================\n",
      "🎯 HYPOTHESIS: Relative imports cause deployment portability failure\n",
      "✅ ModelHyperparameters works (no relative imports)\n",
      "❓ XGBoostModelHyperparameters test (has relative imports)\n",
      "❌ SUBMODULE MODE: Classes with relative imports should fail\n",
      "🔧 SOLUTION: Fix relative imports or implement multi-strategy import system\n"
     ]
    }
   ],
   "source": [
    "print(\"=\" * 60)\n",
    "print(\"TEST SUMMARY\")\n",
    "print(\"=\" * 60)\n",
    "\n",
    "results = {\n",
    "    \"StepCatalog Import\": \"✅ SUCCESS\" if import_success else \"❌ FAILED\",\n",
    "    \"StepCatalog Initialization\": \"✅ SUCCESS\" if catalog_success else \"❌ FAILED\", \n",
    "    \"Config Class Discovery\": \"✅ SUCCESS\" if discovery_success else \"❌ FAILED\",\n",
    "    \"Specific Class Access\": \"✅ SUCCESS\" if access_success else \"❌ FAILED\"\n",
    "}\n",
    "\n",
    "for test_name, result in results.items():\n",
    "    print(f\"{test_name:.<30} {result}\")\n",
    "\n",
    "if discovery_success:\n",
    "    print(f\"\\nTotal config classes discovered: {len(config_classes)}\")\n",
    "    print(f\"Expected: 16+ (from src/cursus/steps/configs/)\")\n",
    "    \n",
    "    if len(config_classes) >= 16:\n",
    "        print(\"🎉 DISCOVERY COUNT: EXCELLENT\")\n",
    "    elif len(config_classes) >= 10:\n",
    "        print(\"⚠️  DISCOVERY COUNT: GOOD (but missing some classes)\")\n",
    "    elif len(config_classes) >= 1:\n",
    "        print(\"⚠️  DISCOVERY COUNT: PARTIAL (significant classes missing)\")\n",
    "    else:\n",
    "        print(\"❌ DISCOVERY COUNT: FAILED (no classes found)\")\n",
    "\n",
    "print(\"\\n\" + \"=\" * 60)\n",
    "print(\"Environment Info:\")\n",
    "print(f\"Python version: {sys.version}\")\n",
    "print(f\"Working directory: {Path.cwd()}\")\n",
    "print(f\"Project root in sys.path: {str(project_root) in sys.path}\")\n",
    "\n",
    "# Additional analysis of the ConfigClassStore import issue\n",
    "if discovery_success:\n",
    "    print(\"\\n\" + \"=\" * 60)\n",
    "    print(\"ANALYSIS: Root Cause Validation\")\n",
    "    print(\"=\" * 60)\n",
    "    print(\"🎯 HYPOTHESIS: Relative imports cause deployment portability failure\")\n",
    "    print(\"✅ ModelHyperparameters works (no relative imports)\")\n",
    "    print(\"❓ XGBoostModelHyperparameters test (has relative imports)\")\n",
    "    if cursus_installed:\n",
    "        print(\"✅ INSTALLED MODE: All classes work due to proper package structure\")\n",
    "    else:\n",
    "        print(\"❌ SUBMODULE MODE: Classes with relative imports should fail\")\n",
    "    print(\"🔧 SOLUTION: Fix relative imports or implement multi-strategy import system\")"
   ]
  },
  {
   "cell_type": "code",
   "execution_count": null,
   "metadata": {},
   "outputs": [],
   "source": []
  },
  {
   "cell_type": "code",
   "execution_count": null,
   "metadata": {},
   "outputs": [],
   "source": []
  }
 ],
 "metadata": {
  "kernelspec": {
   "display_name": "base",
   "language": "python",
   "name": "python3"
  },
  "language_info": {
   "codemirror_mode": {
    "name": "ipython",
    "version": 3
   },
   "file_extension": ".py",
   "mimetype": "text/x-python",
   "name": "python",
   "nbconvert_exporter": "python",
   "pygments_lexer": "ipython3",
   "version": "3.12.7"
  }
 },
 "nbformat": 4,
 "nbformat_minor": 4
}
