{
 "cells": [
  {
   "cell_type": "markdown",
   "metadata": {},
   "source": [
    "# Step Catalog Discovery Test\n",
    "\n",
    "This notebook tests whether the StepCatalog can successfully discover configuration classes under `src/cursus/steps/configs`.\n",
    "\n",
    "**Expected Results:**\n",
    "- Should find 16+ config classes from `src/cursus/steps/configs/`\n",
    "- Should work in both installed and submodule environments\n",
    "\n",
    "**Test Environments:**\n",
    "1. **Installed Environment**: cursus installed via `pip install -e .`\n",
    "2. **Submodule Environment**: cursus used as submodule with sys.path setup"
   ]
  },
  {
   "cell_type": "markdown",
   "metadata": {},
   "source": [
    "## Setup and Imports"
   ]
  },
  {
   "cell_type": "code",
   "execution_count": null,
   "metadata": {},
   "outputs": [],
   "source": [
    "import sys\n",
    "import os\n",
    "from pathlib import Path\n",
    "\n",
    "# Add project root to Python path for submodule usage\n",
    "project_root = Path.cwd().parent\n",
    "if str(project_root) not in sys.path:\n",
    "    sys.path.insert(0, str(project_root))\n",
    "\n",
    "print(f\"Project root: {project_root}\")\n",
    "print(f\"Current working directory: {Path.cwd()}\")\n",
    "print(f\"Python path includes project root: {str(project_root) in sys.path}\")\n",
    "\n",
    "# Check if cursus is installed as a package\n",
    "try:\n",
    "    import cursus\n",
    "    print(f\"\\n✅ Cursus is INSTALLED as package\")\n",
    "    print(f\"Cursus package location: {cursus.__file__}\")\n",
    "    cursus_installed = True\n",
    "except ImportError:\n",
    "    print(f\"\\n❌ Cursus is NOT installed as package (pure submodule mode)\")\n",
    "    cursus_installed = False"
   ]
  },
  {
   "cell_type": "markdown",
   "metadata": {},
   "source": [
    "## Test 1: Basic StepCatalog Import"
   ]
  },
  {
   "cell_type": "code",
   "execution_count": null,
   "metadata": {},
   "outputs": [],
   "source": [
    "try:\n",
    "    from src.cursus.step_catalog.step_catalog import StepCatalog\n",
    "    print(\"✅ Successfully imported StepCatalog\")\n",
    "    import_success = True\n",
    "except ImportError as e:\n",
    "    print(f\"❌ Failed to import StepCatalog: {e}\")\n",
    "    import_success = False"
   ]
  },
  {
   "cell_type": "markdown",
   "metadata": {},
   "source": [
    "## Test 2: StepCatalog Initialization"
   ]
  },
  {
   "cell_type": "code",
   "execution_count": null,
   "metadata": {},
   "outputs": [],
   "source": [
    "if import_success:\n",
    "    try:\n",
    "        # Initialize StepCatalog\n",
    "        catalog = StepCatalog()\n",
    "        print(\"✅ Successfully initialized StepCatalog\")\n",
    "        \n",
    "        # Check package root detection\n",
    "        print(f\"Package root detected: {catalog.package_root}\")\n",
    "        print(f\"Package root exists: {catalog.package_root.exists()}\")\n",
    "        \n",
    "        # Check if steps/configs directory is found\n",
    "        configs_dir = catalog.package_root / \"steps\" / \"configs\"\n",
    "        print(f\"Configs directory: {configs_dir}\")\n",
    "        print(f\"Configs directory exists: {configs_dir.exists()}\")\n",
    "        \n",
    "        if configs_dir.exists():\n",
    "            config_files = list(configs_dir.glob(\"*.py\"))\n",
    "            print(f\"Found {len(config_files)} Python files in configs directory\")\n",
    "            for f in config_files[:5]:  # Show first 5\n",
    "                print(f\"  - {f.name}\")\n",
    "            if len(config_files) > 5:\n",
    "                print(f\"  ... and {len(config_files) - 5} more\")\n",
    "        \n",
    "        catalog_success = True\n",
    "    except Exception as e:\n",
    "        print(f\"❌ Failed to initialize StepCatalog: {e}\")\n",
    "        catalog_success = False\n",
    "else:\n",
    "    catalog_success = False"
   ]
  },
  {
   "cell_type": "markdown",
   "metadata": {},
   "source": [
    "## Test 3: Configuration Class Discovery"
   ]
  },
  {
   "cell_type": "code",
   "execution_count": null,
   "metadata": {},
   "outputs": [],
   "source": [
    "if catalog_success:\n",
    "    try:\n",
    "        # Test configuration class discovery\n",
    "        print(\"Testing configuration class discovery...\")\n",
    "        \n",
    "        # Get all discovered config classes using the correct method\n",
    "        config_classes = catalog.build_complete_config_classes()\n",
    "        print(f\"\\n✅ Successfully discovered {len(config_classes)} config classes:\")\n",
    "        \n",
    "        # Display discovered classes\n",
    "        for class_name, class_type in sorted(config_classes.items()):\n",
    "            module_name = getattr(class_type, '__module__', 'unknown')\n",
    "            print(f\"  - {class_name} (from {module_name})\")\n",
    "        \n",
    "        discovery_success = True\n",
    "        \n",
    "    except Exception as e:\n",
    "        print(f\"❌ Failed to discover config classes: {e}\")\n",
    "        print(f\"Error type: {type(e).__name__}\")\n",
    "        import traceback\n",
    "        print(\"\\nFull traceback:\")\n",
    "        traceback.print_exc()\n",
    "        discovery_success = False\n",
    "else:\n",
    "    discovery_success = False"
   ]
  },
  {
   "cell_type": "markdown",
   "metadata": {},
   "source": [
    "## Test 4: Specific Config Class Access"
   ]
  },
  {
   "cell_type": "code",
   "execution_count": null,
   "metadata": {},
   "outputs": [],
   "source": [
    "if discovery_success:\n",
    "    try:\n",
    "        # Test accessing specific config classes (updated with correct names)\n",
    "        test_classes = [\n",
    "            'XGBoostTrainingConfig',  # Correct name (not XGBoostTrainingStepConfig)\n",
    "            'TabularPreprocessingConfig',  # Correct name (not TabularPreprocessingStepConfig)\n",
    "            'ProcessingStepConfigBase',  # This one was correct\n",
    "            'ModelHyperparameters',  # Base hyperparameter class that was discovered\n",
    "            'XGBoostModelHyperparameters'  # Derived hyperparameter class (has relative imports)\n",
    "        ]\n",
    "        \n",
    "        print(\"Testing access to specific config classes:\")\n",
    "        for class_name in test_classes:\n",
    "            if class_name in config_classes:\n",
    "                class_type = config_classes[class_name]\n",
    "                print(f\"  ✅ {class_name}: {class_type}\")\n",
    "                \n",
    "                # Try to inspect the class\n",
    "                try:\n",
    "                    # Use model_fields for Pydantic v2 compatibility\n",
    "                    fields = getattr(class_type, 'model_fields', getattr(class_type, '__fields__', {}))\n",
    "                    print(f\"     Fields: {len(fields)} defined\")\n",
    "                except:\n",
    "                    print(f\"     Could not inspect fields\")\n",
    "            else:\n",
    "                print(f\"  ❌ {class_name}: Not found\")\n",
    "        \n",
    "        access_success = True\n",
    "        \n",
    "    except Exception as e:\n",
    "        print(f\"❌ Failed to access specific config classes: {e}\")\n",
    "        access_success = False\n",
    "else:\n",
    "    access_success = False"
   ]
  },
  {
   "cell_type": "markdown",
   "metadata": {},
   "source": [
    "## Test 5: Import Strategy Analysis"
   ]
  },
  {
   "cell_type": "code",
   "execution_count": null,
   "metadata": {},
   "outputs": [],
   "source": [
    "# Test different import strategies to understand what works\n",
    "print(\"Testing different import strategies:\")\n",
    "\n",
    "# Strategy 1: Direct relative import (what currently fails)\n",
    "try:\n",
    "    from src.cursus.core.config_fields.config_class_store import ConfigClassStore\n",
    "    print(\"  ✅ Strategy 1 (src.cursus.core...): SUCCESS\")\n",
    "except ImportError as e:\n",
    "    print(f\"  ❌ Strategy 1 (src.cursus.core...): FAILED - {e}\")\n",
    "\n",
    "# Strategy 2: Package-style import\n",
    "try:\n",
    "    from cursus.core.config_fields.config_class_store import ConfigClassStore\n",
    "    print(\"  ✅ Strategy 2 (cursus.core...): SUCCESS\")\n",
    "except ImportError as e:\n",
    "    print(f\"  ❌ Strategy 2 (cursus.core...): FAILED - {e}\")\n",
    "\n",
    "# Strategy 3: Check if cursus is in sys.modules\n",
    "cursus_modules = [name for name in sys.modules.keys() if 'cursus' in name]\n",
    "print(f\"\\nCursus-related modules in sys.modules: {len(cursus_modules)}\")\n",
    "for module in sorted(cursus_modules)[:10]:  # Show first 10\n",
    "    print(f\"  - {module}\")\n",
    "if len(cursus_modules) > 10:\n",
    "    print(f\"  ... and {len(cursus_modules) - 10} more\")"
   ]
  },
  {
   "cell_type": "markdown",
   "metadata": {},
   "source": [
    "## Test Summary"
   ]
  },
  {
   "cell_type": "code",
   "execution_count": null,
   "metadata": {},
   "outputs": [],
   "source": [
    "print(\"=\" * 60)\n",
    "print(\"TEST SUMMARY\")\n",
    "print(\"=\" * 60)\n",
    "\n",
    "results = {\n",
    "    \"StepCatalog Import\": \"✅ SUCCESS\" if import_success else \"❌ FAILED\",\n",
    "    \"StepCatalog Initialization\": \"✅ SUCCESS\" if catalog_success else \"❌ FAILED\", \n",
    "    \"Config Class Discovery\": \"✅ SUCCESS\" if discovery_success else \"❌ FAILED\",\n",
    "    \"Specific Class Access\": \"✅ SUCCESS\" if access_success else \"❌ FAILED\"\n",
    "}\n",
    "\n",
    "for test_name, result in results.items():\n",
    "    print(f\"{test_name:.<30} {result}\")\n",
    "\n",
    "if discovery_success:\n",
    "    print(f\"\\nTotal config classes discovered: {len(config_classes)}\")\n",
    "    print(f\"Expected: 16+ (from src/cursus/steps/configs/)\")\n",
    "    \n",
    "    if len(config_classes) >= 16:\n",
    "        print(\"🎉 DISCOVERY COUNT: EXCELLENT\")\n",
    "    elif len(config_classes) >= 10:\n",
    "        print(\"⚠️  DISCOVERY COUNT: GOOD (but missing some classes)\")\n",
    "    elif len(config_classes) >= 1:\n",
    "        print(\"⚠️  DISCOVERY COUNT: PARTIAL (significant classes missing)\")\n",
    "    else:\n",
    "        print(\"❌ DISCOVERY COUNT: FAILED (no classes found)\")\n",
    "\n",
    "print(\"\\n\" + \"=\" * 60)\n",
    "print(\"Environment Info:\")\n",
    "print(f\"Python version: {sys.version}\")\n",
    "print(f\"Working directory: {Path.cwd()}\")\n",
    "print(f\"Project root in sys.path: {str(project_root) in sys.path}\")\n",
    "\n",
    "# Additional analysis of the ConfigClassStore import issue\n",
    "if discovery_success:\n",
    "    print(\"\\n\" + \"=\" * 60)\n",
    "    print(\"ANALYSIS: Root Cause Validation\")\n",
    "    print(\"=\" * 60)\n",
    "    print(\"🎯 HYPOTHESIS: Relative imports cause deployment portability failure\")\n",
    "    print(\"✅ ModelHyperparameters works (no relative imports)\")\n",
    "    print(\"❓ XGBoostModelHyperparameters test (has relative imports)\")\n",
    "    if cursus_installed:\n",
    "        print(\"✅ INSTALLED MODE: All classes work due to proper package structure\")\n",
    "    else:\n",
    "        print(\"❌ SUBMODULE MODE: Classes with relative imports should fail\")\n",
    "    print(\"🔧 SOLUTION: Fix relative imports or implement multi-strategy import system\")"
   ]
  },
  {
   "cell_type": "code",
   "execution_count": null,
   "metadata": {},
   "outputs": [],
   "source": []
  },
  {
   "cell_type": "code",
   "execution_count": null,
   "metadata": {},
   "outputs": [],
   "source": []
  }
 ],
 "metadata": {
  "kernelspec": {
   "display_name": "Python 3",
   "language": "python",
   "name": "python3"
  },
  "language_info": {
   "codemirror_mode": {
    "name": "ipython",
    "version": 3
   },
   "file_extension": ".py",
   "mimetype": "text/x-python",
   "name": "python",
   "nbconvert_exporter": "python",
   "pygments_lexer": "ipython3",
   "version": "3.8.0"
  }
 },
 "nbformat": 4,
 "nbformat_minor": 4
}
